{
 "cells": [
  {
   "cell_type": "code",
   "execution_count": 1,
   "metadata": {},
   "outputs": [],
   "source": [
    "import pandas as pd"
   ]
  },
  {
   "cell_type": "markdown",
   "metadata": {},
   "source": [
    "# YJ 데이터"
   ]
  },
  {
   "cell_type": "code",
   "execution_count": 2,
   "metadata": {},
   "outputs": [],
   "source": [
    "def total(total_place_csv,total_place2_csv ):\n",
    "    total_place = pd.read_csv(total_place_csv) # 주요시설\n",
    "    total_place2 = pd.read_csv(total_place2_csv) # 음식점 \n",
    "    total_place = total_place.append(total_place2)\n",
    "    total_place.drop('Unnamed: 0' , axis=1, inplace=True)\n",
    "    total_place.reset_index(inplace=True)\n",
    "    total_place.drop('index', axis=1 , inplace=True)\n",
    "    return total_place"
   ]
  },
  {
   "cell_type": "code",
   "execution_count": 23,
   "metadata": {},
   "outputs": [],
   "source": [
    "yj_total_place = pd.read_csv('yj_main_dish_place/total_place.csv')"
   ]
  },
  {
   "cell_type": "code",
   "execution_count": 24,
   "metadata": {},
   "outputs": [
    {
     "data": {
      "text/html": [
       "<div>\n",
       "<style scoped>\n",
       "    .dataframe tbody tr th:only-of-type {\n",
       "        vertical-align: middle;\n",
       "    }\n",
       "\n",
       "    .dataframe tbody tr th {\n",
       "        vertical-align: top;\n",
       "    }\n",
       "\n",
       "    .dataframe thead th {\n",
       "        text-align: right;\n",
       "    }\n",
       "</style>\n",
       "<table border=\"1\" class=\"dataframe\">\n",
       "  <thead>\n",
       "    <tr style=\"text-align: right;\">\n",
       "      <th></th>\n",
       "      <th>Unnamed: 0</th>\n",
       "      <th>place_name</th>\n",
       "      <th>place_address</th>\n",
       "      <th>lat</th>\n",
       "      <th>lon</th>\n",
       "      <th>category</th>\n",
       "      <th>place_id</th>\n",
       "    </tr>\n",
       "  </thead>\n",
       "  <tbody>\n",
       "    <tr>\n",
       "      <th>0</th>\n",
       "      <td>0</td>\n",
       "      <td>A아트홀(구.신연아트홀)</td>\n",
       "      <td>서울특별시 종로구 동숭동 1-37</td>\n",
       "      <td>37.583269</td>\n",
       "      <td>127.002443</td>\n",
       "      <td>movie/concerthall</td>\n",
       "      <td>10000</td>\n",
       "    </tr>\n",
       "    <tr>\n",
       "      <th>1</th>\n",
       "      <td>1</td>\n",
       "      <td>BBC씨어터</td>\n",
       "      <td>서울특별시 강남구 신사동  568-2</td>\n",
       "      <td>37.523930</td>\n",
       "      <td>127.025143</td>\n",
       "      <td>movie/concerthall</td>\n",
       "      <td>10001</td>\n",
       "    </tr>\n",
       "    <tr>\n",
       "      <th>2</th>\n",
       "      <td>2</td>\n",
       "      <td>BREAK OUT 전용극장</td>\n",
       "      <td>서울특별시 종로구 관철동 33-1</td>\n",
       "      <td>37.568835</td>\n",
       "      <td>126.988123</td>\n",
       "      <td>movie/concerthall</td>\n",
       "      <td>10002</td>\n",
       "    </tr>\n",
       "    <tr>\n",
       "      <th>3</th>\n",
       "      <td>3</td>\n",
       "      <td>BYRDS(버즈)</td>\n",
       "      <td>서울특별시 마포구 와우산로 51</td>\n",
       "      <td>37.549100</td>\n",
       "      <td>126.922860</td>\n",
       "      <td>movie/concerthall</td>\n",
       "      <td>10003</td>\n",
       "    </tr>\n",
       "    <tr>\n",
       "      <th>4</th>\n",
       "      <td>4</td>\n",
       "      <td>Between the Bars</td>\n",
       "      <td>서울특별시 마포구 어울마당로 114</td>\n",
       "      <td>37.554833</td>\n",
       "      <td>126.923213</td>\n",
       "      <td>movie/concerthall</td>\n",
       "      <td>10004</td>\n",
       "    </tr>\n",
       "  </tbody>\n",
       "</table>\n",
       "</div>"
      ],
      "text/plain": [
       "   Unnamed: 0        place_name         place_address        lat         lon  \\\n",
       "0           0     A아트홀(구.신연아트홀)    서울특별시 종로구 동숭동 1-37  37.583269  127.002443   \n",
       "1           1            BBC씨어터  서울특별시 강남구 신사동  568-2  37.523930  127.025143   \n",
       "2           2    BREAK OUT 전용극장    서울특별시 종로구 관철동 33-1  37.568835  126.988123   \n",
       "3           3         BYRDS(버즈)     서울특별시 마포구 와우산로 51  37.549100  126.922860   \n",
       "4           4  Between the Bars   서울특별시 마포구 어울마당로 114  37.554833  126.923213   \n",
       "\n",
       "            category  place_id  \n",
       "0  movie/concerthall     10000  \n",
       "1  movie/concerthall     10001  \n",
       "2  movie/concerthall     10002  \n",
       "3  movie/concerthall     10003  \n",
       "4  movie/concerthall     10004  "
      ]
     },
     "execution_count": 24,
     "metadata": {},
     "output_type": "execute_result"
    }
   ],
   "source": [
    "yj_total_place.head() # 영준 제 1 테이블"
   ]
  },
  {
   "cell_type": "code",
   "execution_count": 63,
   "metadata": {},
   "outputs": [
    {
     "name": "stdout",
     "output_type": "stream",
     "text": [
      "<class 'pandas.core.frame.DataFrame'>\n",
      "RangeIndex: 17604 entries, 0 to 17603\n",
      "Data columns (total 6 columns):\n",
      "Unnamed: 0                 17604 non-null int64\n",
      "facility_available_name    17604 non-null object\n",
      "facility_is_available      17604 non-null object\n",
      "place_name                 17604 non-null object\n",
      "place_id                   17604 non-null int64\n",
      "facility_id                17604 non-null int64\n",
      "dtypes: int64(3), object(3)\n",
      "memory usage: 825.3+ KB\n"
     ]
    }
   ],
   "source": [
    "yj_total_place_facility_available.info()"
   ]
  },
  {
   "cell_type": "code",
   "execution_count": 3,
   "metadata": {},
   "outputs": [],
   "source": [
    "yj_total_place_facility_available = pd.read_csv('yj_main_dish_place/total_place_facility_available.csv')"
   ]
  },
  {
   "cell_type": "code",
   "execution_count": 4,
   "metadata": {},
   "outputs": [],
   "source": [
    "yj_total_place_facility_detail_info = pd.read_csv('yj_main_dish_place/total_place_facility_detail_info.csv')"
   ]
  },
  {
   "cell_type": "code",
   "execution_count": 5,
   "metadata": {},
   "outputs": [
    {
     "data": {
      "text/html": [
       "<div>\n",
       "<style scoped>\n",
       "    .dataframe tbody tr th:only-of-type {\n",
       "        vertical-align: middle;\n",
       "    }\n",
       "\n",
       "    .dataframe tbody tr th {\n",
       "        vertical-align: top;\n",
       "    }\n",
       "\n",
       "    .dataframe thead th {\n",
       "        text-align: right;\n",
       "    }\n",
       "</style>\n",
       "<table border=\"1\" class=\"dataframe\">\n",
       "  <thead>\n",
       "    <tr style=\"text-align: right;\">\n",
       "      <th></th>\n",
       "      <th>Unnamed: 0</th>\n",
       "      <th>facility_available_name</th>\n",
       "      <th>facility_is_available</th>\n",
       "      <th>place_name</th>\n",
       "      <th>place_id</th>\n",
       "      <th>facility_id</th>\n",
       "    </tr>\n",
       "  </thead>\n",
       "  <tbody>\n",
       "    <tr>\n",
       "      <th>0</th>\n",
       "      <td>0</td>\n",
       "      <td>주출입구 접근로</td>\n",
       "      <td>이용불편</td>\n",
       "      <td>A아트홀(구.신연아트홀)</td>\n",
       "      <td>0</td>\n",
       "      <td>100000</td>\n",
       "    </tr>\n",
       "    <tr>\n",
       "      <th>1</th>\n",
       "      <td>1</td>\n",
       "      <td>주출입구 높이차이 제거</td>\n",
       "      <td>이용가능</td>\n",
       "      <td>A아트홀(구.신연아트홀)</td>\n",
       "      <td>0</td>\n",
       "      <td>100001</td>\n",
       "    </tr>\n",
       "    <tr>\n",
       "      <th>2</th>\n",
       "      <td>2</td>\n",
       "      <td>주출입구 접근로</td>\n",
       "      <td>이용가능</td>\n",
       "      <td>BBC씨어터</td>\n",
       "      <td>1</td>\n",
       "      <td>100002</td>\n",
       "    </tr>\n",
       "    <tr>\n",
       "      <th>3</th>\n",
       "      <td>3</td>\n",
       "      <td>장애인 전용 주차구역</td>\n",
       "      <td>이용가능</td>\n",
       "      <td>BBC씨어터</td>\n",
       "      <td>1</td>\n",
       "      <td>100003</td>\n",
       "    </tr>\n",
       "    <tr>\n",
       "      <th>4</th>\n",
       "      <td>4</td>\n",
       "      <td>주출입구 높이차이 제거</td>\n",
       "      <td>이용가능</td>\n",
       "      <td>BBC씨어터</td>\n",
       "      <td>1</td>\n",
       "      <td>100004</td>\n",
       "    </tr>\n",
       "  </tbody>\n",
       "</table>\n",
       "</div>"
      ],
      "text/plain": [
       "   Unnamed: 0 facility_available_name facility_is_available     place_name  \\\n",
       "0           0                주출입구 접근로                  이용불편  A아트홀(구.신연아트홀)   \n",
       "1           1            주출입구 높이차이 제거                  이용가능  A아트홀(구.신연아트홀)   \n",
       "2           2                주출입구 접근로                  이용가능         BBC씨어터   \n",
       "3           3             장애인 전용 주차구역                  이용가능         BBC씨어터   \n",
       "4           4            주출입구 높이차이 제거                  이용가능         BBC씨어터   \n",
       "\n",
       "   place_id  facility_id  \n",
       "0         0       100000  \n",
       "1         0       100001  \n",
       "2         1       100002  \n",
       "3         1       100003  \n",
       "4         1       100004  "
      ]
     },
     "execution_count": 5,
     "metadata": {},
     "output_type": "execute_result"
    }
   ],
   "source": [
    "yj_total_place_facility_available.head() # 영준 제 2 테이블"
   ]
  },
  {
   "cell_type": "code",
   "execution_count": 6,
   "metadata": {},
   "outputs": [
    {
     "data": {
      "text/html": [
       "<div>\n",
       "<style scoped>\n",
       "    .dataframe tbody tr th:only-of-type {\n",
       "        vertical-align: middle;\n",
       "    }\n",
       "\n",
       "    .dataframe tbody tr th {\n",
       "        vertical-align: top;\n",
       "    }\n",
       "\n",
       "    .dataframe thead th {\n",
       "        text-align: right;\n",
       "    }\n",
       "</style>\n",
       "<table border=\"1\" class=\"dataframe\">\n",
       "  <thead>\n",
       "    <tr style=\"text-align: right;\">\n",
       "      <th></th>\n",
       "      <th>Unnamed: 0</th>\n",
       "      <th>facility_detail_info</th>\n",
       "      <th>facility_available_name</th>\n",
       "      <th>facility_id</th>\n",
       "    </tr>\n",
       "  </thead>\n",
       "  <tbody>\n",
       "    <tr>\n",
       "      <th>0</th>\n",
       "      <td>0</td>\n",
       "      <td>평탄함</td>\n",
       "      <td>주출입구 접근로</td>\n",
       "      <td>100000</td>\n",
       "    </tr>\n",
       "    <tr>\n",
       "      <th>1</th>\n",
       "      <td>1</td>\n",
       "      <td>단차없음</td>\n",
       "      <td>주출입구 접근로</td>\n",
       "      <td>100000</td>\n",
       "    </tr>\n",
       "    <tr>\n",
       "      <th>2</th>\n",
       "      <td>2</td>\n",
       "      <td>기울기 1/18~1/12이하</td>\n",
       "      <td>주출입구 접근로</td>\n",
       "      <td>100000</td>\n",
       "    </tr>\n",
       "    <tr>\n",
       "      <th>3</th>\n",
       "      <td>3</td>\n",
       "      <td>보/차도 구분</td>\n",
       "      <td>주출입구 접근로</td>\n",
       "      <td>100000</td>\n",
       "    </tr>\n",
       "    <tr>\n",
       "      <th>4</th>\n",
       "      <td>4</td>\n",
       "      <td>상세정보 없음</td>\n",
       "      <td>주출입구 높이차이 제거</td>\n",
       "      <td>100001</td>\n",
       "    </tr>\n",
       "  </tbody>\n",
       "</table>\n",
       "</div>"
      ],
      "text/plain": [
       "   Unnamed: 0 facility_detail_info facility_available_name  facility_id\n",
       "0           0                  평탄함                주출입구 접근로       100000\n",
       "1           1                 단차없음                주출입구 접근로       100000\n",
       "2           2      기울기 1/18~1/12이하                주출입구 접근로       100000\n",
       "3           3              보/차도 구분                주출입구 접근로       100000\n",
       "4           4              상세정보 없음            주출입구 높이차이 제거       100001"
      ]
     },
     "execution_count": 6,
     "metadata": {},
     "output_type": "execute_result"
    }
   ],
   "source": [
    "yj_total_place_facility_detail_info.head() # 영준 제 3 테이블"
   ]
  },
  {
   "cell_type": "code",
   "execution_count": null,
   "metadata": {},
   "outputs": [],
   "source": []
  },
  {
   "cell_type": "markdown",
   "metadata": {},
   "source": [
    "# HJ 데이터"
   ]
  },
  {
   "cell_type": "code",
   "execution_count": 8,
   "metadata": {},
   "outputs": [],
   "source": [
    "hj_place = pd.read_csv('place.csv') # HJ1번테이블"
   ]
  },
  {
   "cell_type": "code",
   "execution_count": 9,
   "metadata": {},
   "outputs": [
    {
     "data": {
      "text/html": [
       "<div>\n",
       "<style scoped>\n",
       "    .dataframe tbody tr th:only-of-type {\n",
       "        vertical-align: middle;\n",
       "    }\n",
       "\n",
       "    .dataframe tbody tr th {\n",
       "        vertical-align: top;\n",
       "    }\n",
       "\n",
       "    .dataframe thead th {\n",
       "        text-align: right;\n",
       "    }\n",
       "</style>\n",
       "<table border=\"1\" class=\"dataframe\">\n",
       "  <thead>\n",
       "    <tr style=\"text-align: right;\">\n",
       "      <th></th>\n",
       "      <th>Unnamed: 0</th>\n",
       "      <th>place_id</th>\n",
       "      <th>lat</th>\n",
       "      <th>lon</th>\n",
       "      <th>place_name</th>\n",
       "      <th>category</th>\n",
       "      <th>place_address</th>\n",
       "      <th>evalInfo</th>\n",
       "    </tr>\n",
       "  </thead>\n",
       "  <tbody>\n",
       "    <tr>\n",
       "      <th>0</th>\n",
       "      <td>0</td>\n",
       "      <td>20000</td>\n",
       "      <td>37.562726</td>\n",
       "      <td>127.032570</td>\n",
       "      <td>(구)왕십리클리닉빌딩</td>\n",
       "      <td>bank</td>\n",
       "      <td>서울특별시 성동구 왕십리로 333</td>\n",
       "      <td>계단 또는 승강설비,대변기,장애인전용주차구역,주출입구 높이차이 제거,주출입구 접근로...</td>\n",
       "    </tr>\n",
       "    <tr>\n",
       "      <th>1</th>\n",
       "      <td>1</td>\n",
       "      <td>20001</td>\n",
       "      <td>37.573937</td>\n",
       "      <td>126.983187</td>\n",
       "      <td>(재)대한불교계종유지재단</td>\n",
       "      <td>shopping/mart</td>\n",
       "      <td>서울특별시 종로구 우정국로 56</td>\n",
       "      <td>주출입구 높이차이 제거,주출입구 접근로,출입구(문)</td>\n",
       "    </tr>\n",
       "    <tr>\n",
       "      <th>2</th>\n",
       "      <td>2</td>\n",
       "      <td>20002</td>\n",
       "      <td>37.485282</td>\n",
       "      <td>126.931355</td>\n",
       "      <td>(주)관전인베스트먼트</td>\n",
       "      <td>tourist hotel</td>\n",
       "      <td>서울특별시 관악구 신림로64길29 (신림동)</td>\n",
       "      <td>객실 및 침실,계단 또는 승강설비,대변기,복도,세면대,소변기,일반사항,장애인전용주차...</td>\n",
       "    </tr>\n",
       "    <tr>\n",
       "      <th>3</th>\n",
       "      <td>3</td>\n",
       "      <td>20003</td>\n",
       "      <td>37.490768</td>\n",
       "      <td>126.982048</td>\n",
       "      <td>(주)대광메디텍</td>\n",
       "      <td>shopping/mart</td>\n",
       "      <td>서울특별시 동작구 동작대로35길 5</td>\n",
       "      <td>주출입구 높이차이 제거,주출입구 접근로,출입구(문)</td>\n",
       "    </tr>\n",
       "    <tr>\n",
       "      <th>4</th>\n",
       "      <td>4</td>\n",
       "      <td>20004</td>\n",
       "      <td>37.544932</td>\n",
       "      <td>126.910696</td>\n",
       "      <td>(주)동아일보사</td>\n",
       "      <td>bank</td>\n",
       "      <td>서울특별시 마포구 토정로 1</td>\n",
       "      <td>계단 또는 승강설비,대변기,일반사항,장애인전용주차구역,주출입구 높이차이 제거,주출입...</td>\n",
       "    </tr>\n",
       "  </tbody>\n",
       "</table>\n",
       "</div>"
      ],
      "text/plain": [
       "   Unnamed: 0  place_id        lat         lon     place_name       category  \\\n",
       "0           0     20000  37.562726  127.032570    (구)왕십리클리닉빌딩           bank   \n",
       "1           1     20001  37.573937  126.983187  (재)대한불교계종유지재단  shopping/mart   \n",
       "2           2     20002  37.485282  126.931355    (주)관전인베스트먼트  tourist hotel   \n",
       "3           3     20003  37.490768  126.982048       (주)대광메디텍  shopping/mart   \n",
       "4           4     20004  37.544932  126.910696       (주)동아일보사           bank   \n",
       "\n",
       "              place_address                                           evalInfo  \n",
       "0        서울특별시 성동구 왕십리로 333  계단 또는 승강설비,대변기,장애인전용주차구역,주출입구 높이차이 제거,주출입구 접근로...  \n",
       "1         서울특별시 종로구 우정국로 56                       주출입구 높이차이 제거,주출입구 접근로,출입구(문)  \n",
       "2  서울특별시 관악구 신림로64길29 (신림동)  객실 및 침실,계단 또는 승강설비,대변기,복도,세면대,소변기,일반사항,장애인전용주차...  \n",
       "3       서울특별시 동작구 동작대로35길 5                       주출입구 높이차이 제거,주출입구 접근로,출입구(문)  \n",
       "4           서울특별시 마포구 토정로 1  계단 또는 승강설비,대변기,일반사항,장애인전용주차구역,주출입구 높이차이 제거,주출입...  "
      ]
     },
     "execution_count": 9,
     "metadata": {},
     "output_type": "execute_result"
    }
   ],
   "source": [
    "hj_place.head()"
   ]
  },
  {
   "cell_type": "code",
   "execution_count": 10,
   "metadata": {},
   "outputs": [],
   "source": [
    "hj_place_facility_available = pd.read_csv('facility_available.csv')  # HJ 2번테이블"
   ]
  },
  {
   "cell_type": "code",
   "execution_count": 11,
   "metadata": {},
   "outputs": [
    {
     "data": {
      "text/html": [
       "<div>\n",
       "<style scoped>\n",
       "    .dataframe tbody tr th:only-of-type {\n",
       "        vertical-align: middle;\n",
       "    }\n",
       "\n",
       "    .dataframe tbody tr th {\n",
       "        vertical-align: top;\n",
       "    }\n",
       "\n",
       "    .dataframe thead th {\n",
       "        text-align: right;\n",
       "    }\n",
       "</style>\n",
       "<table border=\"1\" class=\"dataframe\">\n",
       "  <thead>\n",
       "    <tr style=\"text-align: right;\">\n",
       "      <th></th>\n",
       "      <th>Unnamed: 0</th>\n",
       "      <th>facility_id</th>\n",
       "      <th>facillity_available_name</th>\n",
       "      <th>facility_is_available</th>\n",
       "      <th>place_name</th>\n",
       "      <th>place_id</th>\n",
       "    </tr>\n",
       "  </thead>\n",
       "  <tbody>\n",
       "    <tr>\n",
       "      <th>0</th>\n",
       "      <td>0</td>\n",
       "      <td>200000</td>\n",
       "      <td>계단 또는 승강설비</td>\n",
       "      <td>None</td>\n",
       "      <td>(구)왕십리클리닉빌딩</td>\n",
       "      <td>20000</td>\n",
       "    </tr>\n",
       "    <tr>\n",
       "      <th>1</th>\n",
       "      <td>1</td>\n",
       "      <td>200001</td>\n",
       "      <td>대변기</td>\n",
       "      <td>None</td>\n",
       "      <td>(구)왕십리클리닉빌딩</td>\n",
       "      <td>20000</td>\n",
       "    </tr>\n",
       "    <tr>\n",
       "      <th>2</th>\n",
       "      <td>2</td>\n",
       "      <td>200002</td>\n",
       "      <td>장애인전용주차구역</td>\n",
       "      <td>None</td>\n",
       "      <td>(구)왕십리클리닉빌딩</td>\n",
       "      <td>20000</td>\n",
       "    </tr>\n",
       "    <tr>\n",
       "      <th>3</th>\n",
       "      <td>3</td>\n",
       "      <td>200003</td>\n",
       "      <td>주출입구 높이차이 제거</td>\n",
       "      <td>None</td>\n",
       "      <td>(구)왕십리클리닉빌딩</td>\n",
       "      <td>20000</td>\n",
       "    </tr>\n",
       "    <tr>\n",
       "      <th>4</th>\n",
       "      <td>4</td>\n",
       "      <td>200004</td>\n",
       "      <td>주출입구 접근로</td>\n",
       "      <td>None</td>\n",
       "      <td>(구)왕십리클리닉빌딩</td>\n",
       "      <td>20000</td>\n",
       "    </tr>\n",
       "  </tbody>\n",
       "</table>\n",
       "</div>"
      ],
      "text/plain": [
       "   Unnamed: 0  facility_id facillity_available_name facility_is_available  \\\n",
       "0           0       200000               계단 또는 승강설비                  None   \n",
       "1           1       200001                      대변기                  None   \n",
       "2           2       200002                장애인전용주차구역                  None   \n",
       "3           3       200003             주출입구 높이차이 제거                  None   \n",
       "4           4       200004                 주출입구 접근로                  None   \n",
       "\n",
       "    place_name  place_id  \n",
       "0  (구)왕십리클리닉빌딩     20000  \n",
       "1  (구)왕십리클리닉빌딩     20000  \n",
       "2  (구)왕십리클리닉빌딩     20000  \n",
       "3  (구)왕십리클리닉빌딩     20000  \n",
       "4  (구)왕십리클리닉빌딩     20000  "
      ]
     },
     "execution_count": 11,
     "metadata": {},
     "output_type": "execute_result"
    }
   ],
   "source": [
    "hj_place_facility_available.head()"
   ]
  },
  {
   "cell_type": "code",
   "execution_count": null,
   "metadata": {},
   "outputs": [],
   "source": []
  },
  {
   "cell_type": "code",
   "execution_count": null,
   "metadata": {},
   "outputs": [],
   "source": []
  },
  {
   "cell_type": "code",
   "execution_count": null,
   "metadata": {},
   "outputs": [],
   "source": []
  },
  {
   "cell_type": "markdown",
   "metadata": {},
   "source": [
    "# JM 데이터"
   ]
  },
  {
   "cell_type": "code",
   "execution_count": 16,
   "metadata": {},
   "outputs": [],
   "source": [
    "jm_seoul_toilets = pd.read_csv('seoul_toilets.csv')"
   ]
  },
  {
   "cell_type": "code",
   "execution_count": 17,
   "metadata": {},
   "outputs": [],
   "source": [
    "jm_seoul_toilets_facility  = pd.read_csv('seoul_toilets_facility.csv')"
   ]
  },
  {
   "cell_type": "code",
   "execution_count": 19,
   "metadata": {},
   "outputs": [
    {
     "data": {
      "text/html": [
       "<div>\n",
       "<style scoped>\n",
       "    .dataframe tbody tr th:only-of-type {\n",
       "        vertical-align: middle;\n",
       "    }\n",
       "\n",
       "    .dataframe tbody tr th {\n",
       "        vertical-align: top;\n",
       "    }\n",
       "\n",
       "    .dataframe thead th {\n",
       "        text-align: right;\n",
       "    }\n",
       "</style>\n",
       "<table border=\"1\" class=\"dataframe\">\n",
       "  <thead>\n",
       "    <tr style=\"text-align: right;\">\n",
       "      <th></th>\n",
       "      <th>Unnamed: 0</th>\n",
       "      <th>place_name</th>\n",
       "      <th>place_address</th>\n",
       "      <th>lat</th>\n",
       "      <th>lon</th>\n",
       "      <th>category</th>\n",
       "      <th>place_id</th>\n",
       "    </tr>\n",
       "  </thead>\n",
       "  <tbody>\n",
       "    <tr>\n",
       "      <th>0</th>\n",
       "      <td>0</td>\n",
       "      <td>남대문시장 화장실</td>\n",
       "      <td>서울특별시 중구 남창동 51-2</td>\n",
       "      <td>37.559433</td>\n",
       "      <td>126.976225</td>\n",
       "      <td>toilet/open</td>\n",
       "      <td>30000</td>\n",
       "    </tr>\n",
       "    <tr>\n",
       "      <th>1</th>\n",
       "      <td>1</td>\n",
       "      <td>광희동 화장실</td>\n",
       "      <td>서울특별시 중구 광희동1가 202-1</td>\n",
       "      <td>37.564371</td>\n",
       "      <td>127.006306</td>\n",
       "      <td>toilet/open</td>\n",
       "      <td>30001</td>\n",
       "    </tr>\n",
       "    <tr>\n",
       "      <th>2</th>\n",
       "      <td>2</td>\n",
       "      <td>신당 1호 화장실</td>\n",
       "      <td>서울특별시 중구 신당동 236-542</td>\n",
       "      <td>37.563819</td>\n",
       "      <td>127.013347</td>\n",
       "      <td>toilet/open</td>\n",
       "      <td>30002</td>\n",
       "    </tr>\n",
       "    <tr>\n",
       "      <th>3</th>\n",
       "      <td>3</td>\n",
       "      <td>신당 2호 화장실</td>\n",
       "      <td>서울특별시 중구 신당동 298-74</td>\n",
       "      <td>37.561325</td>\n",
       "      <td>127.013778</td>\n",
       "      <td>toilet/open</td>\n",
       "      <td>30003</td>\n",
       "    </tr>\n",
       "    <tr>\n",
       "      <th>4</th>\n",
       "      <td>4</td>\n",
       "      <td>청구역 화장실</td>\n",
       "      <td>서울특별시 중구 신당동 297-17</td>\n",
       "      <td>37.561317</td>\n",
       "      <td>127.013783</td>\n",
       "      <td>toilet/open</td>\n",
       "      <td>30004</td>\n",
       "    </tr>\n",
       "  </tbody>\n",
       "</table>\n",
       "</div>"
      ],
      "text/plain": [
       "   Unnamed: 0 place_name         place_address        lat         lon  \\\n",
       "0           0  남대문시장 화장실     서울특별시 중구 남창동 51-2  37.559433  126.976225   \n",
       "1           1    광희동 화장실  서울특별시 중구 광희동1가 202-1  37.564371  127.006306   \n",
       "2           2  신당 1호 화장실  서울특별시 중구 신당동 236-542  37.563819  127.013347   \n",
       "3           3  신당 2호 화장실   서울특별시 중구 신당동 298-74  37.561325  127.013778   \n",
       "4           4    청구역 화장실   서울특별시 중구 신당동 297-17  37.561317  127.013783   \n",
       "\n",
       "      category  place_id  \n",
       "0  toilet/open     30000  \n",
       "1  toilet/open     30001  \n",
       "2  toilet/open     30002  \n",
       "3  toilet/open     30003  \n",
       "4  toilet/open     30004  "
      ]
     },
     "execution_count": 19,
     "metadata": {},
     "output_type": "execute_result"
    }
   ],
   "source": [
    "jm_seoul_toilets.head() # 정민 1 번테이블"
   ]
  },
  {
   "cell_type": "code",
   "execution_count": 18,
   "metadata": {},
   "outputs": [
    {
     "data": {
      "text/html": [
       "<div>\n",
       "<style scoped>\n",
       "    .dataframe tbody tr th:only-of-type {\n",
       "        vertical-align: middle;\n",
       "    }\n",
       "\n",
       "    .dataframe tbody tr th {\n",
       "        vertical-align: top;\n",
       "    }\n",
       "\n",
       "    .dataframe thead th {\n",
       "        text-align: right;\n",
       "    }\n",
       "</style>\n",
       "<table border=\"1\" class=\"dataframe\">\n",
       "  <thead>\n",
       "    <tr style=\"text-align: right;\">\n",
       "      <th></th>\n",
       "      <th>Unnamed: 0</th>\n",
       "      <th>facility_available_name</th>\n",
       "      <th>place_name</th>\n",
       "      <th>place_id</th>\n",
       "      <th>facility_id</th>\n",
       "    </tr>\n",
       "  </thead>\n",
       "  <tbody>\n",
       "    <tr>\n",
       "      <th>0</th>\n",
       "      <td>0</td>\n",
       "      <td>남성용-소변기</td>\n",
       "      <td>남대문시장 화장실</td>\n",
       "      <td>30000</td>\n",
       "      <td>300000</td>\n",
       "    </tr>\n",
       "    <tr>\n",
       "      <th>1</th>\n",
       "      <td>1</td>\n",
       "      <td>남성용-장애인용대변기</td>\n",
       "      <td>남대문시장 화장실</td>\n",
       "      <td>30000</td>\n",
       "      <td>300001</td>\n",
       "    </tr>\n",
       "    <tr>\n",
       "      <th>2</th>\n",
       "      <td>2</td>\n",
       "      <td>여성용-대변기</td>\n",
       "      <td>남대문시장 화장실</td>\n",
       "      <td>30000</td>\n",
       "      <td>300002</td>\n",
       "    </tr>\n",
       "    <tr>\n",
       "      <th>3</th>\n",
       "      <td>3</td>\n",
       "      <td>여성용-장애인용대변기</td>\n",
       "      <td>남대문시장 화장실</td>\n",
       "      <td>30000</td>\n",
       "      <td>300003</td>\n",
       "    </tr>\n",
       "    <tr>\n",
       "      <th>4</th>\n",
       "      <td>4</td>\n",
       "      <td>남성용-대변기</td>\n",
       "      <td>광희동 화장실</td>\n",
       "      <td>30001</td>\n",
       "      <td>300004</td>\n",
       "    </tr>\n",
       "  </tbody>\n",
       "</table>\n",
       "</div>"
      ],
      "text/plain": [
       "   Unnamed: 0 facility_available_name place_name  place_id  facility_id\n",
       "0           0                 남성용-소변기  남대문시장 화장실     30000       300000\n",
       "1           1             남성용-장애인용대변기  남대문시장 화장실     30000       300001\n",
       "2           2                 여성용-대변기  남대문시장 화장실     30000       300002\n",
       "3           3             여성용-장애인용대변기  남대문시장 화장실     30000       300003\n",
       "4           4                 남성용-대변기    광희동 화장실     30001       300004"
      ]
     },
     "execution_count": 18,
     "metadata": {},
     "output_type": "execute_result"
    }
   ],
   "source": [
    "jm_seoul_toilets_facility.head() #정민 2번테이블"
   ]
  },
  {
   "cell_type": "code",
   "execution_count": 20,
   "metadata": {},
   "outputs": [],
   "source": [
    "jm_facility = pd.read_csv('facility_cleansed.csv')"
   ]
  },
  {
   "cell_type": "code",
   "execution_count": 25,
   "metadata": {},
   "outputs": [
    {
     "data": {
      "text/html": [
       "<div>\n",
       "<style scoped>\n",
       "    .dataframe tbody tr th:only-of-type {\n",
       "        vertical-align: middle;\n",
       "    }\n",
       "\n",
       "    .dataframe tbody tr th {\n",
       "        vertical-align: top;\n",
       "    }\n",
       "\n",
       "    .dataframe thead th {\n",
       "        text-align: right;\n",
       "    }\n",
       "</style>\n",
       "<table border=\"1\" class=\"dataframe\">\n",
       "  <thead>\n",
       "    <tr style=\"text-align: right;\">\n",
       "      <th></th>\n",
       "      <th>Unnamed: 0</th>\n",
       "      <th>Unnamed: 0.1</th>\n",
       "      <th>category</th>\n",
       "      <th>place_name</th>\n",
       "      <th>place_address</th>\n",
       "      <th>lat</th>\n",
       "      <th>lon</th>\n",
       "      <th>place_id</th>\n",
       "    </tr>\n",
       "  </thead>\n",
       "  <tbody>\n",
       "    <tr>\n",
       "      <th>0</th>\n",
       "      <td>0</td>\n",
       "      <td>0</td>\n",
       "      <td>daycare</td>\n",
       "      <td>영락</td>\n",
       "      <td>중구 수표로 33 (저동2가 69)</td>\n",
       "      <td>37.563202</td>\n",
       "      <td>126.989182</td>\n",
       "      <td>40000</td>\n",
       "    </tr>\n",
       "    <tr>\n",
       "      <th>1</th>\n",
       "      <td>1</td>\n",
       "      <td>1</td>\n",
       "      <td>daycare</td>\n",
       "      <td>역삼주간보호센터</td>\n",
       "      <td>강남구 테헤란로8길 36 (역삼동 827-61) 강남문화원 2층</td>\n",
       "      <td>37.496507</td>\n",
       "      <td>127.032048</td>\n",
       "      <td>40001</td>\n",
       "    </tr>\n",
       "    <tr>\n",
       "      <th>2</th>\n",
       "      <td>2</td>\n",
       "      <td>2</td>\n",
       "      <td>wellfare</td>\n",
       "      <td>성민장애인복지관</td>\n",
       "      <td>노원구 노원로32길 30-3 (상계동 321-9)</td>\n",
       "      <td>37.655624</td>\n",
       "      <td>127.069340</td>\n",
       "      <td>40002</td>\n",
       "    </tr>\n",
       "    <tr>\n",
       "      <th>3</th>\n",
       "      <td>3</td>\n",
       "      <td>3</td>\n",
       "      <td>wellfare</td>\n",
       "      <td>강서뇌성마비복지관</td>\n",
       "      <td>강서구 방화대로45길 69 (방화동 452-5)</td>\n",
       "      <td>37.574198</td>\n",
       "      <td>126.812585</td>\n",
       "      <td>40003</td>\n",
       "    </tr>\n",
       "    <tr>\n",
       "      <th>4</th>\n",
       "      <td>4</td>\n",
       "      <td>4</td>\n",
       "      <td>daycare</td>\n",
       "      <td>모랫말꿈터</td>\n",
       "      <td>영등포구 도영로 37 (도림2동 205-24)</td>\n",
       "      <td>37.510186</td>\n",
       "      <td>126.897488</td>\n",
       "      <td>40004</td>\n",
       "    </tr>\n",
       "  </tbody>\n",
       "</table>\n",
       "</div>"
      ],
      "text/plain": [
       "   Unnamed: 0  Unnamed: 0.1  category place_name  \\\n",
       "0           0             0   daycare         영락   \n",
       "1           1             1   daycare   역삼주간보호센터   \n",
       "2           2             2  wellfare   성민장애인복지관   \n",
       "3           3             3  wellfare  강서뇌성마비복지관   \n",
       "4           4             4   daycare      모랫말꿈터   \n",
       "\n",
       "                         place_address        lat         lon  place_id  \n",
       "0                  중구 수표로 33 (저동2가 69)  37.563202  126.989182     40000  \n",
       "1  강남구 테헤란로8길 36 (역삼동 827-61) 강남문화원 2층  37.496507  127.032048     40001  \n",
       "2          노원구 노원로32길 30-3 (상계동 321-9)  37.655624  127.069340     40002  \n",
       "3           강서구 방화대로45길 69 (방화동 452-5)  37.574198  126.812585     40003  \n",
       "4            영등포구 도영로 37 (도림2동 205-24)  37.510186  126.897488     40004  "
      ]
     },
     "execution_count": 25,
     "metadata": {},
     "output_type": "execute_result"
    }
   ],
   "source": [
    "jm_facility.head()  # 정민 1번 테이블"
   ]
  },
  {
   "cell_type": "code",
   "execution_count": null,
   "metadata": {},
   "outputs": [],
   "source": []
  },
  {
   "cell_type": "markdown",
   "metadata": {},
   "source": [
    "# JT 데이터"
   ]
  },
  {
   "cell_type": "code",
   "execution_count": 105,
   "metadata": {},
   "outputs": [],
   "source": [
    "jt_subway_place = pd.read_csv('Place_subway_juntaek.csv')"
   ]
  },
  {
   "cell_type": "code",
   "execution_count": 106,
   "metadata": {},
   "outputs": [],
   "source": [
    "jt_subway_facility = pd.read_csv('Facility_subway_juntaek.csv')"
   ]
  },
  {
   "cell_type": "code",
   "execution_count": 107,
   "metadata": {},
   "outputs": [
    {
     "data": {
      "text/html": [
       "<div>\n",
       "<style scoped>\n",
       "    .dataframe tbody tr th:only-of-type {\n",
       "        vertical-align: middle;\n",
       "    }\n",
       "\n",
       "    .dataframe tbody tr th {\n",
       "        vertical-align: top;\n",
       "    }\n",
       "\n",
       "    .dataframe thead th {\n",
       "        text-align: right;\n",
       "    }\n",
       "</style>\n",
       "<table border=\"1\" class=\"dataframe\">\n",
       "  <thead>\n",
       "    <tr style=\"text-align: right;\">\n",
       "      <th></th>\n",
       "      <th>Unnamed: 0</th>\n",
       "      <th>place_name</th>\n",
       "      <th>place_id</th>\n",
       "      <th>lat</th>\n",
       "      <th>lon</th>\n",
       "      <th>category</th>\n",
       "    </tr>\n",
       "  </thead>\n",
       "  <tbody>\n",
       "    <tr>\n",
       "      <th>0</th>\n",
       "      <td>0</td>\n",
       "      <td>가락시장</td>\n",
       "      <td>0</td>\n",
       "      <td>37.4923175</td>\n",
       "      <td>127.118104</td>\n",
       "      <td>subway</td>\n",
       "    </tr>\n",
       "    <tr>\n",
       "      <th>1</th>\n",
       "      <td>1</td>\n",
       "      <td>가산디지털단지</td>\n",
       "      <td>1</td>\n",
       "      <td>37.48089</td>\n",
       "      <td>126.8825735</td>\n",
       "      <td>subway</td>\n",
       "    </tr>\n",
       "    <tr>\n",
       "      <th>2</th>\n",
       "      <td>2</td>\n",
       "      <td>간석</td>\n",
       "      <td>2</td>\n",
       "      <td>37.464689</td>\n",
       "      <td>126.693408</td>\n",
       "      <td>subway</td>\n",
       "    </tr>\n",
       "    <tr>\n",
       "      <th>3</th>\n",
       "      <td>3</td>\n",
       "      <td>강남</td>\n",
       "      <td>3</td>\n",
       "      <td>37.49794199999999</td>\n",
       "      <td>127.027621</td>\n",
       "      <td>subway</td>\n",
       "    </tr>\n",
       "    <tr>\n",
       "      <th>4</th>\n",
       "      <td>4</td>\n",
       "      <td>강남구청</td>\n",
       "      <td>4</td>\n",
       "      <td>37.517473</td>\n",
       "      <td>127.0411685</td>\n",
       "      <td>subway</td>\n",
       "    </tr>\n",
       "  </tbody>\n",
       "</table>\n",
       "</div>"
      ],
      "text/plain": [
       "   Unnamed: 0 place_name  place_id                lat          lon category\n",
       "0           0       가락시장         0         37.4923175   127.118104   subway\n",
       "1           1    가산디지털단지         1           37.48089  126.8825735   subway\n",
       "2           2         간석         2          37.464689   126.693408   subway\n",
       "3           3         강남         3  37.49794199999999   127.027621   subway\n",
       "4           4       강남구청         4          37.517473  127.0411685   subway"
      ]
     },
     "execution_count": 107,
     "metadata": {},
     "output_type": "execute_result"
    }
   ],
   "source": [
    "jt_subway_place.head()"
   ]
  },
  {
   "cell_type": "code",
   "execution_count": 108,
   "metadata": {},
   "outputs": [
    {
     "data": {
      "text/html": [
       "<div>\n",
       "<style scoped>\n",
       "    .dataframe tbody tr th:only-of-type {\n",
       "        vertical-align: middle;\n",
       "    }\n",
       "\n",
       "    .dataframe tbody tr th {\n",
       "        vertical-align: top;\n",
       "    }\n",
       "\n",
       "    .dataframe thead th {\n",
       "        text-align: right;\n",
       "    }\n",
       "</style>\n",
       "<table border=\"1\" class=\"dataframe\">\n",
       "  <thead>\n",
       "    <tr style=\"text-align: right;\">\n",
       "      <th></th>\n",
       "      <th>Unnamed: 0</th>\n",
       "      <th>place_name</th>\n",
       "      <th>place_id</th>\n",
       "      <th>facility_available_name</th>\n",
       "      <th>facility_id</th>\n",
       "      <th>facility_is_available</th>\n",
       "    </tr>\n",
       "  </thead>\n",
       "  <tbody>\n",
       "    <tr>\n",
       "      <th>0</th>\n",
       "      <td>0</td>\n",
       "      <td>가락시장</td>\n",
       "      <td>0</td>\n",
       "      <td>화장실</td>\n",
       "      <td>900000</td>\n",
       "      <td>이용가능</td>\n",
       "    </tr>\n",
       "    <tr>\n",
       "      <th>1</th>\n",
       "      <td>1</td>\n",
       "      <td>가락시장</td>\n",
       "      <td>0</td>\n",
       "      <td>엘리베이터</td>\n",
       "      <td>900001</td>\n",
       "      <td>이용가능</td>\n",
       "    </tr>\n",
       "    <tr>\n",
       "      <th>2</th>\n",
       "      <td>2</td>\n",
       "      <td>가락시장</td>\n",
       "      <td>0</td>\n",
       "      <td>휠체어리프트</td>\n",
       "      <td>900002</td>\n",
       "      <td>이용가능</td>\n",
       "    </tr>\n",
       "    <tr>\n",
       "      <th>3</th>\n",
       "      <td>3</td>\n",
       "      <td>가산디지털단지</td>\n",
       "      <td>1</td>\n",
       "      <td>에스켈레이터</td>\n",
       "      <td>900003</td>\n",
       "      <td>이용가능</td>\n",
       "    </tr>\n",
       "    <tr>\n",
       "      <th>4</th>\n",
       "      <td>4</td>\n",
       "      <td>가산디지털단지</td>\n",
       "      <td>1</td>\n",
       "      <td>화장실</td>\n",
       "      <td>900004</td>\n",
       "      <td>이용가능</td>\n",
       "    </tr>\n",
       "  </tbody>\n",
       "</table>\n",
       "</div>"
      ],
      "text/plain": [
       "   Unnamed: 0 place_name  place_id facility_available_name  facility_id  \\\n",
       "0           0       가락시장         0                     화장실       900000   \n",
       "1           1       가락시장         0                   엘리베이터       900001   \n",
       "2           2       가락시장         0                  휠체어리프트       900002   \n",
       "3           3    가산디지털단지         1                  에스켈레이터       900003   \n",
       "4           4    가산디지털단지         1                     화장실       900004   \n",
       "\n",
       "  facility_is_available  \n",
       "0                  이용가능  \n",
       "1                  이용가능  \n",
       "2                  이용가능  \n",
       "3                  이용가능  \n",
       "4                  이용가능  "
      ]
     },
     "execution_count": 108,
     "metadata": {},
     "output_type": "execute_result"
    }
   ],
   "source": [
    "jt_subway_facility.head()"
   ]
  },
  {
   "cell_type": "code",
   "execution_count": null,
   "metadata": {},
   "outputs": [],
   "source": []
  },
  {
   "cell_type": "markdown",
   "metadata": {},
   "source": [
    "# PLACE 합  #1번 테이블"
   ]
  },
  {
   "cell_type": "code",
   "execution_count": 78,
   "metadata": {
    "scrolled": true
   },
   "outputs": [
    {
     "ename": "KeyError",
     "evalue": "\"labels ['evalInfo'] not contained in axis\"",
     "output_type": "error",
     "traceback": [
      "\u001b[1;31m---------------------------------------------------------------------------\u001b[0m",
      "\u001b[1;31mKeyError\u001b[0m                                  Traceback (most recent call last)",
      "\u001b[1;32m<ipython-input-78-ee8ad932bcdd>\u001b[0m in \u001b[0;36m<module>\u001b[1;34m()\u001b[0m\n\u001b[1;32m----> 1\u001b[1;33m \u001b[0mhj_place\u001b[0m\u001b[1;33m.\u001b[0m\u001b[0mdrop\u001b[0m\u001b[1;33m(\u001b[0m\u001b[1;34m'evalInfo'\u001b[0m\u001b[1;33m,\u001b[0m\u001b[0maxis\u001b[0m\u001b[1;33m=\u001b[0m\u001b[1;36m1\u001b[0m\u001b[1;33m,\u001b[0m\u001b[0minplace\u001b[0m\u001b[1;33m=\u001b[0m\u001b[1;32mTrue\u001b[0m\u001b[1;33m)\u001b[0m \u001b[1;31m# evalinfo Drop\u001b[0m\u001b[1;33m\u001b[0m\u001b[0m\n\u001b[0m",
      "\u001b[1;32m~\\Anaconda3\\lib\\site-packages\\pandas\\core\\frame.py\u001b[0m in \u001b[0;36mdrop\u001b[1;34m(self, labels, axis, index, columns, level, inplace, errors)\u001b[0m\n\u001b[0;32m   3692\u001b[0m                                            \u001b[0mindex\u001b[0m\u001b[1;33m=\u001b[0m\u001b[0mindex\u001b[0m\u001b[1;33m,\u001b[0m \u001b[0mcolumns\u001b[0m\u001b[1;33m=\u001b[0m\u001b[0mcolumns\u001b[0m\u001b[1;33m,\u001b[0m\u001b[1;33m\u001b[0m\u001b[0m\n\u001b[0;32m   3693\u001b[0m                                            \u001b[0mlevel\u001b[0m\u001b[1;33m=\u001b[0m\u001b[0mlevel\u001b[0m\u001b[1;33m,\u001b[0m \u001b[0minplace\u001b[0m\u001b[1;33m=\u001b[0m\u001b[0minplace\u001b[0m\u001b[1;33m,\u001b[0m\u001b[1;33m\u001b[0m\u001b[0m\n\u001b[1;32m-> 3694\u001b[1;33m                                            errors=errors)\n\u001b[0m\u001b[0;32m   3695\u001b[0m \u001b[1;33m\u001b[0m\u001b[0m\n\u001b[0;32m   3696\u001b[0m     @rewrite_axis_style_signature('mapper', [('copy', True),\n",
      "\u001b[1;32m~\\Anaconda3\\lib\\site-packages\\pandas\\core\\generic.py\u001b[0m in \u001b[0;36mdrop\u001b[1;34m(self, labels, axis, index, columns, level, inplace, errors)\u001b[0m\n\u001b[0;32m   3106\u001b[0m         \u001b[1;32mfor\u001b[0m \u001b[0maxis\u001b[0m\u001b[1;33m,\u001b[0m \u001b[0mlabels\u001b[0m \u001b[1;32min\u001b[0m \u001b[0maxes\u001b[0m\u001b[1;33m.\u001b[0m\u001b[0mitems\u001b[0m\u001b[1;33m(\u001b[0m\u001b[1;33m)\u001b[0m\u001b[1;33m:\u001b[0m\u001b[1;33m\u001b[0m\u001b[0m\n\u001b[0;32m   3107\u001b[0m             \u001b[1;32mif\u001b[0m \u001b[0mlabels\u001b[0m \u001b[1;32mis\u001b[0m \u001b[1;32mnot\u001b[0m \u001b[1;32mNone\u001b[0m\u001b[1;33m:\u001b[0m\u001b[1;33m\u001b[0m\u001b[0m\n\u001b[1;32m-> 3108\u001b[1;33m                 \u001b[0mobj\u001b[0m \u001b[1;33m=\u001b[0m \u001b[0mobj\u001b[0m\u001b[1;33m.\u001b[0m\u001b[0m_drop_axis\u001b[0m\u001b[1;33m(\u001b[0m\u001b[0mlabels\u001b[0m\u001b[1;33m,\u001b[0m \u001b[0maxis\u001b[0m\u001b[1;33m,\u001b[0m \u001b[0mlevel\u001b[0m\u001b[1;33m=\u001b[0m\u001b[0mlevel\u001b[0m\u001b[1;33m,\u001b[0m \u001b[0merrors\u001b[0m\u001b[1;33m=\u001b[0m\u001b[0merrors\u001b[0m\u001b[1;33m)\u001b[0m\u001b[1;33m\u001b[0m\u001b[0m\n\u001b[0m\u001b[0;32m   3109\u001b[0m \u001b[1;33m\u001b[0m\u001b[0m\n\u001b[0;32m   3110\u001b[0m         \u001b[1;32mif\u001b[0m \u001b[0minplace\u001b[0m\u001b[1;33m:\u001b[0m\u001b[1;33m\u001b[0m\u001b[0m\n",
      "\u001b[1;32m~\\Anaconda3\\lib\\site-packages\\pandas\\core\\generic.py\u001b[0m in \u001b[0;36m_drop_axis\u001b[1;34m(self, labels, axis, level, errors)\u001b[0m\n\u001b[0;32m   3138\u001b[0m                 \u001b[0mnew_axis\u001b[0m \u001b[1;33m=\u001b[0m \u001b[0maxis\u001b[0m\u001b[1;33m.\u001b[0m\u001b[0mdrop\u001b[0m\u001b[1;33m(\u001b[0m\u001b[0mlabels\u001b[0m\u001b[1;33m,\u001b[0m \u001b[0mlevel\u001b[0m\u001b[1;33m=\u001b[0m\u001b[0mlevel\u001b[0m\u001b[1;33m,\u001b[0m \u001b[0merrors\u001b[0m\u001b[1;33m=\u001b[0m\u001b[0merrors\u001b[0m\u001b[1;33m)\u001b[0m\u001b[1;33m\u001b[0m\u001b[0m\n\u001b[0;32m   3139\u001b[0m             \u001b[1;32melse\u001b[0m\u001b[1;33m:\u001b[0m\u001b[1;33m\u001b[0m\u001b[0m\n\u001b[1;32m-> 3140\u001b[1;33m                 \u001b[0mnew_axis\u001b[0m \u001b[1;33m=\u001b[0m \u001b[0maxis\u001b[0m\u001b[1;33m.\u001b[0m\u001b[0mdrop\u001b[0m\u001b[1;33m(\u001b[0m\u001b[0mlabels\u001b[0m\u001b[1;33m,\u001b[0m \u001b[0merrors\u001b[0m\u001b[1;33m=\u001b[0m\u001b[0merrors\u001b[0m\u001b[1;33m)\u001b[0m\u001b[1;33m\u001b[0m\u001b[0m\n\u001b[0m\u001b[0;32m   3141\u001b[0m             \u001b[0mdropped\u001b[0m \u001b[1;33m=\u001b[0m \u001b[0mself\u001b[0m\u001b[1;33m.\u001b[0m\u001b[0mreindex\u001b[0m\u001b[1;33m(\u001b[0m\u001b[1;33m**\u001b[0m\u001b[1;33m{\u001b[0m\u001b[0maxis_name\u001b[0m\u001b[1;33m:\u001b[0m \u001b[0mnew_axis\u001b[0m\u001b[1;33m}\u001b[0m\u001b[1;33m)\u001b[0m\u001b[1;33m\u001b[0m\u001b[0m\n\u001b[0;32m   3142\u001b[0m             \u001b[1;32mtry\u001b[0m\u001b[1;33m:\u001b[0m\u001b[1;33m\u001b[0m\u001b[0m\n",
      "\u001b[1;32m~\\Anaconda3\\lib\\site-packages\\pandas\\core\\indexes\\base.py\u001b[0m in \u001b[0;36mdrop\u001b[1;34m(self, labels, errors)\u001b[0m\n\u001b[0;32m   4385\u001b[0m             \u001b[1;32mif\u001b[0m \u001b[0merrors\u001b[0m \u001b[1;33m!=\u001b[0m \u001b[1;34m'ignore'\u001b[0m\u001b[1;33m:\u001b[0m\u001b[1;33m\u001b[0m\u001b[0m\n\u001b[0;32m   4386\u001b[0m                 raise KeyError(\n\u001b[1;32m-> 4387\u001b[1;33m                     'labels %s not contained in axis' % labels[mask])\n\u001b[0m\u001b[0;32m   4388\u001b[0m             \u001b[0mindexer\u001b[0m \u001b[1;33m=\u001b[0m \u001b[0mindexer\u001b[0m\u001b[1;33m[\u001b[0m\u001b[1;33m~\u001b[0m\u001b[0mmask\u001b[0m\u001b[1;33m]\u001b[0m\u001b[1;33m\u001b[0m\u001b[0m\n\u001b[0;32m   4389\u001b[0m         \u001b[1;32mreturn\u001b[0m \u001b[0mself\u001b[0m\u001b[1;33m.\u001b[0m\u001b[0mdelete\u001b[0m\u001b[1;33m(\u001b[0m\u001b[0mindexer\u001b[0m\u001b[1;33m)\u001b[0m\u001b[1;33m\u001b[0m\u001b[0m\n",
      "\u001b[1;31mKeyError\u001b[0m: \"labels ['evalInfo'] not contained in axis\""
     ]
    }
   ],
   "source": [
    "hj_place.drop('evalInfo',axis=1,inplace=True) # evalinfo Drop"
   ]
  },
  {
   "cell_type": "code",
   "execution_count": 115,
   "metadata": {
    "scrolled": true
   },
   "outputs": [
    {
     "name": "stdout",
     "output_type": "stream",
     "text": [
      "<class 'pandas.core.frame.DataFrame'>\n",
      "RangeIndex: 10389 entries, 0 to 10388\n",
      "Data columns (total 7 columns):\n",
      "Unnamed: 0       10389 non-null int64\n",
      "place_id         10389 non-null int64\n",
      "lat              10389 non-null float64\n",
      "lon              10389 non-null float64\n",
      "place_name       10389 non-null object\n",
      "category         10389 non-null object\n",
      "place_address    10389 non-null object\n",
      "dtypes: float64(2), int64(2), object(3)\n",
      "memory usage: 568.2+ KB\n"
     ]
    }
   ],
   "source": [
    "hj_place.info()"
   ]
  },
  {
   "cell_type": "code",
   "execution_count": 116,
   "metadata": {},
   "outputs": [
    {
     "name": "stdout",
     "output_type": "stream",
     "text": [
      "<class 'pandas.core.frame.DataFrame'>\n",
      "Int64Index: 5146 entries, 0 to 5269\n",
      "Data columns (total 7 columns):\n",
      "Unnamed: 0       5146 non-null int64\n",
      "place_name       5146 non-null object\n",
      "place_address    5146 non-null object\n",
      "lat              5146 non-null float64\n",
      "lon              5146 non-null float64\n",
      "category         5146 non-null object\n",
      "place_id         5146 non-null int64\n",
      "dtypes: float64(2), int64(2), object(3)\n",
      "memory usage: 321.6+ KB\n"
     ]
    }
   ],
   "source": [
    "yj_total_place.info()"
   ]
  },
  {
   "cell_type": "code",
   "execution_count": 117,
   "metadata": {},
   "outputs": [],
   "source": [
    "yj_total_place.dropna(subset={'lat','lon'},inplace=True) # 왜그런지 모르겠지만 영준이 데이터에 위도경도 null 이있엇음."
   ]
  },
  {
   "cell_type": "code",
   "execution_count": 118,
   "metadata": {
    "scrolled": true
   },
   "outputs": [
    {
     "name": "stdout",
     "output_type": "stream",
     "text": [
      "<class 'pandas.core.frame.DataFrame'>\n",
      "Int64Index: 5146 entries, 0 to 5269\n",
      "Data columns (total 7 columns):\n",
      "Unnamed: 0       5146 non-null int64\n",
      "place_name       5146 non-null object\n",
      "place_address    5146 non-null object\n",
      "lat              5146 non-null float64\n",
      "lon              5146 non-null float64\n",
      "category         5146 non-null object\n",
      "place_id         5146 non-null int64\n",
      "dtypes: float64(2), int64(2), object(3)\n",
      "memory usage: 321.6+ KB\n"
     ]
    }
   ],
   "source": [
    "yj_total_place.info()"
   ]
  },
  {
   "cell_type": "code",
   "execution_count": 119,
   "metadata": {},
   "outputs": [],
   "source": [
    "zzang_place =  yj_total_place.append(hj_place,sort=False)"
   ]
  },
  {
   "cell_type": "code",
   "execution_count": 120,
   "metadata": {
    "scrolled": true
   },
   "outputs": [
    {
     "name": "stdout",
     "output_type": "stream",
     "text": [
      "<class 'pandas.core.frame.DataFrame'>\n",
      "Int64Index: 15535 entries, 0 to 10388\n",
      "Data columns (total 7 columns):\n",
      "Unnamed: 0       15535 non-null int64\n",
      "place_name       15535 non-null object\n",
      "place_address    15535 non-null object\n",
      "lat              15535 non-null float64\n",
      "lon              15535 non-null float64\n",
      "category         15535 non-null object\n",
      "place_id         15535 non-null int64\n",
      "dtypes: float64(2), int64(2), object(3)\n",
      "memory usage: 970.9+ KB\n"
     ]
    }
   ],
   "source": [
    "zzang_place.info()"
   ]
  },
  {
   "cell_type": "code",
   "execution_count": 121,
   "metadata": {},
   "outputs": [
    {
     "name": "stdout",
     "output_type": "stream",
     "text": [
      "<class 'pandas.core.frame.DataFrame'>\n",
      "RangeIndex: 1117 entries, 0 to 1116\n",
      "Data columns (total 7 columns):\n",
      "Unnamed: 0       1117 non-null int64\n",
      "place_name       1117 non-null object\n",
      "place_address    1117 non-null object\n",
      "lat              1117 non-null float64\n",
      "lon              1117 non-null float64\n",
      "category         1117 non-null object\n",
      "place_id         1117 non-null int64\n",
      "dtypes: float64(2), int64(2), object(3)\n",
      "memory usage: 61.2+ KB\n"
     ]
    }
   ],
   "source": [
    "jm_seoul_toilets.info()"
   ]
  },
  {
   "cell_type": "code",
   "execution_count": 122,
   "metadata": {},
   "outputs": [],
   "source": [
    "zzang_place = zzang_place.append(jm_seoul_toilets,sort=False)"
   ]
  },
  {
   "cell_type": "code",
   "execution_count": 76,
   "metadata": {
    "scrolled": false
   },
   "outputs": [
    {
     "data": {
      "text/html": [
       "<div>\n",
       "<style scoped>\n",
       "    .dataframe tbody tr th:only-of-type {\n",
       "        vertical-align: middle;\n",
       "    }\n",
       "\n",
       "    .dataframe tbody tr th {\n",
       "        vertical-align: top;\n",
       "    }\n",
       "\n",
       "    .dataframe thead th {\n",
       "        text-align: right;\n",
       "    }\n",
       "</style>\n",
       "<table border=\"1\" class=\"dataframe\">\n",
       "  <thead>\n",
       "    <tr style=\"text-align: right;\">\n",
       "      <th></th>\n",
       "      <th>Unnamed: 0</th>\n",
       "      <th>category</th>\n",
       "      <th>lat</th>\n",
       "      <th>lon</th>\n",
       "      <th>place_address</th>\n",
       "      <th>place_id</th>\n",
       "      <th>place_name</th>\n",
       "    </tr>\n",
       "  </thead>\n",
       "  <tbody>\n",
       "    <tr>\n",
       "      <th>0</th>\n",
       "      <td>0</td>\n",
       "      <td>movie/concerthall</td>\n",
       "      <td>37.583269</td>\n",
       "      <td>127.002443</td>\n",
       "      <td>서울특별시 종로구 동숭동 1-37</td>\n",
       "      <td>10000</td>\n",
       "      <td>A아트홀(구.신연아트홀)</td>\n",
       "    </tr>\n",
       "    <tr>\n",
       "      <th>1</th>\n",
       "      <td>1</td>\n",
       "      <td>movie/concerthall</td>\n",
       "      <td>37.523930</td>\n",
       "      <td>127.025143</td>\n",
       "      <td>서울특별시 강남구 신사동  568-2</td>\n",
       "      <td>10001</td>\n",
       "      <td>BBC씨어터</td>\n",
       "    </tr>\n",
       "    <tr>\n",
       "      <th>2</th>\n",
       "      <td>2</td>\n",
       "      <td>movie/concerthall</td>\n",
       "      <td>37.568835</td>\n",
       "      <td>126.988123</td>\n",
       "      <td>서울특별시 종로구 관철동 33-1</td>\n",
       "      <td>10002</td>\n",
       "      <td>BREAK OUT 전용극장</td>\n",
       "    </tr>\n",
       "    <tr>\n",
       "      <th>3</th>\n",
       "      <td>3</td>\n",
       "      <td>movie/concerthall</td>\n",
       "      <td>37.549100</td>\n",
       "      <td>126.922860</td>\n",
       "      <td>서울특별시 마포구 와우산로 51</td>\n",
       "      <td>10003</td>\n",
       "      <td>BYRDS(버즈)</td>\n",
       "    </tr>\n",
       "    <tr>\n",
       "      <th>4</th>\n",
       "      <td>4</td>\n",
       "      <td>movie/concerthall</td>\n",
       "      <td>37.554833</td>\n",
       "      <td>126.923213</td>\n",
       "      <td>서울특별시 마포구 어울마당로 114</td>\n",
       "      <td>10004</td>\n",
       "      <td>Between the Bars</td>\n",
       "    </tr>\n",
       "  </tbody>\n",
       "</table>\n",
       "</div>"
      ],
      "text/plain": [
       "   Unnamed: 0           category        lat         lon         place_address  \\\n",
       "0           0  movie/concerthall  37.583269  127.002443    서울특별시 종로구 동숭동 1-37   \n",
       "1           1  movie/concerthall  37.523930  127.025143  서울특별시 강남구 신사동  568-2   \n",
       "2           2  movie/concerthall  37.568835  126.988123    서울특별시 종로구 관철동 33-1   \n",
       "3           3  movie/concerthall  37.549100  126.922860     서울특별시 마포구 와우산로 51   \n",
       "4           4  movie/concerthall  37.554833  126.923213   서울특별시 마포구 어울마당로 114   \n",
       "\n",
       "   place_id        place_name  \n",
       "0     10000     A아트홀(구.신연아트홀)  \n",
       "1     10001            BBC씨어터  \n",
       "2     10002    BREAK OUT 전용극장  \n",
       "3     10003         BYRDS(버즈)  \n",
       "4     10004  Between the Bars  "
      ]
     },
     "execution_count": 76,
     "metadata": {},
     "output_type": "execute_result"
    }
   ],
   "source": [
    "zzang_place.h"
   ]
  },
  {
   "cell_type": "code",
   "execution_count": 123,
   "metadata": {},
   "outputs": [
    {
     "name": "stdout",
     "output_type": "stream",
     "text": [
      "<class 'pandas.core.frame.DataFrame'>\n",
      "Int64Index: 16652 entries, 0 to 1116\n",
      "Data columns (total 7 columns):\n",
      "Unnamed: 0       16652 non-null int64\n",
      "place_name       16652 non-null object\n",
      "place_address    16652 non-null object\n",
      "lat              16652 non-null float64\n",
      "lon              16652 non-null float64\n",
      "category         16652 non-null object\n",
      "place_id         16652 non-null int64\n",
      "dtypes: float64(2), int64(2), object(3)\n",
      "memory usage: 1.0+ MB\n"
     ]
    }
   ],
   "source": [
    "zzang_place.info() # 이상하게 갯수가 줄었네 ?"
   ]
  },
  {
   "cell_type": "code",
   "execution_count": 77,
   "metadata": {},
   "outputs": [
    {
     "data": {
      "text/html": [
       "<div>\n",
       "<style scoped>\n",
       "    .dataframe tbody tr th:only-of-type {\n",
       "        vertical-align: middle;\n",
       "    }\n",
       "\n",
       "    .dataframe tbody tr th {\n",
       "        vertical-align: top;\n",
       "    }\n",
       "\n",
       "    .dataframe thead th {\n",
       "        text-align: right;\n",
       "    }\n",
       "</style>\n",
       "<table border=\"1\" class=\"dataframe\">\n",
       "  <thead>\n",
       "    <tr style=\"text-align: right;\">\n",
       "      <th></th>\n",
       "      <th>Unnamed: 0</th>\n",
       "      <th>category</th>\n",
       "      <th>lat</th>\n",
       "      <th>lon</th>\n",
       "      <th>place_address</th>\n",
       "      <th>place_id</th>\n",
       "      <th>place_name</th>\n",
       "    </tr>\n",
       "  </thead>\n",
       "  <tbody>\n",
       "    <tr>\n",
       "      <th>1112</th>\n",
       "      <td>24934</td>\n",
       "      <td>toilet/open</td>\n",
       "      <td>37.566074</td>\n",
       "      <td>127.047049</td>\n",
       "      <td>서울특별시 성동구 성수동2가 302-25</td>\n",
       "      <td>31112</td>\n",
       "      <td>성수근린공원 화장실</td>\n",
       "    </tr>\n",
       "    <tr>\n",
       "      <th>1113</th>\n",
       "      <td>24941</td>\n",
       "      <td>toilet/open</td>\n",
       "      <td>37.556445</td>\n",
       "      <td>127.019518</td>\n",
       "      <td>서울특별시 성동구 금호동1가 산37-7</td>\n",
       "      <td>31113</td>\n",
       "      <td>독서당공원 화장실</td>\n",
       "    </tr>\n",
       "    <tr>\n",
       "      <th>1114</th>\n",
       "      <td>24943</td>\n",
       "      <td>toilet/open</td>\n",
       "      <td>37.553588</td>\n",
       "      <td>127.041916</td>\n",
       "      <td>서울특별시 성동구 도선동 35-2</td>\n",
       "      <td>31114</td>\n",
       "      <td>왕십리문화공원 화장실</td>\n",
       "    </tr>\n",
       "    <tr>\n",
       "      <th>1115</th>\n",
       "      <td>24945</td>\n",
       "      <td>toilet/open</td>\n",
       "      <td>37.566104</td>\n",
       "      <td>127.045757</td>\n",
       "      <td>서울특별시 성동구 행당동 157-4</td>\n",
       "      <td>31115</td>\n",
       "      <td>한양대 앞 화장실</td>\n",
       "    </tr>\n",
       "    <tr>\n",
       "      <th>1116</th>\n",
       "      <td>24946</td>\n",
       "      <td>toilet/open</td>\n",
       "      <td>37.561760</td>\n",
       "      <td>127.035263</td>\n",
       "      <td>서울특별시 성동구 행당동 128-417</td>\n",
       "      <td>31116</td>\n",
       "      <td>행당어린이공원 화장실</td>\n",
       "    </tr>\n",
       "  </tbody>\n",
       "</table>\n",
       "</div>"
      ],
      "text/plain": [
       "      Unnamed: 0     category        lat         lon           place_address  \\\n",
       "1112       24934  toilet/open  37.566074  127.047049  서울특별시 성동구 성수동2가 302-25   \n",
       "1113       24941  toilet/open  37.556445  127.019518   서울특별시 성동구 금호동1가 산37-7   \n",
       "1114       24943  toilet/open  37.553588  127.041916      서울특별시 성동구 도선동 35-2   \n",
       "1115       24945  toilet/open  37.566104  127.045757     서울특별시 성동구 행당동 157-4   \n",
       "1116       24946  toilet/open  37.561760  127.035263   서울특별시 성동구 행당동 128-417   \n",
       "\n",
       "      place_id   place_name  \n",
       "1112     31112   성수근린공원 화장실  \n",
       "1113     31113    독서당공원 화장실  \n",
       "1114     31114  왕십리문화공원 화장실  \n",
       "1115     31115    한양대 앞 화장실  \n",
       "1116     31116  행당어린이공원 화장실  "
      ]
     },
     "execution_count": 77,
     "metadata": {},
     "output_type": "execute_result"
    }
   ],
   "source": [
    "zzang_place.tail()"
   ]
  },
  {
   "cell_type": "code",
   "execution_count": 124,
   "metadata": {},
   "outputs": [
    {
     "name": "stdout",
     "output_type": "stream",
     "text": [
      "<class 'pandas.core.frame.DataFrame'>\n",
      "RangeIndex: 260 entries, 0 to 259\n",
      "Data columns (total 8 columns):\n",
      "Unnamed: 0       260 non-null int64\n",
      "Unnamed: 0.1     260 non-null int64\n",
      "category         260 non-null object\n",
      "place_name       260 non-null object\n",
      "place_address    260 non-null object\n",
      "lat              260 non-null float64\n",
      "lon              260 non-null float64\n",
      "place_id         260 non-null int64\n",
      "dtypes: float64(2), int64(3), object(3)\n",
      "memory usage: 16.3+ KB\n"
     ]
    }
   ],
   "source": [
    "jm_facility.info()"
   ]
  },
  {
   "cell_type": "code",
   "execution_count": 125,
   "metadata": {},
   "outputs": [],
   "source": [
    "zzang_place = zzang_place.append(jm_facility,sort=True)"
   ]
  },
  {
   "cell_type": "code",
   "execution_count": 126,
   "metadata": {
    "scrolled": true
   },
   "outputs": [
    {
     "name": "stdout",
     "output_type": "stream",
     "text": [
      "<class 'pandas.core.frame.DataFrame'>\n",
      "Int64Index: 16912 entries, 0 to 259\n",
      "Data columns (total 8 columns):\n",
      "Unnamed: 0       16912 non-null int64\n",
      "Unnamed: 0.1     260 non-null float64\n",
      "category         16912 non-null object\n",
      "lat              16912 non-null float64\n",
      "lon              16912 non-null float64\n",
      "place_address    16912 non-null object\n",
      "place_id         16912 non-null int64\n",
      "place_name       16912 non-null object\n",
      "dtypes: float64(3), int64(2), object(3)\n",
      "memory usage: 1.2+ MB\n"
     ]
    }
   ],
   "source": [
    "zzang_place.info()"
   ]
  },
  {
   "cell_type": "code",
   "execution_count": 127,
   "metadata": {},
   "outputs": [],
   "source": [
    "#지금까지, hj,jm,yj place  다넣음.\n",
    "# subway 추가 할것\n"
   ]
  },
  {
   "cell_type": "code",
   "execution_count": 128,
   "metadata": {
    "scrolled": true
   },
   "outputs": [
    {
     "name": "stdout",
     "output_type": "stream",
     "text": [
      "<class 'pandas.core.frame.DataFrame'>\n",
      "RangeIndex: 324 entries, 0 to 323\n",
      "Data columns (total 6 columns):\n",
      "Unnamed: 0    324 non-null int64\n",
      "place_name    324 non-null object\n",
      "place_id      324 non-null int64\n",
      "lat           324 non-null object\n",
      "lon           324 non-null object\n",
      "category      324 non-null object\n",
      "dtypes: int64(2), object(4)\n",
      "memory usage: 15.3+ KB\n"
     ]
    }
   ],
   "source": [
    "jt_subway_place.info()"
   ]
  },
  {
   "cell_type": "code",
   "execution_count": 129,
   "metadata": {},
   "outputs": [],
   "source": [
    "zzang_place = zzang_place.append(jt_subway_place,sort=False)"
   ]
  },
  {
   "cell_type": "code",
   "execution_count": 131,
   "metadata": {
    "scrolled": true
   },
   "outputs": [
    {
     "name": "stdout",
     "output_type": "stream",
     "text": [
      "<class 'pandas.core.frame.DataFrame'>\n",
      "Int64Index: 17236 entries, 0 to 323\n",
      "Data columns (total 8 columns):\n",
      "Unnamed: 0       17236 non-null int64\n",
      "Unnamed: 0.1     260 non-null float64\n",
      "category         17236 non-null object\n",
      "lat              17236 non-null object\n",
      "lon              17236 non-null object\n",
      "place_address    16912 non-null object\n",
      "place_id         17236 non-null int64\n",
      "place_name       17236 non-null object\n",
      "dtypes: float64(1), int64(2), object(5)\n",
      "memory usage: 1.2+ MB\n"
     ]
    }
   ],
   "source": [
    "zzang_place.info() # subway 테이블에는 place_address 가 없다."
   ]
  },
  {
   "cell_type": "code",
   "execution_count": 133,
   "metadata": {},
   "outputs": [
    {
     "data": {
      "text/plain": [
       "Unnamed: 0           0\n",
       "Unnamed: 0.1     16976\n",
       "category             0\n",
       "lat                  0\n",
       "lon                  0\n",
       "place_address      324\n",
       "place_id             0\n",
       "place_name           0\n",
       "dtype: int64"
      ]
     },
     "execution_count": 133,
     "metadata": {},
     "output_type": "execute_result"
    }
   ],
   "source": [
    "zzang_place.isna().sum() # subway 테이블에는 place_address 가 없다."
   ]
  },
  {
   "cell_type": "code",
   "execution_count": 134,
   "metadata": {},
   "outputs": [
    {
     "data": {
      "text/html": [
       "<div>\n",
       "<style scoped>\n",
       "    .dataframe tbody tr th:only-of-type {\n",
       "        vertical-align: middle;\n",
       "    }\n",
       "\n",
       "    .dataframe tbody tr th {\n",
       "        vertical-align: top;\n",
       "    }\n",
       "\n",
       "    .dataframe thead th {\n",
       "        text-align: right;\n",
       "    }\n",
       "</style>\n",
       "<table border=\"1\" class=\"dataframe\">\n",
       "  <thead>\n",
       "    <tr style=\"text-align: right;\">\n",
       "      <th></th>\n",
       "      <th>Unnamed: 0</th>\n",
       "      <th>Unnamed: 0.1</th>\n",
       "      <th>category</th>\n",
       "      <th>lat</th>\n",
       "      <th>lon</th>\n",
       "      <th>place_address</th>\n",
       "      <th>place_id</th>\n",
       "      <th>place_name</th>\n",
       "    </tr>\n",
       "  </thead>\n",
       "  <tbody>\n",
       "    <tr>\n",
       "      <th>0</th>\n",
       "      <td>0</td>\n",
       "      <td>NaN</td>\n",
       "      <td>movie/concerthall</td>\n",
       "      <td>37.5833</td>\n",
       "      <td>127.002</td>\n",
       "      <td>서울특별시 종로구 동숭동 1-37</td>\n",
       "      <td>10000</td>\n",
       "      <td>A아트홀(구.신연아트홀)</td>\n",
       "    </tr>\n",
       "    <tr>\n",
       "      <th>1</th>\n",
       "      <td>1</td>\n",
       "      <td>NaN</td>\n",
       "      <td>movie/concerthall</td>\n",
       "      <td>37.5239</td>\n",
       "      <td>127.025</td>\n",
       "      <td>서울특별시 강남구 신사동  568-2</td>\n",
       "      <td>10001</td>\n",
       "      <td>BBC씨어터</td>\n",
       "    </tr>\n",
       "    <tr>\n",
       "      <th>2</th>\n",
       "      <td>2</td>\n",
       "      <td>NaN</td>\n",
       "      <td>movie/concerthall</td>\n",
       "      <td>37.5688</td>\n",
       "      <td>126.988</td>\n",
       "      <td>서울특별시 종로구 관철동 33-1</td>\n",
       "      <td>10002</td>\n",
       "      <td>BREAK OUT 전용극장</td>\n",
       "    </tr>\n",
       "    <tr>\n",
       "      <th>3</th>\n",
       "      <td>3</td>\n",
       "      <td>NaN</td>\n",
       "      <td>movie/concerthall</td>\n",
       "      <td>37.5491</td>\n",
       "      <td>126.923</td>\n",
       "      <td>서울특별시 마포구 와우산로 51</td>\n",
       "      <td>10003</td>\n",
       "      <td>BYRDS(버즈)</td>\n",
       "    </tr>\n",
       "    <tr>\n",
       "      <th>4</th>\n",
       "      <td>4</td>\n",
       "      <td>NaN</td>\n",
       "      <td>movie/concerthall</td>\n",
       "      <td>37.5548</td>\n",
       "      <td>126.923</td>\n",
       "      <td>서울특별시 마포구 어울마당로 114</td>\n",
       "      <td>10004</td>\n",
       "      <td>Between the Bars</td>\n",
       "    </tr>\n",
       "  </tbody>\n",
       "</table>\n",
       "</div>"
      ],
      "text/plain": [
       "   Unnamed: 0  Unnamed: 0.1           category      lat      lon  \\\n",
       "0           0           NaN  movie/concerthall  37.5833  127.002   \n",
       "1           1           NaN  movie/concerthall  37.5239  127.025   \n",
       "2           2           NaN  movie/concerthall  37.5688  126.988   \n",
       "3           3           NaN  movie/concerthall  37.5491  126.923   \n",
       "4           4           NaN  movie/concerthall  37.5548  126.923   \n",
       "\n",
       "          place_address  place_id        place_name  \n",
       "0    서울특별시 종로구 동숭동 1-37     10000     A아트홀(구.신연아트홀)  \n",
       "1  서울특별시 강남구 신사동  568-2     10001            BBC씨어터  \n",
       "2    서울특별시 종로구 관철동 33-1     10002    BREAK OUT 전용극장  \n",
       "3     서울특별시 마포구 와우산로 51     10003         BYRDS(버즈)  \n",
       "4   서울특별시 마포구 어울마당로 114     10004  Between the Bars  "
      ]
     },
     "execution_count": 134,
     "metadata": {},
     "output_type": "execute_result"
    }
   ],
   "source": [
    "zzang_place.head()"
   ]
  },
  {
   "cell_type": "code",
   "execution_count": 138,
   "metadata": {},
   "outputs": [],
   "source": [
    "zzang_place.reset_index(inplace=True)"
   ]
  },
  {
   "cell_type": "code",
   "execution_count": 139,
   "metadata": {},
   "outputs": [
    {
     "data": {
      "text/html": [
       "<div>\n",
       "<style scoped>\n",
       "    .dataframe tbody tr th:only-of-type {\n",
       "        vertical-align: middle;\n",
       "    }\n",
       "\n",
       "    .dataframe tbody tr th {\n",
       "        vertical-align: top;\n",
       "    }\n",
       "\n",
       "    .dataframe thead th {\n",
       "        text-align: right;\n",
       "    }\n",
       "</style>\n",
       "<table border=\"1\" class=\"dataframe\">\n",
       "  <thead>\n",
       "    <tr style=\"text-align: right;\">\n",
       "      <th></th>\n",
       "      <th>index</th>\n",
       "      <th>Unnamed: 0</th>\n",
       "      <th>Unnamed: 0.1</th>\n",
       "      <th>category</th>\n",
       "      <th>lat</th>\n",
       "      <th>lon</th>\n",
       "      <th>place_address</th>\n",
       "      <th>place_id</th>\n",
       "      <th>place_name</th>\n",
       "    </tr>\n",
       "  </thead>\n",
       "  <tbody>\n",
       "    <tr>\n",
       "      <th>0</th>\n",
       "      <td>0</td>\n",
       "      <td>0</td>\n",
       "      <td>NaN</td>\n",
       "      <td>movie/concerthall</td>\n",
       "      <td>37.5833</td>\n",
       "      <td>127.002</td>\n",
       "      <td>서울특별시 종로구 동숭동 1-37</td>\n",
       "      <td>10000</td>\n",
       "      <td>A아트홀(구.신연아트홀)</td>\n",
       "    </tr>\n",
       "    <tr>\n",
       "      <th>1</th>\n",
       "      <td>1</td>\n",
       "      <td>1</td>\n",
       "      <td>NaN</td>\n",
       "      <td>movie/concerthall</td>\n",
       "      <td>37.5239</td>\n",
       "      <td>127.025</td>\n",
       "      <td>서울특별시 강남구 신사동  568-2</td>\n",
       "      <td>10001</td>\n",
       "      <td>BBC씨어터</td>\n",
       "    </tr>\n",
       "    <tr>\n",
       "      <th>2</th>\n",
       "      <td>2</td>\n",
       "      <td>2</td>\n",
       "      <td>NaN</td>\n",
       "      <td>movie/concerthall</td>\n",
       "      <td>37.5688</td>\n",
       "      <td>126.988</td>\n",
       "      <td>서울특별시 종로구 관철동 33-1</td>\n",
       "      <td>10002</td>\n",
       "      <td>BREAK OUT 전용극장</td>\n",
       "    </tr>\n",
       "    <tr>\n",
       "      <th>3</th>\n",
       "      <td>3</td>\n",
       "      <td>3</td>\n",
       "      <td>NaN</td>\n",
       "      <td>movie/concerthall</td>\n",
       "      <td>37.5491</td>\n",
       "      <td>126.923</td>\n",
       "      <td>서울특별시 마포구 와우산로 51</td>\n",
       "      <td>10003</td>\n",
       "      <td>BYRDS(버즈)</td>\n",
       "    </tr>\n",
       "    <tr>\n",
       "      <th>4</th>\n",
       "      <td>4</td>\n",
       "      <td>4</td>\n",
       "      <td>NaN</td>\n",
       "      <td>movie/concerthall</td>\n",
       "      <td>37.5548</td>\n",
       "      <td>126.923</td>\n",
       "      <td>서울특별시 마포구 어울마당로 114</td>\n",
       "      <td>10004</td>\n",
       "      <td>Between the Bars</td>\n",
       "    </tr>\n",
       "  </tbody>\n",
       "</table>\n",
       "</div>"
      ],
      "text/plain": [
       "   index  Unnamed: 0  Unnamed: 0.1           category      lat      lon  \\\n",
       "0      0           0           NaN  movie/concerthall  37.5833  127.002   \n",
       "1      1           1           NaN  movie/concerthall  37.5239  127.025   \n",
       "2      2           2           NaN  movie/concerthall  37.5688  126.988   \n",
       "3      3           3           NaN  movie/concerthall  37.5491  126.923   \n",
       "4      4           4           NaN  movie/concerthall  37.5548  126.923   \n",
       "\n",
       "          place_address  place_id        place_name  \n",
       "0    서울특별시 종로구 동숭동 1-37     10000     A아트홀(구.신연아트홀)  \n",
       "1  서울특별시 강남구 신사동  568-2     10001            BBC씨어터  \n",
       "2    서울특별시 종로구 관철동 33-1     10002    BREAK OUT 전용극장  \n",
       "3     서울특별시 마포구 와우산로 51     10003         BYRDS(버즈)  \n",
       "4   서울특별시 마포구 어울마당로 114     10004  Between the Bars  "
      ]
     },
     "execution_count": 139,
     "metadata": {},
     "output_type": "execute_result"
    }
   ],
   "source": [
    "zzang_place.head()"
   ]
  },
  {
   "cell_type": "code",
   "execution_count": 141,
   "metadata": {},
   "outputs": [],
   "source": [
    "zzang_place.drop(columns={'Unnamed: 0','Unnamed: 0.1','index'},inplace=True)"
   ]
  },
  {
   "cell_type": "code",
   "execution_count": 143,
   "metadata": {},
   "outputs": [
    {
     "data": {
      "text/html": [
       "<div>\n",
       "<style scoped>\n",
       "    .dataframe tbody tr th:only-of-type {\n",
       "        vertical-align: middle;\n",
       "    }\n",
       "\n",
       "    .dataframe tbody tr th {\n",
       "        vertical-align: top;\n",
       "    }\n",
       "\n",
       "    .dataframe thead th {\n",
       "        text-align: right;\n",
       "    }\n",
       "</style>\n",
       "<table border=\"1\" class=\"dataframe\">\n",
       "  <thead>\n",
       "    <tr style=\"text-align: right;\">\n",
       "      <th></th>\n",
       "      <th>category</th>\n",
       "      <th>lat</th>\n",
       "      <th>lon</th>\n",
       "      <th>place_address</th>\n",
       "      <th>place_id</th>\n",
       "      <th>place_name</th>\n",
       "    </tr>\n",
       "  </thead>\n",
       "  <tbody>\n",
       "    <tr>\n",
       "      <th>17231</th>\n",
       "      <td>subway</td>\n",
       "      <td>37.63459</td>\n",
       "      <td>126.832645</td>\n",
       "      <td>NaN</td>\n",
       "      <td>319</td>\n",
       "      <td>화정</td>\n",
       "    </tr>\n",
       "    <tr>\n",
       "      <th>17232</th>\n",
       "      <td>subway</td>\n",
       "      <td>37.58975600000001</td>\n",
       "      <td>127.057977</td>\n",
       "      <td>NaN</td>\n",
       "      <td>320</td>\n",
       "      <td>회기</td>\n",
       "    </tr>\n",
       "    <tr>\n",
       "      <th>17233</th>\n",
       "      <td>subway</td>\n",
       "      <td>37.724522</td>\n",
       "      <td>127.0472035</td>\n",
       "      <td>NaN</td>\n",
       "      <td>321</td>\n",
       "      <td>회룡</td>\n",
       "    </tr>\n",
       "    <tr>\n",
       "      <th>17234</th>\n",
       "      <td>subway</td>\n",
       "      <td>37.5596339</td>\n",
       "      <td>126.9797158</td>\n",
       "      <td>NaN</td>\n",
       "      <td>322</td>\n",
       "      <td>회현</td>\n",
       "    </tr>\n",
       "    <tr>\n",
       "      <th>17235</th>\n",
       "      <td>subway</td>\n",
       "      <td>37.539289</td>\n",
       "      <td>126.961339</td>\n",
       "      <td>NaN</td>\n",
       "      <td>323</td>\n",
       "      <td>효창공원앞</td>\n",
       "    </tr>\n",
       "  </tbody>\n",
       "</table>\n",
       "</div>"
      ],
      "text/plain": [
       "      category                lat          lon place_address  place_id  \\\n",
       "17231   subway           37.63459   126.832645           NaN       319   \n",
       "17232   subway  37.58975600000001   127.057977           NaN       320   \n",
       "17233   subway          37.724522  127.0472035           NaN       321   \n",
       "17234   subway         37.5596339  126.9797158           NaN       322   \n",
       "17235   subway          37.539289   126.961339           NaN       323   \n",
       "\n",
       "      place_name  \n",
       "17231         화정  \n",
       "17232         회기  \n",
       "17233         회룡  \n",
       "17234         회현  \n",
       "17235      효창공원앞  "
      ]
     },
     "execution_count": 143,
     "metadata": {},
     "output_type": "execute_result"
    }
   ],
   "source": [
    "zzang_place.tail()"
   ]
  },
  {
   "cell_type": "code",
   "execution_count": 144,
   "metadata": {
    "scrolled": true
   },
   "outputs": [
    {
     "name": "stdout",
     "output_type": "stream",
     "text": [
      "<class 'pandas.core.frame.DataFrame'>\n",
      "RangeIndex: 17236 entries, 0 to 17235\n",
      "Data columns (total 6 columns):\n",
      "category         17236 non-null object\n",
      "lat              17236 non-null object\n",
      "lon              17236 non-null object\n",
      "place_address    16912 non-null object\n",
      "place_id         17236 non-null int64\n",
      "place_name       17236 non-null object\n",
      "dtypes: int64(1), object(5)\n",
      "memory usage: 808.0+ KB\n"
     ]
    }
   ],
   "source": [
    "zzang_place.info()"
   ]
  },
  {
   "cell_type": "code",
   "execution_count": 145,
   "metadata": {},
   "outputs": [],
   "source": [
    "zzang_place.to_csv('ZZANG_PLACE.csv')"
   ]
  },
  {
   "cell_type": "code",
   "execution_count": 152,
   "metadata": {},
   "outputs": [
    {
     "data": {
      "text/plain": [
       "array(['movie/concerthall', 'shopping/mart', 'publicparking',\n",
       "       'publictoilet', 'hospital', 'publicinstitution', 'bank',\n",
       "       'education/Childcare', 'beauty/hair', 'other', 'korean_food',\n",
       "       'western_food', 'chinese_food', 'japanese_food', 'other_food',\n",
       "       'tourist hotel', 'education/job', 'restaurant', 'shopping',\n",
       "       'apartment subsidiary facility', 'exhibition center', 'factory',\n",
       "       'broadcasting station', 'concert hall', 'movie', 'public parking',\n",
       "       'hotel', 'convenience store/bakery', 'stadium', 'university',\n",
       "       'telecommunication office', 'government office building', 'church',\n",
       "       'daycare center', 'massage parlor', 'general hospital',\n",
       "       'kindergarten', 'meeting hall', 'welfare/senior',\n",
       "       'elementary school', 'welfare/etc', 'community service center',\n",
       "       'high school', 'junior high school', 'police station',\n",
       "       'post office', 'city park', 'training facility/urban',\n",
       "       'toilet/public', 'welfare/disabled', 'gym', 'library',\n",
       "       'health center', 'outdoor theater', 'funeral hall',\n",
       "       'welfare/child', 'training facility/rural', 'driving academy',\n",
       "       'national health insurance corporation',\n",
       "       'national pension service', 'community child center',\n",
       "       'special-education school', 'nature park', 'shelter',\n",
       "       'public library', 'college', 'workers welfare service',\n",
       "       'disabled employment agency', 'service area', 'toilet/open',\n",
       "       'toilet/small', 'daycare', 'wellfare', 'sports/rehab',\n",
       "       'signinterpret', 'hospital/rehab', 'subway'], dtype=object)"
      ]
     },
     "execution_count": 152,
     "metadata": {},
     "output_type": "execute_result"
    }
   ],
   "source": [
    "zzang_place.category.unique()"
   ]
  },
  {
   "cell_type": "code",
   "execution_count": 169,
   "metadata": {
    "scrolled": true
   },
   "outputs": [
    {
     "data": {
      "text/plain": [
       "<matplotlib.axes._subplots.AxesSubplot object at 0x000000DE79B51320>"
      ]
     },
     "execution_count": 169,
     "metadata": {},
     "output_type": "execute_result"
    },
    {
     "data": {
      "image/png": "[encoded data removed]",
      "text/plain": [
       "<Figure size 432x288 with 1 Axes>"
      ]
     },
     "metadata": {},
     "output_type": "display_data"
    }
   ],
   "source": [
    "zzang_place.groupby('category').sum().plot()"
   ]
  },
  {
   "cell_type": "code",
   "execution_count": null,
   "metadata": {},
   "outputs": [],
   "source": [
    "# 구별로 , 시설"
   ]
  },
  {
   "cell_type": "code",
   "execution_count": null,
   "metadata": {},
   "outputs": [],
   "source": []
  },
  {
   "cell_type": "markdown",
   "metadata": {},
   "source": [
    "# FACILITY 합  #2번 테이블"
   ]
  },
  {
   "cell_type": "code",
   "execution_count": 170,
   "metadata": {
    "scrolled": true
   },
   "outputs": [
    {
     "name": "stdout",
     "output_type": "stream",
     "text": [
      "<class 'pandas.core.frame.DataFrame'>\n",
      "RangeIndex: 17604 entries, 0 to 17603\n",
      "Data columns (total 6 columns):\n",
      "Unnamed: 0                 17604 non-null int64\n",
      "facility_available_name    17604 non-null object\n",
      "facility_is_available      17604 non-null object\n",
      "place_name                 17604 non-null object\n",
      "place_id                   17604 non-null int64\n",
      "facility_id                17604 non-null int64\n",
      "dtypes: int64(3), object(3)\n",
      "memory usage: 825.3+ KB\n"
     ]
    }
   ],
   "source": [
    "yj_total_place_facility_available.info()"
   ]
  },
  {
   "cell_type": "code",
   "execution_count": 155,
   "metadata": {},
   "outputs": [
    {
     "data": {
      "text/plain": [
       "array(['주출입구 접근로', '주출입구 높이차이 제거', '장애인 전용 주차구역', '장애인용 승강기', '장애인용 관람석',\n",
       "       '장애인용 화장실'], dtype=object)"
      ]
     },
     "execution_count": 155,
     "metadata": {},
     "output_type": "execute_result"
    }
   ],
   "source": [
    "yj_total_place_facility_available.facility_available_name.unique()"
   ]
  },
  {
   "cell_type": "code",
   "execution_count": 157,
   "metadata": {},
   "outputs": [
    {
     "name": "stdout",
     "output_type": "stream",
     "text": [
      "<class 'pandas.core.frame.DataFrame'>\n",
      "RangeIndex: 90403 entries, 0 to 90402\n",
      "Data columns (total 6 columns):\n",
      "Unnamed: 0                  90403 non-null int64\n",
      "facility_id                 90403 non-null int64\n",
      "facillity_available_name    90403 non-null object\n",
      "facility_is_available       90403 non-null object\n",
      "place_name                  90403 non-null object\n",
      "place_id                    90403 non-null int64\n",
      "dtypes: int64(3), object(3)\n",
      "memory usage: 4.1+ MB\n"
     ]
    }
   ],
   "source": [
    "hj_place_facility_available.info()"
   ]
  },
  {
   "cell_type": "code",
   "execution_count": 162,
   "metadata": {},
   "outputs": [
    {
     "data": {
      "text/plain": [
       "array(['계단 또는 승강설비', '대변기', '장애인전용주차구역', '주출입구 높이차이 제거', '주출입구 접근로',\n",
       "       '출입구(문)', '해당시설 층수', '객실 및 침실', '복도', '세면대', '소변기', '일반사항', '비치용품',\n",
       "       '경보 및 피난설비', '유도 및 안내 설비', '점자블록', '관람석 및 열람석', '매표소', ' 판매기',\n",
       "       ' 음료대', '접수대 및 작업대', '샤워실 및 탈의실', '욕실', '없음'], dtype=object)"
      ]
     },
     "execution_count": 162,
     "metadata": {},
     "output_type": "execute_result"
    }
   ],
   "source": [
    "hj_place_facility_available.facillity_available_name.unique()"
   ]
  },
  {
   "cell_type": "code",
   "execution_count": 163,
   "metadata": {
    "scrolled": true
   },
   "outputs": [
    {
     "data": {
      "text/html": [
       "<div>\n",
       "<style scoped>\n",
       "    .dataframe tbody tr th:only-of-type {\n",
       "        vertical-align: middle;\n",
       "    }\n",
       "\n",
       "    .dataframe tbody tr th {\n",
       "        vertical-align: top;\n",
       "    }\n",
       "\n",
       "    .dataframe thead th {\n",
       "        text-align: right;\n",
       "    }\n",
       "</style>\n",
       "<table border=\"1\" class=\"dataframe\">\n",
       "  <thead>\n",
       "    <tr style=\"text-align: right;\">\n",
       "      <th></th>\n",
       "      <th>Unnamed: 0</th>\n",
       "      <th>facility_id</th>\n",
       "      <th>facillity_available_name</th>\n",
       "      <th>facility_is_available</th>\n",
       "      <th>place_name</th>\n",
       "      <th>place_id</th>\n",
       "    </tr>\n",
       "  </thead>\n",
       "  <tbody>\n",
       "    <tr>\n",
       "      <th>49336</th>\n",
       "      <td>49336</td>\n",
       "      <td>249336</td>\n",
       "      <td>없음</td>\n",
       "      <td>None</td>\n",
       "      <td>송순곤외 1인</td>\n",
       "      <td>25490</td>\n",
       "    </tr>\n",
       "  </tbody>\n",
       "</table>\n",
       "</div>"
      ],
      "text/plain": [
       "       Unnamed: 0  facility_id facillity_available_name facility_is_available  \\\n",
       "49336       49336       249336                       없음                  None   \n",
       "\n",
       "      place_name  place_id  \n",
       "49336    송순곤외 1인     25490  "
      ]
     },
     "execution_count": 163,
     "metadata": {},
     "output_type": "execute_result"
    }
   ],
   "source": [
    "hj_place_facility_available[hj_place_facility_available.facillity_available_name=='없음']"
   ]
  },
  {
   "cell_type": "code",
   "execution_count": 182,
   "metadata": {},
   "outputs": [
    {
     "data": {
      "text/plain": [
       "Unnamed: 0                    49335\n",
       "facility_id                  249335\n",
       "facillity_available_name    해당시설 층수\n",
       "facility_is_available          None\n",
       "place_name                   송림어린이집\n",
       "place_id                      25489\n",
       "Name: 49335, dtype: object"
      ]
     },
     "execution_count": 182,
     "metadata": {},
     "output_type": "execute_result"
    }
   ],
   "source": [
    "hh.iloc[49335]"
   ]
  },
  {
   "cell_type": "code",
   "execution_count": 184,
   "metadata": {},
   "outputs": [],
   "source": [
    "hh = hj_place_facility_available.drop(index=49336)"
   ]
  },
  {
   "cell_type": "code",
   "execution_count": 186,
   "metadata": {},
   "outputs": [],
   "source": [
    "hh = hh.drop(index=49335)"
   ]
  },
  {
   "cell_type": "code",
   "execution_count": 190,
   "metadata": {},
   "outputs": [],
   "source": [
    "hh.reset_index(inplace=True)"
   ]
  },
  {
   "cell_type": "code",
   "execution_count": 191,
   "metadata": {
    "scrolled": true
   },
   "outputs": [
    {
     "data": {
      "text/html": [
       "<div>\n",
       "<style scoped>\n",
       "    .dataframe tbody tr th:only-of-type {\n",
       "        vertical-align: middle;\n",
       "    }\n",
       "\n",
       "    .dataframe tbody tr th {\n",
       "        vertical-align: top;\n",
       "    }\n",
       "\n",
       "    .dataframe thead th {\n",
       "        text-align: right;\n",
       "    }\n",
       "</style>\n",
       "<table border=\"1\" class=\"dataframe\">\n",
       "  <thead>\n",
       "    <tr style=\"text-align: right;\">\n",
       "      <th></th>\n",
       "      <th>index</th>\n",
       "      <th>Unnamed: 0</th>\n",
       "      <th>facility_id</th>\n",
       "      <th>facillity_available_name</th>\n",
       "      <th>facility_is_available</th>\n",
       "      <th>place_name</th>\n",
       "      <th>place_id</th>\n",
       "    </tr>\n",
       "  </thead>\n",
       "  <tbody>\n",
       "    <tr>\n",
       "      <th>0</th>\n",
       "      <td>0</td>\n",
       "      <td>0</td>\n",
       "      <td>200000</td>\n",
       "      <td>계단 또는 승강설비</td>\n",
       "      <td>None</td>\n",
       "      <td>(구)왕십리클리닉빌딩</td>\n",
       "      <td>20000</td>\n",
       "    </tr>\n",
       "    <tr>\n",
       "      <th>1</th>\n",
       "      <td>1</td>\n",
       "      <td>1</td>\n",
       "      <td>200001</td>\n",
       "      <td>대변기</td>\n",
       "      <td>None</td>\n",
       "      <td>(구)왕십리클리닉빌딩</td>\n",
       "      <td>20000</td>\n",
       "    </tr>\n",
       "    <tr>\n",
       "      <th>2</th>\n",
       "      <td>2</td>\n",
       "      <td>2</td>\n",
       "      <td>200002</td>\n",
       "      <td>장애인전용주차구역</td>\n",
       "      <td>None</td>\n",
       "      <td>(구)왕십리클리닉빌딩</td>\n",
       "      <td>20000</td>\n",
       "    </tr>\n",
       "    <tr>\n",
       "      <th>3</th>\n",
       "      <td>3</td>\n",
       "      <td>3</td>\n",
       "      <td>200003</td>\n",
       "      <td>주출입구 높이차이 제거</td>\n",
       "      <td>None</td>\n",
       "      <td>(구)왕십리클리닉빌딩</td>\n",
       "      <td>20000</td>\n",
       "    </tr>\n",
       "    <tr>\n",
       "      <th>4</th>\n",
       "      <td>4</td>\n",
       "      <td>4</td>\n",
       "      <td>200004</td>\n",
       "      <td>주출입구 접근로</td>\n",
       "      <td>None</td>\n",
       "      <td>(구)왕십리클리닉빌딩</td>\n",
       "      <td>20000</td>\n",
       "    </tr>\n",
       "  </tbody>\n",
       "</table>\n",
       "</div>"
      ],
      "text/plain": [
       "   index  Unnamed: 0  facility_id facillity_available_name  \\\n",
       "0      0           0       200000               계단 또는 승강설비   \n",
       "1      1           1       200001                      대변기   \n",
       "2      2           2       200002                장애인전용주차구역   \n",
       "3      3           3       200003             주출입구 높이차이 제거   \n",
       "4      4           4       200004                 주출입구 접근로   \n",
       "\n",
       "  facility_is_available   place_name  place_id  \n",
       "0                  None  (구)왕십리클리닉빌딩     20000  \n",
       "1                  None  (구)왕십리클리닉빌딩     20000  \n",
       "2                  None  (구)왕십리클리닉빌딩     20000  \n",
       "3                  None  (구)왕십리클리닉빌딩     20000  \n",
       "4                  None  (구)왕십리클리닉빌딩     20000  "
      ]
     },
     "execution_count": 191,
     "metadata": {},
     "output_type": "execute_result"
    }
   ],
   "source": [
    "hh.head()"
   ]
  },
  {
   "cell_type": "code",
   "execution_count": 192,
   "metadata": {
    "scrolled": true
   },
   "outputs": [
    {
     "name": "stdout",
     "output_type": "stream",
     "text": [
      "<class 'pandas.core.frame.DataFrame'>\n",
      "RangeIndex: 90401 entries, 0 to 90400\n",
      "Data columns (total 7 columns):\n",
      "index                       90401 non-null int64\n",
      "Unnamed: 0                  90401 non-null int64\n",
      "facility_id                 90401 non-null int64\n",
      "facillity_available_name    90401 non-null object\n",
      "facility_is_available       90401 non-null object\n",
      "place_name                  90401 non-null object\n",
      "place_id                    90401 non-null int64\n",
      "dtypes: int64(4), object(3)\n",
      "memory usage: 4.8+ MB\n"
     ]
    }
   ],
   "source": [
    "hh.info() # 2개가 빠졌으니까"
   ]
  },
  {
   "cell_type": "code",
   "execution_count": 201,
   "metadata": {},
   "outputs": [],
   "source": [
    "hh.rename({'facillity_available_name':'facility_available_name'},axis=1,inplace=True)"
   ]
  },
  {
   "cell_type": "code",
   "execution_count": 202,
   "metadata": {},
   "outputs": [
    {
     "name": "stdout",
     "output_type": "stream",
     "text": [
      "<class 'pandas.core.frame.DataFrame'>\n",
      "RangeIndex: 90401 entries, 0 to 90400\n",
      "Data columns (total 7 columns):\n",
      "index                      90401 non-null int64\n",
      "Unnamed: 0                 90401 non-null int64\n",
      "facility_id                90401 non-null int64\n",
      "facility_available_name    90401 non-null object\n",
      "facility_is_available      90401 non-null object\n",
      "place_name                 90401 non-null object\n",
      "place_id                   90401 non-null int64\n",
      "dtypes: int64(4), object(3)\n",
      "memory usage: 4.8+ MB\n"
     ]
    }
   ],
   "source": [
    "hh.info()"
   ]
  },
  {
   "cell_type": "code",
   "execution_count": 195,
   "metadata": {},
   "outputs": [
    {
     "name": "stdout",
     "output_type": "stream",
     "text": [
      "<class 'pandas.core.frame.DataFrame'>\n",
      "RangeIndex: 17604 entries, 0 to 17603\n",
      "Data columns (total 6 columns):\n",
      "Unnamed: 0                 17604 non-null int64\n",
      "facility_available_name    17604 non-null object\n",
      "facility_is_available      17604 non-null object\n",
      "place_name                 17604 non-null object\n",
      "place_id                   17604 non-null int64\n",
      "facility_id                17604 non-null int64\n",
      "dtypes: int64(3), object(3)\n",
      "memory usage: 825.3+ KB\n"
     ]
    }
   ],
   "source": [
    "yj_total_place_facility_available.info()"
   ]
  },
  {
   "cell_type": "code",
   "execution_count": 203,
   "metadata": {},
   "outputs": [],
   "source": [
    "zzang_facility = yj_total_place_facility_available.append(hh,sort=False)"
   ]
  },
  {
   "cell_type": "code",
   "execution_count": 206,
   "metadata": {},
   "outputs": [
    {
     "name": "stdout",
     "output_type": "stream",
     "text": [
      "<class 'pandas.core.frame.DataFrame'>\n",
      "Int64Index: 108005 entries, 0 to 90400\n",
      "Data columns (total 7 columns):\n",
      "Unnamed: 0                 108005 non-null int64\n",
      "facility_available_name    108005 non-null object\n",
      "facility_is_available      108005 non-null object\n",
      "place_name                 108005 non-null object\n",
      "place_id                   108005 non-null int64\n",
      "facility_id                108005 non-null int64\n",
      "index                      90401 non-null float64\n",
      "dtypes: float64(1), int64(3), object(3)\n",
      "memory usage: 6.6+ MB\n"
     ]
    }
   ],
   "source": [
    "zzang_facility.info()"
   ]
  },
  {
   "cell_type": "code",
   "execution_count": 159,
   "metadata": {},
   "outputs": [
    {
     "data": {
      "text/plain": [
       "array(['화장실', '엘리베이터', '휠체어리프트', '에스켈레이터', '수평보행기', '계단핸드레일'],\n",
       "      dtype=object)"
      ]
     },
     "execution_count": 159,
     "metadata": {},
     "output_type": "execute_result"
    }
   ],
   "source": [
    "jt_subway_facility.facility_available_name.unique()"
   ]
  },
  {
   "cell_type": "code",
   "execution_count": null,
   "metadata": {},
   "outputs": [],
   "source": [
    "#휠체어(절단장애,음료대,판매기,매표소) , 시각장애인(점자블록),청각장애인(수화),"
   ]
  },
  {
   "cell_type": "code",
   "execution_count": 205,
   "metadata": {},
   "outputs": [
    {
     "name": "stdout",
     "output_type": "stream",
     "text": [
      "<class 'pandas.core.frame.DataFrame'>\n",
      "RangeIndex: 4245 entries, 0 to 4244\n",
      "Data columns (total 5 columns):\n",
      "Unnamed: 0                 4245 non-null int64\n",
      "facility_available_name    4245 non-null object\n",
      "place_name                 4245 non-null object\n",
      "place_id                   4245 non-null int64\n",
      "facility_id                4245 non-null int64\n",
      "dtypes: int64(3), object(2)\n",
      "memory usage: 165.9+ KB\n"
     ]
    }
   ],
   "source": [
    "jm_seoul_toilets_facility.info()"
   ]
  },
  {
   "cell_type": "code",
   "execution_count": 207,
   "metadata": {},
   "outputs": [],
   "source": [
    "zzang_facility = zzang_facility.append(jm_seoul_toilets_facility,sort=False)"
   ]
  },
  {
   "cell_type": "code",
   "execution_count": 208,
   "metadata": {},
   "outputs": [
    {
     "name": "stdout",
     "output_type": "stream",
     "text": [
      "<class 'pandas.core.frame.DataFrame'>\n",
      "Int64Index: 112250 entries, 0 to 4244\n",
      "Data columns (total 7 columns):\n",
      "Unnamed: 0                 112250 non-null int64\n",
      "facility_available_name    112250 non-null object\n",
      "facility_is_available      108005 non-null object\n",
      "place_name                 112250 non-null object\n",
      "place_id                   112250 non-null int64\n",
      "facility_id                112250 non-null int64\n",
      "index                      90401 non-null float64\n",
      "dtypes: float64(1), int64(3), object(3)\n",
      "memory usage: 6.9+ MB\n"
     ]
    }
   ],
   "source": [
    "zzang_facility.info()"
   ]
  },
  {
   "cell_type": "code",
   "execution_count": 209,
   "metadata": {},
   "outputs": [
    {
     "name": "stdout",
     "output_type": "stream",
     "text": [
      "<class 'pandas.core.frame.DataFrame'>\n",
      "RangeIndex: 674 entries, 0 to 673\n",
      "Data columns (total 6 columns):\n",
      "Unnamed: 0                 674 non-null int64\n",
      "place_name                 674 non-null object\n",
      "place_id                   674 non-null int64\n",
      "facility_available_name    674 non-null object\n",
      "facility_id                674 non-null int64\n",
      "facility_is_available      674 non-null object\n",
      "dtypes: int64(3), object(3)\n",
      "memory usage: 31.7+ KB\n"
     ]
    }
   ],
   "source": [
    "jt_subway_facility.info()"
   ]
  },
  {
   "cell_type": "code",
   "execution_count": 210,
   "metadata": {},
   "outputs": [],
   "source": [
    "zzang_facility = zzang_facility.append(jt_subway_facility,sort=False)"
   ]
  },
  {
   "cell_type": "code",
   "execution_count": 211,
   "metadata": {},
   "outputs": [
    {
     "name": "stdout",
     "output_type": "stream",
     "text": [
      "<class 'pandas.core.frame.DataFrame'>\n",
      "Int64Index: 112924 entries, 0 to 673\n",
      "Data columns (total 7 columns):\n",
      "Unnamed: 0                 112924 non-null int64\n",
      "facility_available_name    112924 non-null object\n",
      "facility_is_available      108679 non-null object\n",
      "place_name                 112924 non-null object\n",
      "place_id                   112924 non-null int64\n",
      "facility_id                112924 non-null int64\n",
      "index                      90401 non-null float64\n",
      "dtypes: float64(1), int64(3), object(3)\n",
      "memory usage: 6.9+ MB\n"
     ]
    }
   ],
   "source": [
    "zzang_facility.info()"
   ]
  },
  {
   "cell_type": "code",
   "execution_count": 212,
   "metadata": {},
   "outputs": [],
   "source": [
    "zzang_facility.drop('index' , axis=1, inplace=True)"
   ]
  },
  {
   "cell_type": "code",
   "execution_count": 213,
   "metadata": {},
   "outputs": [
    {
     "name": "stdout",
     "output_type": "stream",
     "text": [
      "<class 'pandas.core.frame.DataFrame'>\n",
      "Int64Index: 112924 entries, 0 to 673\n",
      "Data columns (total 6 columns):\n",
      "Unnamed: 0                 112924 non-null int64\n",
      "facility_available_name    112924 non-null object\n",
      "facility_is_available      108679 non-null object\n",
      "place_name                 112924 non-null object\n",
      "place_id                   112924 non-null int64\n",
      "facility_id                112924 non-null int64\n",
      "dtypes: int64(3), object(3)\n",
      "memory usage: 6.0+ MB\n"
     ]
    }
   ],
   "source": [
    "zzang_facility.info() # is_available ( 화장실 데이터에는 없었으므로 na 처리됨 )"
   ]
  },
  {
   "cell_type": "code",
   "execution_count": 214,
   "metadata": {},
   "outputs": [],
   "source": [
    "zzang_facility.drop('Unnamed: 0' , axis=1, inplace=True)"
   ]
  },
  {
   "cell_type": "code",
   "execution_count": 215,
   "metadata": {},
   "outputs": [
    {
     "name": "stdout",
     "output_type": "stream",
     "text": [
      "<class 'pandas.core.frame.DataFrame'>\n",
      "Int64Index: 112924 entries, 0 to 673\n",
      "Data columns (total 5 columns):\n",
      "facility_available_name    112924 non-null object\n",
      "facility_is_available      108679 non-null object\n",
      "place_name                 112924 non-null object\n",
      "place_id                   112924 non-null int64\n",
      "facility_id                112924 non-null int64\n",
      "dtypes: int64(2), object(3)\n",
      "memory usage: 5.2+ MB\n"
     ]
    }
   ],
   "source": [
    "zzang_facility.info()"
   ]
  },
  {
   "cell_type": "code",
   "execution_count": 216,
   "metadata": {},
   "outputs": [],
   "source": [
    "zzang_facility.reset_index(inplace=True)"
   ]
  },
  {
   "cell_type": "code",
   "execution_count": 218,
   "metadata": {},
   "outputs": [
    {
     "data": {
      "text/html": [
       "<div>\n",
       "<style scoped>\n",
       "    .dataframe tbody tr th:only-of-type {\n",
       "        vertical-align: middle;\n",
       "    }\n",
       "\n",
       "    .dataframe tbody tr th {\n",
       "        vertical-align: top;\n",
       "    }\n",
       "\n",
       "    .dataframe thead th {\n",
       "        text-align: right;\n",
       "    }\n",
       "</style>\n",
       "<table border=\"1\" class=\"dataframe\">\n",
       "  <thead>\n",
       "    <tr style=\"text-align: right;\">\n",
       "      <th></th>\n",
       "      <th>index</th>\n",
       "      <th>facility_available_name</th>\n",
       "      <th>facility_is_available</th>\n",
       "      <th>place_name</th>\n",
       "      <th>place_id</th>\n",
       "      <th>facility_id</th>\n",
       "    </tr>\n",
       "  </thead>\n",
       "  <tbody>\n",
       "    <tr>\n",
       "      <th>0</th>\n",
       "      <td>0</td>\n",
       "      <td>주출입구 접근로</td>\n",
       "      <td>이용불편</td>\n",
       "      <td>A아트홀(구.신연아트홀)</td>\n",
       "      <td>0</td>\n",
       "      <td>100000</td>\n",
       "    </tr>\n",
       "    <tr>\n",
       "      <th>1</th>\n",
       "      <td>1</td>\n",
       "      <td>주출입구 높이차이 제거</td>\n",
       "      <td>이용가능</td>\n",
       "      <td>A아트홀(구.신연아트홀)</td>\n",
       "      <td>0</td>\n",
       "      <td>100001</td>\n",
       "    </tr>\n",
       "    <tr>\n",
       "      <th>2</th>\n",
       "      <td>2</td>\n",
       "      <td>주출입구 접근로</td>\n",
       "      <td>이용가능</td>\n",
       "      <td>BBC씨어터</td>\n",
       "      <td>1</td>\n",
       "      <td>100002</td>\n",
       "    </tr>\n",
       "    <tr>\n",
       "      <th>3</th>\n",
       "      <td>3</td>\n",
       "      <td>장애인 전용 주차구역</td>\n",
       "      <td>이용가능</td>\n",
       "      <td>BBC씨어터</td>\n",
       "      <td>1</td>\n",
       "      <td>100003</td>\n",
       "    </tr>\n",
       "    <tr>\n",
       "      <th>4</th>\n",
       "      <td>4</td>\n",
       "      <td>주출입구 높이차이 제거</td>\n",
       "      <td>이용가능</td>\n",
       "      <td>BBC씨어터</td>\n",
       "      <td>1</td>\n",
       "      <td>100004</td>\n",
       "    </tr>\n",
       "  </tbody>\n",
       "</table>\n",
       "</div>"
      ],
      "text/plain": [
       "   index facility_available_name facility_is_available     place_name  \\\n",
       "0      0                주출입구 접근로                  이용불편  A아트홀(구.신연아트홀)   \n",
       "1      1            주출입구 높이차이 제거                  이용가능  A아트홀(구.신연아트홀)   \n",
       "2      2                주출입구 접근로                  이용가능         BBC씨어터   \n",
       "3      3             장애인 전용 주차구역                  이용가능         BBC씨어터   \n",
       "4      4            주출입구 높이차이 제거                  이용가능         BBC씨어터   \n",
       "\n",
       "   place_id  facility_id  \n",
       "0         0       100000  \n",
       "1         0       100001  \n",
       "2         1       100002  \n",
       "3         1       100003  \n",
       "4         1       100004  "
      ]
     },
     "execution_count": 218,
     "metadata": {},
     "output_type": "execute_result"
    }
   ],
   "source": [
    "zzang_facility.head()"
   ]
  },
  {
   "cell_type": "code",
   "execution_count": 219,
   "metadata": {},
   "outputs": [],
   "source": [
    "zzang_facility.drop('index' , axis=1, inplace=True)"
   ]
  },
  {
   "cell_type": "code",
   "execution_count": 220,
   "metadata": {
    "scrolled": true
   },
   "outputs": [
    {
     "data": {
      "text/html": [
       "<div>\n",
       "<style scoped>\n",
       "    .dataframe tbody tr th:only-of-type {\n",
       "        vertical-align: middle;\n",
       "    }\n",
       "\n",
       "    .dataframe tbody tr th {\n",
       "        vertical-align: top;\n",
       "    }\n",
       "\n",
       "    .dataframe thead th {\n",
       "        text-align: right;\n",
       "    }\n",
       "</style>\n",
       "<table border=\"1\" class=\"dataframe\">\n",
       "  <thead>\n",
       "    <tr style=\"text-align: right;\">\n",
       "      <th></th>\n",
       "      <th>facility_available_name</th>\n",
       "      <th>facility_is_available</th>\n",
       "      <th>place_name</th>\n",
       "      <th>place_id</th>\n",
       "      <th>facility_id</th>\n",
       "    </tr>\n",
       "  </thead>\n",
       "  <tbody>\n",
       "    <tr>\n",
       "      <th>0</th>\n",
       "      <td>주출입구 접근로</td>\n",
       "      <td>이용불편</td>\n",
       "      <td>A아트홀(구.신연아트홀)</td>\n",
       "      <td>0</td>\n",
       "      <td>100000</td>\n",
       "    </tr>\n",
       "    <tr>\n",
       "      <th>1</th>\n",
       "      <td>주출입구 높이차이 제거</td>\n",
       "      <td>이용가능</td>\n",
       "      <td>A아트홀(구.신연아트홀)</td>\n",
       "      <td>0</td>\n",
       "      <td>100001</td>\n",
       "    </tr>\n",
       "    <tr>\n",
       "      <th>2</th>\n",
       "      <td>주출입구 접근로</td>\n",
       "      <td>이용가능</td>\n",
       "      <td>BBC씨어터</td>\n",
       "      <td>1</td>\n",
       "      <td>100002</td>\n",
       "    </tr>\n",
       "    <tr>\n",
       "      <th>3</th>\n",
       "      <td>장애인 전용 주차구역</td>\n",
       "      <td>이용가능</td>\n",
       "      <td>BBC씨어터</td>\n",
       "      <td>1</td>\n",
       "      <td>100003</td>\n",
       "    </tr>\n",
       "    <tr>\n",
       "      <th>4</th>\n",
       "      <td>주출입구 높이차이 제거</td>\n",
       "      <td>이용가능</td>\n",
       "      <td>BBC씨어터</td>\n",
       "      <td>1</td>\n",
       "      <td>100004</td>\n",
       "    </tr>\n",
       "  </tbody>\n",
       "</table>\n",
       "</div>"
      ],
      "text/plain": [
       "  facility_available_name facility_is_available     place_name  place_id  \\\n",
       "0                주출입구 접근로                  이용불편  A아트홀(구.신연아트홀)         0   \n",
       "1            주출입구 높이차이 제거                  이용가능  A아트홀(구.신연아트홀)         0   \n",
       "2                주출입구 접근로                  이용가능         BBC씨어터         1   \n",
       "3             장애인 전용 주차구역                  이용가능         BBC씨어터         1   \n",
       "4            주출입구 높이차이 제거                  이용가능         BBC씨어터         1   \n",
       "\n",
       "   facility_id  \n",
       "0       100000  \n",
       "1       100001  \n",
       "2       100002  \n",
       "3       100003  \n",
       "4       100004  "
      ]
     },
     "execution_count": 220,
     "metadata": {},
     "output_type": "execute_result"
    }
   ],
   "source": [
    "zzang_facility.head()"
   ]
  },
  {
   "cell_type": "code",
   "execution_count": 221,
   "metadata": {},
   "outputs": [
    {
     "data": {
      "text/html": [
       "<div>\n",
       "<style scoped>\n",
       "    .dataframe tbody tr th:only-of-type {\n",
       "        vertical-align: middle;\n",
       "    }\n",
       "\n",
       "    .dataframe tbody tr th {\n",
       "        vertical-align: top;\n",
       "    }\n",
       "\n",
       "    .dataframe thead th {\n",
       "        text-align: right;\n",
       "    }\n",
       "</style>\n",
       "<table border=\"1\" class=\"dataframe\">\n",
       "  <thead>\n",
       "    <tr style=\"text-align: right;\">\n",
       "      <th></th>\n",
       "      <th>facility_available_name</th>\n",
       "      <th>facility_is_available</th>\n",
       "      <th>place_name</th>\n",
       "      <th>place_id</th>\n",
       "      <th>facility_id</th>\n",
       "    </tr>\n",
       "  </thead>\n",
       "  <tbody>\n",
       "    <tr>\n",
       "      <th>112919</th>\n",
       "      <td>화장실</td>\n",
       "      <td>이용가능</td>\n",
       "      <td>회현</td>\n",
       "      <td>322</td>\n",
       "      <td>900669</td>\n",
       "    </tr>\n",
       "    <tr>\n",
       "      <th>112920</th>\n",
       "      <td>화장실</td>\n",
       "      <td>이용가능</td>\n",
       "      <td>효창공원앞</td>\n",
       "      <td>323</td>\n",
       "      <td>900670</td>\n",
       "    </tr>\n",
       "    <tr>\n",
       "      <th>112921</th>\n",
       "      <td>엘리베이터</td>\n",
       "      <td>이용가능</td>\n",
       "      <td>효창공원앞</td>\n",
       "      <td>323</td>\n",
       "      <td>900671</td>\n",
       "    </tr>\n",
       "    <tr>\n",
       "      <th>112922</th>\n",
       "      <td>에스켈레이터</td>\n",
       "      <td>이용가능</td>\n",
       "      <td>효창공원앞</td>\n",
       "      <td>323</td>\n",
       "      <td>900672</td>\n",
       "    </tr>\n",
       "    <tr>\n",
       "      <th>112923</th>\n",
       "      <td>휠체어리프트</td>\n",
       "      <td>이용가능</td>\n",
       "      <td>효창공원앞</td>\n",
       "      <td>323</td>\n",
       "      <td>900673</td>\n",
       "    </tr>\n",
       "  </tbody>\n",
       "</table>\n",
       "</div>"
      ],
      "text/plain": [
       "       facility_available_name facility_is_available place_name  place_id  \\\n",
       "112919                     화장실                  이용가능         회현       322   \n",
       "112920                     화장실                  이용가능      효창공원앞       323   \n",
       "112921                   엘리베이터                  이용가능      효창공원앞       323   \n",
       "112922                  에스켈레이터                  이용가능      효창공원앞       323   \n",
       "112923                  휠체어리프트                  이용가능      효창공원앞       323   \n",
       "\n",
       "        facility_id  \n",
       "112919       900669  \n",
       "112920       900670  \n",
       "112921       900671  \n",
       "112922       900672  \n",
       "112923       900673  "
      ]
     },
     "execution_count": 221,
     "metadata": {},
     "output_type": "execute_result"
    }
   ],
   "source": [
    "zzang_facility.tail()"
   ]
  },
  {
   "cell_type": "code",
   "execution_count": 222,
   "metadata": {},
   "outputs": [],
   "source": [
    "zzang_facility.to_csv('ZZANG_FACILITY.csv')"
   ]
  },
  {
   "cell_type": "markdown",
   "metadata": {},
   "source": [
    "# FACILITY 합  #3번 테이블 (YJ온리)"
   ]
  },
  {
   "cell_type": "code",
   "execution_count": 225,
   "metadata": {},
   "outputs": [
    {
     "name": "stdout",
     "output_type": "stream",
     "text": [
      "<class 'pandas.core.frame.DataFrame'>\n",
      "RangeIndex: 83653 entries, 0 to 83652\n",
      "Data columns (total 4 columns):\n",
      "Unnamed: 0                 83653 non-null int64\n",
      "facility_detail_info       83653 non-null object\n",
      "facility_available_name    83653 non-null object\n",
      "facility_id                83653 non-null int64\n",
      "dtypes: int64(2), object(2)\n",
      "memory usage: 2.6+ MB\n"
     ]
    }
   ],
   "source": [
    "yj_total_place_facility_detail_info.info()"
   ]
  },
  {
   "cell_type": "code",
   "execution_count": 224,
   "metadata": {},
   "outputs": [
    {
     "data": {
      "text/html": [
       "<div>\n",
       "<style scoped>\n",
       "    .dataframe tbody tr th:only-of-type {\n",
       "        vertical-align: middle;\n",
       "    }\n",
       "\n",
       "    .dataframe tbody tr th {\n",
       "        vertical-align: top;\n",
       "    }\n",
       "\n",
       "    .dataframe thead th {\n",
       "        text-align: right;\n",
       "    }\n",
       "</style>\n",
       "<table border=\"1\" class=\"dataframe\">\n",
       "  <thead>\n",
       "    <tr style=\"text-align: right;\">\n",
       "      <th></th>\n",
       "      <th>Unnamed: 0</th>\n",
       "      <th>facility_detail_info</th>\n",
       "      <th>facility_available_name</th>\n",
       "      <th>facility_id</th>\n",
       "    </tr>\n",
       "  </thead>\n",
       "  <tbody>\n",
       "    <tr>\n",
       "      <th>83648</th>\n",
       "      <td>83648</td>\n",
       "      <td>상세정보 없음</td>\n",
       "      <td>주출입구 접근로</td>\n",
       "      <td>117601</td>\n",
       "    </tr>\n",
       "    <tr>\n",
       "      <th>83649</th>\n",
       "      <td>83649</td>\n",
       "      <td>총주차대수8</td>\n",
       "      <td>장애인 전용 주차구역</td>\n",
       "      <td>117602</td>\n",
       "    </tr>\n",
       "    <tr>\n",
       "      <th>83650</th>\n",
       "      <td>83650</td>\n",
       "      <td>전용주차대수  1</td>\n",
       "      <td>장애인 전용 주차구역</td>\n",
       "      <td>117602</td>\n",
       "    </tr>\n",
       "    <tr>\n",
       "      <th>83651</th>\n",
       "      <td>83651</td>\n",
       "      <td>경사로 1/12초과 설치</td>\n",
       "      <td>주출입구 높이차이 제거</td>\n",
       "      <td>117603</td>\n",
       "    </tr>\n",
       "    <tr>\n",
       "      <th>83652</th>\n",
       "      <td>83652</td>\n",
       "      <td>유효폭 1.2m 이상</td>\n",
       "      <td>주출입구 높이차이 제거</td>\n",
       "      <td>117603</td>\n",
       "    </tr>\n",
       "  </tbody>\n",
       "</table>\n",
       "</div>"
      ],
      "text/plain": [
       "       Unnamed: 0 facility_detail_info facility_available_name  facility_id\n",
       "83648       83648              상세정보 없음                주출입구 접근로       117601\n",
       "83649       83649               총주차대수8             장애인 전용 주차구역       117602\n",
       "83650       83650            전용주차대수  1             장애인 전용 주차구역       117602\n",
       "83651       83651        경사로 1/12초과 설치            주출입구 높이차이 제거       117603\n",
       "83652       83652          유효폭 1.2m 이상            주출입구 높이차이 제거       117603"
      ]
     },
     "execution_count": 224,
     "metadata": {},
     "output_type": "execute_result"
    }
   ],
   "source": [
    "yj_total_place_facility_detail_info.tail()"
   ]
  },
  {
   "cell_type": "code",
   "execution_count": 226,
   "metadata": {},
   "outputs": [],
   "source": [
    "yj_total_place_facility_detail_info.drop('Unnamed: 0' , axis=1, inplace=True)"
   ]
  },
  {
   "cell_type": "code",
   "execution_count": 227,
   "metadata": {},
   "outputs": [
    {
     "data": {
      "text/html": [
       "<div>\n",
       "<style scoped>\n",
       "    .dataframe tbody tr th:only-of-type {\n",
       "        vertical-align: middle;\n",
       "    }\n",
       "\n",
       "    .dataframe tbody tr th {\n",
       "        vertical-align: top;\n",
       "    }\n",
       "\n",
       "    .dataframe thead th {\n",
       "        text-align: right;\n",
       "    }\n",
       "</style>\n",
       "<table border=\"1\" class=\"dataframe\">\n",
       "  <thead>\n",
       "    <tr style=\"text-align: right;\">\n",
       "      <th></th>\n",
       "      <th>facility_detail_info</th>\n",
       "      <th>facility_available_name</th>\n",
       "      <th>facility_id</th>\n",
       "    </tr>\n",
       "  </thead>\n",
       "  <tbody>\n",
       "    <tr>\n",
       "      <th>0</th>\n",
       "      <td>평탄함</td>\n",
       "      <td>주출입구 접근로</td>\n",
       "      <td>100000</td>\n",
       "    </tr>\n",
       "    <tr>\n",
       "      <th>1</th>\n",
       "      <td>단차없음</td>\n",
       "      <td>주출입구 접근로</td>\n",
       "      <td>100000</td>\n",
       "    </tr>\n",
       "    <tr>\n",
       "      <th>2</th>\n",
       "      <td>기울기 1/18~1/12이하</td>\n",
       "      <td>주출입구 접근로</td>\n",
       "      <td>100000</td>\n",
       "    </tr>\n",
       "    <tr>\n",
       "      <th>3</th>\n",
       "      <td>보/차도 구분</td>\n",
       "      <td>주출입구 접근로</td>\n",
       "      <td>100000</td>\n",
       "    </tr>\n",
       "    <tr>\n",
       "      <th>4</th>\n",
       "      <td>상세정보 없음</td>\n",
       "      <td>주출입구 높이차이 제거</td>\n",
       "      <td>100001</td>\n",
       "    </tr>\n",
       "  </tbody>\n",
       "</table>\n",
       "</div>"
      ],
      "text/plain": [
       "  facility_detail_info facility_available_name  facility_id\n",
       "0                  평탄함                주출입구 접근로       100000\n",
       "1                 단차없음                주출입구 접근로       100000\n",
       "2      기울기 1/18~1/12이하                주출입구 접근로       100000\n",
       "3              보/차도 구분                주출입구 접근로       100000\n",
       "4              상세정보 없음            주출입구 높이차이 제거       100001"
      ]
     },
     "execution_count": 227,
     "metadata": {},
     "output_type": "execute_result"
    }
   ],
   "source": [
    "yj_total_place_facility_detail_info.head()"
   ]
  },
  {
   "cell_type": "code",
   "execution_count": null,
   "metadata": {},
   "outputs": [],
   "source": []
  }
 ],
 "metadata": {
  "kernelspec": {
   "display_name": "Python 3",
   "language": "python",
   "name": "python3"
  },
  "language_info": {
   "codemirror_mode": {
    "name": "ipython",
    "version": 3
   },
   "file_extension": ".py",
   "mimetype": "text/x-python",
   "name": "python",
   "nbconvert_exporter": "python",
   "pygments_lexer": "ipython3",
   "version": "3.6.5"
  }
 },
 "nbformat": 4,
 "nbformat_minor": 2
}
