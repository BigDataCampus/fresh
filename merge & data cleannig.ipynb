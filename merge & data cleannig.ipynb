{
 "cells": [
  {
   "cell_type": "markdown",
   "metadata": {},
   "source": [
    "# 데이터 불러오기"
   ]
  },
  {
   "cell_type": "code",
   "execution_count": 1,
   "metadata": {},
   "outputs": [],
   "source": [
    "import pandas as pd"
   ]
  },
  {
   "cell_type": "code",
   "execution_count": 2,
   "metadata": {},
   "outputs": [],
   "source": [
    "data_place = pd.read_csv('ZZANG/ZZANG_PLACE.csv', encoding='utf-8')"
   ]
  },
  {
   "cell_type": "code",
   "execution_count": 3,
   "metadata": {},
   "outputs": [],
   "source": [
    "data_place.drop(columns='Unnamed: 0', inplace=True)"
   ]
  },
  {
   "cell_type": "code",
   "execution_count": 4,
   "metadata": {},
   "outputs": [],
   "source": [
    "data_facility = pd.read_csv('ZZANG/ZZANG_FACILITY.csv', encoding='utf-8')"
   ]
  },
  {
   "cell_type": "code",
   "execution_count": 5,
   "metadata": {},
   "outputs": [],
   "source": [
    "data_facility.drop(columns='Unnamed: 0', inplace=True)"
   ]
  },
  {
   "cell_type": "code",
   "execution_count": 6,
   "metadata": {},
   "outputs": [
    {
     "name": "stdout",
     "output_type": "stream",
     "text": [
      "<class 'pandas.core.frame.DataFrame'>\n",
      "RangeIndex: 112925 entries, 0 to 112924\n",
      "Data columns (total 5 columns):\n",
      "facility_available_name    112925 non-null object\n",
      "facility_is_available      108680 non-null object\n",
      "place_name                 112925 non-null object\n",
      "place_id                   112925 non-null int64\n",
      "facility_id                112925 non-null int64\n",
      "dtypes: int64(2), object(3)\n",
      "memory usage: 4.3+ MB\n"
     ]
    }
   ],
   "source": [
    "data_facility.info()"
   ]
  },
  {
   "cell_type": "code",
   "execution_count": 7,
   "metadata": {},
   "outputs": [
    {
     "name": "stdout",
     "output_type": "stream",
     "text": [
      "<class 'pandas.core.frame.DataFrame'>\n",
      "RangeIndex: 16847 entries, 0 to 16846\n",
      "Data columns (total 6 columns):\n",
      "category         16847 non-null object\n",
      "lat              16847 non-null float64\n",
      "lon              16847 non-null float64\n",
      "place_address    16847 non-null object\n",
      "place_id         16847 non-null int64\n",
      "place_name       16847 non-null object\n",
      "dtypes: float64(2), int64(1), object(3)\n",
      "memory usage: 789.8+ KB\n"
     ]
    }
   ],
   "source": [
    "data_place.info()"
   ]
  },
  {
   "cell_type": "markdown",
   "metadata": {},
   "source": [
    "# 중복제거"
   ]
  },
  {
   "cell_type": "code",
   "execution_count": 8,
   "metadata": {
    "scrolled": false
   },
   "outputs": [
    {
     "name": "stdout",
     "output_type": "stream",
     "text": [
      "<class 'pandas.core.frame.DataFrame'>\n",
      "Int64Index: 9534 entries, 5047 to 892\n",
      "Data columns (total 6 columns):\n",
      "category         9534 non-null object\n",
      "lat              9534 non-null float64\n",
      "lon              9534 non-null float64\n",
      "place_address    9534 non-null object\n",
      "place_id         9534 non-null int64\n",
      "place_name       9534 non-null object\n",
      "dtypes: float64(2), int64(1), object(3)\n",
      "memory usage: 521.4+ KB\n"
     ]
    }
   ],
   "source": [
    "data_place[data_place.duplicated(subset=['place_name'], keep=False)].sort_values('place_name').info()\n",
    "# 주소와 장소 명이 같을 경우 중복"
   ]
  },
  {
   "cell_type": "code",
   "execution_count": 9,
   "metadata": {},
   "outputs": [],
   "source": [
    "data_place.drop_duplicates(subset=['place_name'],inplace=True)"
   ]
  },
  {
   "cell_type": "code",
   "execution_count": 10,
   "metadata": {},
   "outputs": [
    {
     "name": "stdout",
     "output_type": "stream",
     "text": [
      "<class 'pandas.core.frame.DataFrame'>\n",
      "Int64Index: 11732 entries, 0 to 16846\n",
      "Data columns (total 6 columns):\n",
      "category         11732 non-null object\n",
      "lat              11732 non-null float64\n",
      "lon              11732 non-null float64\n",
      "place_address    11732 non-null object\n",
      "place_id         11732 non-null int64\n",
      "place_name       11732 non-null object\n",
      "dtypes: float64(2), int64(1), object(3)\n",
      "memory usage: 641.6+ KB\n"
     ]
    }
   ],
   "source": [
    "data_place.info()"
   ]
  },
  {
   "cell_type": "code",
   "execution_count": 11,
   "metadata": {},
   "outputs": [
    {
     "data": {
      "text/html": [
       "<div>\n",
       "<style scoped>\n",
       "    .dataframe tbody tr th:only-of-type {\n",
       "        vertical-align: middle;\n",
       "    }\n",
       "\n",
       "    .dataframe tbody tr th {\n",
       "        vertical-align: top;\n",
       "    }\n",
       "\n",
       "    .dataframe thead th {\n",
       "        text-align: right;\n",
       "    }\n",
       "</style>\n",
       "<table border=\"1\" class=\"dataframe\">\n",
       "  <thead>\n",
       "    <tr style=\"text-align: right;\">\n",
       "      <th></th>\n",
       "      <th>category</th>\n",
       "      <th>lat</th>\n",
       "      <th>lon</th>\n",
       "      <th>place_address</th>\n",
       "      <th>place_id</th>\n",
       "      <th>place_name</th>\n",
       "    </tr>\n",
       "  </thead>\n",
       "  <tbody>\n",
       "  </tbody>\n",
       "</table>\n",
       "</div>"
      ],
      "text/plain": [
       "Empty DataFrame\n",
       "Columns: [category, lat, lon, place_address, place_id, place_name]\n",
       "Index: []"
      ]
     },
     "execution_count": 11,
     "metadata": {},
     "output_type": "execute_result"
    }
   ],
   "source": [
    "data_place[data_place.duplicated(subset=['place_name','place_address'], keep=False)].sort_values('place_name') # 확인"
   ]
  },
  {
   "cell_type": "code",
   "execution_count": 12,
   "metadata": {},
   "outputs": [],
   "source": [
    "data_place.drop_duplicates(subset=['lat','lon'],inplace=True) #좌표가 같은경우 같은 시설 서울대 서울대학원 서울~~~ "
   ]
  },
  {
   "cell_type": "code",
   "execution_count": 13,
   "metadata": {},
   "outputs": [
    {
     "name": "stdout",
     "output_type": "stream",
     "text": [
      "<class 'pandas.core.frame.DataFrame'>\n",
      "Int64Index: 11182 entries, 0 to 16846\n",
      "Data columns (total 6 columns):\n",
      "category         11182 non-null object\n",
      "lat              11182 non-null float64\n",
      "lon              11182 non-null float64\n",
      "place_address    11182 non-null object\n",
      "place_id         11182 non-null int64\n",
      "place_name       11182 non-null object\n",
      "dtypes: float64(2), int64(1), object(3)\n",
      "memory usage: 611.5+ KB\n"
     ]
    }
   ],
   "source": [
    "data_place.info()"
   ]
  },
  {
   "cell_type": "code",
   "execution_count": 14,
   "metadata": {
    "scrolled": true
   },
   "outputs": [
    {
     "name": "stdout",
     "output_type": "stream",
     "text": [
      "<class 'pandas.core.frame.DataFrame'>\n",
      "RangeIndex: 112925 entries, 0 to 112924\n",
      "Data columns (total 5 columns):\n",
      "facility_available_name    112925 non-null object\n",
      "facility_is_available      108680 non-null object\n",
      "place_name                 112925 non-null object\n",
      "place_id                   112925 non-null int64\n",
      "facility_id                112925 non-null int64\n",
      "dtypes: int64(2), object(3)\n",
      "memory usage: 4.3+ MB\n"
     ]
    }
   ],
   "source": [
    "data_facility.info()"
   ]
  },
  {
   "cell_type": "code",
   "execution_count": 15,
   "metadata": {},
   "outputs": [],
   "source": [
    "data_place.to_csv('main_place_for_analysis.csv')"
   ]
  },
  {
   "cell_type": "markdown",
   "metadata": {},
   "source": [
    "# merge (left join)"
   ]
  },
  {
   "cell_type": "code",
   "execution_count": 16,
   "metadata": {},
   "outputs": [],
   "source": [
    "merge_data = pd.merge(data_place, data_facility, sort= True,on =[ 'place_id','place_id'] ,how = 'left').sort_values(by = ['place_id'])"
   ]
  },
  {
   "cell_type": "code",
   "execution_count": 17,
   "metadata": {
    "scrolled": true
   },
   "outputs": [
    {
     "data": {
      "text/html": [
       "<div>\n",
       "<style scoped>\n",
       "    .dataframe tbody tr th:only-of-type {\n",
       "        vertical-align: middle;\n",
       "    }\n",
       "\n",
       "    .dataframe tbody tr th {\n",
       "        vertical-align: top;\n",
       "    }\n",
       "\n",
       "    .dataframe thead th {\n",
       "        text-align: right;\n",
       "    }\n",
       "</style>\n",
       "<table border=\"1\" class=\"dataframe\">\n",
       "  <thead>\n",
       "    <tr style=\"text-align: right;\">\n",
       "      <th></th>\n",
       "      <th>category</th>\n",
       "      <th>lat</th>\n",
       "      <th>lon</th>\n",
       "      <th>place_address</th>\n",
       "      <th>place_id</th>\n",
       "      <th>place_name_x</th>\n",
       "      <th>facility_available_name</th>\n",
       "      <th>facility_is_available</th>\n",
       "      <th>place_name_y</th>\n",
       "      <th>facility_id</th>\n",
       "    </tr>\n",
       "  </thead>\n",
       "  <tbody>\n",
       "    <tr>\n",
       "      <th>0</th>\n",
       "      <td>subway</td>\n",
       "      <td>37.492317</td>\n",
       "      <td>127.118104</td>\n",
       "      <td>서울특별시 송파구</td>\n",
       "      <td>0</td>\n",
       "      <td>가락시장</td>\n",
       "      <td>화장실</td>\n",
       "      <td>이용가능</td>\n",
       "      <td>가락시장</td>\n",
       "      <td>900000.0</td>\n",
       "    </tr>\n",
       "    <tr>\n",
       "      <th>1</th>\n",
       "      <td>subway</td>\n",
       "      <td>37.492317</td>\n",
       "      <td>127.118104</td>\n",
       "      <td>서울특별시 송파구</td>\n",
       "      <td>0</td>\n",
       "      <td>가락시장</td>\n",
       "      <td>엘리베이터</td>\n",
       "      <td>이용가능</td>\n",
       "      <td>가락시장</td>\n",
       "      <td>900001.0</td>\n",
       "    </tr>\n",
       "    <tr>\n",
       "      <th>2</th>\n",
       "      <td>subway</td>\n",
       "      <td>37.492317</td>\n",
       "      <td>127.118104</td>\n",
       "      <td>서울특별시 송파구</td>\n",
       "      <td>0</td>\n",
       "      <td>가락시장</td>\n",
       "      <td>휠체어리프트</td>\n",
       "      <td>이용가능</td>\n",
       "      <td>가락시장</td>\n",
       "      <td>900002.0</td>\n",
       "    </tr>\n",
       "    <tr>\n",
       "      <th>3</th>\n",
       "      <td>subway</td>\n",
       "      <td>37.480890</td>\n",
       "      <td>126.882574</td>\n",
       "      <td>서울특별시 금천구</td>\n",
       "      <td>1</td>\n",
       "      <td>가산디지털단지</td>\n",
       "      <td>에스켈레이터</td>\n",
       "      <td>이용가능</td>\n",
       "      <td>가산디지털단지</td>\n",
       "      <td>900003.0</td>\n",
       "    </tr>\n",
       "    <tr>\n",
       "      <th>4</th>\n",
       "      <td>subway</td>\n",
       "      <td>37.480890</td>\n",
       "      <td>126.882574</td>\n",
       "      <td>서울특별시 금천구</td>\n",
       "      <td>1</td>\n",
       "      <td>가산디지털단지</td>\n",
       "      <td>화장실</td>\n",
       "      <td>이용가능</td>\n",
       "      <td>가산디지털단지</td>\n",
       "      <td>900004.0</td>\n",
       "    </tr>\n",
       "  </tbody>\n",
       "</table>\n",
       "</div>"
      ],
      "text/plain": [
       "  category        lat         lon place_address  place_id place_name_x  \\\n",
       "0   subway  37.492317  127.118104     서울특별시 송파구         0         가락시장   \n",
       "1   subway  37.492317  127.118104     서울특별시 송파구         0         가락시장   \n",
       "2   subway  37.492317  127.118104     서울특별시 송파구         0         가락시장   \n",
       "3   subway  37.480890  126.882574     서울특별시 금천구         1      가산디지털단지   \n",
       "4   subway  37.480890  126.882574     서울특별시 금천구         1      가산디지털단지   \n",
       "\n",
       "  facility_available_name facility_is_available place_name_y  facility_id  \n",
       "0                     화장실                  이용가능         가락시장     900000.0  \n",
       "1                   엘리베이터                  이용가능         가락시장     900001.0  \n",
       "2                  휠체어리프트                  이용가능         가락시장     900002.0  \n",
       "3                  에스켈레이터                  이용가능      가산디지털단지     900003.0  \n",
       "4                     화장실                  이용가능      가산디지털단지     900004.0  "
      ]
     },
     "execution_count": 17,
     "metadata": {},
     "output_type": "execute_result"
    }
   ],
   "source": [
    "merge_data.head()"
   ]
  },
  {
   "cell_type": "code",
   "execution_count": 18,
   "metadata": {},
   "outputs": [
    {
     "data": {
      "text/html": [
       "<div>\n",
       "<style scoped>\n",
       "    .dataframe tbody tr th:only-of-type {\n",
       "        vertical-align: middle;\n",
       "    }\n",
       "\n",
       "    .dataframe tbody tr th {\n",
       "        vertical-align: top;\n",
       "    }\n",
       "\n",
       "    .dataframe thead th {\n",
       "        text-align: right;\n",
       "    }\n",
       "</style>\n",
       "<table border=\"1\" class=\"dataframe\">\n",
       "  <thead>\n",
       "    <tr style=\"text-align: right;\">\n",
       "      <th></th>\n",
       "      <th>category</th>\n",
       "      <th>lat</th>\n",
       "      <th>lon</th>\n",
       "      <th>place_address</th>\n",
       "      <th>place_id</th>\n",
       "      <th>place_name_x</th>\n",
       "      <th>facility_available_name</th>\n",
       "      <th>facility_is_available</th>\n",
       "      <th>place_name_y</th>\n",
       "      <th>facility_id</th>\n",
       "    </tr>\n",
       "  </thead>\n",
       "  <tbody>\n",
       "  </tbody>\n",
       "</table>\n",
       "</div>"
      ],
      "text/plain": [
       "Empty DataFrame\n",
       "Columns: [category, lat, lon, place_address, place_id, place_name_x, facility_available_name, facility_is_available, place_name_y, facility_id]\n",
       "Index: []"
      ]
     },
     "execution_count": 18,
     "metadata": {},
     "output_type": "execute_result"
    }
   ],
   "source": [
    "merge_data[merge_data.place_id.isna()]"
   ]
  },
  {
   "cell_type": "code",
   "execution_count": 19,
   "metadata": {},
   "outputs": [
    {
     "name": "stdout",
     "output_type": "stream",
     "text": [
      "<class 'pandas.core.frame.DataFrame'>\n",
      "Int64Index: 64175 entries, 0 to 64174\n",
      "Data columns (total 10 columns):\n",
      "category                   64175 non-null object\n",
      "lat                        64175 non-null float64\n",
      "lon                        64175 non-null float64\n",
      "place_address              64175 non-null object\n",
      "place_id                   64175 non-null int64\n",
      "place_name_x               64175 non-null object\n",
      "facility_available_name    63588 non-null object\n",
      "facility_is_available      59462 non-null object\n",
      "place_name_y               63588 non-null object\n",
      "facility_id                63588 non-null float64\n",
      "dtypes: float64(3), int64(1), object(6)\n",
      "memory usage: 5.4+ MB\n"
     ]
    }
   ],
   "source": [
    "merge_data.info()"
   ]
  },
  {
   "cell_type": "code",
   "execution_count": 20,
   "metadata": {},
   "outputs": [],
   "source": [
    "merge_data.drop(columns=['place_name_y'], inplace=True)"
   ]
  },
  {
   "cell_type": "code",
   "execution_count": 21,
   "metadata": {},
   "outputs": [],
   "source": [
    "merge_data.rename(columns={\"place_name_x\" : \"place_name\"}, inplace=True)"
   ]
  },
  {
   "cell_type": "code",
   "execution_count": 22,
   "metadata": {
    "scrolled": false
   },
   "outputs": [
    {
     "data": {
      "text/html": [
       "<div>\n",
       "<style scoped>\n",
       "    .dataframe tbody tr th:only-of-type {\n",
       "        vertical-align: middle;\n",
       "    }\n",
       "\n",
       "    .dataframe tbody tr th {\n",
       "        vertical-align: top;\n",
       "    }\n",
       "\n",
       "    .dataframe thead th {\n",
       "        text-align: right;\n",
       "    }\n",
       "</style>\n",
       "<table border=\"1\" class=\"dataframe\">\n",
       "  <thead>\n",
       "    <tr style=\"text-align: right;\">\n",
       "      <th></th>\n",
       "      <th>category</th>\n",
       "      <th>lat</th>\n",
       "      <th>lon</th>\n",
       "      <th>place_address</th>\n",
       "      <th>place_id</th>\n",
       "      <th>place_name</th>\n",
       "      <th>facility_available_name</th>\n",
       "      <th>facility_is_available</th>\n",
       "      <th>facility_id</th>\n",
       "    </tr>\n",
       "  </thead>\n",
       "  <tbody>\n",
       "    <tr>\n",
       "      <th>31708</th>\n",
       "      <td>bank</td>\n",
       "      <td>37.523115</td>\n",
       "      <td>126.872957</td>\n",
       "      <td>서울특별시 양천구 오목로54길 23</td>\n",
       "      <td>23407</td>\n",
       "      <td>문창오피스텔</td>\n",
       "      <td>대변기</td>\n",
       "      <td>None</td>\n",
       "      <td>229990.0</td>\n",
       "    </tr>\n",
       "    <tr>\n",
       "      <th>15729</th>\n",
       "      <td>korean_food</td>\n",
       "      <td>37.671040</td>\n",
       "      <td>127.052987</td>\n",
       "      <td>서울특별시 노원구 수락산로 232</td>\n",
       "      <td>14891</td>\n",
       "      <td>근린생활시설(착한고기)</td>\n",
       "      <td>주출입구 접근로</td>\n",
       "      <td>이용불편</td>\n",
       "      <td>116700.0</td>\n",
       "    </tr>\n",
       "    <tr>\n",
       "      <th>5405</th>\n",
       "      <td>publicinstitution</td>\n",
       "      <td>37.570765</td>\n",
       "      <td>126.972236</td>\n",
       "      <td>서울특별시 종로구 경희궁길 6-3</td>\n",
       "      <td>11441</td>\n",
       "      <td>신문로파출소</td>\n",
       "      <td>장애인 전용 주차구역</td>\n",
       "      <td>이용가능</td>\n",
       "      <td>105134.0</td>\n",
       "    </tr>\n",
       "    <tr>\n",
       "      <th>58550</th>\n",
       "      <td>toilet/open</td>\n",
       "      <td>37.475386</td>\n",
       "      <td>127.127570</td>\n",
       "      <td>서울특별시 송파구 가락동 78</td>\n",
       "      <td>30162</td>\n",
       "      <td>아이티벤처타워 화장실</td>\n",
       "      <td>비치용품</td>\n",
       "      <td>None</td>\n",
       "      <td>288536.0</td>\n",
       "    </tr>\n",
       "    <tr>\n",
       "      <th>6454</th>\n",
       "      <td>publicinstitution</td>\n",
       "      <td>37.510670</td>\n",
       "      <td>126.962785</td>\n",
       "      <td>서울특별시 동작구 현충로 56</td>\n",
       "      <td>11772</td>\n",
       "      <td>흑석1동파출소</td>\n",
       "      <td>주출입구 접근로</td>\n",
       "      <td>이용가능</td>\n",
       "      <td>106264.0</td>\n",
       "    </tr>\n",
       "    <tr>\n",
       "      <th>43851</th>\n",
       "      <td>bank</td>\n",
       "      <td>37.521365</td>\n",
       "      <td>126.884539</td>\n",
       "      <td>서울특별시 영등포구 선유서로 61</td>\n",
       "      <td>26556</td>\n",
       "      <td>양평동 월드메르디앙 오피스텔</td>\n",
       "      <td>주출입구 접근로</td>\n",
       "      <td>None</td>\n",
       "      <td>258499.0</td>\n",
       "    </tr>\n",
       "    <tr>\n",
       "      <th>58992</th>\n",
       "      <td>toilet/open</td>\n",
       "      <td>37.506080</td>\n",
       "      <td>127.105904</td>\n",
       "      <td>서울특별시 송파구 송파동 19-1</td>\n",
       "      <td>30196</td>\n",
       "      <td>잠실주유소(셀프) 화장실</td>\n",
       "      <td>남성용-소변기</td>\n",
       "      <td>NaN</td>\n",
       "      <td>300729.0</td>\n",
       "    </tr>\n",
       "    <tr>\n",
       "      <th>55111</th>\n",
       "      <td>bank</td>\n",
       "      <td>37.557882</td>\n",
       "      <td>126.847428</td>\n",
       "      <td>서울특별시 강서구 공항대로  355</td>\n",
       "      <td>29619</td>\n",
       "      <td>한국여자농구연맹</td>\n",
       "      <td>해당시설 층수</td>\n",
       "      <td>None</td>\n",
       "      <td>284180.0</td>\n",
       "    </tr>\n",
       "    <tr>\n",
       "      <th>3196</th>\n",
       "      <td>hospital</td>\n",
       "      <td>37.560649</td>\n",
       "      <td>127.036153</td>\n",
       "      <td>서울특별시 성동구 왕십리로  296</td>\n",
       "      <td>10791</td>\n",
       "      <td>연세병원</td>\n",
       "      <td>장애인용 화장실</td>\n",
       "      <td>이용가능</td>\n",
       "      <td>102703.0</td>\n",
       "    </tr>\n",
       "    <tr>\n",
       "      <th>38868</th>\n",
       "      <td>education/job</td>\n",
       "      <td>37.476985</td>\n",
       "      <td>126.900792</td>\n",
       "      <td>서울특별시 금천구 시흥대로152길 33</td>\n",
       "      <td>25098</td>\n",
       "      <td>성광교회교육관</td>\n",
       "      <td>해당시설 층수</td>\n",
       "      <td>None</td>\n",
       "      <td>245877.0</td>\n",
       "    </tr>\n",
       "  </tbody>\n",
       "</table>\n",
       "</div>"
      ],
      "text/plain": [
       "                category        lat         lon          place_address  \\\n",
       "31708               bank  37.523115  126.872957    서울특별시 양천구 오목로54길 23   \n",
       "15729        korean_food  37.671040  127.052987     서울특별시 노원구 수락산로 232   \n",
       "5405   publicinstitution  37.570765  126.972236     서울특별시 종로구 경희궁길 6-3   \n",
       "58550        toilet/open  37.475386  127.127570       서울특별시 송파구 가락동 78   \n",
       "6454   publicinstitution  37.510670  126.962785       서울특별시 동작구 현충로 56   \n",
       "43851               bank  37.521365  126.884539     서울특별시 영등포구 선유서로 61   \n",
       "58992        toilet/open  37.506080  127.105904     서울특별시 송파구 송파동 19-1   \n",
       "55111               bank  37.557882  126.847428    서울특별시 강서구 공항대로  355   \n",
       "3196            hospital  37.560649  127.036153    서울특별시 성동구 왕십리로  296   \n",
       "38868      education/job  37.476985  126.900792  서울특별시 금천구 시흥대로152길 33   \n",
       "\n",
       "       place_id       place_name facility_available_name  \\\n",
       "31708     23407           문창오피스텔                     대변기   \n",
       "15729     14891     근린생활시설(착한고기)                주출입구 접근로   \n",
       "5405      11441           신문로파출소             장애인 전용 주차구역   \n",
       "58550     30162      아이티벤처타워 화장실                    비치용품   \n",
       "6454      11772          흑석1동파출소                주출입구 접근로   \n",
       "43851     26556  양평동 월드메르디앙 오피스텔                주출입구 접근로   \n",
       "58992     30196    잠실주유소(셀프) 화장실                 남성용-소변기   \n",
       "55111     29619         한국여자농구연맹                 해당시설 층수   \n",
       "3196      10791             연세병원                장애인용 화장실   \n",
       "38868     25098          성광교회교육관                 해당시설 층수   \n",
       "\n",
       "      facility_is_available  facility_id  \n",
       "31708                  None     229990.0  \n",
       "15729                  이용불편     116700.0  \n",
       "5405                   이용가능     105134.0  \n",
       "58550                  None     288536.0  \n",
       "6454                   이용가능     106264.0  \n",
       "43851                  None     258499.0  \n",
       "58992                   NaN     300729.0  \n",
       "55111                  None     284180.0  \n",
       "3196                   이용가능     102703.0  \n",
       "38868                  None     245877.0  "
      ]
     },
     "execution_count": 22,
     "metadata": {},
     "output_type": "execute_result"
    }
   ],
   "source": [
    "merge_data.sample(10)"
   ]
  },
  {
   "cell_type": "code",
   "execution_count": 23,
   "metadata": {},
   "outputs": [
    {
     "data": {
      "text/plain": [
       "array(['subway', 'movie/concerthall', 'shopping/mart', 'publicparking',\n",
       "       'publictoilet', 'hospital', 'publicinstitution', 'bank',\n",
       "       'education/Childcare', 'beauty/hair', 'other', 'korean_food',\n",
       "       'western_food', 'chinese_food', 'japanese_food', 'other_food',\n",
       "       'tourist hotel', 'restaurant', 'education/job', 'shopping',\n",
       "       'apartment subsidiary facility', 'exhibition center',\n",
       "       'concert hall', 'movie', 'public parking', 'hotel',\n",
       "       'convenience store/bakery', 'university',\n",
       "       'telecommunication office', 'daycare center',\n",
       "       'broadcasting station', 'government office building',\n",
       "       'massage parlor', 'kindergarten', 'factory', 'welfare/senior',\n",
       "       'welfare/etc', 'community service center', 'city park',\n",
       "       'welfare/disabled', 'general hospital', 'health center',\n",
       "       'meeting hall', 'training facility/rural', 'welfare/child',\n",
       "       'church', 'stadium', 'high school', 'post office',\n",
       "       'police station', 'nature park', 'toilet/public',\n",
       "       'national health insurance corporation',\n",
       "       'national pension service', 'junior high school',\n",
       "       'driving academy', 'library', 'elementary school',\n",
       "       'special-education school', 'training facility/urban',\n",
       "       'public library', 'gym', 'college', 'toilet/open', 'toilet/small',\n",
       "       'wellfare', 'daycare', 'sports/rehab', 'signinterpret',\n",
       "       'hospital/rehab'], dtype=object)"
      ]
     },
     "execution_count": 23,
     "metadata": {},
     "output_type": "execute_result"
    }
   ],
   "source": [
    "merge_data.category.unique()"
   ]
  },
  {
   "cell_type": "markdown",
   "metadata": {},
   "source": [
    "# nan, None 정제"
   ]
  },
  {
   "cell_type": "code",
   "execution_count": 24,
   "metadata": {},
   "outputs": [],
   "source": [
    "import numpy as np"
   ]
  },
  {
   "cell_type": "code",
   "execution_count": 25,
   "metadata": {},
   "outputs": [],
   "source": [
    "merge_data.replace(np.nan, '', inplace=True)"
   ]
  },
  {
   "cell_type": "code",
   "execution_count": 26,
   "metadata": {},
   "outputs": [],
   "source": [
    "merge_data.replace(\"None\", '', inplace=True)"
   ]
  },
  {
   "cell_type": "code",
   "execution_count": 27,
   "metadata": {},
   "outputs": [],
   "source": [
    "merge_data.facility_id.replace(\"\", -1, inplace=True)"
   ]
  },
  {
   "cell_type": "code",
   "execution_count": 28,
   "metadata": {},
   "outputs": [],
   "source": [
    "merge_data.facility_id = merge_data.facility_id.astype('int64')"
   ]
  },
  {
   "cell_type": "code",
   "execution_count": 29,
   "metadata": {},
   "outputs": [
    {
     "data": {
      "text/html": [
       "<div>\n",
       "<style scoped>\n",
       "    .dataframe tbody tr th:only-of-type {\n",
       "        vertical-align: middle;\n",
       "    }\n",
       "\n",
       "    .dataframe tbody tr th {\n",
       "        vertical-align: top;\n",
       "    }\n",
       "\n",
       "    .dataframe thead th {\n",
       "        text-align: right;\n",
       "    }\n",
       "</style>\n",
       "<table border=\"1\" class=\"dataframe\">\n",
       "  <thead>\n",
       "    <tr style=\"text-align: right;\">\n",
       "      <th></th>\n",
       "      <th>category</th>\n",
       "      <th>lat</th>\n",
       "      <th>lon</th>\n",
       "      <th>place_address</th>\n",
       "      <th>place_id</th>\n",
       "      <th>place_name</th>\n",
       "      <th>facility_available_name</th>\n",
       "      <th>facility_is_available</th>\n",
       "      <th>facility_id</th>\n",
       "    </tr>\n",
       "  </thead>\n",
       "  <tbody>\n",
       "    <tr>\n",
       "      <th>7</th>\n",
       "      <td>subway</td>\n",
       "      <td>37.464689</td>\n",
       "      <td>126.693408</td>\n",
       "      <td>서울특별시 남동구</td>\n",
       "      <td>2</td>\n",
       "      <td>간석</td>\n",
       "      <td></td>\n",
       "      <td></td>\n",
       "      <td>-1</td>\n",
       "    </tr>\n",
       "    <tr>\n",
       "      <th>20</th>\n",
       "      <td>subway</td>\n",
       "      <td>37.494698</td>\n",
       "      <td>126.858504</td>\n",
       "      <td>서울특별시 구로구</td>\n",
       "      <td>9</td>\n",
       "      <td>개봉</td>\n",
       "      <td></td>\n",
       "      <td></td>\n",
       "      <td>-1</td>\n",
       "    </tr>\n",
       "    <tr>\n",
       "      <th>31</th>\n",
       "      <td>subway</td>\n",
       "      <td>37.443987</td>\n",
       "      <td>127.007899</td>\n",
       "      <td>서울특별시 null</td>\n",
       "      <td>13</td>\n",
       "      <td>경마공원</td>\n",
       "      <td></td>\n",
       "      <td></td>\n",
       "      <td>-1</td>\n",
       "    </tr>\n",
       "    <tr>\n",
       "      <th>40</th>\n",
       "      <td>subway</td>\n",
       "      <td>37.316821</td>\n",
       "      <td>126.823094</td>\n",
       "      <td>서울특별시 단원구</td>\n",
       "      <td>18</td>\n",
       "      <td>고잔</td>\n",
       "      <td></td>\n",
       "      <td></td>\n",
       "      <td>-1</td>\n",
       "    </tr>\n",
       "    <tr>\n",
       "      <th>41</th>\n",
       "      <td>subway</td>\n",
       "      <td>35.892157</td>\n",
       "      <td>128.553464</td>\n",
       "      <td>서울특별시 단원구</td>\n",
       "      <td>19</td>\n",
       "      <td>공단</td>\n",
       "      <td></td>\n",
       "      <td></td>\n",
       "      <td>-1</td>\n",
       "    </tr>\n",
       "    <tr>\n",
       "      <th>48</th>\n",
       "      <td>subway</td>\n",
       "      <td>37.433205</td>\n",
       "      <td>126.996404</td>\n",
       "      <td>서울특별시 null</td>\n",
       "      <td>22</td>\n",
       "      <td>과천</td>\n",
       "      <td></td>\n",
       "      <td></td>\n",
       "      <td>-1</td>\n",
       "    </tr>\n",
       "    <tr>\n",
       "      <th>49</th>\n",
       "      <td>subway</td>\n",
       "      <td>37.419578</td>\n",
       "      <td>126.908476</td>\n",
       "      <td>서울특별시 만안구</td>\n",
       "      <td>23</td>\n",
       "      <td>관악</td>\n",
       "      <td></td>\n",
       "      <td></td>\n",
       "      <td>-1</td>\n",
       "    </tr>\n",
       "    <tr>\n",
       "      <th>66</th>\n",
       "      <td>subway</td>\n",
       "      <td>37.503178</td>\n",
       "      <td>126.882037</td>\n",
       "      <td>서울특별시 구로구</td>\n",
       "      <td>29</td>\n",
       "      <td>구로</td>\n",
       "      <td></td>\n",
       "      <td></td>\n",
       "      <td>-1</td>\n",
       "    </tr>\n",
       "    <tr>\n",
       "      <th>76</th>\n",
       "      <td>subway</td>\n",
       "      <td>37.496273</td>\n",
       "      <td>126.869599</td>\n",
       "      <td>서울특별시 구로구</td>\n",
       "      <td>33</td>\n",
       "      <td>구일</td>\n",
       "      <td></td>\n",
       "      <td></td>\n",
       "      <td>-1</td>\n",
       "    </tr>\n",
       "    <tr>\n",
       "      <th>82</th>\n",
       "      <td>subway</td>\n",
       "      <td>37.353732</td>\n",
       "      <td>126.948517</td>\n",
       "      <td>서울특별시 null</td>\n",
       "      <td>36</td>\n",
       "      <td>군포</td>\n",
       "      <td></td>\n",
       "      <td></td>\n",
       "      <td>-1</td>\n",
       "    </tr>\n",
       "    <tr>\n",
       "      <th>86</th>\n",
       "      <td>subway</td>\n",
       "      <td>37.372237</td>\n",
       "      <td>126.943489</td>\n",
       "      <td>서울특별시 null</td>\n",
       "      <td>38</td>\n",
       "      <td>금정</td>\n",
       "      <td></td>\n",
       "      <td></td>\n",
       "      <td>-1</td>\n",
       "    </tr>\n",
       "    <tr>\n",
       "      <th>112</th>\n",
       "      <td>subway</td>\n",
       "      <td>37.540597</td>\n",
       "      <td>126.971171</td>\n",
       "      <td>서울특별시 용산구</td>\n",
       "      <td>48</td>\n",
       "      <td>남영</td>\n",
       "      <td></td>\n",
       "      <td></td>\n",
       "      <td>-1</td>\n",
       "    </tr>\n",
       "    <tr>\n",
       "      <th>123</th>\n",
       "      <td>subway</td>\n",
       "      <td>37.514072</td>\n",
       "      <td>126.941670</td>\n",
       "      <td>서울특별시 동작구</td>\n",
       "      <td>52</td>\n",
       "      <td>노량진</td>\n",
       "      <td></td>\n",
       "      <td></td>\n",
       "      <td>-1</td>\n",
       "    </tr>\n",
       "    <tr>\n",
       "      <th>132</th>\n",
       "      <td>subway</td>\n",
       "      <td>37.644599</td>\n",
       "      <td>127.051406</td>\n",
       "      <td>서울특별시 도봉구</td>\n",
       "      <td>56</td>\n",
       "      <td>녹천</td>\n",
       "      <td></td>\n",
       "      <td></td>\n",
       "      <td>-1</td>\n",
       "    </tr>\n",
       "    <tr>\n",
       "      <th>147</th>\n",
       "      <td>subway</td>\n",
       "      <td>37.631957</td>\n",
       "      <td>126.810297</td>\n",
       "      <td>서울특별시 덕양구</td>\n",
       "      <td>62</td>\n",
       "      <td>대곡</td>\n",
       "      <td></td>\n",
       "      <td></td>\n",
       "      <td>-1</td>\n",
       "    </tr>\n",
       "    <tr>\n",
       "      <th>148</th>\n",
       "      <td>subway</td>\n",
       "      <td>37.435724</td>\n",
       "      <td>127.006474</td>\n",
       "      <td>서울특별시 null</td>\n",
       "      <td>63</td>\n",
       "      <td>대공원</td>\n",
       "      <td></td>\n",
       "      <td></td>\n",
       "      <td>-1</td>\n",
       "    </tr>\n",
       "    <tr>\n",
       "      <th>153</th>\n",
       "      <td>subway</td>\n",
       "      <td>37.512537</td>\n",
       "      <td>126.926392</td>\n",
       "      <td>서울특별시 영등포구</td>\n",
       "      <td>65</td>\n",
       "      <td>대방</td>\n",
       "      <td></td>\n",
       "      <td></td>\n",
       "      <td>-1</td>\n",
       "    </tr>\n",
       "    <tr>\n",
       "      <th>154</th>\n",
       "      <td>subway</td>\n",
       "      <td>37.328304</td>\n",
       "      <td>126.917160</td>\n",
       "      <td>서울특별시 null</td>\n",
       "      <td>66</td>\n",
       "      <td>대야미</td>\n",
       "      <td></td>\n",
       "      <td></td>\n",
       "      <td>-1</td>\n",
       "    </tr>\n",
       "    <tr>\n",
       "      <th>160</th>\n",
       "      <td>subway</td>\n",
       "      <td>37.675883</td>\n",
       "      <td>126.747756</td>\n",
       "      <td>서울특별시 일산서구</td>\n",
       "      <td>69</td>\n",
       "      <td>대화</td>\n",
       "      <td></td>\n",
       "      <td></td>\n",
       "      <td>-1</td>\n",
       "    </tr>\n",
       "    <tr>\n",
       "      <th>170</th>\n",
       "      <td>subway</td>\n",
       "      <td>37.679441</td>\n",
       "      <td>127.045521</td>\n",
       "      <td>서울특별시 도봉구</td>\n",
       "      <td>73</td>\n",
       "      <td>도봉</td>\n",
       "      <td></td>\n",
       "      <td></td>\n",
       "      <td>-1</td>\n",
       "    </tr>\n",
       "    <tr>\n",
       "      <th>173</th>\n",
       "      <td>subway</td>\n",
       "      <td>37.468604</td>\n",
       "      <td>126.642824</td>\n",
       "      <td>서울특별시 동구</td>\n",
       "      <td>75</td>\n",
       "      <td>도원</td>\n",
       "      <td></td>\n",
       "      <td></td>\n",
       "      <td>-1</td>\n",
       "    </tr>\n",
       "    <tr>\n",
       "      <th>181</th>\n",
       "      <td>subway</td>\n",
       "      <td>37.465994</td>\n",
       "      <td>126.889508</td>\n",
       "      <td>서울특별시 금천구</td>\n",
       "      <td>78</td>\n",
       "      <td>독산</td>\n",
       "      <td></td>\n",
       "      <td></td>\n",
       "      <td>-1</td>\n",
       "    </tr>\n",
       "    <tr>\n",
       "      <th>200</th>\n",
       "      <td>subway</td>\n",
       "      <td>37.470869</td>\n",
       "      <td>126.702884</td>\n",
       "      <td>서울특별시 부평구</td>\n",
       "      <td>85</td>\n",
       "      <td>동암</td>\n",
       "      <td></td>\n",
       "      <td></td>\n",
       "      <td>-1</td>\n",
       "    </tr>\n",
       "    <tr>\n",
       "      <th>201</th>\n",
       "      <td>subway</td>\n",
       "      <td>37.475414</td>\n",
       "      <td>126.632598</td>\n",
       "      <td>서울특별시 중구</td>\n",
       "      <td>86</td>\n",
       "      <td>동인천</td>\n",
       "      <td></td>\n",
       "      <td></td>\n",
       "      <td>-1</td>\n",
       "    </tr>\n",
       "    <tr>\n",
       "      <th>204</th>\n",
       "      <td>subway</td>\n",
       "      <td>36.833791</td>\n",
       "      <td>127.148905</td>\n",
       "      <td>서울특별시 서북구</td>\n",
       "      <td>88</td>\n",
       "      <td>두정</td>\n",
       "      <td></td>\n",
       "      <td></td>\n",
       "      <td>-1</td>\n",
       "    </tr>\n",
       "    <tr>\n",
       "      <th>213</th>\n",
       "      <td>subway</td>\n",
       "      <td>37.561918</td>\n",
       "      <td>126.826919</td>\n",
       "      <td>서울특별시 강서구</td>\n",
       "      <td>92</td>\n",
       "      <td>마곡</td>\n",
       "      <td></td>\n",
       "      <td></td>\n",
       "      <td>-1</td>\n",
       "    </tr>\n",
       "    <tr>\n",
       "      <th>214</th>\n",
       "      <td>subway</td>\n",
       "      <td>37.652185</td>\n",
       "      <td>126.777641</td>\n",
       "      <td>서울특별시 일산동구</td>\n",
       "      <td>93</td>\n",
       "      <td>마두</td>\n",
       "      <td></td>\n",
       "      <td></td>\n",
       "      <td>-1</td>\n",
       "    </tr>\n",
       "    <tr>\n",
       "      <th>222</th>\n",
       "      <td>subway</td>\n",
       "      <td>37.495020</td>\n",
       "      <td>127.152790</td>\n",
       "      <td>서울특별시 송파구</td>\n",
       "      <td>96</td>\n",
       "      <td>마천</td>\n",
       "      <td></td>\n",
       "      <td></td>\n",
       "      <td>-1</td>\n",
       "    </tr>\n",
       "    <tr>\n",
       "      <th>229</th>\n",
       "      <td>subway</td>\n",
       "      <td>37.710499</td>\n",
       "      <td>127.047360</td>\n",
       "      <td>서울특별시 마포구</td>\n",
       "      <td>100</td>\n",
       "      <td>망월산</td>\n",
       "      <td></td>\n",
       "      <td></td>\n",
       "      <td>-1</td>\n",
       "    </tr>\n",
       "    <tr>\n",
       "      <th>244</th>\n",
       "      <td>subway</td>\n",
       "      <td>37.390084</td>\n",
       "      <td>126.930507</td>\n",
       "      <td>서울특별시 만안구</td>\n",
       "      <td>106</td>\n",
       "      <td>명학</td>\n",
       "      <td></td>\n",
       "      <td></td>\n",
       "      <td>-1</td>\n",
       "    </tr>\n",
       "    <tr>\n",
       "      <th>...</th>\n",
       "      <td>...</td>\n",
       "      <td>...</td>\n",
       "      <td>...</td>\n",
       "      <td>...</td>\n",
       "      <td>...</td>\n",
       "      <td>...</td>\n",
       "      <td>...</td>\n",
       "      <td>...</td>\n",
       "      <td>...</td>\n",
       "    </tr>\n",
       "    <tr>\n",
       "      <th>64145</th>\n",
       "      <td>education/job</td>\n",
       "      <td>37.346450</td>\n",
       "      <td>127.734111</td>\n",
       "      <td>경기도 여주시 강천면 원양1로 907 라파엘 직업재활센터</td>\n",
       "      <td>40284</td>\n",
       "      <td>라파엘 직업재활센터</td>\n",
       "      <td></td>\n",
       "      <td></td>\n",
       "      <td>-1</td>\n",
       "    </tr>\n",
       "    <tr>\n",
       "      <th>64146</th>\n",
       "      <td>education/job</td>\n",
       "      <td>37.526375</td>\n",
       "      <td>127.030281</td>\n",
       "      <td>강남구 언주로167길 35 4층 소망제이앤피</td>\n",
       "      <td>40288</td>\n",
       "      <td>소망제이앤피</td>\n",
       "      <td></td>\n",
       "      <td></td>\n",
       "      <td>-1</td>\n",
       "    </tr>\n",
       "    <tr>\n",
       "      <th>64147</th>\n",
       "      <td>education/job</td>\n",
       "      <td>37.491699</td>\n",
       "      <td>127.087595</td>\n",
       "      <td>강남구 양재대로55길 13 지하1층 래그랜느보호작업장</td>\n",
       "      <td>40290</td>\n",
       "      <td>래그랜느보호작업장</td>\n",
       "      <td></td>\n",
       "      <td></td>\n",
       "      <td>-1</td>\n",
       "    </tr>\n",
       "    <tr>\n",
       "      <th>64148</th>\n",
       "      <td>wellfare</td>\n",
       "      <td>37.570701</td>\n",
       "      <td>126.913825</td>\n",
       "      <td>서울특별시 서대문구 수색로4가길 23 서대문농아인복지관</td>\n",
       "      <td>40291</td>\n",
       "      <td>서대문농아인복지관</td>\n",
       "      <td></td>\n",
       "      <td></td>\n",
       "      <td>-1</td>\n",
       "    </tr>\n",
       "    <tr>\n",
       "      <th>64149</th>\n",
       "      <td>wellfare</td>\n",
       "      <td>37.519900</td>\n",
       "      <td>126.869881</td>\n",
       "      <td>서울특별시 양천구 목동동로 159 양천장애인복지관</td>\n",
       "      <td>40292</td>\n",
       "      <td>양천장애인복지관</td>\n",
       "      <td></td>\n",
       "      <td></td>\n",
       "      <td>-1</td>\n",
       "    </tr>\n",
       "    <tr>\n",
       "      <th>64150</th>\n",
       "      <td>wellfare</td>\n",
       "      <td>37.514663</td>\n",
       "      <td>127.114202</td>\n",
       "      <td>서울특별시 송파구 오금로11길 68 방이장애인복지관</td>\n",
       "      <td>40294</td>\n",
       "      <td>방이장애인복지관</td>\n",
       "      <td></td>\n",
       "      <td></td>\n",
       "      <td>-1</td>\n",
       "    </tr>\n",
       "    <tr>\n",
       "      <th>64151</th>\n",
       "      <td>wellfare</td>\n",
       "      <td>37.493905</td>\n",
       "      <td>127.155198</td>\n",
       "      <td>서울특별시 송파구 마천로61길 26 인성장애인복지관</td>\n",
       "      <td>40295</td>\n",
       "      <td>인성장애인복지관</td>\n",
       "      <td></td>\n",
       "      <td></td>\n",
       "      <td>-1</td>\n",
       "    </tr>\n",
       "    <tr>\n",
       "      <th>64152</th>\n",
       "      <td>education/job</td>\n",
       "      <td>37.488784</td>\n",
       "      <td>127.103615</td>\n",
       "      <td>강남구 밤고개로1길 34 밀알그린보호작업장</td>\n",
       "      <td>40296</td>\n",
       "      <td>밀알그린보호작업장</td>\n",
       "      <td></td>\n",
       "      <td></td>\n",
       "      <td>-1</td>\n",
       "    </tr>\n",
       "    <tr>\n",
       "      <th>64153</th>\n",
       "      <td>education/job</td>\n",
       "      <td>37.491440</td>\n",
       "      <td>127.145507</td>\n",
       "      <td>송파구 양산로8길 17 (거여동) 신아보호작업장</td>\n",
       "      <td>40297</td>\n",
       "      <td>신아보호작업장</td>\n",
       "      <td></td>\n",
       "      <td></td>\n",
       "      <td>-1</td>\n",
       "    </tr>\n",
       "    <tr>\n",
       "      <th>64154</th>\n",
       "      <td>education/job</td>\n",
       "      <td>37.491475</td>\n",
       "      <td>127.146676</td>\n",
       "      <td>송파구 양산로10길 26 (거여동) 임마누엘 보호작업시설</td>\n",
       "      <td>40298</td>\n",
       "      <td>임마누엘 보호작업시설</td>\n",
       "      <td></td>\n",
       "      <td></td>\n",
       "      <td>-1</td>\n",
       "    </tr>\n",
       "    <tr>\n",
       "      <th>64155</th>\n",
       "      <td>education/job</td>\n",
       "      <td>37.489769</td>\n",
       "      <td>127.142672</td>\n",
       "      <td>송파구 양산로 5 3층 (거여동) 구립송파구 장애인보호작업장</td>\n",
       "      <td>40301</td>\n",
       "      <td>구립송파구 장애인보호작업장</td>\n",
       "      <td></td>\n",
       "      <td></td>\n",
       "      <td>-1</td>\n",
       "    </tr>\n",
       "    <tr>\n",
       "      <th>64156</th>\n",
       "      <td>education/job</td>\n",
       "      <td>37.500461</td>\n",
       "      <td>127.105889</td>\n",
       "      <td>송파구 가락로 86 (석촌동) 5층 연화직업재활원</td>\n",
       "      <td>40302</td>\n",
       "      <td>연화직업재활원</td>\n",
       "      <td></td>\n",
       "      <td></td>\n",
       "      <td>-1</td>\n",
       "    </tr>\n",
       "    <tr>\n",
       "      <th>64157</th>\n",
       "      <td>education/job</td>\n",
       "      <td>37.491384</td>\n",
       "      <td>127.157453</td>\n",
       "      <td>송파구 성내천로 333-4 (마천동) 송파위더스</td>\n",
       "      <td>40303</td>\n",
       "      <td>송파위더스</td>\n",
       "      <td></td>\n",
       "      <td></td>\n",
       "      <td>-1</td>\n",
       "    </tr>\n",
       "    <tr>\n",
       "      <th>64158</th>\n",
       "      <td>education/job</td>\n",
       "      <td>37.514418</td>\n",
       "      <td>127.100649</td>\n",
       "      <td>송파구 올림픽로 269, 832호 (신천동, 롯데캐슬프라자) 효명장애인 보호작업시설</td>\n",
       "      <td>40304</td>\n",
       "      <td>효명장애인 보호작업시설</td>\n",
       "      <td></td>\n",
       "      <td></td>\n",
       "      <td>-1</td>\n",
       "    </tr>\n",
       "    <tr>\n",
       "      <th>64159</th>\n",
       "      <td>education/job</td>\n",
       "      <td>37.496327</td>\n",
       "      <td>127.154468</td>\n",
       "      <td>송파구 성내천로 271 (마천동) 행복보호작업장</td>\n",
       "      <td>40305</td>\n",
       "      <td>행복보호작업장</td>\n",
       "      <td></td>\n",
       "      <td></td>\n",
       "      <td>-1</td>\n",
       "    </tr>\n",
       "    <tr>\n",
       "      <th>64160</th>\n",
       "      <td>education/job</td>\n",
       "      <td>37.481135</td>\n",
       "      <td>127.127737</td>\n",
       "      <td>송파구 새말로10길 19 (문정동) 함재보호작업장</td>\n",
       "      <td>40307</td>\n",
       "      <td>함재보호작업장</td>\n",
       "      <td></td>\n",
       "      <td></td>\n",
       "      <td>-1</td>\n",
       "    </tr>\n",
       "    <tr>\n",
       "      <th>64161</th>\n",
       "      <td>education/job</td>\n",
       "      <td>37.487967</td>\n",
       "      <td>127.132597</td>\n",
       "      <td>송파구 송이로 31길 4-15(문정동) 두손장애인보호작업장</td>\n",
       "      <td>40308</td>\n",
       "      <td>두손장애인보호작업장</td>\n",
       "      <td></td>\n",
       "      <td></td>\n",
       "      <td>-1</td>\n",
       "    </tr>\n",
       "    <tr>\n",
       "      <th>64162</th>\n",
       "      <td>education/job</td>\n",
       "      <td>37.557735</td>\n",
       "      <td>127.158586</td>\n",
       "      <td>강동구 고덕로 295-45 라온클린패밀리</td>\n",
       "      <td>40309</td>\n",
       "      <td>라온클린패밀리</td>\n",
       "      <td></td>\n",
       "      <td></td>\n",
       "      <td>-1</td>\n",
       "    </tr>\n",
       "    <tr>\n",
       "      <th>64163</th>\n",
       "      <td>education/job</td>\n",
       "      <td>37.561246</td>\n",
       "      <td>127.155895</td>\n",
       "      <td>강동구 동남로 85길 15 성지보호작업장</td>\n",
       "      <td>40311</td>\n",
       "      <td>성지보호작업장</td>\n",
       "      <td></td>\n",
       "      <td></td>\n",
       "      <td>-1</td>\n",
       "    </tr>\n",
       "    <tr>\n",
       "      <th>64164</th>\n",
       "      <td>education/job</td>\n",
       "      <td>37.554311</td>\n",
       "      <td>127.136570</td>\n",
       "      <td>강동구 고덕로 100-5 강동구 장애인보호작업장</td>\n",
       "      <td>40312</td>\n",
       "      <td>강동구 장애인보호작업장</td>\n",
       "      <td></td>\n",
       "      <td></td>\n",
       "      <td>-1</td>\n",
       "    </tr>\n",
       "    <tr>\n",
       "      <th>64165</th>\n",
       "      <td>education/job</td>\n",
       "      <td>37.539149</td>\n",
       "      <td>127.146814</td>\n",
       "      <td>강동구 명일로 230 삼보프리빌 301호 아이티어빌리티센터</td>\n",
       "      <td>40313</td>\n",
       "      <td>아이티어빌리티센터</td>\n",
       "      <td></td>\n",
       "      <td></td>\n",
       "      <td>-1</td>\n",
       "    </tr>\n",
       "    <tr>\n",
       "      <th>64166</th>\n",
       "      <td>education/job</td>\n",
       "      <td>37.554317</td>\n",
       "      <td>127.128149</td>\n",
       "      <td>강동구 상암로3길 86 푸른보호작업장</td>\n",
       "      <td>40315</td>\n",
       "      <td>푸른보호작업장</td>\n",
       "      <td></td>\n",
       "      <td></td>\n",
       "      <td>-1</td>\n",
       "    </tr>\n",
       "    <tr>\n",
       "      <th>64167</th>\n",
       "      <td>education/job</td>\n",
       "      <td>37.530998</td>\n",
       "      <td>127.128193</td>\n",
       "      <td>강동구 풍성로 146 동안우리복지센터</td>\n",
       "      <td>40317</td>\n",
       "      <td>동안우리복지센터</td>\n",
       "      <td></td>\n",
       "      <td></td>\n",
       "      <td>-1</td>\n",
       "    </tr>\n",
       "    <tr>\n",
       "      <th>64168</th>\n",
       "      <td>education/job</td>\n",
       "      <td>37.535421</td>\n",
       "      <td>127.137407</td>\n",
       "      <td>강동구 진황도로 100 하이브 3층 파란마음복지센터</td>\n",
       "      <td>40318</td>\n",
       "      <td>파란마음복지센터</td>\n",
       "      <td></td>\n",
       "      <td></td>\n",
       "      <td>-1</td>\n",
       "    </tr>\n",
       "    <tr>\n",
       "      <th>64169</th>\n",
       "      <td>education/job</td>\n",
       "      <td>37.528758</td>\n",
       "      <td>127.132657</td>\n",
       "      <td>강동구 양재대로91길 62 (성내동, 동아아파트상가4층) 선한복지센터</td>\n",
       "      <td>40319</td>\n",
       "      <td>선한복지센터</td>\n",
       "      <td></td>\n",
       "      <td></td>\n",
       "      <td>-1</td>\n",
       "    </tr>\n",
       "    <tr>\n",
       "      <th>64170</th>\n",
       "      <td>education/job</td>\n",
       "      <td>37.549899</td>\n",
       "      <td>127.126549</td>\n",
       "      <td>강동구 암사동512-4 2층 소망드림복지센터</td>\n",
       "      <td>40320</td>\n",
       "      <td>소망드림복지센터</td>\n",
       "      <td></td>\n",
       "      <td></td>\n",
       "      <td>-1</td>\n",
       "    </tr>\n",
       "    <tr>\n",
       "      <th>64171</th>\n",
       "      <td>daycare</td>\n",
       "      <td>37.545872</td>\n",
       "      <td>126.849567</td>\n",
       "      <td>강서구 까치산로18나길 36 (화곡동 772-60 1층)</td>\n",
       "      <td>40326</td>\n",
       "      <td>로뎀나무</td>\n",
       "      <td></td>\n",
       "      <td></td>\n",
       "      <td>-1</td>\n",
       "    </tr>\n",
       "    <tr>\n",
       "      <th>64172</th>\n",
       "      <td>daycare</td>\n",
       "      <td>37.557676</td>\n",
       "      <td>127.013070</td>\n",
       "      <td>중구 다산로22길 11 (신당동 340-180) 1층</td>\n",
       "      <td>40328</td>\n",
       "      <td>파란마음주간보호센터</td>\n",
       "      <td></td>\n",
       "      <td></td>\n",
       "      <td>-1</td>\n",
       "    </tr>\n",
       "    <tr>\n",
       "      <th>64173</th>\n",
       "      <td>signinterpret</td>\n",
       "      <td>37.507644</td>\n",
       "      <td>127.105472</td>\n",
       "      <td>서울시 송파구 송파1동 15-2 3층 서울시 송파구 송파대로 460, 3층</td>\n",
       "      <td>40329</td>\n",
       "      <td>송파구수화통역센터</td>\n",
       "      <td></td>\n",
       "      <td></td>\n",
       "      <td>-1</td>\n",
       "    </tr>\n",
       "    <tr>\n",
       "      <th>64174</th>\n",
       "      <td>education/job</td>\n",
       "      <td>37.516988</td>\n",
       "      <td>127.041807</td>\n",
       "      <td>서울특별시 강남구 학동로 402 TEST</td>\n",
       "      <td>40330</td>\n",
       "      <td>TEST</td>\n",
       "      <td></td>\n",
       "      <td></td>\n",
       "      <td>-1</td>\n",
       "    </tr>\n",
       "  </tbody>\n",
       "</table>\n",
       "<p>587 rows × 9 columns</p>\n",
       "</div>"
      ],
      "text/plain": [
       "            category        lat         lon  \\\n",
       "7             subway  37.464689  126.693408   \n",
       "20            subway  37.494698  126.858504   \n",
       "31            subway  37.443987  127.007899   \n",
       "40            subway  37.316821  126.823094   \n",
       "41            subway  35.892157  128.553464   \n",
       "48            subway  37.433205  126.996404   \n",
       "49            subway  37.419578  126.908476   \n",
       "66            subway  37.503178  126.882037   \n",
       "76            subway  37.496273  126.869599   \n",
       "82            subway  37.353732  126.948517   \n",
       "86            subway  37.372237  126.943489   \n",
       "112           subway  37.540597  126.971171   \n",
       "123           subway  37.514072  126.941670   \n",
       "132           subway  37.644599  127.051406   \n",
       "147           subway  37.631957  126.810297   \n",
       "148           subway  37.435724  127.006474   \n",
       "153           subway  37.512537  126.926392   \n",
       "154           subway  37.328304  126.917160   \n",
       "160           subway  37.675883  126.747756   \n",
       "170           subway  37.679441  127.045521   \n",
       "173           subway  37.468604  126.642824   \n",
       "181           subway  37.465994  126.889508   \n",
       "200           subway  37.470869  126.702884   \n",
       "201           subway  37.475414  126.632598   \n",
       "204           subway  36.833791  127.148905   \n",
       "213           subway  37.561918  126.826919   \n",
       "214           subway  37.652185  126.777641   \n",
       "222           subway  37.495020  127.152790   \n",
       "229           subway  37.710499  127.047360   \n",
       "244           subway  37.390084  126.930507   \n",
       "...              ...        ...         ...   \n",
       "64145  education/job  37.346450  127.734111   \n",
       "64146  education/job  37.526375  127.030281   \n",
       "64147  education/job  37.491699  127.087595   \n",
       "64148       wellfare  37.570701  126.913825   \n",
       "64149       wellfare  37.519900  126.869881   \n",
       "64150       wellfare  37.514663  127.114202   \n",
       "64151       wellfare  37.493905  127.155198   \n",
       "64152  education/job  37.488784  127.103615   \n",
       "64153  education/job  37.491440  127.145507   \n",
       "64154  education/job  37.491475  127.146676   \n",
       "64155  education/job  37.489769  127.142672   \n",
       "64156  education/job  37.500461  127.105889   \n",
       "64157  education/job  37.491384  127.157453   \n",
       "64158  education/job  37.514418  127.100649   \n",
       "64159  education/job  37.496327  127.154468   \n",
       "64160  education/job  37.481135  127.127737   \n",
       "64161  education/job  37.487967  127.132597   \n",
       "64162  education/job  37.557735  127.158586   \n",
       "64163  education/job  37.561246  127.155895   \n",
       "64164  education/job  37.554311  127.136570   \n",
       "64165  education/job  37.539149  127.146814   \n",
       "64166  education/job  37.554317  127.128149   \n",
       "64167  education/job  37.530998  127.128193   \n",
       "64168  education/job  37.535421  127.137407   \n",
       "64169  education/job  37.528758  127.132657   \n",
       "64170  education/job  37.549899  127.126549   \n",
       "64171        daycare  37.545872  126.849567   \n",
       "64172        daycare  37.557676  127.013070   \n",
       "64173  signinterpret  37.507644  127.105472   \n",
       "64174  education/job  37.516988  127.041807   \n",
       "\n",
       "                                        place_address  place_id  \\\n",
       "7                                           서울특별시 남동구         2   \n",
       "20                                          서울특별시 구로구         9   \n",
       "31                                         서울특별시 null        13   \n",
       "40                                          서울특별시 단원구        18   \n",
       "41                                          서울특별시 단원구        19   \n",
       "48                                         서울특별시 null        22   \n",
       "49                                          서울특별시 만안구        23   \n",
       "66                                          서울특별시 구로구        29   \n",
       "76                                          서울특별시 구로구        33   \n",
       "82                                         서울특별시 null        36   \n",
       "86                                         서울특별시 null        38   \n",
       "112                                         서울특별시 용산구        48   \n",
       "123                                         서울특별시 동작구        52   \n",
       "132                                         서울특별시 도봉구        56   \n",
       "147                                         서울특별시 덕양구        62   \n",
       "148                                        서울특별시 null        63   \n",
       "153                                        서울특별시 영등포구        65   \n",
       "154                                        서울특별시 null        66   \n",
       "160                                        서울특별시 일산서구        69   \n",
       "170                                         서울특별시 도봉구        73   \n",
       "173                                          서울특별시 동구        75   \n",
       "181                                         서울특별시 금천구        78   \n",
       "200                                         서울특별시 부평구        85   \n",
       "201                                          서울특별시 중구        86   \n",
       "204                                         서울특별시 서북구        88   \n",
       "213                                         서울특별시 강서구        92   \n",
       "214                                        서울특별시 일산동구        93   \n",
       "222                                         서울특별시 송파구        96   \n",
       "229                                         서울특별시 마포구       100   \n",
       "244                                         서울특별시 만안구       106   \n",
       "...                                               ...       ...   \n",
       "64145                 경기도 여주시 강천면 원양1로 907 라파엘 직업재활센터     40284   \n",
       "64146                        강남구 언주로167길 35 4층 소망제이앤피     40288   \n",
       "64147                   강남구 양재대로55길 13 지하1층 래그랜느보호작업장     40290   \n",
       "64148                  서울특별시 서대문구 수색로4가길 23 서대문농아인복지관     40291   \n",
       "64149                     서울특별시 양천구 목동동로 159 양천장애인복지관     40292   \n",
       "64150                    서울특별시 송파구 오금로11길 68 방이장애인복지관     40294   \n",
       "64151                    서울특별시 송파구 마천로61길 26 인성장애인복지관     40295   \n",
       "64152                         강남구 밤고개로1길 34 밀알그린보호작업장     40296   \n",
       "64153                      송파구 양산로8길 17 (거여동) 신아보호작업장     40297   \n",
       "64154                 송파구 양산로10길 26 (거여동) 임마누엘 보호작업시설     40298   \n",
       "64155               송파구 양산로 5 3층 (거여동) 구립송파구 장애인보호작업장     40301   \n",
       "64156                     송파구 가락로 86 (석촌동) 5층 연화직업재활원     40302   \n",
       "64157                      송파구 성내천로 333-4 (마천동) 송파위더스     40303   \n",
       "64158  송파구 올림픽로 269, 832호 (신천동, 롯데캐슬프라자) 효명장애인 보호작업시설     40304   \n",
       "64159                      송파구 성내천로 271 (마천동) 행복보호작업장     40305   \n",
       "64160                     송파구 새말로10길 19 (문정동) 함재보호작업장     40307   \n",
       "64161                송파구 송이로 31길 4-15(문정동) 두손장애인보호작업장     40308   \n",
       "64162                          강동구 고덕로 295-45 라온클린패밀리     40309   \n",
       "64163                          강동구 동남로 85길 15 성지보호작업장     40311   \n",
       "64164                      강동구 고덕로 100-5 강동구 장애인보호작업장     40312   \n",
       "64165                강동구 명일로 230 삼보프리빌 301호 아이티어빌리티센터     40313   \n",
       "64166                            강동구 상암로3길 86 푸른보호작업장     40315   \n",
       "64167                            강동구 풍성로 146 동안우리복지센터     40317   \n",
       "64168                    강동구 진황도로 100 하이브 3층 파란마음복지센터     40318   \n",
       "64169          강동구 양재대로91길 62 (성내동, 동아아파트상가4층) 선한복지센터     40319   \n",
       "64170                        강동구 암사동512-4 2층 소망드림복지센터     40320   \n",
       "64171                 강서구 까치산로18나길 36 (화곡동 772-60 1층)     40326   \n",
       "64172                   중구 다산로22길 11 (신당동 340-180) 1층     40328   \n",
       "64173       서울시 송파구 송파1동 15-2 3층 서울시 송파구 송파대로 460, 3층     40329   \n",
       "64174                          서울특별시 강남구 학동로 402 TEST     40330   \n",
       "\n",
       "           place_name facility_available_name facility_is_available  \\\n",
       "7                  간석                                                 \n",
       "20                 개봉                                                 \n",
       "31               경마공원                                                 \n",
       "40                 고잔                                                 \n",
       "41                 공단                                                 \n",
       "48                 과천                                                 \n",
       "49                 관악                                                 \n",
       "66                 구로                                                 \n",
       "76                 구일                                                 \n",
       "82                 군포                                                 \n",
       "86                 금정                                                 \n",
       "112                남영                                                 \n",
       "123               노량진                                                 \n",
       "132                녹천                                                 \n",
       "147                대곡                                                 \n",
       "148               대공원                                                 \n",
       "153                대방                                                 \n",
       "154               대야미                                                 \n",
       "160                대화                                                 \n",
       "170                도봉                                                 \n",
       "173                도원                                                 \n",
       "181                독산                                                 \n",
       "200                동암                                                 \n",
       "201               동인천                                                 \n",
       "204                두정                                                 \n",
       "213                마곡                                                 \n",
       "214                마두                                                 \n",
       "222                마천                                                 \n",
       "229               망월산                                                 \n",
       "244                명학                                                 \n",
       "...               ...                     ...                   ...   \n",
       "64145      라파엘 직업재활센터                                                 \n",
       "64146          소망제이앤피                                                 \n",
       "64147       래그랜느보호작업장                                                 \n",
       "64148       서대문농아인복지관                                                 \n",
       "64149        양천장애인복지관                                                 \n",
       "64150        방이장애인복지관                                                 \n",
       "64151        인성장애인복지관                                                 \n",
       "64152       밀알그린보호작업장                                                 \n",
       "64153         신아보호작업장                                                 \n",
       "64154     임마누엘 보호작업시설                                                 \n",
       "64155  구립송파구 장애인보호작업장                                                 \n",
       "64156         연화직업재활원                                                 \n",
       "64157           송파위더스                                                 \n",
       "64158    효명장애인 보호작업시설                                                 \n",
       "64159         행복보호작업장                                                 \n",
       "64160         함재보호작업장                                                 \n",
       "64161      두손장애인보호작업장                                                 \n",
       "64162         라온클린패밀리                                                 \n",
       "64163         성지보호작업장                                                 \n",
       "64164    강동구 장애인보호작업장                                                 \n",
       "64165       아이티어빌리티센터                                                 \n",
       "64166         푸른보호작업장                                                 \n",
       "64167        동안우리복지센터                                                 \n",
       "64168        파란마음복지센터                                                 \n",
       "64169          선한복지센터                                                 \n",
       "64170        소망드림복지센터                                                 \n",
       "64171            로뎀나무                                                 \n",
       "64172      파란마음주간보호센터                                                 \n",
       "64173       송파구수화통역센터                                                 \n",
       "64174            TEST                                                 \n",
       "\n",
       "       facility_id  \n",
       "7               -1  \n",
       "20              -1  \n",
       "31              -1  \n",
       "40              -1  \n",
       "41              -1  \n",
       "48              -1  \n",
       "49              -1  \n",
       "66              -1  \n",
       "76              -1  \n",
       "82              -1  \n",
       "86              -1  \n",
       "112             -1  \n",
       "123             -1  \n",
       "132             -1  \n",
       "147             -1  \n",
       "148             -1  \n",
       "153             -1  \n",
       "154             -1  \n",
       "160             -1  \n",
       "170             -1  \n",
       "173             -1  \n",
       "181             -1  \n",
       "200             -1  \n",
       "201             -1  \n",
       "204             -1  \n",
       "213             -1  \n",
       "214             -1  \n",
       "222             -1  \n",
       "229             -1  \n",
       "244             -1  \n",
       "...            ...  \n",
       "64145           -1  \n",
       "64146           -1  \n",
       "64147           -1  \n",
       "64148           -1  \n",
       "64149           -1  \n",
       "64150           -1  \n",
       "64151           -1  \n",
       "64152           -1  \n",
       "64153           -1  \n",
       "64154           -1  \n",
       "64155           -1  \n",
       "64156           -1  \n",
       "64157           -1  \n",
       "64158           -1  \n",
       "64159           -1  \n",
       "64160           -1  \n",
       "64161           -1  \n",
       "64162           -1  \n",
       "64163           -1  \n",
       "64164           -1  \n",
       "64165           -1  \n",
       "64166           -1  \n",
       "64167           -1  \n",
       "64168           -1  \n",
       "64169           -1  \n",
       "64170           -1  \n",
       "64171           -1  \n",
       "64172           -1  \n",
       "64173           -1  \n",
       "64174           -1  \n",
       "\n",
       "[587 rows x 9 columns]"
      ]
     },
     "execution_count": 29,
     "metadata": {},
     "output_type": "execute_result"
    }
   ],
   "source": [
    "merge_data[merge_data.facility_id == -1]"
   ]
  },
  {
   "cell_type": "code",
   "execution_count": 30,
   "metadata": {
    "scrolled": true
   },
   "outputs": [
    {
     "data": {
      "text/html": [
       "<div>\n",
       "<style scoped>\n",
       "    .dataframe tbody tr th:only-of-type {\n",
       "        vertical-align: middle;\n",
       "    }\n",
       "\n",
       "    .dataframe tbody tr th {\n",
       "        vertical-align: top;\n",
       "    }\n",
       "\n",
       "    .dataframe thead th {\n",
       "        text-align: right;\n",
       "    }\n",
       "</style>\n",
       "<table border=\"1\" class=\"dataframe\">\n",
       "  <thead>\n",
       "    <tr style=\"text-align: right;\">\n",
       "      <th></th>\n",
       "      <th>category</th>\n",
       "      <th>lat</th>\n",
       "      <th>lon</th>\n",
       "      <th>place_address</th>\n",
       "      <th>place_id</th>\n",
       "      <th>place_name</th>\n",
       "      <th>facility_available_name</th>\n",
       "      <th>facility_is_available</th>\n",
       "      <th>facility_id</th>\n",
       "    </tr>\n",
       "  </thead>\n",
       "  <tbody>\n",
       "    <tr>\n",
       "      <th>44490</th>\n",
       "      <td>welfare/senior</td>\n",
       "      <td>37.494539</td>\n",
       "      <td>127.041831</td>\n",
       "      <td>서울특별시 강남구 도곡로27길 27</td>\n",
       "      <td>26729</td>\n",
       "      <td>역삼 노인 복지센터</td>\n",
       "      <td>장애인전용주차구역</td>\n",
       "      <td></td>\n",
       "      <td>259862</td>\n",
       "    </tr>\n",
       "    <tr>\n",
       "      <th>9112</th>\n",
       "      <td>education/Childcare</td>\n",
       "      <td>37.493580</td>\n",
       "      <td>126.834653</td>\n",
       "      <td>서울특별시 구로구 부일로17길 5</td>\n",
       "      <td>12621</td>\n",
       "      <td>샘소슬어린이집</td>\n",
       "      <td>주출입구 높이차이 제거</td>\n",
       "      <td>이용가능</td>\n",
       "      <td>109236</td>\n",
       "    </tr>\n",
       "    <tr>\n",
       "      <th>43923</th>\n",
       "      <td>hospital</td>\n",
       "      <td>37.504909</td>\n",
       "      <td>127.024791</td>\n",
       "      <td>서울특별시 강남구 강남대로 476</td>\n",
       "      <td>26585</td>\n",
       "      <td>어반하이브</td>\n",
       "      <td>해당시설 층수</td>\n",
       "      <td></td>\n",
       "      <td>258721</td>\n",
       "    </tr>\n",
       "    <tr>\n",
       "      <th>657</th>\n",
       "      <td>subway</td>\n",
       "      <td>37.486686</td>\n",
       "      <td>126.838681</td>\n",
       "      <td>서울특별시 구로구</td>\n",
       "      <td>291</td>\n",
       "      <td>천왕</td>\n",
       "      <td>화장실</td>\n",
       "      <td>이용가능</td>\n",
       "      <td>900595</td>\n",
       "    </tr>\n",
       "    <tr>\n",
       "      <th>55957</th>\n",
       "      <td>bank</td>\n",
       "      <td>37.563158</td>\n",
       "      <td>126.980935</td>\n",
       "      <td>서울특별시 중구 소공로 88</td>\n",
       "      <td>29823</td>\n",
       "      <td>한진빌딩(신관)</td>\n",
       "      <td>출입구(문)</td>\n",
       "      <td></td>\n",
       "      <td>285818</td>\n",
       "    </tr>\n",
       "    <tr>\n",
       "      <th>40025</th>\n",
       "      <td>shopping/mart</td>\n",
       "      <td>37.472058</td>\n",
       "      <td>127.039160</td>\n",
       "      <td>서울특별시 서초구 강남대로18길 5</td>\n",
       "      <td>25407</td>\n",
       "      <td>세한빌딩</td>\n",
       "      <td>주출입구 접근로</td>\n",
       "      <td></td>\n",
       "      <td>248738</td>\n",
       "    </tr>\n",
       "    <tr>\n",
       "      <th>23882</th>\n",
       "      <td>bank</td>\n",
       "      <td>37.484875</td>\n",
       "      <td>126.893767</td>\n",
       "      <td>서울특별시 구로구 디지털로31길 19</td>\n",
       "      <td>21562</td>\n",
       "      <td>기업은행 구로디지털지점</td>\n",
       "      <td>주출입구 높이차이 제거</td>\n",
       "      <td></td>\n",
       "      <td>213956</td>\n",
       "    </tr>\n",
       "    <tr>\n",
       "      <th>53528</th>\n",
       "      <td>hospital</td>\n",
       "      <td>37.517354</td>\n",
       "      <td>127.023379</td>\n",
       "      <td>서울특별시 강남구 도산대로 134</td>\n",
       "      <td>29255</td>\n",
       "      <td>페이토빌딩</td>\n",
       "      <td>계단 또는 승강설비</td>\n",
       "      <td></td>\n",
       "      <td>281233</td>\n",
       "    </tr>\n",
       "    <tr>\n",
       "      <th>55781</th>\n",
       "      <td>bank</td>\n",
       "      <td>37.522405</td>\n",
       "      <td>126.929108</td>\n",
       "      <td>서울특별시 영등포구 국제금융로6길 7</td>\n",
       "      <td>29777</td>\n",
       "      <td>한양증권</td>\n",
       "      <td>대변기</td>\n",
       "      <td></td>\n",
       "      <td>285473</td>\n",
       "    </tr>\n",
       "    <tr>\n",
       "      <th>47312</th>\n",
       "      <td>hospital</td>\n",
       "      <td>37.486764</td>\n",
       "      <td>126.982678</td>\n",
       "      <td>서울특별시 서초구 동작대로  114</td>\n",
       "      <td>27579</td>\n",
       "      <td>유문빌딩</td>\n",
       "      <td>출입구(문)</td>\n",
       "      <td></td>\n",
       "      <td>267142</td>\n",
       "    </tr>\n",
       "  </tbody>\n",
       "</table>\n",
       "</div>"
      ],
      "text/plain": [
       "                  category        lat         lon         place_address  \\\n",
       "44490       welfare/senior  37.494539  127.041831   서울특별시 강남구 도곡로27길 27   \n",
       "9112   education/Childcare  37.493580  126.834653    서울특별시 구로구 부일로17길 5   \n",
       "43923             hospital  37.504909  127.024791    서울특별시 강남구 강남대로 476   \n",
       "657                 subway  37.486686  126.838681             서울특별시 구로구   \n",
       "55957                 bank  37.563158  126.980935       서울특별시 중구 소공로 88   \n",
       "40025        shopping/mart  37.472058  127.039160   서울특별시 서초구 강남대로18길 5   \n",
       "23882                 bank  37.484875  126.893767  서울특별시 구로구 디지털로31길 19   \n",
       "53528             hospital  37.517354  127.023379    서울특별시 강남구 도산대로 134   \n",
       "55781                 bank  37.522405  126.929108  서울특별시 영등포구 국제금융로6길 7   \n",
       "47312             hospital  37.486764  126.982678   서울특별시 서초구 동작대로  114   \n",
       "\n",
       "       place_id    place_name facility_available_name facility_is_available  \\\n",
       "44490     26729    역삼 노인 복지센터               장애인전용주차구역                         \n",
       "9112      12621       샘소슬어린이집            주출입구 높이차이 제거                  이용가능   \n",
       "43923     26585         어반하이브                 해당시설 층수                         \n",
       "657         291            천왕                     화장실                  이용가능   \n",
       "55957     29823      한진빌딩(신관)                  출입구(문)                         \n",
       "40025     25407          세한빌딩                주출입구 접근로                         \n",
       "23882     21562  기업은행 구로디지털지점            주출입구 높이차이 제거                         \n",
       "53528     29255         페이토빌딩              계단 또는 승강설비                         \n",
       "55781     29777          한양증권                     대변기                         \n",
       "47312     27579          유문빌딩                  출입구(문)                         \n",
       "\n",
       "       facility_id  \n",
       "44490       259862  \n",
       "9112        109236  \n",
       "43923       258721  \n",
       "657         900595  \n",
       "55957       285818  \n",
       "40025       248738  \n",
       "23882       213956  \n",
       "53528       281233  \n",
       "55781       285473  \n",
       "47312       267142  "
      ]
     },
     "execution_count": 30,
     "metadata": {},
     "output_type": "execute_result"
    }
   ],
   "source": [
    "merge_data.sample(10)"
   ]
  },
  {
   "cell_type": "code",
   "execution_count": 31,
   "metadata": {},
   "outputs": [
    {
     "data": {
      "text/html": [
       "<div>\n",
       "<style scoped>\n",
       "    .dataframe tbody tr th:only-of-type {\n",
       "        vertical-align: middle;\n",
       "    }\n",
       "\n",
       "    .dataframe tbody tr th {\n",
       "        vertical-align: top;\n",
       "    }\n",
       "\n",
       "    .dataframe thead th {\n",
       "        text-align: right;\n",
       "    }\n",
       "</style>\n",
       "<table border=\"1\" class=\"dataframe\">\n",
       "  <thead>\n",
       "    <tr style=\"text-align: right;\">\n",
       "      <th></th>\n",
       "      <th>category</th>\n",
       "      <th>lat</th>\n",
       "      <th>lon</th>\n",
       "      <th>place_address</th>\n",
       "      <th>place_id</th>\n",
       "      <th>place_name</th>\n",
       "      <th>facility_available_name</th>\n",
       "      <th>facility_is_available</th>\n",
       "      <th>facility_id</th>\n",
       "    </tr>\n",
       "  </thead>\n",
       "  <tbody>\n",
       "  </tbody>\n",
       "</table>\n",
       "</div>"
      ],
      "text/plain": [
       "Empty DataFrame\n",
       "Columns: [category, lat, lon, place_address, place_id, place_name, facility_available_name, facility_is_available, facility_id]\n",
       "Index: []"
      ]
     },
     "execution_count": 31,
     "metadata": {},
     "output_type": "execute_result"
    }
   ],
   "source": [
    "merge_data.filter(regex=\"None\", axis=0)"
   ]
  },
  {
   "cell_type": "code",
   "execution_count": 32,
   "metadata": {
    "scrolled": true
   },
   "outputs": [
    {
     "name": "stdout",
     "output_type": "stream",
     "text": [
      "<class 'pandas.core.frame.DataFrame'>\n",
      "Int64Index: 64175 entries, 0 to 64174\n",
      "Data columns (total 9 columns):\n",
      "category                   64175 non-null object\n",
      "lat                        64175 non-null float64\n",
      "lon                        64175 non-null float64\n",
      "place_address              64175 non-null object\n",
      "place_id                   64175 non-null int64\n",
      "place_name                 64175 non-null object\n",
      "facility_available_name    64175 non-null object\n",
      "facility_is_available      64175 non-null object\n",
      "facility_id                64175 non-null int64\n",
      "dtypes: float64(2), int64(2), object(5)\n",
      "memory usage: 4.9+ MB\n"
     ]
    }
   ],
   "source": [
    "merge_data.info()"
   ]
  },
  {
   "cell_type": "markdown",
   "metadata": {},
   "source": [
    "# 편의 시설이 없는건 따로 배제 "
   ]
  },
  {
   "cell_type": "markdown",
   "metadata": {},
   "source": [
    "복지관시설은 나중에 지도상에 보여질 필요가 있어 나중에 복지관시설만 데이터셋에 넣는다."
   ]
  },
  {
   "cell_type": "code",
   "execution_count": 33,
   "metadata": {},
   "outputs": [],
   "source": [
    "get_nan = merge_data[merge_data.facility_available_name == ''] "
   ]
  },
  {
   "cell_type": "code",
   "execution_count": 34,
   "metadata": {},
   "outputs": [
    {
     "data": {
      "text/html": [
       "<div>\n",
       "<style scoped>\n",
       "    .dataframe tbody tr th:only-of-type {\n",
       "        vertical-align: middle;\n",
       "    }\n",
       "\n",
       "    .dataframe tbody tr th {\n",
       "        vertical-align: top;\n",
       "    }\n",
       "\n",
       "    .dataframe thead th {\n",
       "        text-align: right;\n",
       "    }\n",
       "</style>\n",
       "<table border=\"1\" class=\"dataframe\">\n",
       "  <thead>\n",
       "    <tr style=\"text-align: right;\">\n",
       "      <th></th>\n",
       "      <th>category</th>\n",
       "      <th>lat</th>\n",
       "      <th>lon</th>\n",
       "      <th>place_address</th>\n",
       "      <th>place_id</th>\n",
       "      <th>place_name</th>\n",
       "      <th>facility_available_name</th>\n",
       "      <th>facility_is_available</th>\n",
       "      <th>facility_id</th>\n",
       "    </tr>\n",
       "  </thead>\n",
       "  <tbody>\n",
       "    <tr>\n",
       "      <th>923</th>\n",
       "      <td>movie/concerthall</td>\n",
       "      <td>37.553135</td>\n",
       "      <td>126.922221</td>\n",
       "      <td>서울특별시 마포구 어울마당로 94-8</td>\n",
       "      <td>10067</td>\n",
       "      <td>떼아뜨르 추</td>\n",
       "      <td></td>\n",
       "      <td></td>\n",
       "      <td>-1</td>\n",
       "    </tr>\n",
       "    <tr>\n",
       "      <th>16409</th>\n",
       "      <td>japanese_food</td>\n",
       "      <td>37.556411</td>\n",
       "      <td>126.920511</td>\n",
       "      <td>서울특별시 마포구 월드컵북로 14</td>\n",
       "      <td>15159</td>\n",
       "      <td>일반음식점(삿뽀로)</td>\n",
       "      <td></td>\n",
       "      <td></td>\n",
       "      <td>-1</td>\n",
       "    </tr>\n",
       "    <tr>\n",
       "      <th>16331</th>\n",
       "      <td>western_food</td>\n",
       "      <td>37.656834</td>\n",
       "      <td>127.028262</td>\n",
       "      <td>서울특별시 도봉구 시루봉로 68</td>\n",
       "      <td>15077</td>\n",
       "      <td>돈까스클럽</td>\n",
       "      <td></td>\n",
       "      <td></td>\n",
       "      <td>-1</td>\n",
       "    </tr>\n",
       "    <tr>\n",
       "      <th>16369</th>\n",
       "      <td>western_food</td>\n",
       "      <td>37.564736</td>\n",
       "      <td>126.976353</td>\n",
       "      <td>서울특별시 중구 덕수궁길 7</td>\n",
       "      <td>15117</td>\n",
       "      <td>파리크라상</td>\n",
       "      <td></td>\n",
       "      <td></td>\n",
       "      <td>-1</td>\n",
       "    </tr>\n",
       "    <tr>\n",
       "      <th>386</th>\n",
       "      <td>subway</td>\n",
       "      <td>37.244102</td>\n",
       "      <td>127.013772</td>\n",
       "      <td>서울특별시 권선구</td>\n",
       "      <td>169</td>\n",
       "      <td>세류</td>\n",
       "      <td></td>\n",
       "      <td></td>\n",
       "      <td>-1</td>\n",
       "    </tr>\n",
       "  </tbody>\n",
       "</table>\n",
       "</div>"
      ],
      "text/plain": [
       "                category        lat         lon         place_address  \\\n",
       "923    movie/concerthall  37.553135  126.922221  서울특별시 마포구 어울마당로 94-8   \n",
       "16409      japanese_food  37.556411  126.920511    서울특별시 마포구 월드컵북로 14   \n",
       "16331       western_food  37.656834  127.028262     서울특별시 도봉구 시루봉로 68   \n",
       "16369       western_food  37.564736  126.976353       서울특별시 중구 덕수궁길 7   \n",
       "386               subway  37.244102  127.013772             서울특별시 권선구   \n",
       "\n",
       "       place_id  place_name facility_available_name facility_is_available  \\\n",
       "923       10067      떼아뜨르 추                                                 \n",
       "16409     15159  일반음식점(삿뽀로)                                                 \n",
       "16331     15077       돈까스클럽                                                 \n",
       "16369     15117       파리크라상                                                 \n",
       "386         169          세류                                                 \n",
       "\n",
       "       facility_id  \n",
       "923             -1  \n",
       "16409           -1  \n",
       "16331           -1  \n",
       "16369           -1  \n",
       "386             -1  "
      ]
     },
     "execution_count": 34,
     "metadata": {},
     "output_type": "execute_result"
    }
   ],
   "source": [
    "get_nan.sample(5)"
   ]
  },
  {
   "cell_type": "code",
   "execution_count": 35,
   "metadata": {},
   "outputs": [],
   "source": [
    "merge_data = merge_data[merge_data.facility_available_name != '']"
   ]
  },
  {
   "cell_type": "code",
   "execution_count": 36,
   "metadata": {
    "scrolled": true
   },
   "outputs": [
    {
     "data": {
      "text/html": [
       "<div>\n",
       "<style scoped>\n",
       "    .dataframe tbody tr th:only-of-type {\n",
       "        vertical-align: middle;\n",
       "    }\n",
       "\n",
       "    .dataframe tbody tr th {\n",
       "        vertical-align: top;\n",
       "    }\n",
       "\n",
       "    .dataframe thead th {\n",
       "        text-align: right;\n",
       "    }\n",
       "</style>\n",
       "<table border=\"1\" class=\"dataframe\">\n",
       "  <thead>\n",
       "    <tr style=\"text-align: right;\">\n",
       "      <th></th>\n",
       "      <th>category</th>\n",
       "      <th>lat</th>\n",
       "      <th>lon</th>\n",
       "      <th>place_address</th>\n",
       "      <th>place_id</th>\n",
       "      <th>place_name</th>\n",
       "      <th>facility_available_name</th>\n",
       "      <th>facility_is_available</th>\n",
       "      <th>facility_id</th>\n",
       "    </tr>\n",
       "  </thead>\n",
       "  <tbody>\n",
       "    <tr>\n",
       "      <th>0</th>\n",
       "      <td>subway</td>\n",
       "      <td>37.492317</td>\n",
       "      <td>127.118104</td>\n",
       "      <td>서울특별시 송파구</td>\n",
       "      <td>0</td>\n",
       "      <td>가락시장</td>\n",
       "      <td>화장실</td>\n",
       "      <td>이용가능</td>\n",
       "      <td>900000</td>\n",
       "    </tr>\n",
       "    <tr>\n",
       "      <th>1</th>\n",
       "      <td>subway</td>\n",
       "      <td>37.492317</td>\n",
       "      <td>127.118104</td>\n",
       "      <td>서울특별시 송파구</td>\n",
       "      <td>0</td>\n",
       "      <td>가락시장</td>\n",
       "      <td>엘리베이터</td>\n",
       "      <td>이용가능</td>\n",
       "      <td>900001</td>\n",
       "    </tr>\n",
       "    <tr>\n",
       "      <th>2</th>\n",
       "      <td>subway</td>\n",
       "      <td>37.492317</td>\n",
       "      <td>127.118104</td>\n",
       "      <td>서울특별시 송파구</td>\n",
       "      <td>0</td>\n",
       "      <td>가락시장</td>\n",
       "      <td>휠체어리프트</td>\n",
       "      <td>이용가능</td>\n",
       "      <td>900002</td>\n",
       "    </tr>\n",
       "    <tr>\n",
       "      <th>3</th>\n",
       "      <td>subway</td>\n",
       "      <td>37.480890</td>\n",
       "      <td>126.882574</td>\n",
       "      <td>서울특별시 금천구</td>\n",
       "      <td>1</td>\n",
       "      <td>가산디지털단지</td>\n",
       "      <td>에스켈레이터</td>\n",
       "      <td>이용가능</td>\n",
       "      <td>900003</td>\n",
       "    </tr>\n",
       "    <tr>\n",
       "      <th>4</th>\n",
       "      <td>subway</td>\n",
       "      <td>37.480890</td>\n",
       "      <td>126.882574</td>\n",
       "      <td>서울특별시 금천구</td>\n",
       "      <td>1</td>\n",
       "      <td>가산디지털단지</td>\n",
       "      <td>화장실</td>\n",
       "      <td>이용가능</td>\n",
       "      <td>900004</td>\n",
       "    </tr>\n",
       "  </tbody>\n",
       "</table>\n",
       "</div>"
      ],
      "text/plain": [
       "  category        lat         lon place_address  place_id place_name  \\\n",
       "0   subway  37.492317  127.118104     서울특별시 송파구         0       가락시장   \n",
       "1   subway  37.492317  127.118104     서울특별시 송파구         0       가락시장   \n",
       "2   subway  37.492317  127.118104     서울특별시 송파구         0       가락시장   \n",
       "3   subway  37.480890  126.882574     서울특별시 금천구         1    가산디지털단지   \n",
       "4   subway  37.480890  126.882574     서울특별시 금천구         1    가산디지털단지   \n",
       "\n",
       "  facility_available_name facility_is_available  facility_id  \n",
       "0                     화장실                  이용가능       900000  \n",
       "1                   엘리베이터                  이용가능       900001  \n",
       "2                  휠체어리프트                  이용가능       900002  \n",
       "3                  에스켈레이터                  이용가능       900003  \n",
       "4                     화장실                  이용가능       900004  "
      ]
     },
     "execution_count": 36,
     "metadata": {},
     "output_type": "execute_result"
    }
   ],
   "source": [
    "merge_data.head()"
   ]
  },
  {
   "cell_type": "code",
   "execution_count": 37,
   "metadata": {},
   "outputs": [
    {
     "name": "stdout",
     "output_type": "stream",
     "text": [
      "<class 'pandas.core.frame.DataFrame'>\n",
      "Int64Index: 63588 entries, 0 to 63944\n",
      "Data columns (total 9 columns):\n",
      "category                   63588 non-null object\n",
      "lat                        63588 non-null float64\n",
      "lon                        63588 non-null float64\n",
      "place_address              63588 non-null object\n",
      "place_id                   63588 non-null int64\n",
      "place_name                 63588 non-null object\n",
      "facility_available_name    63588 non-null object\n",
      "facility_is_available      63588 non-null object\n",
      "facility_id                63588 non-null int64\n",
      "dtypes: float64(2), int64(2), object(5)\n",
      "memory usage: 4.9+ MB\n"
     ]
    }
   ],
   "source": [
    "merge_data.info()"
   ]
  },
  {
   "cell_type": "code",
   "execution_count": 38,
   "metadata": {},
   "outputs": [
    {
     "data": {
      "text/html": [
       "<div>\n",
       "<style scoped>\n",
       "    .dataframe tbody tr th:only-of-type {\n",
       "        vertical-align: middle;\n",
       "    }\n",
       "\n",
       "    .dataframe tbody tr th {\n",
       "        vertical-align: top;\n",
       "    }\n",
       "\n",
       "    .dataframe thead th {\n",
       "        text-align: right;\n",
       "    }\n",
       "</style>\n",
       "<table border=\"1\" class=\"dataframe\">\n",
       "  <thead>\n",
       "    <tr style=\"text-align: right;\">\n",
       "      <th></th>\n",
       "      <th>place_name</th>\n",
       "    </tr>\n",
       "    <tr>\n",
       "      <th>category</th>\n",
       "      <th></th>\n",
       "    </tr>\n",
       "  </thead>\n",
       "  <tbody>\n",
       "    <tr>\n",
       "      <th>bank</th>\n",
       "      <td>2</td>\n",
       "    </tr>\n",
       "    <tr>\n",
       "      <th>chinese_food</th>\n",
       "      <td>10</td>\n",
       "    </tr>\n",
       "    <tr>\n",
       "      <th>daycare</th>\n",
       "      <td>93</td>\n",
       "    </tr>\n",
       "    <tr>\n",
       "      <th>education/Childcare</th>\n",
       "      <td>6</td>\n",
       "    </tr>\n",
       "    <tr>\n",
       "      <th>education/job</th>\n",
       "      <td>86</td>\n",
       "    </tr>\n",
       "    <tr>\n",
       "      <th>hospital/rehab</th>\n",
       "      <td>4</td>\n",
       "    </tr>\n",
       "    <tr>\n",
       "      <th>hotel</th>\n",
       "      <td>1</td>\n",
       "    </tr>\n",
       "    <tr>\n",
       "      <th>japanese_food</th>\n",
       "      <td>29</td>\n",
       "    </tr>\n",
       "    <tr>\n",
       "      <th>korean_food</th>\n",
       "      <td>3</td>\n",
       "    </tr>\n",
       "    <tr>\n",
       "      <th>movie/concerthall</th>\n",
       "      <td>51</td>\n",
       "    </tr>\n",
       "    <tr>\n",
       "      <th>other</th>\n",
       "      <td>4</td>\n",
       "    </tr>\n",
       "    <tr>\n",
       "      <th>other_food</th>\n",
       "      <td>96</td>\n",
       "    </tr>\n",
       "    <tr>\n",
       "      <th>publicinstitution</th>\n",
       "      <td>4</td>\n",
       "    </tr>\n",
       "    <tr>\n",
       "      <th>publicparking</th>\n",
       "      <td>1</td>\n",
       "    </tr>\n",
       "    <tr>\n",
       "      <th>signinterpret</th>\n",
       "      <td>21</td>\n",
       "    </tr>\n",
       "    <tr>\n",
       "      <th>sports/rehab</th>\n",
       "      <td>2</td>\n",
       "    </tr>\n",
       "    <tr>\n",
       "      <th>subway</th>\n",
       "      <td>98</td>\n",
       "    </tr>\n",
       "    <tr>\n",
       "      <th>wellfare</th>\n",
       "      <td>24</td>\n",
       "    </tr>\n",
       "    <tr>\n",
       "      <th>western_food</th>\n",
       "      <td>52</td>\n",
       "    </tr>\n",
       "  </tbody>\n",
       "</table>\n",
       "</div>"
      ],
      "text/plain": [
       "                     place_name\n",
       "category                       \n",
       "bank                          2\n",
       "chinese_food                 10\n",
       "daycare                      93\n",
       "education/Childcare           6\n",
       "education/job                86\n",
       "hospital/rehab                4\n",
       "hotel                         1\n",
       "japanese_food                29\n",
       "korean_food                   3\n",
       "movie/concerthall            51\n",
       "other                         4\n",
       "other_food                   96\n",
       "publicinstitution             4\n",
       "publicparking                 1\n",
       "signinterpret                21\n",
       "sports/rehab                  2\n",
       "subway                       98\n",
       "wellfare                     24\n",
       "western_food                 52"
      ]
     },
     "execution_count": 38,
     "metadata": {},
     "output_type": "execute_result"
    }
   ],
   "source": [
    "get_nan.groupby('category')[['place_name']].count()"
   ]
  },
  {
   "cell_type": "code",
   "execution_count": 39,
   "metadata": {
    "scrolled": true
   },
   "outputs": [
    {
     "name": "stdout",
     "output_type": "stream",
     "text": [
      "<class 'pandas.core.frame.DataFrame'>\n",
      "Int64Index: 63588 entries, 0 to 63944\n",
      "Data columns (total 9 columns):\n",
      "category                   63588 non-null object\n",
      "lat                        63588 non-null float64\n",
      "lon                        63588 non-null float64\n",
      "place_address              63588 non-null object\n",
      "place_id                   63588 non-null int64\n",
      "place_name                 63588 non-null object\n",
      "facility_available_name    63588 non-null object\n",
      "facility_is_available      63588 non-null object\n",
      "facility_id                63588 non-null int64\n",
      "dtypes: float64(2), int64(2), object(5)\n",
      "memory usage: 4.9+ MB\n"
     ]
    }
   ],
   "source": [
    "merge_data.info()"
   ]
  },
  {
   "cell_type": "markdown",
   "metadata": {},
   "source": [
    "# category reduce"
   ]
  },
  {
   "cell_type": "code",
   "execution_count": 40,
   "metadata": {},
   "outputs": [],
   "source": [
    "def category_sum(dataframe,replace_target,replace_str):\n",
    "    print(\"전체 category 개수\")\n",
    "    print(len(dataframe.category.unique()))\n",
    "    print()\n",
    "    print(\"이 전\",replace_str,\"해당 category 개수 : \")\n",
    "    print(dataframe.loc[dataframe.category == replace_str].apply(len))\n",
    "    dataframe_replace = dataframe[dataframe.loc[:, 'category'] == replace_target]\n",
    "    dataframe_replace.category = replace_str\n",
    "    dataframe[dataframe.loc[:, 'category'] == replace_target] = dataframe_replace\n",
    "    print()\n",
    "    print(\"이 후\",replace_str,\"해당 category 개수 : \")\n",
    "    print(dataframe.loc[dataframe.category == replace_str].apply(len))\n",
    "    print()\n",
    "    print(\"전체 category 개수\")\n",
    "    print(len(dataframe.category.unique()))\n",
    "    return dataframe"
   ]
  },
  {
   "cell_type": "code",
   "execution_count": 41,
   "metadata": {},
   "outputs": [],
   "source": [
    "def reg_name_change(dataframe, category_str, reg, change_category):\n",
    "    a = dataframe[dataframe.category == category_str]\n",
    "    b = a[a.place_name.str.contains(reg)]\n",
    "    b.category = change_category\n",
    "    dataframe.iloc[b.index] =b\n",
    "    return dataframe"
   ]
  },
  {
   "cell_type": "code",
   "execution_count": 42,
   "metadata": {},
   "outputs": [],
   "source": [
    "test = merge_data"
   ]
  },
  {
   "cell_type": "code",
   "execution_count": 43,
   "metadata": {},
   "outputs": [],
   "source": [
    "test.reset_index(inplace=True)"
   ]
  },
  {
   "cell_type": "code",
   "execution_count": 44,
   "metadata": {},
   "outputs": [
    {
     "data": {
      "text/plain": [
       "array(['subway', 'movie/concerthall', 'shopping/mart', 'publicparking',\n",
       "       'publictoilet', 'hospital', 'publicinstitution', 'bank',\n",
       "       'education/Childcare', 'beauty/hair', 'other', 'korean_food',\n",
       "       'tourist hotel', 'restaurant', 'education/job', 'shopping',\n",
       "       'apartment subsidiary facility', 'exhibition center',\n",
       "       'concert hall', 'movie', 'public parking', 'hotel',\n",
       "       'convenience store/bakery', 'university',\n",
       "       'telecommunication office', 'daycare center',\n",
       "       'broadcasting station', 'government office building',\n",
       "       'massage parlor', 'kindergarten', 'factory', 'welfare/senior',\n",
       "       'welfare/etc', 'community service center', 'city park',\n",
       "       'welfare/disabled', 'general hospital', 'health center',\n",
       "       'meeting hall', 'training facility/rural', 'welfare/child',\n",
       "       'church', 'stadium', 'high school', 'post office',\n",
       "       'police station', 'nature park', 'toilet/public',\n",
       "       'national health insurance corporation',\n",
       "       'national pension service', 'junior high school',\n",
       "       'driving academy', 'library', 'elementary school',\n",
       "       'special-education school', 'training facility/urban',\n",
       "       'public library', 'gym', 'college', 'toilet/open', 'toilet/small'],\n",
       "      dtype=object)"
      ]
     },
     "execution_count": 44,
     "metadata": {},
     "output_type": "execute_result"
    }
   ],
   "source": [
    "test.category.unique()"
   ]
  },
  {
   "cell_type": "markdown",
   "metadata": {},
   "source": [
    "# 1. subway 수정사항 없음 "
   ]
  },
  {
   "cell_type": "code",
   "execution_count": 45,
   "metadata": {
    "scrolled": true
   },
   "outputs": [],
   "source": [
    "# test[test.category == \"subway\"].head()"
   ]
  },
  {
   "cell_type": "markdown",
   "metadata": {},
   "source": [
    "# 2. movie/concerthall"
   ]
  },
  {
   "cell_type": "code",
   "execution_count": 46,
   "metadata": {},
   "outputs": [],
   "source": [
    "# test[test.category == \"movie/concerthall\"].head()"
   ]
  },
  {
   "cell_type": "markdown",
   "metadata": {},
   "source": [
    "concert hall -> movie/concerthall"
   ]
  },
  {
   "cell_type": "code",
   "execution_count": 47,
   "metadata": {},
   "outputs": [
    {
     "name": "stdout",
     "output_type": "stream",
     "text": [
      "전체 category 개수\n",
      "61\n",
      "\n",
      "이 전 movie/concerthall 해당 category 개수 : \n",
      "index                      535\n",
      "category                   535\n",
      "lat                        535\n",
      "lon                        535\n",
      "place_address              535\n",
      "place_id                   535\n",
      "place_name                 535\n",
      "facility_available_name    535\n",
      "facility_is_available      535\n",
      "facility_id                535\n",
      "dtype: int64\n",
      "\n",
      "이 후 movie/concerthall 해당 category 개수 : \n",
      "index                      1692\n",
      "category                   1692\n",
      "lat                        1692\n",
      "lon                        1692\n",
      "place_address              1692\n",
      "place_id                   1692\n",
      "place_name                 1692\n",
      "facility_available_name    1692\n",
      "facility_is_available      1692\n",
      "facility_id                1692\n",
      "dtype: int64\n",
      "\n",
      "전체 category 개수\n",
      "60\n"
     ]
    },
    {
     "name": "stderr",
     "output_type": "stream",
     "text": [
      "C:\\Users\\user\\Anaconda3\\lib\\site-packages\\pandas\\core\\generic.py:4401: SettingWithCopyWarning: \n",
      "A value is trying to be set on a copy of a slice from a DataFrame.\n",
      "Try using .loc[row_indexer,col_indexer] = value instead\n",
      "\n",
      "See the caveats in the documentation: http://pandas.pydata.org/pandas-docs/stable/indexing.html#indexing-view-versus-copy\n",
      "  self[name] = value\n"
     ]
    }
   ],
   "source": [
    "test = category_sum(test,\"concert hall\",\"movie/concerthall\") "
   ]
  },
  {
   "cell_type": "markdown",
   "metadata": {},
   "source": [
    "movie -> movie/concerthall"
   ]
  },
  {
   "cell_type": "code",
   "execution_count": 48,
   "metadata": {},
   "outputs": [
    {
     "name": "stdout",
     "output_type": "stream",
     "text": [
      "전체 category 개수\n",
      "60\n",
      "\n",
      "이 전 movie/concerthall 해당 category 개수 : \n"
     ]
    },
    {
     "name": "stderr",
     "output_type": "stream",
     "text": [
      "C:\\Users\\user\\Anaconda3\\lib\\site-packages\\pandas\\core\\generic.py:4401: SettingWithCopyWarning: \n",
      "A value is trying to be set on a copy of a slice from a DataFrame.\n",
      "Try using .loc[row_indexer,col_indexer] = value instead\n",
      "\n",
      "See the caveats in the documentation: http://pandas.pydata.org/pandas-docs/stable/indexing.html#indexing-view-versus-copy\n",
      "  self[name] = value\n"
     ]
    },
    {
     "name": "stdout",
     "output_type": "stream",
     "text": [
      "index                      1692\n",
      "category                   1692\n",
      "lat                        1692\n",
      "lon                        1692\n",
      "place_address              1692\n",
      "place_id                   1692\n",
      "place_name                 1692\n",
      "facility_available_name    1692\n",
      "facility_is_available      1692\n",
      "facility_id                1692\n",
      "dtype: int64\n",
      "\n",
      "이 후 movie/concerthall 해당 category 개수 : \n",
      "index                      1712\n",
      "category                   1712\n",
      "lat                        1712\n",
      "lon                        1712\n",
      "place_address              1712\n",
      "place_id                   1712\n",
      "place_name                 1712\n",
      "facility_available_name    1712\n",
      "facility_is_available      1712\n",
      "facility_id                1712\n",
      "dtype: int64\n",
      "\n",
      "전체 category 개수\n",
      "59\n"
     ]
    }
   ],
   "source": [
    "test = category_sum(test,\"movie\",\"movie/concerthall\") "
   ]
  },
  {
   "cell_type": "code",
   "execution_count": 49,
   "metadata": {},
   "outputs": [],
   "source": [
    "# test[test.category == \"movie/concerthall\"].place_name.unique()"
   ]
  },
  {
   "cell_type": "markdown",
   "metadata": {},
   "source": [
    "화장실 포함된 이름 -> publictoilet"
   ]
  },
  {
   "cell_type": "code",
   "execution_count": 50,
   "metadata": {},
   "outputs": [],
   "source": [
    "test = reg_name_change(test, \"movie/concerthall\", \"화장실\", \"publictoilet\")"
   ]
  },
  {
   "cell_type": "markdown",
   "metadata": {},
   "source": [
    "# 3. shopping/mart"
   ]
  },
  {
   "cell_type": "code",
   "execution_count": 51,
   "metadata": {
    "scrolled": false
   },
   "outputs": [],
   "source": [
    "# test[test.category == \"shopping/mart\"].head()"
   ]
  },
  {
   "cell_type": "markdown",
   "metadata": {},
   "source": [
    "shopping -> shopping/mart"
   ]
  },
  {
   "cell_type": "code",
   "execution_count": 52,
   "metadata": {
    "scrolled": true
   },
   "outputs": [
    {
     "name": "stdout",
     "output_type": "stream",
     "text": [
      "전체 category 개수\n",
      "59\n",
      "\n",
      "이 전 shopping/mart 해당 category 개수 : \n",
      "index                      1247\n",
      "category                   1247\n",
      "lat                        1247\n",
      "lon                        1247\n",
      "place_address              1247\n",
      "place_id                   1247\n",
      "place_name                 1247\n",
      "facility_available_name    1247\n",
      "facility_is_available      1247\n",
      "facility_id                1247\n",
      "dtype: int64\n",
      "\n",
      "이 후 shopping/mart 해당 category 개수 : \n",
      "index                      2063\n",
      "category                   2063\n",
      "lat                        2063\n",
      "lon                        2063\n",
      "place_address              2063\n",
      "place_id                   2063\n",
      "place_name                 2063\n",
      "facility_available_name    2063\n",
      "facility_is_available      2063\n",
      "facility_id                2063\n",
      "dtype: int64\n",
      "\n",
      "전체 category 개수\n",
      "58\n"
     ]
    },
    {
     "name": "stderr",
     "output_type": "stream",
     "text": [
      "C:\\Users\\user\\Anaconda3\\lib\\site-packages\\pandas\\core\\generic.py:4401: SettingWithCopyWarning: \n",
      "A value is trying to be set on a copy of a slice from a DataFrame.\n",
      "Try using .loc[row_indexer,col_indexer] = value instead\n",
      "\n",
      "See the caveats in the documentation: http://pandas.pydata.org/pandas-docs/stable/indexing.html#indexing-view-versus-copy\n",
      "  self[name] = value\n"
     ]
    }
   ],
   "source": [
    "test = category_sum(test, \"shopping\", \"shopping/mart\")"
   ]
  },
  {
   "cell_type": "code",
   "execution_count": 53,
   "metadata": {},
   "outputs": [],
   "source": [
    "# test[test.category == \"shopping/mart\"].place_name.unique()"
   ]
  },
  {
   "cell_type": "markdown",
   "metadata": {},
   "source": [
    "화장실 포함된 이름 -> publictoilet"
   ]
  },
  {
   "cell_type": "code",
   "execution_count": 54,
   "metadata": {},
   "outputs": [],
   "source": [
    "test = reg_name_change(test, \"shopping/mart\", \"화장실\", \"publictoilet\")"
   ]
  },
  {
   "cell_type": "markdown",
   "metadata": {},
   "source": [
    "# 4. public parking"
   ]
  },
  {
   "cell_type": "markdown",
   "metadata": {},
   "source": [
    "public parking -> publicparking"
   ]
  },
  {
   "cell_type": "code",
   "execution_count": 55,
   "metadata": {},
   "outputs": [
    {
     "name": "stdout",
     "output_type": "stream",
     "text": [
      "전체 category 개수\n",
      "58\n",
      "\n",
      "이 전 publicparking 해당 category 개수 : \n",
      "index                      108\n",
      "category                   108\n",
      "lat                        108\n",
      "lon                        108\n",
      "place_address              108\n",
      "place_id                   108\n",
      "place_name                 108\n",
      "facility_available_name    108\n",
      "facility_is_available      108\n",
      "facility_id                108\n",
      "dtype: int64\n",
      "\n",
      "이 후 publicparking 해당 category 개수 : \n",
      "index                      244\n",
      "category                   244\n",
      "lat                        244\n",
      "lon                        244\n",
      "place_address              244\n",
      "place_id                   244\n",
      "place_name                 244\n",
      "facility_available_name    244\n",
      "facility_is_available      244\n",
      "facility_id                244\n",
      "dtype: int64\n",
      "\n",
      "전체 category 개수\n",
      "57\n"
     ]
    },
    {
     "name": "stderr",
     "output_type": "stream",
     "text": [
      "C:\\Users\\user\\Anaconda3\\lib\\site-packages\\pandas\\core\\generic.py:4401: SettingWithCopyWarning: \n",
      "A value is trying to be set on a copy of a slice from a DataFrame.\n",
      "Try using .loc[row_indexer,col_indexer] = value instead\n",
      "\n",
      "See the caveats in the documentation: http://pandas.pydata.org/pandas-docs/stable/indexing.html#indexing-view-versus-copy\n",
      "  self[name] = value\n"
     ]
    }
   ],
   "source": [
    "test = category_sum(test, \"public parking\", \"publicparking\")"
   ]
  },
  {
   "cell_type": "code",
   "execution_count": 56,
   "metadata": {},
   "outputs": [],
   "source": [
    "# test[test.category == \"publicparking\"].place_name.unique()"
   ]
  },
  {
   "cell_type": "markdown",
   "metadata": {},
   "source": [
    "화장실 포함된 이름 -> publictoilet"
   ]
  },
  {
   "cell_type": "code",
   "execution_count": 57,
   "metadata": {},
   "outputs": [
    {
     "name": "stderr",
     "output_type": "stream",
     "text": [
      "C:\\Users\\user\\Anaconda3\\lib\\site-packages\\pandas\\core\\generic.py:4401: SettingWithCopyWarning: \n",
      "A value is trying to be set on a copy of a slice from a DataFrame.\n",
      "Try using .loc[row_indexer,col_indexer] = value instead\n",
      "\n",
      "See the caveats in the documentation: http://pandas.pydata.org/pandas-docs/stable/indexing.html#indexing-view-versus-copy\n",
      "  self[name] = value\n"
     ]
    }
   ],
   "source": [
    "test = reg_name_change(test, \"publicparking\", \"화장실\", \"publictoilet\")"
   ]
  },
  {
   "cell_type": "markdown",
   "metadata": {},
   "source": [
    "# 5. publictoilet 수정사항 없음"
   ]
  },
  {
   "cell_type": "code",
   "execution_count": 58,
   "metadata": {},
   "outputs": [],
   "source": [
    "# test[test.category == \"publictoilet\"].place_name.unique()"
   ]
  },
  {
   "cell_type": "markdown",
   "metadata": {},
   "source": [
    "# 6. hospital"
   ]
  },
  {
   "cell_type": "markdown",
   "metadata": {},
   "source": [
    "general hosplital -> hospital <br/>\n",
    "hospital 구분에 종합병원도 포함됨"
   ]
  },
  {
   "cell_type": "code",
   "execution_count": 59,
   "metadata": {},
   "outputs": [
    {
     "name": "stderr",
     "output_type": "stream",
     "text": [
      "C:\\Users\\user\\Anaconda3\\lib\\site-packages\\pandas\\core\\generic.py:4401: SettingWithCopyWarning: \n",
      "A value is trying to be set on a copy of a slice from a DataFrame.\n",
      "Try using .loc[row_indexer,col_indexer] = value instead\n",
      "\n",
      "See the caveats in the documentation: http://pandas.pydata.org/pandas-docs/stable/indexing.html#indexing-view-versus-copy\n",
      "  self[name] = value\n"
     ]
    },
    {
     "name": "stdout",
     "output_type": "stream",
     "text": [
      "전체 category 개수\n",
      "57\n",
      "\n",
      "이 전 hospital 해당 category 개수 : \n",
      "index                      4168\n",
      "category                   4168\n",
      "lat                        4168\n",
      "lon                        4168\n",
      "place_address              4168\n",
      "place_id                   4168\n",
      "place_name                 4168\n",
      "facility_available_name    4168\n",
      "facility_is_available      4168\n",
      "facility_id                4168\n",
      "dtype: int64\n",
      "\n",
      "이 후 hospital 해당 category 개수 : \n",
      "index                      4291\n",
      "category                   4291\n",
      "lat                        4291\n",
      "lon                        4291\n",
      "place_address              4291\n",
      "place_id                   4291\n",
      "place_name                 4291\n",
      "facility_available_name    4291\n",
      "facility_is_available      4291\n",
      "facility_id                4291\n",
      "dtype: int64\n",
      "\n",
      "전체 category 개수\n",
      "56\n"
     ]
    }
   ],
   "source": [
    "test = category_sum(test, 'general hospital', 'hospital')"
   ]
  },
  {
   "cell_type": "code",
   "execution_count": 60,
   "metadata": {
    "scrolled": false
   },
   "outputs": [],
   "source": [
    "# test[test.category == \"hospital\"].place_name.unique()"
   ]
  },
  {
   "cell_type": "markdown",
   "metadata": {},
   "source": [
    "화장실 포함된 이름 -> publictoilet"
   ]
  },
  {
   "cell_type": "code",
   "execution_count": 61,
   "metadata": {},
   "outputs": [],
   "source": [
    "test = reg_name_change(test, \"hospital\", \"화장실\", \"publictoilet\")"
   ]
  },
  {
   "cell_type": "markdown",
   "metadata": {},
   "source": [
    "# 7. publicinstitution"
   ]
  },
  {
   "cell_type": "code",
   "execution_count": 62,
   "metadata": {},
   "outputs": [],
   "source": [
    "# test[test.category == \"publicinstitution\"].place_name.unique()"
   ]
  },
  {
   "cell_type": "markdown",
   "metadata": {},
   "source": [
    "포함시키지 말아야 할 것 (나중에 삭제)"
   ]
  },
  {
   "cell_type": "code",
   "execution_count": 63,
   "metadata": {},
   "outputs": [
    {
     "name": "stderr",
     "output_type": "stream",
     "text": [
      "C:\\Users\\user\\Anaconda3\\lib\\site-packages\\pandas\\core\\generic.py:4401: SettingWithCopyWarning: \n",
      "A value is trying to be set on a copy of a slice from a DataFrame.\n",
      "Try using .loc[row_indexer,col_indexer] = value instead\n",
      "\n",
      "See the caveats in the documentation: http://pandas.pydata.org/pandas-docs/stable/indexing.html#indexing-view-versus-copy\n",
      "  self[name] = value\n"
     ]
    }
   ],
   "source": [
    "test = reg_name_change(test, \"publicinstitution\", \"지사\", \"delete\")"
   ]
  },
  {
   "cell_type": "code",
   "execution_count": 64,
   "metadata": {},
   "outputs": [
    {
     "name": "stderr",
     "output_type": "stream",
     "text": [
      "C:\\Users\\user\\Anaconda3\\lib\\site-packages\\pandas\\core\\generic.py:4401: SettingWithCopyWarning: \n",
      "A value is trying to be set on a copy of a slice from a DataFrame.\n",
      "Try using .loc[row_indexer,col_indexer] = value instead\n",
      "\n",
      "See the caveats in the documentation: http://pandas.pydata.org/pandas-docs/stable/indexing.html#indexing-view-versus-copy\n",
      "  self[name] = value\n"
     ]
    }
   ],
   "source": [
    "test = reg_name_change(test, \"publicinstitution\", \"공단\", \"delete\")"
   ]
  },
  {
   "cell_type": "markdown",
   "metadata": {},
   "source": [
    "보건소,  보건복지부 -> health center"
   ]
  },
  {
   "cell_type": "code",
   "execution_count": 65,
   "metadata": {},
   "outputs": [],
   "source": [
    "test = reg_name_change(test, \"publicinstitution\", \"보건소$\", \"health center\")"
   ]
  },
  {
   "cell_type": "code",
   "execution_count": 66,
   "metadata": {},
   "outputs": [
    {
     "name": "stderr",
     "output_type": "stream",
     "text": [
      "C:\\Users\\user\\Anaconda3\\lib\\site-packages\\pandas\\core\\generic.py:4401: SettingWithCopyWarning: \n",
      "A value is trying to be set on a copy of a slice from a DataFrame.\n",
      "Try using .loc[row_indexer,col_indexer] = value instead\n",
      "\n",
      "See the caveats in the documentation: http://pandas.pydata.org/pandas-docs/stable/indexing.html#indexing-view-versus-copy\n",
      "  self[name] = value\n"
     ]
    }
   ],
   "source": [
    "test = reg_name_change(test, \"publicinstitution\", \"보건\", \"health center\")"
   ]
  },
  {
   "cell_type": "markdown",
   "metadata": {},
   "source": [
    "우체국 -> post office"
   ]
  },
  {
   "cell_type": "code",
   "execution_count": 67,
   "metadata": {},
   "outputs": [
    {
     "name": "stderr",
     "output_type": "stream",
     "text": [
      "C:\\Users\\user\\Anaconda3\\lib\\site-packages\\pandas\\core\\generic.py:4401: SettingWithCopyWarning: \n",
      "A value is trying to be set on a copy of a slice from a DataFrame.\n",
      "Try using .loc[row_indexer,col_indexer] = value instead\n",
      "\n",
      "See the caveats in the documentation: http://pandas.pydata.org/pandas-docs/stable/indexing.html#indexing-view-versus-copy\n",
      "  self[name] = value\n"
     ]
    }
   ],
   "source": [
    "test = reg_name_change(test, \"publicinstitution\", \"우체국\", \"post office\")"
   ]
  },
  {
   "cell_type": "markdown",
   "metadata": {},
   "source": [
    "지구대, 경찰서, 파출소, 청사, 치안센터-> police station"
   ]
  },
  {
   "cell_type": "code",
   "execution_count": 68,
   "metadata": {},
   "outputs": [
    {
     "name": "stderr",
     "output_type": "stream",
     "text": [
      "C:\\Users\\user\\Anaconda3\\lib\\site-packages\\pandas\\core\\generic.py:4401: SettingWithCopyWarning: \n",
      "A value is trying to be set on a copy of a slice from a DataFrame.\n",
      "Try using .loc[row_indexer,col_indexer] = value instead\n",
      "\n",
      "See the caveats in the documentation: http://pandas.pydata.org/pandas-docs/stable/indexing.html#indexing-view-versus-copy\n",
      "  self[name] = value\n"
     ]
    }
   ],
   "source": [
    "test = reg_name_change(test, \"publicinstitution\", \"경찰서\", \"police station\")"
   ]
  },
  {
   "cell_type": "code",
   "execution_count": 69,
   "metadata": {},
   "outputs": [
    {
     "name": "stderr",
     "output_type": "stream",
     "text": [
      "C:\\Users\\user\\Anaconda3\\lib\\site-packages\\pandas\\core\\generic.py:4401: SettingWithCopyWarning: \n",
      "A value is trying to be set on a copy of a slice from a DataFrame.\n",
      "Try using .loc[row_indexer,col_indexer] = value instead\n",
      "\n",
      "See the caveats in the documentation: http://pandas.pydata.org/pandas-docs/stable/indexing.html#indexing-view-versus-copy\n",
      "  self[name] = value\n"
     ]
    }
   ],
   "source": [
    "test = reg_name_change(test, \"publicinstitution\", \"지구대\", \"police station\")"
   ]
  },
  {
   "cell_type": "code",
   "execution_count": 70,
   "metadata": {},
   "outputs": [
    {
     "name": "stderr",
     "output_type": "stream",
     "text": [
      "C:\\Users\\user\\Anaconda3\\lib\\site-packages\\pandas\\core\\generic.py:4401: SettingWithCopyWarning: \n",
      "A value is trying to be set on a copy of a slice from a DataFrame.\n",
      "Try using .loc[row_indexer,col_indexer] = value instead\n",
      "\n",
      "See the caveats in the documentation: http://pandas.pydata.org/pandas-docs/stable/indexing.html#indexing-view-versus-copy\n",
      "  self[name] = value\n"
     ]
    }
   ],
   "source": [
    "test = reg_name_change(test, \"publicinstitution\", \"파출소\", \"police station\")"
   ]
  },
  {
   "cell_type": "code",
   "execution_count": 71,
   "metadata": {},
   "outputs": [
    {
     "name": "stderr",
     "output_type": "stream",
     "text": [
      "C:\\Users\\user\\Anaconda3\\lib\\site-packages\\pandas\\core\\generic.py:4401: SettingWithCopyWarning: \n",
      "A value is trying to be set on a copy of a slice from a DataFrame.\n",
      "Try using .loc[row_indexer,col_indexer] = value instead\n",
      "\n",
      "See the caveats in the documentation: http://pandas.pydata.org/pandas-docs/stable/indexing.html#indexing-view-versus-copy\n",
      "  self[name] = value\n"
     ]
    }
   ],
   "source": [
    "test = reg_name_change(test, \"publicinstitution\", \"청사\", \"police station\")"
   ]
  },
  {
   "cell_type": "code",
   "execution_count": 72,
   "metadata": {},
   "outputs": [
    {
     "name": "stderr",
     "output_type": "stream",
     "text": [
      "C:\\Users\\user\\Anaconda3\\lib\\site-packages\\pandas\\core\\generic.py:4401: SettingWithCopyWarning: \n",
      "A value is trying to be set on a copy of a slice from a DataFrame.\n",
      "Try using .loc[row_indexer,col_indexer] = value instead\n",
      "\n",
      "See the caveats in the documentation: http://pandas.pydata.org/pandas-docs/stable/indexing.html#indexing-view-versus-copy\n",
      "  self[name] = value\n"
     ]
    }
   ],
   "source": [
    "test = reg_name_change(test, \"publicinstitution\", \"치안센터\", \"police station\")"
   ]
  },
  {
   "cell_type": "markdown",
   "metadata": {},
   "source": [
    "동사무소, 주민센터, 센터$, 구청 -> community service center"
   ]
  },
  {
   "cell_type": "code",
   "execution_count": 73,
   "metadata": {},
   "outputs": [
    {
     "name": "stderr",
     "output_type": "stream",
     "text": [
      "C:\\Users\\user\\Anaconda3\\lib\\site-packages\\pandas\\core\\generic.py:4401: SettingWithCopyWarning: \n",
      "A value is trying to be set on a copy of a slice from a DataFrame.\n",
      "Try using .loc[row_indexer,col_indexer] = value instead\n",
      "\n",
      "See the caveats in the documentation: http://pandas.pydata.org/pandas-docs/stable/indexing.html#indexing-view-versus-copy\n",
      "  self[name] = value\n"
     ]
    }
   ],
   "source": [
    "test = reg_name_change(test, \"publicinstitution\", \"주민센터\", \"community service center\")"
   ]
  },
  {
   "cell_type": "code",
   "execution_count": 74,
   "metadata": {},
   "outputs": [
    {
     "name": "stderr",
     "output_type": "stream",
     "text": [
      "C:\\Users\\user\\Anaconda3\\lib\\site-packages\\pandas\\core\\generic.py:4401: SettingWithCopyWarning: \n",
      "A value is trying to be set on a copy of a slice from a DataFrame.\n",
      "Try using .loc[row_indexer,col_indexer] = value instead\n",
      "\n",
      "See the caveats in the documentation: http://pandas.pydata.org/pandas-docs/stable/indexing.html#indexing-view-versus-copy\n",
      "  self[name] = value\n"
     ]
    }
   ],
   "source": [
    "test = reg_name_change(test, \"publicinstitution\", \"동사무소\", \"community service center\")"
   ]
  },
  {
   "cell_type": "code",
   "execution_count": 75,
   "metadata": {},
   "outputs": [
    {
     "name": "stderr",
     "output_type": "stream",
     "text": [
      "C:\\Users\\user\\Anaconda3\\lib\\site-packages\\pandas\\core\\generic.py:4401: SettingWithCopyWarning: \n",
      "A value is trying to be set on a copy of a slice from a DataFrame.\n",
      "Try using .loc[row_indexer,col_indexer] = value instead\n",
      "\n",
      "See the caveats in the documentation: http://pandas.pydata.org/pandas-docs/stable/indexing.html#indexing-view-versus-copy\n",
      "  self[name] = value\n"
     ]
    }
   ],
   "source": [
    "test = reg_name_change(test, \"publicinstitution\", \"센터\", \"community service center\")"
   ]
  },
  {
   "cell_type": "code",
   "execution_count": 76,
   "metadata": {},
   "outputs": [
    {
     "name": "stderr",
     "output_type": "stream",
     "text": [
      "C:\\Users\\user\\Anaconda3\\lib\\site-packages\\pandas\\core\\generic.py:4401: SettingWithCopyWarning: \n",
      "A value is trying to be set on a copy of a slice from a DataFrame.\n",
      "Try using .loc[row_indexer,col_indexer] = value instead\n",
      "\n",
      "See the caveats in the documentation: http://pandas.pydata.org/pandas-docs/stable/indexing.html#indexing-view-versus-copy\n",
      "  self[name] = value\n"
     ]
    }
   ],
   "source": [
    "test = reg_name_change(test, \"publicinstitution\", \"구청\", \"community service center\")"
   ]
  },
  {
   "cell_type": "code",
   "execution_count": 77,
   "metadata": {},
   "outputs": [
    {
     "name": "stdout",
     "output_type": "stream",
     "text": [
      "전체 category 개수\n",
      "57\n",
      "\n",
      "이 전 delete 해당 category 개수 : \n",
      "index                      53\n",
      "category                   53\n",
      "lat                        53\n",
      "lon                        53\n",
      "place_address              53\n",
      "place_id                   53\n",
      "place_name                 53\n",
      "facility_available_name    53\n",
      "facility_is_available      53\n",
      "facility_id                53\n",
      "dtype: int64\n",
      "\n",
      "이 후 delete 해당 category 개수 : \n",
      "index                      199\n",
      "category                   199\n",
      "lat                        199\n",
      "lon                        199\n",
      "place_address              199\n",
      "place_id                   199\n",
      "place_name                 199\n",
      "facility_available_name    199\n",
      "facility_is_available      199\n",
      "facility_id                199\n",
      "dtype: int64\n",
      "\n",
      "전체 category 개수\n",
      "56\n"
     ]
    },
    {
     "name": "stderr",
     "output_type": "stream",
     "text": [
      "C:\\Users\\user\\Anaconda3\\lib\\site-packages\\pandas\\core\\generic.py:4401: SettingWithCopyWarning: \n",
      "A value is trying to be set on a copy of a slice from a DataFrame.\n",
      "Try using .loc[row_indexer,col_indexer] = value instead\n",
      "\n",
      "See the caveats in the documentation: http://pandas.pydata.org/pandas-docs/stable/indexing.html#indexing-view-versus-copy\n",
      "  self[name] = value\n"
     ]
    }
   ],
   "source": [
    "test = category_sum(test, \"publicinstitution\", \"delete\")"
   ]
  },
  {
   "cell_type": "markdown",
   "metadata": {},
   "source": [
    "# 8. bank "
   ]
  },
  {
   "cell_type": "code",
   "execution_count": 78,
   "metadata": {},
   "outputs": [],
   "source": [
    "# test[test.category == \"bank\"].place_name.unique()"
   ]
  },
  {
   "cell_type": "code",
   "execution_count": 79,
   "metadata": {
    "scrolled": false
   },
   "outputs": [],
   "source": [
    "# test[test.category == \"bank\"].head()"
   ]
  },
  {
   "cell_type": "markdown",
   "metadata": {},
   "source": [
    "화장실 포함된 이름 -> publictoilet"
   ]
  },
  {
   "cell_type": "code",
   "execution_count": 80,
   "metadata": {},
   "outputs": [],
   "source": [
    "test = reg_name_change(test, \"bank\", \"화장실\", \"publictoilet\")"
   ]
  },
  {
   "cell_type": "markdown",
   "metadata": {},
   "source": [
    "호텔 -> hotel"
   ]
  },
  {
   "cell_type": "code",
   "execution_count": 81,
   "metadata": {},
   "outputs": [
    {
     "name": "stderr",
     "output_type": "stream",
     "text": [
      "C:\\Users\\user\\Anaconda3\\lib\\site-packages\\pandas\\core\\generic.py:4401: SettingWithCopyWarning: \n",
      "A value is trying to be set on a copy of a slice from a DataFrame.\n",
      "Try using .loc[row_indexer,col_indexer] = value instead\n",
      "\n",
      "See the caveats in the documentation: http://pandas.pydata.org/pandas-docs/stable/indexing.html#indexing-view-versus-copy\n",
      "  self[name] = value\n"
     ]
    }
   ],
   "source": [
    "test = reg_name_change(test, \"bank\", \"호텔\", \"hotel\")"
   ]
  },
  {
   "cell_type": "markdown",
   "metadata": {},
   "source": [
    "포함시키지 말아야 할 것 (나중에 삭제) 오피스텔 "
   ]
  },
  {
   "cell_type": "code",
   "execution_count": 82,
   "metadata": {},
   "outputs": [
    {
     "name": "stderr",
     "output_type": "stream",
     "text": [
      "C:\\Users\\user\\Anaconda3\\lib\\site-packages\\pandas\\core\\generic.py:4401: SettingWithCopyWarning: \n",
      "A value is trying to be set on a copy of a slice from a DataFrame.\n",
      "Try using .loc[row_indexer,col_indexer] = value instead\n",
      "\n",
      "See the caveats in the documentation: http://pandas.pydata.org/pandas-docs/stable/indexing.html#indexing-view-versus-copy\n",
      "  self[name] = value\n"
     ]
    }
   ],
   "source": [
    "test = reg_name_change(test, \"bank\", \"오피스텔\", \"delete\")"
   ]
  },
  {
   "cell_type": "code",
   "execution_count": 83,
   "metadata": {},
   "outputs": [],
   "source": [
    "test = reg_name_change(test, \"bank\", \"흥인아이젠\", \"delete\")"
   ]
  },
  {
   "cell_type": "code",
   "execution_count": 84,
   "metadata": {},
   "outputs": [],
   "source": [
    "test = reg_name_change(test, \"bank\", \"휴브리지\", \"delete\")"
   ]
  },
  {
   "cell_type": "code",
   "execution_count": 85,
   "metadata": {},
   "outputs": [],
   "source": [
    "test = reg_name_change(test, \"bank\", \"휴먼빌\", \"delete\")"
   ]
  },
  {
   "cell_type": "code",
   "execution_count": 86,
   "metadata": {},
   "outputs": [
    {
     "name": "stderr",
     "output_type": "stream",
     "text": [
      "C:\\Users\\user\\Anaconda3\\lib\\site-packages\\pandas\\core\\generic.py:4401: SettingWithCopyWarning: \n",
      "A value is trying to be set on a copy of a slice from a DataFrame.\n",
      "Try using .loc[row_indexer,col_indexer] = value instead\n",
      "\n",
      "See the caveats in the documentation: http://pandas.pydata.org/pandas-docs/stable/indexing.html#indexing-view-versus-copy\n",
      "  self[name] = value\n"
     ]
    }
   ],
   "source": [
    "test = reg_name_change(test, \"bank\", \"빌딩\", \"delete\")"
   ]
  },
  {
   "cell_type": "code",
   "execution_count": 87,
   "metadata": {
    "scrolled": true
   },
   "outputs": [
    {
     "name": "stderr",
     "output_type": "stream",
     "text": [
      "C:\\Users\\user\\Anaconda3\\lib\\site-packages\\pandas\\core\\generic.py:4401: SettingWithCopyWarning: \n",
      "A value is trying to be set on a copy of a slice from a DataFrame.\n",
      "Try using .loc[row_indexer,col_indexer] = value instead\n",
      "\n",
      "See the caveats in the documentation: http://pandas.pydata.org/pandas-docs/stable/indexing.html#indexing-view-versus-copy\n",
      "  self[name] = value\n"
     ]
    }
   ],
   "source": [
    "test = reg_name_change(test, \"bank\", \"타워\", \"delete\")"
   ]
  },
  {
   "cell_type": "code",
   "execution_count": 88,
   "metadata": {},
   "outputs": [],
   "source": [
    "test_list=['(주)동아일보사',\n",
    "       '(주)메트로신문사', '(주)서울비젼', '(주)시아인베스트', '(주)씨엔에스레지던스', '(주)툴스텍경복',\n",
    "       '2차대림아크로빌', '88체육관', 'A&D 엔지니어링', 'APP㈜국제운송사무소', 'A탑', 'BR엘리텔A동',\n",
    "       'BizWell성수', 'CASA BIANCO', 'CENTRAL PLACE', 'CJ드림씨티 A동 ',\n",
    "       'CJ드림씨티 B동 ', 'CU 신사가로수길점', 'E테크벨리', 'FERRUM TOWER', 'FIN TOWER',\n",
    "       'FNC ENTERTAINMENT', 'GREEN HILL', 'GRUBIG ', 'HANASAINT.STONE',\n",
    "       'HEY NEST', 'Hizen 학원','IBTOWER', 'IP TOWER',\n",
    "       'I park(상가)', ' JS TOWER', 'JS앤드F', 'K.W.E', 'KAO KAO', 'KCC파크타운',\n",
    "       'KGIT한독산학협동단지(C-4Block)', 'KR-TOWER', 'KT', 'KT&G', 'KT&G 강남지사',\n",
    "       'KT&G 영등포지사', 'K T F', 'KTIS', 'KT 강북지사', 'KT개봉지점', 'KT반포지사',\n",
    "       'KT 업무시설(사무소)', 'KT용산지점', 'KT월곡지점', 'KT자산개발센터', 'KT청량리지점',\n",
    "       'LGCNS상암IT CENTER', 'LG베스트샵(모바일서비스센터)', 'LG전자 강서서비스 센터',\n",
    "       'LG전자베스트샵서비스센터', 'LG패션 서관', 'LK사옥', 'LLG패션 별관', 'M-SPACE',\n",
    "       'METRO구로센터', 'M TOWER', 'OPUS 11', 'PARKSIDE', 'POBA 행정공제회',\n",
    "       'S-OIL 사옥', 'SG연기 아카데미', 'SK Telecom 성수사옥', 'SK네트웍스', 'SK허브그린',\n",
    "       'SR스타빌', 'SUN JIN ENG', 'THE PARK 365', 'THE REPOSE', '㈜도서출판넥서스',\n",
    "       '㈜ 동호프라자1', '㈜미래세움', '㈜비츠로시스', '갈월동 업무시설', '갈월동 오피스(한진중공업)',\n",
    "       '강남YMCA', '강남구 재활용센터', '강남아르누보씨티', '강남 파이낸스센터', '강님태영데시앙루브',\n",
    "       '강동상떼빌', '강동성심병원3별관', '강동성심병원별관', '강북물류센터(DHL)', '강북지역전력설비관리동',\n",
    "       '강서교회', '강서구시설관리공당', '강서 동도센트리움 141동', '강선환', '강일큐브', '강행성',\n",
    "       '갤러리아팰리스', '거구장', '거성리젠시', '건우캐스텔', '경동엠파이어스테이트', '경동운수', '경승무역',\n",
    "       '경해실업㈜', '고려한백', '골드하이츠', '골프존R&D센터', '공감대주상복합아파트', '관악맥스텔',\n",
    "       '관악시티빌',  '광남제니텔', '광남캐스빌(아)', '광선유니버스텔A', '광신엔터프라이즈',\n",
    "       '광진구 구의동 성현교회', '광진트라팰리스', '교보생명', '구로등기소', '구의아크로리버', '구찌(신축)',\n",
    "       '국가보훈처(광복회관)', '국립산림과학원', '국민건강보험공단', '국제자산신탁(주)', '국제항운', '그랑드빌', '그레이스빌',\n",
    "       '그린빌파크', '그린하이클라스빌', '극동방송', '근린생활시설', '근상프리즘', '글로벌 미디어 콘텐츠센터 ',\n",
    "       '금강블루', '금산플레이버', '금융업소', '금천전화국', '기독교복음방송', '기산전자사옥','길동청광플러스원큐브1차',\n",
    "       '길훈앤트런스빌', '김정덕외 4인', '까치산하우스', '꿈이가득한집', '나종자', '남산 롯데캐슬 아이리스',\n",
    "       '남산센트럴 자이', '남산트라팰리스','남서울실업㈜', '남신원룸', '남양약품',\n",
    "       '네오라이프', '네오레지덴텔', '네오빌', '네티션닷컴별관동', '넥서스벨리', '넥스빌I', '넥스빌II',\n",
    "       '넥스빌III', '노들리안 오피스텔1', '노들리안 오피스텔2', '노블레스 빌', '노블레스빌', '노블리안',\n",
    "       '노빌리안골드', '노원마블러스 오피스텔2', '농심', '농협(중계동지점)', '농협 관악신우지점',\n",
    "       '농협로데오지점', '농협문화재단', '누가 베스트', '다락원사옥 ', '다빈치', '다솔미가', '다음빌',\n",
    "       '당산랜드빌', '대교', '대동 피렌체리버', '대림역 와이즈플레이스', '대명랜드마크', '대선스틸',\n",
    "       '대승프린스텔', '대우디오빌', '대우디오슈페리움A', '대우미래사랑2차', '대우미래사랑3차 141동',\n",
    "       '대우 이안', '대우이안 1', '대우이안 2', '대우증권', '대웅제약 본관동', '대원아크로빌',\n",
    "       '대원제약사옥', '대진레지던스-조사불가 시설잠김 연락처없음', '대학캠퍼스텔', '대한건축학회 건축센터',\n",
    "       '대한제지㈜ 사옥', '대한치과의사협회회관', '대호아이피개발(주)', '덴탈프라자', '도로교통공단 본부',\n",
    "       '도림하이츠빌', '도일산호시티빌', '독일교회', '돈암메트로빌', '동광동대문베르빌', '동광리버하임',\n",
    "       '동교동 와우재', '동남드림빌주상복합', '동대문등기소', '동대문패션비즈센터', '동도센트리움', '동림오벨리스크',\n",
    "       '동보흥업', '동부디아이빌', '동아일보미디어센터', '동아제약 구관 신사옥', '동아제약 본관', '동아타운21',\n",
    "       '동양증권', '동양한강트레벨', '동영문화센터', '동우사우나', '동인 레반트', '동인쉐르빌',\n",
    "       '동일(국민은행)', '동일하이빌', '동작새마을금고', '두산위브센티움', '두산위브파빌리온', '두성종이주식회사',\n",
    "       '등촌동 업무시설', '디아뜨센트럴', '뚝섬리버빌', '라이온스톤', '락앤락본사', '레이노코리아',\n",
    "       '레지던스o/p', '로얄샤르망', '로얄팰리스 스위트', '롯데마트건물', '롯데우유㈜본사', '롯데캐슬',\n",
    "       '루첸티', '르네상스빌주상복합', '르노삼성자동차 도봉사업소', '리버마이다스빌', '리베로 오피스텔2차',\n",
    "       '리빙프라자(주)', '리스빌', '리앤나빌리지', '리오베', '마미앤토리', '마에스트로', '마이죤', '마이홈',\n",
    "       '마포공덕파크펠리', '마포로얄플라자', '마포태영데시앙', '마포현대하이엘', '메르드뱅', '메이준', '메이찬',\n",
    "       '메트로', '메트로디오빌', '메트로팰리스', '멤버스뷰', '명륜프라자', '명인고시텔', '명지 페르마타',\n",
    "       '명지한강빌드웰', '모투스 엔 실버불렛 사옥', '목동트라펠리스(금융업소)', '문래아카데미', '문래임광그대가',\n",
    "       '문래파라곤 141동', '문래파라곤 241동', '문정', '미디어센터', '미래에셋생명', '미래에셋 센터원',\n",
    "       '미래에셋증권 도곡지점', '미래지오', '미성드림투유', '민병원', '민스빌', '민족통일 대통령 리빙텔',\n",
    "       '밀레니엄스텔', '밀레오레명동', '밀리오레', '바비엥-2', '바비엥3', '방배디오슈페리움1', '방배리더스빌',\n",
    "       '방이동근린생활시설', '백세인터내셔널사옥', '백세주 마을(국순당)', '백운매트로엔', '백화점약국', '법률센터',\n",
    "       '법조타운', '베로니스 타운', '베스트빌', '베스트 트레드빌', '보브역삼동사옥', '보육사',\n",
    "       '본베스트정형외과의원', '부국증권', '부귀영전', '부띠끄모나코', '부래당', '부르다문', '부암동 업무시설', \n",
    "    '북한연구소', '뷰티플라워', '브라운스톤서초',\n",
    "       '브라운스톤연희', '브라운스톤 천호', '브라운스톤 화양', '브라운힐', '브리티시아메리칸토바코', '블루밍하우스',\n",
    "       '비버리캐슬', '비앤비빌리지', '비즈트위트그린', '비즈트위트 블루', '빅하이텔', '사무소',\n",
    "       '사직동 새마을금고', '산들파크빌1', '산들파크빌6', '살구벽돌', '삼능스페이스향', '삼부르네상스',\n",
    "       '삼부르네상스플러스', '삼성골드캐슬', '삼성디지털', '삼성본관', '삼성생명', '삼성생명장안동사옥',\n",
    "       '삼성전자대리점', '삼성전자디지털센터', '삼성전자서비스 관악센터', '삼성출판사', '삼성파크빌',\n",
    "       '삼성화재 본사사옥', '삼성화재 영등포사옥', '삼성화재해상보험', '삼양사', '삼영익스프레스',\n",
    "       '삼익전자 공업 주식회사', '삼전솔하임 2차', '삼정스카이', '삼진제약사옥', '삼형캐슬', '새롬스타빌','생모리츠타운', '샬렛스위스', '서광프리메라주상복합', '서안이지텔', '서울E&T',\n",
    "       '서울도시가스㈜', '서울도시가스사옥', '서울디지털드림타운', '서울메트로 동대문별관', '서울문화재단',\n",
    "       '서울석유', '서울스퀘어', '서울 스타르호텔 별관', '서울시메트로호선', '서울시버스노조회관', '서울오토갤러리',\n",
    "       '서울유니버스텔', '서울이동통신사옥', '서울지방노동청서울관악지청', '서울축협청사', '서초대우디오빌',\n",
    "       '서초동145-2', '서초레몬', '서초신성미소시티', '서초타운트라팰리스', '서희스타힐스', '서희 스타힐스',\n",
    "       '석원산업', '선원 오피스', '선일크라시아', '성강에코텔', '성동샤르망', '성문개발', '성현교회 선교센터',\n",
    "       '세계일보', '세방글로벌시티', '세양아르비체141동', '세양아르비체142동', '세종프라자', '센트럴빌',\n",
    "       '센트레빌아스테리움 용산', '솔앤시티오피스텔?주차장', '송파오라클', '송현나이스빌', '수락네스트죤',\n",
    "       '수운회관', '스위트가든빌라', '스위트빌', '스쿨룩스', '스퀘어빌', '스타갤러리브릿지', '스타벅스합정역점',\n",
    "       '스타비안사우나', '스페셜 라이즈드', '스페이스엠', '스포월드', '스포츠조선', '시설관리공단',\n",
    "       '시설물명 미입력', '시아루비움', '시티뷰3차', '신공덕오피스텔(센타빌)', '신도림3차푸르지오',\n",
    "       '신동아하이팰리스', '신라FNC(주)', '신명스카이뷰', '신성미소씨티','신원메트로빌', '신일', '신창비바패밀리', '신촌가이아', '신촌 르·메이에르타운V','신흥메트로', '써니하우스', '썬앳푸드', '씨제이제일제당센터',\n",
    "       '아마넥스㈜', '아메리카 스텐다드', '아셈회관', '아스테리아', '아스트라', '아시아텍스타일', '아싸컴',\n",
    "       '아우디서초센터', '아우디 전시장', '아울빌리지(두양오피스텔)', '아이스카이 네트웍스', '아이엔지 센터',\n",
    "       '양재동67-2', '양재역환승주차장', '양평동 우림 비즈센터', '어위쉬예다인', '업무시설','업무시설(사무소)', '업무시설(사무실)', '에이스에어존', '에이스에이존',\n",
    "       '에코넷센터', '에프투텔레콤사옥', '엘리어트하우스', '엘리지움', '엘베스트빌', '여선교회관', '여성미래센터',\n",
    "       '여의도 더', '여의도의아침', '여촌', '역삼 이스타빌', '연희체스트빌', '영광교회', '영등포가 교회',\n",
    "       '영등포구청환승주차장', '영우빌라텔', '예가크레시아', '예금보험공사', '예림출판문화센터', '예성라온팰리스',\n",
    "       '예성라온펠리스', '예신퍼슨스', '오드리스튜디오', '오라클피부과', '오릭스증권', '오벨리스크', '오크벨리',\n",
    "       '오피스텔리움', '오피스텔 에스빌', '오피앙 ', '오피앙', '오피앙2', '옥스포드하우스', '온리정보통신',\n",
    "       '올레플라자 용산점', '올리브오피스텔1', '올리브오피스텔2','업무시설(사무소)', '업무시설(사무실)', '에이스에어존', '에이스에이존',\n",
    "       '에코넷센터', '에프투텔레콤사옥', '엘리어트하우스', '엘리지움', '엘베스트빌', '여선교회관', '여성미래센터',\n",
    "       '여의도 더', '여의도의아침', '여촌', '역삼 이스타빌', '연희체스트빌', '영광교회', '영등포가 교회',\n",
    "       '영등포구청환승주차장', '영우빌라텔', '예가크레시아', '예금보험공사', '예림출판문화센터', '예성라온팰리스',\n",
    "       '예성라온펠리스', '예신퍼슨스', '오드리스튜디오', '오라클피부과', '오릭스증권', '오벨리스크', '오크벨리',\n",
    "       '오피스텔리움', '오피스텔 에스빌', '오피앙 ', '오피앙', '오피앙2', '옥스포드하우스', '온리정보통신',\n",
    "       '올레플라자 용산점', '올리브오피스텔1', '올리브오피스텔2','용산구선거관리위원회',\n",
    "       '용산시티파크1단지', '용산시티파크2단지', '용산씨제이나인파크', '용산파크자이 상가', '용성비즈텔',\n",
    "       '우남네오풀리스', '우남하우징','우림보보카운투비',\n",
    "       '우신하이랜드', '우원실업', '워터게이트', '원능프라자', '원룸', '원평11차', '원평빌라트 6차',\n",
    "       '웰빙타운', '위너스텔', '유니베라관악대리점', '유니세프한국위원회', '유니텔전자', '유림하이빌',\n",
    "       '은평구평생학습관', '을지전화국', '을지회관', '이랜드 신촌사옥 ', '이스타빌', '이스타팰리스',\n",
    "       '이스트타운', '이안상암1단지 센트럴몰 한독산학협동단지', '이안용산프리미어', '이즈빌',\n",
    "       '인의동 한국교직원공제회', '인택스파크뷰', '인터엠', '인텔지펠리스', '일(밀)양택배', '일반업무',\n",
    "       '일신건영휴먼테크', '일조그린빌', '일진자동차', '장안현대벤처빌', '장애인기업문화센터', '장우오피스텔건물',\n",
    "       '재호예양빌', '전국교수공제회 서울회관', '전국자동차노동조합', '전국자동차운전전문학원연합회관', '전자회관',\n",
    "       '정도트윈빌141동', '정도트윈빌142동', '정보통신공제조합', '정암하이빌', '정연지오빌II',\n",
    "       '정연지오빌 김용록외 1인', '정우금속공업', '정호빌라트', '제노비아', '제니코식품', '제이원하이텔',\n",
    "       '제일니트', '제일모직건물', '제주탐라영재관', '젠틀몬스터', '종로1가 대성스카이렉스주상복합', '종로 엠스쿨',\n",
    "       '종로플레이스', '종인아네스트', '좋은사람 좋은집', '좋은책 신사고', '주) Tbroad 방송',\n",
    "       '주)삼성전자염창동사옥', '주식회사LG패션', '주식회사쓰리에소프트', '주식회사쿠지인터내셔널', '주양쇼핑',\n",
    "       '주택.근린생활시설', '중구종합복지센터', '중림동새마을금고', '중소기업중앙회', '중앙시티빌', '중앙일보구관',\n",
    "       '지산타운', '지에스 한강에클라트', '지엔코', '지오베르크', '지지무역', '진산스텔', '진양제약사옥',\n",
    "       '진학회관', '참존대치사옥', '참존어페럴', '창덕에버빌', '철록헌', '청계아르테미스', '청솔펠리스',\n",
    "       '청우식품사옥', '청일 베르네', '최병만 외 1인', '최신물산', '출입국관리사무소', '충정리시온',\n",
    "       '칸타빌레', '캠퍼니안', '케이티앤지성동지점', '코리아리스치', '코리아씨디앤씨', '코스모그린',\n",
    "       '코업레지던스', '코오롱 스타폴리스', '코지펠리스', '큐브플러스', '크라운 본관', '크레신사옥', '크로바텔',\n",
    "       '클래티드', '키움건설', '킹오토', '타베루', '태림빌', '태양', '태양 21', '태영약품',\n",
    "       '토마토파르코', '토방트윈빌 A', '토방트윈빌 B', '트라비하우스', '트라움빌', '티제미디어㈜',\n",
    "       '파라다이스텔', '파인에비뉴', '팔레시움', '팬트라우스', '포레비떼', '풍림아이원', '풍림아이원플러스',\n",
    "       '풍산개발', '프라임팰리스', '프리마리버텔', '피앤디솔로빌', '피엔폴루스(대수선)','하늘담',\n",
    "       '하우스텔 숙', '하이리빙 본사 사옥', '하이마트 영등포구청점', '하이베라스', '하이프라자 ', '하임Ⅱ오피스',\n",
    "       '하임오피스', '한강로 대우아이빌', '한강로벽산메가트리움', '한강시티라이프', '한강포스빌', '한강현대하이엘',\n",
    "       '한강훼미리', '한국가정법률상담소', '한국겔럽조사연구소', '한국고등교육재단', '한국교직원공제회',\n",
    "       '한국노총 중앙근로자 복지센타', '한국문구공업협동조합', '한국방송회관', '한국산업공단',\n",
    "       '한국산업단지공단 서울지역본부(키콕스벤처센터)', '한국섬유산업 연합회', '한국소방안전협회', '한국승강기안전관리원',\n",
    "       '한국아이비에스', '한국야금사옥', '한국여자농구연맹', '한국원자력문화재단', '한국음악저작권협회',\n",
    "       '한국정보통신공사협회', '한국조폐공사', '한국 콘텐츠 진흥원', '한나산부인과', '한남동 업무시설',\n",
    "       '한디예건㈜', '한려옥(대조동르네상스오피스텔)', '한미석유', '한밭법조타운', '한성디자인모델', '한성메르디앙',\n",
    "       '한성모터스', '한성하우징', '한스빌', '한스위트', '한승아스트라2', '한아름쇼핑센터', '한양수자인',\n",
    "       '한양증권', '한웰', '한일써너스빌', '한청실업(주)', '한화오벨리스크스위트', '해광', '해찬행복드림',\n",
    "       '해커스 어학원', '햄 하우스', '행복나눔재단', '행복미래교육원', '허브닥터', '허브원', '현대드림밸리',\n",
    "       '현대렉시온', '현대백화점인재개발원', '현대싱그런', '현대캐피탈 양재사옥', '현대토픽스',\n",
    "       '현대폴라트리움주상복합', '현대 해상', '현대해상강서사옥', '현대홈시티1', '호림아트센터', '화성시장학관',\n",
    "       '화인리더스', '화인벨라까샤', '화인시스템', '황금프라자', '황학동 코아루', '효성벤츠 강남전시장',\n",
    "       '휴게음식점(문샤인)', '희경']"
   ]
  },
  {
   "cell_type": "code",
   "execution_count": 89,
   "metadata": {},
   "outputs": [],
   "source": [
    "test= test[~test.place_name.isin(test_list)]"
   ]
  },
  {
   "cell_type": "markdown",
   "metadata": {},
   "source": [
    "# 9. gym "
   ]
  },
  {
   "cell_type": "markdown",
   "metadata": {},
   "source": [
    "stadium -> gym"
   ]
  },
  {
   "cell_type": "code",
   "execution_count": 90,
   "metadata": {},
   "outputs": [
    {
     "name": "stdout",
     "output_type": "stream",
     "text": [
      "전체 category 개수\n",
      "56\n",
      "\n",
      "이 전 gym 해당 category 개수 : \n",
      "index                      10\n",
      "category                   10\n",
      "lat                        10\n",
      "lon                        10\n",
      "place_address              10\n",
      "place_id                   10\n",
      "place_name                 10\n",
      "facility_available_name    10\n",
      "facility_is_available      10\n",
      "facility_id                10\n",
      "dtype: int64\n"
     ]
    },
    {
     "name": "stderr",
     "output_type": "stream",
     "text": [
      "C:\\Users\\user\\Anaconda3\\lib\\site-packages\\pandas\\core\\generic.py:4401: SettingWithCopyWarning: \n",
      "A value is trying to be set on a copy of a slice from a DataFrame.\n",
      "Try using .loc[row_indexer,col_indexer] = value instead\n",
      "\n",
      "See the caveats in the documentation: http://pandas.pydata.org/pandas-docs/stable/indexing.html#indexing-view-versus-copy\n",
      "  self[name] = value\n",
      "C:\\Users\\user\\Anaconda3\\lib\\site-packages\\ipykernel_launcher.py:9: SettingWithCopyWarning: \n",
      "A value is trying to be set on a copy of a slice from a DataFrame.\n",
      "Try using .loc[row_indexer,col_indexer] = value instead\n",
      "\n",
      "See the caveats in the documentation: http://pandas.pydata.org/pandas-docs/stable/indexing.html#indexing-view-versus-copy\n",
      "  if __name__ == '__main__':\n",
      "C:\\Users\\user\\Anaconda3\\lib\\site-packages\\pandas\\core\\indexing.py:543: SettingWithCopyWarning: \n",
      "A value is trying to be set on a copy of a slice from a DataFrame.\n",
      "Try using .loc[row_indexer,col_indexer] = value instead\n",
      "\n",
      "See the caveats in the documentation: http://pandas.pydata.org/pandas-docs/stable/indexing.html#indexing-view-versus-copy\n",
      "  self.obj[item] = s\n"
     ]
    },
    {
     "name": "stdout",
     "output_type": "stream",
     "text": [
      "\n",
      "이 후 gym 해당 category 개수 : \n",
      "index                      20\n",
      "category                   20\n",
      "lat                        20\n",
      "lon                        20\n",
      "place_address              20\n",
      "place_id                   20\n",
      "place_name                 20\n",
      "facility_available_name    20\n",
      "facility_is_available      20\n",
      "facility_id                20\n",
      "dtype: int64\n",
      "\n",
      "전체 category 개수\n",
      "55\n"
     ]
    }
   ],
   "source": [
    "test = category_sum(test, \"stadium\", \"gym\")"
   ]
  },
  {
   "cell_type": "code",
   "execution_count": 91,
   "metadata": {},
   "outputs": [],
   "source": [
    "# test[test.category ==\"gym\"].place_name.unique()"
   ]
  },
  {
   "cell_type": "markdown",
   "metadata": {},
   "source": [
    "# 10. hotel"
   ]
  },
  {
   "cell_type": "markdown",
   "metadata": {},
   "source": [
    "tourist hotel -> hotel"
   ]
  },
  {
   "cell_type": "code",
   "execution_count": 92,
   "metadata": {},
   "outputs": [
    {
     "name": "stdout",
     "output_type": "stream",
     "text": [
      "전체 category 개수\n",
      "55\n",
      "\n",
      "이 전 hotel 해당 category 개수 : \n",
      "index                      928\n",
      "category                   928\n",
      "lat                        928\n",
      "lon                        928\n",
      "place_address              928\n",
      "place_id                   928\n",
      "place_name                 928\n",
      "facility_available_name    928\n",
      "facility_is_available      928\n",
      "facility_id                928\n",
      "dtype: int64\n"
     ]
    },
    {
     "name": "stderr",
     "output_type": "stream",
     "text": [
      "C:\\Users\\user\\Anaconda3\\lib\\site-packages\\pandas\\core\\generic.py:4401: SettingWithCopyWarning: \n",
      "A value is trying to be set on a copy of a slice from a DataFrame.\n",
      "Try using .loc[row_indexer,col_indexer] = value instead\n",
      "\n",
      "See the caveats in the documentation: http://pandas.pydata.org/pandas-docs/stable/indexing.html#indexing-view-versus-copy\n",
      "  self[name] = value\n",
      "C:\\Users\\user\\Anaconda3\\lib\\site-packages\\ipykernel_launcher.py:9: SettingWithCopyWarning: \n",
      "A value is trying to be set on a copy of a slice from a DataFrame.\n",
      "Try using .loc[row_indexer,col_indexer] = value instead\n",
      "\n",
      "See the caveats in the documentation: http://pandas.pydata.org/pandas-docs/stable/indexing.html#indexing-view-versus-copy\n",
      "  if __name__ == '__main__':\n",
      "C:\\Users\\user\\Anaconda3\\lib\\site-packages\\pandas\\core\\indexing.py:543: SettingWithCopyWarning: \n",
      "A value is trying to be set on a copy of a slice from a DataFrame.\n",
      "Try using .loc[row_indexer,col_indexer] = value instead\n",
      "\n",
      "See the caveats in the documentation: http://pandas.pydata.org/pandas-docs/stable/indexing.html#indexing-view-versus-copy\n",
      "  self.obj[item] = s\n"
     ]
    },
    {
     "name": "stdout",
     "output_type": "stream",
     "text": [
      "\n",
      "이 후 hotel 해당 category 개수 : \n",
      "index                      1800\n",
      "category                   1800\n",
      "lat                        1800\n",
      "lon                        1800\n",
      "place_address              1800\n",
      "place_id                   1800\n",
      "place_name                 1800\n",
      "facility_available_name    1800\n",
      "facility_is_available      1800\n",
      "facility_id                1800\n",
      "dtype: int64\n",
      "\n",
      "전체 category 개수\n",
      "54\n"
     ]
    }
   ],
   "source": [
    "test = category_sum(test, 'tourist hotel', 'hotel')"
   ]
  },
  {
   "cell_type": "code",
   "execution_count": 93,
   "metadata": {},
   "outputs": [],
   "source": [
    "# test[test.category ==\"hotel\"].place_name.unique()"
   ]
  },
  {
   "cell_type": "markdown",
   "metadata": {},
   "source": [
    "화장실 포함된 이름 -> publictoilet"
   ]
  },
  {
   "cell_type": "code",
   "execution_count": 94,
   "metadata": {},
   "outputs": [
    {
     "name": "stderr",
     "output_type": "stream",
     "text": [
      "C:\\Users\\user\\Anaconda3\\lib\\site-packages\\pandas\\core\\indexing.py:543: SettingWithCopyWarning: \n",
      "A value is trying to be set on a copy of a slice from a DataFrame.\n",
      "Try using .loc[row_indexer,col_indexer] = value instead\n",
      "\n",
      "See the caveats in the documentation: http://pandas.pydata.org/pandas-docs/stable/indexing.html#indexing-view-versus-copy\n",
      "  self.obj[item] = s\n"
     ]
    }
   ],
   "source": [
    "test = reg_name_change(test, \"hotel\", \"화장실\", \"publictoilet\")"
   ]
  },
  {
   "cell_type": "markdown",
   "metadata": {},
   "source": [
    "# 11. factory drop \n",
    "factory -> 회사는 특정인만 출입하기 때문에 제외"
   ]
  },
  {
   "cell_type": "code",
   "execution_count": 95,
   "metadata": {},
   "outputs": [],
   "source": [
    "test = test[test.category != 'factory']"
   ]
  },
  {
   "cell_type": "markdown",
   "metadata": {},
   "source": [
    "# 12. library\n",
    "public library -> library"
   ]
  },
  {
   "cell_type": "code",
   "execution_count": 96,
   "metadata": {},
   "outputs": [
    {
     "name": "stdout",
     "output_type": "stream",
     "text": [
      "전체 category 개수\n",
      "53\n",
      "\n",
      "이 전 library 해당 category 개수 : \n",
      "index                      38\n",
      "category                   38\n",
      "lat                        38\n",
      "lon                        38\n",
      "place_address              38\n",
      "place_id                   38\n",
      "place_name                 38\n",
      "facility_available_name    38\n",
      "facility_is_available      38\n",
      "facility_id                38\n",
      "dtype: int64\n",
      "\n",
      "이 후 library 해당 category 개수 : \n",
      "index                      65\n",
      "category                   65\n",
      "lat                        65\n",
      "lon                        65\n",
      "place_address              65\n",
      "place_id                   65\n",
      "place_name                 65\n",
      "facility_available_name    65\n",
      "facility_is_available      65\n",
      "facility_id                65\n",
      "dtype: int64\n",
      "\n",
      "전체 category 개수\n",
      "52\n"
     ]
    },
    {
     "name": "stderr",
     "output_type": "stream",
     "text": [
      "C:\\Users\\user\\Anaconda3\\lib\\site-packages\\pandas\\core\\generic.py:4401: SettingWithCopyWarning: \n",
      "A value is trying to be set on a copy of a slice from a DataFrame.\n",
      "Try using .loc[row_indexer,col_indexer] = value instead\n",
      "\n",
      "See the caveats in the documentation: http://pandas.pydata.org/pandas-docs/stable/indexing.html#indexing-view-versus-copy\n",
      "  self[name] = value\n"
     ]
    }
   ],
   "source": [
    "test = category_sum(test, 'public library', 'library')"
   ]
  },
  {
   "cell_type": "markdown",
   "metadata": {},
   "source": [
    "# 13. telecommunication office 전화국 drop \n",
    "특정인만 출입을할 수 있기 때문에"
   ]
  },
  {
   "cell_type": "code",
   "execution_count": 97,
   "metadata": {},
   "outputs": [],
   "source": [
    "test = test[test.category != 'telecommunication office']"
   ]
  },
  {
   "cell_type": "markdown",
   "metadata": {},
   "source": [
    "# 14. 공단 공사 drop -> 방문 빈도수가 낮음 \n",
    "국민건강보험공단 및 지사 <br/>\n",
    "국민연금공단 및 지사 <br/>\n",
    "한국장애인고용공단 및 지사<br/> \n",
    "근로복지공단 및 지사<br/>\n",
    "국가 또는 지자체 청사<br/>\n",
    "국민건강보험공단 및 지사<br/>\n",
    "국민연금공단 및 지사<br/>\n",
    "한국장애인고용공단 및 지사<br/>"
   ]
  },
  {
   "cell_type": "code",
   "execution_count": 98,
   "metadata": {},
   "outputs": [],
   "source": [
    "test = test[test.category != 'national health insurance corporation'] # 국민건강보험공단 및 지사"
   ]
  },
  {
   "cell_type": "code",
   "execution_count": 99,
   "metadata": {},
   "outputs": [],
   "source": [
    "test = test[test.category != 'national pension service'] # 국민연금공단 및 지사"
   ]
  },
  {
   "cell_type": "code",
   "execution_count": 100,
   "metadata": {},
   "outputs": [],
   "source": [
    "test = test[test.category != 'workers welfare service'] # 근로복지공단 및 지사"
   ]
  },
  {
   "cell_type": "code",
   "execution_count": 101,
   "metadata": {},
   "outputs": [],
   "source": [
    "test = test[test.category != 'government office building'] # 국가 또는 지자체 청사"
   ]
  },
  {
   "cell_type": "code",
   "execution_count": 102,
   "metadata": {},
   "outputs": [],
   "source": [
    "test = test[test.category != 'national health insurance corporation'] # 국민건강보험공단 및 지사"
   ]
  },
  {
   "cell_type": "code",
   "execution_count": 103,
   "metadata": {},
   "outputs": [],
   "source": [
    "test = test[test.category != 'national pension service'] # 국민연금공단 및 지사"
   ]
  },
  {
   "cell_type": "code",
   "execution_count": 104,
   "metadata": {},
   "outputs": [],
   "source": [
    "test = test[test.category != 'disabled employment agency'] # 한국장애인고용공단 및 지사"
   ]
  },
  {
   "cell_type": "markdown",
   "metadata": {},
   "source": [
    "# 15. driving academy(운전 학원) -> education/job (교육원·직업훈련소·학원 등)"
   ]
  },
  {
   "cell_type": "code",
   "execution_count": 105,
   "metadata": {},
   "outputs": [
    {
     "name": "stdout",
     "output_type": "stream",
     "text": [
      "전체 category 개수\n",
      "48\n",
      "\n",
      "이 전 education/job 해당 category 개수 : \n",
      "index                      4423\n",
      "category                   4423\n",
      "lat                        4423\n",
      "lon                        4423\n",
      "place_address              4423\n",
      "place_id                   4423\n",
      "place_name                 4423\n",
      "facility_available_name    4423\n",
      "facility_is_available      4423\n",
      "facility_id                4423\n",
      "dtype: int64\n",
      "\n",
      "이 후 education/job 해당 category 개수 : \n",
      "index                      4430\n",
      "category                   4430\n",
      "lat                        4430\n",
      "lon                        4430\n",
      "place_address              4430\n",
      "place_id                   4430\n",
      "place_name                 4430\n",
      "facility_available_name    4430\n",
      "facility_is_available      4430\n",
      "facility_id                4430\n",
      "dtype: int64\n",
      "\n",
      "전체 category 개수\n",
      "47\n"
     ]
    },
    {
     "name": "stderr",
     "output_type": "stream",
     "text": [
      "C:\\Users\\user\\Anaconda3\\lib\\site-packages\\pandas\\core\\generic.py:4401: SettingWithCopyWarning: \n",
      "A value is trying to be set on a copy of a slice from a DataFrame.\n",
      "Try using .loc[row_indexer,col_indexer] = value instead\n",
      "\n",
      "See the caveats in the documentation: http://pandas.pydata.org/pandas-docs/stable/indexing.html#indexing-view-versus-copy\n",
      "  self[name] = value\n"
     ]
    }
   ],
   "source": [
    "test = category_sum(test,\"driving academy\" ,\"education/job\")"
   ]
  },
  {
   "cell_type": "markdown",
   "metadata": {},
   "source": [
    "# 16. 대피소 drop"
   ]
  },
  {
   "cell_type": "code",
   "execution_count": 106,
   "metadata": {},
   "outputs": [],
   "source": [
    "test = test[test.category != 'shelter']"
   ]
  },
  {
   "cell_type": "markdown",
   "metadata": {},
   "source": [
    "# 17. broadcasting station drop\n",
    "특정인만 출입을할 수 있기 때문에"
   ]
  },
  {
   "cell_type": "code",
   "execution_count": 107,
   "metadata": {},
   "outputs": [],
   "source": [
    "test = test[test.category != 'broadcasting station']"
   ]
  },
  {
   "cell_type": "markdown",
   "metadata": {},
   "source": [
    "# 18. korean, western, chinese, japanese, flour_based_food, other_food -> restaurant"
   ]
  },
  {
   "cell_type": "code",
   "execution_count": 108,
   "metadata": {},
   "outputs": [
    {
     "name": "stdout",
     "output_type": "stream",
     "text": [
      "전체 category 개수\n",
      "46\n",
      "\n",
      "이 전 restaurant 해당 category 개수 : \n",
      "index                      1213\n",
      "category                   1213\n",
      "lat                        1213\n",
      "lon                        1213\n",
      "place_address              1213\n",
      "place_id                   1213\n",
      "place_name                 1213\n",
      "facility_available_name    1213\n",
      "facility_is_available      1213\n",
      "facility_id                1213\n",
      "dtype: int64\n",
      "\n",
      "이 후 restaurant 해당 category 개수 : \n",
      "index                      2113\n",
      "category                   2113\n",
      "lat                        2113\n",
      "lon                        2113\n",
      "place_address              2113\n",
      "place_id                   2113\n",
      "place_name                 2113\n",
      "facility_available_name    2113\n",
      "facility_is_available      2113\n",
      "facility_id                2113\n",
      "dtype: int64\n",
      "\n",
      "전체 category 개수\n",
      "45\n"
     ]
    },
    {
     "name": "stderr",
     "output_type": "stream",
     "text": [
      "C:\\Users\\user\\Anaconda3\\lib\\site-packages\\pandas\\core\\generic.py:4401: SettingWithCopyWarning: \n",
      "A value is trying to be set on a copy of a slice from a DataFrame.\n",
      "Try using .loc[row_indexer,col_indexer] = value instead\n",
      "\n",
      "See the caveats in the documentation: http://pandas.pydata.org/pandas-docs/stable/indexing.html#indexing-view-versus-copy\n",
      "  self[name] = value\n"
     ]
    }
   ],
   "source": [
    "test = category_sum(test, \"korean_food\", \"restaurant\")"
   ]
  },
  {
   "cell_type": "code",
   "execution_count": 109,
   "metadata": {},
   "outputs": [
    {
     "name": "stdout",
     "output_type": "stream",
     "text": [
      "전체 category 개수\n",
      "45\n",
      "\n",
      "이 전 restaurant 해당 category 개수 : \n",
      "index                      2113\n",
      "category                   2113\n",
      "lat                        2113\n",
      "lon                        2113\n",
      "place_address              2113\n",
      "place_id                   2113\n",
      "place_name                 2113\n",
      "facility_available_name    2113\n",
      "facility_is_available      2113\n",
      "facility_id                2113\n",
      "dtype: int64\n",
      "\n",
      "이 후 restaurant 해당 category 개수 : \n",
      "index                      2113\n",
      "category                   2113\n",
      "lat                        2113\n",
      "lon                        2113\n",
      "place_address              2113\n",
      "place_id                   2113\n",
      "place_name                 2113\n",
      "facility_available_name    2113\n",
      "facility_is_available      2113\n",
      "facility_id                2113\n",
      "dtype: int64\n",
      "\n",
      "전체 category 개수\n",
      "45\n"
     ]
    }
   ],
   "source": [
    "test = category_sum(test, \"western_food\", \"restaurant\")"
   ]
  },
  {
   "cell_type": "code",
   "execution_count": 110,
   "metadata": {},
   "outputs": [
    {
     "name": "stdout",
     "output_type": "stream",
     "text": [
      "전체 category 개수\n",
      "45\n",
      "\n",
      "이 전 restaurant 해당 category 개수 : \n",
      "index                      2113\n",
      "category                   2113\n",
      "lat                        2113\n",
      "lon                        2113\n",
      "place_address              2113\n",
      "place_id                   2113\n",
      "place_name                 2113\n",
      "facility_available_name    2113\n",
      "facility_is_available      2113\n",
      "facility_id                2113\n",
      "dtype: int64\n",
      "\n",
      "이 후 restaurant 해당 category 개수 : \n",
      "index                      2113\n",
      "category                   2113\n",
      "lat                        2113\n",
      "lon                        2113\n",
      "place_address              2113\n",
      "place_id                   2113\n",
      "place_name                 2113\n",
      "facility_available_name    2113\n",
      "facility_is_available      2113\n",
      "facility_id                2113\n",
      "dtype: int64\n",
      "\n",
      "전체 category 개수\n",
      "45\n"
     ]
    }
   ],
   "source": [
    "test = category_sum(test, \"chinese_food\", \"restaurant\")"
   ]
  },
  {
   "cell_type": "code",
   "execution_count": 111,
   "metadata": {},
   "outputs": [
    {
     "name": "stdout",
     "output_type": "stream",
     "text": [
      "전체 category 개수\n",
      "45\n",
      "\n",
      "이 전 restaurant 해당 category 개수 : \n",
      "index                      2113\n",
      "category                   2113\n",
      "lat                        2113\n",
      "lon                        2113\n",
      "place_address              2113\n",
      "place_id                   2113\n",
      "place_name                 2113\n",
      "facility_available_name    2113\n",
      "facility_is_available      2113\n",
      "facility_id                2113\n",
      "dtype: int64\n",
      "\n",
      "이 후 restaurant 해당 category 개수 : \n",
      "index                      2113\n",
      "category                   2113\n",
      "lat                        2113\n",
      "lon                        2113\n",
      "place_address              2113\n",
      "place_id                   2113\n",
      "place_name                 2113\n",
      "facility_available_name    2113\n",
      "facility_is_available      2113\n",
      "facility_id                2113\n",
      "dtype: int64\n",
      "\n",
      "전체 category 개수\n",
      "45\n"
     ]
    }
   ],
   "source": [
    "test = category_sum(test, \"japanese_food\", \"restaurant\")"
   ]
  },
  {
   "cell_type": "code",
   "execution_count": 112,
   "metadata": {},
   "outputs": [
    {
     "name": "stdout",
     "output_type": "stream",
     "text": [
      "전체 category 개수\n",
      "45\n",
      "\n",
      "이 전 restaurant 해당 category 개수 : \n",
      "index                      2113\n",
      "category                   2113\n",
      "lat                        2113\n",
      "lon                        2113\n",
      "place_address              2113\n",
      "place_id                   2113\n",
      "place_name                 2113\n",
      "facility_available_name    2113\n",
      "facility_is_available      2113\n",
      "facility_id                2113\n",
      "dtype: int64\n",
      "\n",
      "이 후 restaurant 해당 category 개수 : \n",
      "index                      2113\n",
      "category                   2113\n",
      "lat                        2113\n",
      "lon                        2113\n",
      "place_address              2113\n",
      "place_id                   2113\n",
      "place_name                 2113\n",
      "facility_available_name    2113\n",
      "facility_is_available      2113\n",
      "facility_id                2113\n",
      "dtype: int64\n",
      "\n",
      "전체 category 개수\n",
      "45\n"
     ]
    }
   ],
   "source": [
    "test = category_sum(test, \"other_food\", \"restaurant\")"
   ]
  },
  {
   "cell_type": "markdown",
   "metadata": {},
   "source": [
    "# 19. 안마시술소 drop -> 데이터가 적으며, 공공성이 낮다고 판단"
   ]
  },
  {
   "cell_type": "code",
   "execution_count": 113,
   "metadata": {},
   "outputs": [],
   "source": [
    "test = test[test.category != 'massage parlor']"
   ]
  },
  {
   "cell_type": "code",
   "execution_count": 114,
   "metadata": {},
   "outputs": [
    {
     "data": {
      "text/html": [
       "<div>\n",
       "<style scoped>\n",
       "    .dataframe tbody tr th:only-of-type {\n",
       "        vertical-align: middle;\n",
       "    }\n",
       "\n",
       "    .dataframe tbody tr th {\n",
       "        vertical-align: top;\n",
       "    }\n",
       "\n",
       "    .dataframe thead th {\n",
       "        text-align: right;\n",
       "    }\n",
       "</style>\n",
       "<table border=\"1\" class=\"dataframe\">\n",
       "  <thead>\n",
       "    <tr style=\"text-align: right;\">\n",
       "      <th></th>\n",
       "      <th>index</th>\n",
       "      <th>category</th>\n",
       "      <th>lat</th>\n",
       "      <th>lon</th>\n",
       "      <th>place_address</th>\n",
       "      <th>place_id</th>\n",
       "      <th>place_name</th>\n",
       "      <th>facility_available_name</th>\n",
       "      <th>facility_is_available</th>\n",
       "      <th>facility_id</th>\n",
       "    </tr>\n",
       "  </thead>\n",
       "  <tbody>\n",
       "    <tr>\n",
       "      <th>0</th>\n",
       "      <td>0</td>\n",
       "      <td>subway</td>\n",
       "      <td>37.492317</td>\n",
       "      <td>127.118104</td>\n",
       "      <td>서울특별시 송파구</td>\n",
       "      <td>0</td>\n",
       "      <td>가락시장</td>\n",
       "      <td>화장실</td>\n",
       "      <td>이용가능</td>\n",
       "      <td>900000</td>\n",
       "    </tr>\n",
       "    <tr>\n",
       "      <th>1</th>\n",
       "      <td>1</td>\n",
       "      <td>subway</td>\n",
       "      <td>37.492317</td>\n",
       "      <td>127.118104</td>\n",
       "      <td>서울특별시 송파구</td>\n",
       "      <td>0</td>\n",
       "      <td>가락시장</td>\n",
       "      <td>엘리베이터</td>\n",
       "      <td>이용가능</td>\n",
       "      <td>900001</td>\n",
       "    </tr>\n",
       "    <tr>\n",
       "      <th>2</th>\n",
       "      <td>2</td>\n",
       "      <td>subway</td>\n",
       "      <td>37.492317</td>\n",
       "      <td>127.118104</td>\n",
       "      <td>서울특별시 송파구</td>\n",
       "      <td>0</td>\n",
       "      <td>가락시장</td>\n",
       "      <td>휠체어리프트</td>\n",
       "      <td>이용가능</td>\n",
       "      <td>900002</td>\n",
       "    </tr>\n",
       "    <tr>\n",
       "      <th>3</th>\n",
       "      <td>3</td>\n",
       "      <td>subway</td>\n",
       "      <td>37.480890</td>\n",
       "      <td>126.882574</td>\n",
       "      <td>서울특별시 금천구</td>\n",
       "      <td>1</td>\n",
       "      <td>가산디지털단지</td>\n",
       "      <td>에스켈레이터</td>\n",
       "      <td>이용가능</td>\n",
       "      <td>900003</td>\n",
       "    </tr>\n",
       "    <tr>\n",
       "      <th>4</th>\n",
       "      <td>4</td>\n",
       "      <td>subway</td>\n",
       "      <td>37.480890</td>\n",
       "      <td>126.882574</td>\n",
       "      <td>서울특별시 금천구</td>\n",
       "      <td>1</td>\n",
       "      <td>가산디지털단지</td>\n",
       "      <td>화장실</td>\n",
       "      <td>이용가능</td>\n",
       "      <td>900004</td>\n",
       "    </tr>\n",
       "    <tr>\n",
       "      <th>5</th>\n",
       "      <td>5</td>\n",
       "      <td>subway</td>\n",
       "      <td>37.480890</td>\n",
       "      <td>126.882574</td>\n",
       "      <td>서울특별시 금천구</td>\n",
       "      <td>1</td>\n",
       "      <td>가산디지털단지</td>\n",
       "      <td>엘리베이터</td>\n",
       "      <td>이용가능</td>\n",
       "      <td>900005</td>\n",
       "    </tr>\n",
       "    <tr>\n",
       "      <th>6</th>\n",
       "      <td>6</td>\n",
       "      <td>subway</td>\n",
       "      <td>37.480890</td>\n",
       "      <td>126.882574</td>\n",
       "      <td>서울특별시 금천구</td>\n",
       "      <td>1</td>\n",
       "      <td>가산디지털단지</td>\n",
       "      <td>휠체어리프트</td>\n",
       "      <td>이용가능</td>\n",
       "      <td>900006</td>\n",
       "    </tr>\n",
       "    <tr>\n",
       "      <th>7</th>\n",
       "      <td>8</td>\n",
       "      <td>subway</td>\n",
       "      <td>37.497942</td>\n",
       "      <td>127.027621</td>\n",
       "      <td>서울특별시 강남구</td>\n",
       "      <td>3</td>\n",
       "      <td>강남</td>\n",
       "      <td>화장실</td>\n",
       "      <td>이용가능</td>\n",
       "      <td>900007</td>\n",
       "    </tr>\n",
       "    <tr>\n",
       "      <th>8</th>\n",
       "      <td>9</td>\n",
       "      <td>subway</td>\n",
       "      <td>37.497942</td>\n",
       "      <td>127.027621</td>\n",
       "      <td>서울특별시 강남구</td>\n",
       "      <td>3</td>\n",
       "      <td>강남</td>\n",
       "      <td>엘리베이터</td>\n",
       "      <td>이용가능</td>\n",
       "      <td>900008</td>\n",
       "    </tr>\n",
       "    <tr>\n",
       "      <th>9</th>\n",
       "      <td>10</td>\n",
       "      <td>subway</td>\n",
       "      <td>37.497942</td>\n",
       "      <td>127.027621</td>\n",
       "      <td>서울특별시 강남구</td>\n",
       "      <td>3</td>\n",
       "      <td>강남</td>\n",
       "      <td>에스켈레이터</td>\n",
       "      <td>이용가능</td>\n",
       "      <td>900009</td>\n",
       "    </tr>\n",
       "    <tr>\n",
       "      <th>10</th>\n",
       "      <td>14</td>\n",
       "      <td>subway</td>\n",
       "      <td>37.535940</td>\n",
       "      <td>127.132187</td>\n",
       "      <td>서울특별시 강동구</td>\n",
       "      <td>5</td>\n",
       "      <td>강동</td>\n",
       "      <td>휠체어리프트</td>\n",
       "      <td>이용가능</td>\n",
       "      <td>900017</td>\n",
       "    </tr>\n",
       "    <tr>\n",
       "      <th>11</th>\n",
       "      <td>13</td>\n",
       "      <td>subway</td>\n",
       "      <td>37.535940</td>\n",
       "      <td>127.132187</td>\n",
       "      <td>서울특별시 강동구</td>\n",
       "      <td>5</td>\n",
       "      <td>강동</td>\n",
       "      <td>에스켈레이터</td>\n",
       "      <td>이용가능</td>\n",
       "      <td>900016</td>\n",
       "    </tr>\n",
       "    <tr>\n",
       "      <th>12</th>\n",
       "      <td>11</td>\n",
       "      <td>subway</td>\n",
       "      <td>37.535940</td>\n",
       "      <td>127.132187</td>\n",
       "      <td>서울특별시 강동구</td>\n",
       "      <td>5</td>\n",
       "      <td>강동</td>\n",
       "      <td>화장실</td>\n",
       "      <td>이용가능</td>\n",
       "      <td>900014</td>\n",
       "    </tr>\n",
       "    <tr>\n",
       "      <th>13</th>\n",
       "      <td>12</td>\n",
       "      <td>subway</td>\n",
       "      <td>37.535940</td>\n",
       "      <td>127.132187</td>\n",
       "      <td>서울특별시 강동구</td>\n",
       "      <td>5</td>\n",
       "      <td>강동</td>\n",
       "      <td>엘리베이터</td>\n",
       "      <td>이용가능</td>\n",
       "      <td>900015</td>\n",
       "    </tr>\n",
       "    <tr>\n",
       "      <th>14</th>\n",
       "      <td>15</td>\n",
       "      <td>subway</td>\n",
       "      <td>37.535144</td>\n",
       "      <td>127.094672</td>\n",
       "      <td>서울특별시 광진구</td>\n",
       "      <td>7</td>\n",
       "      <td>강변</td>\n",
       "      <td>화장실</td>\n",
       "      <td>이용가능</td>\n",
       "      <td>900021</td>\n",
       "    </tr>\n",
       "    <tr>\n",
       "      <th>15</th>\n",
       "      <td>16</td>\n",
       "      <td>subway</td>\n",
       "      <td>37.535144</td>\n",
       "      <td>127.094672</td>\n",
       "      <td>서울특별시 광진구</td>\n",
       "      <td>7</td>\n",
       "      <td>강변</td>\n",
       "      <td>엘리베이터</td>\n",
       "      <td>이용가능</td>\n",
       "      <td>900022</td>\n",
       "    </tr>\n",
       "    <tr>\n",
       "      <th>16</th>\n",
       "      <td>17</td>\n",
       "      <td>subway</td>\n",
       "      <td>37.535144</td>\n",
       "      <td>127.094672</td>\n",
       "      <td>서울특별시 광진구</td>\n",
       "      <td>7</td>\n",
       "      <td>강변</td>\n",
       "      <td>휠체어리프트</td>\n",
       "      <td>이용가능</td>\n",
       "      <td>900023</td>\n",
       "    </tr>\n",
       "    <tr>\n",
       "      <th>17</th>\n",
       "      <td>18</td>\n",
       "      <td>subway</td>\n",
       "      <td>37.498162</td>\n",
       "      <td>127.134660</td>\n",
       "      <td>서울특별시 광진구</td>\n",
       "      <td>8</td>\n",
       "      <td>개농</td>\n",
       "      <td>화장실</td>\n",
       "      <td>이용가능</td>\n",
       "      <td>900024</td>\n",
       "    </tr>\n",
       "    <tr>\n",
       "      <th>18</th>\n",
       "      <td>19</td>\n",
       "      <td>subway</td>\n",
       "      <td>37.498162</td>\n",
       "      <td>127.134660</td>\n",
       "      <td>서울특별시 광진구</td>\n",
       "      <td>8</td>\n",
       "      <td>개농</td>\n",
       "      <td>엘리베이터</td>\n",
       "      <td>이용가능</td>\n",
       "      <td>900025</td>\n",
       "    </tr>\n",
       "    <tr>\n",
       "      <th>19</th>\n",
       "      <td>21</td>\n",
       "      <td>subway</td>\n",
       "      <td>37.572455</td>\n",
       "      <td>126.806839</td>\n",
       "      <td>서울특별시 강서구</td>\n",
       "      <td>10</td>\n",
       "      <td>개화산</td>\n",
       "      <td>화장실</td>\n",
       "      <td>이용가능</td>\n",
       "      <td>900026</td>\n",
       "    </tr>\n",
       "    <tr>\n",
       "      <th>20</th>\n",
       "      <td>22</td>\n",
       "      <td>subway</td>\n",
       "      <td>37.572455</td>\n",
       "      <td>126.806839</td>\n",
       "      <td>서울특별시 강서구</td>\n",
       "      <td>10</td>\n",
       "      <td>개화산</td>\n",
       "      <td>엘리베이터</td>\n",
       "      <td>이용가능</td>\n",
       "      <td>900027</td>\n",
       "    </tr>\n",
       "    <tr>\n",
       "      <th>21</th>\n",
       "      <td>26</td>\n",
       "      <td>subway</td>\n",
       "      <td>37.493422</td>\n",
       "      <td>127.143597</td>\n",
       "      <td>서울특별시 송파구</td>\n",
       "      <td>11</td>\n",
       "      <td>거여</td>\n",
       "      <td>휠체어리프트</td>\n",
       "      <td>이용가능</td>\n",
       "      <td>900031</td>\n",
       "    </tr>\n",
       "    <tr>\n",
       "      <th>22</th>\n",
       "      <td>23</td>\n",
       "      <td>subway</td>\n",
       "      <td>37.493422</td>\n",
       "      <td>127.143597</td>\n",
       "      <td>서울특별시 송파구</td>\n",
       "      <td>11</td>\n",
       "      <td>거여</td>\n",
       "      <td>화장실</td>\n",
       "      <td>이용가능</td>\n",
       "      <td>900028</td>\n",
       "    </tr>\n",
       "    <tr>\n",
       "      <th>23</th>\n",
       "      <td>24</td>\n",
       "      <td>subway</td>\n",
       "      <td>37.493422</td>\n",
       "      <td>127.143597</td>\n",
       "      <td>서울특별시 송파구</td>\n",
       "      <td>11</td>\n",
       "      <td>거여</td>\n",
       "      <td>에스켈레이터</td>\n",
       "      <td>이용가능</td>\n",
       "      <td>900029</td>\n",
       "    </tr>\n",
       "    <tr>\n",
       "      <th>24</th>\n",
       "      <td>25</td>\n",
       "      <td>subway</td>\n",
       "      <td>37.493422</td>\n",
       "      <td>127.143597</td>\n",
       "      <td>서울특별시 송파구</td>\n",
       "      <td>11</td>\n",
       "      <td>거여</td>\n",
       "      <td>엘리베이터</td>\n",
       "      <td>이용가능</td>\n",
       "      <td>900030</td>\n",
       "    </tr>\n",
       "    <tr>\n",
       "      <th>25</th>\n",
       "      <td>29</td>\n",
       "      <td>subway</td>\n",
       "      <td>37.540389</td>\n",
       "      <td>127.069236</td>\n",
       "      <td>서울특별시 광진구</td>\n",
       "      <td>12</td>\n",
       "      <td>건대입구</td>\n",
       "      <td>에스켈레이터</td>\n",
       "      <td>이용가능</td>\n",
       "      <td>900034</td>\n",
       "    </tr>\n",
       "    <tr>\n",
       "      <th>26</th>\n",
       "      <td>30</td>\n",
       "      <td>subway</td>\n",
       "      <td>37.540389</td>\n",
       "      <td>127.069236</td>\n",
       "      <td>서울특별시 광진구</td>\n",
       "      <td>12</td>\n",
       "      <td>건대입구</td>\n",
       "      <td>휠체어리프트</td>\n",
       "      <td>이용가능</td>\n",
       "      <td>900035</td>\n",
       "    </tr>\n",
       "    <tr>\n",
       "      <th>27</th>\n",
       "      <td>27</td>\n",
       "      <td>subway</td>\n",
       "      <td>37.540389</td>\n",
       "      <td>127.069236</td>\n",
       "      <td>서울특별시 광진구</td>\n",
       "      <td>12</td>\n",
       "      <td>건대입구</td>\n",
       "      <td>화장실</td>\n",
       "      <td>이용가능</td>\n",
       "      <td>900032</td>\n",
       "    </tr>\n",
       "    <tr>\n",
       "      <th>28</th>\n",
       "      <td>28</td>\n",
       "      <td>subway</td>\n",
       "      <td>37.540389</td>\n",
       "      <td>127.069236</td>\n",
       "      <td>서울특별시 광진구</td>\n",
       "      <td>12</td>\n",
       "      <td>건대입구</td>\n",
       "      <td>엘리베이터</td>\n",
       "      <td>이용가능</td>\n",
       "      <td>900033</td>\n",
       "    </tr>\n",
       "    <tr>\n",
       "      <th>29</th>\n",
       "      <td>32</td>\n",
       "      <td>subway</td>\n",
       "      <td>37.555051</td>\n",
       "      <td>127.154110</td>\n",
       "      <td>서울특별시 강동구</td>\n",
       "      <td>15</td>\n",
       "      <td>고덕</td>\n",
       "      <td>화장실</td>\n",
       "      <td>이용가능</td>\n",
       "      <td>900038</td>\n",
       "    </tr>\n",
       "    <tr>\n",
       "      <th>...</th>\n",
       "      <td>...</td>\n",
       "      <td>...</td>\n",
       "      <td>...</td>\n",
       "      <td>...</td>\n",
       "      <td>...</td>\n",
       "      <td>...</td>\n",
       "      <td>...</td>\n",
       "      <td>...</td>\n",
       "      <td>...</td>\n",
       "      <td>...</td>\n",
       "    </tr>\n",
       "    <tr>\n",
       "      <th>63558</th>\n",
       "      <td>63914</td>\n",
       "      <td>toilet/open</td>\n",
       "      <td>37.479596</td>\n",
       "      <td>126.989915</td>\n",
       "      <td>서울특별시 서초구 방배동 산75-4</td>\n",
       "      <td>31091</td>\n",
       "      <td>도구머리공원 화장실</td>\n",
       "      <td>남성용-대변기</td>\n",
       "      <td></td>\n",
       "      <td>304151</td>\n",
       "    </tr>\n",
       "    <tr>\n",
       "      <th>63559</th>\n",
       "      <td>63916</td>\n",
       "      <td>toilet/open</td>\n",
       "      <td>37.479596</td>\n",
       "      <td>126.989915</td>\n",
       "      <td>서울특별시 서초구 방배동 산75-4</td>\n",
       "      <td>31091</td>\n",
       "      <td>도구머리공원 화장실</td>\n",
       "      <td>여성용-대변기</td>\n",
       "      <td></td>\n",
       "      <td>304153</td>\n",
       "    </tr>\n",
       "    <tr>\n",
       "      <th>63560</th>\n",
       "      <td>63921</td>\n",
       "      <td>toilet/open</td>\n",
       "      <td>37.508194</td>\n",
       "      <td>126.995634</td>\n",
       "      <td>서울특별시 서초구 반포동 115-4</td>\n",
       "      <td>31092</td>\n",
       "      <td>간이화장실 화장실</td>\n",
       "      <td>여성용-장애인용대변기</td>\n",
       "      <td></td>\n",
       "      <td>304158</td>\n",
       "    </tr>\n",
       "    <tr>\n",
       "      <th>63561</th>\n",
       "      <td>63920</td>\n",
       "      <td>toilet/open</td>\n",
       "      <td>37.508194</td>\n",
       "      <td>126.995634</td>\n",
       "      <td>서울특별시 서초구 반포동 115-4</td>\n",
       "      <td>31092</td>\n",
       "      <td>간이화장실 화장실</td>\n",
       "      <td>여성용-대변기</td>\n",
       "      <td></td>\n",
       "      <td>304157</td>\n",
       "    </tr>\n",
       "    <tr>\n",
       "      <th>63562</th>\n",
       "      <td>63919</td>\n",
       "      <td>toilet/open</td>\n",
       "      <td>37.508194</td>\n",
       "      <td>126.995634</td>\n",
       "      <td>서울특별시 서초구 반포동 115-4</td>\n",
       "      <td>31092</td>\n",
       "      <td>간이화장실 화장실</td>\n",
       "      <td>남성용-장애인용대변기</td>\n",
       "      <td></td>\n",
       "      <td>304156</td>\n",
       "    </tr>\n",
       "    <tr>\n",
       "      <th>63563</th>\n",
       "      <td>63918</td>\n",
       "      <td>toilet/open</td>\n",
       "      <td>37.508194</td>\n",
       "      <td>126.995634</td>\n",
       "      <td>서울특별시 서초구 반포동 115-4</td>\n",
       "      <td>31092</td>\n",
       "      <td>간이화장실 화장실</td>\n",
       "      <td>남성용-소변기</td>\n",
       "      <td></td>\n",
       "      <td>304155</td>\n",
       "    </tr>\n",
       "    <tr>\n",
       "      <th>63564</th>\n",
       "      <td>63917</td>\n",
       "      <td>toilet/open</td>\n",
       "      <td>37.508194</td>\n",
       "      <td>126.995634</td>\n",
       "      <td>서울특별시 서초구 반포동 115-4</td>\n",
       "      <td>31092</td>\n",
       "      <td>간이화장실 화장실</td>\n",
       "      <td>남성용-대변기</td>\n",
       "      <td></td>\n",
       "      <td>304154</td>\n",
       "    </tr>\n",
       "    <tr>\n",
       "      <th>63565</th>\n",
       "      <td>63922</td>\n",
       "      <td>toilet/open</td>\n",
       "      <td>37.472727</td>\n",
       "      <td>126.992462</td>\n",
       "      <td>서울특별시 서초구 방배동 599</td>\n",
       "      <td>31093</td>\n",
       "      <td>방배배수지 체육공원 화장실</td>\n",
       "      <td>남성용-대변기</td>\n",
       "      <td></td>\n",
       "      <td>304159</td>\n",
       "    </tr>\n",
       "    <tr>\n",
       "      <th>63566</th>\n",
       "      <td>63923</td>\n",
       "      <td>toilet/open</td>\n",
       "      <td>37.472727</td>\n",
       "      <td>126.992462</td>\n",
       "      <td>서울특별시 서초구 방배동 599</td>\n",
       "      <td>31093</td>\n",
       "      <td>방배배수지 체육공원 화장실</td>\n",
       "      <td>남성용-소변기</td>\n",
       "      <td></td>\n",
       "      <td>304160</td>\n",
       "    </tr>\n",
       "    <tr>\n",
       "      <th>63567</th>\n",
       "      <td>63924</td>\n",
       "      <td>toilet/open</td>\n",
       "      <td>37.472727</td>\n",
       "      <td>126.992462</td>\n",
       "      <td>서울특별시 서초구 방배동 599</td>\n",
       "      <td>31093</td>\n",
       "      <td>방배배수지 체육공원 화장실</td>\n",
       "      <td>여성용-대변기</td>\n",
       "      <td></td>\n",
       "      <td>304161</td>\n",
       "    </tr>\n",
       "    <tr>\n",
       "      <th>63568</th>\n",
       "      <td>63925</td>\n",
       "      <td>toilet/open</td>\n",
       "      <td>37.473464</td>\n",
       "      <td>127.035751</td>\n",
       "      <td>서울특별시 서초구 양재동 126-1</td>\n",
       "      <td>31094</td>\n",
       "      <td>양재천수영장 화장실</td>\n",
       "      <td>남성용-대변기</td>\n",
       "      <td></td>\n",
       "      <td>304162</td>\n",
       "    </tr>\n",
       "    <tr>\n",
       "      <th>63569</th>\n",
       "      <td>63926</td>\n",
       "      <td>toilet/open</td>\n",
       "      <td>37.473464</td>\n",
       "      <td>127.035751</td>\n",
       "      <td>서울특별시 서초구 양재동 126-1</td>\n",
       "      <td>31094</td>\n",
       "      <td>양재천수영장 화장실</td>\n",
       "      <td>남성용-소변기</td>\n",
       "      <td></td>\n",
       "      <td>304163</td>\n",
       "    </tr>\n",
       "    <tr>\n",
       "      <th>63570</th>\n",
       "      <td>63927</td>\n",
       "      <td>toilet/open</td>\n",
       "      <td>37.473464</td>\n",
       "      <td>127.035751</td>\n",
       "      <td>서울특별시 서초구 양재동 126-1</td>\n",
       "      <td>31094</td>\n",
       "      <td>양재천수영장 화장실</td>\n",
       "      <td>여성용-대변기</td>\n",
       "      <td></td>\n",
       "      <td>304164</td>\n",
       "    </tr>\n",
       "    <tr>\n",
       "      <th>63571</th>\n",
       "      <td>63928</td>\n",
       "      <td>toilet/open</td>\n",
       "      <td>37.476623</td>\n",
       "      <td>127.041509</td>\n",
       "      <td>서울특별시 서초구 양재동 261-23</td>\n",
       "      <td>31095</td>\n",
       "      <td>양재천(영동2교둑마루) 화장실</td>\n",
       "      <td>남성용-대변기</td>\n",
       "      <td></td>\n",
       "      <td>304165</td>\n",
       "    </tr>\n",
       "    <tr>\n",
       "      <th>63572</th>\n",
       "      <td>63929</td>\n",
       "      <td>toilet/open</td>\n",
       "      <td>37.476623</td>\n",
       "      <td>127.041509</td>\n",
       "      <td>서울특별시 서초구 양재동 261-23</td>\n",
       "      <td>31095</td>\n",
       "      <td>양재천(영동2교둑마루) 화장실</td>\n",
       "      <td>남성용-소변기</td>\n",
       "      <td></td>\n",
       "      <td>304166</td>\n",
       "    </tr>\n",
       "    <tr>\n",
       "      <th>63573</th>\n",
       "      <td>63930</td>\n",
       "      <td>toilet/open</td>\n",
       "      <td>37.476623</td>\n",
       "      <td>127.041509</td>\n",
       "      <td>서울특별시 서초구 양재동 261-23</td>\n",
       "      <td>31095</td>\n",
       "      <td>양재천(영동2교둑마루) 화장실</td>\n",
       "      <td>남성용-장애인용대변기</td>\n",
       "      <td></td>\n",
       "      <td>304167</td>\n",
       "    </tr>\n",
       "    <tr>\n",
       "      <th>63574</th>\n",
       "      <td>63931</td>\n",
       "      <td>toilet/open</td>\n",
       "      <td>37.476623</td>\n",
       "      <td>127.041509</td>\n",
       "      <td>서울특별시 서초구 양재동 261-23</td>\n",
       "      <td>31095</td>\n",
       "      <td>양재천(영동2교둑마루) 화장실</td>\n",
       "      <td>여성용-대변기</td>\n",
       "      <td></td>\n",
       "      <td>304168</td>\n",
       "    </tr>\n",
       "    <tr>\n",
       "      <th>63575</th>\n",
       "      <td>63932</td>\n",
       "      <td>toilet/open</td>\n",
       "      <td>37.476623</td>\n",
       "      <td>127.041509</td>\n",
       "      <td>서울특별시 서초구 양재동 261-23</td>\n",
       "      <td>31095</td>\n",
       "      <td>양재천(영동2교둑마루) 화장실</td>\n",
       "      <td>여성용-장애인용대변기</td>\n",
       "      <td></td>\n",
       "      <td>304169</td>\n",
       "    </tr>\n",
       "    <tr>\n",
       "      <th>63576</th>\n",
       "      <td>63937</td>\n",
       "      <td>toilet/open</td>\n",
       "      <td>37.468269</td>\n",
       "      <td>127.028713</td>\n",
       "      <td>서울특별시 서초구 우면동 143-6</td>\n",
       "      <td>31096</td>\n",
       "      <td>양재천무인자동화장실(교총삼거리둑마루) 화장실</td>\n",
       "      <td>여성용-장애인용대변기</td>\n",
       "      <td></td>\n",
       "      <td>304174</td>\n",
       "    </tr>\n",
       "    <tr>\n",
       "      <th>63577</th>\n",
       "      <td>63936</td>\n",
       "      <td>toilet/open</td>\n",
       "      <td>37.468269</td>\n",
       "      <td>127.028713</td>\n",
       "      <td>서울특별시 서초구 우면동 143-6</td>\n",
       "      <td>31096</td>\n",
       "      <td>양재천무인자동화장실(교총삼거리둑마루) 화장실</td>\n",
       "      <td>여성용-대변기</td>\n",
       "      <td></td>\n",
       "      <td>304173</td>\n",
       "    </tr>\n",
       "    <tr>\n",
       "      <th>63578</th>\n",
       "      <td>63934</td>\n",
       "      <td>toilet/open</td>\n",
       "      <td>37.468269</td>\n",
       "      <td>127.028713</td>\n",
       "      <td>서울특별시 서초구 우면동 143-6</td>\n",
       "      <td>31096</td>\n",
       "      <td>양재천무인자동화장실(교총삼거리둑마루) 화장실</td>\n",
       "      <td>남성용-소변기</td>\n",
       "      <td></td>\n",
       "      <td>304171</td>\n",
       "    </tr>\n",
       "    <tr>\n",
       "      <th>63579</th>\n",
       "      <td>63933</td>\n",
       "      <td>toilet/open</td>\n",
       "      <td>37.468269</td>\n",
       "      <td>127.028713</td>\n",
       "      <td>서울특별시 서초구 우면동 143-6</td>\n",
       "      <td>31096</td>\n",
       "      <td>양재천무인자동화장실(교총삼거리둑마루) 화장실</td>\n",
       "      <td>남성용-대변기</td>\n",
       "      <td></td>\n",
       "      <td>304170</td>\n",
       "    </tr>\n",
       "    <tr>\n",
       "      <th>63580</th>\n",
       "      <td>63935</td>\n",
       "      <td>toilet/open</td>\n",
       "      <td>37.468269</td>\n",
       "      <td>127.028713</td>\n",
       "      <td>서울특별시 서초구 우면동 143-6</td>\n",
       "      <td>31096</td>\n",
       "      <td>양재천무인자동화장실(교총삼거리둑마루) 화장실</td>\n",
       "      <td>남성용-장애인용대변기</td>\n",
       "      <td></td>\n",
       "      <td>304172</td>\n",
       "    </tr>\n",
       "    <tr>\n",
       "      <th>63581</th>\n",
       "      <td>63938</td>\n",
       "      <td>toilet/open</td>\n",
       "      <td>37.553132</td>\n",
       "      <td>127.028349</td>\n",
       "      <td>서울특별시 성동구 사근동 102-28</td>\n",
       "      <td>31098</td>\n",
       "      <td>살곶이 진출 화장실</td>\n",
       "      <td>남성용-대변기</td>\n",
       "      <td></td>\n",
       "      <td>304178</td>\n",
       "    </tr>\n",
       "    <tr>\n",
       "      <th>63582</th>\n",
       "      <td>63939</td>\n",
       "      <td>toilet/open</td>\n",
       "      <td>37.553132</td>\n",
       "      <td>127.028349</td>\n",
       "      <td>서울특별시 성동구 사근동 102-28</td>\n",
       "      <td>31098</td>\n",
       "      <td>살곶이 진출 화장실</td>\n",
       "      <td>남성용-소변기</td>\n",
       "      <td></td>\n",
       "      <td>304179</td>\n",
       "    </tr>\n",
       "    <tr>\n",
       "      <th>63583</th>\n",
       "      <td>63940</td>\n",
       "      <td>toilet/open</td>\n",
       "      <td>37.553132</td>\n",
       "      <td>127.028349</td>\n",
       "      <td>서울특별시 성동구 사근동 102-28</td>\n",
       "      <td>31098</td>\n",
       "      <td>살곶이 진출 화장실</td>\n",
       "      <td>남성용-장애인용대변기</td>\n",
       "      <td></td>\n",
       "      <td>304180</td>\n",
       "    </tr>\n",
       "    <tr>\n",
       "      <th>63584</th>\n",
       "      <td>63941</td>\n",
       "      <td>toilet/open</td>\n",
       "      <td>37.553132</td>\n",
       "      <td>127.028349</td>\n",
       "      <td>서울특별시 성동구 사근동 102-28</td>\n",
       "      <td>31098</td>\n",
       "      <td>살곶이 진출 화장실</td>\n",
       "      <td>여성용-대변기</td>\n",
       "      <td></td>\n",
       "      <td>304181</td>\n",
       "    </tr>\n",
       "    <tr>\n",
       "      <th>63585</th>\n",
       "      <td>63942</td>\n",
       "      <td>toilet/open</td>\n",
       "      <td>37.553973</td>\n",
       "      <td>127.046326</td>\n",
       "      <td>서울특별시 성동구 마장동 811</td>\n",
       "      <td>31103</td>\n",
       "      <td>자전거체험장 화장실</td>\n",
       "      <td>남성용-대변기</td>\n",
       "      <td></td>\n",
       "      <td>304191</td>\n",
       "    </tr>\n",
       "    <tr>\n",
       "      <th>63586</th>\n",
       "      <td>63943</td>\n",
       "      <td>toilet/open</td>\n",
       "      <td>37.553973</td>\n",
       "      <td>127.046326</td>\n",
       "      <td>서울특별시 성동구 마장동 811</td>\n",
       "      <td>31103</td>\n",
       "      <td>자전거체험장 화장실</td>\n",
       "      <td>남성용-소변기</td>\n",
       "      <td></td>\n",
       "      <td>304192</td>\n",
       "    </tr>\n",
       "    <tr>\n",
       "      <th>63587</th>\n",
       "      <td>63944</td>\n",
       "      <td>toilet/open</td>\n",
       "      <td>37.553973</td>\n",
       "      <td>127.046326</td>\n",
       "      <td>서울특별시 성동구 마장동 811</td>\n",
       "      <td>31103</td>\n",
       "      <td>자전거체험장 화장실</td>\n",
       "      <td>여성용-대변기</td>\n",
       "      <td></td>\n",
       "      <td>304193</td>\n",
       "    </tr>\n",
       "  </tbody>\n",
       "</table>\n",
       "<p>55582 rows × 10 columns</p>\n",
       "</div>"
      ],
      "text/plain": [
       "       index     category        lat         lon         place_address  \\\n",
       "0          0       subway  37.492317  127.118104             서울특별시 송파구   \n",
       "1          1       subway  37.492317  127.118104             서울특별시 송파구   \n",
       "2          2       subway  37.492317  127.118104             서울특별시 송파구   \n",
       "3          3       subway  37.480890  126.882574             서울특별시 금천구   \n",
       "4          4       subway  37.480890  126.882574             서울특별시 금천구   \n",
       "5          5       subway  37.480890  126.882574             서울특별시 금천구   \n",
       "6          6       subway  37.480890  126.882574             서울특별시 금천구   \n",
       "7          8       subway  37.497942  127.027621             서울특별시 강남구   \n",
       "8          9       subway  37.497942  127.027621             서울특별시 강남구   \n",
       "9         10       subway  37.497942  127.027621             서울특별시 강남구   \n",
       "10        14       subway  37.535940  127.132187             서울특별시 강동구   \n",
       "11        13       subway  37.535940  127.132187             서울특별시 강동구   \n",
       "12        11       subway  37.535940  127.132187             서울특별시 강동구   \n",
       "13        12       subway  37.535940  127.132187             서울특별시 강동구   \n",
       "14        15       subway  37.535144  127.094672             서울특별시 광진구   \n",
       "15        16       subway  37.535144  127.094672             서울특별시 광진구   \n",
       "16        17       subway  37.535144  127.094672             서울특별시 광진구   \n",
       "17        18       subway  37.498162  127.134660             서울특별시 광진구   \n",
       "18        19       subway  37.498162  127.134660             서울특별시 광진구   \n",
       "19        21       subway  37.572455  126.806839             서울특별시 강서구   \n",
       "20        22       subway  37.572455  126.806839             서울특별시 강서구   \n",
       "21        26       subway  37.493422  127.143597             서울특별시 송파구   \n",
       "22        23       subway  37.493422  127.143597             서울특별시 송파구   \n",
       "23        24       subway  37.493422  127.143597             서울특별시 송파구   \n",
       "24        25       subway  37.493422  127.143597             서울특별시 송파구   \n",
       "25        29       subway  37.540389  127.069236             서울특별시 광진구   \n",
       "26        30       subway  37.540389  127.069236             서울특별시 광진구   \n",
       "27        27       subway  37.540389  127.069236             서울특별시 광진구   \n",
       "28        28       subway  37.540389  127.069236             서울특별시 광진구   \n",
       "29        32       subway  37.555051  127.154110             서울특별시 강동구   \n",
       "...      ...          ...        ...         ...                   ...   \n",
       "63558  63914  toilet/open  37.479596  126.989915   서울특별시 서초구 방배동 산75-4   \n",
       "63559  63916  toilet/open  37.479596  126.989915   서울특별시 서초구 방배동 산75-4   \n",
       "63560  63921  toilet/open  37.508194  126.995634   서울특별시 서초구 반포동 115-4   \n",
       "63561  63920  toilet/open  37.508194  126.995634   서울특별시 서초구 반포동 115-4   \n",
       "63562  63919  toilet/open  37.508194  126.995634   서울특별시 서초구 반포동 115-4   \n",
       "63563  63918  toilet/open  37.508194  126.995634   서울특별시 서초구 반포동 115-4   \n",
       "63564  63917  toilet/open  37.508194  126.995634   서울특별시 서초구 반포동 115-4   \n",
       "63565  63922  toilet/open  37.472727  126.992462     서울특별시 서초구 방배동 599   \n",
       "63566  63923  toilet/open  37.472727  126.992462     서울특별시 서초구 방배동 599   \n",
       "63567  63924  toilet/open  37.472727  126.992462     서울특별시 서초구 방배동 599   \n",
       "63568  63925  toilet/open  37.473464  127.035751   서울특별시 서초구 양재동 126-1   \n",
       "63569  63926  toilet/open  37.473464  127.035751   서울특별시 서초구 양재동 126-1   \n",
       "63570  63927  toilet/open  37.473464  127.035751   서울특별시 서초구 양재동 126-1   \n",
       "63571  63928  toilet/open  37.476623  127.041509  서울특별시 서초구 양재동 261-23   \n",
       "63572  63929  toilet/open  37.476623  127.041509  서울특별시 서초구 양재동 261-23   \n",
       "63573  63930  toilet/open  37.476623  127.041509  서울특별시 서초구 양재동 261-23   \n",
       "63574  63931  toilet/open  37.476623  127.041509  서울특별시 서초구 양재동 261-23   \n",
       "63575  63932  toilet/open  37.476623  127.041509  서울특별시 서초구 양재동 261-23   \n",
       "63576  63937  toilet/open  37.468269  127.028713   서울특별시 서초구 우면동 143-6   \n",
       "63577  63936  toilet/open  37.468269  127.028713   서울특별시 서초구 우면동 143-6   \n",
       "63578  63934  toilet/open  37.468269  127.028713   서울특별시 서초구 우면동 143-6   \n",
       "63579  63933  toilet/open  37.468269  127.028713   서울특별시 서초구 우면동 143-6   \n",
       "63580  63935  toilet/open  37.468269  127.028713   서울특별시 서초구 우면동 143-6   \n",
       "63581  63938  toilet/open  37.553132  127.028349  서울특별시 성동구 사근동 102-28   \n",
       "63582  63939  toilet/open  37.553132  127.028349  서울특별시 성동구 사근동 102-28   \n",
       "63583  63940  toilet/open  37.553132  127.028349  서울특별시 성동구 사근동 102-28   \n",
       "63584  63941  toilet/open  37.553132  127.028349  서울특별시 성동구 사근동 102-28   \n",
       "63585  63942  toilet/open  37.553973  127.046326     서울특별시 성동구 마장동 811   \n",
       "63586  63943  toilet/open  37.553973  127.046326     서울특별시 성동구 마장동 811   \n",
       "63587  63944  toilet/open  37.553973  127.046326     서울특별시 성동구 마장동 811   \n",
       "\n",
       "       place_id                place_name facility_available_name  \\\n",
       "0             0                      가락시장                     화장실   \n",
       "1             0                      가락시장                   엘리베이터   \n",
       "2             0                      가락시장                  휠체어리프트   \n",
       "3             1                   가산디지털단지                  에스켈레이터   \n",
       "4             1                   가산디지털단지                     화장실   \n",
       "5             1                   가산디지털단지                   엘리베이터   \n",
       "6             1                   가산디지털단지                  휠체어리프트   \n",
       "7             3                        강남                     화장실   \n",
       "8             3                        강남                   엘리베이터   \n",
       "9             3                        강남                  에스켈레이터   \n",
       "10            5                        강동                  휠체어리프트   \n",
       "11            5                        강동                  에스켈레이터   \n",
       "12            5                        강동                     화장실   \n",
       "13            5                        강동                   엘리베이터   \n",
       "14            7                        강변                     화장실   \n",
       "15            7                        강변                   엘리베이터   \n",
       "16            7                        강변                  휠체어리프트   \n",
       "17            8                        개농                     화장실   \n",
       "18            8                        개농                   엘리베이터   \n",
       "19           10                       개화산                     화장실   \n",
       "20           10                       개화산                   엘리베이터   \n",
       "21           11                        거여                  휠체어리프트   \n",
       "22           11                        거여                     화장실   \n",
       "23           11                        거여                  에스켈레이터   \n",
       "24           11                        거여                   엘리베이터   \n",
       "25           12                      건대입구                  에스켈레이터   \n",
       "26           12                      건대입구                  휠체어리프트   \n",
       "27           12                      건대입구                     화장실   \n",
       "28           12                      건대입구                   엘리베이터   \n",
       "29           15                        고덕                     화장실   \n",
       "...         ...                       ...                     ...   \n",
       "63558     31091                도구머리공원 화장실                 남성용-대변기   \n",
       "63559     31091                도구머리공원 화장실                 여성용-대변기   \n",
       "63560     31092                 간이화장실 화장실             여성용-장애인용대변기   \n",
       "63561     31092                 간이화장실 화장실                 여성용-대변기   \n",
       "63562     31092                 간이화장실 화장실             남성용-장애인용대변기   \n",
       "63563     31092                 간이화장실 화장실                 남성용-소변기   \n",
       "63564     31092                 간이화장실 화장실                 남성용-대변기   \n",
       "63565     31093            방배배수지 체육공원 화장실                 남성용-대변기   \n",
       "63566     31093            방배배수지 체육공원 화장실                 남성용-소변기   \n",
       "63567     31093            방배배수지 체육공원 화장실                 여성용-대변기   \n",
       "63568     31094                양재천수영장 화장실                 남성용-대변기   \n",
       "63569     31094                양재천수영장 화장실                 남성용-소변기   \n",
       "63570     31094                양재천수영장 화장실                 여성용-대변기   \n",
       "63571     31095          양재천(영동2교둑마루) 화장실                 남성용-대변기   \n",
       "63572     31095          양재천(영동2교둑마루) 화장실                 남성용-소변기   \n",
       "63573     31095          양재천(영동2교둑마루) 화장실             남성용-장애인용대변기   \n",
       "63574     31095          양재천(영동2교둑마루) 화장실                 여성용-대변기   \n",
       "63575     31095          양재천(영동2교둑마루) 화장실             여성용-장애인용대변기   \n",
       "63576     31096  양재천무인자동화장실(교총삼거리둑마루) 화장실             여성용-장애인용대변기   \n",
       "63577     31096  양재천무인자동화장실(교총삼거리둑마루) 화장실                 여성용-대변기   \n",
       "63578     31096  양재천무인자동화장실(교총삼거리둑마루) 화장실                 남성용-소변기   \n",
       "63579     31096  양재천무인자동화장실(교총삼거리둑마루) 화장실                 남성용-대변기   \n",
       "63580     31096  양재천무인자동화장실(교총삼거리둑마루) 화장실             남성용-장애인용대변기   \n",
       "63581     31098                살곶이 진출 화장실                 남성용-대변기   \n",
       "63582     31098                살곶이 진출 화장실                 남성용-소변기   \n",
       "63583     31098                살곶이 진출 화장실             남성용-장애인용대변기   \n",
       "63584     31098                살곶이 진출 화장실                 여성용-대변기   \n",
       "63585     31103                자전거체험장 화장실                 남성용-대변기   \n",
       "63586     31103                자전거체험장 화장실                 남성용-소변기   \n",
       "63587     31103                자전거체험장 화장실                 여성용-대변기   \n",
       "\n",
       "      facility_is_available  facility_id  \n",
       "0                      이용가능       900000  \n",
       "1                      이용가능       900001  \n",
       "2                      이용가능       900002  \n",
       "3                      이용가능       900003  \n",
       "4                      이용가능       900004  \n",
       "5                      이용가능       900005  \n",
       "6                      이용가능       900006  \n",
       "7                      이용가능       900007  \n",
       "8                      이용가능       900008  \n",
       "9                      이용가능       900009  \n",
       "10                     이용가능       900017  \n",
       "11                     이용가능       900016  \n",
       "12                     이용가능       900014  \n",
       "13                     이용가능       900015  \n",
       "14                     이용가능       900021  \n",
       "15                     이용가능       900022  \n",
       "16                     이용가능       900023  \n",
       "17                     이용가능       900024  \n",
       "18                     이용가능       900025  \n",
       "19                     이용가능       900026  \n",
       "20                     이용가능       900027  \n",
       "21                     이용가능       900031  \n",
       "22                     이용가능       900028  \n",
       "23                     이용가능       900029  \n",
       "24                     이용가능       900030  \n",
       "25                     이용가능       900034  \n",
       "26                     이용가능       900035  \n",
       "27                     이용가능       900032  \n",
       "28                     이용가능       900033  \n",
       "29                     이용가능       900038  \n",
       "...                     ...          ...  \n",
       "63558                             304151  \n",
       "63559                             304153  \n",
       "63560                             304158  \n",
       "63561                             304157  \n",
       "63562                             304156  \n",
       "63563                             304155  \n",
       "63564                             304154  \n",
       "63565                             304159  \n",
       "63566                             304160  \n",
       "63567                             304161  \n",
       "63568                             304162  \n",
       "63569                             304163  \n",
       "63570                             304164  \n",
       "63571                             304165  \n",
       "63572                             304166  \n",
       "63573                             304167  \n",
       "63574                             304168  \n",
       "63575                             304169  \n",
       "63576                             304174  \n",
       "63577                             304173  \n",
       "63578                             304171  \n",
       "63579                             304170  \n",
       "63580                             304172  \n",
       "63581                             304178  \n",
       "63582                             304179  \n",
       "63583                             304180  \n",
       "63584                             304181  \n",
       "63585                             304191  \n",
       "63586                             304192  \n",
       "63587                             304193  \n",
       "\n",
       "[55582 rows x 10 columns]"
      ]
     },
     "execution_count": 114,
     "metadata": {},
     "output_type": "execute_result"
    }
   ],
   "source": [
    "test"
   ]
  },
  {
   "cell_type": "code",
   "execution_count": 115,
   "metadata": {},
   "outputs": [],
   "source": [
    "test.drop(columns=\"index\",inplace=True)"
   ]
  },
  {
   "cell_type": "code",
   "execution_count": 116,
   "metadata": {},
   "outputs": [],
   "source": [
    "test.reset_index(inplace=True)"
   ]
  },
  {
   "cell_type": "code",
   "execution_count": 117,
   "metadata": {},
   "outputs": [
    {
     "data": {
      "text/html": [
       "<div>\n",
       "<style scoped>\n",
       "    .dataframe tbody tr th:only-of-type {\n",
       "        vertical-align: middle;\n",
       "    }\n",
       "\n",
       "    .dataframe tbody tr th {\n",
       "        vertical-align: top;\n",
       "    }\n",
       "\n",
       "    .dataframe thead th {\n",
       "        text-align: right;\n",
       "    }\n",
       "</style>\n",
       "<table border=\"1\" class=\"dataframe\">\n",
       "  <thead>\n",
       "    <tr style=\"text-align: right;\">\n",
       "      <th></th>\n",
       "      <th>index</th>\n",
       "      <th>category</th>\n",
       "      <th>lat</th>\n",
       "      <th>lon</th>\n",
       "      <th>place_address</th>\n",
       "      <th>place_id</th>\n",
       "      <th>place_name</th>\n",
       "      <th>facility_available_name</th>\n",
       "      <th>facility_is_available</th>\n",
       "      <th>facility_id</th>\n",
       "    </tr>\n",
       "  </thead>\n",
       "  <tbody>\n",
       "    <tr>\n",
       "      <th>0</th>\n",
       "      <td>0</td>\n",
       "      <td>subway</td>\n",
       "      <td>37.492317</td>\n",
       "      <td>127.118104</td>\n",
       "      <td>서울특별시 송파구</td>\n",
       "      <td>0</td>\n",
       "      <td>가락시장</td>\n",
       "      <td>화장실</td>\n",
       "      <td>이용가능</td>\n",
       "      <td>900000</td>\n",
       "    </tr>\n",
       "    <tr>\n",
       "      <th>1</th>\n",
       "      <td>1</td>\n",
       "      <td>subway</td>\n",
       "      <td>37.492317</td>\n",
       "      <td>127.118104</td>\n",
       "      <td>서울특별시 송파구</td>\n",
       "      <td>0</td>\n",
       "      <td>가락시장</td>\n",
       "      <td>엘리베이터</td>\n",
       "      <td>이용가능</td>\n",
       "      <td>900001</td>\n",
       "    </tr>\n",
       "    <tr>\n",
       "      <th>2</th>\n",
       "      <td>2</td>\n",
       "      <td>subway</td>\n",
       "      <td>37.492317</td>\n",
       "      <td>127.118104</td>\n",
       "      <td>서울특별시 송파구</td>\n",
       "      <td>0</td>\n",
       "      <td>가락시장</td>\n",
       "      <td>휠체어리프트</td>\n",
       "      <td>이용가능</td>\n",
       "      <td>900002</td>\n",
       "    </tr>\n",
       "    <tr>\n",
       "      <th>3</th>\n",
       "      <td>3</td>\n",
       "      <td>subway</td>\n",
       "      <td>37.480890</td>\n",
       "      <td>126.882574</td>\n",
       "      <td>서울특별시 금천구</td>\n",
       "      <td>1</td>\n",
       "      <td>가산디지털단지</td>\n",
       "      <td>에스켈레이터</td>\n",
       "      <td>이용가능</td>\n",
       "      <td>900003</td>\n",
       "    </tr>\n",
       "    <tr>\n",
       "      <th>4</th>\n",
       "      <td>4</td>\n",
       "      <td>subway</td>\n",
       "      <td>37.480890</td>\n",
       "      <td>126.882574</td>\n",
       "      <td>서울특별시 금천구</td>\n",
       "      <td>1</td>\n",
       "      <td>가산디지털단지</td>\n",
       "      <td>화장실</td>\n",
       "      <td>이용가능</td>\n",
       "      <td>900004</td>\n",
       "    </tr>\n",
       "    <tr>\n",
       "      <th>5</th>\n",
       "      <td>5</td>\n",
       "      <td>subway</td>\n",
       "      <td>37.480890</td>\n",
       "      <td>126.882574</td>\n",
       "      <td>서울특별시 금천구</td>\n",
       "      <td>1</td>\n",
       "      <td>가산디지털단지</td>\n",
       "      <td>엘리베이터</td>\n",
       "      <td>이용가능</td>\n",
       "      <td>900005</td>\n",
       "    </tr>\n",
       "    <tr>\n",
       "      <th>6</th>\n",
       "      <td>6</td>\n",
       "      <td>subway</td>\n",
       "      <td>37.480890</td>\n",
       "      <td>126.882574</td>\n",
       "      <td>서울특별시 금천구</td>\n",
       "      <td>1</td>\n",
       "      <td>가산디지털단지</td>\n",
       "      <td>휠체어리프트</td>\n",
       "      <td>이용가능</td>\n",
       "      <td>900006</td>\n",
       "    </tr>\n",
       "    <tr>\n",
       "      <th>7</th>\n",
       "      <td>7</td>\n",
       "      <td>subway</td>\n",
       "      <td>37.497942</td>\n",
       "      <td>127.027621</td>\n",
       "      <td>서울특별시 강남구</td>\n",
       "      <td>3</td>\n",
       "      <td>강남</td>\n",
       "      <td>화장실</td>\n",
       "      <td>이용가능</td>\n",
       "      <td>900007</td>\n",
       "    </tr>\n",
       "    <tr>\n",
       "      <th>8</th>\n",
       "      <td>8</td>\n",
       "      <td>subway</td>\n",
       "      <td>37.497942</td>\n",
       "      <td>127.027621</td>\n",
       "      <td>서울특별시 강남구</td>\n",
       "      <td>3</td>\n",
       "      <td>강남</td>\n",
       "      <td>엘리베이터</td>\n",
       "      <td>이용가능</td>\n",
       "      <td>900008</td>\n",
       "    </tr>\n",
       "    <tr>\n",
       "      <th>9</th>\n",
       "      <td>9</td>\n",
       "      <td>subway</td>\n",
       "      <td>37.497942</td>\n",
       "      <td>127.027621</td>\n",
       "      <td>서울특별시 강남구</td>\n",
       "      <td>3</td>\n",
       "      <td>강남</td>\n",
       "      <td>에스켈레이터</td>\n",
       "      <td>이용가능</td>\n",
       "      <td>900009</td>\n",
       "    </tr>\n",
       "    <tr>\n",
       "      <th>10</th>\n",
       "      <td>10</td>\n",
       "      <td>subway</td>\n",
       "      <td>37.535940</td>\n",
       "      <td>127.132187</td>\n",
       "      <td>서울특별시 강동구</td>\n",
       "      <td>5</td>\n",
       "      <td>강동</td>\n",
       "      <td>휠체어리프트</td>\n",
       "      <td>이용가능</td>\n",
       "      <td>900017</td>\n",
       "    </tr>\n",
       "    <tr>\n",
       "      <th>11</th>\n",
       "      <td>11</td>\n",
       "      <td>subway</td>\n",
       "      <td>37.535940</td>\n",
       "      <td>127.132187</td>\n",
       "      <td>서울특별시 강동구</td>\n",
       "      <td>5</td>\n",
       "      <td>강동</td>\n",
       "      <td>에스켈레이터</td>\n",
       "      <td>이용가능</td>\n",
       "      <td>900016</td>\n",
       "    </tr>\n",
       "    <tr>\n",
       "      <th>12</th>\n",
       "      <td>12</td>\n",
       "      <td>subway</td>\n",
       "      <td>37.535940</td>\n",
       "      <td>127.132187</td>\n",
       "      <td>서울특별시 강동구</td>\n",
       "      <td>5</td>\n",
       "      <td>강동</td>\n",
       "      <td>화장실</td>\n",
       "      <td>이용가능</td>\n",
       "      <td>900014</td>\n",
       "    </tr>\n",
       "    <tr>\n",
       "      <th>13</th>\n",
       "      <td>13</td>\n",
       "      <td>subway</td>\n",
       "      <td>37.535940</td>\n",
       "      <td>127.132187</td>\n",
       "      <td>서울특별시 강동구</td>\n",
       "      <td>5</td>\n",
       "      <td>강동</td>\n",
       "      <td>엘리베이터</td>\n",
       "      <td>이용가능</td>\n",
       "      <td>900015</td>\n",
       "    </tr>\n",
       "    <tr>\n",
       "      <th>14</th>\n",
       "      <td>14</td>\n",
       "      <td>subway</td>\n",
       "      <td>37.535144</td>\n",
       "      <td>127.094672</td>\n",
       "      <td>서울특별시 광진구</td>\n",
       "      <td>7</td>\n",
       "      <td>강변</td>\n",
       "      <td>화장실</td>\n",
       "      <td>이용가능</td>\n",
       "      <td>900021</td>\n",
       "    </tr>\n",
       "    <tr>\n",
       "      <th>15</th>\n",
       "      <td>15</td>\n",
       "      <td>subway</td>\n",
       "      <td>37.535144</td>\n",
       "      <td>127.094672</td>\n",
       "      <td>서울특별시 광진구</td>\n",
       "      <td>7</td>\n",
       "      <td>강변</td>\n",
       "      <td>엘리베이터</td>\n",
       "      <td>이용가능</td>\n",
       "      <td>900022</td>\n",
       "    </tr>\n",
       "    <tr>\n",
       "      <th>16</th>\n",
       "      <td>16</td>\n",
       "      <td>subway</td>\n",
       "      <td>37.535144</td>\n",
       "      <td>127.094672</td>\n",
       "      <td>서울특별시 광진구</td>\n",
       "      <td>7</td>\n",
       "      <td>강변</td>\n",
       "      <td>휠체어리프트</td>\n",
       "      <td>이용가능</td>\n",
       "      <td>900023</td>\n",
       "    </tr>\n",
       "    <tr>\n",
       "      <th>17</th>\n",
       "      <td>17</td>\n",
       "      <td>subway</td>\n",
       "      <td>37.498162</td>\n",
       "      <td>127.134660</td>\n",
       "      <td>서울특별시 광진구</td>\n",
       "      <td>8</td>\n",
       "      <td>개농</td>\n",
       "      <td>화장실</td>\n",
       "      <td>이용가능</td>\n",
       "      <td>900024</td>\n",
       "    </tr>\n",
       "    <tr>\n",
       "      <th>18</th>\n",
       "      <td>18</td>\n",
       "      <td>subway</td>\n",
       "      <td>37.498162</td>\n",
       "      <td>127.134660</td>\n",
       "      <td>서울특별시 광진구</td>\n",
       "      <td>8</td>\n",
       "      <td>개농</td>\n",
       "      <td>엘리베이터</td>\n",
       "      <td>이용가능</td>\n",
       "      <td>900025</td>\n",
       "    </tr>\n",
       "    <tr>\n",
       "      <th>19</th>\n",
       "      <td>19</td>\n",
       "      <td>subway</td>\n",
       "      <td>37.572455</td>\n",
       "      <td>126.806839</td>\n",
       "      <td>서울특별시 강서구</td>\n",
       "      <td>10</td>\n",
       "      <td>개화산</td>\n",
       "      <td>화장실</td>\n",
       "      <td>이용가능</td>\n",
       "      <td>900026</td>\n",
       "    </tr>\n",
       "    <tr>\n",
       "      <th>20</th>\n",
       "      <td>20</td>\n",
       "      <td>subway</td>\n",
       "      <td>37.572455</td>\n",
       "      <td>126.806839</td>\n",
       "      <td>서울특별시 강서구</td>\n",
       "      <td>10</td>\n",
       "      <td>개화산</td>\n",
       "      <td>엘리베이터</td>\n",
       "      <td>이용가능</td>\n",
       "      <td>900027</td>\n",
       "    </tr>\n",
       "    <tr>\n",
       "      <th>21</th>\n",
       "      <td>21</td>\n",
       "      <td>subway</td>\n",
       "      <td>37.493422</td>\n",
       "      <td>127.143597</td>\n",
       "      <td>서울특별시 송파구</td>\n",
       "      <td>11</td>\n",
       "      <td>거여</td>\n",
       "      <td>휠체어리프트</td>\n",
       "      <td>이용가능</td>\n",
       "      <td>900031</td>\n",
       "    </tr>\n",
       "    <tr>\n",
       "      <th>22</th>\n",
       "      <td>22</td>\n",
       "      <td>subway</td>\n",
       "      <td>37.493422</td>\n",
       "      <td>127.143597</td>\n",
       "      <td>서울특별시 송파구</td>\n",
       "      <td>11</td>\n",
       "      <td>거여</td>\n",
       "      <td>화장실</td>\n",
       "      <td>이용가능</td>\n",
       "      <td>900028</td>\n",
       "    </tr>\n",
       "    <tr>\n",
       "      <th>23</th>\n",
       "      <td>23</td>\n",
       "      <td>subway</td>\n",
       "      <td>37.493422</td>\n",
       "      <td>127.143597</td>\n",
       "      <td>서울특별시 송파구</td>\n",
       "      <td>11</td>\n",
       "      <td>거여</td>\n",
       "      <td>에스켈레이터</td>\n",
       "      <td>이용가능</td>\n",
       "      <td>900029</td>\n",
       "    </tr>\n",
       "    <tr>\n",
       "      <th>24</th>\n",
       "      <td>24</td>\n",
       "      <td>subway</td>\n",
       "      <td>37.493422</td>\n",
       "      <td>127.143597</td>\n",
       "      <td>서울특별시 송파구</td>\n",
       "      <td>11</td>\n",
       "      <td>거여</td>\n",
       "      <td>엘리베이터</td>\n",
       "      <td>이용가능</td>\n",
       "      <td>900030</td>\n",
       "    </tr>\n",
       "    <tr>\n",
       "      <th>25</th>\n",
       "      <td>25</td>\n",
       "      <td>subway</td>\n",
       "      <td>37.540389</td>\n",
       "      <td>127.069236</td>\n",
       "      <td>서울특별시 광진구</td>\n",
       "      <td>12</td>\n",
       "      <td>건대입구</td>\n",
       "      <td>에스켈레이터</td>\n",
       "      <td>이용가능</td>\n",
       "      <td>900034</td>\n",
       "    </tr>\n",
       "    <tr>\n",
       "      <th>26</th>\n",
       "      <td>26</td>\n",
       "      <td>subway</td>\n",
       "      <td>37.540389</td>\n",
       "      <td>127.069236</td>\n",
       "      <td>서울특별시 광진구</td>\n",
       "      <td>12</td>\n",
       "      <td>건대입구</td>\n",
       "      <td>휠체어리프트</td>\n",
       "      <td>이용가능</td>\n",
       "      <td>900035</td>\n",
       "    </tr>\n",
       "    <tr>\n",
       "      <th>27</th>\n",
       "      <td>27</td>\n",
       "      <td>subway</td>\n",
       "      <td>37.540389</td>\n",
       "      <td>127.069236</td>\n",
       "      <td>서울특별시 광진구</td>\n",
       "      <td>12</td>\n",
       "      <td>건대입구</td>\n",
       "      <td>화장실</td>\n",
       "      <td>이용가능</td>\n",
       "      <td>900032</td>\n",
       "    </tr>\n",
       "    <tr>\n",
       "      <th>28</th>\n",
       "      <td>28</td>\n",
       "      <td>subway</td>\n",
       "      <td>37.540389</td>\n",
       "      <td>127.069236</td>\n",
       "      <td>서울특별시 광진구</td>\n",
       "      <td>12</td>\n",
       "      <td>건대입구</td>\n",
       "      <td>엘리베이터</td>\n",
       "      <td>이용가능</td>\n",
       "      <td>900033</td>\n",
       "    </tr>\n",
       "    <tr>\n",
       "      <th>29</th>\n",
       "      <td>29</td>\n",
       "      <td>subway</td>\n",
       "      <td>37.555051</td>\n",
       "      <td>127.154110</td>\n",
       "      <td>서울특별시 강동구</td>\n",
       "      <td>15</td>\n",
       "      <td>고덕</td>\n",
       "      <td>화장실</td>\n",
       "      <td>이용가능</td>\n",
       "      <td>900038</td>\n",
       "    </tr>\n",
       "    <tr>\n",
       "      <th>...</th>\n",
       "      <td>...</td>\n",
       "      <td>...</td>\n",
       "      <td>...</td>\n",
       "      <td>...</td>\n",
       "      <td>...</td>\n",
       "      <td>...</td>\n",
       "      <td>...</td>\n",
       "      <td>...</td>\n",
       "      <td>...</td>\n",
       "      <td>...</td>\n",
       "    </tr>\n",
       "    <tr>\n",
       "      <th>55552</th>\n",
       "      <td>63558</td>\n",
       "      <td>toilet/open</td>\n",
       "      <td>37.479596</td>\n",
       "      <td>126.989915</td>\n",
       "      <td>서울특별시 서초구 방배동 산75-4</td>\n",
       "      <td>31091</td>\n",
       "      <td>도구머리공원 화장실</td>\n",
       "      <td>남성용-대변기</td>\n",
       "      <td></td>\n",
       "      <td>304151</td>\n",
       "    </tr>\n",
       "    <tr>\n",
       "      <th>55553</th>\n",
       "      <td>63559</td>\n",
       "      <td>toilet/open</td>\n",
       "      <td>37.479596</td>\n",
       "      <td>126.989915</td>\n",
       "      <td>서울특별시 서초구 방배동 산75-4</td>\n",
       "      <td>31091</td>\n",
       "      <td>도구머리공원 화장실</td>\n",
       "      <td>여성용-대변기</td>\n",
       "      <td></td>\n",
       "      <td>304153</td>\n",
       "    </tr>\n",
       "    <tr>\n",
       "      <th>55554</th>\n",
       "      <td>63560</td>\n",
       "      <td>toilet/open</td>\n",
       "      <td>37.508194</td>\n",
       "      <td>126.995634</td>\n",
       "      <td>서울특별시 서초구 반포동 115-4</td>\n",
       "      <td>31092</td>\n",
       "      <td>간이화장실 화장실</td>\n",
       "      <td>여성용-장애인용대변기</td>\n",
       "      <td></td>\n",
       "      <td>304158</td>\n",
       "    </tr>\n",
       "    <tr>\n",
       "      <th>55555</th>\n",
       "      <td>63561</td>\n",
       "      <td>toilet/open</td>\n",
       "      <td>37.508194</td>\n",
       "      <td>126.995634</td>\n",
       "      <td>서울특별시 서초구 반포동 115-4</td>\n",
       "      <td>31092</td>\n",
       "      <td>간이화장실 화장실</td>\n",
       "      <td>여성용-대변기</td>\n",
       "      <td></td>\n",
       "      <td>304157</td>\n",
       "    </tr>\n",
       "    <tr>\n",
       "      <th>55556</th>\n",
       "      <td>63562</td>\n",
       "      <td>toilet/open</td>\n",
       "      <td>37.508194</td>\n",
       "      <td>126.995634</td>\n",
       "      <td>서울특별시 서초구 반포동 115-4</td>\n",
       "      <td>31092</td>\n",
       "      <td>간이화장실 화장실</td>\n",
       "      <td>남성용-장애인용대변기</td>\n",
       "      <td></td>\n",
       "      <td>304156</td>\n",
       "    </tr>\n",
       "    <tr>\n",
       "      <th>55557</th>\n",
       "      <td>63563</td>\n",
       "      <td>toilet/open</td>\n",
       "      <td>37.508194</td>\n",
       "      <td>126.995634</td>\n",
       "      <td>서울특별시 서초구 반포동 115-4</td>\n",
       "      <td>31092</td>\n",
       "      <td>간이화장실 화장실</td>\n",
       "      <td>남성용-소변기</td>\n",
       "      <td></td>\n",
       "      <td>304155</td>\n",
       "    </tr>\n",
       "    <tr>\n",
       "      <th>55558</th>\n",
       "      <td>63564</td>\n",
       "      <td>toilet/open</td>\n",
       "      <td>37.508194</td>\n",
       "      <td>126.995634</td>\n",
       "      <td>서울특별시 서초구 반포동 115-4</td>\n",
       "      <td>31092</td>\n",
       "      <td>간이화장실 화장실</td>\n",
       "      <td>남성용-대변기</td>\n",
       "      <td></td>\n",
       "      <td>304154</td>\n",
       "    </tr>\n",
       "    <tr>\n",
       "      <th>55559</th>\n",
       "      <td>63565</td>\n",
       "      <td>toilet/open</td>\n",
       "      <td>37.472727</td>\n",
       "      <td>126.992462</td>\n",
       "      <td>서울특별시 서초구 방배동 599</td>\n",
       "      <td>31093</td>\n",
       "      <td>방배배수지 체육공원 화장실</td>\n",
       "      <td>남성용-대변기</td>\n",
       "      <td></td>\n",
       "      <td>304159</td>\n",
       "    </tr>\n",
       "    <tr>\n",
       "      <th>55560</th>\n",
       "      <td>63566</td>\n",
       "      <td>toilet/open</td>\n",
       "      <td>37.472727</td>\n",
       "      <td>126.992462</td>\n",
       "      <td>서울특별시 서초구 방배동 599</td>\n",
       "      <td>31093</td>\n",
       "      <td>방배배수지 체육공원 화장실</td>\n",
       "      <td>남성용-소변기</td>\n",
       "      <td></td>\n",
       "      <td>304160</td>\n",
       "    </tr>\n",
       "    <tr>\n",
       "      <th>55561</th>\n",
       "      <td>63567</td>\n",
       "      <td>toilet/open</td>\n",
       "      <td>37.472727</td>\n",
       "      <td>126.992462</td>\n",
       "      <td>서울특별시 서초구 방배동 599</td>\n",
       "      <td>31093</td>\n",
       "      <td>방배배수지 체육공원 화장실</td>\n",
       "      <td>여성용-대변기</td>\n",
       "      <td></td>\n",
       "      <td>304161</td>\n",
       "    </tr>\n",
       "    <tr>\n",
       "      <th>55562</th>\n",
       "      <td>63568</td>\n",
       "      <td>toilet/open</td>\n",
       "      <td>37.473464</td>\n",
       "      <td>127.035751</td>\n",
       "      <td>서울특별시 서초구 양재동 126-1</td>\n",
       "      <td>31094</td>\n",
       "      <td>양재천수영장 화장실</td>\n",
       "      <td>남성용-대변기</td>\n",
       "      <td></td>\n",
       "      <td>304162</td>\n",
       "    </tr>\n",
       "    <tr>\n",
       "      <th>55563</th>\n",
       "      <td>63569</td>\n",
       "      <td>toilet/open</td>\n",
       "      <td>37.473464</td>\n",
       "      <td>127.035751</td>\n",
       "      <td>서울특별시 서초구 양재동 126-1</td>\n",
       "      <td>31094</td>\n",
       "      <td>양재천수영장 화장실</td>\n",
       "      <td>남성용-소변기</td>\n",
       "      <td></td>\n",
       "      <td>304163</td>\n",
       "    </tr>\n",
       "    <tr>\n",
       "      <th>55564</th>\n",
       "      <td>63570</td>\n",
       "      <td>toilet/open</td>\n",
       "      <td>37.473464</td>\n",
       "      <td>127.035751</td>\n",
       "      <td>서울특별시 서초구 양재동 126-1</td>\n",
       "      <td>31094</td>\n",
       "      <td>양재천수영장 화장실</td>\n",
       "      <td>여성용-대변기</td>\n",
       "      <td></td>\n",
       "      <td>304164</td>\n",
       "    </tr>\n",
       "    <tr>\n",
       "      <th>55565</th>\n",
       "      <td>63571</td>\n",
       "      <td>toilet/open</td>\n",
       "      <td>37.476623</td>\n",
       "      <td>127.041509</td>\n",
       "      <td>서울특별시 서초구 양재동 261-23</td>\n",
       "      <td>31095</td>\n",
       "      <td>양재천(영동2교둑마루) 화장실</td>\n",
       "      <td>남성용-대변기</td>\n",
       "      <td></td>\n",
       "      <td>304165</td>\n",
       "    </tr>\n",
       "    <tr>\n",
       "      <th>55566</th>\n",
       "      <td>63572</td>\n",
       "      <td>toilet/open</td>\n",
       "      <td>37.476623</td>\n",
       "      <td>127.041509</td>\n",
       "      <td>서울특별시 서초구 양재동 261-23</td>\n",
       "      <td>31095</td>\n",
       "      <td>양재천(영동2교둑마루) 화장실</td>\n",
       "      <td>남성용-소변기</td>\n",
       "      <td></td>\n",
       "      <td>304166</td>\n",
       "    </tr>\n",
       "    <tr>\n",
       "      <th>55567</th>\n",
       "      <td>63573</td>\n",
       "      <td>toilet/open</td>\n",
       "      <td>37.476623</td>\n",
       "      <td>127.041509</td>\n",
       "      <td>서울특별시 서초구 양재동 261-23</td>\n",
       "      <td>31095</td>\n",
       "      <td>양재천(영동2교둑마루) 화장실</td>\n",
       "      <td>남성용-장애인용대변기</td>\n",
       "      <td></td>\n",
       "      <td>304167</td>\n",
       "    </tr>\n",
       "    <tr>\n",
       "      <th>55568</th>\n",
       "      <td>63574</td>\n",
       "      <td>toilet/open</td>\n",
       "      <td>37.476623</td>\n",
       "      <td>127.041509</td>\n",
       "      <td>서울특별시 서초구 양재동 261-23</td>\n",
       "      <td>31095</td>\n",
       "      <td>양재천(영동2교둑마루) 화장실</td>\n",
       "      <td>여성용-대변기</td>\n",
       "      <td></td>\n",
       "      <td>304168</td>\n",
       "    </tr>\n",
       "    <tr>\n",
       "      <th>55569</th>\n",
       "      <td>63575</td>\n",
       "      <td>toilet/open</td>\n",
       "      <td>37.476623</td>\n",
       "      <td>127.041509</td>\n",
       "      <td>서울특별시 서초구 양재동 261-23</td>\n",
       "      <td>31095</td>\n",
       "      <td>양재천(영동2교둑마루) 화장실</td>\n",
       "      <td>여성용-장애인용대변기</td>\n",
       "      <td></td>\n",
       "      <td>304169</td>\n",
       "    </tr>\n",
       "    <tr>\n",
       "      <th>55570</th>\n",
       "      <td>63576</td>\n",
       "      <td>toilet/open</td>\n",
       "      <td>37.468269</td>\n",
       "      <td>127.028713</td>\n",
       "      <td>서울특별시 서초구 우면동 143-6</td>\n",
       "      <td>31096</td>\n",
       "      <td>양재천무인자동화장실(교총삼거리둑마루) 화장실</td>\n",
       "      <td>여성용-장애인용대변기</td>\n",
       "      <td></td>\n",
       "      <td>304174</td>\n",
       "    </tr>\n",
       "    <tr>\n",
       "      <th>55571</th>\n",
       "      <td>63577</td>\n",
       "      <td>toilet/open</td>\n",
       "      <td>37.468269</td>\n",
       "      <td>127.028713</td>\n",
       "      <td>서울특별시 서초구 우면동 143-6</td>\n",
       "      <td>31096</td>\n",
       "      <td>양재천무인자동화장실(교총삼거리둑마루) 화장실</td>\n",
       "      <td>여성용-대변기</td>\n",
       "      <td></td>\n",
       "      <td>304173</td>\n",
       "    </tr>\n",
       "    <tr>\n",
       "      <th>55572</th>\n",
       "      <td>63578</td>\n",
       "      <td>toilet/open</td>\n",
       "      <td>37.468269</td>\n",
       "      <td>127.028713</td>\n",
       "      <td>서울특별시 서초구 우면동 143-6</td>\n",
       "      <td>31096</td>\n",
       "      <td>양재천무인자동화장실(교총삼거리둑마루) 화장실</td>\n",
       "      <td>남성용-소변기</td>\n",
       "      <td></td>\n",
       "      <td>304171</td>\n",
       "    </tr>\n",
       "    <tr>\n",
       "      <th>55573</th>\n",
       "      <td>63579</td>\n",
       "      <td>toilet/open</td>\n",
       "      <td>37.468269</td>\n",
       "      <td>127.028713</td>\n",
       "      <td>서울특별시 서초구 우면동 143-6</td>\n",
       "      <td>31096</td>\n",
       "      <td>양재천무인자동화장실(교총삼거리둑마루) 화장실</td>\n",
       "      <td>남성용-대변기</td>\n",
       "      <td></td>\n",
       "      <td>304170</td>\n",
       "    </tr>\n",
       "    <tr>\n",
       "      <th>55574</th>\n",
       "      <td>63580</td>\n",
       "      <td>toilet/open</td>\n",
       "      <td>37.468269</td>\n",
       "      <td>127.028713</td>\n",
       "      <td>서울특별시 서초구 우면동 143-6</td>\n",
       "      <td>31096</td>\n",
       "      <td>양재천무인자동화장실(교총삼거리둑마루) 화장실</td>\n",
       "      <td>남성용-장애인용대변기</td>\n",
       "      <td></td>\n",
       "      <td>304172</td>\n",
       "    </tr>\n",
       "    <tr>\n",
       "      <th>55575</th>\n",
       "      <td>63581</td>\n",
       "      <td>toilet/open</td>\n",
       "      <td>37.553132</td>\n",
       "      <td>127.028349</td>\n",
       "      <td>서울특별시 성동구 사근동 102-28</td>\n",
       "      <td>31098</td>\n",
       "      <td>살곶이 진출 화장실</td>\n",
       "      <td>남성용-대변기</td>\n",
       "      <td></td>\n",
       "      <td>304178</td>\n",
       "    </tr>\n",
       "    <tr>\n",
       "      <th>55576</th>\n",
       "      <td>63582</td>\n",
       "      <td>toilet/open</td>\n",
       "      <td>37.553132</td>\n",
       "      <td>127.028349</td>\n",
       "      <td>서울특별시 성동구 사근동 102-28</td>\n",
       "      <td>31098</td>\n",
       "      <td>살곶이 진출 화장실</td>\n",
       "      <td>남성용-소변기</td>\n",
       "      <td></td>\n",
       "      <td>304179</td>\n",
       "    </tr>\n",
       "    <tr>\n",
       "      <th>55577</th>\n",
       "      <td>63583</td>\n",
       "      <td>toilet/open</td>\n",
       "      <td>37.553132</td>\n",
       "      <td>127.028349</td>\n",
       "      <td>서울특별시 성동구 사근동 102-28</td>\n",
       "      <td>31098</td>\n",
       "      <td>살곶이 진출 화장실</td>\n",
       "      <td>남성용-장애인용대변기</td>\n",
       "      <td></td>\n",
       "      <td>304180</td>\n",
       "    </tr>\n",
       "    <tr>\n",
       "      <th>55578</th>\n",
       "      <td>63584</td>\n",
       "      <td>toilet/open</td>\n",
       "      <td>37.553132</td>\n",
       "      <td>127.028349</td>\n",
       "      <td>서울특별시 성동구 사근동 102-28</td>\n",
       "      <td>31098</td>\n",
       "      <td>살곶이 진출 화장실</td>\n",
       "      <td>여성용-대변기</td>\n",
       "      <td></td>\n",
       "      <td>304181</td>\n",
       "    </tr>\n",
       "    <tr>\n",
       "      <th>55579</th>\n",
       "      <td>63585</td>\n",
       "      <td>toilet/open</td>\n",
       "      <td>37.553973</td>\n",
       "      <td>127.046326</td>\n",
       "      <td>서울특별시 성동구 마장동 811</td>\n",
       "      <td>31103</td>\n",
       "      <td>자전거체험장 화장실</td>\n",
       "      <td>남성용-대변기</td>\n",
       "      <td></td>\n",
       "      <td>304191</td>\n",
       "    </tr>\n",
       "    <tr>\n",
       "      <th>55580</th>\n",
       "      <td>63586</td>\n",
       "      <td>toilet/open</td>\n",
       "      <td>37.553973</td>\n",
       "      <td>127.046326</td>\n",
       "      <td>서울특별시 성동구 마장동 811</td>\n",
       "      <td>31103</td>\n",
       "      <td>자전거체험장 화장실</td>\n",
       "      <td>남성용-소변기</td>\n",
       "      <td></td>\n",
       "      <td>304192</td>\n",
       "    </tr>\n",
       "    <tr>\n",
       "      <th>55581</th>\n",
       "      <td>63587</td>\n",
       "      <td>toilet/open</td>\n",
       "      <td>37.553973</td>\n",
       "      <td>127.046326</td>\n",
       "      <td>서울특별시 성동구 마장동 811</td>\n",
       "      <td>31103</td>\n",
       "      <td>자전거체험장 화장실</td>\n",
       "      <td>여성용-대변기</td>\n",
       "      <td></td>\n",
       "      <td>304193</td>\n",
       "    </tr>\n",
       "  </tbody>\n",
       "</table>\n",
       "<p>55582 rows × 10 columns</p>\n",
       "</div>"
      ],
      "text/plain": [
       "       index     category        lat         lon         place_address  \\\n",
       "0          0       subway  37.492317  127.118104             서울특별시 송파구   \n",
       "1          1       subway  37.492317  127.118104             서울특별시 송파구   \n",
       "2          2       subway  37.492317  127.118104             서울특별시 송파구   \n",
       "3          3       subway  37.480890  126.882574             서울특별시 금천구   \n",
       "4          4       subway  37.480890  126.882574             서울특별시 금천구   \n",
       "5          5       subway  37.480890  126.882574             서울특별시 금천구   \n",
       "6          6       subway  37.480890  126.882574             서울특별시 금천구   \n",
       "7          7       subway  37.497942  127.027621             서울특별시 강남구   \n",
       "8          8       subway  37.497942  127.027621             서울특별시 강남구   \n",
       "9          9       subway  37.497942  127.027621             서울특별시 강남구   \n",
       "10        10       subway  37.535940  127.132187             서울특별시 강동구   \n",
       "11        11       subway  37.535940  127.132187             서울특별시 강동구   \n",
       "12        12       subway  37.535940  127.132187             서울특별시 강동구   \n",
       "13        13       subway  37.535940  127.132187             서울특별시 강동구   \n",
       "14        14       subway  37.535144  127.094672             서울특별시 광진구   \n",
       "15        15       subway  37.535144  127.094672             서울특별시 광진구   \n",
       "16        16       subway  37.535144  127.094672             서울특별시 광진구   \n",
       "17        17       subway  37.498162  127.134660             서울특별시 광진구   \n",
       "18        18       subway  37.498162  127.134660             서울특별시 광진구   \n",
       "19        19       subway  37.572455  126.806839             서울특별시 강서구   \n",
       "20        20       subway  37.572455  126.806839             서울특별시 강서구   \n",
       "21        21       subway  37.493422  127.143597             서울특별시 송파구   \n",
       "22        22       subway  37.493422  127.143597             서울특별시 송파구   \n",
       "23        23       subway  37.493422  127.143597             서울특별시 송파구   \n",
       "24        24       subway  37.493422  127.143597             서울특별시 송파구   \n",
       "25        25       subway  37.540389  127.069236             서울특별시 광진구   \n",
       "26        26       subway  37.540389  127.069236             서울특별시 광진구   \n",
       "27        27       subway  37.540389  127.069236             서울특별시 광진구   \n",
       "28        28       subway  37.540389  127.069236             서울특별시 광진구   \n",
       "29        29       subway  37.555051  127.154110             서울특별시 강동구   \n",
       "...      ...          ...        ...         ...                   ...   \n",
       "55552  63558  toilet/open  37.479596  126.989915   서울특별시 서초구 방배동 산75-4   \n",
       "55553  63559  toilet/open  37.479596  126.989915   서울특별시 서초구 방배동 산75-4   \n",
       "55554  63560  toilet/open  37.508194  126.995634   서울특별시 서초구 반포동 115-4   \n",
       "55555  63561  toilet/open  37.508194  126.995634   서울특별시 서초구 반포동 115-4   \n",
       "55556  63562  toilet/open  37.508194  126.995634   서울특별시 서초구 반포동 115-4   \n",
       "55557  63563  toilet/open  37.508194  126.995634   서울특별시 서초구 반포동 115-4   \n",
       "55558  63564  toilet/open  37.508194  126.995634   서울특별시 서초구 반포동 115-4   \n",
       "55559  63565  toilet/open  37.472727  126.992462     서울특별시 서초구 방배동 599   \n",
       "55560  63566  toilet/open  37.472727  126.992462     서울특별시 서초구 방배동 599   \n",
       "55561  63567  toilet/open  37.472727  126.992462     서울특별시 서초구 방배동 599   \n",
       "55562  63568  toilet/open  37.473464  127.035751   서울특별시 서초구 양재동 126-1   \n",
       "55563  63569  toilet/open  37.473464  127.035751   서울특별시 서초구 양재동 126-1   \n",
       "55564  63570  toilet/open  37.473464  127.035751   서울특별시 서초구 양재동 126-1   \n",
       "55565  63571  toilet/open  37.476623  127.041509  서울특별시 서초구 양재동 261-23   \n",
       "55566  63572  toilet/open  37.476623  127.041509  서울특별시 서초구 양재동 261-23   \n",
       "55567  63573  toilet/open  37.476623  127.041509  서울특별시 서초구 양재동 261-23   \n",
       "55568  63574  toilet/open  37.476623  127.041509  서울특별시 서초구 양재동 261-23   \n",
       "55569  63575  toilet/open  37.476623  127.041509  서울특별시 서초구 양재동 261-23   \n",
       "55570  63576  toilet/open  37.468269  127.028713   서울특별시 서초구 우면동 143-6   \n",
       "55571  63577  toilet/open  37.468269  127.028713   서울특별시 서초구 우면동 143-6   \n",
       "55572  63578  toilet/open  37.468269  127.028713   서울특별시 서초구 우면동 143-6   \n",
       "55573  63579  toilet/open  37.468269  127.028713   서울특별시 서초구 우면동 143-6   \n",
       "55574  63580  toilet/open  37.468269  127.028713   서울특별시 서초구 우면동 143-6   \n",
       "55575  63581  toilet/open  37.553132  127.028349  서울특별시 성동구 사근동 102-28   \n",
       "55576  63582  toilet/open  37.553132  127.028349  서울특별시 성동구 사근동 102-28   \n",
       "55577  63583  toilet/open  37.553132  127.028349  서울특별시 성동구 사근동 102-28   \n",
       "55578  63584  toilet/open  37.553132  127.028349  서울특별시 성동구 사근동 102-28   \n",
       "55579  63585  toilet/open  37.553973  127.046326     서울특별시 성동구 마장동 811   \n",
       "55580  63586  toilet/open  37.553973  127.046326     서울특별시 성동구 마장동 811   \n",
       "55581  63587  toilet/open  37.553973  127.046326     서울특별시 성동구 마장동 811   \n",
       "\n",
       "       place_id                place_name facility_available_name  \\\n",
       "0             0                      가락시장                     화장실   \n",
       "1             0                      가락시장                   엘리베이터   \n",
       "2             0                      가락시장                  휠체어리프트   \n",
       "3             1                   가산디지털단지                  에스켈레이터   \n",
       "4             1                   가산디지털단지                     화장실   \n",
       "5             1                   가산디지털단지                   엘리베이터   \n",
       "6             1                   가산디지털단지                  휠체어리프트   \n",
       "7             3                        강남                     화장실   \n",
       "8             3                        강남                   엘리베이터   \n",
       "9             3                        강남                  에스켈레이터   \n",
       "10            5                        강동                  휠체어리프트   \n",
       "11            5                        강동                  에스켈레이터   \n",
       "12            5                        강동                     화장실   \n",
       "13            5                        강동                   엘리베이터   \n",
       "14            7                        강변                     화장실   \n",
       "15            7                        강변                   엘리베이터   \n",
       "16            7                        강변                  휠체어리프트   \n",
       "17            8                        개농                     화장실   \n",
       "18            8                        개농                   엘리베이터   \n",
       "19           10                       개화산                     화장실   \n",
       "20           10                       개화산                   엘리베이터   \n",
       "21           11                        거여                  휠체어리프트   \n",
       "22           11                        거여                     화장실   \n",
       "23           11                        거여                  에스켈레이터   \n",
       "24           11                        거여                   엘리베이터   \n",
       "25           12                      건대입구                  에스켈레이터   \n",
       "26           12                      건대입구                  휠체어리프트   \n",
       "27           12                      건대입구                     화장실   \n",
       "28           12                      건대입구                   엘리베이터   \n",
       "29           15                        고덕                     화장실   \n",
       "...         ...                       ...                     ...   \n",
       "55552     31091                도구머리공원 화장실                 남성용-대변기   \n",
       "55553     31091                도구머리공원 화장실                 여성용-대변기   \n",
       "55554     31092                 간이화장실 화장실             여성용-장애인용대변기   \n",
       "55555     31092                 간이화장실 화장실                 여성용-대변기   \n",
       "55556     31092                 간이화장실 화장실             남성용-장애인용대변기   \n",
       "55557     31092                 간이화장실 화장실                 남성용-소변기   \n",
       "55558     31092                 간이화장실 화장실                 남성용-대변기   \n",
       "55559     31093            방배배수지 체육공원 화장실                 남성용-대변기   \n",
       "55560     31093            방배배수지 체육공원 화장실                 남성용-소변기   \n",
       "55561     31093            방배배수지 체육공원 화장실                 여성용-대변기   \n",
       "55562     31094                양재천수영장 화장실                 남성용-대변기   \n",
       "55563     31094                양재천수영장 화장실                 남성용-소변기   \n",
       "55564     31094                양재천수영장 화장실                 여성용-대변기   \n",
       "55565     31095          양재천(영동2교둑마루) 화장실                 남성용-대변기   \n",
       "55566     31095          양재천(영동2교둑마루) 화장실                 남성용-소변기   \n",
       "55567     31095          양재천(영동2교둑마루) 화장실             남성용-장애인용대변기   \n",
       "55568     31095          양재천(영동2교둑마루) 화장실                 여성용-대변기   \n",
       "55569     31095          양재천(영동2교둑마루) 화장실             여성용-장애인용대변기   \n",
       "55570     31096  양재천무인자동화장실(교총삼거리둑마루) 화장실             여성용-장애인용대변기   \n",
       "55571     31096  양재천무인자동화장실(교총삼거리둑마루) 화장실                 여성용-대변기   \n",
       "55572     31096  양재천무인자동화장실(교총삼거리둑마루) 화장실                 남성용-소변기   \n",
       "55573     31096  양재천무인자동화장실(교총삼거리둑마루) 화장실                 남성용-대변기   \n",
       "55574     31096  양재천무인자동화장실(교총삼거리둑마루) 화장실             남성용-장애인용대변기   \n",
       "55575     31098                살곶이 진출 화장실                 남성용-대변기   \n",
       "55576     31098                살곶이 진출 화장실                 남성용-소변기   \n",
       "55577     31098                살곶이 진출 화장실             남성용-장애인용대변기   \n",
       "55578     31098                살곶이 진출 화장실                 여성용-대변기   \n",
       "55579     31103                자전거체험장 화장실                 남성용-대변기   \n",
       "55580     31103                자전거체험장 화장실                 남성용-소변기   \n",
       "55581     31103                자전거체험장 화장실                 여성용-대변기   \n",
       "\n",
       "      facility_is_available  facility_id  \n",
       "0                      이용가능       900000  \n",
       "1                      이용가능       900001  \n",
       "2                      이용가능       900002  \n",
       "3                      이용가능       900003  \n",
       "4                      이용가능       900004  \n",
       "5                      이용가능       900005  \n",
       "6                      이용가능       900006  \n",
       "7                      이용가능       900007  \n",
       "8                      이용가능       900008  \n",
       "9                      이용가능       900009  \n",
       "10                     이용가능       900017  \n",
       "11                     이용가능       900016  \n",
       "12                     이용가능       900014  \n",
       "13                     이용가능       900015  \n",
       "14                     이용가능       900021  \n",
       "15                     이용가능       900022  \n",
       "16                     이용가능       900023  \n",
       "17                     이용가능       900024  \n",
       "18                     이용가능       900025  \n",
       "19                     이용가능       900026  \n",
       "20                     이용가능       900027  \n",
       "21                     이용가능       900031  \n",
       "22                     이용가능       900028  \n",
       "23                     이용가능       900029  \n",
       "24                     이용가능       900030  \n",
       "25                     이용가능       900034  \n",
       "26                     이용가능       900035  \n",
       "27                     이용가능       900032  \n",
       "28                     이용가능       900033  \n",
       "29                     이용가능       900038  \n",
       "...                     ...          ...  \n",
       "55552                             304151  \n",
       "55553                             304153  \n",
       "55554                             304158  \n",
       "55555                             304157  \n",
       "55556                             304156  \n",
       "55557                             304155  \n",
       "55558                             304154  \n",
       "55559                             304159  \n",
       "55560                             304160  \n",
       "55561                             304161  \n",
       "55562                             304162  \n",
       "55563                             304163  \n",
       "55564                             304164  \n",
       "55565                             304165  \n",
       "55566                             304166  \n",
       "55567                             304167  \n",
       "55568                             304168  \n",
       "55569                             304169  \n",
       "55570                             304174  \n",
       "55571                             304173  \n",
       "55572                             304171  \n",
       "55573                             304170  \n",
       "55574                             304172  \n",
       "55575                             304178  \n",
       "55576                             304179  \n",
       "55577                             304180  \n",
       "55578                             304181  \n",
       "55579                             304191  \n",
       "55580                             304192  \n",
       "55581                             304193  \n",
       "\n",
       "[55582 rows x 10 columns]"
      ]
     },
     "execution_count": 117,
     "metadata": {},
     "output_type": "execute_result"
    }
   ],
   "source": [
    "test"
   ]
  },
  {
   "cell_type": "markdown",
   "metadata": {},
   "source": [
    "# 20. 교육/어린이집 분리 \n",
    "어린이집$ -> daycare center <br/>\n",
    "어런이집 -> 어린이집으로 변경하여 -> daycare center <br/>\n",
    "학원 -> 대학원이 추출 -> 대학교를 제외한 단어를 추출 -> education/job <br/>\n",
    "마지막 단어가 학원 -> education/job <br/>"
   ]
  },
  {
   "cell_type": "code",
   "execution_count": 118,
   "metadata": {},
   "outputs": [
    {
     "name": "stderr",
     "output_type": "stream",
     "text": [
      "C:\\Users\\user\\Anaconda3\\lib\\site-packages\\pandas\\core\\generic.py:4401: SettingWithCopyWarning: \n",
      "A value is trying to be set on a copy of a slice from a DataFrame.\n",
      "Try using .loc[row_indexer,col_indexer] = value instead\n",
      "\n",
      "See the caveats in the documentation: http://pandas.pydata.org/pandas-docs/stable/indexing.html#indexing-view-versus-copy\n",
      "  self[name] = value\n"
     ]
    }
   ],
   "source": [
    "test = reg_name_change(test,\"education/Childcare\", \"어린이집\", \"daycare center\" )"
   ]
  },
  {
   "cell_type": "code",
   "execution_count": 119,
   "metadata": {},
   "outputs": [],
   "source": [
    "a = test[test.category == 'education/Childcare']"
   ]
  },
  {
   "cell_type": "code",
   "execution_count": 120,
   "metadata": {},
   "outputs": [],
   "source": [
    "b= a[a.place_name.str.contains('어런이집$')]"
   ]
  },
  {
   "cell_type": "code",
   "execution_count": 121,
   "metadata": {},
   "outputs": [],
   "source": [
    "b = b.replace('이림어런이집', \"이림어린이집\")"
   ]
  },
  {
   "cell_type": "code",
   "execution_count": 122,
   "metadata": {},
   "outputs": [],
   "source": [
    "b.category = \"daycare center\""
   ]
  },
  {
   "cell_type": "code",
   "execution_count": 123,
   "metadata": {},
   "outputs": [],
   "source": [
    "test.iloc[b.index] = b"
   ]
  },
  {
   "cell_type": "code",
   "execution_count": 124,
   "metadata": {},
   "outputs": [],
   "source": [
    "a = test[test.category == 'education/Childcare']"
   ]
  },
  {
   "cell_type": "code",
   "execution_count": 125,
   "metadata": {},
   "outputs": [],
   "source": [
    "b = a[a.place_name.str.contains('학원') & a.place_name.str.contains('[^대학교]$')]"
   ]
  },
  {
   "cell_type": "code",
   "execution_count": 126,
   "metadata": {},
   "outputs": [
    {
     "name": "stderr",
     "output_type": "stream",
     "text": [
      "C:\\Users\\user\\Anaconda3\\lib\\site-packages\\pandas\\core\\generic.py:4401: SettingWithCopyWarning: \n",
      "A value is trying to be set on a copy of a slice from a DataFrame.\n",
      "Try using .loc[row_indexer,col_indexer] = value instead\n",
      "\n",
      "See the caveats in the documentation: http://pandas.pydata.org/pandas-docs/stable/indexing.html#indexing-view-versus-copy\n",
      "  self[name] = value\n"
     ]
    }
   ],
   "source": [
    "b.category = \"education/job\""
   ]
  },
  {
   "cell_type": "code",
   "execution_count": 127,
   "metadata": {},
   "outputs": [],
   "source": [
    "test.iloc[b.index] =b"
   ]
  },
  {
   "cell_type": "code",
   "execution_count": 128,
   "metadata": {},
   "outputs": [
    {
     "name": "stderr",
     "output_type": "stream",
     "text": [
      "C:\\Users\\user\\Anaconda3\\lib\\site-packages\\pandas\\core\\generic.py:4401: SettingWithCopyWarning: \n",
      "A value is trying to be set on a copy of a slice from a DataFrame.\n",
      "Try using .loc[row_indexer,col_indexer] = value instead\n",
      "\n",
      "See the caveats in the documentation: http://pandas.pydata.org/pandas-docs/stable/indexing.html#indexing-view-versus-copy\n",
      "  self[name] = value\n"
     ]
    }
   ],
   "source": [
    "test = reg_name_change(test, \"education/Childcare\", \"초등학교\", \"elementary school\")"
   ]
  },
  {
   "cell_type": "code",
   "execution_count": 129,
   "metadata": {},
   "outputs": [
    {
     "name": "stderr",
     "output_type": "stream",
     "text": [
      "C:\\Users\\user\\Anaconda3\\lib\\site-packages\\pandas\\core\\generic.py:4401: SettingWithCopyWarning: \n",
      "A value is trying to be set on a copy of a slice from a DataFrame.\n",
      "Try using .loc[row_indexer,col_indexer] = value instead\n",
      "\n",
      "See the caveats in the documentation: http://pandas.pydata.org/pandas-docs/stable/indexing.html#indexing-view-versus-copy\n",
      "  self[name] = value\n"
     ]
    }
   ],
   "source": [
    "test = reg_name_change(test, \"education/Childcare\", \"고교\", \"high school\")"
   ]
  },
  {
   "cell_type": "code",
   "execution_count": 130,
   "metadata": {},
   "outputs": [
    {
     "name": "stderr",
     "output_type": "stream",
     "text": [
      "C:\\Users\\user\\Anaconda3\\lib\\site-packages\\pandas\\core\\generic.py:4401: SettingWithCopyWarning: \n",
      "A value is trying to be set on a copy of a slice from a DataFrame.\n",
      "Try using .loc[row_indexer,col_indexer] = value instead\n",
      "\n",
      "See the caveats in the documentation: http://pandas.pydata.org/pandas-docs/stable/indexing.html#indexing-view-versus-copy\n",
      "  self[name] = value\n"
     ]
    }
   ],
   "source": [
    "test = reg_name_change(test, \"education/Childcare\", \"고$\", \"high school\")"
   ]
  },
  {
   "cell_type": "code",
   "execution_count": 131,
   "metadata": {},
   "outputs": [
    {
     "name": "stderr",
     "output_type": "stream",
     "text": [
      "C:\\Users\\user\\Anaconda3\\lib\\site-packages\\pandas\\core\\generic.py:4401: SettingWithCopyWarning: \n",
      "A value is trying to be set on a copy of a slice from a DataFrame.\n",
      "Try using .loc[row_indexer,col_indexer] = value instead\n",
      "\n",
      "See the caveats in the documentation: http://pandas.pydata.org/pandas-docs/stable/indexing.html#indexing-view-versus-copy\n",
      "  self[name] = value\n"
     ]
    }
   ],
   "source": [
    "test = reg_name_change(test, \"education/Childcare\", \"고등학교\", \"high school\")"
   ]
  },
  {
   "cell_type": "code",
   "execution_count": 132,
   "metadata": {},
   "outputs": [
    {
     "name": "stderr",
     "output_type": "stream",
     "text": [
      "C:\\Users\\user\\Anaconda3\\lib\\site-packages\\pandas\\core\\generic.py:4401: SettingWithCopyWarning: \n",
      "A value is trying to be set on a copy of a slice from a DataFrame.\n",
      "Try using .loc[row_indexer,col_indexer] = value instead\n",
      "\n",
      "See the caveats in the documentation: http://pandas.pydata.org/pandas-docs/stable/indexing.html#indexing-view-versus-copy\n",
      "  self[name] = value\n"
     ]
    }
   ],
   "source": [
    "test = reg_name_change(test, \"education/Childcare\", \"중학교$\", \"junior high school\")"
   ]
  },
  {
   "cell_type": "code",
   "execution_count": 133,
   "metadata": {},
   "outputs": [
    {
     "name": "stderr",
     "output_type": "stream",
     "text": [
      "C:\\Users\\user\\Anaconda3\\lib\\site-packages\\pandas\\core\\generic.py:4401: SettingWithCopyWarning: \n",
      "A value is trying to be set on a copy of a slice from a DataFrame.\n",
      "Try using .loc[row_indexer,col_indexer] = value instead\n",
      "\n",
      "See the caveats in the documentation: http://pandas.pydata.org/pandas-docs/stable/indexing.html#indexing-view-versus-copy\n",
      "  self[name] = value\n"
     ]
    }
   ],
   "source": [
    "test = reg_name_change(test, \"education/Childcare\", \"중$\", \"junior high school\")"
   ]
  },
  {
   "cell_type": "code",
   "execution_count": 134,
   "metadata": {},
   "outputs": [
    {
     "name": "stderr",
     "output_type": "stream",
     "text": [
      "C:\\Users\\user\\Anaconda3\\lib\\site-packages\\pandas\\core\\generic.py:4401: SettingWithCopyWarning: \n",
      "A value is trying to be set on a copy of a slice from a DataFrame.\n",
      "Try using .loc[row_indexer,col_indexer] = value instead\n",
      "\n",
      "See the caveats in the documentation: http://pandas.pydata.org/pandas-docs/stable/indexing.html#indexing-view-versus-copy\n",
      "  self[name] = value\n"
     ]
    }
   ],
   "source": [
    "test = reg_name_change(test, \"education/Childcare\", \"도서관\", \"library\")"
   ]
  },
  {
   "cell_type": "code",
   "execution_count": 135,
   "metadata": {},
   "outputs": [],
   "source": [
    "test = reg_name_change(test, \"education/Childcare\", \"어린이집\", \"daycare center\")"
   ]
  },
  {
   "cell_type": "code",
   "execution_count": 136,
   "metadata": {},
   "outputs": [
    {
     "name": "stderr",
     "output_type": "stream",
     "text": [
      "C:\\Users\\user\\Anaconda3\\lib\\site-packages\\pandas\\core\\generic.py:4401: SettingWithCopyWarning: \n",
      "A value is trying to be set on a copy of a slice from a DataFrame.\n",
      "Try using .loc[row_indexer,col_indexer] = value instead\n",
      "\n",
      "See the caveats in the documentation: http://pandas.pydata.org/pandas-docs/stable/indexing.html#indexing-view-versus-copy\n",
      "  self[name] = value\n"
     ]
    }
   ],
   "source": [
    "test = reg_name_change(test, \"education/Childcare\", \"유치원\", \"daycare center\")"
   ]
  },
  {
   "cell_type": "code",
   "execution_count": 137,
   "metadata": {},
   "outputs": [
    {
     "name": "stderr",
     "output_type": "stream",
     "text": [
      "C:\\Users\\user\\Anaconda3\\lib\\site-packages\\pandas\\core\\generic.py:4401: SettingWithCopyWarning: \n",
      "A value is trying to be set on a copy of a slice from a DataFrame.\n",
      "Try using .loc[row_indexer,col_indexer] = value instead\n",
      "\n",
      "See the caveats in the documentation: http://pandas.pydata.org/pandas-docs/stable/indexing.html#indexing-view-versus-copy\n",
      "  self[name] = value\n"
     ]
    }
   ],
   "source": [
    "test = reg_name_change(test, \"education/Childcare\", \"유아원\", \"daycare center\")"
   ]
  },
  {
   "cell_type": "code",
   "execution_count": 138,
   "metadata": {},
   "outputs": [],
   "source": [
    "test = reg_name_change(test, \"education/Childcare\", \"초등학교\", \"elementary school\")"
   ]
  },
  {
   "cell_type": "code",
   "execution_count": 139,
   "metadata": {},
   "outputs": [
    {
     "name": "stderr",
     "output_type": "stream",
     "text": [
      "C:\\Users\\user\\Anaconda3\\lib\\site-packages\\pandas\\core\\generic.py:4401: SettingWithCopyWarning: \n",
      "A value is trying to be set on a copy of a slice from a DataFrame.\n",
      "Try using .loc[row_indexer,col_indexer] = value instead\n",
      "\n",
      "See the caveats in the documentation: http://pandas.pydata.org/pandas-docs/stable/indexing.html#indexing-view-versus-copy\n",
      "  self[name] = value\n"
     ]
    }
   ],
   "source": [
    "test = reg_name_change(test, \"education/Childcare\", \"초$\", \"elementary school\")"
   ]
  },
  {
   "cell_type": "code",
   "execution_count": 140,
   "metadata": {},
   "outputs": [],
   "source": [
    "test_list2 = [ \"국민대\", \"동덕여대\", \"명지대\", \"숙명여대\", \"숭실대\", \"성신여대\", \"방송통신대\",\"서경대\"]"
   ]
  },
  {
   "cell_type": "code",
   "execution_count": 141,
   "metadata": {},
   "outputs": [
    {
     "name": "stderr",
     "output_type": "stream",
     "text": [
      "C:\\Users\\user\\Anaconda3\\lib\\site-packages\\pandas\\core\\generic.py:4401: SettingWithCopyWarning: \n",
      "A value is trying to be set on a copy of a slice from a DataFrame.\n",
      "Try using .loc[row_indexer,col_indexer] = value instead\n",
      "\n",
      "See the caveats in the documentation: http://pandas.pydata.org/pandas-docs/stable/indexing.html#indexing-view-versus-copy\n",
      "  self[name] = value\n"
     ]
    }
   ],
   "source": [
    "for row in test_list2:\n",
    "    test = reg_name_change(test, \"education/Childcare\", row, \"university\")"
   ]
  },
  {
   "cell_type": "code",
   "execution_count": 142,
   "metadata": {},
   "outputs": [
    {
     "name": "stderr",
     "output_type": "stream",
     "text": [
      "C:\\Users\\user\\Anaconda3\\lib\\site-packages\\pandas\\core\\generic.py:4401: SettingWithCopyWarning: \n",
      "A value is trying to be set on a copy of a slice from a DataFrame.\n",
      "Try using .loc[row_indexer,col_indexer] = value instead\n",
      "\n",
      "See the caveats in the documentation: http://pandas.pydata.org/pandas-docs/stable/indexing.html#indexing-view-versus-copy\n",
      "  self[name] = value\n"
     ]
    }
   ],
   "source": [
    "test = reg_name_change(test, \"education/Childcare\", \"대학\", \"university\")"
   ]
  },
  {
   "cell_type": "code",
   "execution_count": 143,
   "metadata": {},
   "outputs": [],
   "source": [
    "test = reg_name_change(test, \"education/Childcare\", \"대학교\", \"university\")"
   ]
  },
  {
   "cell_type": "code",
   "execution_count": 144,
   "metadata": {},
   "outputs": [
    {
     "name": "stderr",
     "output_type": "stream",
     "text": [
      "C:\\Users\\user\\Anaconda3\\lib\\site-packages\\pandas\\core\\generic.py:4401: SettingWithCopyWarning: \n",
      "A value is trying to be set on a copy of a slice from a DataFrame.\n",
      "Try using .loc[row_indexer,col_indexer] = value instead\n",
      "\n",
      "See the caveats in the documentation: http://pandas.pydata.org/pandas-docs/stable/indexing.html#indexing-view-versus-copy\n",
      "  self[name] = value\n"
     ]
    }
   ],
   "source": [
    "test = reg_name_change(test, \"education/Childcare\", \"학교\", \"special-education school\")"
   ]
  },
  {
   "cell_type": "code",
   "execution_count": 145,
   "metadata": {},
   "outputs": [],
   "source": [
    "# test[test.category == \"education/Childcare\"].place_name.unique()"
   ]
  },
  {
   "cell_type": "code",
   "execution_count": 146,
   "metadata": {},
   "outputs": [
    {
     "name": "stderr",
     "output_type": "stream",
     "text": [
      "C:\\Users\\user\\Anaconda3\\lib\\site-packages\\pandas\\core\\generic.py:4401: SettingWithCopyWarning: \n",
      "A value is trying to be set on a copy of a slice from a DataFrame.\n",
      "Try using .loc[row_indexer,col_indexer] = value instead\n",
      "\n",
      "See the caveats in the documentation: http://pandas.pydata.org/pandas-docs/stable/indexing.html#indexing-view-versus-copy\n",
      "  self[name] = value\n"
     ]
    },
    {
     "name": "stdout",
     "output_type": "stream",
     "text": [
      "전체 category 개수\n",
      "44\n",
      "\n",
      "이 전 education/job 해당 category 개수 : \n",
      "index                      5120\n",
      "category                   5120\n",
      "lat                        5120\n",
      "lon                        5120\n",
      "place_address              5120\n",
      "place_id                   5120\n",
      "place_name                 5120\n",
      "facility_available_name    5120\n",
      "facility_is_available      5120\n",
      "facility_id                5120\n",
      "dtype: int64\n",
      "\n",
      "이 후 education/job 해당 category 개수 : \n",
      "index                      5235\n",
      "category                   5235\n",
      "lat                        5235\n",
      "lon                        5235\n",
      "place_address              5235\n",
      "place_id                   5235\n",
      "place_name                 5235\n",
      "facility_available_name    5235\n",
      "facility_is_available      5235\n",
      "facility_id                5235\n",
      "dtype: int64\n",
      "\n",
      "전체 category 개수\n",
      "43\n"
     ]
    }
   ],
   "source": [
    "test = category_sum(test, \"education/Childcare\",\"education/job\")"
   ]
  },
  {
   "cell_type": "markdown",
   "metadata": {},
   "source": [
    "# 21. exhibition center (수정사항 없음)"
   ]
  },
  {
   "cell_type": "code",
   "execution_count": 147,
   "metadata": {},
   "outputs": [],
   "source": [
    "# test[test.category == \"exhibition center\"].place_name.unique()"
   ]
  },
  {
   "cell_type": "markdown",
   "metadata": {},
   "source": [
    "# 22. beauty/hair (수정사항 없음)"
   ]
  },
  {
   "cell_type": "code",
   "execution_count": 148,
   "metadata": {},
   "outputs": [],
   "source": [
    "# test[test.category == \"beauty/hair\"].place_name.unique()"
   ]
  },
  {
   "cell_type": "markdown",
   "metadata": {},
   "source": [
    "# 23. police station (수정사항 없음)"
   ]
  },
  {
   "cell_type": "code",
   "execution_count": 149,
   "metadata": {},
   "outputs": [],
   "source": [
    "# test[test.category == \"police station\"].place_name.unique()"
   ]
  },
  {
   "cell_type": "markdown",
   "metadata": {},
   "source": [
    "# 24. post office (수정사항 없음)"
   ]
  },
  {
   "cell_type": "code",
   "execution_count": 150,
   "metadata": {},
   "outputs": [],
   "source": [
    "# test[test.category == \"post office\"].place_name.unique()"
   ]
  },
  {
   "cell_type": "markdown",
   "metadata": {},
   "source": [
    "# 25. health center (수정사항 없음)"
   ]
  },
  {
   "cell_type": "code",
   "execution_count": 151,
   "metadata": {},
   "outputs": [],
   "source": [
    "# test[test.category == \"health center\"].place_name.unique()"
   ]
  },
  {
   "cell_type": "markdown",
   "metadata": {},
   "source": [
    "# 26. daycare center (수정사항 없음)"
   ]
  },
  {
   "cell_type": "code",
   "execution_count": 152,
   "metadata": {},
   "outputs": [],
   "source": [
    "# test[test.category == \"daycare center\"].place_name.unique()"
   ]
  },
  {
   "cell_type": "markdown",
   "metadata": {},
   "source": [
    "# 27. restaurant (수정사항 없음)"
   ]
  },
  {
   "cell_type": "code",
   "execution_count": 153,
   "metadata": {},
   "outputs": [],
   "source": [
    "# test[test.category == \"restaurant\"].place_name.unique()"
   ]
  },
  {
   "cell_type": "markdown",
   "metadata": {},
   "source": [
    "# 28. convenience store/bakery drop"
   ]
  },
  {
   "cell_type": "markdown",
   "metadata": {},
   "source": [
    "스타벅스는 존재하지만, 빌딩같이 상관성 없는 데이터가 있기 때문에 (약 40개)"
   ]
  },
  {
   "cell_type": "code",
   "execution_count": 154,
   "metadata": {},
   "outputs": [],
   "source": [
    "test = test[test.category != \"convenience store/bakery\"]"
   ]
  },
  {
   "cell_type": "code",
   "execution_count": 155,
   "metadata": {},
   "outputs": [
    {
     "name": "stderr",
     "output_type": "stream",
     "text": [
      "C:\\Users\\user\\Anaconda3\\lib\\site-packages\\pandas\\core\\frame.py:3694: SettingWithCopyWarning: \n",
      "A value is trying to be set on a copy of a slice from a DataFrame\n",
      "\n",
      "See the caveats in the documentation: http://pandas.pydata.org/pandas-docs/stable/indexing.html#indexing-view-versus-copy\n",
      "  errors=errors)\n"
     ]
    }
   ],
   "source": [
    "test.drop(columns=\"index\", inplace=True)"
   ]
  },
  {
   "cell_type": "code",
   "execution_count": 156,
   "metadata": {},
   "outputs": [],
   "source": [
    "test.reset_index(inplace=True)"
   ]
  },
  {
   "cell_type": "markdown",
   "metadata": {},
   "source": [
    "# 29. meeting hall"
   ]
  },
  {
   "cell_type": "code",
   "execution_count": 157,
   "metadata": {},
   "outputs": [],
   "source": [
    "# 데이터가 상당히 적으며, 빌딩으로 넘겨야하지만, 빌딩은 우리가 원하는 데이터가 아니라 drop"
   ]
  },
  {
   "cell_type": "code",
   "execution_count": 158,
   "metadata": {},
   "outputs": [
    {
     "data": {
      "text/plain": [
       "5"
      ]
     },
     "execution_count": 158,
     "metadata": {},
     "output_type": "execute_result"
    }
   ],
   "source": [
    "len(test[test.category == \"meeting hall\"].place_name.unique())"
   ]
  },
  {
   "cell_type": "code",
   "execution_count": 159,
   "metadata": {},
   "outputs": [],
   "source": [
    "test= test[test.category != \"meeting hall\"]"
   ]
  },
  {
   "cell_type": "code",
   "execution_count": 160,
   "metadata": {},
   "outputs": [],
   "source": [
    "test.drop(columns=\"index\", inplace=True)"
   ]
  },
  {
   "cell_type": "code",
   "execution_count": 161,
   "metadata": {},
   "outputs": [],
   "source": [
    "test.reset_index(inplace=True)"
   ]
  },
  {
   "cell_type": "markdown",
   "metadata": {},
   "source": [
    "# 30. church (수정사항 없음)"
   ]
  },
  {
   "cell_type": "code",
   "execution_count": 162,
   "metadata": {},
   "outputs": [],
   "source": [
    "# test[test.category == \"church\"].place_name.unique()"
   ]
  },
  {
   "cell_type": "markdown",
   "metadata": {},
   "source": [
    "# 31. welfare/child (수정사항 없음)"
   ]
  },
  {
   "cell_type": "code",
   "execution_count": 163,
   "metadata": {},
   "outputs": [],
   "source": [
    "# test[test.category == \"welfare/child\"].place_name.unique()"
   ]
  },
  {
   "cell_type": "markdown",
   "metadata": {},
   "source": [
    "# 32. welfare/senior"
   ]
  },
  {
   "cell_type": "code",
   "execution_count": 164,
   "metadata": {},
   "outputs": [],
   "source": [
    "# test[test.category == \"welfare/senior\"].place_name.unique()"
   ]
  },
  {
   "cell_type": "markdown",
   "metadata": {},
   "source": [
    "아파트 drop"
   ]
  },
  {
   "cell_type": "code",
   "execution_count": 165,
   "metadata": {},
   "outputs": [
    {
     "name": "stderr",
     "output_type": "stream",
     "text": [
      "C:\\Users\\user\\Anaconda3\\lib\\site-packages\\pandas\\core\\generic.py:4401: SettingWithCopyWarning: \n",
      "A value is trying to be set on a copy of a slice from a DataFrame.\n",
      "Try using .loc[row_indexer,col_indexer] = value instead\n",
      "\n",
      "See the caveats in the documentation: http://pandas.pydata.org/pandas-docs/stable/indexing.html#indexing-view-versus-copy\n",
      "  self[name] = value\n"
     ]
    }
   ],
   "source": [
    "test = reg_name_change(test, \"welfare/senior\", \"아파트\", \"delete\")"
   ]
  },
  {
   "cell_type": "markdown",
   "metadata": {},
   "source": [
    "교회 -> church"
   ]
  },
  {
   "cell_type": "code",
   "execution_count": 166,
   "metadata": {},
   "outputs": [
    {
     "name": "stderr",
     "output_type": "stream",
     "text": [
      "C:\\Users\\user\\Anaconda3\\lib\\site-packages\\pandas\\core\\generic.py:4401: SettingWithCopyWarning: \n",
      "A value is trying to be set on a copy of a slice from a DataFrame.\n",
      "Try using .loc[row_indexer,col_indexer] = value instead\n",
      "\n",
      "See the caveats in the documentation: http://pandas.pydata.org/pandas-docs/stable/indexing.html#indexing-view-versus-copy\n",
      "  self[name] = value\n"
     ]
    }
   ],
   "source": [
    "test = reg_name_change(test, \"welfare/senior\", \"교회\", \"church\")"
   ]
  },
  {
   "cell_type": "markdown",
   "metadata": {},
   "source": [
    "# 33. welfare/disabled (수정사항 없음)"
   ]
  },
  {
   "cell_type": "code",
   "execution_count": 167,
   "metadata": {},
   "outputs": [],
   "source": [
    "# test[test.category == \"welfare/disabled\"].place_name.unique()"
   ]
  },
  {
   "cell_type": "markdown",
   "metadata": {},
   "source": [
    "# 34. 이외 사회복지시설 welfare/etc (수정사항 없음)"
   ]
  },
  {
   "cell_type": "code",
   "execution_count": 168,
   "metadata": {},
   "outputs": [],
   "source": [
    "# test[test.category == \"welfare/etc\"].place_name.unique()"
   ]
  },
  {
   "cell_type": "markdown",
   "metadata": {},
   "source": [
    "# 35. training facility\n",
    "통합"
   ]
  },
  {
   "cell_type": "code",
   "execution_count": 169,
   "metadata": {},
   "outputs": [
    {
     "data": {
      "text/plain": [
       "array(['서울특별시립강동청소년수련관', '서울특별시립 노원청소년수련관'], dtype=object)"
      ]
     },
     "execution_count": 169,
     "metadata": {},
     "output_type": "execute_result"
    }
   ],
   "source": [
    "test[test.category == \"training facility/urban\"].place_name.unique()"
   ]
  },
  {
   "cell_type": "code",
   "execution_count": 170,
   "metadata": {},
   "outputs": [
    {
     "data": {
      "text/plain": [
       "array(['강북청소년수련관'], dtype=object)"
      ]
     },
     "execution_count": 170,
     "metadata": {},
     "output_type": "execute_result"
    }
   ],
   "source": [
    "test[test.category == \"training facility/rural\"].place_name.unique()"
   ]
  },
  {
   "cell_type": "code",
   "execution_count": 171,
   "metadata": {},
   "outputs": [
    {
     "name": "stdout",
     "output_type": "stream",
     "text": [
      "전체 category 개수\n",
      "41\n",
      "\n",
      "이 전 training facility/rural 해당 category 개수 : \n",
      "index                      12\n",
      "category                   12\n",
      "lat                        12\n",
      "lon                        12\n",
      "place_address              12\n",
      "place_id                   12\n",
      "place_name                 12\n",
      "facility_available_name    12\n",
      "facility_is_available      12\n",
      "facility_id                12\n",
      "dtype: int64\n",
      "\n",
      "이 후 training facility/rural 해당 category 개수 : \n",
      "index                      36\n",
      "category                   36\n",
      "lat                        36\n",
      "lon                        36\n",
      "place_address              36\n",
      "place_id                   36\n",
      "place_name                 36\n",
      "facility_available_name    36\n",
      "facility_is_available      36\n",
      "facility_id                36\n",
      "dtype: int64\n",
      "\n",
      "전체 category 개수\n",
      "40\n"
     ]
    },
    {
     "name": "stderr",
     "output_type": "stream",
     "text": [
      "C:\\Users\\user\\Anaconda3\\lib\\site-packages\\pandas\\core\\generic.py:4401: SettingWithCopyWarning: \n",
      "A value is trying to be set on a copy of a slice from a DataFrame.\n",
      "Try using .loc[row_indexer,col_indexer] = value instead\n",
      "\n",
      "See the caveats in the documentation: http://pandas.pydata.org/pandas-docs/stable/indexing.html#indexing-view-versus-copy\n",
      "  self[name] = value\n"
     ]
    }
   ],
   "source": [
    "test = category_sum(test, \"training facility/urban\" , \"training facility/rural\")"
   ]
  },
  {
   "cell_type": "code",
   "execution_count": 172,
   "metadata": {},
   "outputs": [
    {
     "name": "stdout",
     "output_type": "stream",
     "text": [
      "전체 category 개수\n",
      "40\n",
      "\n",
      "이 전 training facility 해당 category 개수 : \n",
      "index                     NaN\n",
      "category                  NaN\n",
      "lat                       NaN\n",
      "lon                       NaN\n",
      "place_address             NaN\n",
      "place_id                  NaN\n",
      "place_name                NaN\n",
      "facility_available_name   NaN\n",
      "facility_is_available     NaN\n",
      "facility_id               NaN\n",
      "dtype: float64\n",
      "\n",
      "이 후 training facility 해당 category 개수 : \n",
      "index                      36\n",
      "category                   36\n",
      "lat                        36\n",
      "lon                        36\n",
      "place_address              36\n",
      "place_id                   36\n",
      "place_name                 36\n",
      "facility_available_name    36\n",
      "facility_is_available      36\n",
      "facility_id                36\n",
      "dtype: int64\n",
      "\n",
      "전체 category 개수\n",
      "40\n"
     ]
    },
    {
     "name": "stderr",
     "output_type": "stream",
     "text": [
      "C:\\Users\\user\\Anaconda3\\lib\\site-packages\\pandas\\core\\generic.py:4401: SettingWithCopyWarning: \n",
      "A value is trying to be set on a copy of a slice from a DataFrame.\n",
      "Try using .loc[row_indexer,col_indexer] = value instead\n",
      "\n",
      "See the caveats in the documentation: http://pandas.pydata.org/pandas-docs/stable/indexing.html#indexing-view-versus-copy\n",
      "  self[name] = value\n"
     ]
    }
   ],
   "source": [
    "test = category_sum(test, \"training facility/rural\" , \"training facility\")"
   ]
  },
  {
   "cell_type": "markdown",
   "metadata": {},
   "source": [
    "# 36. special-education school"
   ]
  },
  {
   "cell_type": "code",
   "execution_count": 173,
   "metadata": {},
   "outputs": [],
   "source": [
    "# test[test.category == \"special-education school\"].place_name.unique()"
   ]
  },
  {
   "cell_type": "markdown",
   "metadata": {},
   "source": [
    "# 37. kindergarten"
   ]
  },
  {
   "cell_type": "code",
   "execution_count": 174,
   "metadata": {},
   "outputs": [],
   "source": [
    "# test[test.category == \"kindergarten\"].place_name.unique()"
   ]
  },
  {
   "cell_type": "code",
   "execution_count": 175,
   "metadata": {},
   "outputs": [
    {
     "name": "stderr",
     "output_type": "stream",
     "text": [
      "C:\\Users\\user\\Anaconda3\\lib\\site-packages\\pandas\\core\\generic.py:4401: SettingWithCopyWarning: \n",
      "A value is trying to be set on a copy of a slice from a DataFrame.\n",
      "Try using .loc[row_indexer,col_indexer] = value instead\n",
      "\n",
      "See the caveats in the documentation: http://pandas.pydata.org/pandas-docs/stable/indexing.html#indexing-view-versus-copy\n",
      "  self[name] = value\n"
     ]
    }
   ],
   "source": [
    "test = reg_name_change(test, \"daycare center\", \"유치원\", \"kindergarten\")"
   ]
  },
  {
   "cell_type": "markdown",
   "metadata": {},
   "source": [
    "# 38. elementary school"
   ]
  },
  {
   "cell_type": "code",
   "execution_count": 176,
   "metadata": {},
   "outputs": [],
   "source": [
    "# test[test.category == \"elementary school\"].place_name.unique()"
   ]
  },
  {
   "cell_type": "markdown",
   "metadata": {},
   "source": [
    "# 39. junior high school"
   ]
  },
  {
   "cell_type": "code",
   "execution_count": 177,
   "metadata": {},
   "outputs": [],
   "source": [
    "# test[test.category == \"junior high school\"].place_name.unique()"
   ]
  },
  {
   "cell_type": "markdown",
   "metadata": {},
   "source": [
    "# 40. high school"
   ]
  },
  {
   "cell_type": "code",
   "execution_count": 178,
   "metadata": {},
   "outputs": [],
   "source": [
    "# test[test.category == \"high school\"].place_name.unique()"
   ]
  },
  {
   "cell_type": "markdown",
   "metadata": {},
   "source": [
    "# 41. college ->university"
   ]
  },
  {
   "cell_type": "code",
   "execution_count": 179,
   "metadata": {},
   "outputs": [
    {
     "name": "stderr",
     "output_type": "stream",
     "text": [
      "C:\\Users\\user\\Anaconda3\\lib\\site-packages\\pandas\\core\\generic.py:4401: SettingWithCopyWarning: \n",
      "A value is trying to be set on a copy of a slice from a DataFrame.\n",
      "Try using .loc[row_indexer,col_indexer] = value instead\n",
      "\n",
      "See the caveats in the documentation: http://pandas.pydata.org/pandas-docs/stable/indexing.html#indexing-view-versus-copy\n",
      "  self[name] = value\n"
     ]
    },
    {
     "name": "stdout",
     "output_type": "stream",
     "text": [
      "전체 category 개수\n",
      "40\n",
      "\n",
      "이 전 university 해당 category 개수 : \n",
      "index                      368\n",
      "category                   368\n",
      "lat                        368\n",
      "lon                        368\n",
      "place_address              368\n",
      "place_id                   368\n",
      "place_name                 368\n",
      "facility_available_name    368\n",
      "facility_is_available      368\n",
      "facility_id                368\n",
      "dtype: int64\n",
      "\n",
      "이 후 university 해당 category 개수 : \n",
      "index                      381\n",
      "category                   381\n",
      "lat                        381\n",
      "lon                        381\n",
      "place_address              381\n",
      "place_id                   381\n",
      "place_name                 381\n",
      "facility_available_name    381\n",
      "facility_is_available      381\n",
      "facility_id                381\n",
      "dtype: int64\n",
      "\n",
      "전체 category 개수\n",
      "39\n"
     ]
    }
   ],
   "source": [
    "test = category_sum(test, \"college\", \"university\")"
   ]
  },
  {
   "cell_type": "code",
   "execution_count": 180,
   "metadata": {},
   "outputs": [],
   "source": [
    "# test[test.category == \"university\"].place_name.unique()"
   ]
  },
  {
   "cell_type": "markdown",
   "metadata": {},
   "source": [
    "# 42. apartment subsidiary facility drop\n",
    "빌딩과 아파트는 제외"
   ]
  },
  {
   "cell_type": "code",
   "execution_count": 181,
   "metadata": {},
   "outputs": [],
   "source": [
    "test = test[test.category != \"apartment subsidiary facility\"]"
   ]
  },
  {
   "cell_type": "code",
   "execution_count": 182,
   "metadata": {},
   "outputs": [],
   "source": [
    "test.drop(columns=\"index\",inplace=True)"
   ]
  },
  {
   "cell_type": "code",
   "execution_count": 183,
   "metadata": {},
   "outputs": [],
   "source": [
    "test.reset_index(inplace=True)"
   ]
  },
  {
   "cell_type": "markdown",
   "metadata": {},
   "source": [
    "# 43. park\n",
    "city park, nature park  -> park"
   ]
  },
  {
   "cell_type": "code",
   "execution_count": 184,
   "metadata": {},
   "outputs": [
    {
     "name": "stdout",
     "output_type": "stream",
     "text": [
      "전체 category 개수\n",
      "38\n",
      "\n",
      "이 전 park 해당 category 개수 : \n",
      "index                     NaN\n",
      "category                  NaN\n",
      "lat                       NaN\n",
      "lon                       NaN\n",
      "place_address             NaN\n",
      "place_id                  NaN\n",
      "place_name                NaN\n",
      "facility_available_name   NaN\n",
      "facility_is_available     NaN\n",
      "facility_id               NaN\n",
      "dtype: float64\n",
      "\n",
      "이 후 park 해당 category 개수 : \n",
      "index                      283\n",
      "category                   283\n",
      "lat                        283\n",
      "lon                        283\n",
      "place_address              283\n",
      "place_id                   283\n",
      "place_name                 283\n",
      "facility_available_name    283\n",
      "facility_is_available      283\n",
      "facility_id                283\n",
      "dtype: int64\n",
      "\n",
      "전체 category 개수\n",
      "38\n"
     ]
    },
    {
     "name": "stderr",
     "output_type": "stream",
     "text": [
      "C:\\Users\\user\\Anaconda3\\lib\\site-packages\\pandas\\core\\generic.py:4401: SettingWithCopyWarning: \n",
      "A value is trying to be set on a copy of a slice from a DataFrame.\n",
      "Try using .loc[row_indexer,col_indexer] = value instead\n",
      "\n",
      "See the caveats in the documentation: http://pandas.pydata.org/pandas-docs/stable/indexing.html#indexing-view-versus-copy\n",
      "  self[name] = value\n"
     ]
    }
   ],
   "source": [
    "test = category_sum(test, \"city park\", \"park\")"
   ]
  },
  {
   "cell_type": "code",
   "execution_count": 185,
   "metadata": {
    "scrolled": false
   },
   "outputs": [
    {
     "name": "stdout",
     "output_type": "stream",
     "text": [
      "전체 category 개수\n",
      "38\n",
      "\n",
      "이 전 park 해당 category 개수 : \n",
      "index                      283\n",
      "category                   283\n",
      "lat                        283\n",
      "lon                        283\n",
      "place_address              283\n",
      "place_id                   283\n",
      "place_name                 283\n",
      "facility_available_name    283\n",
      "facility_is_available      283\n",
      "facility_id                283\n",
      "dtype: int64\n",
      "\n",
      "이 후 park 해당 category 개수 : \n",
      "index                      392\n",
      "category                   392\n",
      "lat                        392\n",
      "lon                        392\n",
      "place_address              392\n",
      "place_id                   392\n",
      "place_name                 392\n",
      "facility_available_name    392\n",
      "facility_is_available      392\n",
      "facility_id                392\n",
      "dtype: int64\n",
      "\n",
      "전체 category 개수\n",
      "37\n"
     ]
    },
    {
     "name": "stderr",
     "output_type": "stream",
     "text": [
      "C:\\Users\\user\\Anaconda3\\lib\\site-packages\\pandas\\core\\generic.py:4401: SettingWithCopyWarning: \n",
      "A value is trying to be set on a copy of a slice from a DataFrame.\n",
      "Try using .loc[row_indexer,col_indexer] = value instead\n",
      "\n",
      "See the caveats in the documentation: http://pandas.pydata.org/pandas-docs/stable/indexing.html#indexing-view-versus-copy\n",
      "  self[name] = value\n"
     ]
    }
   ],
   "source": [
    "test = category_sum(test, \"nature park\", \"park\")"
   ]
  },
  {
   "cell_type": "markdown",
   "metadata": {},
   "source": [
    "# 44. toilet/open (수정사항 없음)"
   ]
  },
  {
   "cell_type": "code",
   "execution_count": 186,
   "metadata": {},
   "outputs": [
    {
     "data": {
      "text/plain": [
       "array(['남대문시장 화장실', '광희동 화장실', '신당 1호 화장실', ...,\n",
       "       '양재천무인자동화장실(교총삼거리둑마루) 화장실', '살곶이 진출 화장실', '자전거체험장 화장실'],\n",
       "      dtype=object)"
      ]
     },
     "execution_count": 186,
     "metadata": {},
     "output_type": "execute_result"
    }
   ],
   "source": [
    "test[test.category == \"toilet/open\"].place_name.unique()"
   ]
  },
  {
   "cell_type": "markdown",
   "metadata": {},
   "source": [
    "# 45. toilet/small (수정사항 없음)"
   ]
  },
  {
   "cell_type": "code",
   "execution_count": 187,
   "metadata": {
    "scrolled": true
   },
   "outputs": [
    {
     "data": {
      "text/plain": [
       "array(['상록(현충) 화장실', '학수(현충) 화장실', '비계(현충) 화장실', '정금(현충) 화장실',\n",
       "       '달마사입구(현충) 화장실', '까치산 화장실', '장승배드민턴장(상도) 화장실', '초소앞(상도) 화장실',\n",
       "       '달마(현충) 화장실'], dtype=object)"
      ]
     },
     "execution_count": 187,
     "metadata": {},
     "output_type": "execute_result"
    }
   ],
   "source": [
    "test[test.category == \"toilet/small\"].place_name.unique()"
   ]
  },
  {
   "cell_type": "markdown",
   "metadata": {},
   "source": [
    "# 46. other"
   ]
  },
  {
   "cell_type": "code",
   "execution_count": 188,
   "metadata": {
    "scrolled": false
   },
   "outputs": [],
   "source": [
    "# test[test.category == \"other\"].place_name.unique()"
   ]
  },
  {
   "cell_type": "markdown",
   "metadata": {},
   "source": [
    "수련 -> training facility"
   ]
  },
  {
   "cell_type": "code",
   "execution_count": 189,
   "metadata": {},
   "outputs": [
    {
     "name": "stderr",
     "output_type": "stream",
     "text": [
      "C:\\Users\\user\\Anaconda3\\lib\\site-packages\\pandas\\core\\generic.py:4401: SettingWithCopyWarning: \n",
      "A value is trying to be set on a copy of a slice from a DataFrame.\n",
      "Try using .loc[row_indexer,col_indexer] = value instead\n",
      "\n",
      "See the caveats in the documentation: http://pandas.pydata.org/pandas-docs/stable/indexing.html#indexing-view-versus-copy\n",
      "  self[name] = value\n"
     ]
    }
   ],
   "source": [
    "test = reg_name_change(test, \"other\", \"수련\", \"training facility\")"
   ]
  },
  {
   "cell_type": "markdown",
   "metadata": {},
   "source": [
    "노인회관 -> welfare/senior"
   ]
  },
  {
   "cell_type": "code",
   "execution_count": 190,
   "metadata": {},
   "outputs": [
    {
     "name": "stderr",
     "output_type": "stream",
     "text": [
      "C:\\Users\\user\\Anaconda3\\lib\\site-packages\\pandas\\core\\generic.py:4401: SettingWithCopyWarning: \n",
      "A value is trying to be set on a copy of a slice from a DataFrame.\n",
      "Try using .loc[row_indexer,col_indexer] = value instead\n",
      "\n",
      "See the caveats in the documentation: http://pandas.pydata.org/pandas-docs/stable/indexing.html#indexing-view-versus-copy\n",
      "  self[name] = value\n"
     ]
    }
   ],
   "source": [
    "test = reg_name_change(test, \"other\", \"노인회관\", \"welfare/senior\")"
   ]
  },
  {
   "cell_type": "markdown",
   "metadata": {},
   "source": [
    "법당, 륭사, 룡사, 정법사, 기독교, 관음사, 교회, 불교, 성당, 종교  -> church"
   ]
  },
  {
   "cell_type": "code",
   "execution_count": 191,
   "metadata": {},
   "outputs": [
    {
     "name": "stderr",
     "output_type": "stream",
     "text": [
      "C:\\Users\\user\\Anaconda3\\lib\\site-packages\\pandas\\core\\generic.py:4401: SettingWithCopyWarning: \n",
      "A value is trying to be set on a copy of a slice from a DataFrame.\n",
      "Try using .loc[row_indexer,col_indexer] = value instead\n",
      "\n",
      "See the caveats in the documentation: http://pandas.pydata.org/pandas-docs/stable/indexing.html#indexing-view-versus-copy\n",
      "  self[name] = value\n"
     ]
    }
   ],
   "source": [
    "test = reg_name_change(test, \"other\", \"법당\", \"church\")"
   ]
  },
  {
   "cell_type": "code",
   "execution_count": 192,
   "metadata": {},
   "outputs": [
    {
     "name": "stderr",
     "output_type": "stream",
     "text": [
      "C:\\Users\\user\\Anaconda3\\lib\\site-packages\\pandas\\core\\generic.py:4401: SettingWithCopyWarning: \n",
      "A value is trying to be set on a copy of a slice from a DataFrame.\n",
      "Try using .loc[row_indexer,col_indexer] = value instead\n",
      "\n",
      "See the caveats in the documentation: http://pandas.pydata.org/pandas-docs/stable/indexing.html#indexing-view-versus-copy\n",
      "  self[name] = value\n"
     ]
    }
   ],
   "source": [
    "test = reg_name_change(test, \"other\", \"륭사\", \"church\")"
   ]
  },
  {
   "cell_type": "code",
   "execution_count": 193,
   "metadata": {},
   "outputs": [
    {
     "name": "stderr",
     "output_type": "stream",
     "text": [
      "C:\\Users\\user\\Anaconda3\\lib\\site-packages\\pandas\\core\\generic.py:4401: SettingWithCopyWarning: \n",
      "A value is trying to be set on a copy of a slice from a DataFrame.\n",
      "Try using .loc[row_indexer,col_indexer] = value instead\n",
      "\n",
      "See the caveats in the documentation: http://pandas.pydata.org/pandas-docs/stable/indexing.html#indexing-view-versus-copy\n",
      "  self[name] = value\n"
     ]
    }
   ],
   "source": [
    "test = reg_name_change(test, \"other\", \"룡사\", \"church\")"
   ]
  },
  {
   "cell_type": "code",
   "execution_count": 194,
   "metadata": {},
   "outputs": [
    {
     "name": "stderr",
     "output_type": "stream",
     "text": [
      "C:\\Users\\user\\Anaconda3\\lib\\site-packages\\pandas\\core\\generic.py:4401: SettingWithCopyWarning: \n",
      "A value is trying to be set on a copy of a slice from a DataFrame.\n",
      "Try using .loc[row_indexer,col_indexer] = value instead\n",
      "\n",
      "See the caveats in the documentation: http://pandas.pydata.org/pandas-docs/stable/indexing.html#indexing-view-versus-copy\n",
      "  self[name] = value\n"
     ]
    }
   ],
   "source": [
    "test = reg_name_change(test, \"other\", \"정법사\", \"church\")"
   ]
  },
  {
   "cell_type": "code",
   "execution_count": 195,
   "metadata": {},
   "outputs": [
    {
     "name": "stderr",
     "output_type": "stream",
     "text": [
      "C:\\Users\\user\\Anaconda3\\lib\\site-packages\\pandas\\core\\generic.py:4401: SettingWithCopyWarning: \n",
      "A value is trying to be set on a copy of a slice from a DataFrame.\n",
      "Try using .loc[row_indexer,col_indexer] = value instead\n",
      "\n",
      "See the caveats in the documentation: http://pandas.pydata.org/pandas-docs/stable/indexing.html#indexing-view-versus-copy\n",
      "  self[name] = value\n"
     ]
    }
   ],
   "source": [
    "test = reg_name_change(test, \"other\", \"기독교\", \"church\")"
   ]
  },
  {
   "cell_type": "code",
   "execution_count": 196,
   "metadata": {},
   "outputs": [
    {
     "name": "stderr",
     "output_type": "stream",
     "text": [
      "C:\\Users\\user\\Anaconda3\\lib\\site-packages\\pandas\\core\\generic.py:4401: SettingWithCopyWarning: \n",
      "A value is trying to be set on a copy of a slice from a DataFrame.\n",
      "Try using .loc[row_indexer,col_indexer] = value instead\n",
      "\n",
      "See the caveats in the documentation: http://pandas.pydata.org/pandas-docs/stable/indexing.html#indexing-view-versus-copy\n",
      "  self[name] = value\n"
     ]
    }
   ],
   "source": [
    "test = reg_name_change(test, \"other\", \"관음사\", \"church\")"
   ]
  },
  {
   "cell_type": "code",
   "execution_count": 197,
   "metadata": {},
   "outputs": [
    {
     "name": "stderr",
     "output_type": "stream",
     "text": [
      "C:\\Users\\user\\Anaconda3\\lib\\site-packages\\pandas\\core\\generic.py:4401: SettingWithCopyWarning: \n",
      "A value is trying to be set on a copy of a slice from a DataFrame.\n",
      "Try using .loc[row_indexer,col_indexer] = value instead\n",
      "\n",
      "See the caveats in the documentation: http://pandas.pydata.org/pandas-docs/stable/indexing.html#indexing-view-versus-copy\n",
      "  self[name] = value\n"
     ]
    }
   ],
   "source": [
    "test = reg_name_change(test, \"other\", \"교회\", \"church\")"
   ]
  },
  {
   "cell_type": "code",
   "execution_count": 198,
   "metadata": {
    "scrolled": true
   },
   "outputs": [
    {
     "name": "stderr",
     "output_type": "stream",
     "text": [
      "C:\\Users\\user\\Anaconda3\\lib\\site-packages\\pandas\\core\\generic.py:4401: SettingWithCopyWarning: \n",
      "A value is trying to be set on a copy of a slice from a DataFrame.\n",
      "Try using .loc[row_indexer,col_indexer] = value instead\n",
      "\n",
      "See the caveats in the documentation: http://pandas.pydata.org/pandas-docs/stable/indexing.html#indexing-view-versus-copy\n",
      "  self[name] = value\n"
     ]
    }
   ],
   "source": [
    "test = reg_name_change(test, \"other\", \"불교\", \"church\")"
   ]
  },
  {
   "cell_type": "code",
   "execution_count": 199,
   "metadata": {},
   "outputs": [
    {
     "name": "stderr",
     "output_type": "stream",
     "text": [
      "C:\\Users\\user\\Anaconda3\\lib\\site-packages\\pandas\\core\\generic.py:4401: SettingWithCopyWarning: \n",
      "A value is trying to be set on a copy of a slice from a DataFrame.\n",
      "Try using .loc[row_indexer,col_indexer] = value instead\n",
      "\n",
      "See the caveats in the documentation: http://pandas.pydata.org/pandas-docs/stable/indexing.html#indexing-view-versus-copy\n",
      "  self[name] = value\n"
     ]
    }
   ],
   "source": [
    "test = reg_name_change(test, \"other\", \"성당\", \"church\")"
   ]
  },
  {
   "cell_type": "code",
   "execution_count": 200,
   "metadata": {},
   "outputs": [
    {
     "name": "stderr",
     "output_type": "stream",
     "text": [
      "C:\\Users\\user\\Anaconda3\\lib\\site-packages\\pandas\\core\\generic.py:4401: SettingWithCopyWarning: \n",
      "A value is trying to be set on a copy of a slice from a DataFrame.\n",
      "Try using .loc[row_indexer,col_indexer] = value instead\n",
      "\n",
      "See the caveats in the documentation: http://pandas.pydata.org/pandas-docs/stable/indexing.html#indexing-view-versus-copy\n",
      "  self[name] = value\n"
     ]
    }
   ],
   "source": [
    "test = reg_name_change(test, \"other\", \"종교\", \"church\")"
   ]
  },
  {
   "cell_type": "markdown",
   "metadata": {},
   "source": [
    "수영장, 체육, 스포츠 -> gym"
   ]
  },
  {
   "cell_type": "code",
   "execution_count": 201,
   "metadata": {},
   "outputs": [
    {
     "name": "stderr",
     "output_type": "stream",
     "text": [
      "C:\\Users\\user\\Anaconda3\\lib\\site-packages\\pandas\\core\\generic.py:4401: SettingWithCopyWarning: \n",
      "A value is trying to be set on a copy of a slice from a DataFrame.\n",
      "Try using .loc[row_indexer,col_indexer] = value instead\n",
      "\n",
      "See the caveats in the documentation: http://pandas.pydata.org/pandas-docs/stable/indexing.html#indexing-view-versus-copy\n",
      "  self[name] = value\n"
     ]
    }
   ],
   "source": [
    "test = reg_name_change(test, \"other\", \"수영장\", \"gym\")"
   ]
  },
  {
   "cell_type": "code",
   "execution_count": 202,
   "metadata": {
    "scrolled": false
   },
   "outputs": [
    {
     "name": "stderr",
     "output_type": "stream",
     "text": [
      "C:\\Users\\user\\Anaconda3\\lib\\site-packages\\pandas\\core\\generic.py:4401: SettingWithCopyWarning: \n",
      "A value is trying to be set on a copy of a slice from a DataFrame.\n",
      "Try using .loc[row_indexer,col_indexer] = value instead\n",
      "\n",
      "See the caveats in the documentation: http://pandas.pydata.org/pandas-docs/stable/indexing.html#indexing-view-versus-copy\n",
      "  self[name] = value\n"
     ]
    }
   ],
   "source": [
    "test = reg_name_change(test, \"other\", \"체육\", \"gym\")"
   ]
  },
  {
   "cell_type": "code",
   "execution_count": 203,
   "metadata": {},
   "outputs": [
    {
     "name": "stderr",
     "output_type": "stream",
     "text": [
      "C:\\Users\\user\\Anaconda3\\lib\\site-packages\\pandas\\core\\generic.py:4401: SettingWithCopyWarning: \n",
      "A value is trying to be set on a copy of a slice from a DataFrame.\n",
      "Try using .loc[row_indexer,col_indexer] = value instead\n",
      "\n",
      "See the caveats in the documentation: http://pandas.pydata.org/pandas-docs/stable/indexing.html#indexing-view-versus-copy\n",
      "  self[name] = value\n"
     ]
    }
   ],
   "source": [
    "test = reg_name_change(test, \"other\", \"스포츠\", \"gym\")"
   ]
  },
  {
   "cell_type": "markdown",
   "metadata": {},
   "source": [
    "도서관 -> library"
   ]
  },
  {
   "cell_type": "code",
   "execution_count": 204,
   "metadata": {},
   "outputs": [
    {
     "name": "stderr",
     "output_type": "stream",
     "text": [
      "C:\\Users\\user\\Anaconda3\\lib\\site-packages\\pandas\\core\\generic.py:4401: SettingWithCopyWarning: \n",
      "A value is trying to be set on a copy of a slice from a DataFrame.\n",
      "Try using .loc[row_indexer,col_indexer] = value instead\n",
      "\n",
      "See the caveats in the documentation: http://pandas.pydata.org/pandas-docs/stable/indexing.html#indexing-view-versus-copy\n",
      "  self[name] = value\n"
     ]
    }
   ],
   "source": [
    "test = reg_name_change(test, \"other\", \"도서관\", \"library\")"
   ]
  },
  {
   "cell_type": "markdown",
   "metadata": {},
   "source": [
    "쇼핑 -> shopping/mart"
   ]
  },
  {
   "cell_type": "code",
   "execution_count": 205,
   "metadata": {
    "scrolled": false
   },
   "outputs": [
    {
     "name": "stderr",
     "output_type": "stream",
     "text": [
      "C:\\Users\\user\\Anaconda3\\lib\\site-packages\\pandas\\core\\generic.py:4401: SettingWithCopyWarning: \n",
      "A value is trying to be set on a copy of a slice from a DataFrame.\n",
      "Try using .loc[row_indexer,col_indexer] = value instead\n",
      "\n",
      "See the caveats in the documentation: http://pandas.pydata.org/pandas-docs/stable/indexing.html#indexing-view-versus-copy\n",
      "  self[name] = value\n"
     ]
    }
   ],
   "source": [
    "test = reg_name_change(test, \"other\", \"쇼핑\", \"shopping/mart\")"
   ]
  },
  {
   "cell_type": "markdown",
   "metadata": {},
   "source": [
    "사우나 -> beauty/hair"
   ]
  },
  {
   "cell_type": "code",
   "execution_count": 206,
   "metadata": {
    "scrolled": true
   },
   "outputs": [
    {
     "name": "stderr",
     "output_type": "stream",
     "text": [
      "C:\\Users\\user\\Anaconda3\\lib\\site-packages\\pandas\\core\\generic.py:4401: SettingWithCopyWarning: \n",
      "A value is trying to be set on a copy of a slice from a DataFrame.\n",
      "Try using .loc[row_indexer,col_indexer] = value instead\n",
      "\n",
      "See the caveats in the documentation: http://pandas.pydata.org/pandas-docs/stable/indexing.html#indexing-view-versus-copy\n",
      "  self[name] = value\n"
     ]
    }
   ],
   "source": [
    "test = reg_name_change(test, \"other\", \"사우나\", \"beauty/hair\")"
   ]
  },
  {
   "cell_type": "markdown",
   "metadata": {},
   "source": [
    "교육, 시험, 학원 -> education/job"
   ]
  },
  {
   "cell_type": "code",
   "execution_count": 207,
   "metadata": {
    "scrolled": true
   },
   "outputs": [
    {
     "name": "stderr",
     "output_type": "stream",
     "text": [
      "C:\\Users\\user\\Anaconda3\\lib\\site-packages\\pandas\\core\\generic.py:4401: SettingWithCopyWarning: \n",
      "A value is trying to be set on a copy of a slice from a DataFrame.\n",
      "Try using .loc[row_indexer,col_indexer] = value instead\n",
      "\n",
      "See the caveats in the documentation: http://pandas.pydata.org/pandas-docs/stable/indexing.html#indexing-view-versus-copy\n",
      "  self[name] = value\n"
     ]
    }
   ],
   "source": [
    "test = reg_name_change(test, \"other\", \"학원\", \"education/job\")"
   ]
  },
  {
   "cell_type": "code",
   "execution_count": 208,
   "metadata": {
    "scrolled": true
   },
   "outputs": [
    {
     "name": "stderr",
     "output_type": "stream",
     "text": [
      "C:\\Users\\user\\Anaconda3\\lib\\site-packages\\pandas\\core\\generic.py:4401: SettingWithCopyWarning: \n",
      "A value is trying to be set on a copy of a slice from a DataFrame.\n",
      "Try using .loc[row_indexer,col_indexer] = value instead\n",
      "\n",
      "See the caveats in the documentation: http://pandas.pydata.org/pandas-docs/stable/indexing.html#indexing-view-versus-copy\n",
      "  self[name] = value\n"
     ]
    }
   ],
   "source": [
    "test = reg_name_change(test, \"other\", \"시험\", \"education/job\")"
   ]
  },
  {
   "cell_type": "code",
   "execution_count": 209,
   "metadata": {},
   "outputs": [
    {
     "name": "stderr",
     "output_type": "stream",
     "text": [
      "C:\\Users\\user\\Anaconda3\\lib\\site-packages\\pandas\\core\\generic.py:4401: SettingWithCopyWarning: \n",
      "A value is trying to be set on a copy of a slice from a DataFrame.\n",
      "Try using .loc[row_indexer,col_indexer] = value instead\n",
      "\n",
      "See the caveats in the documentation: http://pandas.pydata.org/pandas-docs/stable/indexing.html#indexing-view-versus-copy\n",
      "  self[name] = value\n"
     ]
    }
   ],
   "source": [
    "test = reg_name_change(test, \"other\", \"교육\", \"education/job\")"
   ]
  },
  {
   "cell_type": "markdown",
   "metadata": {},
   "source": [
    "운동장 -> park"
   ]
  },
  {
   "cell_type": "code",
   "execution_count": 210,
   "metadata": {},
   "outputs": [
    {
     "name": "stderr",
     "output_type": "stream",
     "text": [
      "C:\\Users\\user\\Anaconda3\\lib\\site-packages\\pandas\\core\\generic.py:4401: SettingWithCopyWarning: \n",
      "A value is trying to be set on a copy of a slice from a DataFrame.\n",
      "Try using .loc[row_indexer,col_indexer] = value instead\n",
      "\n",
      "See the caveats in the documentation: http://pandas.pydata.org/pandas-docs/stable/indexing.html#indexing-view-versus-copy\n",
      "  self[name] = value\n"
     ]
    }
   ],
   "source": [
    "test = reg_name_change(test, \"other\", \"운동장\", \"park\")"
   ]
  },
  {
   "cell_type": "markdown",
   "metadata": {},
   "source": [
    "센터 -> community service center"
   ]
  },
  {
   "cell_type": "code",
   "execution_count": 211,
   "metadata": {},
   "outputs": [
    {
     "name": "stderr",
     "output_type": "stream",
     "text": [
      "C:\\Users\\user\\Anaconda3\\lib\\site-packages\\pandas\\core\\generic.py:4401: SettingWithCopyWarning: \n",
      "A value is trying to be set on a copy of a slice from a DataFrame.\n",
      "Try using .loc[row_indexer,col_indexer] = value instead\n",
      "\n",
      "See the caveats in the documentation: http://pandas.pydata.org/pandas-docs/stable/indexing.html#indexing-view-versus-copy\n",
      "  self[name] = value\n"
     ]
    }
   ],
   "source": [
    "test = reg_name_change(test, \"other\", \"센터\", \"community service center\")"
   ]
  },
  {
   "cell_type": "markdown",
   "metadata": {},
   "source": [
    "아파트, 타워 -> delete"
   ]
  },
  {
   "cell_type": "code",
   "execution_count": 212,
   "metadata": {
    "scrolled": true
   },
   "outputs": [
    {
     "name": "stderr",
     "output_type": "stream",
     "text": [
      "C:\\Users\\user\\Anaconda3\\lib\\site-packages\\pandas\\core\\generic.py:4401: SettingWithCopyWarning: \n",
      "A value is trying to be set on a copy of a slice from a DataFrame.\n",
      "Try using .loc[row_indexer,col_indexer] = value instead\n",
      "\n",
      "See the caveats in the documentation: http://pandas.pydata.org/pandas-docs/stable/indexing.html#indexing-view-versus-copy\n",
      "  self[name] = value\n"
     ]
    },
    {
     "name": "stdout",
     "output_type": "stream",
     "text": [
      "전체 category 개수\n",
      "37\n",
      "\n",
      "이 전 delete 해당 category 개수 : \n",
      "index                      7062\n",
      "category                   7062\n",
      "lat                        7062\n",
      "lon                        7062\n",
      "place_address              7062\n",
      "place_id                   7062\n",
      "place_name                 7062\n",
      "facility_available_name    7062\n",
      "facility_is_available      7062\n",
      "facility_id                7062\n",
      "dtype: int64\n",
      "\n",
      "이 후 delete 해당 category 개수 : \n",
      "index                      7976\n",
      "category                   7976\n",
      "lat                        7976\n",
      "lon                        7976\n",
      "place_address              7976\n",
      "place_id                   7976\n",
      "place_name                 7976\n",
      "facility_available_name    7976\n",
      "facility_is_available      7976\n",
      "facility_id                7976\n",
      "dtype: int64\n",
      "\n",
      "전체 category 개수\n",
      "36\n"
     ]
    }
   ],
   "source": [
    "test = category_sum(test, \"other\", \"delete\")"
   ]
  },
  {
   "cell_type": "markdown",
   "metadata": {},
   "source": [
    "# 47. publictoilet -> toilet/public"
   ]
  },
  {
   "cell_type": "code",
   "execution_count": 213,
   "metadata": {},
   "outputs": [
    {
     "name": "stdout",
     "output_type": "stream",
     "text": [
      "전체 category 개수\n",
      "36\n",
      "\n",
      "이 전 toilet/public 해당 category 개수 : \n",
      "index                      104\n",
      "category                   104\n",
      "lat                        104\n",
      "lon                        104\n",
      "place_address              104\n",
      "place_id                   104\n",
      "place_name                 104\n",
      "facility_available_name    104\n",
      "facility_is_available      104\n",
      "facility_id                104\n",
      "dtype: int64\n",
      "\n",
      "이 후 toilet/public 해당 category 개수 : \n",
      "index                      240\n",
      "category                   240\n",
      "lat                        240\n",
      "lon                        240\n",
      "place_address              240\n",
      "place_id                   240\n",
      "place_name                 240\n",
      "facility_available_name    240\n",
      "facility_is_available      240\n",
      "facility_id                240\n",
      "dtype: int64\n",
      "\n",
      "전체 category 개수\n",
      "35\n"
     ]
    },
    {
     "name": "stderr",
     "output_type": "stream",
     "text": [
      "C:\\Users\\user\\Anaconda3\\lib\\site-packages\\pandas\\core\\generic.py:4401: SettingWithCopyWarning: \n",
      "A value is trying to be set on a copy of a slice from a DataFrame.\n",
      "Try using .loc[row_indexer,col_indexer] = value instead\n",
      "\n",
      "See the caveats in the documentation: http://pandas.pydata.org/pandas-docs/stable/indexing.html#indexing-view-versus-copy\n",
      "  self[name] = value\n"
     ]
    }
   ],
   "source": [
    "test = category_sum(test, \"publictoilet\" , \"toilet/public\" )"
   ]
  },
  {
   "cell_type": "markdown",
   "metadata": {},
   "source": [
    "# delete drop"
   ]
  },
  {
   "cell_type": "code",
   "execution_count": 214,
   "metadata": {},
   "outputs": [],
   "source": [
    "test = test[test.category != \"delete\"]"
   ]
  },
  {
   "cell_type": "code",
   "execution_count": 215,
   "metadata": {},
   "outputs": [],
   "source": [
    "test.drop(columns=\"index\", inplace=True)"
   ]
  },
  {
   "cell_type": "code",
   "execution_count": 216,
   "metadata": {},
   "outputs": [],
   "source": [
    "test.reset_index(inplace=True)"
   ]
  },
  {
   "cell_type": "code",
   "execution_count": 217,
   "metadata": {},
   "outputs": [],
   "source": [
    "test.drop(columns=\"index\", inplace=True)"
   ]
  },
  {
   "cell_type": "code",
   "execution_count": 218,
   "metadata": {},
   "outputs": [
    {
     "data": {
      "text/plain": [
       "array(['subway', 'movie/concerthall', 'shopping/mart', 'publicparking',\n",
       "       'toilet/public', 'hospital', 'community service center',\n",
       "       'police station', 'post office', 'health center', 'bank', 'hotel',\n",
       "       'daycare center', 'education/job', 'elementary school',\n",
       "       'high school', 'junior high school', 'kindergarten', 'university',\n",
       "       'special-education school', 'library', 'beauty/hair', 'church',\n",
       "       'gym', 'training facility', 'park', 'welfare/senior', 'restaurant',\n",
       "       'exhibition center', 'welfare/etc', 'welfare/disabled',\n",
       "       'welfare/child', 'toilet/open', 'toilet/small'], dtype=object)"
      ]
     },
     "execution_count": 218,
     "metadata": {},
     "output_type": "execute_result"
    }
   ],
   "source": [
    "test.category.unique()"
   ]
  },
  {
   "cell_type": "code",
   "execution_count": 219,
   "metadata": {},
   "outputs": [
    {
     "name": "stdout",
     "output_type": "stream",
     "text": [
      "<class 'pandas.core.frame.DataFrame'>\n",
      "RangeIndex: 46525 entries, 0 to 46524\n",
      "Data columns (total 9 columns):\n",
      "category                   46525 non-null object\n",
      "lat                        46525 non-null float64\n",
      "lon                        46525 non-null float64\n",
      "place_address              46525 non-null object\n",
      "place_id                   46525 non-null int64\n",
      "place_name                 46525 non-null object\n",
      "facility_available_name    46525 non-null object\n",
      "facility_is_available      46525 non-null object\n",
      "facility_id                46525 non-null int64\n",
      "dtypes: float64(2), int64(2), object(5)\n",
      "memory usage: 3.2+ MB\n"
     ]
    }
   ],
   "source": [
    "test.info()"
   ]
  },
  {
   "cell_type": "code",
   "execution_count": 220,
   "metadata": {},
   "outputs": [
    {
     "data": {
      "text/plain": [
       "8359"
      ]
     },
     "execution_count": 220,
     "metadata": {},
     "output_type": "execute_result"
    }
   ],
   "source": [
    "len(test.place_name.unique())"
   ]
  },
  {
   "cell_type": "code",
   "execution_count": 221,
   "metadata": {},
   "outputs": [],
   "source": [
    "test.to_csv(\"table_dataclean.csv\")"
   ]
  },
  {
   "cell_type": "code",
   "execution_count": null,
   "metadata": {},
   "outputs": [],
   "source": []
  }
 ],
 "metadata": {
  "kernelspec": {
   "display_name": "Python 3",
   "language": "python",
   "name": "python3"
  },
  "language_info": {
   "codemirror_mode": {
    "name": "ipython",
    "version": 3
   },
   "file_extension": ".py",
   "mimetype": "text/x-python",
   "name": "python",
   "nbconvert_exporter": "python",
   "pygments_lexer": "ipython3",
   "version": "3.6.5"
  }
 },
 "nbformat": 4,
 "nbformat_minor": 2
}
