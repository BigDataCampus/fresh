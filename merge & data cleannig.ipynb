{
 "cells": [
  {
   "cell_type": "markdown",
   "metadata": {},
   "source": [
    "# 데이터 불러오기"
   ]
  },
  {
   "cell_type": "code",
   "execution_count": 27,
   "metadata": {},
   "outputs": [],
   "source": [
    "import pandas as pd"
   ]
  },
  {
   "cell_type": "code",
   "execution_count": 28,
   "metadata": {},
   "outputs": [],
   "source": [
    "data_place = pd.read_csv('ZZANG_PLACE.csv', encoding='utf-8')"
   ]
  },
  {
   "cell_type": "code",
   "execution_count": 29,
   "metadata": {},
   "outputs": [],
   "source": [
    "data_place.drop(columns='Unnamed: 0', inplace=True)"
   ]
  },
  {
   "cell_type": "code",
   "execution_count": 30,
   "metadata": {},
   "outputs": [],
   "source": [
    "data_facility = pd.read_csv('ZZANG_FACILITY.csv', encoding='utf-8')"
   ]
  },
  {
   "cell_type": "code",
   "execution_count": 31,
   "metadata": {},
   "outputs": [],
   "source": [
    "data_facility.drop(columns='Unnamed: 0', inplace=True)"
   ]
  },
  {
   "cell_type": "code",
   "execution_count": 32,
   "metadata": {},
   "outputs": [
    {
     "name": "stdout",
     "output_type": "stream",
     "text": [
      "<class 'pandas.core.frame.DataFrame'>\n",
      "RangeIndex: 112925 entries, 0 to 112924\n",
      "Data columns (total 5 columns):\n",
      "facility_available_name    112925 non-null object\n",
      "facility_is_available      108680 non-null object\n",
      "place_name                 112925 non-null object\n",
      "place_id                   112925 non-null int64\n",
      "facility_id                112925 non-null int64\n",
      "dtypes: int64(2), object(3)\n",
      "memory usage: 4.3+ MB\n"
     ]
    }
   ],
   "source": [
    "data_facility.info()"
   ]
  },
  {
   "cell_type": "code",
   "execution_count": 33,
   "metadata": {},
   "outputs": [
    {
     "name": "stdout",
     "output_type": "stream",
     "text": [
      "<class 'pandas.core.frame.DataFrame'>\n",
      "RangeIndex: 16844 entries, 0 to 16843\n",
      "Data columns (total 6 columns):\n",
      "category         16844 non-null object\n",
      "lat              16844 non-null float64\n",
      "lon              16844 non-null float64\n",
      "place_address    16523 non-null object\n",
      "place_id         16844 non-null int64\n",
      "place_name       16844 non-null object\n",
      "dtypes: float64(2), int64(1), object(3)\n",
      "memory usage: 789.6+ KB\n"
     ]
    }
   ],
   "source": [
    "data_place.info()"
   ]
  },
  {
   "cell_type": "markdown",
   "metadata": {},
   "source": [
    "# 중복제거"
   ]
  },
  {
   "cell_type": "code",
   "execution_count": 34,
   "metadata": {
    "scrolled": true
   },
   "outputs": [
    {
     "data": {
      "text/plain": [
       "category         9534\n",
       "lat              9534\n",
       "lon              9534\n",
       "place_address    9526\n",
       "place_id         9534\n",
       "place_name       9534\n",
       "dtype: int64"
      ]
     },
     "execution_count": 34,
     "metadata": {},
     "output_type": "execute_result"
    }
   ],
   "source": [
    "data_place[data_place.duplicated(subset=['place_name'], keep=False)].sort_values('place_name').count()\n",
    "# 주소와 장소 명이 같을 경우 중복"
   ]
  },
  {
   "cell_type": "code",
   "execution_count": 35,
   "metadata": {},
   "outputs": [],
   "source": [
    "data_place.drop_duplicates(subset=['place_name'],inplace=True) "
   ]
  },
  {
   "cell_type": "code",
   "execution_count": 36,
   "metadata": {},
   "outputs": [
    {
     "data": {
      "text/html": [
       "<div>\n",
       "<style scoped>\n",
       "    .dataframe tbody tr th:only-of-type {\n",
       "        vertical-align: middle;\n",
       "    }\n",
       "\n",
       "    .dataframe tbody tr th {\n",
       "        vertical-align: top;\n",
       "    }\n",
       "\n",
       "    .dataframe thead th {\n",
       "        text-align: right;\n",
       "    }\n",
       "</style>\n",
       "<table border=\"1\" class=\"dataframe\">\n",
       "  <thead>\n",
       "    <tr style=\"text-align: right;\">\n",
       "      <th></th>\n",
       "      <th>category</th>\n",
       "      <th>lat</th>\n",
       "      <th>lon</th>\n",
       "      <th>place_address</th>\n",
       "      <th>place_id</th>\n",
       "      <th>place_name</th>\n",
       "    </tr>\n",
       "  </thead>\n",
       "  <tbody>\n",
       "  </tbody>\n",
       "</table>\n",
       "</div>"
      ],
      "text/plain": [
       "Empty DataFrame\n",
       "Columns: [category, lat, lon, place_address, place_id, place_name]\n",
       "Index: []"
      ]
     },
     "execution_count": 36,
     "metadata": {},
     "output_type": "execute_result"
    }
   ],
   "source": [
    "data_place[data_place.duplicated(subset=['place_name','place_address'], keep=False)].sort_values('place_name') # 확인"
   ]
  },
  {
   "cell_type": "code",
   "execution_count": 37,
   "metadata": {},
   "outputs": [],
   "source": [
    "data_place.drop_duplicates(subset=['lat','lon'],inplace=True) #좌표가 같은경우 같은 시설 서울대 서울대학원 서울~~~ "
   ]
  },
  {
   "cell_type": "code",
   "execution_count": 38,
   "metadata": {},
   "outputs": [
    {
     "name": "stdout",
     "output_type": "stream",
     "text": [
      "<class 'pandas.core.frame.DataFrame'>\n",
      "Int64Index: 11179 entries, 0 to 16843\n",
      "Data columns (total 6 columns):\n",
      "category         11179 non-null object\n",
      "lat              11179 non-null float64\n",
      "lon              11179 non-null float64\n",
      "place_address    10867 non-null object\n",
      "place_id         11179 non-null int64\n",
      "place_name       11179 non-null object\n",
      "dtypes: float64(2), int64(1), object(3)\n",
      "memory usage: 611.4+ KB\n"
     ]
    }
   ],
   "source": [
    "data_place.info()"
   ]
  },
  {
   "cell_type": "code",
   "execution_count": 39,
   "metadata": {
    "scrolled": true
   },
   "outputs": [
    {
     "name": "stdout",
     "output_type": "stream",
     "text": [
      "<class 'pandas.core.frame.DataFrame'>\n",
      "RangeIndex: 112925 entries, 0 to 112924\n",
      "Data columns (total 5 columns):\n",
      "facility_available_name    112925 non-null object\n",
      "facility_is_available      108680 non-null object\n",
      "place_name                 112925 non-null object\n",
      "place_id                   112925 non-null int64\n",
      "facility_id                112925 non-null int64\n",
      "dtypes: int64(2), object(3)\n",
      "memory usage: 4.3+ MB\n"
     ]
    }
   ],
   "source": [
    "data_facility.info()"
   ]
  },
  {
   "cell_type": "code",
   "execution_count": 40,
   "metadata": {},
   "outputs": [],
   "source": [
    "data_place.to_csv('main_place_for_analysis.csv')"
   ]
  },
  {
   "cell_type": "markdown",
   "metadata": {},
   "source": [
    "# merge (left join)"
   ]
  },
  {
   "cell_type": "code",
   "execution_count": 41,
   "metadata": {},
   "outputs": [],
   "source": [
    "merge_data = pd.merge(data_place, data_facility, sort= True,on =[ 'place_id','place_id'] ,how = 'left').sort_values(by = ['place_id'])"
   ]
  },
  {
   "cell_type": "code",
   "execution_count": 42,
   "metadata": {},
   "outputs": [
    {
     "data": {
      "text/html": [
       "<div>\n",
       "<style scoped>\n",
       "    .dataframe tbody tr th:only-of-type {\n",
       "        vertical-align: middle;\n",
       "    }\n",
       "\n",
       "    .dataframe tbody tr th {\n",
       "        vertical-align: top;\n",
       "    }\n",
       "\n",
       "    .dataframe thead th {\n",
       "        text-align: right;\n",
       "    }\n",
       "</style>\n",
       "<table border=\"1\" class=\"dataframe\">\n",
       "  <thead>\n",
       "    <tr style=\"text-align: right;\">\n",
       "      <th></th>\n",
       "      <th>category</th>\n",
       "      <th>lat</th>\n",
       "      <th>lon</th>\n",
       "      <th>place_address</th>\n",
       "      <th>place_id</th>\n",
       "      <th>place_name_x</th>\n",
       "      <th>facility_available_name</th>\n",
       "      <th>facility_is_available</th>\n",
       "      <th>place_name_y</th>\n",
       "      <th>facility_id</th>\n",
       "    </tr>\n",
       "  </thead>\n",
       "  <tbody>\n",
       "    <tr>\n",
       "      <th>0</th>\n",
       "      <td>subway</td>\n",
       "      <td>37.492317</td>\n",
       "      <td>127.118104</td>\n",
       "      <td>NaN</td>\n",
       "      <td>0</td>\n",
       "      <td>가락시장</td>\n",
       "      <td>화장실</td>\n",
       "      <td>이용가능</td>\n",
       "      <td>가락시장</td>\n",
       "      <td>900000.0</td>\n",
       "    </tr>\n",
       "    <tr>\n",
       "      <th>1</th>\n",
       "      <td>subway</td>\n",
       "      <td>37.492317</td>\n",
       "      <td>127.118104</td>\n",
       "      <td>NaN</td>\n",
       "      <td>0</td>\n",
       "      <td>가락시장</td>\n",
       "      <td>엘리베이터</td>\n",
       "      <td>이용가능</td>\n",
       "      <td>가락시장</td>\n",
       "      <td>900001.0</td>\n",
       "    </tr>\n",
       "    <tr>\n",
       "      <th>2</th>\n",
       "      <td>subway</td>\n",
       "      <td>37.492317</td>\n",
       "      <td>127.118104</td>\n",
       "      <td>NaN</td>\n",
       "      <td>0</td>\n",
       "      <td>가락시장</td>\n",
       "      <td>휠체어리프트</td>\n",
       "      <td>이용가능</td>\n",
       "      <td>가락시장</td>\n",
       "      <td>900002.0</td>\n",
       "    </tr>\n",
       "    <tr>\n",
       "      <th>3</th>\n",
       "      <td>subway</td>\n",
       "      <td>37.480890</td>\n",
       "      <td>126.882574</td>\n",
       "      <td>NaN</td>\n",
       "      <td>1</td>\n",
       "      <td>가산디지털단지</td>\n",
       "      <td>에스켈레이터</td>\n",
       "      <td>이용가능</td>\n",
       "      <td>가산디지털단지</td>\n",
       "      <td>900003.0</td>\n",
       "    </tr>\n",
       "    <tr>\n",
       "      <th>4</th>\n",
       "      <td>subway</td>\n",
       "      <td>37.480890</td>\n",
       "      <td>126.882574</td>\n",
       "      <td>NaN</td>\n",
       "      <td>1</td>\n",
       "      <td>가산디지털단지</td>\n",
       "      <td>화장실</td>\n",
       "      <td>이용가능</td>\n",
       "      <td>가산디지털단지</td>\n",
       "      <td>900004.0</td>\n",
       "    </tr>\n",
       "  </tbody>\n",
       "</table>\n",
       "</div>"
      ],
      "text/plain": [
       "  category        lat         lon place_address  place_id place_name_x  \\\n",
       "0   subway  37.492317  127.118104           NaN         0         가락시장   \n",
       "1   subway  37.492317  127.118104           NaN         0         가락시장   \n",
       "2   subway  37.492317  127.118104           NaN         0         가락시장   \n",
       "3   subway  37.480890  126.882574           NaN         1      가산디지털단지   \n",
       "4   subway  37.480890  126.882574           NaN         1      가산디지털단지   \n",
       "\n",
       "  facility_available_name facility_is_available place_name_y  facility_id  \n",
       "0                     화장실                  이용가능         가락시장     900000.0  \n",
       "1                   엘리베이터                  이용가능         가락시장     900001.0  \n",
       "2                  휠체어리프트                  이용가능         가락시장     900002.0  \n",
       "3                  에스켈레이터                  이용가능      가산디지털단지     900003.0  \n",
       "4                     화장실                  이용가능      가산디지털단지     900004.0  "
      ]
     },
     "execution_count": 42,
     "metadata": {},
     "output_type": "execute_result"
    }
   ],
   "source": [
    "merge_data.head()"
   ]
  },
  {
   "cell_type": "code",
   "execution_count": 43,
   "metadata": {},
   "outputs": [
    {
     "name": "stdout",
     "output_type": "stream",
     "text": [
      "<class 'pandas.core.frame.DataFrame'>\n",
      "Int64Index: 64166 entries, 0 to 64165\n",
      "Data columns (total 10 columns):\n",
      "category                   64166 non-null object\n",
      "lat                        64166 non-null float64\n",
      "lon                        64166 non-null float64\n",
      "place_address              63431 non-null object\n",
      "place_id                   64166 non-null int64\n",
      "place_name_x               64166 non-null object\n",
      "facility_available_name    63580 non-null object\n",
      "facility_is_available      59454 non-null object\n",
      "place_name_y               63580 non-null object\n",
      "facility_id                63580 non-null float64\n",
      "dtypes: float64(3), int64(1), object(6)\n",
      "memory usage: 5.4+ MB\n"
     ]
    }
   ],
   "source": [
    "merge_data.info()"
   ]
  },
  {
   "cell_type": "code",
   "execution_count": 44,
   "metadata": {},
   "outputs": [],
   "source": [
    "merge_data.drop(columns=['place_name_y'], inplace=True)"
   ]
  },
  {
   "cell_type": "code",
   "execution_count": 45,
   "metadata": {},
   "outputs": [],
   "source": [
    "merge_data.rename(columns={\"place_name_x\" : \"place_name\"}, inplace=True)"
   ]
  },
  {
   "cell_type": "code",
   "execution_count": 46,
   "metadata": {
    "scrolled": true
   },
   "outputs": [
    {
     "data": {
      "text/html": [
       "<div>\n",
       "<style scoped>\n",
       "    .dataframe tbody tr th:only-of-type {\n",
       "        vertical-align: middle;\n",
       "    }\n",
       "\n",
       "    .dataframe tbody tr th {\n",
       "        vertical-align: top;\n",
       "    }\n",
       "\n",
       "    .dataframe thead th {\n",
       "        text-align: right;\n",
       "    }\n",
       "</style>\n",
       "<table border=\"1\" class=\"dataframe\">\n",
       "  <thead>\n",
       "    <tr style=\"text-align: right;\">\n",
       "      <th></th>\n",
       "      <th>category</th>\n",
       "      <th>lat</th>\n",
       "      <th>lon</th>\n",
       "      <th>place_address</th>\n",
       "      <th>place_id</th>\n",
       "      <th>place_name</th>\n",
       "      <th>facility_available_name</th>\n",
       "      <th>facility_is_available</th>\n",
       "      <th>facility_id</th>\n",
       "    </tr>\n",
       "  </thead>\n",
       "  <tbody>\n",
       "    <tr>\n",
       "      <th>54420</th>\n",
       "      <td>hospital</td>\n",
       "      <td>37.558110</td>\n",
       "      <td>126.837758</td>\n",
       "      <td>서울특별시 강서구 공항대로  272</td>\n",
       "      <td>29457</td>\n",
       "      <td>하바나빌딩</td>\n",
       "      <td>장애인전용주차구역</td>\n",
       "      <td>None</td>\n",
       "      <td>282809.0</td>\n",
       "    </tr>\n",
       "    <tr>\n",
       "      <th>38458</th>\n",
       "      <td>restaurant</td>\n",
       "      <td>37.485521</td>\n",
       "      <td>127.031740</td>\n",
       "      <td>서울특별시 서초구 남부순환로347길  24</td>\n",
       "      <td>24989</td>\n",
       "      <td>서초테마빌딩</td>\n",
       "      <td>출입구(문)</td>\n",
       "      <td>None</td>\n",
       "      <td>244950.0</td>\n",
       "    </tr>\n",
       "    <tr>\n",
       "      <th>59150</th>\n",
       "      <td>toilet/open</td>\n",
       "      <td>37.517399</td>\n",
       "      <td>127.100717</td>\n",
       "      <td>서울특별시 송파구 마천2동 49-11</td>\n",
       "      <td>30209</td>\n",
       "      <td>상아주유소 화장실</td>\n",
       "      <td>장애인전용주차구역</td>\n",
       "      <td>None</td>\n",
       "      <td>288978.0</td>\n",
       "    </tr>\n",
       "    <tr>\n",
       "      <th>11233</th>\n",
       "      <td>education/Childcare</td>\n",
       "      <td>37.545333</td>\n",
       "      <td>126.989423</td>\n",
       "      <td>서울특별시 용산구 녹사평대로60길  39</td>\n",
       "      <td>13341</td>\n",
       "      <td>용암초등학교</td>\n",
       "      <td>장애인용 화장실</td>\n",
       "      <td>이용불편</td>\n",
       "      <td>111849.0</td>\n",
       "    </tr>\n",
       "    <tr>\n",
       "      <th>47498</th>\n",
       "      <td>concert hall</td>\n",
       "      <td>37.525655</td>\n",
       "      <td>127.033730</td>\n",
       "      <td>서울특별시 강남구 언주로  844</td>\n",
       "      <td>27632</td>\n",
       "      <td>윤당빌딩</td>\n",
       "      <td>계단 또는 승강설비</td>\n",
       "      <td>None</td>\n",
       "      <td>267557.0</td>\n",
       "    </tr>\n",
       "    <tr>\n",
       "      <th>55205</th>\n",
       "      <td>bank</td>\n",
       "      <td>37.549324</td>\n",
       "      <td>126.972062</td>\n",
       "      <td>서울특별시 용산구 한강대로 348</td>\n",
       "      <td>29636</td>\n",
       "      <td>한국정보통신공사협회</td>\n",
       "      <td>복도</td>\n",
       "      <td>None</td>\n",
       "      <td>284356.0</td>\n",
       "    </tr>\n",
       "    <tr>\n",
       "      <th>37897</th>\n",
       "      <td>government office building</td>\n",
       "      <td>37.574880</td>\n",
       "      <td>126.971985</td>\n",
       "      <td>서울특별시 종로구 사직로8길 31</td>\n",
       "      <td>24887</td>\n",
       "      <td>서울지방경찰청</td>\n",
       "      <td>소변기</td>\n",
       "      <td>None</td>\n",
       "      <td>243921.0</td>\n",
       "    </tr>\n",
       "    <tr>\n",
       "      <th>51073</th>\n",
       "      <td>police station</td>\n",
       "      <td>37.639947</td>\n",
       "      <td>126.920852</td>\n",
       "      <td>서울특별시 은평구 진관3로  38</td>\n",
       "      <td>28569</td>\n",
       "      <td>진관지구대</td>\n",
       "      <td>출입구(문)</td>\n",
       "      <td>None</td>\n",
       "      <td>275788.0</td>\n",
       "    </tr>\n",
       "    <tr>\n",
       "      <th>51135</th>\n",
       "      <td>bank</td>\n",
       "      <td>37.566578</td>\n",
       "      <td>127.013945</td>\n",
       "      <td>서울특별시 중구 퇴계로73길</td>\n",
       "      <td>28592</td>\n",
       "      <td>진스코빌딩</td>\n",
       "      <td>대변기</td>\n",
       "      <td>None</td>\n",
       "      <td>275961.0</td>\n",
       "    </tr>\n",
       "    <tr>\n",
       "      <th>5274</th>\n",
       "      <td>publicinstitution</td>\n",
       "      <td>37.647510</td>\n",
       "      <td>127.025605</td>\n",
       "      <td>서울특별시 도봉구 노해로  139</td>\n",
       "      <td>11403</td>\n",
       "      <td>숭미파출소</td>\n",
       "      <td>주출입구 높이차이 제거</td>\n",
       "      <td>이용불편</td>\n",
       "      <td>104995.0</td>\n",
       "    </tr>\n",
       "  </tbody>\n",
       "</table>\n",
       "</div>"
      ],
      "text/plain": [
       "                         category        lat         lon  \\\n",
       "54420                    hospital  37.558110  126.837758   \n",
       "38458                  restaurant  37.485521  127.031740   \n",
       "59150                 toilet/open  37.517399  127.100717   \n",
       "11233         education/Childcare  37.545333  126.989423   \n",
       "47498                concert hall  37.525655  127.033730   \n",
       "55205                        bank  37.549324  126.972062   \n",
       "37897  government office building  37.574880  126.971985   \n",
       "51073              police station  37.639947  126.920852   \n",
       "51135                        bank  37.566578  127.013945   \n",
       "5274            publicinstitution  37.647510  127.025605   \n",
       "\n",
       "                 place_address  place_id  place_name facility_available_name  \\\n",
       "54420      서울특별시 강서구 공항대로  272     29457       하바나빌딩               장애인전용주차구역   \n",
       "38458  서울특별시 서초구 남부순환로347길  24     24989      서초테마빌딩                  출입구(문)   \n",
       "59150     서울특별시 송파구 마천2동 49-11     30209   상아주유소 화장실               장애인전용주차구역   \n",
       "11233   서울특별시 용산구 녹사평대로60길  39     13341      용암초등학교                장애인용 화장실   \n",
       "47498       서울특별시 강남구 언주로  844     27632        윤당빌딩              계단 또는 승강설비   \n",
       "55205       서울특별시 용산구 한강대로 348     29636  한국정보통신공사협회                      복도   \n",
       "37897       서울특별시 종로구 사직로8길 31     24887     서울지방경찰청                     소변기   \n",
       "51073       서울특별시 은평구 진관3로  38     28569      진관지구대                   출입구(문)   \n",
       "51135         서울특별시 중구 퇴계로73길      28592       진스코빌딩                     대변기   \n",
       "5274        서울특별시 도봉구 노해로  139     11403       숭미파출소            주출입구 높이차이 제거   \n",
       "\n",
       "      facility_is_available  facility_id  \n",
       "54420                  None     282809.0  \n",
       "38458                  None     244950.0  \n",
       "59150                  None     288978.0  \n",
       "11233                  이용불편     111849.0  \n",
       "47498                  None     267557.0  \n",
       "55205                  None     284356.0  \n",
       "37897                  None     243921.0  \n",
       "51073                  None     275788.0  \n",
       "51135                  None     275961.0  \n",
       "5274                   이용불편     104995.0  "
      ]
     },
     "execution_count": 46,
     "metadata": {},
     "output_type": "execute_result"
    }
   ],
   "source": [
    "merge_data.sample(10)"
   ]
  },
  {
   "cell_type": "markdown",
   "metadata": {},
   "source": [
    "# nan, None 정제"
   ]
  },
  {
   "cell_type": "code",
   "execution_count": 47,
   "metadata": {},
   "outputs": [],
   "source": [
    "import numpy as np"
   ]
  },
  {
   "cell_type": "code",
   "execution_count": 48,
   "metadata": {},
   "outputs": [],
   "source": [
    "merge_data.replace(np.nan, '', inplace=True)"
   ]
  },
  {
   "cell_type": "code",
   "execution_count": 49,
   "metadata": {},
   "outputs": [],
   "source": [
    "merge_data.replace(\"None\", '', inplace=True)"
   ]
  },
  {
   "cell_type": "code",
   "execution_count": 50,
   "metadata": {},
   "outputs": [],
   "source": [
    "merge_data.facility_id.replace(\"\", -1, inplace=True)"
   ]
  },
  {
   "cell_type": "code",
   "execution_count": 51,
   "metadata": {},
   "outputs": [],
   "source": [
    "merge_data.facility_id = merge_data.facility_id.astype('int64')"
   ]
  },
  {
   "cell_type": "code",
   "execution_count": 52,
   "metadata": {},
   "outputs": [
    {
     "data": {
      "text/html": [
       "<div>\n",
       "<style scoped>\n",
       "    .dataframe tbody tr th:only-of-type {\n",
       "        vertical-align: middle;\n",
       "    }\n",
       "\n",
       "    .dataframe tbody tr th {\n",
       "        vertical-align: top;\n",
       "    }\n",
       "\n",
       "    .dataframe thead th {\n",
       "        text-align: right;\n",
       "    }\n",
       "</style>\n",
       "<table border=\"1\" class=\"dataframe\">\n",
       "  <thead>\n",
       "    <tr style=\"text-align: right;\">\n",
       "      <th></th>\n",
       "      <th>category</th>\n",
       "      <th>lat</th>\n",
       "      <th>lon</th>\n",
       "      <th>place_address</th>\n",
       "      <th>place_id</th>\n",
       "      <th>place_name</th>\n",
       "      <th>facility_available_name</th>\n",
       "      <th>facility_is_available</th>\n",
       "      <th>facility_id</th>\n",
       "    </tr>\n",
       "  </thead>\n",
       "  <tbody>\n",
       "    <tr>\n",
       "      <th>7</th>\n",
       "      <td>subway</td>\n",
       "      <td>37.464689</td>\n",
       "      <td>126.693408</td>\n",
       "      <td></td>\n",
       "      <td>2</td>\n",
       "      <td>간석</td>\n",
       "      <td></td>\n",
       "      <td></td>\n",
       "      <td>-1</td>\n",
       "    </tr>\n",
       "    <tr>\n",
       "      <th>20</th>\n",
       "      <td>subway</td>\n",
       "      <td>37.494698</td>\n",
       "      <td>126.858504</td>\n",
       "      <td></td>\n",
       "      <td>9</td>\n",
       "      <td>개봉</td>\n",
       "      <td></td>\n",
       "      <td></td>\n",
       "      <td>-1</td>\n",
       "    </tr>\n",
       "    <tr>\n",
       "      <th>31</th>\n",
       "      <td>subway</td>\n",
       "      <td>37.443987</td>\n",
       "      <td>127.007899</td>\n",
       "      <td></td>\n",
       "      <td>13</td>\n",
       "      <td>경마공원</td>\n",
       "      <td></td>\n",
       "      <td></td>\n",
       "      <td>-1</td>\n",
       "    </tr>\n",
       "    <tr>\n",
       "      <th>40</th>\n",
       "      <td>subway</td>\n",
       "      <td>37.316821</td>\n",
       "      <td>126.823094</td>\n",
       "      <td></td>\n",
       "      <td>18</td>\n",
       "      <td>고잔</td>\n",
       "      <td></td>\n",
       "      <td></td>\n",
       "      <td>-1</td>\n",
       "    </tr>\n",
       "    <tr>\n",
       "      <th>41</th>\n",
       "      <td>subway</td>\n",
       "      <td>35.892157</td>\n",
       "      <td>128.553464</td>\n",
       "      <td></td>\n",
       "      <td>19</td>\n",
       "      <td>공단</td>\n",
       "      <td></td>\n",
       "      <td></td>\n",
       "      <td>-1</td>\n",
       "    </tr>\n",
       "    <tr>\n",
       "      <th>48</th>\n",
       "      <td>subway</td>\n",
       "      <td>37.433205</td>\n",
       "      <td>126.996404</td>\n",
       "      <td></td>\n",
       "      <td>22</td>\n",
       "      <td>과천</td>\n",
       "      <td></td>\n",
       "      <td></td>\n",
       "      <td>-1</td>\n",
       "    </tr>\n",
       "    <tr>\n",
       "      <th>49</th>\n",
       "      <td>subway</td>\n",
       "      <td>37.419578</td>\n",
       "      <td>126.908476</td>\n",
       "      <td></td>\n",
       "      <td>23</td>\n",
       "      <td>관악</td>\n",
       "      <td></td>\n",
       "      <td></td>\n",
       "      <td>-1</td>\n",
       "    </tr>\n",
       "    <tr>\n",
       "      <th>66</th>\n",
       "      <td>subway</td>\n",
       "      <td>37.503178</td>\n",
       "      <td>126.882037</td>\n",
       "      <td></td>\n",
       "      <td>29</td>\n",
       "      <td>구로</td>\n",
       "      <td></td>\n",
       "      <td></td>\n",
       "      <td>-1</td>\n",
       "    </tr>\n",
       "    <tr>\n",
       "      <th>76</th>\n",
       "      <td>subway</td>\n",
       "      <td>37.496273</td>\n",
       "      <td>126.869599</td>\n",
       "      <td></td>\n",
       "      <td>33</td>\n",
       "      <td>구일</td>\n",
       "      <td></td>\n",
       "      <td></td>\n",
       "      <td>-1</td>\n",
       "    </tr>\n",
       "    <tr>\n",
       "      <th>82</th>\n",
       "      <td>subway</td>\n",
       "      <td>37.353732</td>\n",
       "      <td>126.948517</td>\n",
       "      <td></td>\n",
       "      <td>36</td>\n",
       "      <td>군포</td>\n",
       "      <td></td>\n",
       "      <td></td>\n",
       "      <td>-1</td>\n",
       "    </tr>\n",
       "    <tr>\n",
       "      <th>86</th>\n",
       "      <td>subway</td>\n",
       "      <td>37.372237</td>\n",
       "      <td>126.943489</td>\n",
       "      <td></td>\n",
       "      <td>38</td>\n",
       "      <td>금정</td>\n",
       "      <td></td>\n",
       "      <td></td>\n",
       "      <td>-1</td>\n",
       "    </tr>\n",
       "    <tr>\n",
       "      <th>112</th>\n",
       "      <td>subway</td>\n",
       "      <td>37.540597</td>\n",
       "      <td>126.971171</td>\n",
       "      <td></td>\n",
       "      <td>48</td>\n",
       "      <td>남영</td>\n",
       "      <td></td>\n",
       "      <td></td>\n",
       "      <td>-1</td>\n",
       "    </tr>\n",
       "    <tr>\n",
       "      <th>123</th>\n",
       "      <td>subway</td>\n",
       "      <td>37.514072</td>\n",
       "      <td>126.941670</td>\n",
       "      <td></td>\n",
       "      <td>52</td>\n",
       "      <td>노량진</td>\n",
       "      <td></td>\n",
       "      <td></td>\n",
       "      <td>-1</td>\n",
       "    </tr>\n",
       "    <tr>\n",
       "      <th>132</th>\n",
       "      <td>subway</td>\n",
       "      <td>37.644599</td>\n",
       "      <td>127.051406</td>\n",
       "      <td></td>\n",
       "      <td>56</td>\n",
       "      <td>녹천</td>\n",
       "      <td></td>\n",
       "      <td></td>\n",
       "      <td>-1</td>\n",
       "    </tr>\n",
       "    <tr>\n",
       "      <th>147</th>\n",
       "      <td>subway</td>\n",
       "      <td>37.631957</td>\n",
       "      <td>126.810297</td>\n",
       "      <td></td>\n",
       "      <td>62</td>\n",
       "      <td>대곡</td>\n",
       "      <td></td>\n",
       "      <td></td>\n",
       "      <td>-1</td>\n",
       "    </tr>\n",
       "    <tr>\n",
       "      <th>148</th>\n",
       "      <td>subway</td>\n",
       "      <td>37.435724</td>\n",
       "      <td>127.006474</td>\n",
       "      <td></td>\n",
       "      <td>63</td>\n",
       "      <td>대공원</td>\n",
       "      <td></td>\n",
       "      <td></td>\n",
       "      <td>-1</td>\n",
       "    </tr>\n",
       "    <tr>\n",
       "      <th>153</th>\n",
       "      <td>subway</td>\n",
       "      <td>37.512537</td>\n",
       "      <td>126.926392</td>\n",
       "      <td></td>\n",
       "      <td>65</td>\n",
       "      <td>대방</td>\n",
       "      <td></td>\n",
       "      <td></td>\n",
       "      <td>-1</td>\n",
       "    </tr>\n",
       "    <tr>\n",
       "      <th>154</th>\n",
       "      <td>subway</td>\n",
       "      <td>37.328304</td>\n",
       "      <td>126.917160</td>\n",
       "      <td></td>\n",
       "      <td>66</td>\n",
       "      <td>대야미</td>\n",
       "      <td></td>\n",
       "      <td></td>\n",
       "      <td>-1</td>\n",
       "    </tr>\n",
       "    <tr>\n",
       "      <th>160</th>\n",
       "      <td>subway</td>\n",
       "      <td>37.675883</td>\n",
       "      <td>126.747756</td>\n",
       "      <td></td>\n",
       "      <td>69</td>\n",
       "      <td>대화</td>\n",
       "      <td></td>\n",
       "      <td></td>\n",
       "      <td>-1</td>\n",
       "    </tr>\n",
       "    <tr>\n",
       "      <th>170</th>\n",
       "      <td>subway</td>\n",
       "      <td>37.679441</td>\n",
       "      <td>127.045521</td>\n",
       "      <td></td>\n",
       "      <td>73</td>\n",
       "      <td>도봉</td>\n",
       "      <td></td>\n",
       "      <td></td>\n",
       "      <td>-1</td>\n",
       "    </tr>\n",
       "    <tr>\n",
       "      <th>173</th>\n",
       "      <td>subway</td>\n",
       "      <td>37.468604</td>\n",
       "      <td>126.642824</td>\n",
       "      <td></td>\n",
       "      <td>75</td>\n",
       "      <td>도원</td>\n",
       "      <td></td>\n",
       "      <td></td>\n",
       "      <td>-1</td>\n",
       "    </tr>\n",
       "    <tr>\n",
       "      <th>181</th>\n",
       "      <td>subway</td>\n",
       "      <td>37.465994</td>\n",
       "      <td>126.889508</td>\n",
       "      <td></td>\n",
       "      <td>78</td>\n",
       "      <td>독산</td>\n",
       "      <td></td>\n",
       "      <td></td>\n",
       "      <td>-1</td>\n",
       "    </tr>\n",
       "    <tr>\n",
       "      <th>196</th>\n",
       "      <td>subway</td>\n",
       "      <td>37.470869</td>\n",
       "      <td>126.702884</td>\n",
       "      <td></td>\n",
       "      <td>85</td>\n",
       "      <td>동암</td>\n",
       "      <td></td>\n",
       "      <td></td>\n",
       "      <td>-1</td>\n",
       "    </tr>\n",
       "    <tr>\n",
       "      <th>197</th>\n",
       "      <td>subway</td>\n",
       "      <td>37.475414</td>\n",
       "      <td>126.632598</td>\n",
       "      <td></td>\n",
       "      <td>86</td>\n",
       "      <td>동인천</td>\n",
       "      <td></td>\n",
       "      <td></td>\n",
       "      <td>-1</td>\n",
       "    </tr>\n",
       "    <tr>\n",
       "      <th>200</th>\n",
       "      <td>subway</td>\n",
       "      <td>36.833791</td>\n",
       "      <td>127.148905</td>\n",
       "      <td></td>\n",
       "      <td>88</td>\n",
       "      <td>두정</td>\n",
       "      <td></td>\n",
       "      <td></td>\n",
       "      <td>-1</td>\n",
       "    </tr>\n",
       "    <tr>\n",
       "      <th>209</th>\n",
       "      <td>subway</td>\n",
       "      <td>37.561918</td>\n",
       "      <td>126.826919</td>\n",
       "      <td></td>\n",
       "      <td>92</td>\n",
       "      <td>마곡</td>\n",
       "      <td></td>\n",
       "      <td></td>\n",
       "      <td>-1</td>\n",
       "    </tr>\n",
       "    <tr>\n",
       "      <th>210</th>\n",
       "      <td>subway</td>\n",
       "      <td>37.652185</td>\n",
       "      <td>126.777641</td>\n",
       "      <td></td>\n",
       "      <td>93</td>\n",
       "      <td>마두</td>\n",
       "      <td></td>\n",
       "      <td></td>\n",
       "      <td>-1</td>\n",
       "    </tr>\n",
       "    <tr>\n",
       "      <th>218</th>\n",
       "      <td>subway</td>\n",
       "      <td>37.495020</td>\n",
       "      <td>127.152790</td>\n",
       "      <td></td>\n",
       "      <td>96</td>\n",
       "      <td>마천</td>\n",
       "      <td></td>\n",
       "      <td></td>\n",
       "      <td>-1</td>\n",
       "    </tr>\n",
       "    <tr>\n",
       "      <th>225</th>\n",
       "      <td>subway</td>\n",
       "      <td>37.710499</td>\n",
       "      <td>127.047360</td>\n",
       "      <td></td>\n",
       "      <td>100</td>\n",
       "      <td>망월산</td>\n",
       "      <td></td>\n",
       "      <td></td>\n",
       "      <td>-1</td>\n",
       "    </tr>\n",
       "    <tr>\n",
       "      <th>240</th>\n",
       "      <td>subway</td>\n",
       "      <td>37.390084</td>\n",
       "      <td>126.930507</td>\n",
       "      <td></td>\n",
       "      <td>106</td>\n",
       "      <td>명학</td>\n",
       "      <td></td>\n",
       "      <td></td>\n",
       "      <td>-1</td>\n",
       "    </tr>\n",
       "    <tr>\n",
       "      <th>...</th>\n",
       "      <td>...</td>\n",
       "      <td>...</td>\n",
       "      <td>...</td>\n",
       "      <td>...</td>\n",
       "      <td>...</td>\n",
       "      <td>...</td>\n",
       "      <td>...</td>\n",
       "      <td>...</td>\n",
       "      <td>...</td>\n",
       "    </tr>\n",
       "    <tr>\n",
       "      <th>64136</th>\n",
       "      <td>education/job</td>\n",
       "      <td>37.346450</td>\n",
       "      <td>127.734111</td>\n",
       "      <td>경기도 여주시 강천면 원양1로 907 라파엘 직업재활센터</td>\n",
       "      <td>40284</td>\n",
       "      <td>라파엘 직업재활센터</td>\n",
       "      <td></td>\n",
       "      <td></td>\n",
       "      <td>-1</td>\n",
       "    </tr>\n",
       "    <tr>\n",
       "      <th>64137</th>\n",
       "      <td>education/job</td>\n",
       "      <td>37.526375</td>\n",
       "      <td>127.030281</td>\n",
       "      <td>강남구 언주로167길 35 4층 소망제이앤피</td>\n",
       "      <td>40288</td>\n",
       "      <td>소망제이앤피</td>\n",
       "      <td></td>\n",
       "      <td></td>\n",
       "      <td>-1</td>\n",
       "    </tr>\n",
       "    <tr>\n",
       "      <th>64138</th>\n",
       "      <td>education/job</td>\n",
       "      <td>37.491699</td>\n",
       "      <td>127.087595</td>\n",
       "      <td>강남구 양재대로55길 13 지하1층 래그랜느보호작업장</td>\n",
       "      <td>40290</td>\n",
       "      <td>래그랜느보호작업장</td>\n",
       "      <td></td>\n",
       "      <td></td>\n",
       "      <td>-1</td>\n",
       "    </tr>\n",
       "    <tr>\n",
       "      <th>64139</th>\n",
       "      <td>wellfare</td>\n",
       "      <td>37.570701</td>\n",
       "      <td>126.913825</td>\n",
       "      <td>서울특별시 서대문구 수색로4가길 23 서대문농아인복지관</td>\n",
       "      <td>40291</td>\n",
       "      <td>서대문농아인복지관</td>\n",
       "      <td></td>\n",
       "      <td></td>\n",
       "      <td>-1</td>\n",
       "    </tr>\n",
       "    <tr>\n",
       "      <th>64140</th>\n",
       "      <td>wellfare</td>\n",
       "      <td>37.519900</td>\n",
       "      <td>126.869881</td>\n",
       "      <td>서울특별시 양천구 목동동로 159 양천장애인복지관</td>\n",
       "      <td>40292</td>\n",
       "      <td>양천장애인복지관</td>\n",
       "      <td></td>\n",
       "      <td></td>\n",
       "      <td>-1</td>\n",
       "    </tr>\n",
       "    <tr>\n",
       "      <th>64141</th>\n",
       "      <td>wellfare</td>\n",
       "      <td>37.514663</td>\n",
       "      <td>127.114202</td>\n",
       "      <td>서울특별시 송파구 오금로11길 68 방이장애인복지관</td>\n",
       "      <td>40294</td>\n",
       "      <td>방이장애인복지관</td>\n",
       "      <td></td>\n",
       "      <td></td>\n",
       "      <td>-1</td>\n",
       "    </tr>\n",
       "    <tr>\n",
       "      <th>64142</th>\n",
       "      <td>wellfare</td>\n",
       "      <td>37.493905</td>\n",
       "      <td>127.155198</td>\n",
       "      <td>서울특별시 송파구 마천로61길 26 인성장애인복지관</td>\n",
       "      <td>40295</td>\n",
       "      <td>인성장애인복지관</td>\n",
       "      <td></td>\n",
       "      <td></td>\n",
       "      <td>-1</td>\n",
       "    </tr>\n",
       "    <tr>\n",
       "      <th>64143</th>\n",
       "      <td>education/job</td>\n",
       "      <td>37.488784</td>\n",
       "      <td>127.103615</td>\n",
       "      <td>강남구 밤고개로1길 34 밀알그린보호작업장</td>\n",
       "      <td>40296</td>\n",
       "      <td>밀알그린보호작업장</td>\n",
       "      <td></td>\n",
       "      <td></td>\n",
       "      <td>-1</td>\n",
       "    </tr>\n",
       "    <tr>\n",
       "      <th>64144</th>\n",
       "      <td>education/job</td>\n",
       "      <td>37.491440</td>\n",
       "      <td>127.145507</td>\n",
       "      <td>송파구 양산로8길 17 (거여동) 신아보호작업장</td>\n",
       "      <td>40297</td>\n",
       "      <td>신아보호작업장</td>\n",
       "      <td></td>\n",
       "      <td></td>\n",
       "      <td>-1</td>\n",
       "    </tr>\n",
       "    <tr>\n",
       "      <th>64145</th>\n",
       "      <td>education/job</td>\n",
       "      <td>37.491475</td>\n",
       "      <td>127.146676</td>\n",
       "      <td>송파구 양산로10길 26 (거여동) 임마누엘 보호작업시설</td>\n",
       "      <td>40298</td>\n",
       "      <td>임마누엘 보호작업시설</td>\n",
       "      <td></td>\n",
       "      <td></td>\n",
       "      <td>-1</td>\n",
       "    </tr>\n",
       "    <tr>\n",
       "      <th>64146</th>\n",
       "      <td>education/job</td>\n",
       "      <td>37.489769</td>\n",
       "      <td>127.142672</td>\n",
       "      <td>송파구 양산로 5 3층 (거여동) 구립송파구 장애인보호작업장</td>\n",
       "      <td>40301</td>\n",
       "      <td>구립송파구 장애인보호작업장</td>\n",
       "      <td></td>\n",
       "      <td></td>\n",
       "      <td>-1</td>\n",
       "    </tr>\n",
       "    <tr>\n",
       "      <th>64147</th>\n",
       "      <td>education/job</td>\n",
       "      <td>37.500461</td>\n",
       "      <td>127.105889</td>\n",
       "      <td>송파구 가락로 86 (석촌동) 5층 연화직업재활원</td>\n",
       "      <td>40302</td>\n",
       "      <td>연화직업재활원</td>\n",
       "      <td></td>\n",
       "      <td></td>\n",
       "      <td>-1</td>\n",
       "    </tr>\n",
       "    <tr>\n",
       "      <th>64148</th>\n",
       "      <td>education/job</td>\n",
       "      <td>37.491384</td>\n",
       "      <td>127.157453</td>\n",
       "      <td>송파구 성내천로 333-4 (마천동) 송파위더스</td>\n",
       "      <td>40303</td>\n",
       "      <td>송파위더스</td>\n",
       "      <td></td>\n",
       "      <td></td>\n",
       "      <td>-1</td>\n",
       "    </tr>\n",
       "    <tr>\n",
       "      <th>64149</th>\n",
       "      <td>education/job</td>\n",
       "      <td>37.514418</td>\n",
       "      <td>127.100649</td>\n",
       "      <td>송파구 올림픽로 269, 832호 (신천동, 롯데캐슬프라자) 효명장애인 보호작업시설</td>\n",
       "      <td>40304</td>\n",
       "      <td>효명장애인 보호작업시설</td>\n",
       "      <td></td>\n",
       "      <td></td>\n",
       "      <td>-1</td>\n",
       "    </tr>\n",
       "    <tr>\n",
       "      <th>64150</th>\n",
       "      <td>education/job</td>\n",
       "      <td>37.496327</td>\n",
       "      <td>127.154468</td>\n",
       "      <td>송파구 성내천로 271 (마천동) 행복보호작업장</td>\n",
       "      <td>40305</td>\n",
       "      <td>행복보호작업장</td>\n",
       "      <td></td>\n",
       "      <td></td>\n",
       "      <td>-1</td>\n",
       "    </tr>\n",
       "    <tr>\n",
       "      <th>64151</th>\n",
       "      <td>education/job</td>\n",
       "      <td>37.481135</td>\n",
       "      <td>127.127737</td>\n",
       "      <td>송파구 새말로10길 19 (문정동) 함재보호작업장</td>\n",
       "      <td>40307</td>\n",
       "      <td>함재보호작업장</td>\n",
       "      <td></td>\n",
       "      <td></td>\n",
       "      <td>-1</td>\n",
       "    </tr>\n",
       "    <tr>\n",
       "      <th>64152</th>\n",
       "      <td>education/job</td>\n",
       "      <td>37.487967</td>\n",
       "      <td>127.132597</td>\n",
       "      <td>송파구 송이로 31길 4-15(문정동) 두손장애인보호작업장</td>\n",
       "      <td>40308</td>\n",
       "      <td>두손장애인보호작업장</td>\n",
       "      <td></td>\n",
       "      <td></td>\n",
       "      <td>-1</td>\n",
       "    </tr>\n",
       "    <tr>\n",
       "      <th>64153</th>\n",
       "      <td>education/job</td>\n",
       "      <td>37.557735</td>\n",
       "      <td>127.158586</td>\n",
       "      <td>강동구 고덕로 295-45 라온클린패밀리</td>\n",
       "      <td>40309</td>\n",
       "      <td>라온클린패밀리</td>\n",
       "      <td></td>\n",
       "      <td></td>\n",
       "      <td>-1</td>\n",
       "    </tr>\n",
       "    <tr>\n",
       "      <th>64154</th>\n",
       "      <td>education/job</td>\n",
       "      <td>37.561246</td>\n",
       "      <td>127.155895</td>\n",
       "      <td>강동구 동남로 85길 15 성지보호작업장</td>\n",
       "      <td>40311</td>\n",
       "      <td>성지보호작업장</td>\n",
       "      <td></td>\n",
       "      <td></td>\n",
       "      <td>-1</td>\n",
       "    </tr>\n",
       "    <tr>\n",
       "      <th>64155</th>\n",
       "      <td>education/job</td>\n",
       "      <td>37.554311</td>\n",
       "      <td>127.136570</td>\n",
       "      <td>강동구 고덕로 100-5 강동구 장애인보호작업장</td>\n",
       "      <td>40312</td>\n",
       "      <td>강동구 장애인보호작업장</td>\n",
       "      <td></td>\n",
       "      <td></td>\n",
       "      <td>-1</td>\n",
       "    </tr>\n",
       "    <tr>\n",
       "      <th>64156</th>\n",
       "      <td>education/job</td>\n",
       "      <td>37.539149</td>\n",
       "      <td>127.146814</td>\n",
       "      <td>강동구 명일로 230 삼보프리빌 301호 아이티어빌리티센터</td>\n",
       "      <td>40313</td>\n",
       "      <td>아이티어빌리티센터</td>\n",
       "      <td></td>\n",
       "      <td></td>\n",
       "      <td>-1</td>\n",
       "    </tr>\n",
       "    <tr>\n",
       "      <th>64157</th>\n",
       "      <td>education/job</td>\n",
       "      <td>37.554317</td>\n",
       "      <td>127.128149</td>\n",
       "      <td>강동구 상암로3길 86 푸른보호작업장</td>\n",
       "      <td>40315</td>\n",
       "      <td>푸른보호작업장</td>\n",
       "      <td></td>\n",
       "      <td></td>\n",
       "      <td>-1</td>\n",
       "    </tr>\n",
       "    <tr>\n",
       "      <th>64158</th>\n",
       "      <td>education/job</td>\n",
       "      <td>37.530998</td>\n",
       "      <td>127.128193</td>\n",
       "      <td>강동구 풍성로 146 동안우리복지센터</td>\n",
       "      <td>40317</td>\n",
       "      <td>동안우리복지센터</td>\n",
       "      <td></td>\n",
       "      <td></td>\n",
       "      <td>-1</td>\n",
       "    </tr>\n",
       "    <tr>\n",
       "      <th>64159</th>\n",
       "      <td>education/job</td>\n",
       "      <td>37.535421</td>\n",
       "      <td>127.137407</td>\n",
       "      <td>강동구 진황도로 100 하이브 3층 파란마음복지센터</td>\n",
       "      <td>40318</td>\n",
       "      <td>파란마음복지센터</td>\n",
       "      <td></td>\n",
       "      <td></td>\n",
       "      <td>-1</td>\n",
       "    </tr>\n",
       "    <tr>\n",
       "      <th>64160</th>\n",
       "      <td>education/job</td>\n",
       "      <td>37.528758</td>\n",
       "      <td>127.132657</td>\n",
       "      <td>강동구 양재대로91길 62 (성내동, 동아아파트상가4층) 선한복지센터</td>\n",
       "      <td>40319</td>\n",
       "      <td>선한복지센터</td>\n",
       "      <td></td>\n",
       "      <td></td>\n",
       "      <td>-1</td>\n",
       "    </tr>\n",
       "    <tr>\n",
       "      <th>64161</th>\n",
       "      <td>education/job</td>\n",
       "      <td>37.549899</td>\n",
       "      <td>127.126549</td>\n",
       "      <td>강동구 암사동512-4 2층 소망드림복지센터</td>\n",
       "      <td>40320</td>\n",
       "      <td>소망드림복지센터</td>\n",
       "      <td></td>\n",
       "      <td></td>\n",
       "      <td>-1</td>\n",
       "    </tr>\n",
       "    <tr>\n",
       "      <th>64162</th>\n",
       "      <td>daycare</td>\n",
       "      <td>37.545872</td>\n",
       "      <td>126.849567</td>\n",
       "      <td>강서구 까치산로18나길 36 (화곡동 772-60 1층)</td>\n",
       "      <td>40326</td>\n",
       "      <td>로뎀나무</td>\n",
       "      <td></td>\n",
       "      <td></td>\n",
       "      <td>-1</td>\n",
       "    </tr>\n",
       "    <tr>\n",
       "      <th>64163</th>\n",
       "      <td>daycare</td>\n",
       "      <td>37.557676</td>\n",
       "      <td>127.013070</td>\n",
       "      <td>중구 다산로22길 11 (신당동 340-180) 1층</td>\n",
       "      <td>40328</td>\n",
       "      <td>파란마음주간보호센터</td>\n",
       "      <td></td>\n",
       "      <td></td>\n",
       "      <td>-1</td>\n",
       "    </tr>\n",
       "    <tr>\n",
       "      <th>64164</th>\n",
       "      <td>signinterpret</td>\n",
       "      <td>37.507644</td>\n",
       "      <td>127.105472</td>\n",
       "      <td>서울시 송파구 송파1동 15-2 3층 서울시 송파구 송파대로 460, 3층</td>\n",
       "      <td>40329</td>\n",
       "      <td>송파구수화통역센터</td>\n",
       "      <td></td>\n",
       "      <td></td>\n",
       "      <td>-1</td>\n",
       "    </tr>\n",
       "    <tr>\n",
       "      <th>64165</th>\n",
       "      <td>education/job</td>\n",
       "      <td>37.516988</td>\n",
       "      <td>127.041807</td>\n",
       "      <td>서울특별시 강남구 학동로 402 TEST</td>\n",
       "      <td>40330</td>\n",
       "      <td>TEST</td>\n",
       "      <td></td>\n",
       "      <td></td>\n",
       "      <td>-1</td>\n",
       "    </tr>\n",
       "  </tbody>\n",
       "</table>\n",
       "<p>586 rows × 9 columns</p>\n",
       "</div>"
      ],
      "text/plain": [
       "            category        lat         lon  \\\n",
       "7             subway  37.464689  126.693408   \n",
       "20            subway  37.494698  126.858504   \n",
       "31            subway  37.443987  127.007899   \n",
       "40            subway  37.316821  126.823094   \n",
       "41            subway  35.892157  128.553464   \n",
       "48            subway  37.433205  126.996404   \n",
       "49            subway  37.419578  126.908476   \n",
       "66            subway  37.503178  126.882037   \n",
       "76            subway  37.496273  126.869599   \n",
       "82            subway  37.353732  126.948517   \n",
       "86            subway  37.372237  126.943489   \n",
       "112           subway  37.540597  126.971171   \n",
       "123           subway  37.514072  126.941670   \n",
       "132           subway  37.644599  127.051406   \n",
       "147           subway  37.631957  126.810297   \n",
       "148           subway  37.435724  127.006474   \n",
       "153           subway  37.512537  126.926392   \n",
       "154           subway  37.328304  126.917160   \n",
       "160           subway  37.675883  126.747756   \n",
       "170           subway  37.679441  127.045521   \n",
       "173           subway  37.468604  126.642824   \n",
       "181           subway  37.465994  126.889508   \n",
       "196           subway  37.470869  126.702884   \n",
       "197           subway  37.475414  126.632598   \n",
       "200           subway  36.833791  127.148905   \n",
       "209           subway  37.561918  126.826919   \n",
       "210           subway  37.652185  126.777641   \n",
       "218           subway  37.495020  127.152790   \n",
       "225           subway  37.710499  127.047360   \n",
       "240           subway  37.390084  126.930507   \n",
       "...              ...        ...         ...   \n",
       "64136  education/job  37.346450  127.734111   \n",
       "64137  education/job  37.526375  127.030281   \n",
       "64138  education/job  37.491699  127.087595   \n",
       "64139       wellfare  37.570701  126.913825   \n",
       "64140       wellfare  37.519900  126.869881   \n",
       "64141       wellfare  37.514663  127.114202   \n",
       "64142       wellfare  37.493905  127.155198   \n",
       "64143  education/job  37.488784  127.103615   \n",
       "64144  education/job  37.491440  127.145507   \n",
       "64145  education/job  37.491475  127.146676   \n",
       "64146  education/job  37.489769  127.142672   \n",
       "64147  education/job  37.500461  127.105889   \n",
       "64148  education/job  37.491384  127.157453   \n",
       "64149  education/job  37.514418  127.100649   \n",
       "64150  education/job  37.496327  127.154468   \n",
       "64151  education/job  37.481135  127.127737   \n",
       "64152  education/job  37.487967  127.132597   \n",
       "64153  education/job  37.557735  127.158586   \n",
       "64154  education/job  37.561246  127.155895   \n",
       "64155  education/job  37.554311  127.136570   \n",
       "64156  education/job  37.539149  127.146814   \n",
       "64157  education/job  37.554317  127.128149   \n",
       "64158  education/job  37.530998  127.128193   \n",
       "64159  education/job  37.535421  127.137407   \n",
       "64160  education/job  37.528758  127.132657   \n",
       "64161  education/job  37.549899  127.126549   \n",
       "64162        daycare  37.545872  126.849567   \n",
       "64163        daycare  37.557676  127.013070   \n",
       "64164  signinterpret  37.507644  127.105472   \n",
       "64165  education/job  37.516988  127.041807   \n",
       "\n",
       "                                        place_address  place_id  \\\n",
       "7                                                             2   \n",
       "20                                                            9   \n",
       "31                                                           13   \n",
       "40                                                           18   \n",
       "41                                                           19   \n",
       "48                                                           22   \n",
       "49                                                           23   \n",
       "66                                                           29   \n",
       "76                                                           33   \n",
       "82                                                           36   \n",
       "86                                                           38   \n",
       "112                                                          48   \n",
       "123                                                          52   \n",
       "132                                                          56   \n",
       "147                                                          62   \n",
       "148                                                          63   \n",
       "153                                                          65   \n",
       "154                                                          66   \n",
       "160                                                          69   \n",
       "170                                                          73   \n",
       "173                                                          75   \n",
       "181                                                          78   \n",
       "196                                                          85   \n",
       "197                                                          86   \n",
       "200                                                          88   \n",
       "209                                                          92   \n",
       "210                                                          93   \n",
       "218                                                          96   \n",
       "225                                                         100   \n",
       "240                                                         106   \n",
       "...                                               ...       ...   \n",
       "64136                 경기도 여주시 강천면 원양1로 907 라파엘 직업재활센터     40284   \n",
       "64137                        강남구 언주로167길 35 4층 소망제이앤피     40288   \n",
       "64138                   강남구 양재대로55길 13 지하1층 래그랜느보호작업장     40290   \n",
       "64139                  서울특별시 서대문구 수색로4가길 23 서대문농아인복지관     40291   \n",
       "64140                     서울특별시 양천구 목동동로 159 양천장애인복지관     40292   \n",
       "64141                    서울특별시 송파구 오금로11길 68 방이장애인복지관     40294   \n",
       "64142                    서울특별시 송파구 마천로61길 26 인성장애인복지관     40295   \n",
       "64143                         강남구 밤고개로1길 34 밀알그린보호작업장     40296   \n",
       "64144                      송파구 양산로8길 17 (거여동) 신아보호작업장     40297   \n",
       "64145                 송파구 양산로10길 26 (거여동) 임마누엘 보호작업시설     40298   \n",
       "64146               송파구 양산로 5 3층 (거여동) 구립송파구 장애인보호작업장     40301   \n",
       "64147                     송파구 가락로 86 (석촌동) 5층 연화직업재활원     40302   \n",
       "64148                      송파구 성내천로 333-4 (마천동) 송파위더스     40303   \n",
       "64149  송파구 올림픽로 269, 832호 (신천동, 롯데캐슬프라자) 효명장애인 보호작업시설     40304   \n",
       "64150                      송파구 성내천로 271 (마천동) 행복보호작업장     40305   \n",
       "64151                     송파구 새말로10길 19 (문정동) 함재보호작업장     40307   \n",
       "64152                송파구 송이로 31길 4-15(문정동) 두손장애인보호작업장     40308   \n",
       "64153                          강동구 고덕로 295-45 라온클린패밀리     40309   \n",
       "64154                          강동구 동남로 85길 15 성지보호작업장     40311   \n",
       "64155                      강동구 고덕로 100-5 강동구 장애인보호작업장     40312   \n",
       "64156                강동구 명일로 230 삼보프리빌 301호 아이티어빌리티센터     40313   \n",
       "64157                            강동구 상암로3길 86 푸른보호작업장     40315   \n",
       "64158                            강동구 풍성로 146 동안우리복지센터     40317   \n",
       "64159                    강동구 진황도로 100 하이브 3층 파란마음복지센터     40318   \n",
       "64160          강동구 양재대로91길 62 (성내동, 동아아파트상가4층) 선한복지센터     40319   \n",
       "64161                        강동구 암사동512-4 2층 소망드림복지센터     40320   \n",
       "64162                 강서구 까치산로18나길 36 (화곡동 772-60 1층)     40326   \n",
       "64163                   중구 다산로22길 11 (신당동 340-180) 1층     40328   \n",
       "64164       서울시 송파구 송파1동 15-2 3층 서울시 송파구 송파대로 460, 3층     40329   \n",
       "64165                          서울특별시 강남구 학동로 402 TEST     40330   \n",
       "\n",
       "           place_name facility_available_name facility_is_available  \\\n",
       "7                  간석                                                 \n",
       "20                 개봉                                                 \n",
       "31               경마공원                                                 \n",
       "40                 고잔                                                 \n",
       "41                 공단                                                 \n",
       "48                 과천                                                 \n",
       "49                 관악                                                 \n",
       "66                 구로                                                 \n",
       "76                 구일                                                 \n",
       "82                 군포                                                 \n",
       "86                 금정                                                 \n",
       "112                남영                                                 \n",
       "123               노량진                                                 \n",
       "132                녹천                                                 \n",
       "147                대곡                                                 \n",
       "148               대공원                                                 \n",
       "153                대방                                                 \n",
       "154               대야미                                                 \n",
       "160                대화                                                 \n",
       "170                도봉                                                 \n",
       "173                도원                                                 \n",
       "181                독산                                                 \n",
       "196                동암                                                 \n",
       "197               동인천                                                 \n",
       "200                두정                                                 \n",
       "209                마곡                                                 \n",
       "210                마두                                                 \n",
       "218                마천                                                 \n",
       "225               망월산                                                 \n",
       "240                명학                                                 \n",
       "...               ...                     ...                   ...   \n",
       "64136      라파엘 직업재활센터                                                 \n",
       "64137          소망제이앤피                                                 \n",
       "64138       래그랜느보호작업장                                                 \n",
       "64139       서대문농아인복지관                                                 \n",
       "64140        양천장애인복지관                                                 \n",
       "64141        방이장애인복지관                                                 \n",
       "64142        인성장애인복지관                                                 \n",
       "64143       밀알그린보호작업장                                                 \n",
       "64144         신아보호작업장                                                 \n",
       "64145     임마누엘 보호작업시설                                                 \n",
       "64146  구립송파구 장애인보호작업장                                                 \n",
       "64147         연화직업재활원                                                 \n",
       "64148           송파위더스                                                 \n",
       "64149    효명장애인 보호작업시설                                                 \n",
       "64150         행복보호작업장                                                 \n",
       "64151         함재보호작업장                                                 \n",
       "64152      두손장애인보호작업장                                                 \n",
       "64153         라온클린패밀리                                                 \n",
       "64154         성지보호작업장                                                 \n",
       "64155    강동구 장애인보호작업장                                                 \n",
       "64156       아이티어빌리티센터                                                 \n",
       "64157         푸른보호작업장                                                 \n",
       "64158        동안우리복지센터                                                 \n",
       "64159        파란마음복지센터                                                 \n",
       "64160          선한복지센터                                                 \n",
       "64161        소망드림복지센터                                                 \n",
       "64162            로뎀나무                                                 \n",
       "64163      파란마음주간보호센터                                                 \n",
       "64164       송파구수화통역센터                                                 \n",
       "64165            TEST                                                 \n",
       "\n",
       "       facility_id  \n",
       "7               -1  \n",
       "20              -1  \n",
       "31              -1  \n",
       "40              -1  \n",
       "41              -1  \n",
       "48              -1  \n",
       "49              -1  \n",
       "66              -1  \n",
       "76              -1  \n",
       "82              -1  \n",
       "86              -1  \n",
       "112             -1  \n",
       "123             -1  \n",
       "132             -1  \n",
       "147             -1  \n",
       "148             -1  \n",
       "153             -1  \n",
       "154             -1  \n",
       "160             -1  \n",
       "170             -1  \n",
       "173             -1  \n",
       "181             -1  \n",
       "196             -1  \n",
       "197             -1  \n",
       "200             -1  \n",
       "209             -1  \n",
       "210             -1  \n",
       "218             -1  \n",
       "225             -1  \n",
       "240             -1  \n",
       "...            ...  \n",
       "64136           -1  \n",
       "64137           -1  \n",
       "64138           -1  \n",
       "64139           -1  \n",
       "64140           -1  \n",
       "64141           -1  \n",
       "64142           -1  \n",
       "64143           -1  \n",
       "64144           -1  \n",
       "64145           -1  \n",
       "64146           -1  \n",
       "64147           -1  \n",
       "64148           -1  \n",
       "64149           -1  \n",
       "64150           -1  \n",
       "64151           -1  \n",
       "64152           -1  \n",
       "64153           -1  \n",
       "64154           -1  \n",
       "64155           -1  \n",
       "64156           -1  \n",
       "64157           -1  \n",
       "64158           -1  \n",
       "64159           -1  \n",
       "64160           -1  \n",
       "64161           -1  \n",
       "64162           -1  \n",
       "64163           -1  \n",
       "64164           -1  \n",
       "64165           -1  \n",
       "\n",
       "[586 rows x 9 columns]"
      ]
     },
     "execution_count": 52,
     "metadata": {},
     "output_type": "execute_result"
    }
   ],
   "source": [
    "merge_data[merge_data.facility_id == -1]"
   ]
  },
  {
   "cell_type": "code",
   "execution_count": 53,
   "metadata": {},
   "outputs": [
    {
     "data": {
      "text/html": [
       "<div>\n",
       "<style scoped>\n",
       "    .dataframe tbody tr th:only-of-type {\n",
       "        vertical-align: middle;\n",
       "    }\n",
       "\n",
       "    .dataframe tbody tr th {\n",
       "        vertical-align: top;\n",
       "    }\n",
       "\n",
       "    .dataframe thead th {\n",
       "        text-align: right;\n",
       "    }\n",
       "</style>\n",
       "<table border=\"1\" class=\"dataframe\">\n",
       "  <thead>\n",
       "    <tr style=\"text-align: right;\">\n",
       "      <th></th>\n",
       "      <th>category</th>\n",
       "      <th>lat</th>\n",
       "      <th>lon</th>\n",
       "      <th>place_address</th>\n",
       "      <th>place_id</th>\n",
       "      <th>place_name</th>\n",
       "      <th>facility_available_name</th>\n",
       "      <th>facility_is_available</th>\n",
       "      <th>facility_id</th>\n",
       "    </tr>\n",
       "  </thead>\n",
       "  <tbody>\n",
       "    <tr>\n",
       "      <th>11020</th>\n",
       "      <td>education/Childcare</td>\n",
       "      <td>37.546752</td>\n",
       "      <td>127.127136</td>\n",
       "      <td>서울특별시 강동구 천중로9길 32</td>\n",
       "      <td>13269</td>\n",
       "      <td>예원어린이집</td>\n",
       "      <td>장애인용 화장실</td>\n",
       "      <td>이용불편</td>\n",
       "      <td>111594</td>\n",
       "    </tr>\n",
       "    <tr>\n",
       "      <th>39778</th>\n",
       "      <td>shopping/mart</td>\n",
       "      <td>37.528631</td>\n",
       "      <td>126.849705</td>\n",
       "      <td>서울특별시 강서구 국회대로7길 201</td>\n",
       "      <td>25343</td>\n",
       "      <td>세림빌딩</td>\n",
       "      <td>주출입구 접근로</td>\n",
       "      <td></td>\n",
       "      <td>248220</td>\n",
       "    </tr>\n",
       "    <tr>\n",
       "      <th>27319</th>\n",
       "      <td>welfare/senior</td>\n",
       "      <td>37.477700</td>\n",
       "      <td>126.956822</td>\n",
       "      <td>서울특별시 관악구 남부순환로234길 37</td>\n",
       "      <td>22366</td>\n",
       "      <td>덕진경로당</td>\n",
       "      <td>출입구(문)</td>\n",
       "      <td></td>\n",
       "      <td>220910</td>\n",
       "    </tr>\n",
       "    <tr>\n",
       "      <th>20727</th>\n",
       "      <td>bank</td>\n",
       "      <td>37.625324</td>\n",
       "      <td>127.071647</td>\n",
       "      <td>서울특별시 노원구 동일로191가길 6</td>\n",
       "      <td>20816</td>\n",
       "      <td>건양오피스텔</td>\n",
       "      <td>출입구(문)</td>\n",
       "      <td></td>\n",
       "      <td>206988</td>\n",
       "    </tr>\n",
       "    <tr>\n",
       "      <th>37005</th>\n",
       "      <td>community service center</td>\n",
       "      <td>37.536741</td>\n",
       "      <td>126.969247</td>\n",
       "      <td>서울특별시 용산구 백범로90길 32</td>\n",
       "      <td>24716</td>\n",
       "      <td>서울서부지방법원 용산등기소</td>\n",
       "      <td>주출입구 접근로</td>\n",
       "      <td></td>\n",
       "      <td>241962</td>\n",
       "    </tr>\n",
       "    <tr>\n",
       "      <th>8201</th>\n",
       "      <td>education/Childcare</td>\n",
       "      <td>37.495764</td>\n",
       "      <td>126.897783</td>\n",
       "      <td>서울특별시 영등포구 도림로41길 20-1</td>\n",
       "      <td>12323</td>\n",
       "      <td>리틀팰리스 어린이집</td>\n",
       "      <td>주출입구 접근로</td>\n",
       "      <td>이용가능</td>\n",
       "      <td>108165</td>\n",
       "    </tr>\n",
       "    <tr>\n",
       "      <th>28506</th>\n",
       "      <td>hospital</td>\n",
       "      <td>37.589381</td>\n",
       "      <td>127.008782</td>\n",
       "      <td>서울특별시 성북구 동소문로24나길  47</td>\n",
       "      <td>22666</td>\n",
       "      <td>동일코아루센타시아 상가</td>\n",
       "      <td>계단 또는 승강설비</td>\n",
       "      <td></td>\n",
       "      <td>223597</td>\n",
       "    </tr>\n",
       "    <tr>\n",
       "      <th>30253</th>\n",
       "      <td>bank</td>\n",
       "      <td>37.499446</td>\n",
       "      <td>127.035858</td>\n",
       "      <td>서울특별시 강남구 테헤란로26길  12</td>\n",
       "      <td>23019</td>\n",
       "      <td>리틀 스타 빌딩</td>\n",
       "      <td>대변기</td>\n",
       "      <td></td>\n",
       "      <td>226538</td>\n",
       "    </tr>\n",
       "    <tr>\n",
       "      <th>24410</th>\n",
       "      <td>city park</td>\n",
       "      <td>37.480401</td>\n",
       "      <td>126.913966</td>\n",
       "      <td>서울특별시 관악구 난곡로61길 1</td>\n",
       "      <td>21701</td>\n",
       "      <td>난우어린이공원</td>\n",
       "      <td>대변기</td>\n",
       "      <td></td>\n",
       "      <td>215137</td>\n",
       "    </tr>\n",
       "    <tr>\n",
       "      <th>2806</th>\n",
       "      <td>hospital</td>\n",
       "      <td>37.530634</td>\n",
       "      <td>127.148161</td>\n",
       "      <td>서울특별시 강동구 진황도로61길  53</td>\n",
       "      <td>10695</td>\n",
       "      <td>서울보훈병원</td>\n",
       "      <td>장애인 전용 주차구역</td>\n",
       "      <td>이용불편</td>\n",
       "      <td>102271</td>\n",
       "    </tr>\n",
       "  </tbody>\n",
       "</table>\n",
       "</div>"
      ],
      "text/plain": [
       "                       category        lat         lon  \\\n",
       "11020       education/Childcare  37.546752  127.127136   \n",
       "39778             shopping/mart  37.528631  126.849705   \n",
       "27319            welfare/senior  37.477700  126.956822   \n",
       "20727                      bank  37.625324  127.071647   \n",
       "37005  community service center  37.536741  126.969247   \n",
       "8201        education/Childcare  37.495764  126.897783   \n",
       "28506                  hospital  37.589381  127.008782   \n",
       "30253                      bank  37.499446  127.035858   \n",
       "24410                 city park  37.480401  126.913966   \n",
       "2806                   hospital  37.530634  127.148161   \n",
       "\n",
       "                place_address  place_id      place_name  \\\n",
       "11020      서울특별시 강동구 천중로9길 32     13269          예원어린이집   \n",
       "39778    서울특별시 강서구 국회대로7길 201     25343            세림빌딩   \n",
       "27319  서울특별시 관악구 남부순환로234길 37     22366           덕진경로당   \n",
       "20727    서울특별시 노원구 동일로191가길 6     20816          건양오피스텔   \n",
       "37005     서울특별시 용산구 백범로90길 32     24716  서울서부지방법원 용산등기소   \n",
       "8201   서울특별시 영등포구 도림로41길 20-1     12323      리틀팰리스 어린이집   \n",
       "28506  서울특별시 성북구 동소문로24나길  47     22666    동일코아루센타시아 상가   \n",
       "30253   서울특별시 강남구 테헤란로26길  12     23019        리틀 스타 빌딩   \n",
       "24410      서울특별시 관악구 난곡로61길 1     21701         난우어린이공원   \n",
       "2806    서울특별시 강동구 진황도로61길  53     10695          서울보훈병원   \n",
       "\n",
       "      facility_available_name facility_is_available  facility_id  \n",
       "11020                장애인용 화장실                  이용불편       111594  \n",
       "39778                주출입구 접근로                             248220  \n",
       "27319                  출입구(문)                             220910  \n",
       "20727                  출입구(문)                             206988  \n",
       "37005                주출입구 접근로                             241962  \n",
       "8201                 주출입구 접근로                  이용가능       108165  \n",
       "28506              계단 또는 승강설비                             223597  \n",
       "30253                     대변기                             226538  \n",
       "24410                     대변기                             215137  \n",
       "2806              장애인 전용 주차구역                  이용불편       102271  "
      ]
     },
     "execution_count": 53,
     "metadata": {},
     "output_type": "execute_result"
    }
   ],
   "source": [
    "merge_data.sample(10)"
   ]
  },
  {
   "cell_type": "code",
   "execution_count": 54,
   "metadata": {},
   "outputs": [
    {
     "data": {
      "text/html": [
       "<div>\n",
       "<style scoped>\n",
       "    .dataframe tbody tr th:only-of-type {\n",
       "        vertical-align: middle;\n",
       "    }\n",
       "\n",
       "    .dataframe tbody tr th {\n",
       "        vertical-align: top;\n",
       "    }\n",
       "\n",
       "    .dataframe thead th {\n",
       "        text-align: right;\n",
       "    }\n",
       "</style>\n",
       "<table border=\"1\" class=\"dataframe\">\n",
       "  <thead>\n",
       "    <tr style=\"text-align: right;\">\n",
       "      <th></th>\n",
       "      <th>category</th>\n",
       "      <th>lat</th>\n",
       "      <th>lon</th>\n",
       "      <th>place_address</th>\n",
       "      <th>place_id</th>\n",
       "      <th>place_name</th>\n",
       "      <th>facility_available_name</th>\n",
       "      <th>facility_is_available</th>\n",
       "      <th>facility_id</th>\n",
       "    </tr>\n",
       "  </thead>\n",
       "  <tbody>\n",
       "  </tbody>\n",
       "</table>\n",
       "</div>"
      ],
      "text/plain": [
       "Empty DataFrame\n",
       "Columns: [category, lat, lon, place_address, place_id, place_name, facility_available_name, facility_is_available, facility_id]\n",
       "Index: []"
      ]
     },
     "execution_count": 54,
     "metadata": {},
     "output_type": "execute_result"
    }
   ],
   "source": [
    "merge_data.filter(regex=\"None\", axis=0)"
   ]
  },
  {
   "cell_type": "code",
   "execution_count": 55,
   "metadata": {
    "scrolled": true
   },
   "outputs": [
    {
     "name": "stdout",
     "output_type": "stream",
     "text": [
      "<class 'pandas.core.frame.DataFrame'>\n",
      "Int64Index: 64166 entries, 0 to 64165\n",
      "Data columns (total 9 columns):\n",
      "category                   64166 non-null object\n",
      "lat                        64166 non-null float64\n",
      "lon                        64166 non-null float64\n",
      "place_address              64166 non-null object\n",
      "place_id                   64166 non-null int64\n",
      "place_name                 64166 non-null object\n",
      "facility_available_name    64166 non-null object\n",
      "facility_is_available      64166 non-null object\n",
      "facility_id                64166 non-null int64\n",
      "dtypes: float64(2), int64(2), object(5)\n",
      "memory usage: 4.9+ MB\n"
     ]
    }
   ],
   "source": [
    "merge_data.info()"
   ]
  },
  {
   "cell_type": "markdown",
   "metadata": {},
   "source": [
    "# 편의 시설이 없는건 따로 배제 "
   ]
  },
  {
   "cell_type": "markdown",
   "metadata": {},
   "source": [
    "복지관시설은 나중에 지도상에 보여질 필요가 있어 나중에 복지관시설만 데이터셋에 넣는다."
   ]
  },
  {
   "cell_type": "code",
   "execution_count": 26,
   "metadata": {},
   "outputs": [],
   "source": [
    "get_nan = merge_data[merge_data.facility_available_name == ''] "
   ]
  },
  {
   "cell_type": "code",
   "execution_count": 27,
   "metadata": {},
   "outputs": [
    {
     "data": {
      "text/html": [
       "<div>\n",
       "<style scoped>\n",
       "    .dataframe tbody tr th:only-of-type {\n",
       "        vertical-align: middle;\n",
       "    }\n",
       "\n",
       "    .dataframe tbody tr th {\n",
       "        vertical-align: top;\n",
       "    }\n",
       "\n",
       "    .dataframe thead th {\n",
       "        text-align: right;\n",
       "    }\n",
       "</style>\n",
       "<table border=\"1\" class=\"dataframe\">\n",
       "  <thead>\n",
       "    <tr style=\"text-align: right;\">\n",
       "      <th></th>\n",
       "      <th>category</th>\n",
       "      <th>lat</th>\n",
       "      <th>lon</th>\n",
       "      <th>place_address</th>\n",
       "      <th>place_id</th>\n",
       "      <th>facility_available_name</th>\n",
       "      <th>facility_is_available</th>\n",
       "      <th>place_name</th>\n",
       "      <th>facility_id</th>\n",
       "    </tr>\n",
       "  </thead>\n",
       "  <tbody>\n",
       "    <tr>\n",
       "      <th>573</th>\n",
       "      <td>subway</td>\n",
       "      <td>37.56217</td>\n",
       "      <td>127.050835</td>\n",
       "      <td></td>\n",
       "      <td>240</td>\n",
       "      <td></td>\n",
       "      <td></td>\n",
       "      <td></td>\n",
       "      <td></td>\n",
       "    </tr>\n",
       "    <tr>\n",
       "      <th>81298</th>\n",
       "      <td>education/job</td>\n",
       "      <td>37.4897693</td>\n",
       "      <td>127.1426724</td>\n",
       "      <td>송파구 양산로 5 3층 (거여동) 구립송파구 장애인보호작업장</td>\n",
       "      <td>40301</td>\n",
       "      <td></td>\n",
       "      <td></td>\n",
       "      <td></td>\n",
       "      <td></td>\n",
       "    </tr>\n",
       "    <tr>\n",
       "      <th>1235</th>\n",
       "      <td>movie/concerthall</td>\n",
       "      <td>37.5227864</td>\n",
       "      <td>127.0273924</td>\n",
       "      <td>서울특별시 강남구 신사동 566-31</td>\n",
       "      <td>10173</td>\n",
       "      <td></td>\n",
       "      <td></td>\n",
       "      <td></td>\n",
       "      <td></td>\n",
       "    </tr>\n",
       "    <tr>\n",
       "      <th>81237</th>\n",
       "      <td>education/job</td>\n",
       "      <td>37.60497460000001</td>\n",
       "      <td>127.0463687</td>\n",
       "      <td>성북구 화랑로134 행복플러스작업장</td>\n",
       "      <td>40209</td>\n",
       "      <td></td>\n",
       "      <td></td>\n",
       "      <td></td>\n",
       "      <td></td>\n",
       "    </tr>\n",
       "    <tr>\n",
       "      <th>81254</th>\n",
       "      <td>education/job</td>\n",
       "      <td>37.5831244</td>\n",
       "      <td>126.9278855</td>\n",
       "      <td>서대문구 명지2길 14 (홍은동304-1) 그린내</td>\n",
       "      <td>40238</td>\n",
       "      <td></td>\n",
       "      <td></td>\n",
       "      <td></td>\n",
       "      <td></td>\n",
       "    </tr>\n",
       "  </tbody>\n",
       "</table>\n",
       "</div>"
      ],
      "text/plain": [
       "                category                lat          lon  \\\n",
       "573               subway           37.56217   127.050835   \n",
       "81298      education/job         37.4897693  127.1426724   \n",
       "1235   movie/concerthall         37.5227864  127.0273924   \n",
       "81237      education/job  37.60497460000001  127.0463687   \n",
       "81254      education/job         37.5831244  126.9278855   \n",
       "\n",
       "                           place_address  place_id facility_available_name  \\\n",
       "573                                            240                           \n",
       "81298  송파구 양산로 5 3층 (거여동) 구립송파구 장애인보호작업장     40301                           \n",
       "1235                서울특별시 강남구 신사동 566-31     10173                           \n",
       "81237                성북구 화랑로134 행복플러스작업장     40209                           \n",
       "81254        서대문구 명지2길 14 (홍은동304-1) 그린내     40238                           \n",
       "\n",
       "      facility_is_available place_name facility_id  \n",
       "573                                                 \n",
       "81298                                               \n",
       "1235                                                \n",
       "81237                                               \n",
       "81254                                               "
      ]
     },
     "execution_count": 27,
     "metadata": {},
     "output_type": "execute_result"
    }
   ],
   "source": [
    "get_nan.sample(5)"
   ]
  },
  {
   "cell_type": "code",
   "execution_count": 28,
   "metadata": {},
   "outputs": [],
   "source": [
    "merge_data = merge_data[merge_data.facility_available_name != '']"
   ]
  },
  {
   "cell_type": "code",
   "execution_count": 29,
   "metadata": {
    "scrolled": true
   },
   "outputs": [
    {
     "data": {
      "text/html": [
       "<div>\n",
       "<style scoped>\n",
       "    .dataframe tbody tr th:only-of-type {\n",
       "        vertical-align: middle;\n",
       "    }\n",
       "\n",
       "    .dataframe tbody tr th {\n",
       "        vertical-align: top;\n",
       "    }\n",
       "\n",
       "    .dataframe thead th {\n",
       "        text-align: right;\n",
       "    }\n",
       "</style>\n",
       "<table border=\"1\" class=\"dataframe\">\n",
       "  <thead>\n",
       "    <tr style=\"text-align: right;\">\n",
       "      <th></th>\n",
       "      <th>category</th>\n",
       "      <th>lat</th>\n",
       "      <th>lon</th>\n",
       "      <th>place_address</th>\n",
       "      <th>place_id</th>\n",
       "      <th>facility_available_name</th>\n",
       "      <th>facility_is_available</th>\n",
       "      <th>place_name</th>\n",
       "      <th>facility_id</th>\n",
       "    </tr>\n",
       "  </thead>\n",
       "  <tbody>\n",
       "    <tr>\n",
       "      <th>0</th>\n",
       "      <td>subway</td>\n",
       "      <td>37.4923175</td>\n",
       "      <td>127.118104</td>\n",
       "      <td></td>\n",
       "      <td>0</td>\n",
       "      <td>화장실</td>\n",
       "      <td>이용가능</td>\n",
       "      <td>가락시장</td>\n",
       "      <td>900000</td>\n",
       "    </tr>\n",
       "    <tr>\n",
       "      <th>1</th>\n",
       "      <td>subway</td>\n",
       "      <td>37.4923175</td>\n",
       "      <td>127.118104</td>\n",
       "      <td></td>\n",
       "      <td>0</td>\n",
       "      <td>엘리베이터</td>\n",
       "      <td>이용가능</td>\n",
       "      <td>가락시장</td>\n",
       "      <td>900001</td>\n",
       "    </tr>\n",
       "    <tr>\n",
       "      <th>2</th>\n",
       "      <td>subway</td>\n",
       "      <td>37.4923175</td>\n",
       "      <td>127.118104</td>\n",
       "      <td></td>\n",
       "      <td>0</td>\n",
       "      <td>휠체어리프트</td>\n",
       "      <td>이용가능</td>\n",
       "      <td>가락시장</td>\n",
       "      <td>900002</td>\n",
       "    </tr>\n",
       "    <tr>\n",
       "      <th>3</th>\n",
       "      <td>subway</td>\n",
       "      <td>37.48089</td>\n",
       "      <td>126.8825735</td>\n",
       "      <td></td>\n",
       "      <td>1</td>\n",
       "      <td>에스켈레이터</td>\n",
       "      <td>이용가능</td>\n",
       "      <td>가산디지털단지</td>\n",
       "      <td>900003</td>\n",
       "    </tr>\n",
       "    <tr>\n",
       "      <th>4</th>\n",
       "      <td>subway</td>\n",
       "      <td>37.48089</td>\n",
       "      <td>126.8825735</td>\n",
       "      <td></td>\n",
       "      <td>1</td>\n",
       "      <td>화장실</td>\n",
       "      <td>이용가능</td>\n",
       "      <td>가산디지털단지</td>\n",
       "      <td>900004</td>\n",
       "    </tr>\n",
       "  </tbody>\n",
       "</table>\n",
       "</div>"
      ],
      "text/plain": [
       "  category         lat          lon place_address  place_id  \\\n",
       "0   subway  37.4923175   127.118104                       0   \n",
       "1   subway  37.4923175   127.118104                       0   \n",
       "2   subway  37.4923175   127.118104                       0   \n",
       "3   subway    37.48089  126.8825735                       1   \n",
       "4   subway    37.48089  126.8825735                       1   \n",
       "\n",
       "  facility_available_name facility_is_available place_name facility_id  \n",
       "0                     화장실                  이용가능       가락시장      900000  \n",
       "1                   엘리베이터                  이용가능       가락시장      900001  \n",
       "2                  휠체어리프트                  이용가능       가락시장      900002  \n",
       "3                  에스켈레이터                  이용가능    가산디지털단지      900003  \n",
       "4                     화장실                  이용가능    가산디지털단지      900004  "
      ]
     },
     "execution_count": 29,
     "metadata": {},
     "output_type": "execute_result"
    }
   ],
   "source": [
    "merge_data.head()"
   ]
  },
  {
   "cell_type": "code",
   "execution_count": 30,
   "metadata": {},
   "outputs": [
    {
     "name": "stdout",
     "output_type": "stream",
     "text": [
      "<class 'pandas.core.frame.DataFrame'>\n",
      "Int64Index: 80712 entries, 0 to 81074\n",
      "Data columns (total 9 columns):\n",
      "category                   80712 non-null object\n",
      "lat                        80712 non-null object\n",
      "lon                        80712 non-null object\n",
      "place_address              80712 non-null object\n",
      "place_id                   80712 non-null int64\n",
      "facility_available_name    80712 non-null object\n",
      "facility_is_available      80712 non-null object\n",
      "place_name                 80712 non-null object\n",
      "facility_id                80712 non-null object\n",
      "dtypes: int64(1), object(8)\n",
      "memory usage: 6.2+ MB\n"
     ]
    }
   ],
   "source": [
    "merge_data.info()"
   ]
  },
  {
   "cell_type": "code",
   "execution_count": 31,
   "metadata": {},
   "outputs": [
    {
     "data": {
      "text/html": [
       "<div>\n",
       "<style scoped>\n",
       "    .dataframe tbody tr th:only-of-type {\n",
       "        vertical-align: middle;\n",
       "    }\n",
       "\n",
       "    .dataframe tbody tr th {\n",
       "        vertical-align: top;\n",
       "    }\n",
       "\n",
       "    .dataframe thead th {\n",
       "        text-align: right;\n",
       "    }\n",
       "</style>\n",
       "<table border=\"1\" class=\"dataframe\">\n",
       "  <thead>\n",
       "    <tr style=\"text-align: right;\">\n",
       "      <th></th>\n",
       "      <th>place_name</th>\n",
       "    </tr>\n",
       "    <tr>\n",
       "      <th>category</th>\n",
       "      <th></th>\n",
       "    </tr>\n",
       "  </thead>\n",
       "  <tbody>\n",
       "    <tr>\n",
       "      <th>bank</th>\n",
       "      <td>2</td>\n",
       "    </tr>\n",
       "    <tr>\n",
       "      <th>chinese_food</th>\n",
       "      <td>10</td>\n",
       "    </tr>\n",
       "    <tr>\n",
       "      <th>daycare</th>\n",
       "      <td>96</td>\n",
       "    </tr>\n",
       "    <tr>\n",
       "      <th>education/Childcare</th>\n",
       "      <td>6</td>\n",
       "    </tr>\n",
       "    <tr>\n",
       "      <th>education/job</th>\n",
       "      <td>86</td>\n",
       "    </tr>\n",
       "    <tr>\n",
       "      <th>hospital/rehab</th>\n",
       "      <td>4</td>\n",
       "    </tr>\n",
       "    <tr>\n",
       "      <th>hotel</th>\n",
       "      <td>1</td>\n",
       "    </tr>\n",
       "    <tr>\n",
       "      <th>japanese_food</th>\n",
       "      <td>29</td>\n",
       "    </tr>\n",
       "    <tr>\n",
       "      <th>korean_food</th>\n",
       "      <td>3</td>\n",
       "    </tr>\n",
       "    <tr>\n",
       "      <th>movie/concerthall</th>\n",
       "      <td>51</td>\n",
       "    </tr>\n",
       "    <tr>\n",
       "      <th>other</th>\n",
       "      <td>4</td>\n",
       "    </tr>\n",
       "    <tr>\n",
       "      <th>other_food</th>\n",
       "      <td>98</td>\n",
       "    </tr>\n",
       "    <tr>\n",
       "      <th>publicinstitution</th>\n",
       "      <td>4</td>\n",
       "    </tr>\n",
       "    <tr>\n",
       "      <th>publicparking</th>\n",
       "      <td>1</td>\n",
       "    </tr>\n",
       "    <tr>\n",
       "      <th>publictoilet</th>\n",
       "      <td>1</td>\n",
       "    </tr>\n",
       "    <tr>\n",
       "      <th>signinterpret</th>\n",
       "      <td>21</td>\n",
       "    </tr>\n",
       "    <tr>\n",
       "      <th>sports/rehab</th>\n",
       "      <td>2</td>\n",
       "    </tr>\n",
       "    <tr>\n",
       "      <th>subway</th>\n",
       "      <td>98</td>\n",
       "    </tr>\n",
       "    <tr>\n",
       "      <th>wellfare</th>\n",
       "      <td>35</td>\n",
       "    </tr>\n",
       "    <tr>\n",
       "      <th>western_food</th>\n",
       "      <td>55</td>\n",
       "    </tr>\n",
       "  </tbody>\n",
       "</table>\n",
       "</div>"
      ],
      "text/plain": [
       "                     place_name\n",
       "category                       \n",
       "bank                          2\n",
       "chinese_food                 10\n",
       "daycare                      96\n",
       "education/Childcare           6\n",
       "education/job                86\n",
       "hospital/rehab                4\n",
       "hotel                         1\n",
       "japanese_food                29\n",
       "korean_food                   3\n",
       "movie/concerthall            51\n",
       "other                         4\n",
       "other_food                   98\n",
       "publicinstitution             4\n",
       "publicparking                 1\n",
       "publictoilet                  1\n",
       "signinterpret                21\n",
       "sports/rehab                  2\n",
       "subway                       98\n",
       "wellfare                     35\n",
       "western_food                 55"
      ]
     },
     "execution_count": 31,
     "metadata": {},
     "output_type": "execute_result"
    }
   ],
   "source": [
    "get_nan.groupby('category')[['place_name']].count()"
   ]
  },
  {
   "cell_type": "markdown",
   "metadata": {},
   "source": [
    "# category reduce"
   ]
  },
  {
   "cell_type": "code",
   "execution_count": 32,
   "metadata": {},
   "outputs": [],
   "source": [
    "def category_sum(dataframe,replace_target,replace_str) -> DataFrame():\n",
    "    print(\"전체 category 개수\")\n",
    "    print(len(dataframe.category.unique()))\n",
    "    print()\n",
    "    print(\"이 전\",replace_str,\"해당 category 개수 : \")\n",
    "    print(dataframe.loc[dataframe.category == replace_str].apply(len))\n",
    "    dataframe_replace = dataframe[dataframe.loc[:, 'category'] == replace_target]\n",
    "    dataframe_replace.category = replace_str\n",
    "    dataframe[dataframe.loc[:, 'category'] == replace_target] = dataframe_replace\n",
    "    print()\n",
    "    print(\"이 후\",replace_str,\"해당 category 개수 : \")\n",
    "    print(dataframe.loc[dataframe.category == replace_str].apply(len))\n",
    "    print()\n",
    "    print(\"전체 category 개수\")\n",
    "    print(len(dataframe.category.unique()))\n",
    "    return dataframe"
   ]
  },
  {
   "cell_type": "code",
   "execution_count": 33,
   "metadata": {},
   "outputs": [],
   "source": [
    "def reg_name_change(dataframe, category_str, reg, change_category):\n",
    "    a = dataframe[dataframe.category == category_str]\n",
    "    b = a[a.place_name.str.contains(reg)]\n",
    "    b.category = change_category\n",
    "    dataframe.iloc[b.index] =b\n",
    "    return dataframe"
   ]
  },
  {
   "cell_type": "code",
   "execution_count": 34,
   "metadata": {},
   "outputs": [],
   "source": [
    "test = merge_data"
   ]
  },
  {
   "cell_type": "code",
   "execution_count": 48,
   "metadata": {},
   "outputs": [],
   "source": [
    "test.reset_index(inplace=True)"
   ]
  },
  {
   "cell_type": "code",
   "execution_count": 35,
   "metadata": {},
   "outputs": [
    {
     "data": {
      "text/plain": [
       "array(['subway', 'movie/concerthall', 'shopping/mart', 'publicparking',\n",
       "       'publictoilet', 'hospital', 'publicinstitution', 'bank',\n",
       "       'education/Childcare', 'beauty/hair', 'other', 'korean_food',\n",
       "       'tourist hotel', 'restaurant', 'education/job', 'shopping',\n",
       "       'apartment subsidiary facility', 'exhibition center',\n",
       "       'broadcasting station', 'concert hall', 'movie', 'public parking',\n",
       "       'hotel', 'factory', 'convenience store/bakery', 'stadium',\n",
       "       'university', 'telecommunication office',\n",
       "       'government office building', 'church', 'daycare center',\n",
       "       'massage parlor', 'general hospital', 'kindergarten',\n",
       "       'meeting hall', 'welfare/senior', 'welfare/etc',\n",
       "       'elementary school', 'community service center', 'city park',\n",
       "       'junior high school', 'training facility/urban',\n",
       "       'welfare/disabled', 'gym', 'health center', 'library',\n",
       "       'welfare/child', 'training facility/rural', 'high school',\n",
       "       'police station', 'national health insurance corporation',\n",
       "       'post office', 'national pension service', 'toilet/public',\n",
       "       'community child center', 'nature park',\n",
       "       'special-education school', 'driving academy', 'funeral hall',\n",
       "       'public library', 'outdoor theater', 'college', 'shelter',\n",
       "       'toilet/open', 'service area', 'toilet/small'], dtype=object)"
      ]
     },
     "execution_count": 35,
     "metadata": {},
     "output_type": "execute_result"
    }
   ],
   "source": [
    "test.category.unique()"
   ]
  },
  {
   "cell_type": "markdown",
   "metadata": {},
   "source": [
    "# 1. subway 수정사항 없음 "
   ]
  },
  {
   "cell_type": "code",
   "execution_count": 35,
   "metadata": {
    "scrolled": true
   },
   "outputs": [
    {
     "data": {
      "text/html": [
       "<div>\n",
       "<style scoped>\n",
       "    .dataframe tbody tr th:only-of-type {\n",
       "        vertical-align: middle;\n",
       "    }\n",
       "\n",
       "    .dataframe tbody tr th {\n",
       "        vertical-align: top;\n",
       "    }\n",
       "\n",
       "    .dataframe thead th {\n",
       "        text-align: right;\n",
       "    }\n",
       "</style>\n",
       "<table border=\"1\" class=\"dataframe\">\n",
       "  <thead>\n",
       "    <tr style=\"text-align: right;\">\n",
       "      <th></th>\n",
       "      <th>category</th>\n",
       "      <th>lat</th>\n",
       "      <th>lon</th>\n",
       "      <th>place_address</th>\n",
       "      <th>place_id</th>\n",
       "      <th>facility_available_name</th>\n",
       "      <th>facility_is_available</th>\n",
       "      <th>place_name</th>\n",
       "      <th>facility_id</th>\n",
       "    </tr>\n",
       "  </thead>\n",
       "  <tbody>\n",
       "    <tr>\n",
       "      <th>0</th>\n",
       "      <td>subway</td>\n",
       "      <td>37.4923175</td>\n",
       "      <td>127.118104</td>\n",
       "      <td></td>\n",
       "      <td>0</td>\n",
       "      <td>화장실</td>\n",
       "      <td>이용가능</td>\n",
       "      <td>가락시장</td>\n",
       "      <td>900000</td>\n",
       "    </tr>\n",
       "    <tr>\n",
       "      <th>1</th>\n",
       "      <td>subway</td>\n",
       "      <td>37.4923175</td>\n",
       "      <td>127.118104</td>\n",
       "      <td></td>\n",
       "      <td>0</td>\n",
       "      <td>엘리베이터</td>\n",
       "      <td>이용가능</td>\n",
       "      <td>가락시장</td>\n",
       "      <td>900001</td>\n",
       "    </tr>\n",
       "    <tr>\n",
       "      <th>2</th>\n",
       "      <td>subway</td>\n",
       "      <td>37.4923175</td>\n",
       "      <td>127.118104</td>\n",
       "      <td></td>\n",
       "      <td>0</td>\n",
       "      <td>휠체어리프트</td>\n",
       "      <td>이용가능</td>\n",
       "      <td>가락시장</td>\n",
       "      <td>900002</td>\n",
       "    </tr>\n",
       "    <tr>\n",
       "      <th>3</th>\n",
       "      <td>subway</td>\n",
       "      <td>37.48089</td>\n",
       "      <td>126.8825735</td>\n",
       "      <td></td>\n",
       "      <td>1</td>\n",
       "      <td>에스켈레이터</td>\n",
       "      <td>이용가능</td>\n",
       "      <td>가산디지털단지</td>\n",
       "      <td>900003</td>\n",
       "    </tr>\n",
       "    <tr>\n",
       "      <th>4</th>\n",
       "      <td>subway</td>\n",
       "      <td>37.48089</td>\n",
       "      <td>126.8825735</td>\n",
       "      <td></td>\n",
       "      <td>1</td>\n",
       "      <td>화장실</td>\n",
       "      <td>이용가능</td>\n",
       "      <td>가산디지털단지</td>\n",
       "      <td>900004</td>\n",
       "    </tr>\n",
       "  </tbody>\n",
       "</table>\n",
       "</div>"
      ],
      "text/plain": [
       "  category         lat          lon place_address  place_id  \\\n",
       "0   subway  37.4923175   127.118104                       0   \n",
       "1   subway  37.4923175   127.118104                       0   \n",
       "2   subway  37.4923175   127.118104                       0   \n",
       "3   subway    37.48089  126.8825735                       1   \n",
       "4   subway    37.48089  126.8825735                       1   \n",
       "\n",
       "  facility_available_name facility_is_available place_name facility_id  \n",
       "0                     화장실                  이용가능       가락시장      900000  \n",
       "1                   엘리베이터                  이용가능       가락시장      900001  \n",
       "2                  휠체어리프트                  이용가능       가락시장      900002  \n",
       "3                  에스켈레이터                  이용가능    가산디지털단지      900003  \n",
       "4                     화장실                  이용가능    가산디지털단지      900004  "
      ]
     },
     "execution_count": 35,
     "metadata": {},
     "output_type": "execute_result"
    }
   ],
   "source": [
    "# test[test.category == \"subway\"].head()"
   ]
  },
  {
   "cell_type": "markdown",
   "metadata": {},
   "source": [
    "# 2. movie/concerthall"
   ]
  },
  {
   "cell_type": "code",
   "execution_count": 36,
   "metadata": {},
   "outputs": [
    {
     "data": {
      "text/html": [
       "<div>\n",
       "<style scoped>\n",
       "    .dataframe tbody tr th:only-of-type {\n",
       "        vertical-align: middle;\n",
       "    }\n",
       "\n",
       "    .dataframe tbody tr th {\n",
       "        vertical-align: top;\n",
       "    }\n",
       "\n",
       "    .dataframe thead th {\n",
       "        text-align: right;\n",
       "    }\n",
       "</style>\n",
       "<table border=\"1\" class=\"dataframe\">\n",
       "  <thead>\n",
       "    <tr style=\"text-align: right;\">\n",
       "      <th></th>\n",
       "      <th>category</th>\n",
       "      <th>lat</th>\n",
       "      <th>lon</th>\n",
       "      <th>place_address</th>\n",
       "      <th>place_id</th>\n",
       "      <th>facility_available_name</th>\n",
       "      <th>facility_is_available</th>\n",
       "      <th>place_name</th>\n",
       "      <th>facility_id</th>\n",
       "    </tr>\n",
       "  </thead>\n",
       "  <tbody>\n",
       "    <tr>\n",
       "      <th>768</th>\n",
       "      <td>movie/concerthall</td>\n",
       "      <td>37.58326870000001</td>\n",
       "      <td>127.002443</td>\n",
       "      <td>서울특별시 종로구 동숭동 1-37</td>\n",
       "      <td>10000</td>\n",
       "      <td>주출입구 접근로</td>\n",
       "      <td>이용불편</td>\n",
       "      <td>A아트홀(구.신연아트홀)</td>\n",
       "      <td>100000</td>\n",
       "    </tr>\n",
       "    <tr>\n",
       "      <th>769</th>\n",
       "      <td>movie/concerthall</td>\n",
       "      <td>37.58326870000001</td>\n",
       "      <td>127.002443</td>\n",
       "      <td>서울특별시 종로구 동숭동 1-37</td>\n",
       "      <td>10000</td>\n",
       "      <td>주출입구 높이차이 제거</td>\n",
       "      <td>이용가능</td>\n",
       "      <td>A아트홀(구.신연아트홀)</td>\n",
       "      <td>100001</td>\n",
       "    </tr>\n",
       "    <tr>\n",
       "      <th>774</th>\n",
       "      <td>movie/concerthall</td>\n",
       "      <td>37.5239298</td>\n",
       "      <td>127.0251432</td>\n",
       "      <td>서울특별시 강남구 신사동  568-2</td>\n",
       "      <td>10001</td>\n",
       "      <td>장애인용 관람석</td>\n",
       "      <td>이용가능</td>\n",
       "      <td>BBC씨어터</td>\n",
       "      <td>100006</td>\n",
       "    </tr>\n",
       "    <tr>\n",
       "      <th>772</th>\n",
       "      <td>movie/concerthall</td>\n",
       "      <td>37.5239298</td>\n",
       "      <td>127.0251432</td>\n",
       "      <td>서울특별시 강남구 신사동  568-2</td>\n",
       "      <td>10001</td>\n",
       "      <td>주출입구 높이차이 제거</td>\n",
       "      <td>이용가능</td>\n",
       "      <td>BBC씨어터</td>\n",
       "      <td>100004</td>\n",
       "    </tr>\n",
       "    <tr>\n",
       "      <th>773</th>\n",
       "      <td>movie/concerthall</td>\n",
       "      <td>37.5239298</td>\n",
       "      <td>127.0251432</td>\n",
       "      <td>서울특별시 강남구 신사동  568-2</td>\n",
       "      <td>10001</td>\n",
       "      <td>장애인용 승강기</td>\n",
       "      <td>이용가능</td>\n",
       "      <td>BBC씨어터</td>\n",
       "      <td>100005</td>\n",
       "    </tr>\n",
       "  </tbody>\n",
       "</table>\n",
       "</div>"
      ],
      "text/plain": [
       "              category                lat          lon         place_address  \\\n",
       "768  movie/concerthall  37.58326870000001   127.002443    서울특별시 종로구 동숭동 1-37   \n",
       "769  movie/concerthall  37.58326870000001   127.002443    서울특별시 종로구 동숭동 1-37   \n",
       "774  movie/concerthall         37.5239298  127.0251432  서울특별시 강남구 신사동  568-2   \n",
       "772  movie/concerthall         37.5239298  127.0251432  서울특별시 강남구 신사동  568-2   \n",
       "773  movie/concerthall         37.5239298  127.0251432  서울특별시 강남구 신사동  568-2   \n",
       "\n",
       "     place_id facility_available_name facility_is_available     place_name  \\\n",
       "768     10000                주출입구 접근로                  이용불편  A아트홀(구.신연아트홀)   \n",
       "769     10000            주출입구 높이차이 제거                  이용가능  A아트홀(구.신연아트홀)   \n",
       "774     10001                장애인용 관람석                  이용가능         BBC씨어터   \n",
       "772     10001            주출입구 높이차이 제거                  이용가능         BBC씨어터   \n",
       "773     10001                장애인용 승강기                  이용가능         BBC씨어터   \n",
       "\n",
       "    facility_id  \n",
       "768      100000  \n",
       "769      100001  \n",
       "774      100006  \n",
       "772      100004  \n",
       "773      100005  "
      ]
     },
     "execution_count": 36,
     "metadata": {},
     "output_type": "execute_result"
    }
   ],
   "source": [
    "# test[test.category == \"movie/concerthall\"].head()"
   ]
  },
  {
   "cell_type": "markdown",
   "metadata": {},
   "source": [
    "concert hall -> movie/concerthall"
   ]
  },
  {
   "cell_type": "code",
   "execution_count": 37,
   "metadata": {},
   "outputs": [
    {
     "name": "stdout",
     "output_type": "stream",
     "text": [
      "전체 category 개수\n",
      "66\n",
      "\n",
      "이 전 movie/concerthall 해당 category 개수 : \n",
      "category                   535\n",
      "lat                        535\n",
      "lon                        535\n",
      "place_address              535\n",
      "place_id                   535\n",
      "facility_available_name    535\n",
      "facility_is_available      535\n",
      "place_name                 535\n",
      "facility_id                535\n",
      "dtype: int64\n",
      "\n",
      "이 후 movie/concerthall 해당 category 개수 : \n",
      "category                   1922\n",
      "lat                        1922\n",
      "lon                        1922\n",
      "place_address              1922\n",
      "place_id                   1922\n",
      "facility_available_name    1922\n",
      "facility_is_available      1922\n",
      "place_name                 1922\n",
      "facility_id                1922\n",
      "dtype: int64\n",
      "\n",
      "전체 category 개수\n",
      "65\n"
     ]
    },
    {
     "name": "stderr",
     "output_type": "stream",
     "text": [
      "C:\\ProgramData\\Anaconda3\\lib\\site-packages\\pandas\\core\\generic.py:4405: SettingWithCopyWarning: \n",
      "A value is trying to be set on a copy of a slice from a DataFrame.\n",
      "Try using .loc[row_indexer,col_indexer] = value instead\n",
      "\n",
      "See the caveats in the documentation: http://pandas.pydata.org/pandas-docs/stable/indexing.html#indexing-view-versus-copy\n",
      "  self[name] = value\n"
     ]
    }
   ],
   "source": [
    "test = category_sum(test,\"concert hall\",\"movie/concerthall\") "
   ]
  },
  {
   "cell_type": "markdown",
   "metadata": {},
   "source": [
    "movie -> movie/concerthall"
   ]
  },
  {
   "cell_type": "code",
   "execution_count": 38,
   "metadata": {},
   "outputs": [
    {
     "name": "stdout",
     "output_type": "stream",
     "text": [
      "전체 category 개수\n",
      "65\n",
      "\n",
      "이 전 movie/concerthall 해당 category 개수 : \n",
      "category                   1922\n",
      "lat                        1922\n",
      "lon                        1922\n",
      "place_address              1922\n",
      "place_id                   1922\n",
      "facility_available_name    1922\n",
      "facility_is_available      1922\n",
      "place_name                 1922\n",
      "facility_id                1922\n",
      "dtype: int64\n",
      "\n",
      "이 후 movie/concerthall 해당 category 개수 : \n",
      "category                   1942\n",
      "lat                        1942\n",
      "lon                        1942\n",
      "place_address              1942\n",
      "place_id                   1942\n",
      "facility_available_name    1942\n",
      "facility_is_available      1942\n",
      "place_name                 1942\n",
      "facility_id                1942\n",
      "dtype: int64\n",
      "\n",
      "전체 category 개수\n",
      "64\n"
     ]
    },
    {
     "name": "stderr",
     "output_type": "stream",
     "text": [
      "C:\\ProgramData\\Anaconda3\\lib\\site-packages\\pandas\\core\\generic.py:4405: SettingWithCopyWarning: \n",
      "A value is trying to be set on a copy of a slice from a DataFrame.\n",
      "Try using .loc[row_indexer,col_indexer] = value instead\n",
      "\n",
      "See the caveats in the documentation: http://pandas.pydata.org/pandas-docs/stable/indexing.html#indexing-view-versus-copy\n",
      "  self[name] = value\n"
     ]
    }
   ],
   "source": [
    "test = category_sum(test,\"movie\",\"movie/concerthall\") "
   ]
  },
  {
   "cell_type": "code",
   "execution_count": 50,
   "metadata": {},
   "outputs": [
    {
     "data": {
      "text/plain": [
       "array(['A아트홀(구.신연아트홀)', 'BBC씨어터', 'BREAK OUT 전용극장', 'CGV 강남', 'CGV 명동',\n",
       "       'CGV 상암', 'CGV 송파', 'CGV강변', 'CGV구로', 'CGV군자', 'CGV대학로', 'CGV목동',\n",
       "       'CGV불광', 'CGV신촌아트레온', 'CGV신한카드아트홀(구 CGV팝아트홀)', 'CGV압구정', 'CGV영등포',\n",
       "       'CLUB mASS', 'GS타워 소극장', 'JW 메리어트호텔 그랜드볼룸', 'LG아트센터', 'LIG아트홀',\n",
       "       '건국대학교 국제회의장', '국립극장', '국립중앙박물관 극장 용', '그랜드 앰배서더 서울 그랜드 볼룸',\n",
       "       '그랜드하얏트서울 그랜드볼룸', '그랜드힐튼호텔 컨벤션홀', '금호아트홀', '나루아트센터', '난타전용관(명동)',\n",
       "       '난타전용관(홍대)', '남산예술센터', '대학로 SH 아트홀', '대학로 웃찾사 전용관(구.Boom Box)',\n",
       "       '대학로예술극장', '대한극장', '동숭아트센터', '동영아트홀 (구 계몽아트홀)', '디마떼오홀', '라트어린이극장',\n",
       "       '레진코믹스 브이홀', '롯데몰 김포공항점', '롯데백화점 노원점', '롯데시네마 강동', '롯데시네마 강동관',\n",
       "       '롯데시네마 건대입구관', '롯데시네마 누리꿈(상암)', '롯데시네마 브로드웨이', '롯데시네마 씨티(강남)',\n",
       "       '롯데시네마 피카디리관', '롯데시네마 합정', '롯데시네마 홍대입구', '롯데시네마 황학', '루나틱전용관',\n",
       "       '르네상스 서울호텔', '리츠칼튼 서울호텔 그랜드볼룸', '마포아트센터', '메가박스 강남', '메가박스 동대문',\n",
       "       '메가박스 목동', '메가박스 상봉', '메가박스 수유', '메가박스 신촌', '메가박스 아트나인',\n",
       "       '메가박스 코엑스', '명동예술극장', '명보아트홀', '모차르트홀', '목동아이스링크', '문예회관소극장',\n",
       "       '문화일보홀', '뮤지컬 전용관 팝콘하우스', '민속극장 풍류', '백암아트홀', '삼성동 섬유센터 이벤트홀',\n",
       "       '상상마당 라이브홀', '샘터파랑새극장', '샤롯데씨어터', '서강대학교 메리홀', '서울 신라호텔 다이너스티홀',\n",
       "       '서울 잠실 학생체육관', '서울교육문화회관 대극장', '서울극장', '서울놀이마당', '서울바로크챔버홀(구 DS홀)',\n",
       "       '서울애니시네마', '서울패션아트홀', '세라믹팔레스홀', '세익스피어 극장', '세종대학교 대양홀', '세종문화회관',\n",
       "       '소공동 롯데호텔 크리스탈볼룸', '송파 청소년 수련관', '숭실대학교 한경직기념관 대강당',\n",
       "       '쉐라톤그랜드워커힐호텔 워커힐씨어터', '스폰지하우스(광화문)', '시티렉스(CT-LEX)',\n",
       "       '아르코(ArKo)예술극장', '아티움', '알과핵 소극장', '암사어린이극장', '압구정 예홀',\n",
       "       '양재동 aT센터(농수산물유통공사)', '역삼1문화센터', '연세대학교 노천극장', '영산아트홀', '예술마당',\n",
       "       '예술의 전당', '예지원', '올림픽 예술극장 (K-아트홀 태권도공연장)', '용산아트홀', '유니버설아트센터',\n",
       "       '유니클로 악스(구 악스코리아)', '유시어터', '이해랑 예술극장', '이화여고 100주년 기념관',\n",
       "       '이화여대 대강당', '일지아트홀(구 우림 청담 씨어터)', '임페리얼 팰리스호텔 두베홀', '잠실실내체육관',\n",
       "       '장충체육관', '전쟁기념관 평화의광장', '점프 서울전용극장', '정동극장', '중앙대학교 아트센터 대극장',\n",
       "       '진선여고 대강당', '충무아트홀', '프라디아(FRADIA)', '플래툰 쿤스트할레', '한국문화의 집 코우스',\n",
       "       '한국불교역사문화기념관', '해치홀', '허리우드극장', '현대·기아자동차 아트홀', '호암아트홀',\n",
       "       '홍대 비보이 전용극장', '홍대앞 김대범 소극장', 'CGV', 'CGV구로14', 'CGV상암14',\n",
       "       'CGV용산 11', 'KBS방송국 서울별관', 'KH바텍사옥', 'VERTIGO빌딩', '㈜에니웍스',\n",
       "       '가든5  (Tool관이마트)', '강북문화예술화관', '골든시네마', '광진구 공연장', '광진종합문화센터',\n",
       "       '구세군144주년기념빌딩', '군자동극장', '낙산제빌딩', '노원문화예술회관', '대치동 KT&G', '대학로CGV',\n",
       "       '대학로스타시티빌딩', '동해문화예술관', '롯데몰', '롯데백화점', '롯데백화점 영등포점',\n",
       "       '롯데시네마(씨네 일레븐 14관)', '롯데시네마홍대관입구관', '롯데월드', '메가박스', '메가박스 상봉점',\n",
       "       '메사', '메세나 폴리스', '목동 CGV', '목동 K.T', '목동청소년수련관', '불광cgv',\n",
       "       '브로드웨이시네마(1-5)', '상상라이브홀', '서대문문화체육회관', '서울교육문화회관', '서울로얄호텔',\n",
       "       '서울주요무형문화제전수회관', '성동문화회관', '센트럴시티', '스타시티 영존', '신촌민자역사(메가박스)',\n",
       "       '씨네시티빌딩', '아트레온', '압구정CGV', '양천구민회관', '영산문화재단', '예술인센터', '올림픽공원',\n",
       "       '용산문화원', '유타몰', '윤당빌딩', '튼튼영어(유니북스 사옥)', '피카다리플러스', '필름포럼(빌딩)',\n",
       "       '하이해리엇', '홍익대학교대학로캠퍼스', '홍익몰'], dtype=object)"
      ]
     },
     "execution_count": 50,
     "metadata": {},
     "output_type": "execute_result"
    }
   ],
   "source": [
    "# test[test.category == \"movie/concerthall\"].place_name.unique()"
   ]
  },
  {
   "cell_type": "markdown",
   "metadata": {},
   "source": [
    "화장실 포함된 이름 -> publictoilet"
   ]
  },
  {
   "cell_type": "code",
   "execution_count": 56,
   "metadata": {},
   "outputs": [],
   "source": [
    "test = reg_name_change(test, \"movie/concerthall\", \"화장실\", \"publictoilet\")"
   ]
  },
  {
   "cell_type": "markdown",
   "metadata": {},
   "source": [
    "# 3. shopping/mart"
   ]
  },
  {
   "cell_type": "code",
   "execution_count": 51,
   "metadata": {
    "scrolled": false
   },
   "outputs": [
    {
     "data": {
      "text/html": [
       "<div>\n",
       "<style scoped>\n",
       "    .dataframe tbody tr th:only-of-type {\n",
       "        vertical-align: middle;\n",
       "    }\n",
       "\n",
       "    .dataframe tbody tr th {\n",
       "        vertical-align: top;\n",
       "    }\n",
       "\n",
       "    .dataframe thead th {\n",
       "        text-align: right;\n",
       "    }\n",
       "</style>\n",
       "<table border=\"1\" class=\"dataframe\">\n",
       "  <thead>\n",
       "    <tr style=\"text-align: right;\">\n",
       "      <th></th>\n",
       "      <th>index</th>\n",
       "      <th>category</th>\n",
       "      <th>lat</th>\n",
       "      <th>lon</th>\n",
       "      <th>place_address</th>\n",
       "      <th>place_id</th>\n",
       "      <th>facility_available_name</th>\n",
       "      <th>facility_is_available</th>\n",
       "      <th>place_name</th>\n",
       "      <th>facility_id</th>\n",
       "    </tr>\n",
       "  </thead>\n",
       "  <tbody>\n",
       "    <tr>\n",
       "      <th>1205</th>\n",
       "      <td>1358</td>\n",
       "      <td>shopping/mart</td>\n",
       "      <td>37.6412768</td>\n",
       "      <td>127.0678895</td>\n",
       "      <td>서울특별시 노원구 동일로204가길 46</td>\n",
       "      <td>10228.0</td>\n",
       "      <td>장애인용 화장실</td>\n",
       "      <td>이용불편</td>\n",
       "      <td>2001아울렛중계점</td>\n",
       "      <td>100635</td>\n",
       "    </tr>\n",
       "    <tr>\n",
       "      <th>1206</th>\n",
       "      <td>1356</td>\n",
       "      <td>shopping/mart</td>\n",
       "      <td>37.6412768</td>\n",
       "      <td>127.0678895</td>\n",
       "      <td>서울특별시 노원구 동일로204가길 46</td>\n",
       "      <td>10228.0</td>\n",
       "      <td>주출입구 높이차이 제거</td>\n",
       "      <td>이용불편</td>\n",
       "      <td>2001아울렛중계점</td>\n",
       "      <td>100633</td>\n",
       "    </tr>\n",
       "    <tr>\n",
       "      <th>1207</th>\n",
       "      <td>1357</td>\n",
       "      <td>shopping/mart</td>\n",
       "      <td>37.6412768</td>\n",
       "      <td>127.0678895</td>\n",
       "      <td>서울특별시 노원구 동일로204가길 46</td>\n",
       "      <td>10228.0</td>\n",
       "      <td>장애인용 승강기</td>\n",
       "      <td>이용불편</td>\n",
       "      <td>2001아울렛중계점</td>\n",
       "      <td>100634</td>\n",
       "    </tr>\n",
       "    <tr>\n",
       "      <th>1208</th>\n",
       "      <td>1354</td>\n",
       "      <td>shopping/mart</td>\n",
       "      <td>37.6412768</td>\n",
       "      <td>127.0678895</td>\n",
       "      <td>서울특별시 노원구 동일로204가길 46</td>\n",
       "      <td>10228.0</td>\n",
       "      <td>주출입구 접근로</td>\n",
       "      <td>이용가능</td>\n",
       "      <td>2001아울렛중계점</td>\n",
       "      <td>100631</td>\n",
       "    </tr>\n",
       "    <tr>\n",
       "      <th>1209</th>\n",
       "      <td>1355</td>\n",
       "      <td>shopping/mart</td>\n",
       "      <td>37.6412768</td>\n",
       "      <td>127.0678895</td>\n",
       "      <td>서울특별시 노원구 동일로204가길 46</td>\n",
       "      <td>10228.0</td>\n",
       "      <td>장애인 전용 주차구역</td>\n",
       "      <td>이용불편</td>\n",
       "      <td>2001아울렛중계점</td>\n",
       "      <td>100632</td>\n",
       "    </tr>\n",
       "  </tbody>\n",
       "</table>\n",
       "</div>"
      ],
      "text/plain": [
       "      index       category         lat          lon          place_address  \\\n",
       "1205   1358  shopping/mart  37.6412768  127.0678895  서울특별시 노원구 동일로204가길 46   \n",
       "1206   1356  shopping/mart  37.6412768  127.0678895  서울특별시 노원구 동일로204가길 46   \n",
       "1207   1357  shopping/mart  37.6412768  127.0678895  서울특별시 노원구 동일로204가길 46   \n",
       "1208   1354  shopping/mart  37.6412768  127.0678895  서울특별시 노원구 동일로204가길 46   \n",
       "1209   1355  shopping/mart  37.6412768  127.0678895  서울특별시 노원구 동일로204가길 46   \n",
       "\n",
       "      place_id facility_available_name facility_is_available  place_name  \\\n",
       "1205   10228.0                장애인용 화장실                  이용불편  2001아울렛중계점   \n",
       "1206   10228.0            주출입구 높이차이 제거                  이용불편  2001아울렛중계점   \n",
       "1207   10228.0                장애인용 승강기                  이용불편  2001아울렛중계점   \n",
       "1208   10228.0                주출입구 접근로                  이용가능  2001아울렛중계점   \n",
       "1209   10228.0             장애인 전용 주차구역                  이용불편  2001아울렛중계점   \n",
       "\n",
       "     facility_id  \n",
       "1205      100635  \n",
       "1206      100633  \n",
       "1207      100634  \n",
       "1208      100631  \n",
       "1209      100632  "
      ]
     },
     "execution_count": 51,
     "metadata": {},
     "output_type": "execute_result"
    }
   ],
   "source": [
    "# test[test.category == \"shopping/mart\"].head()"
   ]
  },
  {
   "cell_type": "markdown",
   "metadata": {},
   "source": [
    "shopping -> shopping/mart"
   ]
  },
  {
   "cell_type": "code",
   "execution_count": 52,
   "metadata": {
    "scrolled": true
   },
   "outputs": [
    {
     "name": "stdout",
     "output_type": "stream",
     "text": [
      "전체 category 개수\n",
      "65\n",
      "\n",
      "이 전 shopping/mart 해당 category 개수 : \n",
      "index                      1523\n",
      "category                   1523\n",
      "lat                        1523\n",
      "lon                        1523\n",
      "place_address              1523\n",
      "place_id                   1523\n",
      "facility_available_name    1523\n",
      "facility_is_available      1523\n",
      "place_name                 1523\n",
      "facility_id                1523\n",
      "dtype: int64\n",
      "\n",
      "이 후 shopping/mart 해당 category 개수 : \n",
      "index                      2609\n",
      "category                   2609\n",
      "lat                        2609\n",
      "lon                        2609\n",
      "place_address              2609\n",
      "place_id                   2609\n",
      "facility_available_name    2609\n",
      "facility_is_available      2609\n",
      "place_name                 2609\n",
      "facility_id                2609\n",
      "dtype: int64\n",
      "\n",
      "전체 category 개수\n",
      "64\n"
     ]
    },
    {
     "name": "stderr",
     "output_type": "stream",
     "text": [
      "C:\\ProgramData\\Anaconda3\\lib\\site-packages\\pandas\\core\\generic.py:4405: SettingWithCopyWarning: \n",
      "A value is trying to be set on a copy of a slice from a DataFrame.\n",
      "Try using .loc[row_indexer,col_indexer] = value instead\n",
      "\n",
      "See the caveats in the documentation: http://pandas.pydata.org/pandas-docs/stable/indexing.html#indexing-view-versus-copy\n",
      "  self[name] = value\n"
     ]
    }
   ],
   "source": [
    "test = category_sum(test, \"shopping\", \"shopping/mart\")"
   ]
  },
  {
   "cell_type": "code",
   "execution_count": 55,
   "metadata": {},
   "outputs": [
    {
     "data": {
      "text/plain": [
       "array(['2001아울렛중계점', '2441아울렛천호점', 'ABC마트', 'G 마트', 'GS 슈퍼마켓', 'GS슈퍼마트',\n",
       "       'GS슈퍼상계점', 'HK마트', 'LG베스트', 'LG베스트샵', 'LG전자', 'LG프라자', 'LG하이프라자',\n",
       "       'NC백화점', 'SM마트창동점', 'W-MALL', '가든파이브 NC백화점(LIFE관)', '강서농수산물도매시장',\n",
       "       '강서농협하나로마트', '갤러리아백화점WEST', '관악농협(금천점)', '관악프라자', '광희시장', '국민마트',\n",
       "       '그랜드마트', '꿈꾸는청년가게', '농협관악농산물백화점', '농협하나로마트', '더브러마트', '도림시장',\n",
       "       '독산동 하이마트', '두리마트', '디지털프라자', '럭키마트', '럭키할인마트', '로데오', '롯데마이수퍼',\n",
       "       '롯데마이슈퍼', '롯데마트', '롯데마트 송파점', '롯데마트999', '롯데백화점 강남점', '롯데백화점 관악점',\n",
       "       '롯데백화점 미아점', '롯데슈퍼', '롯데시네마 신림', '롯데호텔및백화점', '르네상스복합쇼핑몰',\n",
       "       '마리오아울렛3', '마축일축산물시장', '마포농수산물시장', '메르체쇼핑몰', '명성마트', '모닝마트',\n",
       "       '북부농협<마트>', '빅마켓(롯데마트 영등포점)', '빅마켓(롯데마트금천점)', '빅마켓(롯데마트도봉점)',\n",
       "       '삼부마켓', '삼성 디지털 프라자', '삼성디지털', '삼성디지털프라자', '삼성전자디지털', '성내동 하이마트',\n",
       "       '성내슈퍼마트', '세계로마트', '세계로마트(세움테크사옥)', '수유시장', '슈퍼마켓', '신도림테크노마트',\n",
       "       '신세계백화점 영등포점', '썬프라자', '아웃렛마트', '아이마트', '아이파크몰', '압구정갤러리아백화점EAST',\n",
       "       '엠코중앙마트', '역삼종합시장', '올슈퍼', '와우쇼핑몰', '월드할인마트', '이마트 공항점',\n",
       "       '이마트 마포공덕점', '이마트 묵동점', '이마트 상봉점', '이마트 성수점', '이마트 월계점', '이마트 은평점',\n",
       "       '이마트 창동점', '이마트(구로점)', '이마트에브리데이 암사동점', '이마트에브리데이 창동점', '청다담마트',\n",
       "       '코스트코', '킴스마트(현:이마트 에브리데이)', '토우마트2단지', '푸른솔마트', '하나로마트', '하모니마트',\n",
       "       '하이마트', '하이마트 구로점', '하이마트 독산점', '하이마트 발산점', '하이마트 상암동', '하이마트공릉점',\n",
       "       '하이마트빌딩', '하이마트상계점', '하이마트서초점', '현대백화점', '현대백화점 압구정점',\n",
       "       '현대백화점U-PLEX', '홈플러스 가양점', '홈플러스 강서점', '홈플러스 금천점', '홈플러스 동대문점',\n",
       "       '홈플러스 목동점', '홈플러스 문래점', '홈플러스 방학점', '홈플러스 시흥점', '홈플러스 신내점',\n",
       "       '홈플러스 월곡점', '홈플러스 중계점', '(재)대한불교계종유지재단', '(주)대광메디텍', '(주)보점',\n",
       "       '(주)야놀자', '(주)엠씨피이앤에프', '123전자타운(3동)', '2001아울렛천호점', '2층소매점(다이소)',\n",
       "       'B2M엔터테인먼트', 'CNT빌딩', 'CT퍼니처', 'DHL', 'DPSR', 'GS슈퍼마', 'H&M',\n",
       "       'HOLLISER', 'K2', 'KMPLAY', 'KOON WITH A VIEW', 'LG시스템',\n",
       "       'LG전자(청담점)', 'LG전자베스트샵 길동사거리점', 'LG전자베스트샵 신림점', 'LG패션아울렛',\n",
       "       'LG 하이프라자', 'LS용산타워', 'MJ빌딩', 'M 빌딩', 'Noon Square', 'Rockn Roll',\n",
       "       'SKM빌딩', 'SSFW', 'SUNG BLD(승원빌딩)', 'TOM N TOMS COFFEE', 'T avenue',\n",
       "       'UKK fastening prdnets sales', 'VIEL RYUJIWON ', 'V uittan 빌딩',\n",
       "       'W빌딩', 'ZARA', 'e-마트 everyday', '㈜부래당', '㈜스포키빌딩', '㈜인텍엔컴퍼니',\n",
       "       '㈜전자랜드행당점', '가구갤러리', '가든5NC백화점(LIFE관)', '가송빌딩', '강동한신휴플러스',\n",
       "       '강서뉴타워', '개봉역프라자', '갤러리상 빌딩', '갤러리아백화점WEST(용도변경 및 증축)', '고시텔',\n",
       "       '공덕e마트(대우월드마크마포)', '공항이마트', '관동마운틴', '광장자이아파트', '광진두산위브파크', '광희빌딩',\n",
       "       '구기동 근린생활시설', '국제빌딩 (소매점)', '군봉빌딩 ', '그린타운', '근린생활(소매)(낙희빌딩)',\n",
       "       '근린생활시설', '근린생활시설<소매점>', '근생빌딩', '근생시설', '금사랑투빌딩', '금송리버텔', '기림전자',\n",
       "       '기옥빌딩', '길음서희스타힐스상가', '나나빌딩', '남강빌딩', '남부그린빌', '남부중앙시장', '남서울빌딩',\n",
       "       '남영빌딩', '남정빌딩', '내발산동 소매점', '네파', '노블레스빌딩', '노스페이스', '노우빌딩',\n",
       "       '농협신촌복합건물', '농협창동유통센타A동', '뉴그린', '다모빌딩', '다이소 둔촌점', '대륙빌딩', '대림빌딩',\n",
       "       '대림상가(통일회관)', '대방동빌딩', '대성빌딩', '대정빌딩',\n",
       "       '대조동 판매시설 용도변경(대조동아트캐슬주상복합)', '대창빌딩', '대현빌딩(오렌지팩토리의류가게)', '대흥빌딩',\n",
       "       '더페이스샵', '데코피아', '동서울오네뜨', '동신빌딩', '동아에코빌아파트상가', '동아파크텔', '동영빌딩',\n",
       "       '동우어패럴', '동욱빌딩', '동일빌딩', '동일하이빌뉴시티상점', '동천제빌딩', '동풍상사', '동해빌딩',\n",
       "       '동화반포프라자', '두성물산', '듀론빌딩', '드림프라자 A', '드림프라자 B', '디오트', '디지월드',\n",
       "       '디지컴코리아엠앤엠사옥', '디지털엘지', '라푸마(lafuma)', '레이젠트리(소매점 )', '레이지보이빌딩',\n",
       "       '로데오27타운(의류잡화점1층)', '롯데마', '롯데마이슈퍼 남현점', '롯데마켓', '롯데마트금천점',\n",
       "       '롯데마트도봉점', '롯데마트 문정점', '롯데마트 영등포점', '롯데백화점', '루체코리아빌딩', '리더스뷰남산',\n",
       "       '리첸시아용산A', '리치프라자', '마포트라팰리스아케이드', '만나그레커피', '망 고', '맥도날드 고척DT점',\n",
       "       '맥스타일', '머렐', '메디스타워', '메이데이㈜', '메카플러스', '메틴빌딩', '명광빌딩', '명문빌딩',\n",
       "       '명원아웃도어도봉산점', '명일그린스톤', '명진철강<소매점>', '모리나리', '목동홈플러스', '문화빌딩',\n",
       "       '민속 손국시', '바우하우스', '반도사진관', '발렌타인', '방배아크로타워', '방천프라자', '배가빌딩',\n",
       "       '벤처인듀', '보고빌딩', '보문하우스토리상가', '봉익동 빌딩', '부윤빌딩', '불로장생타워', '브리티시 스쿨',\n",
       "       '블랙야크', '사가정문고', '사근동상가주택', '사조로하이빌딩(위너스헬스클럽)', '삼광빌딩',\n",
       "       '삼성동 신도브레뉴', '삼성디지탈프라자', '삼성 디지털프라자 대치점', '삼성디지털프라자상봉점', '삼성빌딩',\n",
       "       '삼성빌딩A동', '삼성쉐르빌', '삼성전자강북지점', '삼성플라자', '삼우빌딩', '삼원아트무역㈜',\n",
       "       '상계아이파크-판매시설', '상암동하이마트', '상진빌딩', '샬롬빌딩', '서울시농수산물공사', '서울패션아트홀',\n",
       "       '서울 홍삼문화 중국 도자기 박물관', '석전빌딩', '선우불교전시장', '선인모터스', '선인상가',\n",
       "       '선일전기백화점', '성광', '성보역삼빌딩', '성보하이드로빌딩', '성수동D.S빌딩', '성우빌딩',\n",
       "       '성원쌍떼빌아파트', '성파빌딩', '성화빌딩', '세림빌딩', '세한빌딩', '세현빌딩', '세화빌딩', '소매점',\n",
       "       '소매점(정현)', '송파성원상떼빌', '송파주간보호시설', '수협외발산동공판장', '숨빌딩', '스타 미디어',\n",
       "       '스포엔샤웨딩', '승아', '시몬느아트센터(신축)', '시설물명 미입력', '시티악기', '신구로자이',\n",
       "       '신도림1차푸르지오', '신동해빌딩', '신세계백화점', '신세계이마트(구로점)', '신승지류유통㈜', '신우빌딩',\n",
       "       '신일빌딩', '신초원가든', '신풍프라자', '쌍문동LG트윈빌판매시설<1층>', '씨너스서울대역점(에그옐로우)',\n",
       "       '씨푸드점(오렌지팩토리 의류점)', '아경빌딩', '아리수갤러리', '아웃백스테이크 건물', '아이더', '아이라꾸',\n",
       "       '아크테리스 ', '안승희헤어뉴스', '압구정갤러리아백화점EAST(증축)', '약산빌딩', '양화진빌딩',\n",
       "       '에잇세컨즈', '엠에스빌딩', '여명빌딩', '연희동인사이드빌딩', '영동빌딩', '영동프라자',\n",
       "       '영등포 SK 리더스뷰', '영신빌딩(근린생활시설)', '영원아웃도어', '영일프라자', '영하빌딩<소매점>',\n",
       "       '영화불렌하임', '예광', '예림가구', '예성빌딩', '예신프라자', '오디바이크매장', '올가홀푸드 ',\n",
       "       '올림픽선수촌상가', '와이디피㈜', '와이엠프라젠스파', '와이즈빌딩', '와이키즈', '용산 전자랜드',\n",
       "       '용산토투벨리', '우림빌딩', '우림카이저펠리스', '우면동 55-11', '우영빌딩', '우진 TOOL',\n",
       "       '우토프라자', '워커힐호텔 본관호텔', '원호빌딩', '월계이마트', '월계프라자', '웰섬',\n",
       "       '유나이티트 문화재단 빌딩', '유림빌딩', '유성빌딩', '유신산업빌딩', '유정빌딩', '윤당제1빌딩',\n",
       "       '윤준빌딩', '으뜸빌딩', '은천누리에뜰아파트', '은혜빌딩', '의용빌딩 소매점', '이마트', '이마트상봉점',\n",
       "       '이마트에브리데이(중복삭제건)', '이마트에브리데이창동점', '이마트창동점', '이문동웰츠타워', '이안강동',\n",
       "       '이은영모피', '이현빌딩', '인디시티', '인헌빌딩', '일룸 (신일빌딩)', '일천빌딩', '일품신토오리',\n",
       "       '잉카', '재성빌딩', '전자랜드상봉점', '정가네사람들', '정곡볼링장', '정광빌딩(ELEVELV)',\n",
       "       '정다운빌딩', '정암빌딩', '제니하우스(제일모직빌딩)', '제스퍼오피스텔', '제일모직아울렛', '제일빌딩',\n",
       "       '조은빌딩', '주건축물제1동', '준오빌딩,고철남홍삼만들기', '중곡빌딩', '중앙빌딩', '지산리조트미술관',\n",
       "       '진산빌딩', '진우빌딩', '진현빌딩', '창신동 허브클리닉 타워', '책이랑빌딩', '청담고시텔',\n",
       "       '치폴라 로쏘(코디센빌딩)', '커피번', '컨벤션별관', '코너스톤 빌딩', '코스탈',\n",
       "       '코업스타클래스(홈플러스월곡점)', '타래빌딩', '타워팰리스', '타이어월드', '탐라랜드 24시 ', '탑골프',\n",
       "       '태광빌딩', '태기빌딩(오션파라다이스)', '태연빌딩', '태우그린푸드', '태평넥스빌(지상1,2층)',\n",
       "       '통큰홍가네', '티파니', '파로스프라자A동', '파로스프라자B동', '파리바게뜨 쌍문사거리점', '파스텔시티',\n",
       "       '파인힐빌딩', '파크랜드', '판매시설', '퍼스트 역삼빌딩', '평구빌딩', '포도몰(롯데시네마)',\n",
       "       '프리머스시네마(르네상스복합쇼핑몰)', '하나로빌딩', '하늘빌딩', '하림서울축산물센터', '하이마트발산점',\n",
       "       '하이프라자', '한국문화정품관', '한국제지', '한국타이어', '한남동 근린생활시설', '한남동 소매점',\n",
       "       '한남동신성미소시티', '한빛빌딩', '한양유리', '한양특수목재', '한우만', '한원빌딩', '한인트윈빌',\n",
       "       '함성', '해농빌딩', '해태아파트상가(드림마트)(이마트에브리데이)', '행복한우리교회',\n",
       "       '현대백화점(증축 및 용도변경)', '현대빌딩', '현대의원,약국', '현대 칼쳐&트랜드(현대백화점 바우티 파크)',\n",
       "       '현대 프라자', '현도스텐', '형지제2빌딩(카사미아)', '혜성빌딩', '호텔스토리', '홈플러스',\n",
       "       '홈플러스(가양점)', '홈플러스?신내점', '홈플러스강서점', '홈플러스 영등포점', '화곡빌딩', '화성빌딩',\n",
       "       '황제빌딩', '흥창빌딩', '희목빌딩'], dtype=object)"
      ]
     },
     "execution_count": 55,
     "metadata": {},
     "output_type": "execute_result"
    }
   ],
   "source": [
    "# test[test.category == \"shopping/mart\"].place_name.unique()"
   ]
  },
  {
   "cell_type": "markdown",
   "metadata": {},
   "source": [
    "화장실 포함된 이름 -> publictoilet"
   ]
  },
  {
   "cell_type": "code",
   "execution_count": 54,
   "metadata": {},
   "outputs": [
    {
     "name": "stderr",
     "output_type": "stream",
     "text": [
      "C:\\ProgramData\\Anaconda3\\lib\\site-packages\\pandas\\core\\generic.py:4405: SettingWithCopyWarning: \n",
      "A value is trying to be set on a copy of a slice from a DataFrame.\n",
      "Try using .loc[row_indexer,col_indexer] = value instead\n",
      "\n",
      "See the caveats in the documentation: http://pandas.pydata.org/pandas-docs/stable/indexing.html#indexing-view-versus-copy\n",
      "  self[name] = value\n"
     ]
    }
   ],
   "source": [
    "test = reg_name_change(test, \"shopping/mart\", \"화장실\", \"publictoilet\")"
   ]
  },
  {
   "cell_type": "markdown",
   "metadata": {},
   "source": [
    "# 4. public parking"
   ]
  },
  {
   "cell_type": "markdown",
   "metadata": {},
   "source": [
    "public parking -> publicparking"
   ]
  },
  {
   "cell_type": "code",
   "execution_count": 57,
   "metadata": {},
   "outputs": [
    {
     "name": "stdout",
     "output_type": "stream",
     "text": [
      "전체 category 개수\n",
      "64\n",
      "\n",
      "이 전 publicparking 해당 category 개수 : \n",
      "index                      108\n",
      "category                   108\n",
      "lat                        108\n",
      "lon                        108\n",
      "place_address              108\n",
      "place_id                   108\n",
      "facility_available_name    108\n",
      "facility_is_available      108\n",
      "place_name                 108\n",
      "facility_id                108\n",
      "dtype: int64\n",
      "\n",
      "이 후 publicparking 해당 category 개수 : \n",
      "index                      303\n",
      "category                   303\n",
      "lat                        303\n",
      "lon                        303\n",
      "place_address              303\n",
      "place_id                   303\n",
      "facility_available_name    303\n",
      "facility_is_available      303\n",
      "place_name                 303\n",
      "facility_id                303\n",
      "dtype: int64\n",
      "\n",
      "전체 category 개수\n",
      "63\n"
     ]
    },
    {
     "name": "stderr",
     "output_type": "stream",
     "text": [
      "C:\\ProgramData\\Anaconda3\\lib\\site-packages\\pandas\\core\\generic.py:4405: SettingWithCopyWarning: \n",
      "A value is trying to be set on a copy of a slice from a DataFrame.\n",
      "Try using .loc[row_indexer,col_indexer] = value instead\n",
      "\n",
      "See the caveats in the documentation: http://pandas.pydata.org/pandas-docs/stable/indexing.html#indexing-view-versus-copy\n",
      "  self[name] = value\n"
     ]
    }
   ],
   "source": [
    "test = category_sum(test, \"public parking\", \"publicparking\")"
   ]
  },
  {
   "cell_type": "code",
   "execution_count": 60,
   "metadata": {},
   "outputs": [
    {
     "data": {
      "text/plain": [
       "array(['강서구2-1공영주차장', '공덕1-1공영주차장', '공용주차장', '까치산공영주차장', '남가좌2동 제1공영주차장',\n",
       "       '대림2동 공영주차장', '대림어린이공원 지하주차장', '도깨비시장공영주차장', '도선공영주차장',\n",
       "       '독산1동 공영주차장', '독산3동 공영주차장', '동산공영주차장', '등촌동공영주차장', '마천동 공영주차장1',\n",
       "       '망원1-1공영주차장', '망원2-1공영주차장', '면목2동공영주차장', '면목3.8동공영주차장',\n",
       "       '면목5동공영주차장', '버티공영주차장', '북아현동 제2공영주차장', '삼성 공영주차장', '상암1공영주차장',\n",
       "       '서계공영주차장', '서인사마당 공영주차장', '서초3동공영주차장', '성산2-1공영주차장', '손기정체육공원 주차장',\n",
       "       '송파동 공영주차장', '시흥3동 공영주차장', '시흥4동 공영주차장', '신당2동공영주차장', '신당6동공영주차장',\n",
       "       '신당사거리공영주차장', '신창동 공영주차장', '암사1동공영주차장(암사4동 공영주차장)', '연희동 제4공영주차장',\n",
       "       '연희동 제5공영주차장', '연희동 제6공영주차장', '용산2가동 공영주차장', '원신공영주차장',\n",
       "       '은행나무공영주차장', '장충공영주차장', '조원동공영주차장', '창2동4공영주차장', '천호3동 노외 공영주차장',\n",
       "       '충현동 제1공영주차장', '충현동 제2공영주차장', '충현어린이공영주차장', '필동공영주차장',\n",
       "       '홍은1동 제4공영주차장', '홍은2동 제1공영주차장', '홍은2동 제2공영주차장', '홍은2동 제3공영주차장',\n",
       "       '홍제1동 제2공영주차장', '화곡1-1공영주차장', '화곡7-1공영주차장', '화곡8-2주택가공영주차장',\n",
       "       '화곡본-1지구공영주차장', '화곡본-2주택가(공영주차장)', 'GM대우', '가산동 공영주차장', '강동정비사업소',\n",
       "       '경일주차장', '공영주차장', '구의공영주차장', '국사봉주차장', '논현동주차빌딩', '대방동생태주차장',\n",
       "       '동작갯마을52대', '리츠모터스', '마천동 주차장', '마티스주차장', '명보주차장', '방음언덕형구립주차장',\n",
       "       '삼성자동차 주차장', '상암공영차고지', '새서울주차장', '서래구립주차장', '서초동주차빌딩현대자동차빌딩',\n",
       "       '성민주차빌딩', '소공동롯데 주차타워', '스포월드 주차장', '시온산주차장', '시흥4동 효봉 주차장',\n",
       "       '시흥동주차전용빌딩', '신대방구름주차장', '신대방서광주차장', '신사동제1공영주차장', '암사동 민자 공영주차장',\n",
       "       '연강원주차장', '우신주차빌딩', '정릉3동공영주차장', '주차장', '창2동 제4공영주차장',\n",
       "       '천연동 제1공영주차장', '하월곡동주차장', '한누리주차장', '한서공영주차장', '해공공영주차장', '현대모터스',\n",
       "       '현대자동차주차장', '화곡4-1공영주차장', '화곡본동성당부설주차장'], dtype=object)"
      ]
     },
     "execution_count": 60,
     "metadata": {},
     "output_type": "execute_result"
    }
   ],
   "source": [
    "# test[test.category == \"publicparking\"].place_name.unique()"
   ]
  },
  {
   "cell_type": "markdown",
   "metadata": {},
   "source": [
    "화장실 포함된 이름 -> publictoilet"
   ]
  },
  {
   "cell_type": "code",
   "execution_count": 59,
   "metadata": {},
   "outputs": [
    {
     "name": "stderr",
     "output_type": "stream",
     "text": [
      "C:\\ProgramData\\Anaconda3\\lib\\site-packages\\pandas\\core\\generic.py:4405: SettingWithCopyWarning: \n",
      "A value is trying to be set on a copy of a slice from a DataFrame.\n",
      "Try using .loc[row_indexer,col_indexer] = value instead\n",
      "\n",
      "See the caveats in the documentation: http://pandas.pydata.org/pandas-docs/stable/indexing.html#indexing-view-versus-copy\n",
      "  self[name] = value\n"
     ]
    }
   ],
   "source": [
    "test = reg_name_change(test, \"publicparking\", \"화장실\", \"publictoilet\")"
   ]
  },
  {
   "cell_type": "markdown",
   "metadata": {},
   "source": [
    "# 5. publictoilet 수정사항 없음"
   ]
  },
  {
   "cell_type": "code",
   "execution_count": 61,
   "metadata": {},
   "outputs": [
    {
     "data": {
      "text/plain": [
       "array(['볏골공원 지하공영주차장(볏골공원화장실에서 변경)', '갈곡리어린이공원 화장실', '개롱공원 공중화장실',\n",
       "       '곰돌이공원화장실(단지내)', '공중화장실', '공중화장실 14호', '공중화장실 23호', '공중화장실(대방역)',\n",
       "       '공중화장실(여의도공원)', '공중화장실24호', '공중화장실5호', '공중화장실6호', '공항동 화장실(성당옆공원)',\n",
       "       '광장시장 공중화장실', '광희동1가시범공중화장실', '까치산공원화장실-(새길상세주소누락)',\n",
       "       '꽃동네공원화장실(단지내)', '나들이공원화장실(단지내)', '대방동공중화장실', '도화소공원공중화장실',\n",
       "       '동명근린공원 공중화장실', '동묘공원 공중화장실', '면목5동공중화장실', '목련공원화장실', '무궁화공원화장실',\n",
       "       '무지개공원화장실(단지내)', '방화근린공원화장실(관리사무실)', '방화제2화장실', '백토공원화장실',\n",
       "       '봉원공용화장실', '비둘기공원화장실(단지내)', '사자암공중화장실', '사직공원 공중화장실', '삼청공원 공중화장실',\n",
       "       '상도1동공중화장실', '새락골어린이공원화장실', '새록어린이공원화장실', '서낭당근린공원화장실(관리사무실)',\n",
       "       '시범공중화장실', '시흥4동시범공중화장실', '신원시장 공중화장실', '신흥어린이공원 공중화장실',\n",
       "       '아름공원화장실(동양고옆공원)', '어린이대공원후문공중화장실', '역말공원화장실', '연서공원화장실',\n",
       "       '연화공원화장실', '오금공원인라인장화장실', '을지로7가시범공중화장실', '응암어린이공원 화장실', '장미공원화장실',\n",
       "       '장위3동공중화장실', '좌월어린이공원 화장실', '초안산공중화장실', '신당 1호 화장실', '동산빌라앞 화장실',\n",
       "       '남구로역 공중화장실 화장실', '운동장119안전센터 화장실', '훼미리공원 화장실 화장실',\n",
       "       '오금공원1(관리동) 화장실 화장실', '오금공원2(테니스장) 화장실 화장실',\n",
       "       '오금공원3(스케이트장) 화장실 화장실', '건너말 공원 화장실 화장실', '개롱공원1(관리동) 화장실 화장실',\n",
       "       '개롱공원2(놀이터) 화장실 화장실', '학수(현충) 화장실', '동성빌딩 화장실', '석촌레이크빌 화장실',\n",
       "       '아시아선수촌B동상가 화장실', 'GS석촌주유소 화장실', '잠실주유소(셀프) 화장실', '마천시장 화장실',\n",
       "       '탄천,장지천 합류지점 화장실 화장실', '인성정보빌딩 화장실', 'KH에너지㈜직영 시흥대로 주유소 화장실',\n",
       "       '동광석유㈜ 구광주유소 화장실'], dtype=object)"
      ]
     },
     "execution_count": 61,
     "metadata": {},
     "output_type": "execute_result"
    }
   ],
   "source": [
    "# test[test.category == \"publictoilet\"].place_name.unique()"
   ]
  },
  {
   "cell_type": "markdown",
   "metadata": {},
   "source": [
    "# 6. hospital"
   ]
  },
  {
   "cell_type": "markdown",
   "metadata": {},
   "source": [
    "general hosplital -> hospital <br/>\n",
    "hospital 구분에 종합병원도 포함됨"
   ]
  },
  {
   "cell_type": "code",
   "execution_count": null,
   "metadata": {},
   "outputs": [],
   "source": [
    "test = category_sum(test, 'general hospital', 'hospital')"
   ]
  },
  {
   "cell_type": "code",
   "execution_count": 63,
   "metadata": {
    "scrolled": false
   },
   "outputs": [
    {
     "data": {
      "text/plain": [
       "array(['21세기병원', 'A+ 치과병원', 'BMC한방병원', 'GS항외과의원', 'HL의원(선기빌딩)', 'KS병원',\n",
       "       'MD병원', 'MVP성형외과', 'SMC서울메디칼센터(의원)', 'W병원', '가화정신병원', '강남경희한방병원',\n",
       "       '강남성심병원', '강남성심병원별관', '강남세브란스', '강남센트럴요양병원', '강남요양병원', '강남을지병원',\n",
       "       '강남자이 비뇨기과 병원', '강남중앙병원', '강남초이스병원', '강남효병원(고암빌딩)',\n",
       "       '강동미즈문화센터소아청소년과', '강동미즈여성병원', '강동성모병원', '강동성모요양병원(별관)',\n",
       "       '강동성모요양병원(신관)', '강동성심병원', '강동센트럴요양병원', '강동연세내과', '강동연세병원',\n",
       "       '강동한방병원', '강북21세기병원', '강북삼성병원 본관', '강북성모병원', '강북예치과병원', '강북으뜸내과',\n",
       "       '강북힘찬병원', '강서성모요양병원', '강서성심병원(강서사랑요양병원)', '강서솔병원', '강서연세병원',\n",
       "       '강서한방병원', '강윤빌딩(윤앤송한의원)', '건강한세상앞선치과병원', '건국대학교병원', '경동요양병원',\n",
       "       '경찰병원', '경희대학교 의과대학동서신의학병원', '경희의원', '경희인의한의원', '고려새한병원',\n",
       "       '고려수요양병원', '고운타워(유앤유치과)', '공안과', '관악구보건소', '광동한방병원',\n",
       "       '광진구 보건소(광진구청제2별관)', '광혜병원', '구로고대병원', '구로고대부속병원장례식장', '구로성심병원',\n",
       "       '국립의료원', '국립재활원', '굿조인트병원', '기쁨병원(지후빌딩)', '길동노인요양병원(동화빌딩 4,5층)',\n",
       "       '김&송 유나이티드 성형외과(하늘빌딩)', '김성진 정형외과', '김영수병원(구정빌딩)', '김완호정형외과의원',\n",
       "       '김인권 성형외과(유덕빌딩)', '김홍일내과', '나누리병원', '낙성대클리닉센터(고려정형외과의원)', '난곡보건분소',\n",
       "       '날개병원', '날아라정형외과', '네모치과의원(신도타워)', '노블요양병원', '노원보건소', '노원솔요양병원',\n",
       "       '노원스마트요양병원', '노정형외과', '녹십초한방병원', '누네안과병원', '뉴강서성심병원', '뉴스타트병원',\n",
       "       '뉴연세 산후조리원', '뉴타운장례식장', '다나병원', '대림성모병원', '대림성모병원 건강검진센터', '대한병원',\n",
       "       '대항병원', '더 조은병원', '더본정형외과', '더와이즈황병원', '도봉병원 <건강검진센터>', '도봉병원<본관>',\n",
       "       '도봉병원<신관>', '도봉보건소', '도양라비앙타워빌딩(서울수치과)', '동부요양병원', '동부제일병원',\n",
       "       '동서울병원', '동서한방병원', '동신병원(구관)', '동신병원신관(동욱빌딩)', '동작경희병원', '동작보건소',\n",
       "       '드림비뇨기과 피부과', '드림성형외과', '드림요양병원', '라마드레 산부인과', '라온병원(승일뷰티타워)',\n",
       "       '라피 메딩앙스 정형외과', '로고스치과', '로고스치과병원', '로하스은평효병원', '루시나산부인과',\n",
       "       '리더스 피부과', '린피부과', '마디병원', '마리아병원', '마리아성모병원', '맑은수병원', '맑음숲한의원',\n",
       "       '메디아이여성병원', '메디켈센터', '메디파크의원', '메디힐병원별관', '메디힐병원본관', '명지성모병원',\n",
       "       '명지춘혜병원', '모네여성병원', '모커리 병원(물리치료실)', '모커리한방병원', '목동라테라산후조리원',\n",
       "       '목동연세병원', '문현치과의원', '문화빌딩(서울수정형외과)', '미병원', '미소진치과', '미자인 의원',\n",
       "       '미즈메디병원', '밀레니엄차과 병원', '바로선병원', '바른본병원', '바비페이스 병원', '박형근정형외과',\n",
       "       '반도정형외과병원', '베드로병원(증축 및 대수선)', '베스티안 병원', '베트로병원', '보문효사랑병원',\n",
       "       '본앤본정형외과', '부민병원', '사랑의 병원', '삼성미래여성병원', '삼성서울병원', '삼성제일병원신관',\n",
       "       '삼육의료원장례식장', '상계백병원', '상계빌딩(굳쎈정형외과)', '상계정형외과의원', '상쾌한아침외과의원',\n",
       "       '새길병원', '새보람요양병원', '새빛요양병원(윤빌딩)', '새서울병원', '새움병원', '새한빛병원',\n",
       "       '새희망병원', '서대문구보건소 천연분소', '서울 참병원', '서울대학교병원', '서울대효병원', '서울미래정형외과',\n",
       "       '서울밝은세상 안과(한양타운)', '서울백병원', '서울베스트병원', '서울병원', '서울보훈병원', '서울복지병원',\n",
       "       '서울선병원', '서울성모병원', '서울성심병원', '서울신내요양병원', '서울실버요양병원', '서울연세요양병원',\n",
       "       '서울외과', '서울요양병원', '서울의료원(강남분원)', '서울장례식장', '서울재활병원',\n",
       "       '서울적십자병원(장례식장)', '서울정형외과', '서울척병원', '서울팀메이트치과,리뉴미치과(오플란트치과)',\n",
       "       '서울현대병원', '서울효요양병원', '서초보건소', '석플란트 치과', '선양신경외과(수의원)', '선의노인전문병원',\n",
       "       '선정신과의원', '선한이웃병원', '성가치과', '성누가의원', '성동보건소', '성바오로관절센터', '성바오로병원',\n",
       "       '성북보건소', '성북중앙병원', '성수보건분소', '성신병원', '성심고려병원', '성심메디컬의원',\n",
       "       '성애병원 본관', '성지병원', '세란병원', '세이페병원', '소리의원@강서점', '송도병원', '송파참병원',\n",
       "       '송파청병원', '수내과', '순천향대학교병원(교수연구동)', '스타병원', '시너지병원', '시립동부병원',\n",
       "       '시립북부노인병원', '시립은평병원', '시립장애인구강진료센터', '시소모타워(강남물방울치과)', '신아타운(병원)',\n",
       "       '신우요양병원', '신촌리더스병원', '신촌연세병원', '신촌연세이비인후과(의원)', '신화병원', '실로암안과병원',\n",
       "       '심청요양병원', '아산병원', '아이디병원', '아이엠치과병원', '아이제이스엠비.산부인과의원', '아이젬산후조리원',\n",
       "       '아카시아병원', '안강병원', '안세병원', '안정형외과', '양병원', '양병원제2종합검진센터', '양재 최의원',\n",
       "       '양천보건소', '어린이치과', '에머럴드 빌딩(BK의원)', '에스플란트 치과병원', '에이스정형외과',\n",
       "       '에이치큐브병원', '여러분병원', '연세SK병원', '연세노블병원', '연세무척나은병원', '연세바른병원',\n",
       "       '연세방병원', '연세병원', '연세사랑병원', '연세사랑요양병원', '연세사랑정형외과', '연세에덴병원',\n",
       "       '연세영동병원', '연세웰치과', '연세정형외과', '열린산후조리원', '영동병원', '영등포한방병원',\n",
       "       '예닮요양병원', '예원요양센터', '오라클피부과', '온누리병원', '올림픽병원', '올림픽정형외과의원',\n",
       "       '옵티마 성형외과 (보완수정안됨)', '우리들병원', '우이새길병원', '욱현하이브(요양병원)', '웰튼병원',\n",
       "       '위담한방병원', '유광사병원', '유디 치과의원(현정빌딩)', '유디치과의원', '윤호 함춘 병원',\n",
       "       '을지병원(본관동)', '을지병원(의료동)', '을지병원(행정동)', '의료시설(신애요양병원)',\n",
       "       '의료시설(참좋은치과)', '이너스치과병원', '이대목동병원 병원동', '이성복치과', '이엘치과의원', '이영수의원',\n",
       "       '이지애 성형외과 병원', '이지펠리스(한걸음병원)', '인애가병원', '인애가한방병원(우신향한방병원)', '인정병원',\n",
       "       '인화재활병원', '자생한방병원(대경프라자)', '장스여성병원', '제일병원(본관)', '제일정형외과의원',\n",
       "       '조앤조병원', '종로보건소', '주영빌딩(가족사랑정신과의원)', '중구보건분소청사', '중구보건소청사',\n",
       "       '중랑프라임병원', '중앙대학교병원', '중앙병원장례식장', '차병원(별관)', '참사랑병원', '참소망의원',\n",
       "       '참요양병원', '참포도나무병원', '창동제일의원', '천사병원', '첫단추조산원', '청구성심병원',\n",
       "       '청박메디미의원', '청산입시학원(청산빌딩튼튼병원)G8-F2', '청솔한의원', '청플란트치과', '청하병원',\n",
       "       '최수년 산부인과(의원)', '최차혜병원', '최차혜병원치과', '친구병원', '코리아병원', '퀸스메디산부인과',\n",
       "       '큰누리메디컬센터', '큰사랑노인전문병원', '태릉마이크로병원', '튼튼병원', '튼튼병원(용도변경)',\n",
       "       '튼튼성모정형외과의원', '파워스빌딩(린산부인과 입원동)', '편강한의원', '포근한노인전문 병원',\n",
       "       '포근한맘요양병원', '하나 이비인후과 병원', '하나효요양원', '하이트 치과의원(쌍봉빌딩)',\n",
       "       '학교법인 인제학원 인당관', '한강성심병원', '한강성심병원별관1', '한강성심병원별관2',\n",
       "       '한국원자력의학원자력병원', '한누리치과병원', '한마음종합클리닉', '한맘 플러스 병원', '한서병원',\n",
       "       '한성빌딩(규림한의원)', '한양대병원', '한일병원', '햇빛여성전문병원', '햇살가득한가정의학과의원',\n",
       "       '행복한병원(삼부빌딩)', '현대프라자(의원)', '현산부인과', '혜담요양병원', '혜당한방병원', '혜민병원',\n",
       "       '호산산부인과', '홍익병원본관', '화곡보건분소', '화인웰산후조리원', '황세영산부인과(더와이즈병원)',\n",
       "       '효인병원', '희명병원', '힘찬병원', '(주)승산디앤아이', '1st 퍼스트 에비뉴 타워', '2431빌딩',\n",
       "       '2층산후조리원', '4층의원', 'ANG클리닉', 'BK동양 성형외과 빌딩', 'BUTAYA(포도빌딩)',\n",
       "       'CH빌딩(유기농 전문매장)', 'EBM 통합의학', 'FINE TOWER', 'GMF빌딩', 'H&DE 빌딩',\n",
       "       'HM타워', 'K&S빌딩', 'K - TOWER', 'KBL빌딩', 'K타워(용도변경)', 'MGL블루핀타워',\n",
       "       'MH빌딩', 'M타워', 'kts빌딩', '㈜교육지존(원방빌딩)', '㈜귀뚜라미보일러 사옥빌딩', '㈜연합충무',\n",
       "       '가나빌딩', '가양프라자', '강남제일빌딩', '강남지웰타워2', '강동미즈문화센터', '강락빌딩',\n",
       "       '강변역지너스타워', '강북우리들병원', '강서메디컬센터', '강한미크리닉빌딩', '갤러리JC', '거묵빌딩',\n",
       "       '겔릭스빌딩', '경신빌딩', '고려수요양병원 금천점', '고려정형외과의원', '공무원연금공단',\n",
       "       '관악농협낙성대역지점', '관악농협보라매점', '광명빌딩', '광일빌딩', '광진타워빌딩',\n",
       "       '구산동 1종근생 용도변경', '구정빌딩', '국민은행쌍문북지점(4층 의원)', '굿모닝시티 쇼핑몰',\n",
       "       '규림한의원?목동점', '그레이스', '그림바우', '근린생활시설', '금강제화', '금영빌딩',\n",
       "       '기업은행(6층 병원)', '김밥나라(수지빌딩)', '까사아레떼', '나은빌딩', '난곡프라자', '남성프라자',\n",
       "       '남전빌딩', '노벨빌딩', '노블리움오피스텔', '누네안과병원 서울병원', '누드존빌딩', '뉴연세산부인과',\n",
       "       '능동빌딩', '다모아빌딩', '답비뇨기과', '당산동 대정프라자', '당산빌딩', '대덕프라자', '대동빌딩',\n",
       "       '대림공인중개사사무소', '대성빌딩', '대소빌딩', '대승빌딩', '대우베네스티', '대원빌딩',\n",
       "       '대조동 근린생활 신축', '대준산업주식회사', '대창빌딩', '대창빌타운', '대한미용사회중앙회', '대호아이알',\n",
       "       '더퀸산후조리원', '데미안빌딩', '도봉병원<건강검진센터>', '도양빌딩', '동남빌딩', '동부센트럴요양병원',\n",
       "       '동서빌딩', '동서울호텔', '동신빌딩', '동아빌딩', '동양빌딩', '동일코아루센타시아 상가', '동주빌딩',\n",
       "       '두레빌딩', '등촌동 병원', '따스한봄날처럼', '라테라앤송파산후조리원', '로이어즈타워',\n",
       "       '롯데시네마(구 씨티극장)', '루비나빌딩', '르메이에르강남타운1차주상복합', '리벨로빌딩', '리젠메디컬타워',\n",
       "       '마스터인터내셔널', '만택빌딩', '메디칼빌딩(의원)', '메트리얼빌딩', '명덕빌딩', '명성빌딩', '명지성묘',\n",
       "       '명지성묘 별관', '모창빌딩', '목동RICHSQUARE', '목동비즈타워', '목동썬텍씨티빌딩(스타벅스건물)',\n",
       "       '목동자생한방병원', '미사랑빌딩', '미주메디컬 빌딩', '밀레니엄차과 병원 ', '반포자이중심상가',\n",
       "       '방재예다인프라자', '배윤자요리학원', '백동빌딩', '베스티안 서울병원', '보성빌딩', '봉천동 업무시설',\n",
       "       '부원빌딩', '비즈센터', '사랑의소리산후조리원', '사학연구회', '산후조리원웰빙센타', '삼보빌딩', '삼성생명',\n",
       "       '삼안빌딩', '삼용빌딩', '삼전솔하임', '삼정빌딩', '삼흥빌딩', '상계빌딩(굳센정형외과)', '상록빌딩',\n",
       "       '상쾌한아침외과', '샬롬빌딩', '서남프라자', '서울내과', '서울 메디칼센터 ', '서울 학동빌딩', '서전빌딩',\n",
       "       '서평빌딩', '석봉빌딩', '석촌동근린생활시설', '선샤인빌딩', '선진빌딩', '선한빌딩', '성담빌딩',\n",
       "       '성락빌딩', '성북성심빌딩', '성원빌딩', '세명빌딩', '세이브마트', '세종빌딩', '센트럴타워', '셈프레팜',\n",
       "       '솔레드림', '송암빌딩', '송화쇼핑센터', '수영빌딩', '시계탑빌딩', '시그마팰리스(2,3층 의원)',\n",
       "       '시너지정형외과병원', '시설물명 미입력', '시티월드', '신림동 근린생활시설', '신방빌딩', '신정플라자',\n",
       "       '신진빌딩', '신포빌딩', '심포니타워', '쌍용플래티넘리버오피스텔', '썬프라자', '아이제이스엠비 산부인과의원',\n",
       "       '안석빌딩', '안세빌딩', '안타워', '약봉빌딩', '약수JK빌딩', '어반캠프츠빌딩', '어반하이브',\n",
       "       '언고신관', '에머랄드', '에벤에셀프라자', '에스메디센터(동민빌딩)', '에스에스마트', '에스엠메디칼',\n",
       "       '엠에스빌딩', '엠제이빌딩', '연당빌딩', '연세에덴요양병원', '연세재단세브란스빌딩', '연한빌딩', '영남빌딩',\n",
       "       '영진빌딩', '영진오피스', '영창빌딩', '예경빌딩', '예사랑교회', '오가닉스타워(광제한의원폐업)',\n",
       "       '오륜빌딩', '용천빌딩', '우리들메디빌딩', '우성상가', '우장빌딩', '운산빌딩', '원빌딩', '원익빌딩',\n",
       "       '월드컵파크 프라자', '웰빙메디칼빌딩', '웰빙센터', '유네스코회관', '유림빌딩', '유문빌딩', '육일빌딩',\n",
       "       '윤강', '의원', '의원(세일빌딩)', '의원(수락프라자)', '의원빌딩(화곡메디칼)', '이스트만빌딩',\n",
       "       '이펜하우스타워', '인앤인오피스', '일주빌딩', '장안빌딩', '정산타워빌딩', '정암빌딩', '정우 빌딩',\n",
       "       '정진빌딩', '제1종근린생활시설-의원', '제성빌딩', '제이슨빌딩', '제일빌딩', '조이빌딩', '조인트 병원',\n",
       "       '주류성빌딩', '주원21빌딩', '중앙빌딩 ', '진넥스베르디엠', '진성빌딩', '차병원 줄기세포 치료연구센터',\n",
       "       '청수프라자', '청하빌딩', '청호빌딩', '청화빌딩', '카리스빌딩', '케이지티시빌딩', '코리아비지니스센터',\n",
       "       '코스모타워', '키스톤 빌딩', '타임빌딩', '태승빌딩', '태흥빌딩', '터미널전자상가', '토림건설',\n",
       "       '트라이엄프메딕스빌딩', '티타운빌딩', '파인블루빌딩', '페이토빌딩', '페트라빌딩', '포스코메디칼',\n",
       "       '포에버21', '푸마', '풍전빌딩', '프린스타워', '플라망스타워', '필하우스', '하나은행빌딩', '하늘빌딩',\n",
       "       '하바나빌딩', '하이원빌리지(원불교수도원)', '한국건강관리협회', '한국국제퀼트본부', '한마음빌딩',\n",
       "       '한맘플러스재활의학과의원', '한미빌딩', '한상옥', '한승빌딩', '한양빌딩', '한얼메디프라자', '한일빌딩',\n",
       "       '해맑은미소', '햇살요양병원', '현대크리닉빌딩', '현빌딩', '호경빌딩', '호서빌딩', '호원프라자',\n",
       "       '호정빌딩', '홍빌딩(더스틴뷰티아카데미)', '홍제빌딩', '화경', '화성빌딩', '황학 아크로타워', '훈민빌딩',\n",
       "       '훼미리샤르망', '휴먼타워', '힐 헤븐'], dtype=object)"
      ]
     },
     "execution_count": 63,
     "metadata": {},
     "output_type": "execute_result"
    }
   ],
   "source": [
    "# test[test.category == \"hospital\"].place_name.unique()"
   ]
  },
  {
   "cell_type": "markdown",
   "metadata": {},
   "source": [
    "화장실 포함된 이름 -> publictoilet"
   ]
  },
  {
   "cell_type": "code",
   "execution_count": 62,
   "metadata": {},
   "outputs": [
    {
     "name": "stderr",
     "output_type": "stream",
     "text": [
      "C:\\ProgramData\\Anaconda3\\lib\\site-packages\\pandas\\core\\generic.py:4405: SettingWithCopyWarning: \n",
      "A value is trying to be set on a copy of a slice from a DataFrame.\n",
      "Try using .loc[row_indexer,col_indexer] = value instead\n",
      "\n",
      "See the caveats in the documentation: http://pandas.pydata.org/pandas-docs/stable/indexing.html#indexing-view-versus-copy\n",
      "  self[name] = value\n"
     ]
    }
   ],
   "source": [
    "test = reg_name_change(test, \"hospital\", \"화장실\", \"publictoilet\")"
   ]
  },
  {
   "cell_type": "markdown",
   "metadata": {},
   "source": [
    "# 7. publicinstitution"
   ]
  },
  {
   "cell_type": "code",
   "execution_count": 86,
   "metadata": {},
   "outputs": [
    {
     "data": {
      "text/plain": [
       "array([], dtype=object)"
      ]
     },
     "execution_count": 86,
     "metadata": {},
     "output_type": "execute_result"
    }
   ],
   "source": [
    "# test[test.category == \"publicinstitution\"].place_name.unique()"
   ]
  },
  {
   "cell_type": "markdown",
   "metadata": {},
   "source": [
    "포함시키지 말아야 할 것 (나중에 삭제)"
   ]
  },
  {
   "cell_type": "code",
   "execution_count": 84,
   "metadata": {},
   "outputs": [],
   "source": [
    "test = reg_name_change(test, \"publicinstitution\", \"지사\", \"delete\")"
   ]
  },
  {
   "cell_type": "code",
   "execution_count": 67,
   "metadata": {},
   "outputs": [
    {
     "name": "stderr",
     "output_type": "stream",
     "text": [
      "C:\\ProgramData\\Anaconda3\\lib\\site-packages\\pandas\\core\\generic.py:4405: SettingWithCopyWarning: \n",
      "A value is trying to be set on a copy of a slice from a DataFrame.\n",
      "Try using .loc[row_indexer,col_indexer] = value instead\n",
      "\n",
      "See the caveats in the documentation: http://pandas.pydata.org/pandas-docs/stable/indexing.html#indexing-view-versus-copy\n",
      "  self[name] = value\n"
     ]
    }
   ],
   "source": [
    "test = reg_name_change(test, \"publicinstitution\", \"공단\", \"delete\")"
   ]
  },
  {
   "cell_type": "markdown",
   "metadata": {},
   "source": [
    "보건소,  보건복지부 -> health center"
   ]
  },
  {
   "cell_type": "code",
   "execution_count": 68,
   "metadata": {},
   "outputs": [],
   "source": [
    "test = reg_name_change(test, \"publicinstitution\", \"보건소$\", \"health center\")"
   ]
  },
  {
   "cell_type": "code",
   "execution_count": 69,
   "metadata": {},
   "outputs": [
    {
     "name": "stderr",
     "output_type": "stream",
     "text": [
      "C:\\ProgramData\\Anaconda3\\lib\\site-packages\\pandas\\core\\generic.py:4405: SettingWithCopyWarning: \n",
      "A value is trying to be set on a copy of a slice from a DataFrame.\n",
      "Try using .loc[row_indexer,col_indexer] = value instead\n",
      "\n",
      "See the caveats in the documentation: http://pandas.pydata.org/pandas-docs/stable/indexing.html#indexing-view-versus-copy\n",
      "  self[name] = value\n"
     ]
    }
   ],
   "source": [
    "test = reg_name_change(test, \"publicinstitution\", \"보건\", \"health center\")"
   ]
  },
  {
   "cell_type": "markdown",
   "metadata": {},
   "source": [
    "우체국 -> post office"
   ]
  },
  {
   "cell_type": "code",
   "execution_count": 71,
   "metadata": {},
   "outputs": [
    {
     "name": "stderr",
     "output_type": "stream",
     "text": [
      "C:\\ProgramData\\Anaconda3\\lib\\site-packages\\pandas\\core\\generic.py:4405: SettingWithCopyWarning: \n",
      "A value is trying to be set on a copy of a slice from a DataFrame.\n",
      "Try using .loc[row_indexer,col_indexer] = value instead\n",
      "\n",
      "See the caveats in the documentation: http://pandas.pydata.org/pandas-docs/stable/indexing.html#indexing-view-versus-copy\n",
      "  self[name] = value\n"
     ]
    }
   ],
   "source": [
    "test = reg_name_change(test, \"publicinstitution\", \"우체국\", \"post office\")"
   ]
  },
  {
   "cell_type": "markdown",
   "metadata": {},
   "source": [
    "지구대, 경찰서, 파출소, 청사, 치안센터-> police station"
   ]
  },
  {
   "cell_type": "code",
   "execution_count": 72,
   "metadata": {},
   "outputs": [
    {
     "name": "stderr",
     "output_type": "stream",
     "text": [
      "C:\\ProgramData\\Anaconda3\\lib\\site-packages\\pandas\\core\\generic.py:4405: SettingWithCopyWarning: \n",
      "A value is trying to be set on a copy of a slice from a DataFrame.\n",
      "Try using .loc[row_indexer,col_indexer] = value instead\n",
      "\n",
      "See the caveats in the documentation: http://pandas.pydata.org/pandas-docs/stable/indexing.html#indexing-view-versus-copy\n",
      "  self[name] = value\n"
     ]
    }
   ],
   "source": [
    "test = reg_name_change(test, \"publicinstitution\", \"경찰서\", \"police station\")"
   ]
  },
  {
   "cell_type": "code",
   "execution_count": 74,
   "metadata": {},
   "outputs": [
    {
     "name": "stderr",
     "output_type": "stream",
     "text": [
      "C:\\ProgramData\\Anaconda3\\lib\\site-packages\\pandas\\core\\generic.py:4405: SettingWithCopyWarning: \n",
      "A value is trying to be set on a copy of a slice from a DataFrame.\n",
      "Try using .loc[row_indexer,col_indexer] = value instead\n",
      "\n",
      "See the caveats in the documentation: http://pandas.pydata.org/pandas-docs/stable/indexing.html#indexing-view-versus-copy\n",
      "  self[name] = value\n"
     ]
    }
   ],
   "source": [
    "test = reg_name_change(test, \"publicinstitution\", \"지구대\", \"police station\")"
   ]
  },
  {
   "cell_type": "code",
   "execution_count": 76,
   "metadata": {},
   "outputs": [
    {
     "name": "stderr",
     "output_type": "stream",
     "text": [
      "C:\\ProgramData\\Anaconda3\\lib\\site-packages\\pandas\\core\\generic.py:4405: SettingWithCopyWarning: \n",
      "A value is trying to be set on a copy of a slice from a DataFrame.\n",
      "Try using .loc[row_indexer,col_indexer] = value instead\n",
      "\n",
      "See the caveats in the documentation: http://pandas.pydata.org/pandas-docs/stable/indexing.html#indexing-view-versus-copy\n",
      "  self[name] = value\n"
     ]
    }
   ],
   "source": [
    "test = reg_name_change(test, \"publicinstitution\", \"파출소\", \"police station\")"
   ]
  },
  {
   "cell_type": "code",
   "execution_count": 77,
   "metadata": {},
   "outputs": [
    {
     "name": "stderr",
     "output_type": "stream",
     "text": [
      "C:\\ProgramData\\Anaconda3\\lib\\site-packages\\pandas\\core\\generic.py:4405: SettingWithCopyWarning: \n",
      "A value is trying to be set on a copy of a slice from a DataFrame.\n",
      "Try using .loc[row_indexer,col_indexer] = value instead\n",
      "\n",
      "See the caveats in the documentation: http://pandas.pydata.org/pandas-docs/stable/indexing.html#indexing-view-versus-copy\n",
      "  self[name] = value\n"
     ]
    }
   ],
   "source": [
    "test = reg_name_change(test, \"publicinstitution\", \"청사\", \"police station\")"
   ]
  },
  {
   "cell_type": "code",
   "execution_count": 78,
   "metadata": {},
   "outputs": [
    {
     "name": "stderr",
     "output_type": "stream",
     "text": [
      "C:\\ProgramData\\Anaconda3\\lib\\site-packages\\pandas\\core\\generic.py:4405: SettingWithCopyWarning: \n",
      "A value is trying to be set on a copy of a slice from a DataFrame.\n",
      "Try using .loc[row_indexer,col_indexer] = value instead\n",
      "\n",
      "See the caveats in the documentation: http://pandas.pydata.org/pandas-docs/stable/indexing.html#indexing-view-versus-copy\n",
      "  self[name] = value\n"
     ]
    }
   ],
   "source": [
    "test = reg_name_change(test, \"publicinstitution\", \"치안센터\", \"police station\")"
   ]
  },
  {
   "cell_type": "markdown",
   "metadata": {},
   "source": [
    "동사무소, 주민센터, 센터$, 구청 -> community service center"
   ]
  },
  {
   "cell_type": "code",
   "execution_count": 79,
   "metadata": {},
   "outputs": [
    {
     "name": "stderr",
     "output_type": "stream",
     "text": [
      "C:\\ProgramData\\Anaconda3\\lib\\site-packages\\pandas\\core\\generic.py:4405: SettingWithCopyWarning: \n",
      "A value is trying to be set on a copy of a slice from a DataFrame.\n",
      "Try using .loc[row_indexer,col_indexer] = value instead\n",
      "\n",
      "See the caveats in the documentation: http://pandas.pydata.org/pandas-docs/stable/indexing.html#indexing-view-versus-copy\n",
      "  self[name] = value\n"
     ]
    }
   ],
   "source": [
    "test = reg_name_change(test, \"publicinstitution\", \"주민센터\", \"community service center\")"
   ]
  },
  {
   "cell_type": "code",
   "execution_count": 80,
   "metadata": {},
   "outputs": [
    {
     "name": "stderr",
     "output_type": "stream",
     "text": [
      "C:\\ProgramData\\Anaconda3\\lib\\site-packages\\pandas\\core\\generic.py:4405: SettingWithCopyWarning: \n",
      "A value is trying to be set on a copy of a slice from a DataFrame.\n",
      "Try using .loc[row_indexer,col_indexer] = value instead\n",
      "\n",
      "See the caveats in the documentation: http://pandas.pydata.org/pandas-docs/stable/indexing.html#indexing-view-versus-copy\n",
      "  self[name] = value\n"
     ]
    }
   ],
   "source": [
    "test = reg_name_change(test, \"publicinstitution\", \"동사무소\", \"community service center\")"
   ]
  },
  {
   "cell_type": "code",
   "execution_count": 81,
   "metadata": {},
   "outputs": [
    {
     "name": "stderr",
     "output_type": "stream",
     "text": [
      "C:\\ProgramData\\Anaconda3\\lib\\site-packages\\pandas\\core\\generic.py:4405: SettingWithCopyWarning: \n",
      "A value is trying to be set on a copy of a slice from a DataFrame.\n",
      "Try using .loc[row_indexer,col_indexer] = value instead\n",
      "\n",
      "See the caveats in the documentation: http://pandas.pydata.org/pandas-docs/stable/indexing.html#indexing-view-versus-copy\n",
      "  self[name] = value\n"
     ]
    }
   ],
   "source": [
    "test = reg_name_change(test, \"publicinstitution\", \"센터\", \"community service center\")"
   ]
  },
  {
   "cell_type": "code",
   "execution_count": 82,
   "metadata": {},
   "outputs": [
    {
     "name": "stderr",
     "output_type": "stream",
     "text": [
      "C:\\ProgramData\\Anaconda3\\lib\\site-packages\\pandas\\core\\generic.py:4405: SettingWithCopyWarning: \n",
      "A value is trying to be set on a copy of a slice from a DataFrame.\n",
      "Try using .loc[row_indexer,col_indexer] = value instead\n",
      "\n",
      "See the caveats in the documentation: http://pandas.pydata.org/pandas-docs/stable/indexing.html#indexing-view-versus-copy\n",
      "  self[name] = value\n"
     ]
    }
   ],
   "source": [
    "test = reg_name_change(test, \"publicinstitution\", \"구청\", \"community service center\")"
   ]
  },
  {
   "cell_type": "code",
   "execution_count": 85,
   "metadata": {},
   "outputs": [
    {
     "name": "stdout",
     "output_type": "stream",
     "text": [
      "전체 category 개수\n",
      "64\n",
      "\n",
      "이 전 delete 해당 category 개수 : \n",
      "index                      58\n",
      "category                   58\n",
      "lat                        58\n",
      "lon                        58\n",
      "place_address              58\n",
      "place_id                   58\n",
      "facility_available_name    58\n",
      "facility_is_available      58\n",
      "place_name                 58\n",
      "facility_id                58\n",
      "dtype: int64\n",
      "\n",
      "이 후 delete 해당 category 개수 : \n",
      "index                      204\n",
      "category                   204\n",
      "lat                        204\n",
      "lon                        204\n",
      "place_address              204\n",
      "place_id                   204\n",
      "facility_available_name    204\n",
      "facility_is_available      204\n",
      "place_name                 204\n",
      "facility_id                204\n",
      "dtype: int64\n",
      "\n",
      "전체 category 개수\n",
      "63\n"
     ]
    },
    {
     "name": "stderr",
     "output_type": "stream",
     "text": [
      "C:\\ProgramData\\Anaconda3\\lib\\site-packages\\pandas\\core\\generic.py:4405: SettingWithCopyWarning: \n",
      "A value is trying to be set on a copy of a slice from a DataFrame.\n",
      "Try using .loc[row_indexer,col_indexer] = value instead\n",
      "\n",
      "See the caveats in the documentation: http://pandas.pydata.org/pandas-docs/stable/indexing.html#indexing-view-versus-copy\n",
      "  self[name] = value\n"
     ]
    }
   ],
   "source": [
    "test = category_sum(test, \"publicinstitution\", \"delete\")"
   ]
  },
  {
   "cell_type": "markdown",
   "metadata": {},
   "source": [
    "# 8. bank "
   ]
  },
  {
   "cell_type": "code",
   "execution_count": 87,
   "metadata": {},
   "outputs": [
    {
     "data": {
      "text/plain": [
       "array(['W저축은행', '국민은행건물', '기업은행', ..., '힐튼호텔', '석수상가 화장실', '伯林빌딩'],\n",
       "      dtype=object)"
      ]
     },
     "execution_count": 87,
     "metadata": {},
     "output_type": "execute_result"
    }
   ],
   "source": [
    "# test[test.category == \"bank\"].place_name.unique()"
   ]
  },
  {
   "cell_type": "code",
   "execution_count": 88,
   "metadata": {
    "scrolled": false
   },
   "outputs": [
    {
     "data": {
      "text/html": [
       "<div>\n",
       "<style scoped>\n",
       "    .dataframe tbody tr th:only-of-type {\n",
       "        vertical-align: middle;\n",
       "    }\n",
       "\n",
       "    .dataframe tbody tr th {\n",
       "        vertical-align: top;\n",
       "    }\n",
       "\n",
       "    .dataframe thead th {\n",
       "        text-align: right;\n",
       "    }\n",
       "</style>\n",
       "<table border=\"1\" class=\"dataframe\">\n",
       "  <thead>\n",
       "    <tr style=\"text-align: right;\">\n",
       "      <th></th>\n",
       "      <th>index</th>\n",
       "      <th>category</th>\n",
       "      <th>lat</th>\n",
       "      <th>lon</th>\n",
       "      <th>place_address</th>\n",
       "      <th>place_id</th>\n",
       "      <th>facility_available_name</th>\n",
       "      <th>facility_is_available</th>\n",
       "      <th>place_name</th>\n",
       "      <th>facility_id</th>\n",
       "    </tr>\n",
       "  </thead>\n",
       "  <tbody>\n",
       "    <tr>\n",
       "      <th>6442</th>\n",
       "      <td>6599</td>\n",
       "      <td>bank</td>\n",
       "      <td>37.49679610000001</td>\n",
       "      <td>127.0559334</td>\n",
       "      <td>서울특별시 강남구 도곡로 414</td>\n",
       "      <td>11777.0</td>\n",
       "      <td>주출입구 높이차이 제거</td>\n",
       "      <td>이용가능</td>\n",
       "      <td>W저축은행</td>\n",
       "      <td>106283</td>\n",
       "    </tr>\n",
       "    <tr>\n",
       "      <th>6443</th>\n",
       "      <td>6598</td>\n",
       "      <td>bank</td>\n",
       "      <td>37.49679610000001</td>\n",
       "      <td>127.0559334</td>\n",
       "      <td>서울특별시 강남구 도곡로 414</td>\n",
       "      <td>11777.0</td>\n",
       "      <td>장애인 전용 주차구역</td>\n",
       "      <td>이용불편</td>\n",
       "      <td>W저축은행</td>\n",
       "      <td>106282</td>\n",
       "    </tr>\n",
       "    <tr>\n",
       "      <th>6444</th>\n",
       "      <td>6597</td>\n",
       "      <td>bank</td>\n",
       "      <td>37.49679610000001</td>\n",
       "      <td>127.0559334</td>\n",
       "      <td>서울특별시 강남구 도곡로 414</td>\n",
       "      <td>11777.0</td>\n",
       "      <td>주출입구 접근로</td>\n",
       "      <td>이용불편</td>\n",
       "      <td>W저축은행</td>\n",
       "      <td>106281</td>\n",
       "    </tr>\n",
       "    <tr>\n",
       "      <th>6445</th>\n",
       "      <td>6601</td>\n",
       "      <td>bank</td>\n",
       "      <td>37.5337474</td>\n",
       "      <td>126.958801</td>\n",
       "      <td>서울특별시 용산구 원효로  138</td>\n",
       "      <td>11779.0</td>\n",
       "      <td>주출입구 접근로</td>\n",
       "      <td>이용가능</td>\n",
       "      <td>국민은행건물</td>\n",
       "      <td>106284</td>\n",
       "    </tr>\n",
       "    <tr>\n",
       "      <th>6446</th>\n",
       "      <td>6602</td>\n",
       "      <td>bank</td>\n",
       "      <td>37.5337474</td>\n",
       "      <td>126.958801</td>\n",
       "      <td>서울특별시 용산구 원효로  138</td>\n",
       "      <td>11779.0</td>\n",
       "      <td>장애인 전용 주차구역</td>\n",
       "      <td>이용가능</td>\n",
       "      <td>국민은행건물</td>\n",
       "      <td>106285</td>\n",
       "    </tr>\n",
       "  </tbody>\n",
       "</table>\n",
       "</div>"
      ],
      "text/plain": [
       "      index category                lat          lon       place_address  \\\n",
       "6442   6599     bank  37.49679610000001  127.0559334   서울특별시 강남구 도곡로 414   \n",
       "6443   6598     bank  37.49679610000001  127.0559334   서울특별시 강남구 도곡로 414   \n",
       "6444   6597     bank  37.49679610000001  127.0559334   서울특별시 강남구 도곡로 414   \n",
       "6445   6601     bank         37.5337474   126.958801  서울특별시 용산구 원효로  138   \n",
       "6446   6602     bank         37.5337474   126.958801  서울특별시 용산구 원효로  138   \n",
       "\n",
       "      place_id facility_available_name facility_is_available place_name  \\\n",
       "6442   11777.0            주출입구 높이차이 제거                  이용가능      W저축은행   \n",
       "6443   11777.0             장애인 전용 주차구역                  이용불편      W저축은행   \n",
       "6444   11777.0                주출입구 접근로                  이용불편      W저축은행   \n",
       "6445   11779.0                주출입구 접근로                  이용가능     국민은행건물   \n",
       "6446   11779.0             장애인 전용 주차구역                  이용가능     국민은행건물   \n",
       "\n",
       "     facility_id  \n",
       "6442      106283  \n",
       "6443      106282  \n",
       "6444      106281  \n",
       "6445      106284  \n",
       "6446      106285  "
      ]
     },
     "execution_count": 88,
     "metadata": {},
     "output_type": "execute_result"
    }
   ],
   "source": [
    "# test[test.category == \"bank\"].head()"
   ]
  },
  {
   "cell_type": "markdown",
   "metadata": {},
   "source": [
    "화장실 포함된 이름 -> publictoilet"
   ]
  },
  {
   "cell_type": "code",
   "execution_count": 89,
   "metadata": {},
   "outputs": [
    {
     "name": "stderr",
     "output_type": "stream",
     "text": [
      "C:\\ProgramData\\Anaconda3\\lib\\site-packages\\pandas\\core\\generic.py:4405: SettingWithCopyWarning: \n",
      "A value is trying to be set on a copy of a slice from a DataFrame.\n",
      "Try using .loc[row_indexer,col_indexer] = value instead\n",
      "\n",
      "See the caveats in the documentation: http://pandas.pydata.org/pandas-docs/stable/indexing.html#indexing-view-versus-copy\n",
      "  self[name] = value\n"
     ]
    }
   ],
   "source": [
    "test = reg_name_change(test, \"bank\", \"화장실\", \"publictoilet\")"
   ]
  },
  {
   "cell_type": "markdown",
   "metadata": {},
   "source": [
    "호텔 -> hotel"
   ]
  },
  {
   "cell_type": "code",
   "execution_count": 90,
   "metadata": {},
   "outputs": [
    {
     "name": "stderr",
     "output_type": "stream",
     "text": [
      "C:\\ProgramData\\Anaconda3\\lib\\site-packages\\pandas\\core\\generic.py:4405: SettingWithCopyWarning: \n",
      "A value is trying to be set on a copy of a slice from a DataFrame.\n",
      "Try using .loc[row_indexer,col_indexer] = value instead\n",
      "\n",
      "See the caveats in the documentation: http://pandas.pydata.org/pandas-docs/stable/indexing.html#indexing-view-versus-copy\n",
      "  self[name] = value\n"
     ]
    }
   ],
   "source": [
    "test = reg_name_change(test, \"bank\", \"호텔\", \"hotel\")"
   ]
  },
  {
   "cell_type": "markdown",
   "metadata": {},
   "source": [
    "포함시키지 말아야 할 것 (나중에 삭제) 오피스텔 "
   ]
  },
  {
   "cell_type": "code",
   "execution_count": 91,
   "metadata": {},
   "outputs": [
    {
     "name": "stderr",
     "output_type": "stream",
     "text": [
      "C:\\ProgramData\\Anaconda3\\lib\\site-packages\\pandas\\core\\generic.py:4405: SettingWithCopyWarning: \n",
      "A value is trying to be set on a copy of a slice from a DataFrame.\n",
      "Try using .loc[row_indexer,col_indexer] = value instead\n",
      "\n",
      "See the caveats in the documentation: http://pandas.pydata.org/pandas-docs/stable/indexing.html#indexing-view-versus-copy\n",
      "  self[name] = value\n"
     ]
    }
   ],
   "source": [
    "test = reg_name_change(test, \"bank\", \"오피스텔\", \"delete\")"
   ]
  },
  {
   "cell_type": "code",
   "execution_count": 92,
   "metadata": {},
   "outputs": [
    {
     "name": "stderr",
     "output_type": "stream",
     "text": [
      "C:\\ProgramData\\Anaconda3\\lib\\site-packages\\pandas\\core\\generic.py:4405: SettingWithCopyWarning: \n",
      "A value is trying to be set on a copy of a slice from a DataFrame.\n",
      "Try using .loc[row_indexer,col_indexer] = value instead\n",
      "\n",
      "See the caveats in the documentation: http://pandas.pydata.org/pandas-docs/stable/indexing.html#indexing-view-versus-copy\n",
      "  self[name] = value\n"
     ]
    }
   ],
   "source": [
    "test = reg_name_change(test, \"bank\", \"흥인아이젠\", \"delete\")"
   ]
  },
  {
   "cell_type": "code",
   "execution_count": 93,
   "metadata": {},
   "outputs": [
    {
     "name": "stderr",
     "output_type": "stream",
     "text": [
      "C:\\ProgramData\\Anaconda3\\lib\\site-packages\\pandas\\core\\generic.py:4405: SettingWithCopyWarning: \n",
      "A value is trying to be set on a copy of a slice from a DataFrame.\n",
      "Try using .loc[row_indexer,col_indexer] = value instead\n",
      "\n",
      "See the caveats in the documentation: http://pandas.pydata.org/pandas-docs/stable/indexing.html#indexing-view-versus-copy\n",
      "  self[name] = value\n"
     ]
    }
   ],
   "source": [
    "test = reg_name_change(test, \"bank\", \"휴브리지\", \"delete\")"
   ]
  },
  {
   "cell_type": "code",
   "execution_count": 94,
   "metadata": {},
   "outputs": [
    {
     "name": "stderr",
     "output_type": "stream",
     "text": [
      "C:\\ProgramData\\Anaconda3\\lib\\site-packages\\pandas\\core\\generic.py:4405: SettingWithCopyWarning: \n",
      "A value is trying to be set on a copy of a slice from a DataFrame.\n",
      "Try using .loc[row_indexer,col_indexer] = value instead\n",
      "\n",
      "See the caveats in the documentation: http://pandas.pydata.org/pandas-docs/stable/indexing.html#indexing-view-versus-copy\n",
      "  self[name] = value\n"
     ]
    }
   ],
   "source": [
    "test = reg_name_change(test, \"bank\", \"휴먼빌\", \"delete\")"
   ]
  },
  {
   "cell_type": "code",
   "execution_count": 95,
   "metadata": {},
   "outputs": [
    {
     "name": "stderr",
     "output_type": "stream",
     "text": [
      "C:\\ProgramData\\Anaconda3\\lib\\site-packages\\pandas\\core\\generic.py:4405: SettingWithCopyWarning: \n",
      "A value is trying to be set on a copy of a slice from a DataFrame.\n",
      "Try using .loc[row_indexer,col_indexer] = value instead\n",
      "\n",
      "See the caveats in the documentation: http://pandas.pydata.org/pandas-docs/stable/indexing.html#indexing-view-versus-copy\n",
      "  self[name] = value\n"
     ]
    }
   ],
   "source": [
    "test = reg_name_change(test, \"bank\", \"빌딩\", \"delete\")"
   ]
  },
  {
   "cell_type": "code",
   "execution_count": 96,
   "metadata": {
    "scrolled": false
   },
   "outputs": [
    {
     "name": "stderr",
     "output_type": "stream",
     "text": [
      "C:\\ProgramData\\Anaconda3\\lib\\site-packages\\pandas\\core\\generic.py:4405: SettingWithCopyWarning: \n",
      "A value is trying to be set on a copy of a slice from a DataFrame.\n",
      "Try using .loc[row_indexer,col_indexer] = value instead\n",
      "\n",
      "See the caveats in the documentation: http://pandas.pydata.org/pandas-docs/stable/indexing.html#indexing-view-versus-copy\n",
      "  self[name] = value\n"
     ]
    }
   ],
   "source": [
    "test = reg_name_change(test, \"bank\", \"타워\", \"delete\")"
   ]
  },
  {
   "cell_type": "code",
   "execution_count": 97,
   "metadata": {},
   "outputs": [],
   "source": [
    "test_list=['(주)동아일보사',\n",
    "       '(주)메트로신문사', '(주)서울비젼', '(주)시아인베스트', '(주)씨엔에스레지던스', '(주)툴스텍경복',\n",
    "       '2차대림아크로빌', '88체육관', 'A&D 엔지니어링', 'APP㈜국제운송사무소', 'A탑', 'BR엘리텔A동',\n",
    "       'BizWell성수', 'CASA BIANCO', 'CENTRAL PLACE', 'CJ드림씨티 A동 ',\n",
    "       'CJ드림씨티 B동 ', 'CU 신사가로수길점', 'E테크벨리', 'FERRUM TOWER', 'FIN TOWER',\n",
    "       'FNC ENTERTAINMENT', 'GREEN HILL', 'GRUBIG ', 'HANASAINT.STONE',\n",
    "       'HEY NEST', 'Hizen 학원','IBTOWER', 'IP TOWER',\n",
    "       'I park(상가)', ' JS TOWER', 'JS앤드F', 'K.W.E', 'KAO KAO', 'KCC파크타운',\n",
    "       'KGIT한독산학협동단지(C-4Block)', 'KR-TOWER', 'KT', 'KT&G', 'KT&G 강남지사',\n",
    "       'KT&G 영등포지사', 'K T F', 'KTIS', 'KT 강북지사', 'KT개봉지점', 'KT반포지사',\n",
    "       'KT 업무시설(사무소)', 'KT용산지점', 'KT월곡지점', 'KT자산개발센터', 'KT청량리지점',\n",
    "       'LGCNS상암IT CENTER', 'LG베스트샵(모바일서비스센터)', 'LG전자 강서서비스 센터',\n",
    "       'LG전자베스트샵서비스센터', 'LG패션 서관', 'LK사옥', 'LLG패션 별관', 'M-SPACE',\n",
    "       'METRO구로센터', 'M TOWER', 'OPUS 11', 'PARKSIDE', 'POBA 행정공제회',\n",
    "       'S-OIL 사옥', 'SG연기 아카데미', 'SK Telecom 성수사옥', 'SK네트웍스', 'SK허브그린',\n",
    "       'SR스타빌', 'SUN JIN ENG', 'THE PARK 365', 'THE REPOSE', '㈜도서출판넥서스',\n",
    "       '㈜ 동호프라자1', '㈜미래세움', '㈜비츠로시스', '갈월동 업무시설', '갈월동 오피스(한진중공업)',\n",
    "       '강남YMCA', '강남구 재활용센터', '강남아르누보씨티', '강남 파이낸스센터', '강님태영데시앙루브',\n",
    "       '강동상떼빌', '강동성심병원3별관', '강동성심병원별관', '강북물류센터(DHL)', '강북지역전력설비관리동',\n",
    "       '강서교회', '강서구시설관리공당', '강서 동도센트리움 141동', '강선환', '강일큐브', '강행성',\n",
    "       '갤러리아팰리스', '거구장', '거성리젠시', '건우캐스텔', '경동엠파이어스테이트', '경동운수', '경승무역',\n",
    "       '경해실업㈜', '고려한백', '골드하이츠', '골프존R&D센터', '공감대주상복합아파트', '관악맥스텔',\n",
    "       '관악시티빌',  '광남제니텔', '광남캐스빌(아)', '광선유니버스텔A', '광신엔터프라이즈',\n",
    "       '광진구 구의동 성현교회', '광진트라팰리스', '교보생명', '구로등기소', '구의아크로리버', '구찌(신축)',\n",
    "       '국가보훈처(광복회관)', '국립산림과학원', '국민건강보험공단', '국제자산신탁(주)', '국제항운', '그랑드빌', '그레이스빌',\n",
    "       '그린빌파크', '그린하이클라스빌', '극동방송', '근린생활시설', '근상프리즘', '글로벌 미디어 콘텐츠센터 ',\n",
    "       '금강블루', '금산플레이버', '금융업소', '금천전화국', '기독교복음방송', '기산전자사옥','길동청광플러스원큐브1차',\n",
    "       '길훈앤트런스빌', '김정덕외 4인', '까치산하우스', '꿈이가득한집', '나종자', '남산 롯데캐슬 아이리스',\n",
    "       '남산센트럴 자이', '남산트라팰리스','남서울실업㈜', '남신원룸', '남양약품',\n",
    "       '네오라이프', '네오레지덴텔', '네오빌', '네티션닷컴별관동', '넥서스벨리', '넥스빌I', '넥스빌II',\n",
    "       '넥스빌III', '노들리안 오피스텔1', '노들리안 오피스텔2', '노블레스 빌', '노블레스빌', '노블리안',\n",
    "       '노빌리안골드', '노원마블러스 오피스텔2', '농심', '농협(중계동지점)', '농협 관악신우지점',\n",
    "       '농협로데오지점', '농협문화재단', '누가 베스트', '다락원사옥 ', '다빈치', '다솔미가', '다음빌',\n",
    "       '당산랜드빌', '대교', '대동 피렌체리버', '대림역 와이즈플레이스', '대명랜드마크', '대선스틸',\n",
    "       '대승프린스텔', '대우디오빌', '대우디오슈페리움A', '대우미래사랑2차', '대우미래사랑3차 141동',\n",
    "       '대우 이안', '대우이안 1', '대우이안 2', '대우증권', '대웅제약 본관동', '대원아크로빌',\n",
    "       '대원제약사옥', '대진레지던스-조사불가 시설잠김 연락처없음', '대학캠퍼스텔', '대한건축학회 건축센터',\n",
    "       '대한제지㈜ 사옥', '대한치과의사협회회관', '대호아이피개발(주)', '덴탈프라자', '도로교통공단 본부',\n",
    "       '도림하이츠빌', '도일산호시티빌', '독일교회', '돈암메트로빌', '동광동대문베르빌', '동광리버하임',\n",
    "       '동교동 와우재', '동남드림빌주상복합', '동대문등기소', '동대문패션비즈센터', '동도센트리움', '동림오벨리스크',\n",
    "       '동보흥업', '동부디아이빌', '동아일보미디어센터', '동아제약 구관 신사옥', '동아제약 본관', '동아타운21',\n",
    "       '동양증권', '동양한강트레벨', '동영문화센터', '동우사우나', '동인 레반트', '동인쉐르빌',\n",
    "       '동일(국민은행)', '동일하이빌', '동작새마을금고', '두산위브센티움', '두산위브파빌리온', '두성종이주식회사',\n",
    "       '등촌동 업무시설', '디아뜨센트럴', '뚝섬리버빌', '라이온스톤', '락앤락본사', '레이노코리아',\n",
    "       '레지던스o/p', '로얄샤르망', '로얄팰리스 스위트', '롯데마트건물', '롯데우유㈜본사', '롯데캐슬',\n",
    "       '루첸티', '르네상스빌주상복합', '르노삼성자동차 도봉사업소', '리버마이다스빌', '리베로 오피스텔2차',\n",
    "       '리빙프라자(주)', '리스빌', '리앤나빌리지', '리오베', '마미앤토리', '마에스트로', '마이죤', '마이홈',\n",
    "       '마포공덕파크펠리', '마포로얄플라자', '마포태영데시앙', '마포현대하이엘', '메르드뱅', '메이준', '메이찬',\n",
    "       '메트로', '메트로디오빌', '메트로팰리스', '멤버스뷰', '명륜프라자', '명인고시텔', '명지 페르마타',\n",
    "       '명지한강빌드웰', '모투스 엔 실버불렛 사옥', '목동트라펠리스(금융업소)', '문래아카데미', '문래임광그대가',\n",
    "       '문래파라곤 141동', '문래파라곤 241동', '문정', '미디어센터', '미래에셋생명', '미래에셋 센터원',\n",
    "       '미래에셋증권 도곡지점', '미래지오', '미성드림투유', '민병원', '민스빌', '민족통일 대통령 리빙텔',\n",
    "       '밀레니엄스텔', '밀레오레명동', '밀리오레', '바비엥-2', '바비엥3', '방배디오슈페리움1', '방배리더스빌',\n",
    "       '방이동근린생활시설', '백세인터내셔널사옥', '백세주 마을(국순당)', '백운매트로엔', '백화점약국', '법률센터',\n",
    "       '법조타운', '베로니스 타운', '베스트빌', '베스트 트레드빌', '보브역삼동사옥', '보육사',\n",
    "       '본베스트정형외과의원', '부국증권', '부귀영전', '부띠끄모나코', '부래당', '부르다문', '부암동 업무시설', \n",
    "    '북한연구소', '뷰티플라워', '브라운스톤서초',\n",
    "       '브라운스톤연희', '브라운스톤 천호', '브라운스톤 화양', '브라운힐', '브리티시아메리칸토바코', '블루밍하우스',\n",
    "       '비버리캐슬', '비앤비빌리지', '비즈트위트그린', '비즈트위트 블루', '빅하이텔', '사무소',\n",
    "       '사직동 새마을금고', '산들파크빌1', '산들파크빌6', '살구벽돌', '삼능스페이스향', '삼부르네상스',\n",
    "       '삼부르네상스플러스', '삼성골드캐슬', '삼성디지털', '삼성본관', '삼성생명', '삼성생명장안동사옥',\n",
    "       '삼성전자대리점', '삼성전자디지털센터', '삼성전자서비스 관악센터', '삼성출판사', '삼성파크빌',\n",
    "       '삼성화재 본사사옥', '삼성화재 영등포사옥', '삼성화재해상보험', '삼양사', '삼영익스프레스',\n",
    "       '삼익전자 공업 주식회사', '삼전솔하임 2차', '삼정스카이', '삼진제약사옥', '삼형캐슬', '새롬스타빌','생모리츠타운', '샬렛스위스', '서광프리메라주상복합', '서안이지텔', '서울E&T',\n",
    "       '서울도시가스㈜', '서울도시가스사옥', '서울디지털드림타운', '서울메트로 동대문별관', '서울문화재단',\n",
    "       '서울석유', '서울스퀘어', '서울 스타르호텔 별관', '서울시메트로호선', '서울시버스노조회관', '서울오토갤러리',\n",
    "       '서울유니버스텔', '서울이동통신사옥', '서울지방노동청서울관악지청', '서울축협청사', '서초대우디오빌',\n",
    "       '서초동145-2', '서초레몬', '서초신성미소시티', '서초타운트라팰리스', '서희스타힐스', '서희 스타힐스',\n",
    "       '석원산업', '선원 오피스', '선일크라시아', '성강에코텔', '성동샤르망', '성문개발', '성현교회 선교센터',\n",
    "       '세계일보', '세방글로벌시티', '세양아르비체141동', '세양아르비체142동', '세종프라자', '센트럴빌',\n",
    "       '센트레빌아스테리움 용산', '솔앤시티오피스텔?주차장', '송파오라클', '송현나이스빌', '수락네스트죤',\n",
    "       '수운회관', '스위트가든빌라', '스위트빌', '스쿨룩스', '스퀘어빌', '스타갤러리브릿지', '스타벅스합정역점',\n",
    "       '스타비안사우나', '스페셜 라이즈드', '스페이스엠', '스포월드', '스포츠조선', '시설관리공단',\n",
    "       '시설물명 미입력', '시아루비움', '시티뷰3차', '신공덕오피스텔(센타빌)', '신도림3차푸르지오',\n",
    "       '신동아하이팰리스', '신라FNC(주)', '신명스카이뷰', '신성미소씨티','신원메트로빌', '신일', '신창비바패밀리', '신촌가이아', '신촌 르·메이에르타운V','신흥메트로', '써니하우스', '썬앳푸드', '씨제이제일제당센터',\n",
    "       '아마넥스㈜', '아메리카 스텐다드', '아셈회관', '아스테리아', '아스트라', '아시아텍스타일', '아싸컴',\n",
    "       '아우디서초센터', '아우디 전시장', '아울빌리지(두양오피스텔)', '아이스카이 네트웍스', '아이엔지 센터',\n",
    "       '양재동67-2', '양재역환승주차장', '양평동 우림 비즈센터', '어위쉬예다인', '업무시설','업무시설(사무소)', '업무시설(사무실)', '에이스에어존', '에이스에이존',\n",
    "       '에코넷센터', '에프투텔레콤사옥', '엘리어트하우스', '엘리지움', '엘베스트빌', '여선교회관', '여성미래센터',\n",
    "       '여의도 더', '여의도의아침', '여촌', '역삼 이스타빌', '연희체스트빌', '영광교회', '영등포가 교회',\n",
    "       '영등포구청환승주차장', '영우빌라텔', '예가크레시아', '예금보험공사', '예림출판문화센터', '예성라온팰리스',\n",
    "       '예성라온펠리스', '예신퍼슨스', '오드리스튜디오', '오라클피부과', '오릭스증권', '오벨리스크', '오크벨리',\n",
    "       '오피스텔리움', '오피스텔 에스빌', '오피앙 ', '오피앙', '오피앙2', '옥스포드하우스', '온리정보통신',\n",
    "       '올레플라자 용산점', '올리브오피스텔1', '올리브오피스텔2','업무시설(사무소)', '업무시설(사무실)', '에이스에어존', '에이스에이존',\n",
    "       '에코넷센터', '에프투텔레콤사옥', '엘리어트하우스', '엘리지움', '엘베스트빌', '여선교회관', '여성미래센터',\n",
    "       '여의도 더', '여의도의아침', '여촌', '역삼 이스타빌', '연희체스트빌', '영광교회', '영등포가 교회',\n",
    "       '영등포구청환승주차장', '영우빌라텔', '예가크레시아', '예금보험공사', '예림출판문화센터', '예성라온팰리스',\n",
    "       '예성라온펠리스', '예신퍼슨스', '오드리스튜디오', '오라클피부과', '오릭스증권', '오벨리스크', '오크벨리',\n",
    "       '오피스텔리움', '오피스텔 에스빌', '오피앙 ', '오피앙', '오피앙2', '옥스포드하우스', '온리정보통신',\n",
    "       '올레플라자 용산점', '올리브오피스텔1', '올리브오피스텔2','용산구선거관리위원회',\n",
    "       '용산시티파크1단지', '용산시티파크2단지', '용산씨제이나인파크', '용산파크자이 상가', '용성비즈텔',\n",
    "       '우남네오풀리스', '우남하우징','우림보보카운투비',\n",
    "       '우신하이랜드', '우원실업', '워터게이트', '원능프라자', '원룸', '원평11차', '원평빌라트 6차',\n",
    "       '웰빙타운', '위너스텔', '유니베라관악대리점', '유니세프한국위원회', '유니텔전자', '유림하이빌',\n",
    "       '은평구평생학습관', '을지전화국', '을지회관', '이랜드 신촌사옥 ', '이스타빌', '이스타팰리스',\n",
    "       '이스트타운', '이안상암1단지 센트럴몰 한독산학협동단지', '이안용산프리미어', '이즈빌',\n",
    "       '인의동 한국교직원공제회', '인택스파크뷰', '인터엠', '인텔지펠리스', '일(밀)양택배', '일반업무',\n",
    "       '일신건영휴먼테크', '일조그린빌', '일진자동차', '장안현대벤처빌', '장애인기업문화센터', '장우오피스텔건물',\n",
    "       '재호예양빌', '전국교수공제회 서울회관', '전국자동차노동조합', '전국자동차운전전문학원연합회관', '전자회관',\n",
    "       '정도트윈빌141동', '정도트윈빌142동', '정보통신공제조합', '정암하이빌', '정연지오빌II',\n",
    "       '정연지오빌 김용록외 1인', '정우금속공업', '정호빌라트', '제노비아', '제니코식품', '제이원하이텔',\n",
    "       '제일니트', '제일모직건물', '제주탐라영재관', '젠틀몬스터', '종로1가 대성스카이렉스주상복합', '종로 엠스쿨',\n",
    "       '종로플레이스', '종인아네스트', '좋은사람 좋은집', '좋은책 신사고', '주) Tbroad 방송',\n",
    "       '주)삼성전자염창동사옥', '주식회사LG패션', '주식회사쓰리에소프트', '주식회사쿠지인터내셔널', '주양쇼핑',\n",
    "       '주택.근린생활시설', '중구종합복지센터', '중림동새마을금고', '중소기업중앙회', '중앙시티빌', '중앙일보구관',\n",
    "       '지산타운', '지에스 한강에클라트', '지엔코', '지오베르크', '지지무역', '진산스텔', '진양제약사옥',\n",
    "       '진학회관', '참존대치사옥', '참존어페럴', '창덕에버빌', '철록헌', '청계아르테미스', '청솔펠리스',\n",
    "       '청우식품사옥', '청일 베르네', '최병만 외 1인', '최신물산', '출입국관리사무소', '충정리시온',\n",
    "       '칸타빌레', '캠퍼니안', '케이티앤지성동지점', '코리아리스치', '코리아씨디앤씨', '코스모그린',\n",
    "       '코업레지던스', '코오롱 스타폴리스', '코지펠리스', '큐브플러스', '크라운 본관', '크레신사옥', '크로바텔',\n",
    "       '클래티드', '키움건설', '킹오토', '타베루', '태림빌', '태양', '태양 21', '태영약품',\n",
    "       '토마토파르코', '토방트윈빌 A', '토방트윈빌 B', '트라비하우스', '트라움빌', '티제미디어㈜',\n",
    "       '파라다이스텔', '파인에비뉴', '팔레시움', '팬트라우스', '포레비떼', '풍림아이원', '풍림아이원플러스',\n",
    "       '풍산개발', '프라임팰리스', '프리마리버텔', '피앤디솔로빌', '피엔폴루스(대수선)','하늘담',\n",
    "       '하우스텔 숙', '하이리빙 본사 사옥', '하이마트 영등포구청점', '하이베라스', '하이프라자 ', '하임Ⅱ오피스',\n",
    "       '하임오피스', '한강로 대우아이빌', '한강로벽산메가트리움', '한강시티라이프', '한강포스빌', '한강현대하이엘',\n",
    "       '한강훼미리', '한국가정법률상담소', '한국겔럽조사연구소', '한국고등교육재단', '한국교직원공제회',\n",
    "       '한국노총 중앙근로자 복지센타', '한국문구공업협동조합', '한국방송회관', '한국산업공단',\n",
    "       '한국산업단지공단 서울지역본부(키콕스벤처센터)', '한국섬유산업 연합회', '한국소방안전협회', '한국승강기안전관리원',\n",
    "       '한국아이비에스', '한국야금사옥', '한국여자농구연맹', '한국원자력문화재단', '한국음악저작권협회',\n",
    "       '한국정보통신공사협회', '한국조폐공사', '한국 콘텐츠 진흥원', '한나산부인과', '한남동 업무시설',\n",
    "       '한디예건㈜', '한려옥(대조동르네상스오피스텔)', '한미석유', '한밭법조타운', '한성디자인모델', '한성메르디앙',\n",
    "       '한성모터스', '한성하우징', '한스빌', '한스위트', '한승아스트라2', '한아름쇼핑센터', '한양수자인',\n",
    "       '한양증권', '한웰', '한일써너스빌', '한청실업(주)', '한화오벨리스크스위트', '해광', '해찬행복드림',\n",
    "       '해커스 어학원', '햄 하우스', '행복나눔재단', '행복미래교육원', '허브닥터', '허브원', '현대드림밸리',\n",
    "       '현대렉시온', '현대백화점인재개발원', '현대싱그런', '현대캐피탈 양재사옥', '현대토픽스',\n",
    "       '현대폴라트리움주상복합', '현대 해상', '현대해상강서사옥', '현대홈시티1', '호림아트센터', '화성시장학관',\n",
    "       '화인리더스', '화인벨라까샤', '화인시스템', '황금프라자', '황학동 코아루', '효성벤츠 강남전시장',\n",
    "       '휴게음식점(문샤인)', '희경']"
   ]
  },
  {
   "cell_type": "code",
   "execution_count": 98,
   "metadata": {},
   "outputs": [],
   "source": [
    "for row in test_list:\n",
    "    test[(test.category == \"bank\")] = test[(test.category == \"bank\") & (test.place_name != row) ]"
   ]
  },
  {
   "cell_type": "markdown",
   "metadata": {},
   "source": [
    "# 9. gym "
   ]
  },
  {
   "cell_type": "markdown",
   "metadata": {},
   "source": [
    "stadium -> gym"
   ]
  },
  {
   "cell_type": "code",
   "execution_count": 101,
   "metadata": {},
   "outputs": [
    {
     "name": "stdout",
     "output_type": "stream",
     "text": [
      "전체 category 개수\n",
      "63\n",
      "\n",
      "이 전 gym 해당 category 개수 : \n",
      "index                      45\n",
      "category                   45\n",
      "lat                        45\n",
      "lon                        45\n",
      "place_address              45\n",
      "place_id                   45\n",
      "facility_available_name    45\n",
      "facility_is_available      45\n",
      "place_name                 45\n",
      "facility_id                45\n",
      "dtype: int64\n",
      "\n",
      "이 후 gym 해당 category 개수 : \n",
      "index                      80\n",
      "category                   80\n",
      "lat                        80\n",
      "lon                        80\n",
      "place_address              80\n",
      "place_id                   80\n",
      "facility_available_name    80\n",
      "facility_is_available      80\n",
      "place_name                 80\n",
      "facility_id                80\n",
      "dtype: int64\n",
      "\n",
      "전체 category 개수\n",
      "62\n"
     ]
    },
    {
     "name": "stderr",
     "output_type": "stream",
     "text": [
      "C:\\ProgramData\\Anaconda3\\lib\\site-packages\\pandas\\core\\generic.py:4405: SettingWithCopyWarning: \n",
      "A value is trying to be set on a copy of a slice from a DataFrame.\n",
      "Try using .loc[row_indexer,col_indexer] = value instead\n",
      "\n",
      "See the caveats in the documentation: http://pandas.pydata.org/pandas-docs/stable/indexing.html#indexing-view-versus-copy\n",
      "  self[name] = value\n"
     ]
    }
   ],
   "source": [
    "test = category_sum(test, \"stadium\", \"gym\")"
   ]
  },
  {
   "cell_type": "code",
   "execution_count": 102,
   "metadata": {},
   "outputs": [
    {
     "data": {
      "text/plain": [
       "array(['K-2타워', '강남구민체육관', '개운산 스포츠센터 성북구의회', '골프장', '관악구민종합체육센터',\n",
       "       '구민회관 ', '국사봉체육관', '렉서스서비스센터(SBS등촌골프)', '밀라트빌딩', '사당문화회관',\n",
       "       '시립창동운동장 및문화체육센터', '신림다목적체육센터', '염리 제2공영 주차장 내 체육시설 ',\n",
       "       '용산문화체육센터(원효로1동주민센터 별도)', '은평구민체육센터', '중랑구민체육센터'], dtype=object)"
      ]
     },
     "execution_count": 102,
     "metadata": {},
     "output_type": "execute_result"
    }
   ],
   "source": [
    "# test[test.category ==\"gym\"].place_name.unique()"
   ]
  },
  {
   "cell_type": "markdown",
   "metadata": {},
   "source": [
    "# 10. hotel"
   ]
  },
  {
   "cell_type": "markdown",
   "metadata": {},
   "source": [
    "tourist hotel -> hotel"
   ]
  },
  {
   "cell_type": "code",
   "execution_count": 103,
   "metadata": {},
   "outputs": [
    {
     "name": "stdout",
     "output_type": "stream",
     "text": [
      "전체 category 개수\n",
      "62\n",
      "\n",
      "이 전 hotel 해당 category 개수 : \n",
      "index                      1236\n",
      "category                   1236\n",
      "lat                        1236\n",
      "lon                        1236\n",
      "place_address              1236\n",
      "place_id                   1236\n",
      "facility_available_name    1236\n",
      "facility_is_available      1236\n",
      "place_name                 1236\n",
      "facility_id                1236\n",
      "dtype: int64\n",
      "\n",
      "이 후 hotel 해당 category 개수 : \n",
      "index                      2340\n",
      "category                   2340\n",
      "lat                        2340\n",
      "lon                        2340\n",
      "place_address              2340\n",
      "place_id                   2340\n",
      "facility_available_name    2340\n",
      "facility_is_available      2340\n",
      "place_name                 2340\n",
      "facility_id                2340\n",
      "dtype: int64\n",
      "\n",
      "전체 category 개수\n",
      "61\n"
     ]
    },
    {
     "name": "stderr",
     "output_type": "stream",
     "text": [
      "C:\\ProgramData\\Anaconda3\\lib\\site-packages\\pandas\\core\\generic.py:4405: SettingWithCopyWarning: \n",
      "A value is trying to be set on a copy of a slice from a DataFrame.\n",
      "Try using .loc[row_indexer,col_indexer] = value instead\n",
      "\n",
      "See the caveats in the documentation: http://pandas.pydata.org/pandas-docs/stable/indexing.html#indexing-view-versus-copy\n",
      "  self[name] = value\n"
     ]
    }
   ],
   "source": [
    "test = category_sum(test, 'tourist hotel', 'hotel')"
   ]
  },
  {
   "cell_type": "code",
   "execution_count": 110,
   "metadata": {},
   "outputs": [
    {
     "data": {
      "text/plain": [
       "array(['신라호텔', '(주)관전인베스트먼트', 'Ditto HOTEL', 'FIRASER SUITES', 'IMI호텔',\n",
       "       'IMT호텔', 'JJ호텔', 'K.S텔', 'M.BIZ호텔', 'MIND관광호텔', 'Moon 호텔', 'M모텔',\n",
       "       'M호텔', 'NINETH 호텔', 'NYX  HOTEL', 'R호텔', 'SHOW모텔', 'SM호텔',\n",
       "       'The View ', 'Uni모텔', 'W호텔', 'Y모텔 ', 'cs모텔', '㈜오일관광풍전호텔', '가락관광호텔',\n",
       "       '가야호텔', '갤러리모텔', '갤러리아호텔', '갤러리 호텔', '경남관광호텔', '고궁호텔',\n",
       "       '공원관광호텔-조사거부', '관광숙박시설', '관광숙박시설(더엠호텔)', '관훈동 관광숙박시설', '구로호텔',\n",
       "       '굿타임호텔', '그랜드힐튼호텔', '그리스(구 스카이)', '그린월드호텔', '근생및관광숙박시설', '까사',\n",
       "       '까펠레호텔', '꾸띠호텔', '나이아가라관광호텔', '나인트리호텔', '남경모텔', '노니모텔',\n",
       "       '노보텔 엠베스더 강남', '노블레스', '노블레스관광호텔', '노블레스모텔', '노블레스 호텔(구 베니스모텔)',\n",
       "       '노블호텔', '노스탈자호텔', '녹스호텔', '누모텔', '뉴서울호텔', '뉴캐슬 모텔', '뉴티파니관광호텔',\n",
       "       '뉴힐탑관광호텔', '다이나모텔', '닷컴', '더리버사이드호텔', '더블유모텔', '더캘리포니아호텔',\n",
       "       '더클래식544 노유자시설동', '더홀릭호텔', '드림텔호텔', '디아망호텔', '라누이 아모르 모텔',\n",
       "       '라마다 서울 호텔', '라마다호텔', '라이프스타일', '라이프스타일R호텔', '라자 호텔', '랙싱턴호텔',\n",
       "       '레이크관광호텔', '레인보우호텔', '렉서스모텔', '렉스관광호텔', '렉스모텔', '렉스빌모텔', '렉시호텔',\n",
       "       '로데오모텔', '로미오모텔', '로보그라드모텔', '로즈마리', '루이체', '리버파크', '리젠트호텔',\n",
       "       '리츠칼튼 서울호텔', '릿츠호텔', '마리모텔', '맥스모텔', '맨하탄 호텔',\n",
       "       '머큐어 서울 앰배서더 강남 쏘도베', '메르디앙', '메이관광호텔', '메이져호텔(테마모텔)', '메이필드호텔',\n",
       "       '메트로21', '명동센트럴빌딩', '명작모텔', '모텔CF', '모텔 P.X', '모텔리치', '모텔케슬',\n",
       "       '몰디브모텔', '몽호텔', '문모텔', '미라지', '미시간모텔', '밀라노', '바고관광호텔', '바론드파리',\n",
       "       '바빌론관광호텔', '바이올린모텔', '바카스 호텔(트윈스빌딩)', '발렌타인', '백제산장', '베르사이유',\n",
       "       '베스트웨스턴 호텔 강남호텔', '베스트웨스턴 호텔국도', '벤허호텔', '벨라지오 관광호텔', '보보스모텔',\n",
       "       '보보호텔', '볼륨모텔', '붐관광호텔', '뷰티모텔', '뷰티크모텔', '브라운관광호텔', '블루모텔', '비발디',\n",
       "       '비브호텔', '비젼호텔', '빅토리아호텔', '샹그리아 모텔', '서교동 관광호텔 ', '서림장모텔',\n",
       "       '서울 스타르호텔 별관', '세검정모텔', '세인트모텔', '세종호텔', '손승환내과', '솔 모텔', '쉐르빌호텔',\n",
       "       '쉴모텔', '쉴 모텔(구 페리온)', '쉴호텔', '스카이모텔', '스타빌딩', '스탠포드호텔 서울',\n",
       "       '스테이세븐프리미어호텔', '시네마호텔', '시설물명 미입력', '시안모텔', '신촌모텔(D모텔)', '실론 호텔',\n",
       "       '싼타페호텔', '써튼호텔', '쎄비앙', '씨에스타호텔', '씨에프모텔', '아도카모텔', '아로마모텔',\n",
       "       '아마가호텔', '아마레호텔', '아모렉스 관광호텔', '아비송모텔', '아비숑', '아비숑 모텔', '아이린호텔',\n",
       "       '아카시아호텔', '아테네', '아트호텔', '알리앙스', '어거스트모텔', '에스호텔(갤러리모텔)', '에펠준모텔',\n",
       "       '역삼모텔', '영화호텔', '오렌지카운티', '오아시스', '올모텔', '와우호텔', '와이커키호텔(쇼호텔)',\n",
       "       '와이키키모텔', '웨스틴조선호텔 서울점', '위드호텔', '윈저모텔', '윈저텔', '유양호텔', '유토피아',\n",
       "       '은하장여관', '이사벨모텔', '이정옥', '이젠호텔', '이지호텔', '이태원 IP호텔', '일솔레MT(무림파크)',\n",
       "       '임스하우스', '잠실관광호텔', '쟈스민', '정영하', '주)센츄렐관광호텔', '지에스호텔', '첼로가든',\n",
       "       '첼로모텔', '초코렛 호텔(구 베르사유 모텔)', '초콜릿호텔', '최병만', '카라모텔', '칼튼모텔',\n",
       "       '칼튼호텔', '캐피탈호텔', '캘리포니아관광호텔', '캘리포니아호텔', '코리아관광호텔', '코보스호텔',\n",
       "       '큐브 호텔', '크라운관광호텔', '크로싱호텔', '클릭호텔', '타라호텔', '타임호텔', '탑텔호텔',\n",
       "       '태훈빌딩', '테마모텔', '토요코인 서울동대문', '톰지호텔', '투모텔', '투비인관광호텔', '티모텔',\n",
       "       '파라오모텔', '파레스호텔', '파브', '파크하얏트서울', '팰리스모텔', '팰리스호털', '퍼시픽호텔',\n",
       "       '페트라호텔', '포도모텔', '폼 모텔', '프레이저플레이스센트럴서울', '프레지던트호텔', '프렌드호텔',\n",
       "       '프렌치MT', '프로비스타', '프리마호텔(리치호텔)', '프린스호텔', '플라워모텔', '플러스모텔',\n",
       "       '피아노모텔', '피카소 모텔', '필름모텔', '필름오스카모텔', '현대파크모텔', '호텔2해븐', '호텔 A-NA',\n",
       "       '호텔 A T moom(아이엠티호텔)', '호텔 BEN', '호텔 BNN', '호텔MAC', '호텔Voll',\n",
       "       '호텔 그린 그래스', '호텔꾸띠', '호텔 누누', '호텔 더 디자이너스', '호텔 더 디자이너스 예약실',\n",
       "       '호텔 드어반', '호텔 라까사', '호텔론스타', '호텔리베라서울', '호텔리스', '호텔 맥스', '호텔 메이져',\n",
       "       '호텔베르사유', '호텔 베리식스', '호텔선샤인', '호텔 스타', '호텔스타', '호텔시네마', '호텔써클',\n",
       "       '호텔썬비', '호텔야자', '호텔엘루이', '호텔엘르인', '호텔예스', '호텔이채', '호텔캣츠',\n",
       "       '호텔 퀸 21', '호텔테마', '호텔 톰지', '호텔팝', '호텔팝그린', '호텔프리마', '홀리데이인서울성북',\n",
       "       '홀릭호텔', '힐튼호텔'], dtype=object)"
      ]
     },
     "execution_count": 110,
     "metadata": {},
     "output_type": "execute_result"
    }
   ],
   "source": [
    "# test[test.category ==\"hotel\"].place_name.unique()"
   ]
  },
  {
   "cell_type": "markdown",
   "metadata": {},
   "source": [
    "화장실 포함된 이름 -> publictoilet"
   ]
  },
  {
   "cell_type": "code",
   "execution_count": 109,
   "metadata": {},
   "outputs": [
    {
     "name": "stderr",
     "output_type": "stream",
     "text": [
      "C:\\ProgramData\\Anaconda3\\lib\\site-packages\\pandas\\core\\generic.py:4405: SettingWithCopyWarning: \n",
      "A value is trying to be set on a copy of a slice from a DataFrame.\n",
      "Try using .loc[row_indexer,col_indexer] = value instead\n",
      "\n",
      "See the caveats in the documentation: http://pandas.pydata.org/pandas-docs/stable/indexing.html#indexing-view-versus-copy\n",
      "  self[name] = value\n"
     ]
    }
   ],
   "source": [
    "test = reg_name_change(test, \"hotel\", \"화장실\", \"publictoilet\")"
   ]
  },
  {
   "cell_type": "markdown",
   "metadata": {},
   "source": [
    "# 11. factory drop \n",
    "factory -> 회사는 특정인만 출입하기 때문에 제외"
   ]
  },
  {
   "cell_type": "code",
   "execution_count": 111,
   "metadata": {},
   "outputs": [],
   "source": [
    "test = test[test.category != 'factory']"
   ]
  },
  {
   "cell_type": "markdown",
   "metadata": {},
   "source": [
    "# 12. library\n",
    "public library -> library"
   ]
  },
  {
   "cell_type": "code",
   "execution_count": 112,
   "metadata": {},
   "outputs": [
    {
     "name": "stdout",
     "output_type": "stream",
     "text": [
      "전체 category 개수\n",
      "60\n",
      "\n",
      "이 전 library 해당 category 개수 : \n",
      "index                      125\n",
      "category                   125\n",
      "lat                        125\n",
      "lon                        125\n",
      "place_address              125\n",
      "place_id                   125\n",
      "facility_available_name    125\n",
      "facility_is_available      125\n",
      "place_name                 125\n",
      "facility_id                125\n",
      "dtype: int64\n"
     ]
    },
    {
     "name": "stderr",
     "output_type": "stream",
     "text": [
      "C:\\ProgramData\\Anaconda3\\lib\\site-packages\\pandas\\core\\generic.py:4405: SettingWithCopyWarning: \n",
      "A value is trying to be set on a copy of a slice from a DataFrame.\n",
      "Try using .loc[row_indexer,col_indexer] = value instead\n",
      "\n",
      "See the caveats in the documentation: http://pandas.pydata.org/pandas-docs/stable/indexing.html#indexing-view-versus-copy\n",
      "  self[name] = value\n",
      "C:\\ProgramData\\Anaconda3\\lib\\site-packages\\ipykernel_launcher.py:9: SettingWithCopyWarning: \n",
      "A value is trying to be set on a copy of a slice from a DataFrame.\n",
      "Try using .loc[row_indexer,col_indexer] = value instead\n",
      "\n",
      "See the caveats in the documentation: http://pandas.pydata.org/pandas-docs/stable/indexing.html#indexing-view-versus-copy\n",
      "  if __name__ == '__main__':\n",
      "C:\\ProgramData\\Anaconda3\\lib\\site-packages\\pandas\\core\\indexing.py:543: SettingWithCopyWarning: \n",
      "A value is trying to be set on a copy of a slice from a DataFrame.\n",
      "Try using .loc[row_indexer,col_indexer] = value instead\n",
      "\n",
      "See the caveats in the documentation: http://pandas.pydata.org/pandas-docs/stable/indexing.html#indexing-view-versus-copy\n",
      "  self.obj[item] = s\n"
     ]
    },
    {
     "name": "stdout",
     "output_type": "stream",
     "text": [
      "\n",
      "이 후 library 해당 category 개수 : \n",
      "index                      211\n",
      "category                   211\n",
      "lat                        211\n",
      "lon                        211\n",
      "place_address              211\n",
      "place_id                   211\n",
      "facility_available_name    211\n",
      "facility_is_available      211\n",
      "place_name                 211\n",
      "facility_id                211\n",
      "dtype: int64\n",
      "\n",
      "전체 category 개수\n",
      "59\n"
     ]
    }
   ],
   "source": [
    "test = category_sum(test, 'public library', 'library')"
   ]
  },
  {
   "cell_type": "markdown",
   "metadata": {},
   "source": [
    "# 13. telecommunication office 전화국 drop \n",
    "특정인만 출입을할 수 있기 때문에"
   ]
  },
  {
   "cell_type": "code",
   "execution_count": 113,
   "metadata": {},
   "outputs": [],
   "source": [
    "test = test[test.category != 'telecommunication office']"
   ]
  },
  {
   "cell_type": "markdown",
   "metadata": {},
   "source": [
    "# 14. 공단 공사 drop -> 방문 빈도수가 낮음 \n",
    "국민건강보험공단 및 지사 <br/>\n",
    "국민연금공단 및 지사 <br/>\n",
    "한국장애인고용공단 및 지사<br/> \n",
    "근로복지공단 및 지사<br/>\n",
    "국가 또는 지자체 청사<br/>\n",
    "국민건강보험공단 및 지사<br/>\n",
    "국민연금공단 및 지사<br/>\n",
    "한국장애인고용공단 및 지사<br/>"
   ]
  },
  {
   "cell_type": "code",
   "execution_count": 114,
   "metadata": {},
   "outputs": [],
   "source": [
    "test = test[test.category != 'national health insurance corporation'] # 국민건강보험공단 및 지사"
   ]
  },
  {
   "cell_type": "code",
   "execution_count": 115,
   "metadata": {},
   "outputs": [],
   "source": [
    "test = test[test.category != 'national pension service'] # 국민연금공단 및 지사"
   ]
  },
  {
   "cell_type": "code",
   "execution_count": 116,
   "metadata": {},
   "outputs": [],
   "source": [
    "test = test[test.category != 'workers welfare service'] # 근로복지공단 및 지사"
   ]
  },
  {
   "cell_type": "code",
   "execution_count": 117,
   "metadata": {},
   "outputs": [],
   "source": [
    "test = test[test.category != 'government office building'] # 국가 또는 지자체 청사"
   ]
  },
  {
   "cell_type": "code",
   "execution_count": 118,
   "metadata": {},
   "outputs": [],
   "source": [
    "test = test[test.category != 'national health insurance corporation'] # 국민건강보험공단 및 지사"
   ]
  },
  {
   "cell_type": "code",
   "execution_count": 119,
   "metadata": {},
   "outputs": [],
   "source": [
    "test = test[test.category != 'national pension service'] # 국민연금공단 및 지사"
   ]
  },
  {
   "cell_type": "code",
   "execution_count": 120,
   "metadata": {},
   "outputs": [],
   "source": [
    "test = test[test.category != 'disabled employment agency'] # 한국장애인고용공단 및 지사"
   ]
  },
  {
   "cell_type": "markdown",
   "metadata": {},
   "source": [
    "# 15. driving academy(운전 학원) -> education/job (교육원·직업훈련소·학원 등)"
   ]
  },
  {
   "cell_type": "code",
   "execution_count": 121,
   "metadata": {},
   "outputs": [
    {
     "name": "stdout",
     "output_type": "stream",
     "text": [
      "전체 category 개수\n",
      "55\n",
      "\n",
      "이 전 education/job 해당 category 개수 : \n",
      "index                      5706\n",
      "category                   5706\n",
      "lat                        5706\n",
      "lon                        5706\n",
      "place_address              5706\n",
      "place_id                   5706\n",
      "facility_available_name    5706\n",
      "facility_is_available      5706\n",
      "place_name                 5706\n",
      "facility_id                5706\n",
      "dtype: int64\n",
      "\n",
      "이 후 education/job 해당 category 개수 : \n",
      "index                      5720\n",
      "category                   5720\n",
      "lat                        5720\n",
      "lon                        5720\n",
      "place_address              5720\n",
      "place_id                   5720\n",
      "facility_available_name    5720\n",
      "facility_is_available      5720\n",
      "place_name                 5720\n",
      "facility_id                5720\n",
      "dtype: int64\n",
      "\n",
      "전체 category 개수\n",
      "54\n"
     ]
    },
    {
     "name": "stderr",
     "output_type": "stream",
     "text": [
      "C:\\ProgramData\\Anaconda3\\lib\\site-packages\\pandas\\core\\generic.py:4405: SettingWithCopyWarning: \n",
      "A value is trying to be set on a copy of a slice from a DataFrame.\n",
      "Try using .loc[row_indexer,col_indexer] = value instead\n",
      "\n",
      "See the caveats in the documentation: http://pandas.pydata.org/pandas-docs/stable/indexing.html#indexing-view-versus-copy\n",
      "  self[name] = value\n"
     ]
    }
   ],
   "source": [
    "test = category_sum(test,\"driving academy\" ,\"education/job\")"
   ]
  },
  {
   "cell_type": "markdown",
   "metadata": {},
   "source": [
    "# 16. 대피소 drop"
   ]
  },
  {
   "cell_type": "code",
   "execution_count": 122,
   "metadata": {},
   "outputs": [],
   "source": [
    "test = test[test.category != 'shelter']"
   ]
  },
  {
   "cell_type": "markdown",
   "metadata": {},
   "source": [
    "# 17. broadcasting station drop\n",
    "특정인만 출입을할 수 있기 때문에"
   ]
  },
  {
   "cell_type": "code",
   "execution_count": 123,
   "metadata": {},
   "outputs": [],
   "source": [
    "test = test[test.category != 'broadcasting station']"
   ]
  },
  {
   "cell_type": "markdown",
   "metadata": {},
   "source": [
    "# 18. korean, western, chinese, japanese, flour_based_food, other_food -> restaurant"
   ]
  },
  {
   "cell_type": "code",
   "execution_count": 124,
   "metadata": {},
   "outputs": [
    {
     "name": "stdout",
     "output_type": "stream",
     "text": [
      "전체 category 개수\n",
      "52\n",
      "\n",
      "이 전 restaurant 해당 category 개수 : \n",
      "index                      1800\n",
      "category                   1800\n",
      "lat                        1800\n",
      "lon                        1800\n",
      "place_address              1800\n",
      "place_id                   1800\n",
      "facility_available_name    1800\n",
      "facility_is_available      1800\n",
      "place_name                 1800\n",
      "facility_id                1800\n",
      "dtype: int64\n",
      "\n",
      "이 후 restaurant 해당 category 개수 : \n",
      "index                      2746\n",
      "category                   2746\n",
      "lat                        2746\n",
      "lon                        2746\n",
      "place_address              2746\n",
      "place_id                   2746\n",
      "facility_available_name    2746\n",
      "facility_is_available      2746\n",
      "place_name                 2746\n",
      "facility_id                2746\n",
      "dtype: int64\n",
      "\n",
      "전체 category 개수\n",
      "51\n"
     ]
    },
    {
     "name": "stderr",
     "output_type": "stream",
     "text": [
      "C:\\ProgramData\\Anaconda3\\lib\\site-packages\\pandas\\core\\generic.py:4405: SettingWithCopyWarning: \n",
      "A value is trying to be set on a copy of a slice from a DataFrame.\n",
      "Try using .loc[row_indexer,col_indexer] = value instead\n",
      "\n",
      "See the caveats in the documentation: http://pandas.pydata.org/pandas-docs/stable/indexing.html#indexing-view-versus-copy\n",
      "  self[name] = value\n"
     ]
    }
   ],
   "source": [
    "test = category_sum(test, \"korean_food\", \"restaurant\")"
   ]
  },
  {
   "cell_type": "code",
   "execution_count": 125,
   "metadata": {},
   "outputs": [
    {
     "name": "stdout",
     "output_type": "stream",
     "text": [
      "전체 category 개수\n",
      "51\n",
      "\n",
      "이 전 restaurant 해당 category 개수 : \n",
      "index                      2746\n",
      "category                   2746\n",
      "lat                        2746\n",
      "lon                        2746\n",
      "place_address              2746\n",
      "place_id                   2746\n",
      "facility_available_name    2746\n",
      "facility_is_available      2746\n",
      "place_name                 2746\n",
      "facility_id                2746\n",
      "dtype: int64\n",
      "\n",
      "이 후 restaurant 해당 category 개수 : \n",
      "index                      2746\n",
      "category                   2746\n",
      "lat                        2746\n",
      "lon                        2746\n",
      "place_address              2746\n",
      "place_id                   2746\n",
      "facility_available_name    2746\n",
      "facility_is_available      2746\n",
      "place_name                 2746\n",
      "facility_id                2746\n",
      "dtype: int64\n",
      "\n",
      "전체 category 개수\n",
      "51\n"
     ]
    }
   ],
   "source": [
    "test = category_sum(test, \"western_food\", \"restaurant\")"
   ]
  },
  {
   "cell_type": "code",
   "execution_count": 126,
   "metadata": {},
   "outputs": [
    {
     "name": "stdout",
     "output_type": "stream",
     "text": [
      "전체 category 개수\n",
      "51\n",
      "\n",
      "이 전 restaurant 해당 category 개수 : \n",
      "index                      2746\n",
      "category                   2746\n",
      "lat                        2746\n",
      "lon                        2746\n",
      "place_address              2746\n",
      "place_id                   2746\n",
      "facility_available_name    2746\n",
      "facility_is_available      2746\n",
      "place_name                 2746\n",
      "facility_id                2746\n",
      "dtype: int64\n",
      "\n",
      "이 후 restaurant 해당 category 개수 : \n",
      "index                      2746\n",
      "category                   2746\n",
      "lat                        2746\n",
      "lon                        2746\n",
      "place_address              2746\n",
      "place_id                   2746\n",
      "facility_available_name    2746\n",
      "facility_is_available      2746\n",
      "place_name                 2746\n",
      "facility_id                2746\n",
      "dtype: int64\n",
      "\n",
      "전체 category 개수\n",
      "51\n"
     ]
    }
   ],
   "source": [
    "test = category_sum(test, \"chinese_food\", \"restaurant\")"
   ]
  },
  {
   "cell_type": "code",
   "execution_count": 127,
   "metadata": {},
   "outputs": [
    {
     "name": "stdout",
     "output_type": "stream",
     "text": [
      "전체 category 개수\n",
      "51\n",
      "\n",
      "이 전 restaurant 해당 category 개수 : \n",
      "index                      2746\n",
      "category                   2746\n",
      "lat                        2746\n",
      "lon                        2746\n",
      "place_address              2746\n",
      "place_id                   2746\n",
      "facility_available_name    2746\n",
      "facility_is_available      2746\n",
      "place_name                 2746\n",
      "facility_id                2746\n",
      "dtype: int64\n",
      "\n",
      "이 후 restaurant 해당 category 개수 : \n",
      "index                      2746\n",
      "category                   2746\n",
      "lat                        2746\n",
      "lon                        2746\n",
      "place_address              2746\n",
      "place_id                   2746\n",
      "facility_available_name    2746\n",
      "facility_is_available      2746\n",
      "place_name                 2746\n",
      "facility_id                2746\n",
      "dtype: int64\n",
      "\n",
      "전체 category 개수\n",
      "51\n"
     ]
    }
   ],
   "source": [
    "test = category_sum(test, \"japanese_food\", \"restaurant\")"
   ]
  },
  {
   "cell_type": "code",
   "execution_count": 128,
   "metadata": {},
   "outputs": [
    {
     "name": "stdout",
     "output_type": "stream",
     "text": [
      "전체 category 개수\n",
      "51\n",
      "\n",
      "이 전 restaurant 해당 category 개수 : \n",
      "index                      2746\n",
      "category                   2746\n",
      "lat                        2746\n",
      "lon                        2746\n",
      "place_address              2746\n",
      "place_id                   2746\n",
      "facility_available_name    2746\n",
      "facility_is_available      2746\n",
      "place_name                 2746\n",
      "facility_id                2746\n",
      "dtype: int64\n",
      "\n",
      "이 후 restaurant 해당 category 개수 : \n",
      "index                      2746\n",
      "category                   2746\n",
      "lat                        2746\n",
      "lon                        2746\n",
      "place_address              2746\n",
      "place_id                   2746\n",
      "facility_available_name    2746\n",
      "facility_is_available      2746\n",
      "place_name                 2746\n",
      "facility_id                2746\n",
      "dtype: int64\n",
      "\n",
      "전체 category 개수\n",
      "51\n"
     ]
    }
   ],
   "source": [
    "test = category_sum(test, \"other_food\", \"restaurant\")"
   ]
  },
  {
   "cell_type": "markdown",
   "metadata": {},
   "source": [
    "# 19. 안마시술소 drop -> 데이터가 적으며, 공공성이 낮다고 판단"
   ]
  },
  {
   "cell_type": "code",
   "execution_count": 129,
   "metadata": {},
   "outputs": [],
   "source": [
    "test = test[test.category != 'massage parlor']"
   ]
  },
  {
   "cell_type": "markdown",
   "metadata": {},
   "source": [
    "# 20. 교육/어린이집 분리 \n",
    "어린이집$ -> daycare center <br/>\n",
    "어런이집 -> 어린이집으로 변경하여 -> daycare center <br/>\n",
    "학원 -> 대학원이 추출 -> 대학교를 제외한 단어를 추출 -> education/job <br/>\n",
    "마지막 단어가 학원 -> education/job <br/>"
   ]
  },
  {
   "cell_type": "code",
   "execution_count": 130,
   "metadata": {},
   "outputs": [
    {
     "name": "stderr",
     "output_type": "stream",
     "text": [
      "C:\\ProgramData\\Anaconda3\\lib\\site-packages\\pandas\\core\\generic.py:4405: SettingWithCopyWarning: \n",
      "A value is trying to be set on a copy of a slice from a DataFrame.\n",
      "Try using .loc[row_indexer,col_indexer] = value instead\n",
      "\n",
      "See the caveats in the documentation: http://pandas.pydata.org/pandas-docs/stable/indexing.html#indexing-view-versus-copy\n",
      "  self[name] = value\n"
     ]
    }
   ],
   "source": [
    "test = reg_name_change(test,\"education/Childcare\", \"어린이집\", \"daycare center\" )"
   ]
  },
  {
   "cell_type": "code",
   "execution_count": 131,
   "metadata": {},
   "outputs": [],
   "source": [
    "a = test[test.category == 'education/Childcare']"
   ]
  },
  {
   "cell_type": "code",
   "execution_count": 132,
   "metadata": {},
   "outputs": [],
   "source": [
    "b= a[a.place_name.str.contains('어런이집$')]"
   ]
  },
  {
   "cell_type": "code",
   "execution_count": 133,
   "metadata": {},
   "outputs": [],
   "source": [
    "b = b.replace('이림어런이집', \"이림어린이집\")"
   ]
  },
  {
   "cell_type": "code",
   "execution_count": 134,
   "metadata": {},
   "outputs": [],
   "source": [
    "b.category = \"daycare center\""
   ]
  },
  {
   "cell_type": "code",
   "execution_count": 135,
   "metadata": {},
   "outputs": [],
   "source": [
    "test.iloc[b.index] = b"
   ]
  },
  {
   "cell_type": "code",
   "execution_count": 136,
   "metadata": {},
   "outputs": [],
   "source": [
    "a = test[test.category == 'education/Childcare']"
   ]
  },
  {
   "cell_type": "code",
   "execution_count": 137,
   "metadata": {},
   "outputs": [],
   "source": [
    "b = a[a.place_name.str.contains('학원') & a.place_name.str.contains('[^대학교]$')]"
   ]
  },
  {
   "cell_type": "code",
   "execution_count": 138,
   "metadata": {},
   "outputs": [
    {
     "name": "stderr",
     "output_type": "stream",
     "text": [
      "C:\\ProgramData\\Anaconda3\\lib\\site-packages\\pandas\\core\\generic.py:4405: SettingWithCopyWarning: \n",
      "A value is trying to be set on a copy of a slice from a DataFrame.\n",
      "Try using .loc[row_indexer,col_indexer] = value instead\n",
      "\n",
      "See the caveats in the documentation: http://pandas.pydata.org/pandas-docs/stable/indexing.html#indexing-view-versus-copy\n",
      "  self[name] = value\n"
     ]
    }
   ],
   "source": [
    "b.category = \"education/job\""
   ]
  },
  {
   "cell_type": "code",
   "execution_count": 139,
   "metadata": {},
   "outputs": [],
   "source": [
    "test.iloc[b.index] =b"
   ]
  },
  {
   "cell_type": "code",
   "execution_count": 140,
   "metadata": {},
   "outputs": [
    {
     "name": "stderr",
     "output_type": "stream",
     "text": [
      "C:\\ProgramData\\Anaconda3\\lib\\site-packages\\pandas\\core\\generic.py:4405: SettingWithCopyWarning: \n",
      "A value is trying to be set on a copy of a slice from a DataFrame.\n",
      "Try using .loc[row_indexer,col_indexer] = value instead\n",
      "\n",
      "See the caveats in the documentation: http://pandas.pydata.org/pandas-docs/stable/indexing.html#indexing-view-versus-copy\n",
      "  self[name] = value\n"
     ]
    }
   ],
   "source": [
    "test = reg_name_change(test, \"education/Childcare\", \"초등학교\", \"elementary school\")"
   ]
  },
  {
   "cell_type": "code",
   "execution_count": 141,
   "metadata": {},
   "outputs": [
    {
     "name": "stderr",
     "output_type": "stream",
     "text": [
      "C:\\ProgramData\\Anaconda3\\lib\\site-packages\\pandas\\core\\generic.py:4405: SettingWithCopyWarning: \n",
      "A value is trying to be set on a copy of a slice from a DataFrame.\n",
      "Try using .loc[row_indexer,col_indexer] = value instead\n",
      "\n",
      "See the caveats in the documentation: http://pandas.pydata.org/pandas-docs/stable/indexing.html#indexing-view-versus-copy\n",
      "  self[name] = value\n"
     ]
    }
   ],
   "source": [
    "test = reg_name_change(test, \"education/Childcare\", \"고교\", \"high school\")"
   ]
  },
  {
   "cell_type": "code",
   "execution_count": 142,
   "metadata": {},
   "outputs": [
    {
     "name": "stderr",
     "output_type": "stream",
     "text": [
      "C:\\ProgramData\\Anaconda3\\lib\\site-packages\\pandas\\core\\generic.py:4405: SettingWithCopyWarning: \n",
      "A value is trying to be set on a copy of a slice from a DataFrame.\n",
      "Try using .loc[row_indexer,col_indexer] = value instead\n",
      "\n",
      "See the caveats in the documentation: http://pandas.pydata.org/pandas-docs/stable/indexing.html#indexing-view-versus-copy\n",
      "  self[name] = value\n"
     ]
    }
   ],
   "source": [
    "test = reg_name_change(test, \"education/Childcare\", \"고$\", \"high school\")"
   ]
  },
  {
   "cell_type": "code",
   "execution_count": 162,
   "metadata": {},
   "outputs": [
    {
     "name": "stderr",
     "output_type": "stream",
     "text": [
      "C:\\ProgramData\\Anaconda3\\lib\\site-packages\\pandas\\core\\generic.py:4405: SettingWithCopyWarning: \n",
      "A value is trying to be set on a copy of a slice from a DataFrame.\n",
      "Try using .loc[row_indexer,col_indexer] = value instead\n",
      "\n",
      "See the caveats in the documentation: http://pandas.pydata.org/pandas-docs/stable/indexing.html#indexing-view-versus-copy\n",
      "  self[name] = value\n"
     ]
    }
   ],
   "source": [
    "test = reg_name_change(test, \"education/Childcare\", \"고등학교\", \"high school\")"
   ]
  },
  {
   "cell_type": "code",
   "execution_count": 144,
   "metadata": {},
   "outputs": [
    {
     "name": "stderr",
     "output_type": "stream",
     "text": [
      "C:\\ProgramData\\Anaconda3\\lib\\site-packages\\pandas\\core\\generic.py:4405: SettingWithCopyWarning: \n",
      "A value is trying to be set on a copy of a slice from a DataFrame.\n",
      "Try using .loc[row_indexer,col_indexer] = value instead\n",
      "\n",
      "See the caveats in the documentation: http://pandas.pydata.org/pandas-docs/stable/indexing.html#indexing-view-versus-copy\n",
      "  self[name] = value\n"
     ]
    }
   ],
   "source": [
    "test = reg_name_change(test, \"education/Childcare\", \"중학교$\", \"junior high school\")"
   ]
  },
  {
   "cell_type": "code",
   "execution_count": 145,
   "metadata": {},
   "outputs": [
    {
     "name": "stderr",
     "output_type": "stream",
     "text": [
      "C:\\ProgramData\\Anaconda3\\lib\\site-packages\\pandas\\core\\generic.py:4405: SettingWithCopyWarning: \n",
      "A value is trying to be set on a copy of a slice from a DataFrame.\n",
      "Try using .loc[row_indexer,col_indexer] = value instead\n",
      "\n",
      "See the caveats in the documentation: http://pandas.pydata.org/pandas-docs/stable/indexing.html#indexing-view-versus-copy\n",
      "  self[name] = value\n"
     ]
    }
   ],
   "source": [
    "test = reg_name_change(test, \"education/Childcare\", \"중$\", \"junior high school\")"
   ]
  },
  {
   "cell_type": "code",
   "execution_count": 146,
   "metadata": {},
   "outputs": [
    {
     "name": "stderr",
     "output_type": "stream",
     "text": [
      "C:\\ProgramData\\Anaconda3\\lib\\site-packages\\pandas\\core\\generic.py:4405: SettingWithCopyWarning: \n",
      "A value is trying to be set on a copy of a slice from a DataFrame.\n",
      "Try using .loc[row_indexer,col_indexer] = value instead\n",
      "\n",
      "See the caveats in the documentation: http://pandas.pydata.org/pandas-docs/stable/indexing.html#indexing-view-versus-copy\n",
      "  self[name] = value\n"
     ]
    }
   ],
   "source": [
    "test = reg_name_change(test, \"education/Childcare\", \"도서관\", \"library\")"
   ]
  },
  {
   "cell_type": "code",
   "execution_count": 147,
   "metadata": {},
   "outputs": [],
   "source": [
    "test = reg_name_change(test, \"education/Childcare\", \"어린이집\", \"daycare center\")"
   ]
  },
  {
   "cell_type": "code",
   "execution_count": 148,
   "metadata": {},
   "outputs": [
    {
     "name": "stderr",
     "output_type": "stream",
     "text": [
      "C:\\ProgramData\\Anaconda3\\lib\\site-packages\\pandas\\core\\generic.py:4405: SettingWithCopyWarning: \n",
      "A value is trying to be set on a copy of a slice from a DataFrame.\n",
      "Try using .loc[row_indexer,col_indexer] = value instead\n",
      "\n",
      "See the caveats in the documentation: http://pandas.pydata.org/pandas-docs/stable/indexing.html#indexing-view-versus-copy\n",
      "  self[name] = value\n"
     ]
    }
   ],
   "source": [
    "test = reg_name_change(test, \"education/Childcare\", \"유치원\", \"daycare center\")"
   ]
  },
  {
   "cell_type": "code",
   "execution_count": 149,
   "metadata": {},
   "outputs": [
    {
     "name": "stderr",
     "output_type": "stream",
     "text": [
      "C:\\ProgramData\\Anaconda3\\lib\\site-packages\\pandas\\core\\generic.py:4405: SettingWithCopyWarning: \n",
      "A value is trying to be set on a copy of a slice from a DataFrame.\n",
      "Try using .loc[row_indexer,col_indexer] = value instead\n",
      "\n",
      "See the caveats in the documentation: http://pandas.pydata.org/pandas-docs/stable/indexing.html#indexing-view-versus-copy\n",
      "  self[name] = value\n"
     ]
    }
   ],
   "source": [
    "test = reg_name_change(test, \"education/Childcare\", \"유아원\", \"daycare center\")"
   ]
  },
  {
   "cell_type": "code",
   "execution_count": 150,
   "metadata": {},
   "outputs": [],
   "source": [
    "test = reg_name_change(test, \"education/Childcare\", \"초등학교\", \"elementary school\")"
   ]
  },
  {
   "cell_type": "code",
   "execution_count": 151,
   "metadata": {},
   "outputs": [
    {
     "name": "stderr",
     "output_type": "stream",
     "text": [
      "C:\\ProgramData\\Anaconda3\\lib\\site-packages\\pandas\\core\\generic.py:4405: SettingWithCopyWarning: \n",
      "A value is trying to be set on a copy of a slice from a DataFrame.\n",
      "Try using .loc[row_indexer,col_indexer] = value instead\n",
      "\n",
      "See the caveats in the documentation: http://pandas.pydata.org/pandas-docs/stable/indexing.html#indexing-view-versus-copy\n",
      "  self[name] = value\n"
     ]
    }
   ],
   "source": [
    "test = reg_name_change(test, \"education/Childcare\", \"초$\", \"elementary school\")"
   ]
  },
  {
   "cell_type": "code",
   "execution_count": 164,
   "metadata": {},
   "outputs": [],
   "source": [
    "test_list2 = [ \"국민대\", \"동덕여대\", \"명지대\", \"숙명여대\", \"숭실대\", \"성신여대\", \"방송통신대\",\"서경대\"]"
   ]
  },
  {
   "cell_type": "code",
   "execution_count": 165,
   "metadata": {},
   "outputs": [
    {
     "name": "stderr",
     "output_type": "stream",
     "text": [
      "C:\\ProgramData\\Anaconda3\\lib\\site-packages\\pandas\\core\\generic.py:4405: SettingWithCopyWarning: \n",
      "A value is trying to be set on a copy of a slice from a DataFrame.\n",
      "Try using .loc[row_indexer,col_indexer] = value instead\n",
      "\n",
      "See the caveats in the documentation: http://pandas.pydata.org/pandas-docs/stable/indexing.html#indexing-view-versus-copy\n",
      "  self[name] = value\n"
     ]
    }
   ],
   "source": [
    "for row in test_list2:\n",
    "    test = reg_name_change(test, \"education/Childcare\", row, \"university\")"
   ]
  },
  {
   "cell_type": "code",
   "execution_count": 167,
   "metadata": {},
   "outputs": [
    {
     "name": "stderr",
     "output_type": "stream",
     "text": [
      "C:\\ProgramData\\Anaconda3\\lib\\site-packages\\pandas\\core\\generic.py:4405: SettingWithCopyWarning: \n",
      "A value is trying to be set on a copy of a slice from a DataFrame.\n",
      "Try using .loc[row_indexer,col_indexer] = value instead\n",
      "\n",
      "See the caveats in the documentation: http://pandas.pydata.org/pandas-docs/stable/indexing.html#indexing-view-versus-copy\n",
      "  self[name] = value\n"
     ]
    }
   ],
   "source": [
    "test = reg_name_change(test, \"education/Childcare\", \"대학\", \"university\")"
   ]
  },
  {
   "cell_type": "code",
   "execution_count": 159,
   "metadata": {},
   "outputs": [
    {
     "name": "stderr",
     "output_type": "stream",
     "text": [
      "C:\\ProgramData\\Anaconda3\\lib\\site-packages\\pandas\\core\\generic.py:4405: SettingWithCopyWarning: \n",
      "A value is trying to be set on a copy of a slice from a DataFrame.\n",
      "Try using .loc[row_indexer,col_indexer] = value instead\n",
      "\n",
      "See the caveats in the documentation: http://pandas.pydata.org/pandas-docs/stable/indexing.html#indexing-view-versus-copy\n",
      "  self[name] = value\n"
     ]
    }
   ],
   "source": [
    "test = reg_name_change(test, \"education/Childcare\", \"대학교\", \"university\")"
   ]
  },
  {
   "cell_type": "code",
   "execution_count": 169,
   "metadata": {},
   "outputs": [
    {
     "name": "stderr",
     "output_type": "stream",
     "text": [
      "C:\\ProgramData\\Anaconda3\\lib\\site-packages\\pandas\\core\\generic.py:4405: SettingWithCopyWarning: \n",
      "A value is trying to be set on a copy of a slice from a DataFrame.\n",
      "Try using .loc[row_indexer,col_indexer] = value instead\n",
      "\n",
      "See the caveats in the documentation: http://pandas.pydata.org/pandas-docs/stable/indexing.html#indexing-view-versus-copy\n",
      "  self[name] = value\n"
     ]
    }
   ],
   "source": [
    "test = reg_name_change(test, \"education/Childcare\", \"학교\", \"special-education school\")"
   ]
  },
  {
   "cell_type": "code",
   "execution_count": 170,
   "metadata": {},
   "outputs": [
    {
     "data": {
      "text/plain": [
       "array(['(주)정상에이엘에스(서림상가빌딩)', 'E-Park에듀센터', 'IBT아카데미', 'KAGE영재원',\n",
       "       'RID ENGLISH ACADEMY', 'SLP강남영어학당(천보빌딩)', 'YBM강남센터',\n",
       "       '㈜메가스터디(풍림빌딩)', '강남 S캠퍼스 강의실(한국벤쳐타워)', '강북메가스터디',\n",
       "       '노드 잉글리아 에듀케이션 코리아', '동서울아카데미', '동화세상에듀코', '매쓰수학', '메가MD로스쿨(청합빌딩)',\n",
       "       '배재고 다목적홀', '비트아카데미', '살롬의집', '서울영풍초교', '섬김의집', '송파리틀집', '시사영어사',\n",
       "       '아이지에스이랭귀지센터', '원수학', '위너스스터디', '윤선생영어숲', '장앤김수학', '크레파스ARTSCHOOL',\n",
       "       '하이스트', '효주아네스의집'], dtype=object)"
      ]
     },
     "execution_count": 170,
     "metadata": {},
     "output_type": "execute_result"
    }
   ],
   "source": [
    "test[test.category == \"education/Childcare\"].place_name.unique()"
   ]
  },
  {
   "cell_type": "code",
   "execution_count": 171,
   "metadata": {},
   "outputs": [
    {
     "name": "stdout",
     "output_type": "stream",
     "text": [
      "전체 category 개수\n",
      "50\n",
      "\n",
      "이 전 education/job 해당 category 개수 : \n",
      "index                      6436\n",
      "category                   6436\n",
      "lat                        6436\n",
      "lon                        6436\n",
      "place_address              6436\n",
      "place_id                   6436\n",
      "facility_available_name    6436\n",
      "facility_is_available      6436\n",
      "place_name                 6436\n",
      "facility_id                6436\n",
      "dtype: int64\n",
      "\n",
      "이 후 education/job 해당 category 개수 : \n",
      "index                      6551\n",
      "category                   6551\n",
      "lat                        6551\n",
      "lon                        6551\n",
      "place_address              6551\n",
      "place_id                   6551\n",
      "facility_available_name    6551\n",
      "facility_is_available      6551\n",
      "place_name                 6551\n",
      "facility_id                6551\n",
      "dtype: int64\n",
      "\n",
      "전체 category 개수\n",
      "49\n"
     ]
    },
    {
     "name": "stderr",
     "output_type": "stream",
     "text": [
      "C:\\ProgramData\\Anaconda3\\lib\\site-packages\\pandas\\core\\generic.py:4405: SettingWithCopyWarning: \n",
      "A value is trying to be set on a copy of a slice from a DataFrame.\n",
      "Try using .loc[row_indexer,col_indexer] = value instead\n",
      "\n",
      "See the caveats in the documentation: http://pandas.pydata.org/pandas-docs/stable/indexing.html#indexing-view-versus-copy\n",
      "  self[name] = value\n"
     ]
    }
   ],
   "source": [
    "test = category_sum(test, \"education/Childcare\",\"education/job\")"
   ]
  },
  {
   "cell_type": "code",
   "execution_count": 172,
   "metadata": {},
   "outputs": [
    {
     "data": {
      "text/plain": [
       "array(['subway', 'movie/concerthall', 'shopping/mart', 'publicparking',\n",
       "       'publictoilet', 'hospital', 'delete', 'community service center',\n",
       "       'police station', 'post office', 'health center', 'bank', 'hotel',\n",
       "       'daycare center', 'education/job', 'elementary school',\n",
       "       'high school', 'junior high school', 'university',\n",
       "       'special-education school', 'library', 'beauty/hair', 'other',\n",
       "       'restaurant', nan, 'apartment subsidiary facility',\n",
       "       'exhibition center', 'convenience store/bakery', 'gym', 'church',\n",
       "       'general hospital', 'kindergarten', 'meeting hall',\n",
       "       'welfare/senior', 'welfare/etc', 'city park',\n",
       "       'training facility/urban', 'welfare/disabled', 'welfare/child',\n",
       "       'training facility/rural', 'toilet/public',\n",
       "       'community child center', 'nature park', 'funeral hall',\n",
       "       'outdoor theater', 'college', 'toilet/open', 'service area',\n",
       "       'toilet/small'], dtype=object)"
      ]
     },
     "execution_count": 172,
     "metadata": {},
     "output_type": "execute_result"
    }
   ],
   "source": [
    "test.category.unique()"
   ]
  },
  {
   "cell_type": "code",
   "execution_count": null,
   "metadata": {},
   "outputs": [],
   "source": []
  }
 ],
 "metadata": {
  "kernelspec": {
   "display_name": "Python 3",
   "language": "python",
   "name": "python3"
  },
  "language_info": {
   "codemirror_mode": {
    "name": "ipython",
    "version": 3
   },
   "file_extension": ".py",
   "mimetype": "text/x-python",
   "name": "python",
   "nbconvert_exporter": "python",
   "pygments_lexer": "ipython3",
   "version": "3.6.5"
  }
 },
 "nbformat": 4,
 "nbformat_minor": 2
}
