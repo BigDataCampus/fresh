{
 "cells": [
  {
   "cell_type": "markdown",
   "metadata": {},
   "source": [
    "# Place 데이터 중 bad data 정리하기"
   ]
  },
  {
   "cell_type": "code",
   "execution_count": 159,
   "metadata": {},
   "outputs": [],
   "source": [
    "import pandas as pd"
   ]
  },
  {
   "cell_type": "code",
   "execution_count": 160,
   "metadata": {},
   "outputs": [],
   "source": [
    "place  = pd.read_csv('place.csv')"
   ]
  },
  {
   "cell_type": "code",
   "execution_count": 161,
   "metadata": {},
   "outputs": [],
   "source": [
    "place.drop(columns=[\"Unnamed: 0\"], inplace= True)"
   ]
  },
  {
   "cell_type": "code",
   "execution_count": 162,
   "metadata": {
    "scrolled": true
   },
   "outputs": [
    {
     "name": "stdout",
     "output_type": "stream",
     "text": [
      "<class 'pandas.core.frame.DataFrame'>\n",
      "RangeIndex: 8329 entries, 0 to 8328\n",
      "Data columns (total 6 columns):\n",
      "place_id         8329 non-null int64\n",
      "place_name       8329 non-null object\n",
      "lat              8329 non-null float64\n",
      "lng              8329 non-null float64\n",
      "place_address    8329 non-null object\n",
      "category         8329 non-null object\n",
      "dtypes: float64(2), int64(1), object(3)\n",
      "memory usage: 390.5+ KB\n"
     ]
    }
   ],
   "source": [
    "place.info()"
   ]
  },
  {
   "cell_type": "code",
   "execution_count": 163,
   "metadata": {},
   "outputs": [],
   "source": [
    "# longitude 가 왼쪽 오른쪽을 좌우한다. "
   ]
  },
  {
   "cell_type": "code",
   "execution_count": 164,
   "metadata": {},
   "outputs": [],
   "source": [
    "place = place[place['lng']> 126.7737713]"
   ]
  },
  {
   "cell_type": "code",
   "execution_count": 165,
   "metadata": {},
   "outputs": [
    {
     "name": "stdout",
     "output_type": "stream",
     "text": [
      "<class 'pandas.core.frame.DataFrame'>\n",
      "Int64Index: 8329 entries, 0 to 8328\n",
      "Data columns (total 6 columns):\n",
      "place_id         8329 non-null int64\n",
      "place_name       8329 non-null object\n",
      "lat              8329 non-null float64\n",
      "lng              8329 non-null float64\n",
      "place_address    8329 non-null object\n",
      "category         8329 non-null object\n",
      "dtypes: float64(2), int64(1), object(3)\n",
      "memory usage: 455.5+ KB\n"
     ]
    }
   ],
   "source": [
    "place.info()"
   ]
  },
  {
   "cell_type": "code",
   "execution_count": 166,
   "metadata": {},
   "outputs": [
    {
     "data": {
      "text/html": [
       "<div>\n",
       "<style scoped>\n",
       "    .dataframe tbody tr th:only-of-type {\n",
       "        vertical-align: middle;\n",
       "    }\n",
       "\n",
       "    .dataframe tbody tr th {\n",
       "        vertical-align: top;\n",
       "    }\n",
       "\n",
       "    .dataframe thead th {\n",
       "        text-align: right;\n",
       "    }\n",
       "</style>\n",
       "<table border=\"1\" class=\"dataframe\">\n",
       "  <thead>\n",
       "    <tr style=\"text-align: right;\">\n",
       "      <th></th>\n",
       "      <th>place_id</th>\n",
       "      <th>place_name</th>\n",
       "      <th>lat</th>\n",
       "      <th>lng</th>\n",
       "      <th>place_address</th>\n",
       "      <th>category</th>\n",
       "    </tr>\n",
       "  </thead>\n",
       "  <tbody>\n",
       "  </tbody>\n",
       "</table>\n",
       "</div>"
      ],
      "text/plain": [
       "Empty DataFrame\n",
       "Columns: [place_id, place_name, lat, lng, place_address, category]\n",
       "Index: []"
      ]
     },
     "execution_count": 166,
     "metadata": {},
     "output_type": "execute_result"
    }
   ],
   "source": [
    "place[place['lat']< 37.434017]  # 시흥 편의점 37.434017, 126.904797"
   ]
  },
  {
   "cell_type": "code",
   "execution_count": 168,
   "metadata": {},
   "outputs": [],
   "source": [
    "place = place[place['lat']> 37.434017]"
   ]
  },
  {
   "cell_type": "code",
   "execution_count": 167,
   "metadata": {},
   "outputs": [
    {
     "data": {
      "text/html": [
       "<div>\n",
       "<style scoped>\n",
       "    .dataframe tbody tr th:only-of-type {\n",
       "        vertical-align: middle;\n",
       "    }\n",
       "\n",
       "    .dataframe tbody tr th {\n",
       "        vertical-align: top;\n",
       "    }\n",
       "\n",
       "    .dataframe thead th {\n",
       "        text-align: right;\n",
       "    }\n",
       "</style>\n",
       "<table border=\"1\" class=\"dataframe\">\n",
       "  <thead>\n",
       "    <tr style=\"text-align: right;\">\n",
       "      <th></th>\n",
       "      <th>place_id</th>\n",
       "      <th>place_name</th>\n",
       "      <th>lat</th>\n",
       "      <th>lng</th>\n",
       "      <th>place_address</th>\n",
       "      <th>category</th>\n",
       "    </tr>\n",
       "  </thead>\n",
       "  <tbody>\n",
       "    <tr>\n",
       "      <th>143</th>\n",
       "      <td>218</td>\n",
       "      <td>양평역</td>\n",
       "      <td>37.492778</td>\n",
       "      <td>127.492149</td>\n",
       "      <td>서울특별시 영등포구</td>\n",
       "      <td>지하철</td>\n",
       "    </tr>\n",
       "  </tbody>\n",
       "</table>\n",
       "</div>"
      ],
      "text/plain": [
       "     place_id place_name        lat         lng place_address category\n",
       "143       218        양평역  37.492778  127.492149    서울특별시 영등포구      지하철"
      ]
     },
     "execution_count": 167,
     "metadata": {},
     "output_type": "execute_result"
    }
   ],
   "source": [
    "place[place['lng']> 127.376341] # 양평역 drop 하기 "
   ]
  },
  {
   "cell_type": "code",
   "execution_count": 169,
   "metadata": {},
   "outputs": [
    {
     "name": "stdout",
     "output_type": "stream",
     "text": [
      "<class 'pandas.core.frame.DataFrame'>\n",
      "Int64Index: 8329 entries, 0 to 8328\n",
      "Data columns (total 6 columns):\n",
      "place_id         8329 non-null int64\n",
      "place_name       8329 non-null object\n",
      "lat              8329 non-null float64\n",
      "lng              8329 non-null float64\n",
      "place_address    8329 non-null object\n",
      "category         8329 non-null object\n",
      "dtypes: float64(2), int64(1), object(3)\n",
      "memory usage: 455.5+ KB\n"
     ]
    }
   ],
   "source": [
    "place.info()"
   ]
  },
  {
   "cell_type": "code",
   "execution_count": 170,
   "metadata": {},
   "outputs": [],
   "source": [
    "place = place[place['lng']< 127.376341]"
   ]
  },
  {
   "cell_type": "code",
   "execution_count": 171,
   "metadata": {},
   "outputs": [
    {
     "name": "stdout",
     "output_type": "stream",
     "text": [
      "<class 'pandas.core.frame.DataFrame'>\n",
      "Int64Index: 8328 entries, 0 to 8328\n",
      "Data columns (total 6 columns):\n",
      "place_id         8328 non-null int64\n",
      "place_name       8328 non-null object\n",
      "lat              8328 non-null float64\n",
      "lng              8328 non-null float64\n",
      "place_address    8328 non-null object\n",
      "category         8328 non-null object\n",
      "dtypes: float64(2), int64(1), object(3)\n",
      "memory usage: 455.4+ KB\n"
     ]
    }
   ],
   "source": [
    "place.info()"
   ]
  },
  {
   "cell_type": "code",
   "execution_count": 172,
   "metadata": {
    "scrolled": true
   },
   "outputs": [
    {
     "data": {
      "text/html": [
       "<div>\n",
       "<style scoped>\n",
       "    .dataframe tbody tr th:only-of-type {\n",
       "        vertical-align: middle;\n",
       "    }\n",
       "\n",
       "    .dataframe tbody tr th {\n",
       "        vertical-align: top;\n",
       "    }\n",
       "\n",
       "    .dataframe thead th {\n",
       "        text-align: right;\n",
       "    }\n",
       "</style>\n",
       "<table border=\"1\" class=\"dataframe\">\n",
       "  <thead>\n",
       "    <tr style=\"text-align: right;\">\n",
       "      <th></th>\n",
       "      <th>place_id</th>\n",
       "      <th>place_name</th>\n",
       "      <th>lat</th>\n",
       "      <th>lng</th>\n",
       "      <th>place_address</th>\n",
       "      <th>category</th>\n",
       "    </tr>\n",
       "  </thead>\n",
       "  <tbody>\n",
       "    <tr>\n",
       "      <th>8324</th>\n",
       "      <td>31094</td>\n",
       "      <td>양재천수영장 화장실</td>\n",
       "      <td>37.473464</td>\n",
       "      <td>127.035751</td>\n",
       "      <td>서울특별시 서초구 양재동 126-1</td>\n",
       "      <td>공중화장실</td>\n",
       "    </tr>\n",
       "    <tr>\n",
       "      <th>8325</th>\n",
       "      <td>31095</td>\n",
       "      <td>양재천(영동2교둑마루) 화장실</td>\n",
       "      <td>37.476623</td>\n",
       "      <td>127.041509</td>\n",
       "      <td>서울특별시 서초구 양재동 261-23</td>\n",
       "      <td>공중화장실</td>\n",
       "    </tr>\n",
       "    <tr>\n",
       "      <th>8326</th>\n",
       "      <td>31096</td>\n",
       "      <td>양재천무인자동화장실(교총삼거리둑마루) 화장실</td>\n",
       "      <td>37.468269</td>\n",
       "      <td>127.028713</td>\n",
       "      <td>서울특별시 서초구 우면동 143-6</td>\n",
       "      <td>공중화장실</td>\n",
       "    </tr>\n",
       "    <tr>\n",
       "      <th>8327</th>\n",
       "      <td>31098</td>\n",
       "      <td>살곶이 진출 화장실</td>\n",
       "      <td>37.553132</td>\n",
       "      <td>127.028349</td>\n",
       "      <td>서울특별시 성동구 사근동 102-28</td>\n",
       "      <td>공중화장실</td>\n",
       "    </tr>\n",
       "    <tr>\n",
       "      <th>8328</th>\n",
       "      <td>31103</td>\n",
       "      <td>자전거체험장 화장실</td>\n",
       "      <td>37.553973</td>\n",
       "      <td>127.046326</td>\n",
       "      <td>서울특별시 성동구 마장동 811</td>\n",
       "      <td>공중화장실</td>\n",
       "    </tr>\n",
       "  </tbody>\n",
       "</table>\n",
       "</div>"
      ],
      "text/plain": [
       "      place_id                place_name        lat         lng  \\\n",
       "8324     31094                양재천수영장 화장실  37.473464  127.035751   \n",
       "8325     31095          양재천(영동2교둑마루) 화장실  37.476623  127.041509   \n",
       "8326     31096  양재천무인자동화장실(교총삼거리둑마루) 화장실  37.468269  127.028713   \n",
       "8327     31098                살곶이 진출 화장실  37.553132  127.028349   \n",
       "8328     31103                자전거체험장 화장실  37.553973  127.046326   \n",
       "\n",
       "             place_address category  \n",
       "8324   서울특별시 서초구 양재동 126-1    공중화장실  \n",
       "8325  서울특별시 서초구 양재동 261-23    공중화장실  \n",
       "8326   서울특별시 서초구 우면동 143-6    공중화장실  \n",
       "8327  서울특별시 성동구 사근동 102-28    공중화장실  \n",
       "8328     서울특별시 성동구 마장동 811    공중화장실  "
      ]
     },
     "execution_count": 172,
     "metadata": {},
     "output_type": "execute_result"
    }
   ],
   "source": [
    "place.tail()"
   ]
  },
  {
   "cell_type": "markdown",
   "metadata": {},
   "source": [
    "# 지하철 이름 바꾸기"
   ]
  },
  {
   "cell_type": "code",
   "execution_count": 215,
   "metadata": {},
   "outputs": [
    {
     "data": {
      "text/html": [
       "<div>\n",
       "<style scoped>\n",
       "    .dataframe tbody tr th:only-of-type {\n",
       "        vertical-align: middle;\n",
       "    }\n",
       "\n",
       "    .dataframe tbody tr th {\n",
       "        vertical-align: top;\n",
       "    }\n",
       "\n",
       "    .dataframe thead th {\n",
       "        text-align: right;\n",
       "    }\n",
       "</style>\n",
       "<table border=\"1\" class=\"dataframe\">\n",
       "  <thead>\n",
       "    <tr style=\"text-align: right;\">\n",
       "      <th></th>\n",
       "      <th>place_id</th>\n",
       "      <th>place_name</th>\n",
       "      <th>lat</th>\n",
       "      <th>lng</th>\n",
       "      <th>place_address</th>\n",
       "      <th>category</th>\n",
       "    </tr>\n",
       "  </thead>\n",
       "  <tbody>\n",
       "    <tr>\n",
       "      <th>0</th>\n",
       "      <td>0</td>\n",
       "      <td>가락시장역역</td>\n",
       "      <td>37.492317</td>\n",
       "      <td>127.118104</td>\n",
       "      <td>서울특별시 송파구</td>\n",
       "      <td>지하철</td>\n",
       "    </tr>\n",
       "    <tr>\n",
       "      <th>1</th>\n",
       "      <td>1</td>\n",
       "      <td>가산디지털단지역역</td>\n",
       "      <td>37.480890</td>\n",
       "      <td>126.882574</td>\n",
       "      <td>서울특별시 금천구</td>\n",
       "      <td>지하철</td>\n",
       "    </tr>\n",
       "    <tr>\n",
       "      <th>2</th>\n",
       "      <td>3</td>\n",
       "      <td>강남역역</td>\n",
       "      <td>37.497942</td>\n",
       "      <td>127.027621</td>\n",
       "      <td>서울특별시 강남구</td>\n",
       "      <td>지하철</td>\n",
       "    </tr>\n",
       "    <tr>\n",
       "      <th>3</th>\n",
       "      <td>5</td>\n",
       "      <td>강동역역</td>\n",
       "      <td>37.535940</td>\n",
       "      <td>127.132187</td>\n",
       "      <td>서울특별시 강동구</td>\n",
       "      <td>지하철</td>\n",
       "    </tr>\n",
       "    <tr>\n",
       "      <th>4</th>\n",
       "      <td>7</td>\n",
       "      <td>강변역역</td>\n",
       "      <td>37.535144</td>\n",
       "      <td>127.094672</td>\n",
       "      <td>서울특별시 광진구</td>\n",
       "      <td>지하철</td>\n",
       "    </tr>\n",
       "  </tbody>\n",
       "</table>\n",
       "</div>"
      ],
      "text/plain": [
       "   place_id place_name        lat         lng place_address category\n",
       "0         0     가락시장역역  37.492317  127.118104     서울특별시 송파구      지하철\n",
       "1         1  가산디지털단지역역  37.480890  126.882574     서울특별시 금천구      지하철\n",
       "2         3       강남역역  37.497942  127.027621     서울특별시 강남구      지하철\n",
       "3         5       강동역역  37.535940  127.132187     서울특별시 강동구      지하철\n",
       "4         7       강변역역  37.535144  127.094672     서울특별시 광진구      지하철"
      ]
     },
     "execution_count": 215,
     "metadata": {},
     "output_type": "execute_result"
    }
   ],
   "source": [
    "place[place.category.str.contains(\"지하철\")].head()"
   ]
  },
  {
   "cell_type": "code",
   "execution_count": 216,
   "metadata": {
    "scrolled": true
   },
   "outputs": [],
   "source": [
    "dd = place[place.category.str.contains(\"지하철\")].place_name.apply(lambda x: x +\"역\")"
   ]
  },
  {
   "cell_type": "code",
   "execution_count": 217,
   "metadata": {},
   "outputs": [],
   "source": [
    "place.reset_index(inplace=True)"
   ]
  },
  {
   "cell_type": "code",
   "execution_count": 218,
   "metadata": {},
   "outputs": [
    {
     "data": {
      "text/html": [
       "<div>\n",
       "<style scoped>\n",
       "    .dataframe tbody tr th:only-of-type {\n",
       "        vertical-align: middle;\n",
       "    }\n",
       "\n",
       "    .dataframe tbody tr th {\n",
       "        vertical-align: top;\n",
       "    }\n",
       "\n",
       "    .dataframe thead th {\n",
       "        text-align: right;\n",
       "    }\n",
       "</style>\n",
       "<table border=\"1\" class=\"dataframe\">\n",
       "  <thead>\n",
       "    <tr style=\"text-align: right;\">\n",
       "      <th></th>\n",
       "      <th>index</th>\n",
       "      <th>place_id</th>\n",
       "      <th>place_name</th>\n",
       "      <th>lat</th>\n",
       "      <th>lng</th>\n",
       "      <th>place_address</th>\n",
       "      <th>category</th>\n",
       "    </tr>\n",
       "  </thead>\n",
       "  <tbody>\n",
       "    <tr>\n",
       "      <th>0</th>\n",
       "      <td>0</td>\n",
       "      <td>0</td>\n",
       "      <td>가락시장역역</td>\n",
       "      <td>37.492317</td>\n",
       "      <td>127.118104</td>\n",
       "      <td>서울특별시 송파구</td>\n",
       "      <td>지하철</td>\n",
       "    </tr>\n",
       "    <tr>\n",
       "      <th>1</th>\n",
       "      <td>1</td>\n",
       "      <td>1</td>\n",
       "      <td>가산디지털단지역역</td>\n",
       "      <td>37.480890</td>\n",
       "      <td>126.882574</td>\n",
       "      <td>서울특별시 금천구</td>\n",
       "      <td>지하철</td>\n",
       "    </tr>\n",
       "    <tr>\n",
       "      <th>2</th>\n",
       "      <td>2</td>\n",
       "      <td>3</td>\n",
       "      <td>강남역역</td>\n",
       "      <td>37.497942</td>\n",
       "      <td>127.027621</td>\n",
       "      <td>서울특별시 강남구</td>\n",
       "      <td>지하철</td>\n",
       "    </tr>\n",
       "    <tr>\n",
       "      <th>3</th>\n",
       "      <td>3</td>\n",
       "      <td>5</td>\n",
       "      <td>강동역역</td>\n",
       "      <td>37.535940</td>\n",
       "      <td>127.132187</td>\n",
       "      <td>서울특별시 강동구</td>\n",
       "      <td>지하철</td>\n",
       "    </tr>\n",
       "    <tr>\n",
       "      <th>4</th>\n",
       "      <td>4</td>\n",
       "      <td>7</td>\n",
       "      <td>강변역역</td>\n",
       "      <td>37.535144</td>\n",
       "      <td>127.094672</td>\n",
       "      <td>서울특별시 광진구</td>\n",
       "      <td>지하철</td>\n",
       "    </tr>\n",
       "  </tbody>\n",
       "</table>\n",
       "</div>"
      ],
      "text/plain": [
       "   index  place_id place_name        lat         lng place_address category\n",
       "0      0         0     가락시장역역  37.492317  127.118104     서울특별시 송파구      지하철\n",
       "1      1         1  가산디지털단지역역  37.480890  126.882574     서울특별시 금천구      지하철\n",
       "2      2         3       강남역역  37.497942  127.027621     서울특별시 강남구      지하철\n",
       "3      3         5       강동역역  37.535940  127.132187     서울특별시 강동구      지하철\n",
       "4      4         7       강변역역  37.535144  127.094672     서울특별시 광진구      지하철"
      ]
     },
     "execution_count": 218,
     "metadata": {},
     "output_type": "execute_result"
    }
   ],
   "source": [
    "place.head()"
   ]
  },
  {
   "cell_type": "code",
   "execution_count": 219,
   "metadata": {},
   "outputs": [],
   "source": [
    "ff = place.loc[208:,'place_name']"
   ]
  },
  {
   "cell_type": "code",
   "execution_count": 193,
   "metadata": {},
   "outputs": [],
   "source": [
    "total_ = [] "
   ]
  },
  {
   "cell_type": "code",
   "execution_count": 194,
   "metadata": {},
   "outputs": [],
   "source": [
    "for i in dd:\n",
    "    total_.append(i)"
   ]
  },
  {
   "cell_type": "code",
   "execution_count": 195,
   "metadata": {},
   "outputs": [],
   "source": [
    "for i in ff:\n",
    "    total_.append(i)"
   ]
  },
  {
   "cell_type": "code",
   "execution_count": 207,
   "metadata": {
    "scrolled": true
   },
   "outputs": [
    {
     "data": {
      "text/plain": [
       "8328"
      ]
     },
     "execution_count": 207,
     "metadata": {},
     "output_type": "execute_result"
    }
   ],
   "source": [
    "len(total_)"
   ]
  },
  {
   "cell_type": "code",
   "execution_count": 208,
   "metadata": {},
   "outputs": [
    {
     "data": {
      "text/plain": [
       "8328"
      ]
     },
     "execution_count": 208,
     "metadata": {},
     "output_type": "execute_result"
    }
   ],
   "source": [
    "len(total_)"
   ]
  },
  {
   "cell_type": "code",
   "execution_count": 209,
   "metadata": {},
   "outputs": [
    {
     "name": "stdout",
     "output_type": "stream",
     "text": [
      "<class 'pandas.core.frame.DataFrame'>\n",
      "RangeIndex: 8328 entries, 0 to 8327\n",
      "Data columns (total 6 columns):\n",
      "place_id         8328 non-null int64\n",
      "place_name       8327 non-null object\n",
      "lat              8328 non-null float64\n",
      "lng              8328 non-null float64\n",
      "place_address    8328 non-null object\n",
      "category         8328 non-null object\n",
      "dtypes: float64(2), int64(1), object(3)\n",
      "memory usage: 390.5+ KB\n"
     ]
    }
   ],
   "source": [
    "place.info()"
   ]
  },
  {
   "cell_type": "code",
   "execution_count": 210,
   "metadata": {},
   "outputs": [],
   "source": [
    "se= pd.Series(total_)"
   ]
  },
  {
   "cell_type": "code",
   "execution_count": 211,
   "metadata": {},
   "outputs": [],
   "source": [
    "place['place_name'] = se"
   ]
  },
  {
   "cell_type": "code",
   "execution_count": 212,
   "metadata": {},
   "outputs": [
    {
     "data": {
      "text/html": [
       "<div>\n",
       "<style scoped>\n",
       "    .dataframe tbody tr th:only-of-type {\n",
       "        vertical-align: middle;\n",
       "    }\n",
       "\n",
       "    .dataframe tbody tr th {\n",
       "        vertical-align: top;\n",
       "    }\n",
       "\n",
       "    .dataframe thead th {\n",
       "        text-align: right;\n",
       "    }\n",
       "</style>\n",
       "<table border=\"1\" class=\"dataframe\">\n",
       "  <thead>\n",
       "    <tr style=\"text-align: right;\">\n",
       "      <th></th>\n",
       "      <th>place_id</th>\n",
       "      <th>place_name</th>\n",
       "      <th>lat</th>\n",
       "      <th>lng</th>\n",
       "      <th>place_address</th>\n",
       "      <th>category</th>\n",
       "    </tr>\n",
       "  </thead>\n",
       "  <tbody>\n",
       "    <tr>\n",
       "      <th>0</th>\n",
       "      <td>0</td>\n",
       "      <td>가락시장역역</td>\n",
       "      <td>37.492317</td>\n",
       "      <td>127.118104</td>\n",
       "      <td>서울특별시 송파구</td>\n",
       "      <td>지하철</td>\n",
       "    </tr>\n",
       "    <tr>\n",
       "      <th>1</th>\n",
       "      <td>1</td>\n",
       "      <td>가산디지털단지역역</td>\n",
       "      <td>37.480890</td>\n",
       "      <td>126.882574</td>\n",
       "      <td>서울특별시 금천구</td>\n",
       "      <td>지하철</td>\n",
       "    </tr>\n",
       "    <tr>\n",
       "      <th>2</th>\n",
       "      <td>3</td>\n",
       "      <td>강남역역</td>\n",
       "      <td>37.497942</td>\n",
       "      <td>127.027621</td>\n",
       "      <td>서울특별시 강남구</td>\n",
       "      <td>지하철</td>\n",
       "    </tr>\n",
       "    <tr>\n",
       "      <th>3</th>\n",
       "      <td>5</td>\n",
       "      <td>강동역역</td>\n",
       "      <td>37.535940</td>\n",
       "      <td>127.132187</td>\n",
       "      <td>서울특별시 강동구</td>\n",
       "      <td>지하철</td>\n",
       "    </tr>\n",
       "    <tr>\n",
       "      <th>4</th>\n",
       "      <td>7</td>\n",
       "      <td>강변역역</td>\n",
       "      <td>37.535144</td>\n",
       "      <td>127.094672</td>\n",
       "      <td>서울특별시 광진구</td>\n",
       "      <td>지하철</td>\n",
       "    </tr>\n",
       "  </tbody>\n",
       "</table>\n",
       "</div>"
      ],
      "text/plain": [
       "   place_id place_name        lat         lng place_address category\n",
       "0         0     가락시장역역  37.492317  127.118104     서울특별시 송파구      지하철\n",
       "1         1  가산디지털단지역역  37.480890  126.882574     서울특별시 금천구      지하철\n",
       "2         3       강남역역  37.497942  127.027621     서울특별시 강남구      지하철\n",
       "3         5       강동역역  37.535940  127.132187     서울특별시 강동구      지하철\n",
       "4         7       강변역역  37.535144  127.094672     서울특별시 광진구      지하철"
      ]
     },
     "execution_count": 212,
     "metadata": {},
     "output_type": "execute_result"
    }
   ],
   "source": [
    "place.head()"
   ]
  },
  {
   "cell_type": "code",
   "execution_count": 214,
   "metadata": {},
   "outputs": [
    {
     "data": {
      "text/html": [
       "<div>\n",
       "<style scoped>\n",
       "    .dataframe tbody tr th:only-of-type {\n",
       "        vertical-align: middle;\n",
       "    }\n",
       "\n",
       "    .dataframe tbody tr th {\n",
       "        vertical-align: top;\n",
       "    }\n",
       "\n",
       "    .dataframe thead th {\n",
       "        text-align: right;\n",
       "    }\n",
       "</style>\n",
       "<table border=\"1\" class=\"dataframe\">\n",
       "  <thead>\n",
       "    <tr style=\"text-align: right;\">\n",
       "      <th></th>\n",
       "      <th>place_id</th>\n",
       "      <th>place_name</th>\n",
       "      <th>lat</th>\n",
       "      <th>lng</th>\n",
       "      <th>place_address</th>\n",
       "      <th>category</th>\n",
       "    </tr>\n",
       "  </thead>\n",
       "  <tbody>\n",
       "    <tr>\n",
       "      <th>8323</th>\n",
       "      <td>31094</td>\n",
       "      <td>양재천(영동2교둑마루) 화장실</td>\n",
       "      <td>37.473464</td>\n",
       "      <td>127.035751</td>\n",
       "      <td>서울특별시 서초구 양재동 126-1</td>\n",
       "      <td>공중화장실</td>\n",
       "    </tr>\n",
       "    <tr>\n",
       "      <th>8324</th>\n",
       "      <td>31095</td>\n",
       "      <td>양재천무인자동화장실(교총삼거리둑마루) 화장실</td>\n",
       "      <td>37.476623</td>\n",
       "      <td>127.041509</td>\n",
       "      <td>서울특별시 서초구 양재동 261-23</td>\n",
       "      <td>공중화장실</td>\n",
       "    </tr>\n",
       "    <tr>\n",
       "      <th>8325</th>\n",
       "      <td>31096</td>\n",
       "      <td>살곶이 진출 화장실</td>\n",
       "      <td>37.468269</td>\n",
       "      <td>127.028713</td>\n",
       "      <td>서울특별시 서초구 우면동 143-6</td>\n",
       "      <td>공중화장실</td>\n",
       "    </tr>\n",
       "    <tr>\n",
       "      <th>8326</th>\n",
       "      <td>31098</td>\n",
       "      <td>자전거체험장 화장실</td>\n",
       "      <td>37.553132</td>\n",
       "      <td>127.028349</td>\n",
       "      <td>서울특별시 성동구 사근동 102-28</td>\n",
       "      <td>공중화장실</td>\n",
       "    </tr>\n",
       "    <tr>\n",
       "      <th>8327</th>\n",
       "      <td>31103</td>\n",
       "      <td>NaN</td>\n",
       "      <td>37.553973</td>\n",
       "      <td>127.046326</td>\n",
       "      <td>서울특별시 성동구 마장동 811</td>\n",
       "      <td>공중화장실</td>\n",
       "    </tr>\n",
       "  </tbody>\n",
       "</table>\n",
       "</div>"
      ],
      "text/plain": [
       "      place_id                place_name        lat         lng  \\\n",
       "8323     31094          양재천(영동2교둑마루) 화장실  37.473464  127.035751   \n",
       "8324     31095  양재천무인자동화장실(교총삼거리둑마루) 화장실  37.476623  127.041509   \n",
       "8325     31096                살곶이 진출 화장실  37.468269  127.028713   \n",
       "8326     31098                자전거체험장 화장실  37.553132  127.028349   \n",
       "8327     31103                       NaN  37.553973  127.046326   \n",
       "\n",
       "             place_address category  \n",
       "8323   서울특별시 서초구 양재동 126-1    공중화장실  \n",
       "8324  서울특별시 서초구 양재동 261-23    공중화장실  \n",
       "8325   서울특별시 서초구 우면동 143-6    공중화장실  \n",
       "8326  서울특별시 성동구 사근동 102-28    공중화장실  \n",
       "8327     서울특별시 성동구 마장동 811    공중화장실  "
      ]
     },
     "execution_count": 214,
     "metadata": {},
     "output_type": "execute_result"
    }
   ],
   "source": [
    "place.tail()"
   ]
  },
  {
   "cell_type": "code",
   "execution_count": 203,
   "metadata": {},
   "outputs": [
    {
     "ename": "KeyError",
     "evalue": "\"labels ['index'] not contained in axis\"",
     "output_type": "error",
     "traceback": [
      "\u001b[1;31m---------------------------------------------------------------------------\u001b[0m",
      "\u001b[1;31mKeyError\u001b[0m                                  Traceback (most recent call last)",
      "\u001b[1;32m<ipython-input-203-ebcae5c1e89b>\u001b[0m in \u001b[0;36m<module>\u001b[1;34m()\u001b[0m\n\u001b[1;32m----> 1\u001b[1;33m \u001b[0mplace\u001b[0m\u001b[1;33m.\u001b[0m\u001b[0mdrop\u001b[0m\u001b[1;33m(\u001b[0m\u001b[0mcolumns\u001b[0m\u001b[1;33m=\u001b[0m\u001b[1;33m[\u001b[0m\u001b[1;34m\"index\"\u001b[0m\u001b[1;33m]\u001b[0m\u001b[1;33m,\u001b[0m \u001b[0minplace\u001b[0m\u001b[1;33m=\u001b[0m \u001b[1;32mTrue\u001b[0m\u001b[1;33m)\u001b[0m\u001b[1;33m\u001b[0m\u001b[0m\n\u001b[0m",
      "\u001b[1;32m~\\Anaconda3\\lib\\site-packages\\pandas\\core\\frame.py\u001b[0m in \u001b[0;36mdrop\u001b[1;34m(self, labels, axis, index, columns, level, inplace, errors)\u001b[0m\n\u001b[0;32m   3692\u001b[0m                                            \u001b[0mindex\u001b[0m\u001b[1;33m=\u001b[0m\u001b[0mindex\u001b[0m\u001b[1;33m,\u001b[0m \u001b[0mcolumns\u001b[0m\u001b[1;33m=\u001b[0m\u001b[0mcolumns\u001b[0m\u001b[1;33m,\u001b[0m\u001b[1;33m\u001b[0m\u001b[0m\n\u001b[0;32m   3693\u001b[0m                                            \u001b[0mlevel\u001b[0m\u001b[1;33m=\u001b[0m\u001b[0mlevel\u001b[0m\u001b[1;33m,\u001b[0m \u001b[0minplace\u001b[0m\u001b[1;33m=\u001b[0m\u001b[0minplace\u001b[0m\u001b[1;33m,\u001b[0m\u001b[1;33m\u001b[0m\u001b[0m\n\u001b[1;32m-> 3694\u001b[1;33m                                            errors=errors)\n\u001b[0m\u001b[0;32m   3695\u001b[0m \u001b[1;33m\u001b[0m\u001b[0m\n\u001b[0;32m   3696\u001b[0m     @rewrite_axis_style_signature('mapper', [('copy', True),\n",
      "\u001b[1;32m~\\Anaconda3\\lib\\site-packages\\pandas\\core\\generic.py\u001b[0m in \u001b[0;36mdrop\u001b[1;34m(self, labels, axis, index, columns, level, inplace, errors)\u001b[0m\n\u001b[0;32m   3106\u001b[0m         \u001b[1;32mfor\u001b[0m \u001b[0maxis\u001b[0m\u001b[1;33m,\u001b[0m \u001b[0mlabels\u001b[0m \u001b[1;32min\u001b[0m \u001b[0maxes\u001b[0m\u001b[1;33m.\u001b[0m\u001b[0mitems\u001b[0m\u001b[1;33m(\u001b[0m\u001b[1;33m)\u001b[0m\u001b[1;33m:\u001b[0m\u001b[1;33m\u001b[0m\u001b[0m\n\u001b[0;32m   3107\u001b[0m             \u001b[1;32mif\u001b[0m \u001b[0mlabels\u001b[0m \u001b[1;32mis\u001b[0m \u001b[1;32mnot\u001b[0m \u001b[1;32mNone\u001b[0m\u001b[1;33m:\u001b[0m\u001b[1;33m\u001b[0m\u001b[0m\n\u001b[1;32m-> 3108\u001b[1;33m                 \u001b[0mobj\u001b[0m \u001b[1;33m=\u001b[0m \u001b[0mobj\u001b[0m\u001b[1;33m.\u001b[0m\u001b[0m_drop_axis\u001b[0m\u001b[1;33m(\u001b[0m\u001b[0mlabels\u001b[0m\u001b[1;33m,\u001b[0m \u001b[0maxis\u001b[0m\u001b[1;33m,\u001b[0m \u001b[0mlevel\u001b[0m\u001b[1;33m=\u001b[0m\u001b[0mlevel\u001b[0m\u001b[1;33m,\u001b[0m \u001b[0merrors\u001b[0m\u001b[1;33m=\u001b[0m\u001b[0merrors\u001b[0m\u001b[1;33m)\u001b[0m\u001b[1;33m\u001b[0m\u001b[0m\n\u001b[0m\u001b[0;32m   3109\u001b[0m \u001b[1;33m\u001b[0m\u001b[0m\n\u001b[0;32m   3110\u001b[0m         \u001b[1;32mif\u001b[0m \u001b[0minplace\u001b[0m\u001b[1;33m:\u001b[0m\u001b[1;33m\u001b[0m\u001b[0m\n",
      "\u001b[1;32m~\\Anaconda3\\lib\\site-packages\\pandas\\core\\generic.py\u001b[0m in \u001b[0;36m_drop_axis\u001b[1;34m(self, labels, axis, level, errors)\u001b[0m\n\u001b[0;32m   3138\u001b[0m                 \u001b[0mnew_axis\u001b[0m \u001b[1;33m=\u001b[0m \u001b[0maxis\u001b[0m\u001b[1;33m.\u001b[0m\u001b[0mdrop\u001b[0m\u001b[1;33m(\u001b[0m\u001b[0mlabels\u001b[0m\u001b[1;33m,\u001b[0m \u001b[0mlevel\u001b[0m\u001b[1;33m=\u001b[0m\u001b[0mlevel\u001b[0m\u001b[1;33m,\u001b[0m \u001b[0merrors\u001b[0m\u001b[1;33m=\u001b[0m\u001b[0merrors\u001b[0m\u001b[1;33m)\u001b[0m\u001b[1;33m\u001b[0m\u001b[0m\n\u001b[0;32m   3139\u001b[0m             \u001b[1;32melse\u001b[0m\u001b[1;33m:\u001b[0m\u001b[1;33m\u001b[0m\u001b[0m\n\u001b[1;32m-> 3140\u001b[1;33m                 \u001b[0mnew_axis\u001b[0m \u001b[1;33m=\u001b[0m \u001b[0maxis\u001b[0m\u001b[1;33m.\u001b[0m\u001b[0mdrop\u001b[0m\u001b[1;33m(\u001b[0m\u001b[0mlabels\u001b[0m\u001b[1;33m,\u001b[0m \u001b[0merrors\u001b[0m\u001b[1;33m=\u001b[0m\u001b[0merrors\u001b[0m\u001b[1;33m)\u001b[0m\u001b[1;33m\u001b[0m\u001b[0m\n\u001b[0m\u001b[0;32m   3141\u001b[0m             \u001b[0mdropped\u001b[0m \u001b[1;33m=\u001b[0m \u001b[0mself\u001b[0m\u001b[1;33m.\u001b[0m\u001b[0mreindex\u001b[0m\u001b[1;33m(\u001b[0m\u001b[1;33m**\u001b[0m\u001b[1;33m{\u001b[0m\u001b[0maxis_name\u001b[0m\u001b[1;33m:\u001b[0m \u001b[0mnew_axis\u001b[0m\u001b[1;33m}\u001b[0m\u001b[1;33m)\u001b[0m\u001b[1;33m\u001b[0m\u001b[0m\n\u001b[0;32m   3142\u001b[0m             \u001b[1;32mtry\u001b[0m\u001b[1;33m:\u001b[0m\u001b[1;33m\u001b[0m\u001b[0m\n",
      "\u001b[1;32m~\\Anaconda3\\lib\\site-packages\\pandas\\core\\indexes\\base.py\u001b[0m in \u001b[0;36mdrop\u001b[1;34m(self, labels, errors)\u001b[0m\n\u001b[0;32m   4385\u001b[0m             \u001b[1;32mif\u001b[0m \u001b[0merrors\u001b[0m \u001b[1;33m!=\u001b[0m \u001b[1;34m'ignore'\u001b[0m\u001b[1;33m:\u001b[0m\u001b[1;33m\u001b[0m\u001b[0m\n\u001b[0;32m   4386\u001b[0m                 raise KeyError(\n\u001b[1;32m-> 4387\u001b[1;33m                     'labels %s not contained in axis' % labels[mask])\n\u001b[0m\u001b[0;32m   4388\u001b[0m             \u001b[0mindexer\u001b[0m \u001b[1;33m=\u001b[0m \u001b[0mindexer\u001b[0m\u001b[1;33m[\u001b[0m\u001b[1;33m~\u001b[0m\u001b[0mmask\u001b[0m\u001b[1;33m]\u001b[0m\u001b[1;33m\u001b[0m\u001b[0m\n\u001b[0;32m   4389\u001b[0m         \u001b[1;32mreturn\u001b[0m \u001b[0mself\u001b[0m\u001b[1;33m.\u001b[0m\u001b[0mdelete\u001b[0m\u001b[1;33m(\u001b[0m\u001b[0mindexer\u001b[0m\u001b[1;33m)\u001b[0m\u001b[1;33m\u001b[0m\u001b[0m\n",
      "\u001b[1;31mKeyError\u001b[0m: \"labels ['index'] not contained in axis\""
     ]
    }
   ],
   "source": [
    "place.drop(columns=[\"index\"], inplace= True)"
   ]
  },
  {
   "cell_type": "code",
   "execution_count": 206,
   "metadata": {},
   "outputs": [
    {
     "name": "stdout",
     "output_type": "stream",
     "text": [
      "<class 'pandas.core.frame.DataFrame'>\n",
      "RangeIndex: 8328 entries, 0 to 8327\n",
      "Data columns (total 6 columns):\n",
      "place_id         8328 non-null int64\n",
      "place_name       8327 non-null object\n",
      "lat              8328 non-null float64\n",
      "lng              8328 non-null float64\n",
      "place_address    8328 non-null object\n",
      "category         8328 non-null object\n",
      "dtypes: float64(2), int64(1), object(3)\n",
      "memory usage: 390.5+ KB\n"
     ]
    }
   ],
   "source": [
    "place.info()"
   ]
  },
  {
   "cell_type": "code",
   "execution_count": 190,
   "metadata": {},
   "outputs": [
    {
     "data": {
      "text/html": [
       "<div>\n",
       "<style scoped>\n",
       "    .dataframe tbody tr th:only-of-type {\n",
       "        vertical-align: middle;\n",
       "    }\n",
       "\n",
       "    .dataframe tbody tr th {\n",
       "        vertical-align: top;\n",
       "    }\n",
       "\n",
       "    .dataframe thead th {\n",
       "        text-align: right;\n",
       "    }\n",
       "</style>\n",
       "<table border=\"1\" class=\"dataframe\">\n",
       "  <thead>\n",
       "    <tr style=\"text-align: right;\">\n",
       "      <th></th>\n",
       "      <th>place_id</th>\n",
       "      <th>place_name</th>\n",
       "      <th>lat</th>\n",
       "      <th>lng</th>\n",
       "      <th>place_address</th>\n",
       "      <th>category</th>\n",
       "    </tr>\n",
       "  </thead>\n",
       "  <tbody>\n",
       "    <tr>\n",
       "      <th>0</th>\n",
       "      <td>0</td>\n",
       "      <td>가락시장역역</td>\n",
       "      <td>37.492317</td>\n",
       "      <td>127.118104</td>\n",
       "      <td>서울특별시 송파구</td>\n",
       "      <td>지하철</td>\n",
       "    </tr>\n",
       "    <tr>\n",
       "      <th>1</th>\n",
       "      <td>1</td>\n",
       "      <td>가산디지털단지역역</td>\n",
       "      <td>37.480890</td>\n",
       "      <td>126.882574</td>\n",
       "      <td>서울특별시 금천구</td>\n",
       "      <td>지하철</td>\n",
       "    </tr>\n",
       "    <tr>\n",
       "      <th>2</th>\n",
       "      <td>3</td>\n",
       "      <td>강남역역</td>\n",
       "      <td>37.497942</td>\n",
       "      <td>127.027621</td>\n",
       "      <td>서울특별시 강남구</td>\n",
       "      <td>지하철</td>\n",
       "    </tr>\n",
       "    <tr>\n",
       "      <th>3</th>\n",
       "      <td>5</td>\n",
       "      <td>강동역역</td>\n",
       "      <td>37.535940</td>\n",
       "      <td>127.132187</td>\n",
       "      <td>서울특별시 강동구</td>\n",
       "      <td>지하철</td>\n",
       "    </tr>\n",
       "    <tr>\n",
       "      <th>4</th>\n",
       "      <td>7</td>\n",
       "      <td>강변역역</td>\n",
       "      <td>37.535144</td>\n",
       "      <td>127.094672</td>\n",
       "      <td>서울특별시 광진구</td>\n",
       "      <td>지하철</td>\n",
       "    </tr>\n",
       "  </tbody>\n",
       "</table>\n",
       "</div>"
      ],
      "text/plain": [
       "   place_id place_name        lat         lng place_address category\n",
       "0         0     가락시장역역  37.492317  127.118104     서울특별시 송파구      지하철\n",
       "1         1  가산디지털단지역역  37.480890  126.882574     서울특별시 금천구      지하철\n",
       "2         3       강남역역  37.497942  127.027621     서울특별시 강남구      지하철\n",
       "3         5       강동역역  37.535940  127.132187     서울특별시 강동구      지하철\n",
       "4         7       강변역역  37.535144  127.094672     서울특별시 광진구      지하철"
      ]
     },
     "execution_count": 190,
     "metadata": {},
     "output_type": "execute_result"
    }
   ],
   "source": [
    "place.head()"
   ]
  },
  {
   "cell_type": "code",
   "execution_count": 191,
   "metadata": {},
   "outputs": [
    {
     "data": {
      "text/html": [
       "<div>\n",
       "<style scoped>\n",
       "    .dataframe tbody tr th:only-of-type {\n",
       "        vertical-align: middle;\n",
       "    }\n",
       "\n",
       "    .dataframe tbody tr th {\n",
       "        vertical-align: top;\n",
       "    }\n",
       "\n",
       "    .dataframe thead th {\n",
       "        text-align: right;\n",
       "    }\n",
       "</style>\n",
       "<table border=\"1\" class=\"dataframe\">\n",
       "  <thead>\n",
       "    <tr style=\"text-align: right;\">\n",
       "      <th></th>\n",
       "      <th>place_id</th>\n",
       "      <th>place_name</th>\n",
       "      <th>lat</th>\n",
       "      <th>lng</th>\n",
       "      <th>place_address</th>\n",
       "      <th>category</th>\n",
       "    </tr>\n",
       "  </thead>\n",
       "  <tbody>\n",
       "    <tr>\n",
       "      <th>8323</th>\n",
       "      <td>31094</td>\n",
       "      <td>양재천(영동2교둑마루) 화장실</td>\n",
       "      <td>37.473464</td>\n",
       "      <td>127.035751</td>\n",
       "      <td>서울특별시 서초구 양재동 126-1</td>\n",
       "      <td>공중화장실</td>\n",
       "    </tr>\n",
       "    <tr>\n",
       "      <th>8324</th>\n",
       "      <td>31095</td>\n",
       "      <td>양재천무인자동화장실(교총삼거리둑마루) 화장실</td>\n",
       "      <td>37.476623</td>\n",
       "      <td>127.041509</td>\n",
       "      <td>서울특별시 서초구 양재동 261-23</td>\n",
       "      <td>공중화장실</td>\n",
       "    </tr>\n",
       "    <tr>\n",
       "      <th>8325</th>\n",
       "      <td>31096</td>\n",
       "      <td>살곶이 진출 화장실</td>\n",
       "      <td>37.468269</td>\n",
       "      <td>127.028713</td>\n",
       "      <td>서울특별시 서초구 우면동 143-6</td>\n",
       "      <td>공중화장실</td>\n",
       "    </tr>\n",
       "    <tr>\n",
       "      <th>8326</th>\n",
       "      <td>31098</td>\n",
       "      <td>자전거체험장 화장실</td>\n",
       "      <td>37.553132</td>\n",
       "      <td>127.028349</td>\n",
       "      <td>서울특별시 성동구 사근동 102-28</td>\n",
       "      <td>공중화장실</td>\n",
       "    </tr>\n",
       "    <tr>\n",
       "      <th>8327</th>\n",
       "      <td>31103</td>\n",
       "      <td>NaN</td>\n",
       "      <td>37.553973</td>\n",
       "      <td>127.046326</td>\n",
       "      <td>서울특별시 성동구 마장동 811</td>\n",
       "      <td>공중화장실</td>\n",
       "    </tr>\n",
       "  </tbody>\n",
       "</table>\n",
       "</div>"
      ],
      "text/plain": [
       "      place_id                place_name        lat         lng  \\\n",
       "8323     31094          양재천(영동2교둑마루) 화장실  37.473464  127.035751   \n",
       "8324     31095  양재천무인자동화장실(교총삼거리둑마루) 화장실  37.476623  127.041509   \n",
       "8325     31096                살곶이 진출 화장실  37.468269  127.028713   \n",
       "8326     31098                자전거체험장 화장실  37.553132  127.028349   \n",
       "8327     31103                       NaN  37.553973  127.046326   \n",
       "\n",
       "             place_address category  \n",
       "8323   서울특별시 서초구 양재동 126-1    공중화장실  \n",
       "8324  서울특별시 서초구 양재동 261-23    공중화장실  \n",
       "8325   서울특별시 서초구 우면동 143-6    공중화장실  \n",
       "8326  서울특별시 성동구 사근동 102-28    공중화장실  \n",
       "8327     서울특별시 성동구 마장동 811    공중화장실  "
      ]
     },
     "execution_count": 191,
     "metadata": {},
     "output_type": "execute_result"
    }
   ],
   "source": [
    "place.tail()"
   ]
  },
  {
   "cell_type": "code",
   "execution_count": null,
   "metadata": {},
   "outputs": [],
   "source": []
  },
  {
   "cell_type": "code",
   "execution_count": 128,
   "metadata": {},
   "outputs": [],
   "source": [
    "place.to_csv('place.csv')"
   ]
  },
  {
   "cell_type": "code",
   "execution_count": null,
   "metadata": {},
   "outputs": [],
   "source": []
  },
  {
   "cell_type": "markdown",
   "metadata": {},
   "source": [
    "# lat lon 이 매우 ,근접한 데이터 지우기 "
   ]
  },
  {
   "cell_type": "code",
   "execution_count": 133,
   "metadata": {},
   "outputs": [],
   "source": [
    "test = place[place.place_name.str.contains('보문동')]"
   ]
  },
  {
   "cell_type": "code",
   "execution_count": 137,
   "metadata": {},
   "outputs": [
    {
     "data": {
      "text/html": [
       "<div>\n",
       "<style scoped>\n",
       "    .dataframe tbody tr th:only-of-type {\n",
       "        vertical-align: middle;\n",
       "    }\n",
       "\n",
       "    .dataframe tbody tr th {\n",
       "        vertical-align: top;\n",
       "    }\n",
       "\n",
       "    .dataframe thead th {\n",
       "        text-align: right;\n",
       "    }\n",
       "</style>\n",
       "<table border=\"1\" class=\"dataframe\">\n",
       "  <thead>\n",
       "    <tr style=\"text-align: right;\">\n",
       "      <th></th>\n",
       "      <th>place_id</th>\n",
       "      <th>place_name</th>\n",
       "      <th>lat</th>\n",
       "      <th>lng</th>\n",
       "      <th>place_address</th>\n",
       "      <th>category</th>\n",
       "    </tr>\n",
       "  </thead>\n",
       "  <tbody>\n",
       "    <tr>\n",
       "      <th>1229</th>\n",
       "      <td>11243</td>\n",
       "      <td>보문동주민센터</td>\n",
       "      <td>37.580380</td>\n",
       "      <td>127.022814</td>\n",
       "      <td>서울특별시 성북구 안암로3길  35</td>\n",
       "      <td>지역자치센터</td>\n",
       "    </tr>\n",
       "    <tr>\n",
       "      <th>7972</th>\n",
       "      <td>30715</td>\n",
       "      <td>보문동 화장실</td>\n",
       "      <td>37.584859</td>\n",
       "      <td>127.019911</td>\n",
       "      <td>서울특별시 성북구 보문동1가 147-36</td>\n",
       "      <td>공중화장실</td>\n",
       "    </tr>\n",
       "    <tr>\n",
       "      <th>8034</th>\n",
       "      <td>30779</td>\n",
       "      <td>보문동주민센터 화장실</td>\n",
       "      <td>37.580368</td>\n",
       "      <td>127.022787</td>\n",
       "      <td>서울특별시 성북구 보문동7가 108-1</td>\n",
       "      <td>공중화장실</td>\n",
       "    </tr>\n",
       "  </tbody>\n",
       "</table>\n",
       "</div>"
      ],
      "text/plain": [
       "      place_id   place_name        lat         lng           place_address  \\\n",
       "1229     11243      보문동주민센터  37.580380  127.022814     서울특별시 성북구 안암로3길  35   \n",
       "7972     30715      보문동 화장실  37.584859  127.019911  서울특별시 성북구 보문동1가 147-36   \n",
       "8034     30779  보문동주민센터 화장실  37.580368  127.022787   서울특별시 성북구 보문동7가 108-1   \n",
       "\n",
       "     category  \n",
       "1229   지역자치센터  \n",
       "7972    공중화장실  \n",
       "8034    공중화장실  "
      ]
     },
     "execution_count": 137,
     "metadata": {},
     "output_type": "execute_result"
    }
   ],
   "source": [
    "test"
   ]
  },
  {
   "cell_type": "code",
   "execution_count": 135,
   "metadata": {},
   "outputs": [],
   "source": [
    "\n",
    "import json\n",
    "import urllib.request\n",
    "import urllib.request\n",
    "import datetime\n",
    "import time\n",
    "import json\n",
    "\n",
    "\n",
    "def get_request_url(url):\n",
    "    \n",
    "    client_id=\"R63uNWNQiaTp1EeZl7bW\"\n",
    "    client_secret = \"1Im1JohssC\"\n",
    "    \n",
    "    req = urllib.request.Request(url)\n",
    "    req.add_header(\"X-Naver-Client-Id\", client_id)\n",
    "    req.add_header(\"X-Naver-Client-Secret\", client_secret)\n",
    "    try: \n",
    "        response = urllib.request.urlopen(req)\n",
    "        if response.getcode() == 200:\n",
    "#             print (\"[%s] Url Request Success\" % datetime.datetime.now())\n",
    "            return response.read().decode('utf-8')\n",
    "    except Exception as e:\n",
    "        print(e)\n",
    "        print(\"[%s] Error for URL : %s\" % (datetime.datetime.now(), url))\n",
    "        return None\n",
    "    \n",
    "def getGeoData(address):\n",
    "    \n",
    "    base = \"https://openapi.naver.com/v1/map/geocode\"\n",
    "    node = \"\"\n",
    "    parameters = \"?query=%s\" % urllib.parse.quote(address)\n",
    "    url = base + node + parameters\n",
    "    \n",
    "    retData = get_request_url(url)\n",
    "    \n",
    "    if (retData == None):\n",
    "        return None\n",
    "    else:\n",
    "        return json.loads(retData)\n",
    "\n",
    "\n"
   ]
  },
  {
   "cell_type": "code",
   "execution_count": 138,
   "metadata": {},
   "outputs": [
    {
     "data": {
      "text/plain": [
       "array(['서울특별시 성북구 안암로3길  35', '서울특별시 성북구 보문동1가 147-36',\n",
       "       '서울특별시 성북구 보문동7가 108-1'], dtype=object)"
      ]
     },
     "execution_count": 138,
     "metadata": {},
     "output_type": "execute_result"
    }
   ],
   "source": [
    "test.place_address.values"
   ]
  },
  {
   "cell_type": "code",
   "execution_count": 146,
   "metadata": {},
   "outputs": [],
   "source": [
    "\n",
    "lat= []\n",
    "lng = []\n",
    "count = 0\n",
    "for info_num,info in enumerate(test.place_address.values):\n",
    "    jsonResult = getGeoData(test.place_address.values[info_num])\n",
    "\n",
    "    try:\n",
    "        for item in jsonResult['result']['items']:\n",
    "\n",
    "            lat.append(str(item['point']['y']))\n",
    "            lng.append(str(item['point']['x']))\n",
    "    except Exception as e:\n",
    "        count+=1 \n",
    "        print(\"예외!!!!!!!!!!!!!!!!!!!!!!!!!!!!!!!!!!!!!!\")\n",
    "        print(test.loc[info_num,'place_address'])\n",
    "    #         lat.extend(test.loc[info_num,'lat'])\n",
    "    #         lng.extend(test.loc[info_num,'lng'])\n",
    "        print(e)"
   ]
  },
  {
   "cell_type": "code",
   "execution_count": 147,
   "metadata": {},
   "outputs": [],
   "source": [
    "# 3만번대 , 데이터이상함. "
   ]
  },
  {
   "cell_type": "code",
   "execution_count": 148,
   "metadata": {
    "scrolled": true
   },
   "outputs": [
    {
     "name": "stdout",
     "output_type": "stream",
     "text": [
      "['37.5803796', '37.584868', '37.5804089']\n"
     ]
    }
   ],
   "source": [
    "print(lat)"
   ]
  },
  {
   "cell_type": "code",
   "execution_count": 150,
   "metadata": {},
   "outputs": [
    {
     "name": "stdout",
     "output_type": "stream",
     "text": [
      "['127.0228138', '127.0199381', '127.0228679']\n"
     ]
    }
   ],
   "source": [
    "print(lng)"
   ]
  },
  {
   "cell_type": "code",
   "execution_count": 153,
   "metadata": {},
   "outputs": [
    {
     "data": {
      "text/plain": [
       "2.930000000134214e-05"
      ]
     },
     "execution_count": 153,
     "metadata": {},
     "output_type": "execute_result"
    }
   ],
   "source": [
    "float(lat[2]) - float(lat[0]) "
   ]
  },
  {
   "cell_type": "code",
   "execution_count": null,
   "metadata": {},
   "outputs": [],
   "source": [
    "# 0.000293 만큼"
   ]
  }
 ],
 "metadata": {
  "kernelspec": {
   "display_name": "Python 3",
   "language": "python",
   "name": "python3"
  },
  "language_info": {
   "codemirror_mode": {
    "name": "ipython",
    "version": 3
   },
   "file_extension": ".py",
   "mimetype": "text/x-python",
   "name": "python",
   "nbconvert_exporter": "python",
   "pygments_lexer": "ipython3",
   "version": "3.6.5"
  }
 },
 "nbformat": 4,
 "nbformat_minor": 2
}
