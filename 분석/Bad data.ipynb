{
 "cells": [
  {
   "cell_type": "markdown",
   "metadata": {},
   "source": [
    "# Place 데이터 중 bad data 정리하기"
   ]
  },
  {
   "cell_type": "code",
   "execution_count": 1,
   "metadata": {},
   "outputs": [],
   "source": [
    "import pandas as pd"
   ]
  },
  {
   "cell_type": "code",
   "execution_count": 2,
   "metadata": {},
   "outputs": [],
   "source": [
    "place  = pd.read_csv('place.csv')"
   ]
  },
  {
   "cell_type": "code",
   "execution_count": 3,
   "metadata": {},
   "outputs": [],
   "source": [
    "place.drop(columns=[\"Unnamed: 0\"], inplace= True)"
   ]
  },
  {
   "cell_type": "code",
   "execution_count": 4,
   "metadata": {
    "scrolled": true
   },
   "outputs": [
    {
     "name": "stdout",
     "output_type": "stream",
     "text": [
      "<class 'pandas.core.frame.DataFrame'>\n",
      "RangeIndex: 8328 entries, 0 to 8327\n",
      "Data columns (total 6 columns):\n",
      "place_id         8328 non-null int64\n",
      "place_name       8328 non-null object\n",
      "lat              8328 non-null float64\n",
      "lng              8328 non-null float64\n",
      "place_address    8328 non-null object\n",
      "category         8328 non-null object\n",
      "dtypes: float64(2), int64(1), object(3)\n",
      "memory usage: 390.5+ KB\n"
     ]
    }
   ],
   "source": [
    "place.info()"
   ]
  },
  {
   "cell_type": "code",
   "execution_count": 5,
   "metadata": {},
   "outputs": [],
   "source": [
    "# longitude 가 왼쪽 오른쪽을 좌우한다. "
   ]
  },
  {
   "cell_type": "code",
   "execution_count": 6,
   "metadata": {},
   "outputs": [],
   "source": [
    "place = place[place['lng']> 126.7737713]"
   ]
  },
  {
   "cell_type": "code",
   "execution_count": 7,
   "metadata": {},
   "outputs": [
    {
     "name": "stdout",
     "output_type": "stream",
     "text": [
      "<class 'pandas.core.frame.DataFrame'>\n",
      "Int64Index: 8328 entries, 0 to 8327\n",
      "Data columns (total 6 columns):\n",
      "place_id         8328 non-null int64\n",
      "place_name       8328 non-null object\n",
      "lat              8328 non-null float64\n",
      "lng              8328 non-null float64\n",
      "place_address    8328 non-null object\n",
      "category         8328 non-null object\n",
      "dtypes: float64(2), int64(1), object(3)\n",
      "memory usage: 455.4+ KB\n"
     ]
    }
   ],
   "source": [
    "place.info()"
   ]
  },
  {
   "cell_type": "code",
   "execution_count": 8,
   "metadata": {},
   "outputs": [
    {
     "data": {
      "text/html": [
       "<div>\n",
       "<style scoped>\n",
       "    .dataframe tbody tr th:only-of-type {\n",
       "        vertical-align: middle;\n",
       "    }\n",
       "\n",
       "    .dataframe tbody tr th {\n",
       "        vertical-align: top;\n",
       "    }\n",
       "\n",
       "    .dataframe thead th {\n",
       "        text-align: right;\n",
       "    }\n",
       "</style>\n",
       "<table border=\"1\" class=\"dataframe\">\n",
       "  <thead>\n",
       "    <tr style=\"text-align: right;\">\n",
       "      <th></th>\n",
       "      <th>place_id</th>\n",
       "      <th>place_name</th>\n",
       "      <th>lat</th>\n",
       "      <th>lng</th>\n",
       "      <th>place_address</th>\n",
       "      <th>category</th>\n",
       "    </tr>\n",
       "  </thead>\n",
       "  <tbody>\n",
       "  </tbody>\n",
       "</table>\n",
       "</div>"
      ],
      "text/plain": [
       "Empty DataFrame\n",
       "Columns: [place_id, place_name, lat, lng, place_address, category]\n",
       "Index: []"
      ]
     },
     "execution_count": 8,
     "metadata": {},
     "output_type": "execute_result"
    }
   ],
   "source": [
    "place[place['lat']< 37.434017]  # 시흥 편의점 37.434017, 126.904797"
   ]
  },
  {
   "cell_type": "code",
   "execution_count": 9,
   "metadata": {},
   "outputs": [],
   "source": [
    "place = place[place['lat']> 37.434017]"
   ]
  },
  {
   "cell_type": "code",
   "execution_count": 10,
   "metadata": {},
   "outputs": [
    {
     "data": {
      "text/html": [
       "<div>\n",
       "<style scoped>\n",
       "    .dataframe tbody tr th:only-of-type {\n",
       "        vertical-align: middle;\n",
       "    }\n",
       "\n",
       "    .dataframe tbody tr th {\n",
       "        vertical-align: top;\n",
       "    }\n",
       "\n",
       "    .dataframe thead th {\n",
       "        text-align: right;\n",
       "    }\n",
       "</style>\n",
       "<table border=\"1\" class=\"dataframe\">\n",
       "  <thead>\n",
       "    <tr style=\"text-align: right;\">\n",
       "      <th></th>\n",
       "      <th>place_id</th>\n",
       "      <th>place_name</th>\n",
       "      <th>lat</th>\n",
       "      <th>lng</th>\n",
       "      <th>place_address</th>\n",
       "      <th>category</th>\n",
       "    </tr>\n",
       "  </thead>\n",
       "  <tbody>\n",
       "  </tbody>\n",
       "</table>\n",
       "</div>"
      ],
      "text/plain": [
       "Empty DataFrame\n",
       "Columns: [place_id, place_name, lat, lng, place_address, category]\n",
       "Index: []"
      ]
     },
     "execution_count": 10,
     "metadata": {},
     "output_type": "execute_result"
    }
   ],
   "source": [
    "place[place['lng']> 127.376341] # 양평역 drop 하기 "
   ]
  },
  {
   "cell_type": "code",
   "execution_count": 11,
   "metadata": {},
   "outputs": [
    {
     "name": "stdout",
     "output_type": "stream",
     "text": [
      "<class 'pandas.core.frame.DataFrame'>\n",
      "Int64Index: 8328 entries, 0 to 8327\n",
      "Data columns (total 6 columns):\n",
      "place_id         8328 non-null int64\n",
      "place_name       8328 non-null object\n",
      "lat              8328 non-null float64\n",
      "lng              8328 non-null float64\n",
      "place_address    8328 non-null object\n",
      "category         8328 non-null object\n",
      "dtypes: float64(2), int64(1), object(3)\n",
      "memory usage: 455.4+ KB\n"
     ]
    }
   ],
   "source": [
    "place.info()"
   ]
  },
  {
   "cell_type": "code",
   "execution_count": 12,
   "metadata": {},
   "outputs": [],
   "source": [
    "place = place[place['lng']< 127.376341]"
   ]
  },
  {
   "cell_type": "code",
   "execution_count": 13,
   "metadata": {},
   "outputs": [
    {
     "name": "stdout",
     "output_type": "stream",
     "text": [
      "<class 'pandas.core.frame.DataFrame'>\n",
      "Int64Index: 8328 entries, 0 to 8327\n",
      "Data columns (total 6 columns):\n",
      "place_id         8328 non-null int64\n",
      "place_name       8328 non-null object\n",
      "lat              8328 non-null float64\n",
      "lng              8328 non-null float64\n",
      "place_address    8328 non-null object\n",
      "category         8328 non-null object\n",
      "dtypes: float64(2), int64(1), object(3)\n",
      "memory usage: 455.4+ KB\n"
     ]
    }
   ],
   "source": [
    "place.info()"
   ]
  },
  {
   "cell_type": "code",
   "execution_count": 14,
   "metadata": {
    "scrolled": true
   },
   "outputs": [
    {
     "data": {
      "text/html": [
       "<div>\n",
       "<style scoped>\n",
       "    .dataframe tbody tr th:only-of-type {\n",
       "        vertical-align: middle;\n",
       "    }\n",
       "\n",
       "    .dataframe tbody tr th {\n",
       "        vertical-align: top;\n",
       "    }\n",
       "\n",
       "    .dataframe thead th {\n",
       "        text-align: right;\n",
       "    }\n",
       "</style>\n",
       "<table border=\"1\" class=\"dataframe\">\n",
       "  <thead>\n",
       "    <tr style=\"text-align: right;\">\n",
       "      <th></th>\n",
       "      <th>place_id</th>\n",
       "      <th>place_name</th>\n",
       "      <th>lat</th>\n",
       "      <th>lng</th>\n",
       "      <th>place_address</th>\n",
       "      <th>category</th>\n",
       "    </tr>\n",
       "  </thead>\n",
       "  <tbody>\n",
       "    <tr>\n",
       "      <th>8323</th>\n",
       "      <td>31094</td>\n",
       "      <td>양재천수영장 화장실</td>\n",
       "      <td>37.473464</td>\n",
       "      <td>127.035751</td>\n",
       "      <td>서울특별시 서초구 양재동 126-1</td>\n",
       "      <td>공중화장실</td>\n",
       "    </tr>\n",
       "    <tr>\n",
       "      <th>8324</th>\n",
       "      <td>31095</td>\n",
       "      <td>양재천(영동2교둑마루) 화장실</td>\n",
       "      <td>37.476623</td>\n",
       "      <td>127.041509</td>\n",
       "      <td>서울특별시 서초구 양재동 261-23</td>\n",
       "      <td>공중화장실</td>\n",
       "    </tr>\n",
       "    <tr>\n",
       "      <th>8325</th>\n",
       "      <td>31096</td>\n",
       "      <td>양재천무인자동화장실(교총삼거리둑마루) 화장실</td>\n",
       "      <td>37.468269</td>\n",
       "      <td>127.028713</td>\n",
       "      <td>서울특별시 서초구 우면동 143-6</td>\n",
       "      <td>공중화장실</td>\n",
       "    </tr>\n",
       "    <tr>\n",
       "      <th>8326</th>\n",
       "      <td>31098</td>\n",
       "      <td>살곶이 진출 화장실</td>\n",
       "      <td>37.553132</td>\n",
       "      <td>127.028349</td>\n",
       "      <td>서울특별시 성동구 사근동 102-28</td>\n",
       "      <td>공중화장실</td>\n",
       "    </tr>\n",
       "    <tr>\n",
       "      <th>8327</th>\n",
       "      <td>31103</td>\n",
       "      <td>자전거체험장 화장실</td>\n",
       "      <td>37.553973</td>\n",
       "      <td>127.046326</td>\n",
       "      <td>서울특별시 성동구 마장동 811</td>\n",
       "      <td>공중화장실</td>\n",
       "    </tr>\n",
       "  </tbody>\n",
       "</table>\n",
       "</div>"
      ],
      "text/plain": [
       "      place_id                place_name        lat         lng  \\\n",
       "8323     31094                양재천수영장 화장실  37.473464  127.035751   \n",
       "8324     31095          양재천(영동2교둑마루) 화장실  37.476623  127.041509   \n",
       "8325     31096  양재천무인자동화장실(교총삼거리둑마루) 화장실  37.468269  127.028713   \n",
       "8326     31098                살곶이 진출 화장실  37.553132  127.028349   \n",
       "8327     31103                자전거체험장 화장실  37.553973  127.046326   \n",
       "\n",
       "             place_address category  \n",
       "8323   서울특별시 서초구 양재동 126-1    공중화장실  \n",
       "8324  서울특별시 서초구 양재동 261-23    공중화장실  \n",
       "8325   서울특별시 서초구 우면동 143-6    공중화장실  \n",
       "8326  서울특별시 성동구 사근동 102-28    공중화장실  \n",
       "8327     서울특별시 성동구 마장동 811    공중화장실  "
      ]
     },
     "execution_count": 14,
     "metadata": {},
     "output_type": "execute_result"
    }
   ],
   "source": [
    "place.tail()"
   ]
  },
  {
   "cell_type": "markdown",
   "metadata": {},
   "source": [
    "# 지하철 이름 바꾸기"
   ]
  },
  {
   "cell_type": "code",
   "execution_count": 15,
   "metadata": {},
   "outputs": [
    {
     "data": {
      "text/html": [
       "<div>\n",
       "<style scoped>\n",
       "    .dataframe tbody tr th:only-of-type {\n",
       "        vertical-align: middle;\n",
       "    }\n",
       "\n",
       "    .dataframe tbody tr th {\n",
       "        vertical-align: top;\n",
       "    }\n",
       "\n",
       "    .dataframe thead th {\n",
       "        text-align: right;\n",
       "    }\n",
       "</style>\n",
       "<table border=\"1\" class=\"dataframe\">\n",
       "  <thead>\n",
       "    <tr style=\"text-align: right;\">\n",
       "      <th></th>\n",
       "      <th>place_id</th>\n",
       "      <th>place_name</th>\n",
       "      <th>lat</th>\n",
       "      <th>lng</th>\n",
       "      <th>place_address</th>\n",
       "      <th>category</th>\n",
       "    </tr>\n",
       "  </thead>\n",
       "  <tbody>\n",
       "    <tr>\n",
       "      <th>0</th>\n",
       "      <td>0</td>\n",
       "      <td>가락시장역역</td>\n",
       "      <td>37.492317</td>\n",
       "      <td>127.118104</td>\n",
       "      <td>서울특별시 송파구</td>\n",
       "      <td>지하철</td>\n",
       "    </tr>\n",
       "    <tr>\n",
       "      <th>1</th>\n",
       "      <td>1</td>\n",
       "      <td>가산디지털단지역역</td>\n",
       "      <td>37.480890</td>\n",
       "      <td>126.882574</td>\n",
       "      <td>서울특별시 금천구</td>\n",
       "      <td>지하철</td>\n",
       "    </tr>\n",
       "    <tr>\n",
       "      <th>2</th>\n",
       "      <td>3</td>\n",
       "      <td>강남역역</td>\n",
       "      <td>37.497942</td>\n",
       "      <td>127.027621</td>\n",
       "      <td>서울특별시 강남구</td>\n",
       "      <td>지하철</td>\n",
       "    </tr>\n",
       "    <tr>\n",
       "      <th>3</th>\n",
       "      <td>5</td>\n",
       "      <td>강동역역</td>\n",
       "      <td>37.535940</td>\n",
       "      <td>127.132187</td>\n",
       "      <td>서울특별시 강동구</td>\n",
       "      <td>지하철</td>\n",
       "    </tr>\n",
       "    <tr>\n",
       "      <th>4</th>\n",
       "      <td>7</td>\n",
       "      <td>강변역역</td>\n",
       "      <td>37.535144</td>\n",
       "      <td>127.094672</td>\n",
       "      <td>서울특별시 광진구</td>\n",
       "      <td>지하철</td>\n",
       "    </tr>\n",
       "  </tbody>\n",
       "</table>\n",
       "</div>"
      ],
      "text/plain": [
       "   place_id place_name        lat         lng place_address category\n",
       "0         0     가락시장역역  37.492317  127.118104     서울특별시 송파구      지하철\n",
       "1         1  가산디지털단지역역  37.480890  126.882574     서울특별시 금천구      지하철\n",
       "2         3       강남역역  37.497942  127.027621     서울특별시 강남구      지하철\n",
       "3         5       강동역역  37.535940  127.132187     서울특별시 강동구      지하철\n",
       "4         7       강변역역  37.535144  127.094672     서울특별시 광진구      지하철"
      ]
     },
     "execution_count": 15,
     "metadata": {},
     "output_type": "execute_result"
    }
   ],
   "source": [
    "place[place.category.str.contains(\"지하철\")].head()"
   ]
  },
  {
   "cell_type": "code",
   "execution_count": 18,
   "metadata": {
    "scrolled": true
   },
   "outputs": [],
   "source": [
    "dd = place[place.category.str.contains(\"지하철\")].place_name.apply(lambda x: x.replace(\"역역\",\"역\"))"
   ]
  },
  {
   "cell_type": "code",
   "execution_count": 19,
   "metadata": {},
   "outputs": [],
   "source": [
    "place.reset_index(inplace=True)"
   ]
  },
  {
   "cell_type": "code",
   "execution_count": 20,
   "metadata": {},
   "outputs": [
    {
     "data": {
      "text/html": [
       "<div>\n",
       "<style scoped>\n",
       "    .dataframe tbody tr th:only-of-type {\n",
       "        vertical-align: middle;\n",
       "    }\n",
       "\n",
       "    .dataframe tbody tr th {\n",
       "        vertical-align: top;\n",
       "    }\n",
       "\n",
       "    .dataframe thead th {\n",
       "        text-align: right;\n",
       "    }\n",
       "</style>\n",
       "<table border=\"1\" class=\"dataframe\">\n",
       "  <thead>\n",
       "    <tr style=\"text-align: right;\">\n",
       "      <th></th>\n",
       "      <th>index</th>\n",
       "      <th>place_id</th>\n",
       "      <th>place_name</th>\n",
       "      <th>lat</th>\n",
       "      <th>lng</th>\n",
       "      <th>place_address</th>\n",
       "      <th>category</th>\n",
       "    </tr>\n",
       "  </thead>\n",
       "  <tbody>\n",
       "    <tr>\n",
       "      <th>0</th>\n",
       "      <td>0</td>\n",
       "      <td>0</td>\n",
       "      <td>가락시장역역</td>\n",
       "      <td>37.492317</td>\n",
       "      <td>127.118104</td>\n",
       "      <td>서울특별시 송파구</td>\n",
       "      <td>지하철</td>\n",
       "    </tr>\n",
       "    <tr>\n",
       "      <th>1</th>\n",
       "      <td>1</td>\n",
       "      <td>1</td>\n",
       "      <td>가산디지털단지역역</td>\n",
       "      <td>37.480890</td>\n",
       "      <td>126.882574</td>\n",
       "      <td>서울특별시 금천구</td>\n",
       "      <td>지하철</td>\n",
       "    </tr>\n",
       "    <tr>\n",
       "      <th>2</th>\n",
       "      <td>2</td>\n",
       "      <td>3</td>\n",
       "      <td>강남역역</td>\n",
       "      <td>37.497942</td>\n",
       "      <td>127.027621</td>\n",
       "      <td>서울특별시 강남구</td>\n",
       "      <td>지하철</td>\n",
       "    </tr>\n",
       "    <tr>\n",
       "      <th>3</th>\n",
       "      <td>3</td>\n",
       "      <td>5</td>\n",
       "      <td>강동역역</td>\n",
       "      <td>37.535940</td>\n",
       "      <td>127.132187</td>\n",
       "      <td>서울특별시 강동구</td>\n",
       "      <td>지하철</td>\n",
       "    </tr>\n",
       "    <tr>\n",
       "      <th>4</th>\n",
       "      <td>4</td>\n",
       "      <td>7</td>\n",
       "      <td>강변역역</td>\n",
       "      <td>37.535144</td>\n",
       "      <td>127.094672</td>\n",
       "      <td>서울특별시 광진구</td>\n",
       "      <td>지하철</td>\n",
       "    </tr>\n",
       "  </tbody>\n",
       "</table>\n",
       "</div>"
      ],
      "text/plain": [
       "   index  place_id place_name        lat         lng place_address category\n",
       "0      0         0     가락시장역역  37.492317  127.118104     서울특별시 송파구      지하철\n",
       "1      1         1  가산디지털단지역역  37.480890  126.882574     서울특별시 금천구      지하철\n",
       "2      2         3       강남역역  37.497942  127.027621     서울특별시 강남구      지하철\n",
       "3      3         5       강동역역  37.535940  127.132187     서울특별시 강동구      지하철\n",
       "4      4         7       강변역역  37.535144  127.094672     서울특별시 광진구      지하철"
      ]
     },
     "execution_count": 20,
     "metadata": {},
     "output_type": "execute_result"
    }
   ],
   "source": [
    "place.head()"
   ]
  },
  {
   "cell_type": "code",
   "execution_count": 21,
   "metadata": {},
   "outputs": [],
   "source": [
    "ff = place.loc[208:,'place_name']"
   ]
  },
  {
   "cell_type": "code",
   "execution_count": 22,
   "metadata": {},
   "outputs": [],
   "source": [
    "total_ = [] "
   ]
  },
  {
   "cell_type": "code",
   "execution_count": 23,
   "metadata": {},
   "outputs": [],
   "source": [
    "for i in dd:\n",
    "    total_.append(i)"
   ]
  },
  {
   "cell_type": "code",
   "execution_count": 24,
   "metadata": {},
   "outputs": [],
   "source": [
    "for i in ff:\n",
    "    total_.append(i)"
   ]
  },
  {
   "cell_type": "code",
   "execution_count": 25,
   "metadata": {
    "scrolled": true
   },
   "outputs": [
    {
     "data": {
      "text/plain": [
       "8328"
      ]
     },
     "execution_count": 25,
     "metadata": {},
     "output_type": "execute_result"
    }
   ],
   "source": [
    "len(total_)"
   ]
  },
  {
   "cell_type": "code",
   "execution_count": 26,
   "metadata": {},
   "outputs": [
    {
     "data": {
      "text/plain": [
       "8328"
      ]
     },
     "execution_count": 26,
     "metadata": {},
     "output_type": "execute_result"
    }
   ],
   "source": [
    "len(total_)"
   ]
  },
  {
   "cell_type": "code",
   "execution_count": 27,
   "metadata": {},
   "outputs": [
    {
     "name": "stdout",
     "output_type": "stream",
     "text": [
      "<class 'pandas.core.frame.DataFrame'>\n",
      "RangeIndex: 8328 entries, 0 to 8327\n",
      "Data columns (total 7 columns):\n",
      "index            8328 non-null int64\n",
      "place_id         8328 non-null int64\n",
      "place_name       8328 non-null object\n",
      "lat              8328 non-null float64\n",
      "lng              8328 non-null float64\n",
      "place_address    8328 non-null object\n",
      "category         8328 non-null object\n",
      "dtypes: float64(2), int64(2), object(3)\n",
      "memory usage: 455.5+ KB\n"
     ]
    }
   ],
   "source": [
    "place.info()"
   ]
  },
  {
   "cell_type": "code",
   "execution_count": 28,
   "metadata": {},
   "outputs": [],
   "source": [
    "se= pd.Series(total_)"
   ]
  },
  {
   "cell_type": "code",
   "execution_count": 29,
   "metadata": {},
   "outputs": [],
   "source": [
    "place['place_name'] = se"
   ]
  },
  {
   "cell_type": "code",
   "execution_count": 30,
   "metadata": {},
   "outputs": [
    {
     "data": {
      "text/html": [
       "<div>\n",
       "<style scoped>\n",
       "    .dataframe tbody tr th:only-of-type {\n",
       "        vertical-align: middle;\n",
       "    }\n",
       "\n",
       "    .dataframe tbody tr th {\n",
       "        vertical-align: top;\n",
       "    }\n",
       "\n",
       "    .dataframe thead th {\n",
       "        text-align: right;\n",
       "    }\n",
       "</style>\n",
       "<table border=\"1\" class=\"dataframe\">\n",
       "  <thead>\n",
       "    <tr style=\"text-align: right;\">\n",
       "      <th></th>\n",
       "      <th>index</th>\n",
       "      <th>place_id</th>\n",
       "      <th>place_name</th>\n",
       "      <th>lat</th>\n",
       "      <th>lng</th>\n",
       "      <th>place_address</th>\n",
       "      <th>category</th>\n",
       "    </tr>\n",
       "  </thead>\n",
       "  <tbody>\n",
       "    <tr>\n",
       "      <th>0</th>\n",
       "      <td>0</td>\n",
       "      <td>0</td>\n",
       "      <td>가락시장역</td>\n",
       "      <td>37.492317</td>\n",
       "      <td>127.118104</td>\n",
       "      <td>서울특별시 송파구</td>\n",
       "      <td>지하철</td>\n",
       "    </tr>\n",
       "    <tr>\n",
       "      <th>1</th>\n",
       "      <td>1</td>\n",
       "      <td>1</td>\n",
       "      <td>가산디지털단지역</td>\n",
       "      <td>37.480890</td>\n",
       "      <td>126.882574</td>\n",
       "      <td>서울특별시 금천구</td>\n",
       "      <td>지하철</td>\n",
       "    </tr>\n",
       "    <tr>\n",
       "      <th>2</th>\n",
       "      <td>2</td>\n",
       "      <td>3</td>\n",
       "      <td>강남역</td>\n",
       "      <td>37.497942</td>\n",
       "      <td>127.027621</td>\n",
       "      <td>서울특별시 강남구</td>\n",
       "      <td>지하철</td>\n",
       "    </tr>\n",
       "    <tr>\n",
       "      <th>3</th>\n",
       "      <td>3</td>\n",
       "      <td>5</td>\n",
       "      <td>강동역</td>\n",
       "      <td>37.535940</td>\n",
       "      <td>127.132187</td>\n",
       "      <td>서울특별시 강동구</td>\n",
       "      <td>지하철</td>\n",
       "    </tr>\n",
       "    <tr>\n",
       "      <th>4</th>\n",
       "      <td>4</td>\n",
       "      <td>7</td>\n",
       "      <td>강변역</td>\n",
       "      <td>37.535144</td>\n",
       "      <td>127.094672</td>\n",
       "      <td>서울특별시 광진구</td>\n",
       "      <td>지하철</td>\n",
       "    </tr>\n",
       "  </tbody>\n",
       "</table>\n",
       "</div>"
      ],
      "text/plain": [
       "   index  place_id place_name        lat         lng place_address category\n",
       "0      0         0      가락시장역  37.492317  127.118104     서울특별시 송파구      지하철\n",
       "1      1         1   가산디지털단지역  37.480890  126.882574     서울특별시 금천구      지하철\n",
       "2      2         3        강남역  37.497942  127.027621     서울특별시 강남구      지하철\n",
       "3      3         5        강동역  37.535940  127.132187     서울특별시 강동구      지하철\n",
       "4      4         7        강변역  37.535144  127.094672     서울특별시 광진구      지하철"
      ]
     },
     "execution_count": 30,
     "metadata": {},
     "output_type": "execute_result"
    }
   ],
   "source": [
    "place.head()"
   ]
  },
  {
   "cell_type": "code",
   "execution_count": 31,
   "metadata": {},
   "outputs": [
    {
     "data": {
      "text/html": [
       "<div>\n",
       "<style scoped>\n",
       "    .dataframe tbody tr th:only-of-type {\n",
       "        vertical-align: middle;\n",
       "    }\n",
       "\n",
       "    .dataframe tbody tr th {\n",
       "        vertical-align: top;\n",
       "    }\n",
       "\n",
       "    .dataframe thead th {\n",
       "        text-align: right;\n",
       "    }\n",
       "</style>\n",
       "<table border=\"1\" class=\"dataframe\">\n",
       "  <thead>\n",
       "    <tr style=\"text-align: right;\">\n",
       "      <th></th>\n",
       "      <th>index</th>\n",
       "      <th>place_id</th>\n",
       "      <th>place_name</th>\n",
       "      <th>lat</th>\n",
       "      <th>lng</th>\n",
       "      <th>place_address</th>\n",
       "      <th>category</th>\n",
       "    </tr>\n",
       "  </thead>\n",
       "  <tbody>\n",
       "    <tr>\n",
       "      <th>8323</th>\n",
       "      <td>8323</td>\n",
       "      <td>31094</td>\n",
       "      <td>양재천수영장 화장실</td>\n",
       "      <td>37.473464</td>\n",
       "      <td>127.035751</td>\n",
       "      <td>서울특별시 서초구 양재동 126-1</td>\n",
       "      <td>공중화장실</td>\n",
       "    </tr>\n",
       "    <tr>\n",
       "      <th>8324</th>\n",
       "      <td>8324</td>\n",
       "      <td>31095</td>\n",
       "      <td>양재천(영동2교둑마루) 화장실</td>\n",
       "      <td>37.476623</td>\n",
       "      <td>127.041509</td>\n",
       "      <td>서울특별시 서초구 양재동 261-23</td>\n",
       "      <td>공중화장실</td>\n",
       "    </tr>\n",
       "    <tr>\n",
       "      <th>8325</th>\n",
       "      <td>8325</td>\n",
       "      <td>31096</td>\n",
       "      <td>양재천무인자동화장실(교총삼거리둑마루) 화장실</td>\n",
       "      <td>37.468269</td>\n",
       "      <td>127.028713</td>\n",
       "      <td>서울특별시 서초구 우면동 143-6</td>\n",
       "      <td>공중화장실</td>\n",
       "    </tr>\n",
       "    <tr>\n",
       "      <th>8326</th>\n",
       "      <td>8326</td>\n",
       "      <td>31098</td>\n",
       "      <td>살곶이 진출 화장실</td>\n",
       "      <td>37.553132</td>\n",
       "      <td>127.028349</td>\n",
       "      <td>서울특별시 성동구 사근동 102-28</td>\n",
       "      <td>공중화장실</td>\n",
       "    </tr>\n",
       "    <tr>\n",
       "      <th>8327</th>\n",
       "      <td>8327</td>\n",
       "      <td>31103</td>\n",
       "      <td>자전거체험장 화장실</td>\n",
       "      <td>37.553973</td>\n",
       "      <td>127.046326</td>\n",
       "      <td>서울특별시 성동구 마장동 811</td>\n",
       "      <td>공중화장실</td>\n",
       "    </tr>\n",
       "  </tbody>\n",
       "</table>\n",
       "</div>"
      ],
      "text/plain": [
       "      index  place_id                place_name        lat         lng  \\\n",
       "8323   8323     31094                양재천수영장 화장실  37.473464  127.035751   \n",
       "8324   8324     31095          양재천(영동2교둑마루) 화장실  37.476623  127.041509   \n",
       "8325   8325     31096  양재천무인자동화장실(교총삼거리둑마루) 화장실  37.468269  127.028713   \n",
       "8326   8326     31098                살곶이 진출 화장실  37.553132  127.028349   \n",
       "8327   8327     31103                자전거체험장 화장실  37.553973  127.046326   \n",
       "\n",
       "             place_address category  \n",
       "8323   서울특별시 서초구 양재동 126-1    공중화장실  \n",
       "8324  서울특별시 서초구 양재동 261-23    공중화장실  \n",
       "8325   서울특별시 서초구 우면동 143-6    공중화장실  \n",
       "8326  서울특별시 성동구 사근동 102-28    공중화장실  \n",
       "8327     서울특별시 성동구 마장동 811    공중화장실  "
      ]
     },
     "execution_count": 31,
     "metadata": {},
     "output_type": "execute_result"
    }
   ],
   "source": [
    "place.tail()"
   ]
  },
  {
   "cell_type": "code",
   "execution_count": 32,
   "metadata": {},
   "outputs": [],
   "source": [
    "place.drop(columns=[\"index\"], inplace= True)"
   ]
  },
  {
   "cell_type": "code",
   "execution_count": 33,
   "metadata": {},
   "outputs": [
    {
     "name": "stdout",
     "output_type": "stream",
     "text": [
      "<class 'pandas.core.frame.DataFrame'>\n",
      "RangeIndex: 8328 entries, 0 to 8327\n",
      "Data columns (total 6 columns):\n",
      "place_id         8328 non-null int64\n",
      "place_name       8328 non-null object\n",
      "lat              8328 non-null float64\n",
      "lng              8328 non-null float64\n",
      "place_address    8328 non-null object\n",
      "category         8328 non-null object\n",
      "dtypes: float64(2), int64(1), object(3)\n",
      "memory usage: 390.5+ KB\n"
     ]
    }
   ],
   "source": [
    "place.info()"
   ]
  },
  {
   "cell_type": "code",
   "execution_count": 34,
   "metadata": {},
   "outputs": [
    {
     "data": {
      "text/html": [
       "<div>\n",
       "<style scoped>\n",
       "    .dataframe tbody tr th:only-of-type {\n",
       "        vertical-align: middle;\n",
       "    }\n",
       "\n",
       "    .dataframe tbody tr th {\n",
       "        vertical-align: top;\n",
       "    }\n",
       "\n",
       "    .dataframe thead th {\n",
       "        text-align: right;\n",
       "    }\n",
       "</style>\n",
       "<table border=\"1\" class=\"dataframe\">\n",
       "  <thead>\n",
       "    <tr style=\"text-align: right;\">\n",
       "      <th></th>\n",
       "      <th>place_id</th>\n",
       "      <th>place_name</th>\n",
       "      <th>lat</th>\n",
       "      <th>lng</th>\n",
       "      <th>place_address</th>\n",
       "      <th>category</th>\n",
       "    </tr>\n",
       "  </thead>\n",
       "  <tbody>\n",
       "    <tr>\n",
       "      <th>0</th>\n",
       "      <td>0</td>\n",
       "      <td>가락시장역</td>\n",
       "      <td>37.492317</td>\n",
       "      <td>127.118104</td>\n",
       "      <td>서울특별시 송파구</td>\n",
       "      <td>지하철</td>\n",
       "    </tr>\n",
       "    <tr>\n",
       "      <th>1</th>\n",
       "      <td>1</td>\n",
       "      <td>가산디지털단지역</td>\n",
       "      <td>37.480890</td>\n",
       "      <td>126.882574</td>\n",
       "      <td>서울특별시 금천구</td>\n",
       "      <td>지하철</td>\n",
       "    </tr>\n",
       "    <tr>\n",
       "      <th>2</th>\n",
       "      <td>3</td>\n",
       "      <td>강남역</td>\n",
       "      <td>37.497942</td>\n",
       "      <td>127.027621</td>\n",
       "      <td>서울특별시 강남구</td>\n",
       "      <td>지하철</td>\n",
       "    </tr>\n",
       "    <tr>\n",
       "      <th>3</th>\n",
       "      <td>5</td>\n",
       "      <td>강동역</td>\n",
       "      <td>37.535940</td>\n",
       "      <td>127.132187</td>\n",
       "      <td>서울특별시 강동구</td>\n",
       "      <td>지하철</td>\n",
       "    </tr>\n",
       "    <tr>\n",
       "      <th>4</th>\n",
       "      <td>7</td>\n",
       "      <td>강변역</td>\n",
       "      <td>37.535144</td>\n",
       "      <td>127.094672</td>\n",
       "      <td>서울특별시 광진구</td>\n",
       "      <td>지하철</td>\n",
       "    </tr>\n",
       "  </tbody>\n",
       "</table>\n",
       "</div>"
      ],
      "text/plain": [
       "   place_id place_name        lat         lng place_address category\n",
       "0         0      가락시장역  37.492317  127.118104     서울특별시 송파구      지하철\n",
       "1         1   가산디지털단지역  37.480890  126.882574     서울특별시 금천구      지하철\n",
       "2         3        강남역  37.497942  127.027621     서울특별시 강남구      지하철\n",
       "3         5        강동역  37.535940  127.132187     서울특별시 강동구      지하철\n",
       "4         7        강변역  37.535144  127.094672     서울특별시 광진구      지하철"
      ]
     },
     "execution_count": 34,
     "metadata": {},
     "output_type": "execute_result"
    }
   ],
   "source": [
    "place.head()"
   ]
  },
  {
   "cell_type": "code",
   "execution_count": 35,
   "metadata": {},
   "outputs": [
    {
     "data": {
      "text/html": [
       "<div>\n",
       "<style scoped>\n",
       "    .dataframe tbody tr th:only-of-type {\n",
       "        vertical-align: middle;\n",
       "    }\n",
       "\n",
       "    .dataframe tbody tr th {\n",
       "        vertical-align: top;\n",
       "    }\n",
       "\n",
       "    .dataframe thead th {\n",
       "        text-align: right;\n",
       "    }\n",
       "</style>\n",
       "<table border=\"1\" class=\"dataframe\">\n",
       "  <thead>\n",
       "    <tr style=\"text-align: right;\">\n",
       "      <th></th>\n",
       "      <th>place_id</th>\n",
       "      <th>place_name</th>\n",
       "      <th>lat</th>\n",
       "      <th>lng</th>\n",
       "      <th>place_address</th>\n",
       "      <th>category</th>\n",
       "    </tr>\n",
       "  </thead>\n",
       "  <tbody>\n",
       "    <tr>\n",
       "      <th>8323</th>\n",
       "      <td>31094</td>\n",
       "      <td>양재천수영장 화장실</td>\n",
       "      <td>37.473464</td>\n",
       "      <td>127.035751</td>\n",
       "      <td>서울특별시 서초구 양재동 126-1</td>\n",
       "      <td>공중화장실</td>\n",
       "    </tr>\n",
       "    <tr>\n",
       "      <th>8324</th>\n",
       "      <td>31095</td>\n",
       "      <td>양재천(영동2교둑마루) 화장실</td>\n",
       "      <td>37.476623</td>\n",
       "      <td>127.041509</td>\n",
       "      <td>서울특별시 서초구 양재동 261-23</td>\n",
       "      <td>공중화장실</td>\n",
       "    </tr>\n",
       "    <tr>\n",
       "      <th>8325</th>\n",
       "      <td>31096</td>\n",
       "      <td>양재천무인자동화장실(교총삼거리둑마루) 화장실</td>\n",
       "      <td>37.468269</td>\n",
       "      <td>127.028713</td>\n",
       "      <td>서울특별시 서초구 우면동 143-6</td>\n",
       "      <td>공중화장실</td>\n",
       "    </tr>\n",
       "    <tr>\n",
       "      <th>8326</th>\n",
       "      <td>31098</td>\n",
       "      <td>살곶이 진출 화장실</td>\n",
       "      <td>37.553132</td>\n",
       "      <td>127.028349</td>\n",
       "      <td>서울특별시 성동구 사근동 102-28</td>\n",
       "      <td>공중화장실</td>\n",
       "    </tr>\n",
       "    <tr>\n",
       "      <th>8327</th>\n",
       "      <td>31103</td>\n",
       "      <td>자전거체험장 화장실</td>\n",
       "      <td>37.553973</td>\n",
       "      <td>127.046326</td>\n",
       "      <td>서울특별시 성동구 마장동 811</td>\n",
       "      <td>공중화장실</td>\n",
       "    </tr>\n",
       "  </tbody>\n",
       "</table>\n",
       "</div>"
      ],
      "text/plain": [
       "      place_id                place_name        lat         lng  \\\n",
       "8323     31094                양재천수영장 화장실  37.473464  127.035751   \n",
       "8324     31095          양재천(영동2교둑마루) 화장실  37.476623  127.041509   \n",
       "8325     31096  양재천무인자동화장실(교총삼거리둑마루) 화장실  37.468269  127.028713   \n",
       "8326     31098                살곶이 진출 화장실  37.553132  127.028349   \n",
       "8327     31103                자전거체험장 화장실  37.553973  127.046326   \n",
       "\n",
       "             place_address category  \n",
       "8323   서울특별시 서초구 양재동 126-1    공중화장실  \n",
       "8324  서울특별시 서초구 양재동 261-23    공중화장실  \n",
       "8325   서울특별시 서초구 우면동 143-6    공중화장실  \n",
       "8326  서울특별시 성동구 사근동 102-28    공중화장실  \n",
       "8327     서울특별시 성동구 마장동 811    공중화장실  "
      ]
     },
     "execution_count": 35,
     "metadata": {},
     "output_type": "execute_result"
    }
   ],
   "source": [
    "place.tail()"
   ]
  },
  {
   "cell_type": "code",
   "execution_count": null,
   "metadata": {},
   "outputs": [],
   "source": []
  },
  {
   "cell_type": "code",
   "execution_count": 37,
   "metadata": {},
   "outputs": [],
   "source": [
    "place.to_csv('place.csv')"
   ]
  },
  {
   "cell_type": "code",
   "execution_count": null,
   "metadata": {},
   "outputs": [],
   "source": []
  },
  {
   "cell_type": "markdown",
   "metadata": {},
   "source": [
    "# lat lon 이 매우 ,근접한 데이터 지우기 "
   ]
  },
  {
   "cell_type": "code",
   "execution_count": 133,
   "metadata": {},
   "outputs": [],
   "source": [
    "test = place[place.place_name.str.contains('보문동')]"
   ]
  },
  {
   "cell_type": "code",
   "execution_count": 137,
   "metadata": {},
   "outputs": [
    {
     "data": {
      "text/html": [
       "<div>\n",
       "<style scoped>\n",
       "    .dataframe tbody tr th:only-of-type {\n",
       "        vertical-align: middle;\n",
       "    }\n",
       "\n",
       "    .dataframe tbody tr th {\n",
       "        vertical-align: top;\n",
       "    }\n",
       "\n",
       "    .dataframe thead th {\n",
       "        text-align: right;\n",
       "    }\n",
       "</style>\n",
       "<table border=\"1\" class=\"dataframe\">\n",
       "  <thead>\n",
       "    <tr style=\"text-align: right;\">\n",
       "      <th></th>\n",
       "      <th>place_id</th>\n",
       "      <th>place_name</th>\n",
       "      <th>lat</th>\n",
       "      <th>lng</th>\n",
       "      <th>place_address</th>\n",
       "      <th>category</th>\n",
       "    </tr>\n",
       "  </thead>\n",
       "  <tbody>\n",
       "    <tr>\n",
       "      <th>1229</th>\n",
       "      <td>11243</td>\n",
       "      <td>보문동주민센터</td>\n",
       "      <td>37.580380</td>\n",
       "      <td>127.022814</td>\n",
       "      <td>서울특별시 성북구 안암로3길  35</td>\n",
       "      <td>지역자치센터</td>\n",
       "    </tr>\n",
       "    <tr>\n",
       "      <th>7972</th>\n",
       "      <td>30715</td>\n",
       "      <td>보문동 화장실</td>\n",
       "      <td>37.584859</td>\n",
       "      <td>127.019911</td>\n",
       "      <td>서울특별시 성북구 보문동1가 147-36</td>\n",
       "      <td>공중화장실</td>\n",
       "    </tr>\n",
       "    <tr>\n",
       "      <th>8034</th>\n",
       "      <td>30779</td>\n",
       "      <td>보문동주민센터 화장실</td>\n",
       "      <td>37.580368</td>\n",
       "      <td>127.022787</td>\n",
       "      <td>서울특별시 성북구 보문동7가 108-1</td>\n",
       "      <td>공중화장실</td>\n",
       "    </tr>\n",
       "  </tbody>\n",
       "</table>\n",
       "</div>"
      ],
      "text/plain": [
       "      place_id   place_name        lat         lng           place_address  \\\n",
       "1229     11243      보문동주민센터  37.580380  127.022814     서울특별시 성북구 안암로3길  35   \n",
       "7972     30715      보문동 화장실  37.584859  127.019911  서울특별시 성북구 보문동1가 147-36   \n",
       "8034     30779  보문동주민센터 화장실  37.580368  127.022787   서울특별시 성북구 보문동7가 108-1   \n",
       "\n",
       "     category  \n",
       "1229   지역자치센터  \n",
       "7972    공중화장실  \n",
       "8034    공중화장실  "
      ]
     },
     "execution_count": 137,
     "metadata": {},
     "output_type": "execute_result"
    }
   ],
   "source": [
    "test"
   ]
  },
  {
   "cell_type": "code",
   "execution_count": 135,
   "metadata": {},
   "outputs": [],
   "source": [
    "\n",
    "import json\n",
    "import urllib.request\n",
    "import urllib.request\n",
    "import datetime\n",
    "import time\n",
    "import json\n",
    "\n",
    "\n",
    "def get_request_url(url):\n",
    "    \n",
    "    client_id=\"R63uNWNQiaTp1EeZl7bW\"\n",
    "    client_secret = \"1Im1JohssC\"\n",
    "    \n",
    "    req = urllib.request.Request(url)\n",
    "    req.add_header(\"X-Naver-Client-Id\", client_id)\n",
    "    req.add_header(\"X-Naver-Client-Secret\", client_secret)\n",
    "    try: \n",
    "        response = urllib.request.urlopen(req)\n",
    "        if response.getcode() == 200:\n",
    "#             print (\"[%s] Url Request Success\" % datetime.datetime.now())\n",
    "            return response.read().decode('utf-8')\n",
    "    except Exception as e:\n",
    "        print(e)\n",
    "        print(\"[%s] Error for URL : %s\" % (datetime.datetime.now(), url))\n",
    "        return None\n",
    "    \n",
    "def getGeoData(address):\n",
    "    \n",
    "    base = \"https://openapi.naver.com/v1/map/geocode\"\n",
    "    node = \"\"\n",
    "    parameters = \"?query=%s\" % urllib.parse.quote(address)\n",
    "    url = base + node + parameters\n",
    "    \n",
    "    retData = get_request_url(url)\n",
    "    \n",
    "    if (retData == None):\n",
    "        return None\n",
    "    else:\n",
    "        return json.loads(retData)\n",
    "\n",
    "\n"
   ]
  },
  {
   "cell_type": "code",
   "execution_count": 138,
   "metadata": {},
   "outputs": [
    {
     "data": {
      "text/plain": [
       "array(['서울특별시 성북구 안암로3길  35', '서울특별시 성북구 보문동1가 147-36',\n",
       "       '서울특별시 성북구 보문동7가 108-1'], dtype=object)"
      ]
     },
     "execution_count": 138,
     "metadata": {},
     "output_type": "execute_result"
    }
   ],
   "source": [
    "test.place_address.values"
   ]
  },
  {
   "cell_type": "code",
   "execution_count": 146,
   "metadata": {},
   "outputs": [],
   "source": [
    "\n",
    "lat= []\n",
    "lng = []\n",
    "count = 0\n",
    "for info_num,info in enumerate(test.place_address.values):\n",
    "    jsonResult = getGeoData(test.place_address.values[info_num])\n",
    "\n",
    "    try:\n",
    "        for item in jsonResult['result']['items']:\n",
    "\n",
    "            lat.append(str(item['point']['y']))\n",
    "            lng.append(str(item['point']['x']))\n",
    "    except Exception as e:\n",
    "        count+=1 \n",
    "        print(\"예외!!!!!!!!!!!!!!!!!!!!!!!!!!!!!!!!!!!!!!\")\n",
    "        print(test.loc[info_num,'place_address'])\n",
    "    #         lat.extend(test.loc[info_num,'lat'])\n",
    "    #         lng.extend(test.loc[info_num,'lng'])\n",
    "        print(e)"
   ]
  },
  {
   "cell_type": "code",
   "execution_count": 147,
   "metadata": {},
   "outputs": [],
   "source": [
    "# 3만번대 , 데이터이상함. "
   ]
  },
  {
   "cell_type": "code",
   "execution_count": 148,
   "metadata": {
    "scrolled": true
   },
   "outputs": [
    {
     "name": "stdout",
     "output_type": "stream",
     "text": [
      "['37.5803796', '37.584868', '37.5804089']\n"
     ]
    }
   ],
   "source": [
    "print(lat)"
   ]
  },
  {
   "cell_type": "code",
   "execution_count": 150,
   "metadata": {},
   "outputs": [
    {
     "name": "stdout",
     "output_type": "stream",
     "text": [
      "['127.0228138', '127.0199381', '127.0228679']\n"
     ]
    }
   ],
   "source": [
    "print(lng)"
   ]
  },
  {
   "cell_type": "code",
   "execution_count": 153,
   "metadata": {},
   "outputs": [
    {
     "data": {
      "text/plain": [
       "2.930000000134214e-05"
      ]
     },
     "execution_count": 153,
     "metadata": {},
     "output_type": "execute_result"
    }
   ],
   "source": [
    "float(lat[2]) - float(lat[0]) "
   ]
  },
  {
   "cell_type": "code",
   "execution_count": null,
   "metadata": {},
   "outputs": [],
   "source": [
    "# 0.000293 만큼"
   ]
  }
 ],
 "metadata": {
  "kernelspec": {
   "display_name": "Python 3",
   "language": "python",
   "name": "python3"
  },
  "language_info": {
   "codemirror_mode": {
    "name": "ipython",
    "version": 3
   },
   "file_extension": ".py",
   "mimetype": "text/x-python",
   "name": "python",
   "nbconvert_exporter": "python",
   "pygments_lexer": "ipython3",
   "version": "3.6.5"
  }
 },
 "nbformat": 4,
 "nbformat_minor": 2
}
