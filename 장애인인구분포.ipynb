{
 "cells": [
  {
   "cell_type": "code",
   "execution_count": 8,
   "metadata": {},
   "outputs": [],
   "source": [
    "import pandas as pd\n",
    "import matplotlib.pyplot as plt\n",
    "import pdvega\n",
    "%matplotlib notebook\n",
    "%matplotlib inline"
   ]
  },
  {
   "cell_type": "code",
   "execution_count": 11,
   "metadata": {
    "scrolled": true
   },
   "outputs": [],
   "source": [
    "population  = pd.read_csv('Jeungmin/population.csv')"
   ]
  },
  {
   "cell_type": "code",
   "execution_count": 12,
   "metadata": {},
   "outputs": [
    {
     "data": {
      "text/html": [
       "<div>\n",
       "<style scoped>\n",
       "    .dataframe tbody tr th:only-of-type {\n",
       "        vertical-align: middle;\n",
       "    }\n",
       "\n",
       "    .dataframe tbody tr th {\n",
       "        vertical-align: top;\n",
       "    }\n",
       "\n",
       "    .dataframe thead th {\n",
       "        text-align: right;\n",
       "    }\n",
       "</style>\n",
       "<table border=\"1\" class=\"dataframe\">\n",
       "  <thead>\n",
       "    <tr style=\"text-align: right;\">\n",
       "      <th></th>\n",
       "      <th>Gu</th>\n",
       "      <th>counts</th>\n",
       "    </tr>\n",
       "  </thead>\n",
       "  <tbody>\n",
       "    <tr>\n",
       "      <th>1</th>\n",
       "      <td>종로구</td>\n",
       "      <td>6064</td>\n",
       "    </tr>\n",
       "    <tr>\n",
       "      <th>2</th>\n",
       "      <td>중구</td>\n",
       "      <td>5694</td>\n",
       "    </tr>\n",
       "    <tr>\n",
       "      <th>3</th>\n",
       "      <td>용산구</td>\n",
       "      <td>8116</td>\n",
       "    </tr>\n",
       "    <tr>\n",
       "      <th>4</th>\n",
       "      <td>성동구</td>\n",
       "      <td>11770</td>\n",
       "    </tr>\n",
       "    <tr>\n",
       "      <th>5</th>\n",
       "      <td>광진구</td>\n",
       "      <td>12514</td>\n",
       "    </tr>\n",
       "    <tr>\n",
       "      <th>6</th>\n",
       "      <td>동대문구</td>\n",
       "      <td>15893</td>\n",
       "    </tr>\n",
       "    <tr>\n",
       "      <th>7</th>\n",
       "      <td>중랑구</td>\n",
       "      <td>20034</td>\n",
       "    </tr>\n",
       "    <tr>\n",
       "      <th>8</th>\n",
       "      <td>성북구</td>\n",
       "      <td>17529</td>\n",
       "    </tr>\n",
       "    <tr>\n",
       "      <th>9</th>\n",
       "      <td>강북구</td>\n",
       "      <td>17377</td>\n",
       "    </tr>\n",
       "    <tr>\n",
       "      <th>10</th>\n",
       "      <td>도봉구</td>\n",
       "      <td>15196</td>\n",
       "    </tr>\n",
       "    <tr>\n",
       "      <th>11</th>\n",
       "      <td>노원구</td>\n",
       "      <td>27436</td>\n",
       "    </tr>\n",
       "    <tr>\n",
       "      <th>12</th>\n",
       "      <td>은평구</td>\n",
       "      <td>21301</td>\n",
       "    </tr>\n",
       "    <tr>\n",
       "      <th>13</th>\n",
       "      <td>서대문구</td>\n",
       "      <td>12644</td>\n",
       "    </tr>\n",
       "    <tr>\n",
       "      <th>14</th>\n",
       "      <td>마포구</td>\n",
       "      <td>13250</td>\n",
       "    </tr>\n",
       "    <tr>\n",
       "      <th>15</th>\n",
       "      <td>양천구</td>\n",
       "      <td>17232</td>\n",
       "    </tr>\n",
       "    <tr>\n",
       "      <th>16</th>\n",
       "      <td>강서구</td>\n",
       "      <td>28717</td>\n",
       "    </tr>\n",
       "    <tr>\n",
       "      <th>17</th>\n",
       "      <td>구로구</td>\n",
       "      <td>17289</td>\n",
       "    </tr>\n",
       "    <tr>\n",
       "      <th>18</th>\n",
       "      <td>금천구</td>\n",
       "      <td>11059</td>\n",
       "    </tr>\n",
       "    <tr>\n",
       "      <th>19</th>\n",
       "      <td>영등포구</td>\n",
       "      <td>14351</td>\n",
       "    </tr>\n",
       "    <tr>\n",
       "      <th>20</th>\n",
       "      <td>동작구</td>\n",
       "      <td>14590</td>\n",
       "    </tr>\n",
       "    <tr>\n",
       "      <th>21</th>\n",
       "      <td>관악구</td>\n",
       "      <td>20103</td>\n",
       "    </tr>\n",
       "    <tr>\n",
       "      <th>22</th>\n",
       "      <td>서초구</td>\n",
       "      <td>10774</td>\n",
       "    </tr>\n",
       "    <tr>\n",
       "      <th>23</th>\n",
       "      <td>강남구</td>\n",
       "      <td>15617</td>\n",
       "    </tr>\n",
       "    <tr>\n",
       "      <th>24</th>\n",
       "      <td>송파구</td>\n",
       "      <td>19790</td>\n",
       "    </tr>\n",
       "    <tr>\n",
       "      <th>25</th>\n",
       "      <td>강동구</td>\n",
       "      <td>17413</td>\n",
       "    </tr>\n",
       "  </tbody>\n",
       "</table>\n",
       "</div>"
      ],
      "text/plain": [
       "      Gu  counts\n",
       "1    종로구    6064\n",
       "2     중구    5694\n",
       "3    용산구    8116\n",
       "4    성동구   11770\n",
       "5    광진구   12514\n",
       "6   동대문구   15893\n",
       "7    중랑구   20034\n",
       "8    성북구   17529\n",
       "9    강북구   17377\n",
       "10   도봉구   15196\n",
       "11   노원구   27436\n",
       "12   은평구   21301\n",
       "13  서대문구   12644\n",
       "14   마포구   13250\n",
       "15   양천구   17232\n",
       "16   강서구   28717\n",
       "17   구로구   17289\n",
       "18   금천구   11059\n",
       "19  영등포구   14351\n",
       "20   동작구   14590\n",
       "21   관악구   20103\n",
       "22   서초구   10774\n",
       "23   강남구   15617\n",
       "24   송파구   19790\n",
       "25   강동구   17413"
      ]
     },
     "execution_count": 12,
     "metadata": {},
     "output_type": "execute_result"
    }
   ],
   "source": [
    "population[1:]"
   ]
  },
  {
   "cell_type": "code",
   "execution_count": 18,
   "metadata": {},
   "outputs": [],
   "source": [
    "place = pd.read_csv('분석/place.csv',encoding='utf-8' ,engine='python')"
   ]
  },
  {
   "cell_type": "code",
   "execution_count": 21,
   "metadata": {},
   "outputs": [
    {
     "name": "stdout",
     "output_type": "stream",
     "text": [
      "<class 'pandas.core.frame.DataFrame'>\n",
      "RangeIndex: 8328 entries, 0 to 8327\n",
      "Data columns (total 7 columns):\n",
      "Unnamed: 0       8328 non-null int64\n",
      "place_id         8328 non-null int64\n",
      "place_name       8328 non-null object\n",
      "lat              8328 non-null float64\n",
      "lng              8328 non-null float64\n",
      "place_address    8328 non-null object\n",
      "category         8328 non-null object\n",
      "dtypes: float64(2), int64(2), object(3)\n",
      "memory usage: 455.5+ KB\n"
     ]
    }
   ],
   "source": [
    "place.info()"
   ]
  },
  {
   "cell_type": "code",
   "execution_count": 24,
   "metadata": {},
   "outputs": [
    {
     "data": {
      "text/html": [
       "<div>\n",
       "<style scoped>\n",
       "    .dataframe tbody tr th:only-of-type {\n",
       "        vertical-align: middle;\n",
       "    }\n",
       "\n",
       "    .dataframe tbody tr th {\n",
       "        vertical-align: top;\n",
       "    }\n",
       "\n",
       "    .dataframe thead th {\n",
       "        text-align: right;\n",
       "    }\n",
       "</style>\n",
       "<table border=\"1\" class=\"dataframe\">\n",
       "  <thead>\n",
       "    <tr style=\"text-align: right;\">\n",
       "      <th></th>\n",
       "      <th>Unnamed: 0</th>\n",
       "      <th>place_id</th>\n",
       "      <th>place_name</th>\n",
       "      <th>lat</th>\n",
       "      <th>lng</th>\n",
       "      <th>place_address</th>\n",
       "      <th>category</th>\n",
       "    </tr>\n",
       "  </thead>\n",
       "  <tbody>\n",
       "    <tr>\n",
       "      <th>8323</th>\n",
       "      <td>8323</td>\n",
       "      <td>31094</td>\n",
       "      <td>양재천수영장 화장실</td>\n",
       "      <td>37.473464</td>\n",
       "      <td>127.035751</td>\n",
       "      <td>서울특별시 서초구 양재동 126-1</td>\n",
       "      <td>공중화장실</td>\n",
       "    </tr>\n",
       "    <tr>\n",
       "      <th>8324</th>\n",
       "      <td>8324</td>\n",
       "      <td>31095</td>\n",
       "      <td>양재천(영동2교둑마루) 화장실</td>\n",
       "      <td>37.476623</td>\n",
       "      <td>127.041509</td>\n",
       "      <td>서울특별시 서초구 양재동 261-23</td>\n",
       "      <td>공중화장실</td>\n",
       "    </tr>\n",
       "    <tr>\n",
       "      <th>8325</th>\n",
       "      <td>8325</td>\n",
       "      <td>31096</td>\n",
       "      <td>양재천무인자동화장실(교총삼거리둑마루) 화장실</td>\n",
       "      <td>37.468269</td>\n",
       "      <td>127.028713</td>\n",
       "      <td>서울특별시 서초구 우면동 143-6</td>\n",
       "      <td>공중화장실</td>\n",
       "    </tr>\n",
       "    <tr>\n",
       "      <th>8326</th>\n",
       "      <td>8326</td>\n",
       "      <td>31098</td>\n",
       "      <td>살곶이 진출 화장실</td>\n",
       "      <td>37.553132</td>\n",
       "      <td>127.028349</td>\n",
       "      <td>서울특별시 성동구 사근동 102-28</td>\n",
       "      <td>공중화장실</td>\n",
       "    </tr>\n",
       "    <tr>\n",
       "      <th>8327</th>\n",
       "      <td>8327</td>\n",
       "      <td>31103</td>\n",
       "      <td>자전거체험장 화장실</td>\n",
       "      <td>37.553973</td>\n",
       "      <td>127.046326</td>\n",
       "      <td>서울특별시 성동구 마장동 811</td>\n",
       "      <td>공중화장실</td>\n",
       "    </tr>\n",
       "  </tbody>\n",
       "</table>\n",
       "</div>"
      ],
      "text/plain": [
       "      Unnamed: 0  place_id                place_name        lat         lng  \\\n",
       "8323        8323     31094                양재천수영장 화장실  37.473464  127.035751   \n",
       "8324        8324     31095          양재천(영동2교둑마루) 화장실  37.476623  127.041509   \n",
       "8325        8325     31096  양재천무인자동화장실(교총삼거리둑마루) 화장실  37.468269  127.028713   \n",
       "8326        8326     31098                살곶이 진출 화장실  37.553132  127.028349   \n",
       "8327        8327     31103                자전거체험장 화장실  37.553973  127.046326   \n",
       "\n",
       "             place_address category  \n",
       "8323   서울특별시 서초구 양재동 126-1    공중화장실  \n",
       "8324  서울특별시 서초구 양재동 261-23    공중화장실  \n",
       "8325   서울특별시 서초구 우면동 143-6    공중화장실  \n",
       "8326  서울특별시 성동구 사근동 102-28    공중화장실  \n",
       "8327     서울특별시 성동구 마장동 811    공중화장실  "
      ]
     },
     "execution_count": 24,
     "metadata": {},
     "output_type": "execute_result"
    }
   ],
   "source": [
    "place.tail()"
   ]
  },
  {
   "cell_type": "code",
   "execution_count": null,
   "metadata": {},
   "outputs": [],
   "source": []
  },
  {
   "cell_type": "code",
   "execution_count": null,
   "metadata": {},
   "outputs": [],
   "source": []
  },
  {
   "cell_type": "code",
   "execution_count": null,
   "metadata": {},
   "outputs": [],
   "source": []
  },
  {
   "cell_type": "code",
   "execution_count": 98,
   "metadata": {},
   "outputs": [],
   "source": [
    "import matplotlib.pyplot as plt\n",
    "import pdvega\n",
    "%matplotlib notebook\n",
    "%matplotlib inline"
   ]
  },
  {
   "cell_type": "code",
   "execution_count": 99,
   "metadata": {},
   "outputs": [],
   "source": [
    "popul2  = pd.read_csv('real_population.csv')"
   ]
  },
  {
   "cell_type": "code",
   "execution_count": 101,
   "metadata": {
    "scrolled": true
   },
   "outputs": [],
   "source": [
    "s = popul2.T"
   ]
  },
  {
   "cell_type": "code",
   "execution_count": 104,
   "metadata": {},
   "outputs": [],
   "source": [
    "s.reset_index(inplace=True)"
   ]
  },
  {
   "cell_type": "code",
   "execution_count": 107,
   "metadata": {},
   "outputs": [],
   "source": [
    "graph2 = s.groupby('index').sum()"
   ]
  },
  {
   "cell_type": "code",
   "execution_count": 108,
   "metadata": {},
   "outputs": [
    {
     "data": {
      "text/html": [
       "<div class=\"vega-embed\" id=\"94251d72-5be5-4819-9444-cd7229af2bab\"></div>\n",
       "\n",
       "<style>\n",
       ".vega-embed .vega-actions > a {\n",
       "    transition: opacity 200ms ease-in;\n",
       "    opacity: 0.3;\n",
       "    margin-right: 0.6em;\n",
       "    color: #444;\n",
       "    text-decoration: none;\n",
       "}\n",
       "\n",
       ".vega-embed .vega-actions > a:hover {\n",
       "    color: #000;\n",
       "    text-decoration: underline;\n",
       "}\n",
       "\n",
       ".vega-embed:hover .vega-actions > a {\n",
       "    opacity: 1;\n",
       "    transition: 0s;\n",
       "}\n",
       "\n",
       ".vega-embed .error p {\n",
       "    color: firebrick;\n",
       "    font-size: 1.2em;\n",
       "}\n",
       "</style>\n"
      ]
     },
     "metadata": {
      "jupyter-vega3": "#94251d72-5be5-4819-9444-cd7229af2bab"
     },
     "output_type": "display_data"
    },
    {
     "data": {
      "application/javascript": [
       "var spec = {\"mark\": \"bar\", \"encoding\": {\"x\": {\"field\": \"index\", \"type\": \"nominal\"}, \"y\": {\"field\": \"value\", \"type\": \"quantitative\", \"stack\": null}, \"color\": {\"field\": \"variable\", \"type\": \"quantitative\"}, \"opacity\": {\"value\": 0.7}}, \"$schema\": \"https://vega.github.io/schema/vega-lite/v2.json\", \"width\": 500, \"height\": 500, \"data\": {\"values\": [{\"index\": \"Unnamed: 0\", \"variable\": 0, \"value\": \"\\ud569\\uacc4\"}, {\"index\": \"\\uac15\\uc6d0\\ub3c4\", \"variable\": 0, \"value\": 99959}, {\"index\": \"\\uacbd\\uae30\\ub3c4\", \"variable\": 0, \"value\": 533259}, {\"index\": \"\\uacbd\\uc0c1\\ub0a8\\ub3c4\", \"variable\": 0, \"value\": 183510}, {\"index\": \"\\uacbd\\uc0c1\\ubd81\\ub3c4\", \"variable\": 0, \"value\": 172533}, {\"index\": \"\\uad11\\uc8fc\", \"variable\": 0, \"value\": 69233}, {\"index\": \"\\ub300\\uad6c\", \"variable\": 0, \"value\": 119766}, {\"index\": \"\\ub300\\uc804\", \"variable\": 0, \"value\": 72180}, {\"index\": \"\\ubd80\\uc0b0\", \"variable\": 0, \"value\": 171384}, {\"index\": \"\\uc11c\\uc6b8\", \"variable\": 0, \"value\": 391753}, {\"index\": \"\\uc138\\uc885\", \"variable\": 0, \"value\": 10623}, {\"index\": \"\\uc6b8\\uc0b0\", \"variable\": 0, \"value\": 50205}, {\"index\": \"\\uc778\\ucc9c\", \"variable\": 0, \"value\": 138304}, {\"index\": \"\\uc804\\ub77c\\ub0a8\\ub3c4\", \"variable\": 0, \"value\": 142174}, {\"index\": \"\\uc804\\ub77c\\ubd81\\ub3c4\", \"variable\": 0, \"value\": 131303}, {\"index\": \"\\uc804\\uccb4\", \"variable\": 0, \"value\": 2545637}, {\"index\": \"\\uc81c\\uc8fc\\ub3c4\", \"variable\": 0, \"value\": 35104}, {\"index\": \"\\ucda9\\uccad\\ub0a8\\ub3c4\", \"variable\": 0, \"value\": 128503}, {\"index\": \"\\ucda9\\uccad\\ubd81\\ub3c4\", \"variable\": 0, \"value\": 95844}, {\"index\": \"Unnamed: 0\", \"variable\": 1, \"value\": \"\\uc9c0\\uccb4\"}, {\"index\": \"\\uac15\\uc6d0\\ub3c4\", \"variable\": 1, \"value\": 51550}, {\"index\": \"\\uacbd\\uae30\\ub3c4\", \"variable\": 1, \"value\": 268832}, {\"index\": \"\\uacbd\\uc0c1\\ub0a8\\ub3c4\", \"variable\": 1, \"value\": 94245}, {\"index\": \"\\uacbd\\uc0c1\\ubd81\\ub3c4\", \"variable\": 1, \"value\": 83226}, {\"index\": \"\\uad11\\uc8fc\", \"variable\": 1, \"value\": 31607}, {\"index\": \"\\ub300\\uad6c\", \"variable\": 1, \"value\": 54677}, {\"index\": \"\\ub300\\uc804\", \"variable\": 1, \"value\": 34269}, {\"index\": \"\\ubd80\\uc0b0\", \"variable\": 1, \"value\": 82660}, {\"index\": \"\\uc11c\\uc6b8\", \"variable\": 1, \"value\": 185424}, {\"index\": \"\\uc138\\uc885\", \"variable\": 1, \"value\": 5296}, {\"index\": \"\\uc6b8\\uc0b0\", \"variable\": 1, \"value\": 24381}, {\"index\": \"\\uc778\\ucc9c\", \"variable\": 1, \"value\": 70758}, {\"index\": \"\\uc804\\ub77c\\ub0a8\\ub3c4\", \"variable\": 1, \"value\": 73318}, {\"index\": \"\\uc804\\ub77c\\ubd81\\ub3c4\", \"variable\": 1, \"value\": 67516}, {\"index\": \"\\uc804\\uccb4\", \"variable\": 1, \"value\": 1254130}, {\"index\": \"\\uc81c\\uc8fc\\ub3c4\", \"variable\": 1, \"value\": 14746}, {\"index\": \"\\ucda9\\uccad\\ub0a8\\ub3c4\", \"variable\": 1, \"value\": 64668}, {\"index\": \"\\ucda9\\uccad\\ubd81\\ub3c4\", \"variable\": 1, \"value\": 46957}, {\"index\": \"Unnamed: 0\", \"variable\": 2, \"value\": \"\\uc2dc\\uac01\"}, {\"index\": \"\\uac15\\uc6d0\\ub3c4\", \"variable\": 2, \"value\": 9459}, {\"index\": \"\\uacbd\\uae30\\ub3c4\", \"variable\": 2, \"value\": 52038}, {\"index\": \"\\uacbd\\uc0c1\\ub0a8\\ub3c4\", \"variable\": 2, \"value\": 17067}, {\"index\": \"\\uacbd\\uc0c1\\ubd81\\ub3c4\", \"variable\": 2, \"value\": 16396}, {\"index\": \"\\uad11\\uc8fc\", \"variable\": 2, \"value\": 7290}, {\"index\": \"\\ub300\\uad6c\", \"variable\": 2, \"value\": 12096}, {\"index\": \"\\ub300\\uc804\", \"variable\": 2, \"value\": 7133}, {\"index\": \"\\ubd80\\uc0b0\", \"variable\": 2, \"value\": 18197}, {\"index\": \"\\uc11c\\uc6b8\", \"variable\": 2, \"value\": 41995}, {\"index\": \"\\uc138\\uc885\", \"variable\": 2, \"value\": 1053}, {\"index\": \"\\uc6b8\\uc0b0\", \"variable\": 2, \"value\": 4937}, {\"index\": \"\\uc778\\ucc9c\", \"variable\": 2, \"value\": 13786}, {\"index\": \"\\uc804\\ub77c\\ub0a8\\ub3c4\", \"variable\": 2, \"value\": 14198}, {\"index\": \"\\uc804\\ub77c\\ubd81\\ub3c4\", \"variable\": 2, \"value\": 11693}, {\"index\": \"\\uc804\\uccb4\", \"variable\": 2, \"value\": 252632}, {\"index\": \"\\uc81c\\uc8fc\\ub3c4\", \"variable\": 2, \"value\": 4253}, {\"index\": \"\\ucda9\\uccad\\ub0a8\\ub3c4\", \"variable\": 2, \"value\": 12076}, {\"index\": \"\\ucda9\\uccad\\ubd81\\ub3c4\", \"variable\": 2, \"value\": 8965}, {\"index\": \"Unnamed: 0\", \"variable\": 3, \"value\": \"\\uccad\\uac01\\u318d\\uc5b8\\uc5b4\"}, {\"index\": \"\\uac15\\uc6d0\\ub3c4\", \"variable\": 3, \"value\": 12451}, {\"index\": \"\\uacbd\\uae30\\ub3c4\", \"variable\": 3, \"value\": 56322}, {\"index\": \"\\uacbd\\uc0c1\\ub0a8\\ub3c4\", \"variable\": 3, \"value\": 20481}, {\"index\": \"\\uacbd\\uc0c1\\ubd81\\ub3c4\", \"variable\": 3, \"value\": 24319}, {\"index\": \"\\uad11\\uc8fc\", \"variable\": 3, \"value\": 9095}, {\"index\": \"\\ub300\\uad6c\", \"variable\": 3, \"value\": 15724}, {\"index\": \"\\ub300\\uc804\", \"variable\": 3, \"value\": 8733}, {\"index\": \"\\ubd80\\uc0b0\", \"variable\": 3, \"value\": 17632}, {\"index\": \"\\uc11c\\uc6b8\", \"variable\": 3, \"value\": 45244}, {\"index\": \"\\uc138\\uc885\", \"variable\": 3, \"value\": 1300}, {\"index\": \"\\uc6b8\\uc0b0\", \"variable\": 3, \"value\": 6857}, {\"index\": \"\\uc778\\ucc9c\", \"variable\": 3, \"value\": 15833}, {\"index\": \"\\uc804\\ub77c\\ub0a8\\ub3c4\", \"variable\": 3, \"value\": 18475}, {\"index\": \"\\uc804\\ub77c\\ubd81\\ub3c4\", \"variable\": 3, \"value\": 15677}, {\"index\": \"\\uc804\\uccb4\", \"variable\": 3, \"value\": 302003}, {\"index\": \"\\uc81c\\uc8fc\\ub3c4\", \"variable\": 3, \"value\": 5259}, {\"index\": \"\\ucda9\\uccad\\ub0a8\\ub3c4\", \"variable\": 3, \"value\": 16842}, {\"index\": \"\\ucda9\\uccad\\ubd81\\ub3c4\", \"variable\": 3, \"value\": 11759}, {\"index\": \"Unnamed: 0\", \"variable\": 4, \"value\": \"\\uccad\\uac01\\u318d\\uc5b8\\uc5b4\"}, {\"index\": \"\\uac15\\uc6d0\\ub3c4\", \"variable\": 4, \"value\": 746}, {\"index\": \"\\uacbd\\uae30\\ub3c4\", \"variable\": 4, \"value\": 4299}, {\"index\": \"\\uacbd\\uc0c1\\ub0a8\\ub3c4\", \"variable\": 4, \"value\": 1361}, {\"index\": \"\\uacbd\\uc0c1\\ubd81\\ub3c4\", \"variable\": 4, \"value\": 1183}, {\"index\": \"\\uad11\\uc8fc\", \"variable\": 4, \"value\": 555}, {\"index\": \"\\ub300\\uad6c\", \"variable\": 4, \"value\": 1023}, {\"index\": \"\\ub300\\uc804\", \"variable\": 4, \"value\": 555}, {\"index\": \"\\ubd80\\uc0b0\", \"variable\": 4, \"value\": 1365}, {\"index\": \"\\uc11c\\uc6b8\", \"variable\": 4, \"value\": 3252}, {\"index\": \"\\uc138\\uc885\", \"variable\": 4, \"value\": 77}, {\"index\": \"\\uc6b8\\uc0b0\", \"variable\": 4, \"value\": 359}, {\"index\": \"\\uc778\\ucc9c\", \"variable\": 4, \"value\": 1272}, {\"index\": \"\\uc804\\ub77c\\ub0a8\\ub3c4\", \"variable\": 4, \"value\": 1019}, {\"index\": \"\\uc804\\ub77c\\ubd81\\ub3c4\", \"variable\": 4, \"value\": 1181}, {\"index\": \"\\uc804\\uccb4\", \"variable\": 4, \"value\": 20321}, {\"index\": \"\\uc81c\\uc8fc\\ub3c4\", \"variable\": 4, \"value\": 383}, {\"index\": \"\\ucda9\\uccad\\ub0a8\\ub3c4\", \"variable\": 4, \"value\": 1014}, {\"index\": \"\\ucda9\\uccad\\ubd81\\ub3c4\", \"variable\": 4, \"value\": 677}, {\"index\": \"Unnamed: 0\", \"variable\": 5, \"value\": \"\\uc9c0\\uc801\"}, {\"index\": \"\\uac15\\uc6d0\\ub3c4\", \"variable\": 5, \"value\": 8062}, {\"index\": \"\\uacbd\\uae30\\ub3c4\", \"variable\": 5, \"value\": 41289}, {\"index\": \"\\uacbd\\uc0c1\\ub0a8\\ub3c4\", \"variable\": 5, \"value\": 14628}, {\"index\": \"\\uacbd\\uc0c1\\ubd81\\ub3c4\", \"variable\": 5, \"value\": 15449}, {\"index\": \"\\uad11\\uc8fc\", \"variable\": 5, \"value\": 6418}, {\"index\": \"\\ub300\\uad6c\", \"variable\": 5, \"value\": 9497}, {\"index\": \"\\ub300\\uc804\", \"variable\": 5, \"value\": 6073}, {\"index\": \"\\ubd80\\uc0b0\", \"variable\": 5, \"value\": 11155}, {\"index\": \"\\uc11c\\uc6b8\", \"variable\": 5, \"value\": 25654}, {\"index\": \"\\uc138\\uc885\", \"variable\": 5, \"value\": 921}, {\"index\": \"\\uc6b8\\uc0b0\", \"variable\": 5, \"value\": 4048}, {\"index\": \"\\uc778\\ucc9c\", \"variable\": 5, \"value\": 9786}, {\"index\": \"\\uc804\\ub77c\\ub0a8\\ub3c4\", \"variable\": 5, \"value\": 11579}, {\"index\": \"\\uc804\\ub77c\\ubd81\\ub3c4\", \"variable\": 5, \"value\": 11974}, {\"index\": \"\\uc804\\uccb4\", \"variable\": 5, \"value\": 200903}, {\"index\": \"\\uc81c\\uc8fc\\ub3c4\", \"variable\": 5, \"value\": 3135}, {\"index\": \"\\ucda9\\uccad\\ub0a8\\ub3c4\", \"variable\": 5, \"value\": 11349}, {\"index\": \"\\ucda9\\uccad\\ubd81\\ub3c4\", \"variable\": 5, \"value\": 9886}, {\"index\": \"Unnamed: 0\", \"variable\": 6, \"value\": \"\\ub1cc\\ubcd1\\ubcc0\"}, {\"index\": \"\\uac15\\uc6d0\\ub3c4\", \"variable\": 6, \"value\": 9316}, {\"index\": \"\\uacbd\\uae30\\ub3c4\", \"variable\": 6, \"value\": 53728}, {\"index\": \"\\uacbd\\uc0c1\\ub0a8\\ub3c4\", \"variable\": 6, \"value\": 17714}, {\"index\": \"\\uacbd\\uc0c1\\ubd81\\ub3c4\", \"variable\": 6, \"value\": 16100}, {\"index\": \"\\uad11\\uc8fc\", \"variable\": 6, \"value\": 6875}, {\"index\": \"\\ub300\\uad6c\", \"variable\": 6, \"value\": 13094}, {\"index\": \"\\ub300\\uc804\", \"variable\": 6, \"value\": 7523}, {\"index\": \"\\ubd80\\uc0b0\", \"variable\": 6, \"value\": 20060}, {\"index\": \"\\uc11c\\uc6b8\", \"variable\": 6, \"value\": 42287}, {\"index\": \"\\uc138\\uc885\", \"variable\": 6, \"value\": 935}, {\"index\": \"\\uc6b8\\uc0b0\", \"variable\": 6, \"value\": 4881}, {\"index\": \"\\uc778\\ucc9c\", \"variable\": 6, \"value\": 13068}, {\"index\": \"\\uc804\\ub77c\\ub0a8\\ub3c4\", \"variable\": 6, \"value\": 11682}, {\"index\": \"\\uc804\\ub77c\\ubd81\\ub3c4\", \"variable\": 6, \"value\": 12274}, {\"index\": \"\\uc804\\uccb4\", \"variable\": 6, \"value\": 252819}, {\"index\": \"\\uc81c\\uc8fc\\ub3c4\", \"variable\": 6, \"value\": 3528}, {\"index\": \"\\ucda9\\uccad\\ub0a8\\ub3c4\", \"variable\": 6, \"value\": 10965}, {\"index\": \"\\ucda9\\uccad\\ubd81\\ub3c4\", \"variable\": 6, \"value\": 8789}, {\"index\": \"Unnamed: 0\", \"variable\": 7, \"value\": \"\\uc790\\ud3d0\\uc131\"}, {\"index\": \"\\uac15\\uc6d0\\ub3c4\", \"variable\": 7, \"value\": 629}, {\"index\": \"\\uacbd\\uae30\\ub3c4\", \"variable\": 7, \"value\": 6403}, {\"index\": \"\\uacbd\\uc0c1\\ub0a8\\ub3c4\", \"variable\": 7, \"value\": 1576}, {\"index\": \"\\uacbd\\uc0c1\\ubd81\\ub3c4\", \"variable\": 7, \"value\": 1029}, {\"index\": \"\\uad11\\uc8fc\", \"variable\": 7, \"value\": 748}, {\"index\": \"\\ub300\\uad6c\", \"variable\": 7, \"value\": 1101}, {\"index\": \"\\ub300\\uc804\", \"variable\": 7, \"value\": 933}, {\"index\": \"\\ubd80\\uc0b0\", \"variable\": 7, \"value\": 1632}, {\"index\": \"\\uc11c\\uc6b8\", \"variable\": 7, \"value\": 5401}, {\"index\": \"\\uc138\\uc885\", \"variable\": 7, \"value\": 112}, {\"index\": \"\\uc6b8\\uc0b0\", \"variable\": 7, \"value\": 524}, {\"index\": \"\\uc778\\ucc9c\", \"variable\": 7, \"value\": 1331}, {\"index\": \"\\uc804\\ub77c\\ub0a8\\ub3c4\", \"variable\": 7, \"value\": 649}, {\"index\": \"\\uc804\\ub77c\\ubd81\\ub3c4\", \"variable\": 7, \"value\": 692}, {\"index\": \"\\uc804\\uccb4\", \"variable\": 7, \"value\": 24698}, {\"index\": \"\\uc81c\\uc8fc\\ub3c4\", \"variable\": 7, \"value\": 470}, {\"index\": \"\\ucda9\\uccad\\ub0a8\\ub3c4\", \"variable\": 7, \"value\": 811}, {\"index\": \"\\ucda9\\uccad\\ubd81\\ub3c4\", \"variable\": 7, \"value\": 657}, {\"index\": \"Unnamed: 0\", \"variable\": 8, \"value\": \"\\uc815\\uc2e0\"}, {\"index\": \"\\uac15\\uc6d0\\ub3c4\", \"variable\": 8, \"value\": 3109}, {\"index\": \"\\uacbd\\uae30\\ub3c4\", \"variable\": 8, \"value\": 18496}, {\"index\": \"\\uacbd\\uc0c1\\ub0a8\\ub3c4\", \"variable\": 8, \"value\": 7775}, {\"index\": \"\\uacbd\\uc0c1\\ubd81\\ub3c4\", \"variable\": 8, \"value\": 7367}, {\"index\": \"\\uad11\\uc8fc\", \"variable\": 8, \"value\": 3006}, {\"index\": \"\\ub300\\uad6c\", \"variable\": 8, \"value\": 6062}, {\"index\": \"\\ub300\\uc804\", \"variable\": 8, \"value\": 3052}, {\"index\": \"\\ubd80\\uc0b0\", \"variable\": 8, \"value\": 8078}, {\"index\": \"\\uc11c\\uc6b8\", \"variable\": 8, \"value\": 16326}, {\"index\": \"\\uc138\\uc885\", \"variable\": 8, \"value\": 417}, {\"index\": \"\\uc6b8\\uc0b0\", \"variable\": 8, \"value\": 1386}, {\"index\": \"\\uc778\\ucc9c\", \"variable\": 8, \"value\": 4679}, {\"index\": \"\\uc804\\ub77c\\ub0a8\\ub3c4\", \"variable\": 8, \"value\": 5723}, {\"index\": \"\\uc804\\ub77c\\ubd81\\ub3c4\", \"variable\": 8, \"value\": 5491}, {\"index\": \"\\uc804\\uccb4\", \"variable\": 8, \"value\": 101175}, {\"index\": \"\\uc81c\\uc8fc\\ub3c4\", \"variable\": 8, \"value\": 1265}, {\"index\": \"\\ucda9\\uccad\\ub0a8\\ub3c4\", \"variable\": 8, \"value\": 5245}, {\"index\": \"\\ucda9\\uccad\\ubd81\\ub3c4\", \"variable\": 8, \"value\": 3698}, {\"index\": \"Unnamed: 0\", \"variable\": 9, \"value\": \"\\uc2e0\\uc7a5\"}, {\"index\": \"\\uac15\\uc6d0\\ub3c4\", \"variable\": 9, \"value\": 2577}, {\"index\": \"\\uacbd\\uae30\\ub3c4\", \"variable\": 9, \"value\": 19807}, {\"index\": \"\\uacbd\\uc0c1\\ub0a8\\ub3c4\", \"variable\": 9, \"value\": 5418}, {\"index\": \"\\uacbd\\uc0c1\\ubd81\\ub3c4\", \"variable\": 9, \"value\": 4346}, {\"index\": \"\\uad11\\uc8fc\", \"variable\": 9, \"value\": 2160}, {\"index\": \"\\ub300\\uad6c\", \"variable\": 9, \"value\": 4155}, {\"index\": \"\\ub300\\uc804\", \"variable\": 9, \"value\": 2444}, {\"index\": \"\\ubd80\\uc0b0\", \"variable\": 9, \"value\": 6613}, {\"index\": \"\\uc11c\\uc6b8\", \"variable\": 9, \"value\": 16131}, {\"index\": \"\\uc138\\uc885\", \"variable\": 9, \"value\": 285}, {\"index\": \"\\uc6b8\\uc0b0\", \"variable\": 9, \"value\": 1705}, {\"index\": \"\\uc778\\ucc9c\", \"variable\": 9, \"value\": 5020}, {\"index\": \"\\uc804\\ub77c\\ub0a8\\ub3c4\", \"variable\": 9, \"value\": 3121}, {\"index\": \"\\uc804\\ub77c\\ubd81\\ub3c4\", \"variable\": 9, \"value\": 2733}, {\"index\": \"\\uc804\\uccb4\", \"variable\": 9, \"value\": 83562}, {\"index\": \"\\uc81c\\uc8fc\\ub3c4\", \"variable\": 9, \"value\": 1255}, {\"index\": \"\\ucda9\\uccad\\ub0a8\\ub3c4\", \"variable\": 9, \"value\": 3150}, {\"index\": \"\\ucda9\\uccad\\ubd81\\ub3c4\", \"variable\": 9, \"value\": 2642}, {\"index\": \"Unnamed: 0\", \"variable\": 10, \"value\": \"\\uc2ec\\uc7a5\"}, {\"index\": \"\\uac15\\uc6d0\\ub3c4\", \"variable\": 10, \"value\": 139}, {\"index\": \"\\uacbd\\uae30\\ub3c4\", \"variable\": 10, \"value\": 1292}, {\"index\": \"\\uacbd\\uc0c1\\ub0a8\\ub3c4\", \"variable\": 10, \"value\": 253}, {\"index\": \"\\uacbd\\uc0c1\\ubd81\\ub3c4\", \"variable\": 10, \"value\": 328}, {\"index\": \"\\uad11\\uc8fc\", \"variable\": 10, \"value\": 131}, {\"index\": \"\\ub300\\uad6c\", \"variable\": 10, \"value\": 230}, {\"index\": \"\\ub300\\uc804\", \"variable\": 10, \"value\": 143}, {\"index\": \"\\ubd80\\uc0b0\", \"variable\": 10, \"value\": 495}, {\"index\": \"\\uc11c\\uc6b8\", \"variable\": 10, \"value\": 1154}, {\"index\": \"\\uc138\\uc885\", \"variable\": 10, \"value\": 23}, {\"index\": \"\\uc6b8\\uc0b0\", \"variable\": 10, \"value\": 179}, {\"index\": \"\\uc778\\ucc9c\", \"variable\": 10, \"value\": 224}, {\"index\": \"\\uc804\\ub77c\\ub0a8\\ub3c4\", \"variable\": 10, \"value\": 202}, {\"index\": \"\\uc804\\ub77c\\ubd81\\ub3c4\", \"variable\": 10, \"value\": 164}, {\"index\": \"\\uc804\\uccb4\", \"variable\": 10, \"value\": 5399}, {\"index\": \"\\uc81c\\uc8fc\\ub3c4\", \"variable\": 10, \"value\": 77}, {\"index\": \"\\ucda9\\uccad\\ub0a8\\ub3c4\", \"variable\": 10, \"value\": 217}, {\"index\": \"\\ucda9\\uccad\\ubd81\\ub3c4\", \"variable\": 10, \"value\": 148}, {\"index\": \"Unnamed: 0\", \"variable\": 11, \"value\": \"\\ud638\\ud761\\uae30\"}, {\"index\": \"\\uac15\\uc6d0\\ub3c4\", \"variable\": 11, \"value\": 583}, {\"index\": \"\\uacbd\\uae30\\ub3c4\", \"variable\": 11, \"value\": 2447}, {\"index\": \"\\uacbd\\uc0c1\\ub0a8\\ub3c4\", \"variable\": 11, \"value\": 787}, {\"index\": \"\\uacbd\\uc0c1\\ubd81\\ub3c4\", \"variable\": 11, \"value\": 660}, {\"index\": \"\\uad11\\uc8fc\", \"variable\": 11, \"value\": 306}, {\"index\": \"\\ub300\\uad6c\", \"variable\": 11, \"value\": 450}, {\"index\": \"\\ub300\\uc804\", \"variable\": 11, \"value\": 319}, {\"index\": \"\\ubd80\\uc0b0\", \"variable\": 11, \"value\": 998}, {\"index\": \"\\uc11c\\uc6b8\", \"variable\": 11, \"value\": 2130}, {\"index\": \"\\uc138\\uc885\", \"variable\": 11, \"value\": 49}, {\"index\": \"\\uc6b8\\uc0b0\", \"variable\": 11, \"value\": 257}, {\"index\": \"\\uc778\\ucc9c\", \"variable\": 11, \"value\": 633}, {\"index\": \"\\uc804\\ub77c\\ub0a8\\ub3c4\", \"variable\": 11, \"value\": 606}, {\"index\": \"\\uc804\\ub77c\\ubd81\\ub3c4\", \"variable\": 11, \"value\": 375}, {\"index\": \"\\uc804\\uccb4\", \"variable\": 11, \"value\": 11807}, {\"index\": \"\\uc81c\\uc8fc\\ub3c4\", \"variable\": 11, \"value\": 246}, {\"index\": \"\\ucda9\\uccad\\ub0a8\\ub3c4\", \"variable\": 11, \"value\": 584}, {\"index\": \"\\ucda9\\uccad\\ubd81\\ub3c4\", \"variable\": 11, \"value\": 377}, {\"index\": \"Unnamed: 0\", \"variable\": 12, \"value\": \"\\uac04\"}, {\"index\": \"\\uac15\\uc6d0\\ub3c4\", \"variable\": 12, \"value\": 383}, {\"index\": \"\\uacbd\\uae30\\ub3c4\", \"variable\": 12, \"value\": 2986}, {\"index\": \"\\uacbd\\uc0c1\\ub0a8\\ub3c4\", \"variable\": 12, \"value\": 657}, {\"index\": \"\\uacbd\\uc0c1\\ubd81\\ub3c4\", \"variable\": 12, \"value\": 737}, {\"index\": \"\\uad11\\uc8fc\", \"variable\": 12, \"value\": 341}, {\"index\": \"\\ub300\\uad6c\", \"variable\": 12, \"value\": 593}, {\"index\": \"\\ub300\\uc804\", \"variable\": 12, \"value\": 283}, {\"index\": \"\\ubd80\\uc0b0\", \"variable\": 12, \"value\": 713}, {\"index\": \"\\uc11c\\uc6b8\", \"variable\": 12, \"value\": 2323}, {\"index\": \"\\uc138\\uc885\", \"variable\": 12, \"value\": 47}, {\"index\": \"\\uc6b8\\uc0b0\", \"variable\": 12, \"value\": 301}, {\"index\": \"\\uc778\\ucc9c\", \"variable\": 12, \"value\": 595}, {\"index\": \"\\uc804\\ub77c\\ub0a8\\ub3c4\", \"variable\": 12, \"value\": 500}, {\"index\": \"\\uc804\\ub77c\\ubd81\\ub3c4\", \"variable\": 12, \"value\": 408}, {\"index\": \"\\uc804\\uccb4\", \"variable\": 12, \"value\": 11843}, {\"index\": \"\\uc81c\\uc8fc\\ub3c4\", \"variable\": 12, \"value\": 161}, {\"index\": \"\\ucda9\\uccad\\ub0a8\\ub3c4\", \"variable\": 12, \"value\": 438}, {\"index\": \"\\ucda9\\uccad\\ubd81\\ub3c4\", \"variable\": 12, \"value\": 377}, {\"index\": \"Unnamed: 0\", \"variable\": 13, \"value\": \"\\uc548\\uba74\"}, {\"index\": \"\\uac15\\uc6d0\\ub3c4\", \"variable\": 13, \"value\": 89}, {\"index\": \"\\uacbd\\uae30\\ub3c4\", \"variable\": 13, \"value\": 615}, {\"index\": \"\\uacbd\\uc0c1\\ub0a8\\ub3c4\", \"variable\": 13, \"value\": 208}, {\"index\": \"\\uacbd\\uc0c1\\ubd81\\ub3c4\", \"variable\": 13, \"value\": 200}, {\"index\": \"\\uad11\\uc8fc\", \"variable\": 13, \"value\": 63}, {\"index\": \"\\ub300\\uad6c\", \"variable\": 13, \"value\": 142}, {\"index\": \"\\ub300\\uc804\", \"variable\": 13, \"value\": 80}, {\"index\": \"\\ubd80\\uc0b0\", \"variable\": 13, \"value\": 231}, {\"index\": \"\\uc11c\\uc6b8\", \"variable\": 13, \"value\": 398}, {\"index\": \"\\uc138\\uc885\", \"variable\": 13, \"value\": 14}, {\"index\": \"\\uc6b8\\uc0b0\", \"variable\": 13, \"value\": 71}, {\"index\": \"\\uc778\\ucc9c\", \"variable\": 13, \"value\": 141}, {\"index\": \"\\uc804\\ub77c\\ub0a8\\ub3c4\", \"variable\": 13, \"value\": 90}, {\"index\": \"\\uc804\\ub77c\\ubd81\\ub3c4\", \"variable\": 13, \"value\": 114}, {\"index\": \"\\uc804\\uccb4\", \"variable\": 13, \"value\": 2692}, {\"index\": \"\\uc81c\\uc8fc\\ub3c4\", \"variable\": 13, \"value\": 23}, {\"index\": \"\\ucda9\\uccad\\ub0a8\\ub3c4\", \"variable\": 13, \"value\": 126}, {\"index\": \"\\ucda9\\uccad\\ubd81\\ub3c4\", \"variable\": 13, \"value\": 87}, {\"index\": \"Unnamed: 0\", \"variable\": 14, \"value\": \"\\uc7a5\\ub8e8\\u318d\\uc694\\ub8e8\"}, {\"index\": \"\\uac15\\uc6d0\\ub3c4\", \"variable\": 14, \"value\": 628}, {\"index\": \"\\uacbd\\uae30\\ub3c4\", \"variable\": 14, \"value\": 3306}, {\"index\": \"\\uacbd\\uc0c1\\ub0a8\\ub3c4\", \"variable\": 14, \"value\": 955}, {\"index\": \"\\uacbd\\uc0c1\\ubd81\\ub3c4\", \"variable\": 14, \"value\": 843}, {\"index\": \"\\uad11\\uc8fc\", \"variable\": 14, \"value\": 370}, {\"index\": \"\\ub300\\uad6c\", \"variable\": 14, \"value\": 620}, {\"index\": \"\\ub300\\uc804\", \"variable\": 14, \"value\": 395}, {\"index\": \"\\ubd80\\uc0b0\", \"variable\": 14, \"value\": 1020}, {\"index\": \"\\uc11c\\uc6b8\", \"variable\": 14, \"value\": 2794}, {\"index\": \"\\uc138\\uc885\", \"variable\": 14, \"value\": 67}, {\"index\": \"\\uc6b8\\uc0b0\", \"variable\": 14, \"value\": 216}, {\"index\": \"\\uc778\\ucc9c\", \"variable\": 14, \"value\": 799}, {\"index\": \"\\uc804\\ub77c\\ub0a8\\ub3c4\", \"variable\": 14, \"value\": 623}, {\"index\": \"\\uc804\\ub77c\\ubd81\\ub3c4\", \"variable\": 14, \"value\": 579}, {\"index\": \"\\uc804\\uccb4\", \"variable\": 14, \"value\": 14718}, {\"index\": \"\\uc81c\\uc8fc\\ub3c4\", \"variable\": 14, \"value\": 179}, {\"index\": \"\\ucda9\\uccad\\ub0a8\\ub3c4\", \"variable\": 14, \"value\": 750}, {\"index\": \"\\ucda9\\uccad\\ubd81\\ub3c4\", \"variable\": 14, \"value\": 574}, {\"index\": \"Unnamed: 0\", \"variable\": 15, \"value\": \"\\ub1cc\\uc804\\uc99d\"}, {\"index\": \"\\uac15\\uc6d0\\ub3c4\", \"variable\": 15, \"value\": 238}, {\"index\": \"\\uacbd\\uae30\\ub3c4\", \"variable\": 15, \"value\": 1399}, {\"index\": \"\\uacbd\\uc0c1\\ub0a8\\ub3c4\", \"variable\": 15, \"value\": 385}, {\"index\": \"\\uacbd\\uc0c1\\ubd81\\ub3c4\", \"variable\": 15, \"value\": 350}, {\"index\": \"\\uad11\\uc8fc\", \"variable\": 15, \"value\": 268}, {\"index\": \"\\ub300\\uad6c\", \"variable\": 15, \"value\": 302}, {\"index\": \"\\ub300\\uc804\", \"variable\": 15, \"value\": 245}, {\"index\": \"\\ubd80\\uc0b0\", \"variable\": 15, \"value\": 535}, {\"index\": \"\\uc11c\\uc6b8\", \"variable\": 15, \"value\": 1240}, {\"index\": \"\\uc138\\uc885\", \"variable\": 15, \"value\": 27}, {\"index\": \"\\uc6b8\\uc0b0\", \"variable\": 15, \"value\": 103}, {\"index\": \"\\uc778\\ucc9c\", \"variable\": 15, \"value\": 379}, {\"index\": \"\\uc804\\ub77c\\ub0a8\\ub3c4\", \"variable\": 15, \"value\": 389}, {\"index\": \"\\uc804\\ub77c\\ubd81\\ub3c4\", \"variable\": 15, \"value\": 432}, {\"index\": \"\\uc804\\uccb4\", \"variable\": 15, \"value\": 6935}, {\"index\": \"\\uc81c\\uc8fc\\ub3c4\", \"variable\": 15, \"value\": 124}, {\"index\": \"\\ucda9\\uccad\\ub0a8\\ub3c4\", \"variable\": 15, \"value\": 268}, {\"index\": \"\\ucda9\\uccad\\ubd81\\ub3c4\", \"variable\": 15, \"value\": 251}]}};\n",
       "var opt = {};\n",
       "var selector = \"#94251d72-5be5-4819-9444-cd7229af2bab\";\n",
       "var type = \"vega-lite\";\n",
       "\n",
       "var output_area = this;\n",
       "\n",
       "require(['nbextensions/jupyter-vega3/index'], function(vega) {\n",
       "  vega.render(selector, spec, type, opt, output_area);\n",
       "}, function (err) {\n",
       "  if (err.requireType !== 'scripterror') {\n",
       "    throw(err);\n",
       "  }\n",
       "});\n"
      ]
     },
     "metadata": {
      "jupyter-vega3": "#94251d72-5be5-4819-9444-cd7229af2bab"
     },
     "output_type": "display_data"
    },
    {
     "data": {
      "image/png": "[encoded data removed]"
     },
     "metadata": {
      "jupyter-vega3": "#94251d72-5be5-4819-9444-cd7229af2bab"
     },
     "output_type": "display_data"
    }
   ],
   "source": [
    "graph2.vgplot.bar(width = 500, height=500,interactive=False)"
   ]
  },
  {
   "cell_type": "code",
   "execution_count": 95,
   "metadata": {},
   "outputs": [
    {
     "ename": "TypeError",
     "evalue": "You have to supply one of 'by' and 'level'",
     "output_type": "error",
     "traceback": [
      "\u001b[1;31m---------------------------------------------------------------------------\u001b[0m",
      "\u001b[1;31mTypeError\u001b[0m                                 Traceback (most recent call last)",
      "\u001b[1;32m<ipython-input-95-a0c4bb91257b>\u001b[0m in \u001b[0;36m<module>\u001b[1;34m()\u001b[0m\n\u001b[1;32m----> 1\u001b[1;33m \u001b[0mpopul2\u001b[0m\u001b[1;33m.\u001b[0m\u001b[0mgroupby\u001b[0m\u001b[1;33m(\u001b[0m\u001b[0maxis\u001b[0m\u001b[1;33m=\u001b[0m\u001b[1;36m1\u001b[0m\u001b[1;33m)\u001b[0m\u001b[1;33m\u001b[0m\u001b[0m\n\u001b[0m",
      "\u001b[1;32m~\\Anaconda3\\lib\\site-packages\\pandas\\core\\generic.py\u001b[0m in \u001b[0;36mgroupby\u001b[1;34m(self, by, axis, level, as_index, sort, group_keys, squeeze, observed, **kwargs)\u001b[0m\n\u001b[0;32m   6653\u001b[0m \u001b[1;33m\u001b[0m\u001b[0m\n\u001b[0;32m   6654\u001b[0m         \u001b[1;32mif\u001b[0m \u001b[0mlevel\u001b[0m \u001b[1;32mis\u001b[0m \u001b[1;32mNone\u001b[0m \u001b[1;32mand\u001b[0m \u001b[0mby\u001b[0m \u001b[1;32mis\u001b[0m \u001b[1;32mNone\u001b[0m\u001b[1;33m:\u001b[0m\u001b[1;33m\u001b[0m\u001b[0m\n\u001b[1;32m-> 6655\u001b[1;33m             \u001b[1;32mraise\u001b[0m \u001b[0mTypeError\u001b[0m\u001b[1;33m(\u001b[0m\u001b[1;34m\"You have to supply one of 'by' and 'level'\"\u001b[0m\u001b[1;33m)\u001b[0m\u001b[1;33m\u001b[0m\u001b[0m\n\u001b[0m\u001b[0;32m   6656\u001b[0m         \u001b[0maxis\u001b[0m \u001b[1;33m=\u001b[0m \u001b[0mself\u001b[0m\u001b[1;33m.\u001b[0m\u001b[0m_get_axis_number\u001b[0m\u001b[1;33m(\u001b[0m\u001b[0maxis\u001b[0m\u001b[1;33m)\u001b[0m\u001b[1;33m\u001b[0m\u001b[0m\n\u001b[0;32m   6657\u001b[0m         return groupby(self, by=by, axis=axis, level=level, as_index=as_index,\n",
      "\u001b[1;31mTypeError\u001b[0m: You have to supply one of 'by' and 'level'"
     ]
    }
   ],
   "source": [
    "popul2.groupby()"
   ]
  },
  {
   "cell_type": "code",
   "execution_count": 86,
   "metadata": {
    "scrolled": true
   },
   "outputs": [],
   "source": [
    "s = popul2.iloc[0:,:]"
   ]
  },
  {
   "cell_type": "code",
   "execution_count": 87,
   "metadata": {},
   "outputs": [],
   "source": [
    "tt = s.T"
   ]
  },
  {
   "cell_type": "code",
   "execution_count": 93,
   "metadata": {},
   "outputs": [
    {
     "ename": "NameError",
     "evalue": "name 'index' is not defined",
     "output_type": "error",
     "traceback": [
      "\u001b[1;31m---------------------------------------------------------------------------\u001b[0m",
      "\u001b[1;31mNameError\u001b[0m                                 Traceback (most recent call last)",
      "\u001b[1;32m<ipython-input-93-4c29b60b1feb>\u001b[0m in \u001b[0;36m<module>\u001b[1;34m()\u001b[0m\n\u001b[1;32m----> 1\u001b[1;33m \u001b[0mgraph3\u001b[0m \u001b[1;33m=\u001b[0m \u001b[0mtt\u001b[0m\u001b[1;33m.\u001b[0m\u001b[0mgroupby\u001b[0m\u001b[1;33m(\u001b[0m\u001b[0mindex\u001b[0m\u001b[1;33m)\u001b[0m\u001b[1;33m.\u001b[0m\u001b[0msum\u001b[0m\u001b[1;33m(\u001b[0m\u001b[1;33m)\u001b[0m\u001b[1;33m\u001b[0m\u001b[0m\n\u001b[0m",
      "\u001b[1;31mNameError\u001b[0m: name 'index' is not defined"
     ]
    }
   ],
   "source": [
    "graph3 = tt.groupby(index).sum()"
   ]
  },
  {
   "cell_type": "code",
   "execution_count": 92,
   "metadata": {},
   "outputs": [
    {
     "data": {
      "text/html": [
       "<div class=\"vega-embed\" id=\"274d59d9-92eb-4c0d-a5c6-1da8cbfc945f\"></div>\n",
       "\n",
       "<style>\n",
       ".vega-embed .vega-actions > a {\n",
       "    transition: opacity 200ms ease-in;\n",
       "    opacity: 0.3;\n",
       "    margin-right: 0.6em;\n",
       "    color: #444;\n",
       "    text-decoration: none;\n",
       "}\n",
       "\n",
       ".vega-embed .vega-actions > a:hover {\n",
       "    color: #000;\n",
       "    text-decoration: underline;\n",
       "}\n",
       "\n",
       ".vega-embed:hover .vega-actions > a {\n",
       "    opacity: 1;\n",
       "    transition: 0s;\n",
       "}\n",
       "\n",
       ".vega-embed .error p {\n",
       "    color: firebrick;\n",
       "    font-size: 1.2em;\n",
       "}\n",
       "</style>\n"
      ]
     },
     "metadata": {
      "jupyter-vega3": "#274d59d9-92eb-4c0d-a5c6-1da8cbfc945f"
     },
     "output_type": "display_data"
    },
    {
     "data": {
      "application/javascript": [
       "var spec = {\"mark\": \"bar\", \"encoding\": {\"x\": {\"field\": \"\\uc720\\ud615\\ubcc4\", \"type\": \"nominal\"}, \"y\": {\"field\": \"value\", \"type\": \"quantitative\", \"stack\": null}, \"color\": {\"field\": \"variable\", \"type\": \"nominal\"}, \"opacity\": {\"value\": 0.7}}, \"$schema\": \"https://vega.github.io/schema/vega-lite/v2.json\", \"width\": 500, \"height\": 500, \"data\": {\"values\": [{\"\\uc720\\ud615\\ubcc4\": \"\\uac04\", \"variable\": \"\\uc804\\uccb4\", \"value\": 11843}, {\"\\uc720\\ud615\\ubcc4\": \"\\ub1cc\\ubcd1\\ubcc0\", \"variable\": \"\\uc804\\uccb4\", \"value\": 252819}, {\"\\uc720\\ud615\\ubcc4\": \"\\ub1cc\\uc804\\uc99d\", \"variable\": \"\\uc804\\uccb4\", \"value\": 6935}, {\"\\uc720\\ud615\\ubcc4\": \"\\uc2dc\\uac01\", \"variable\": \"\\uc804\\uccb4\", \"value\": 252632}, {\"\\uc720\\ud615\\ubcc4\": \"\\uc2e0\\uc7a5\", \"variable\": \"\\uc804\\uccb4\", \"value\": 83562}, {\"\\uc720\\ud615\\ubcc4\": \"\\uc2ec\\uc7a5\", \"variable\": \"\\uc804\\uccb4\", \"value\": 5399}, {\"\\uc720\\ud615\\ubcc4\": \"\\uc548\\uba74\", \"variable\": \"\\uc804\\uccb4\", \"value\": 2692}, {\"\\uc720\\ud615\\ubcc4\": \"\\uc790\\ud3d0\\uc131\", \"variable\": \"\\uc804\\uccb4\", \"value\": 24698}, {\"\\uc720\\ud615\\ubcc4\": \"\\uc7a5\\ub8e8\\u318d\\uc694\\ub8e8\", \"variable\": \"\\uc804\\uccb4\", \"value\": 14718}, {\"\\uc720\\ud615\\ubcc4\": \"\\uc815\\uc2e0\", \"variable\": \"\\uc804\\uccb4\", \"value\": 101175}, {\"\\uc720\\ud615\\ubcc4\": \"\\uc9c0\\uc801\", \"variable\": \"\\uc804\\uccb4\", \"value\": 200903}, {\"\\uc720\\ud615\\ubcc4\": \"\\uc9c0\\uccb4\", \"variable\": \"\\uc804\\uccb4\", \"value\": 1254130}, {\"\\uc720\\ud615\\ubcc4\": \"\\uccad\\uac01\\u318d\\uc5b8\\uc5b4\", \"variable\": \"\\uc804\\uccb4\", \"value\": 322324}, {\"\\uc720\\ud615\\ubcc4\": \"\\ud569\\uacc4\", \"variable\": \"\\uc804\\uccb4\", \"value\": 2545637}, {\"\\uc720\\ud615\\ubcc4\": \"\\ud638\\ud761\\uae30\", \"variable\": \"\\uc804\\uccb4\", \"value\": 11807}, {\"\\uc720\\ud615\\ubcc4\": \"\\uac04\", \"variable\": \"\\uc11c\\uc6b8\", \"value\": 2323}, {\"\\uc720\\ud615\\ubcc4\": \"\\ub1cc\\ubcd1\\ubcc0\", \"variable\": \"\\uc11c\\uc6b8\", \"value\": 42287}, {\"\\uc720\\ud615\\ubcc4\": \"\\ub1cc\\uc804\\uc99d\", \"variable\": \"\\uc11c\\uc6b8\", \"value\": 1240}, {\"\\uc720\\ud615\\ubcc4\": \"\\uc2dc\\uac01\", \"variable\": \"\\uc11c\\uc6b8\", \"value\": 41995}, {\"\\uc720\\ud615\\ubcc4\": \"\\uc2e0\\uc7a5\", \"variable\": \"\\uc11c\\uc6b8\", \"value\": 16131}, {\"\\uc720\\ud615\\ubcc4\": \"\\uc2ec\\uc7a5\", \"variable\": \"\\uc11c\\uc6b8\", \"value\": 1154}, {\"\\uc720\\ud615\\ubcc4\": \"\\uc548\\uba74\", \"variable\": \"\\uc11c\\uc6b8\", \"value\": 398}, {\"\\uc720\\ud615\\ubcc4\": \"\\uc790\\ud3d0\\uc131\", \"variable\": \"\\uc11c\\uc6b8\", \"value\": 5401}, {\"\\uc720\\ud615\\ubcc4\": \"\\uc7a5\\ub8e8\\u318d\\uc694\\ub8e8\", \"variable\": \"\\uc11c\\uc6b8\", \"value\": 2794}, {\"\\uc720\\ud615\\ubcc4\": \"\\uc815\\uc2e0\", \"variable\": \"\\uc11c\\uc6b8\", \"value\": 16326}, {\"\\uc720\\ud615\\ubcc4\": \"\\uc9c0\\uc801\", \"variable\": \"\\uc11c\\uc6b8\", \"value\": 25654}, {\"\\uc720\\ud615\\ubcc4\": \"\\uc9c0\\uccb4\", \"variable\": \"\\uc11c\\uc6b8\", \"value\": 185424}, {\"\\uc720\\ud615\\ubcc4\": \"\\uccad\\uac01\\u318d\\uc5b8\\uc5b4\", \"variable\": \"\\uc11c\\uc6b8\", \"value\": 48496}, {\"\\uc720\\ud615\\ubcc4\": \"\\ud569\\uacc4\", \"variable\": \"\\uc11c\\uc6b8\", \"value\": 391753}, {\"\\uc720\\ud615\\ubcc4\": \"\\ud638\\ud761\\uae30\", \"variable\": \"\\uc11c\\uc6b8\", \"value\": 2130}, {\"\\uc720\\ud615\\ubcc4\": \"\\uac04\", \"variable\": \"\\ubd80\\uc0b0\", \"value\": 713}, {\"\\uc720\\ud615\\ubcc4\": \"\\ub1cc\\ubcd1\\ubcc0\", \"variable\": \"\\ubd80\\uc0b0\", \"value\": 20060}, {\"\\uc720\\ud615\\ubcc4\": \"\\ub1cc\\uc804\\uc99d\", \"variable\": \"\\ubd80\\uc0b0\", \"value\": 535}, {\"\\uc720\\ud615\\ubcc4\": \"\\uc2dc\\uac01\", \"variable\": \"\\ubd80\\uc0b0\", \"value\": 18197}, {\"\\uc720\\ud615\\ubcc4\": \"\\uc2e0\\uc7a5\", \"variable\": \"\\ubd80\\uc0b0\", \"value\": 6613}, {\"\\uc720\\ud615\\ubcc4\": \"\\uc2ec\\uc7a5\", \"variable\": \"\\ubd80\\uc0b0\", \"value\": 495}, {\"\\uc720\\ud615\\ubcc4\": \"\\uc548\\uba74\", \"variable\": \"\\ubd80\\uc0b0\", \"value\": 231}, {\"\\uc720\\ud615\\ubcc4\": \"\\uc790\\ud3d0\\uc131\", \"variable\": \"\\ubd80\\uc0b0\", \"value\": 1632}, {\"\\uc720\\ud615\\ubcc4\": \"\\uc7a5\\ub8e8\\u318d\\uc694\\ub8e8\", \"variable\": \"\\ubd80\\uc0b0\", \"value\": 1020}, {\"\\uc720\\ud615\\ubcc4\": \"\\uc815\\uc2e0\", \"variable\": \"\\ubd80\\uc0b0\", \"value\": 8078}, {\"\\uc720\\ud615\\ubcc4\": \"\\uc9c0\\uc801\", \"variable\": \"\\ubd80\\uc0b0\", \"value\": 11155}, {\"\\uc720\\ud615\\ubcc4\": \"\\uc9c0\\uccb4\", \"variable\": \"\\ubd80\\uc0b0\", \"value\": 82660}, {\"\\uc720\\ud615\\ubcc4\": \"\\uccad\\uac01\\u318d\\uc5b8\\uc5b4\", \"variable\": \"\\ubd80\\uc0b0\", \"value\": 18997}, {\"\\uc720\\ud615\\ubcc4\": \"\\ud569\\uacc4\", \"variable\": \"\\ubd80\\uc0b0\", \"value\": 171384}, {\"\\uc720\\ud615\\ubcc4\": \"\\ud638\\ud761\\uae30\", \"variable\": \"\\ubd80\\uc0b0\", \"value\": 998}, {\"\\uc720\\ud615\\ubcc4\": \"\\uac04\", \"variable\": \"\\ub300\\uad6c\", \"value\": 593}, {\"\\uc720\\ud615\\ubcc4\": \"\\ub1cc\\ubcd1\\ubcc0\", \"variable\": \"\\ub300\\uad6c\", \"value\": 13094}, {\"\\uc720\\ud615\\ubcc4\": \"\\ub1cc\\uc804\\uc99d\", \"variable\": \"\\ub300\\uad6c\", \"value\": 302}, {\"\\uc720\\ud615\\ubcc4\": \"\\uc2dc\\uac01\", \"variable\": \"\\ub300\\uad6c\", \"value\": 12096}, {\"\\uc720\\ud615\\ubcc4\": \"\\uc2e0\\uc7a5\", \"variable\": \"\\ub300\\uad6c\", \"value\": 4155}, {\"\\uc720\\ud615\\ubcc4\": \"\\uc2ec\\uc7a5\", \"variable\": \"\\ub300\\uad6c\", \"value\": 230}, {\"\\uc720\\ud615\\ubcc4\": \"\\uc548\\uba74\", \"variable\": \"\\ub300\\uad6c\", \"value\": 142}, {\"\\uc720\\ud615\\ubcc4\": \"\\uc790\\ud3d0\\uc131\", \"variable\": \"\\ub300\\uad6c\", \"value\": 1101}, {\"\\uc720\\ud615\\ubcc4\": \"\\uc7a5\\ub8e8\\u318d\\uc694\\ub8e8\", \"variable\": \"\\ub300\\uad6c\", \"value\": 620}, {\"\\uc720\\ud615\\ubcc4\": \"\\uc815\\uc2e0\", \"variable\": \"\\ub300\\uad6c\", \"value\": 6062}, {\"\\uc720\\ud615\\ubcc4\": \"\\uc9c0\\uc801\", \"variable\": \"\\ub300\\uad6c\", \"value\": 9497}, {\"\\uc720\\ud615\\ubcc4\": \"\\uc9c0\\uccb4\", \"variable\": \"\\ub300\\uad6c\", \"value\": 54677}, {\"\\uc720\\ud615\\ubcc4\": \"\\uccad\\uac01\\u318d\\uc5b8\\uc5b4\", \"variable\": \"\\ub300\\uad6c\", \"value\": 16747}, {\"\\uc720\\ud615\\ubcc4\": \"\\ud569\\uacc4\", \"variable\": \"\\ub300\\uad6c\", \"value\": 119766}, {\"\\uc720\\ud615\\ubcc4\": \"\\ud638\\ud761\\uae30\", \"variable\": \"\\ub300\\uad6c\", \"value\": 450}, {\"\\uc720\\ud615\\ubcc4\": \"\\uac04\", \"variable\": \"\\uc778\\ucc9c\", \"value\": 595}, {\"\\uc720\\ud615\\ubcc4\": \"\\ub1cc\\ubcd1\\ubcc0\", \"variable\": \"\\uc778\\ucc9c\", \"value\": 13068}, {\"\\uc720\\ud615\\ubcc4\": \"\\ub1cc\\uc804\\uc99d\", \"variable\": \"\\uc778\\ucc9c\", \"value\": 379}, {\"\\uc720\\ud615\\ubcc4\": \"\\uc2dc\\uac01\", \"variable\": \"\\uc778\\ucc9c\", \"value\": 13786}, {\"\\uc720\\ud615\\ubcc4\": \"\\uc2e0\\uc7a5\", \"variable\": \"\\uc778\\ucc9c\", \"value\": 5020}, {\"\\uc720\\ud615\\ubcc4\": \"\\uc2ec\\uc7a5\", \"variable\": \"\\uc778\\ucc9c\", \"value\": 224}, {\"\\uc720\\ud615\\ubcc4\": \"\\uc548\\uba74\", \"variable\": \"\\uc778\\ucc9c\", \"value\": 141}, {\"\\uc720\\ud615\\ubcc4\": \"\\uc790\\ud3d0\\uc131\", \"variable\": \"\\uc778\\ucc9c\", \"value\": 1331}, {\"\\uc720\\ud615\\ubcc4\": \"\\uc7a5\\ub8e8\\u318d\\uc694\\ub8e8\", \"variable\": \"\\uc778\\ucc9c\", \"value\": 799}, {\"\\uc720\\ud615\\ubcc4\": \"\\uc815\\uc2e0\", \"variable\": \"\\uc778\\ucc9c\", \"value\": 4679}, {\"\\uc720\\ud615\\ubcc4\": \"\\uc9c0\\uc801\", \"variable\": \"\\uc778\\ucc9c\", \"value\": 9786}, {\"\\uc720\\ud615\\ubcc4\": \"\\uc9c0\\uccb4\", \"variable\": \"\\uc778\\ucc9c\", \"value\": 70758}, {\"\\uc720\\ud615\\ubcc4\": \"\\uccad\\uac01\\u318d\\uc5b8\\uc5b4\", \"variable\": \"\\uc778\\ucc9c\", \"value\": 17105}, {\"\\uc720\\ud615\\ubcc4\": \"\\ud569\\uacc4\", \"variable\": \"\\uc778\\ucc9c\", \"value\": 138304}, {\"\\uc720\\ud615\\ubcc4\": \"\\ud638\\ud761\\uae30\", \"variable\": \"\\uc778\\ucc9c\", \"value\": 633}, {\"\\uc720\\ud615\\ubcc4\": \"\\uac04\", \"variable\": \"\\uad11\\uc8fc\", \"value\": 341}, {\"\\uc720\\ud615\\ubcc4\": \"\\ub1cc\\ubcd1\\ubcc0\", \"variable\": \"\\uad11\\uc8fc\", \"value\": 6875}, {\"\\uc720\\ud615\\ubcc4\": \"\\ub1cc\\uc804\\uc99d\", \"variable\": \"\\uad11\\uc8fc\", \"value\": 268}, {\"\\uc720\\ud615\\ubcc4\": \"\\uc2dc\\uac01\", \"variable\": \"\\uad11\\uc8fc\", \"value\": 7290}, {\"\\uc720\\ud615\\ubcc4\": \"\\uc2e0\\uc7a5\", \"variable\": \"\\uad11\\uc8fc\", \"value\": 2160}, {\"\\uc720\\ud615\\ubcc4\": \"\\uc2ec\\uc7a5\", \"variable\": \"\\uad11\\uc8fc\", \"value\": 131}, {\"\\uc720\\ud615\\ubcc4\": \"\\uc548\\uba74\", \"variable\": \"\\uad11\\uc8fc\", \"value\": 63}, {\"\\uc720\\ud615\\ubcc4\": \"\\uc790\\ud3d0\\uc131\", \"variable\": \"\\uad11\\uc8fc\", \"value\": 748}, {\"\\uc720\\ud615\\ubcc4\": \"\\uc7a5\\ub8e8\\u318d\\uc694\\ub8e8\", \"variable\": \"\\uad11\\uc8fc\", \"value\": 370}, {\"\\uc720\\ud615\\ubcc4\": \"\\uc815\\uc2e0\", \"variable\": \"\\uad11\\uc8fc\", \"value\": 3006}, {\"\\uc720\\ud615\\ubcc4\": \"\\uc9c0\\uc801\", \"variable\": \"\\uad11\\uc8fc\", \"value\": 6418}, {\"\\uc720\\ud615\\ubcc4\": \"\\uc9c0\\uccb4\", \"variable\": \"\\uad11\\uc8fc\", \"value\": 31607}, {\"\\uc720\\ud615\\ubcc4\": \"\\uccad\\uac01\\u318d\\uc5b8\\uc5b4\", \"variable\": \"\\uad11\\uc8fc\", \"value\": 9650}, {\"\\uc720\\ud615\\ubcc4\": \"\\ud569\\uacc4\", \"variable\": \"\\uad11\\uc8fc\", \"value\": 69233}, {\"\\uc720\\ud615\\ubcc4\": \"\\ud638\\ud761\\uae30\", \"variable\": \"\\uad11\\uc8fc\", \"value\": 306}, {\"\\uc720\\ud615\\ubcc4\": \"\\uac04\", \"variable\": \"\\ub300\\uc804\", \"value\": 283}, {\"\\uc720\\ud615\\ubcc4\": \"\\ub1cc\\ubcd1\\ubcc0\", \"variable\": \"\\ub300\\uc804\", \"value\": 7523}, {\"\\uc720\\ud615\\ubcc4\": \"\\ub1cc\\uc804\\uc99d\", \"variable\": \"\\ub300\\uc804\", \"value\": 245}, {\"\\uc720\\ud615\\ubcc4\": \"\\uc2dc\\uac01\", \"variable\": \"\\ub300\\uc804\", \"value\": 7133}, {\"\\uc720\\ud615\\ubcc4\": \"\\uc2e0\\uc7a5\", \"variable\": \"\\ub300\\uc804\", \"value\": 2444}, {\"\\uc720\\ud615\\ubcc4\": \"\\uc2ec\\uc7a5\", \"variable\": \"\\ub300\\uc804\", \"value\": 143}, {\"\\uc720\\ud615\\ubcc4\": \"\\uc548\\uba74\", \"variable\": \"\\ub300\\uc804\", \"value\": 80}, {\"\\uc720\\ud615\\ubcc4\": \"\\uc790\\ud3d0\\uc131\", \"variable\": \"\\ub300\\uc804\", \"value\": 933}, {\"\\uc720\\ud615\\ubcc4\": \"\\uc7a5\\ub8e8\\u318d\\uc694\\ub8e8\", \"variable\": \"\\ub300\\uc804\", \"value\": 395}, {\"\\uc720\\ud615\\ubcc4\": \"\\uc815\\uc2e0\", \"variable\": \"\\ub300\\uc804\", \"value\": 3052}, {\"\\uc720\\ud615\\ubcc4\": \"\\uc9c0\\uc801\", \"variable\": \"\\ub300\\uc804\", \"value\": 6073}, {\"\\uc720\\ud615\\ubcc4\": \"\\uc9c0\\uccb4\", \"variable\": \"\\ub300\\uc804\", \"value\": 34269}, {\"\\uc720\\ud615\\ubcc4\": \"\\uccad\\uac01\\u318d\\uc5b8\\uc5b4\", \"variable\": \"\\ub300\\uc804\", \"value\": 9288}, {\"\\uc720\\ud615\\ubcc4\": \"\\ud569\\uacc4\", \"variable\": \"\\ub300\\uc804\", \"value\": 72180}, {\"\\uc720\\ud615\\ubcc4\": \"\\ud638\\ud761\\uae30\", \"variable\": \"\\ub300\\uc804\", \"value\": 319}, {\"\\uc720\\ud615\\ubcc4\": \"\\uac04\", \"variable\": \"\\uc6b8\\uc0b0\", \"value\": 301}, {\"\\uc720\\ud615\\ubcc4\": \"\\ub1cc\\ubcd1\\ubcc0\", \"variable\": \"\\uc6b8\\uc0b0\", \"value\": 4881}, {\"\\uc720\\ud615\\ubcc4\": \"\\ub1cc\\uc804\\uc99d\", \"variable\": \"\\uc6b8\\uc0b0\", \"value\": 103}, {\"\\uc720\\ud615\\ubcc4\": \"\\uc2dc\\uac01\", \"variable\": \"\\uc6b8\\uc0b0\", \"value\": 4937}, {\"\\uc720\\ud615\\ubcc4\": \"\\uc2e0\\uc7a5\", \"variable\": \"\\uc6b8\\uc0b0\", \"value\": 1705}, {\"\\uc720\\ud615\\ubcc4\": \"\\uc2ec\\uc7a5\", \"variable\": \"\\uc6b8\\uc0b0\", \"value\": 179}, {\"\\uc720\\ud615\\ubcc4\": \"\\uc548\\uba74\", \"variable\": \"\\uc6b8\\uc0b0\", \"value\": 71}, {\"\\uc720\\ud615\\ubcc4\": \"\\uc790\\ud3d0\\uc131\", \"variable\": \"\\uc6b8\\uc0b0\", \"value\": 524}, {\"\\uc720\\ud615\\ubcc4\": \"\\uc7a5\\ub8e8\\u318d\\uc694\\ub8e8\", \"variable\": \"\\uc6b8\\uc0b0\", \"value\": 216}, {\"\\uc720\\ud615\\ubcc4\": \"\\uc815\\uc2e0\", \"variable\": \"\\uc6b8\\uc0b0\", \"value\": 1386}, {\"\\uc720\\ud615\\ubcc4\": \"\\uc9c0\\uc801\", \"variable\": \"\\uc6b8\\uc0b0\", \"value\": 4048}, {\"\\uc720\\ud615\\ubcc4\": \"\\uc9c0\\uccb4\", \"variable\": \"\\uc6b8\\uc0b0\", \"value\": 24381}, {\"\\uc720\\ud615\\ubcc4\": \"\\uccad\\uac01\\u318d\\uc5b8\\uc5b4\", \"variable\": \"\\uc6b8\\uc0b0\", \"value\": 7216}, {\"\\uc720\\ud615\\ubcc4\": \"\\ud569\\uacc4\", \"variable\": \"\\uc6b8\\uc0b0\", \"value\": 50205}, {\"\\uc720\\ud615\\ubcc4\": \"\\ud638\\ud761\\uae30\", \"variable\": \"\\uc6b8\\uc0b0\", \"value\": 257}, {\"\\uc720\\ud615\\ubcc4\": \"\\uac04\", \"variable\": \"\\uc138\\uc885\", \"value\": 47}, {\"\\uc720\\ud615\\ubcc4\": \"\\ub1cc\\ubcd1\\ubcc0\", \"variable\": \"\\uc138\\uc885\", \"value\": 935}, {\"\\uc720\\ud615\\ubcc4\": \"\\ub1cc\\uc804\\uc99d\", \"variable\": \"\\uc138\\uc885\", \"value\": 27}, {\"\\uc720\\ud615\\ubcc4\": \"\\uc2dc\\uac01\", \"variable\": \"\\uc138\\uc885\", \"value\": 1053}, {\"\\uc720\\ud615\\ubcc4\": \"\\uc2e0\\uc7a5\", \"variable\": \"\\uc138\\uc885\", \"value\": 285}, {\"\\uc720\\ud615\\ubcc4\": \"\\uc2ec\\uc7a5\", \"variable\": \"\\uc138\\uc885\", \"value\": 23}, {\"\\uc720\\ud615\\ubcc4\": \"\\uc548\\uba74\", \"variable\": \"\\uc138\\uc885\", \"value\": 14}, {\"\\uc720\\ud615\\ubcc4\": \"\\uc790\\ud3d0\\uc131\", \"variable\": \"\\uc138\\uc885\", \"value\": 112}, {\"\\uc720\\ud615\\ubcc4\": \"\\uc7a5\\ub8e8\\u318d\\uc694\\ub8e8\", \"variable\": \"\\uc138\\uc885\", \"value\": 67}, {\"\\uc720\\ud615\\ubcc4\": \"\\uc815\\uc2e0\", \"variable\": \"\\uc138\\uc885\", \"value\": 417}, {\"\\uc720\\ud615\\ubcc4\": \"\\uc9c0\\uc801\", \"variable\": \"\\uc138\\uc885\", \"value\": 921}, {\"\\uc720\\ud615\\ubcc4\": \"\\uc9c0\\uccb4\", \"variable\": \"\\uc138\\uc885\", \"value\": 5296}, {\"\\uc720\\ud615\\ubcc4\": \"\\uccad\\uac01\\u318d\\uc5b8\\uc5b4\", \"variable\": \"\\uc138\\uc885\", \"value\": 1377}, {\"\\uc720\\ud615\\ubcc4\": \"\\ud569\\uacc4\", \"variable\": \"\\uc138\\uc885\", \"value\": 10623}, {\"\\uc720\\ud615\\ubcc4\": \"\\ud638\\ud761\\uae30\", \"variable\": \"\\uc138\\uc885\", \"value\": 49}, {\"\\uc720\\ud615\\ubcc4\": \"\\uac04\", \"variable\": \"\\uacbd\\uae30\\ub3c4\", \"value\": 2986}, {\"\\uc720\\ud615\\ubcc4\": \"\\ub1cc\\ubcd1\\ubcc0\", \"variable\": \"\\uacbd\\uae30\\ub3c4\", \"value\": 53728}, {\"\\uc720\\ud615\\ubcc4\": \"\\ub1cc\\uc804\\uc99d\", \"variable\": \"\\uacbd\\uae30\\ub3c4\", \"value\": 1399}, {\"\\uc720\\ud615\\ubcc4\": \"\\uc2dc\\uac01\", \"variable\": \"\\uacbd\\uae30\\ub3c4\", \"value\": 52038}, {\"\\uc720\\ud615\\ubcc4\": \"\\uc2e0\\uc7a5\", \"variable\": \"\\uacbd\\uae30\\ub3c4\", \"value\": 19807}, {\"\\uc720\\ud615\\ubcc4\": \"\\uc2ec\\uc7a5\", \"variable\": \"\\uacbd\\uae30\\ub3c4\", \"value\": 1292}, {\"\\uc720\\ud615\\ubcc4\": \"\\uc548\\uba74\", \"variable\": \"\\uacbd\\uae30\\ub3c4\", \"value\": 615}, {\"\\uc720\\ud615\\ubcc4\": \"\\uc790\\ud3d0\\uc131\", \"variable\": \"\\uacbd\\uae30\\ub3c4\", \"value\": 6403}, {\"\\uc720\\ud615\\ubcc4\": \"\\uc7a5\\ub8e8\\u318d\\uc694\\ub8e8\", \"variable\": \"\\uacbd\\uae30\\ub3c4\", \"value\": 3306}, {\"\\uc720\\ud615\\ubcc4\": \"\\uc815\\uc2e0\", \"variable\": \"\\uacbd\\uae30\\ub3c4\", \"value\": 18496}, {\"\\uc720\\ud615\\ubcc4\": \"\\uc9c0\\uc801\", \"variable\": \"\\uacbd\\uae30\\ub3c4\", \"value\": 41289}, {\"\\uc720\\ud615\\ubcc4\": \"\\uc9c0\\uccb4\", \"variable\": \"\\uacbd\\uae30\\ub3c4\", \"value\": 268832}, {\"\\uc720\\ud615\\ubcc4\": \"\\uccad\\uac01\\u318d\\uc5b8\\uc5b4\", \"variable\": \"\\uacbd\\uae30\\ub3c4\", \"value\": 60621}, {\"\\uc720\\ud615\\ubcc4\": \"\\ud569\\uacc4\", \"variable\": \"\\uacbd\\uae30\\ub3c4\", \"value\": 533259}, {\"\\uc720\\ud615\\ubcc4\": \"\\ud638\\ud761\\uae30\", \"variable\": \"\\uacbd\\uae30\\ub3c4\", \"value\": 2447}, {\"\\uc720\\ud615\\ubcc4\": \"\\uac04\", \"variable\": \"\\uac15\\uc6d0\\ub3c4\", \"value\": 383}, {\"\\uc720\\ud615\\ubcc4\": \"\\ub1cc\\ubcd1\\ubcc0\", \"variable\": \"\\uac15\\uc6d0\\ub3c4\", \"value\": 9316}, {\"\\uc720\\ud615\\ubcc4\": \"\\ub1cc\\uc804\\uc99d\", \"variable\": \"\\uac15\\uc6d0\\ub3c4\", \"value\": 238}, {\"\\uc720\\ud615\\ubcc4\": \"\\uc2dc\\uac01\", \"variable\": \"\\uac15\\uc6d0\\ub3c4\", \"value\": 9459}, {\"\\uc720\\ud615\\ubcc4\": \"\\uc2e0\\uc7a5\", \"variable\": \"\\uac15\\uc6d0\\ub3c4\", \"value\": 2577}, {\"\\uc720\\ud615\\ubcc4\": \"\\uc2ec\\uc7a5\", \"variable\": \"\\uac15\\uc6d0\\ub3c4\", \"value\": 139}, {\"\\uc720\\ud615\\ubcc4\": \"\\uc548\\uba74\", \"variable\": \"\\uac15\\uc6d0\\ub3c4\", \"value\": 89}, {\"\\uc720\\ud615\\ubcc4\": \"\\uc790\\ud3d0\\uc131\", \"variable\": \"\\uac15\\uc6d0\\ub3c4\", \"value\": 629}, {\"\\uc720\\ud615\\ubcc4\": \"\\uc7a5\\ub8e8\\u318d\\uc694\\ub8e8\", \"variable\": \"\\uac15\\uc6d0\\ub3c4\", \"value\": 628}, {\"\\uc720\\ud615\\ubcc4\": \"\\uc815\\uc2e0\", \"variable\": \"\\uac15\\uc6d0\\ub3c4\", \"value\": 3109}, {\"\\uc720\\ud615\\ubcc4\": \"\\uc9c0\\uc801\", \"variable\": \"\\uac15\\uc6d0\\ub3c4\", \"value\": 8062}, {\"\\uc720\\ud615\\ubcc4\": \"\\uc9c0\\uccb4\", \"variable\": \"\\uac15\\uc6d0\\ub3c4\", \"value\": 51550}, {\"\\uc720\\ud615\\ubcc4\": \"\\uccad\\uac01\\u318d\\uc5b8\\uc5b4\", \"variable\": \"\\uac15\\uc6d0\\ub3c4\", \"value\": 13197}, {\"\\uc720\\ud615\\ubcc4\": \"\\ud569\\uacc4\", \"variable\": \"\\uac15\\uc6d0\\ub3c4\", \"value\": 99959}, {\"\\uc720\\ud615\\ubcc4\": \"\\ud638\\ud761\\uae30\", \"variable\": \"\\uac15\\uc6d0\\ub3c4\", \"value\": 583}, {\"\\uc720\\ud615\\ubcc4\": \"\\uac04\", \"variable\": \"\\ucda9\\uccad\\ubd81\\ub3c4\", \"value\": 377}, {\"\\uc720\\ud615\\ubcc4\": \"\\ub1cc\\ubcd1\\ubcc0\", \"variable\": \"\\ucda9\\uccad\\ubd81\\ub3c4\", \"value\": 8789}, {\"\\uc720\\ud615\\ubcc4\": \"\\ub1cc\\uc804\\uc99d\", \"variable\": \"\\ucda9\\uccad\\ubd81\\ub3c4\", \"value\": 251}, {\"\\uc720\\ud615\\ubcc4\": \"\\uc2dc\\uac01\", \"variable\": \"\\ucda9\\uccad\\ubd81\\ub3c4\", \"value\": 8965}, {\"\\uc720\\ud615\\ubcc4\": \"\\uc2e0\\uc7a5\", \"variable\": \"\\ucda9\\uccad\\ubd81\\ub3c4\", \"value\": 2642}, {\"\\uc720\\ud615\\ubcc4\": \"\\uc2ec\\uc7a5\", \"variable\": \"\\ucda9\\uccad\\ubd81\\ub3c4\", \"value\": 148}, {\"\\uc720\\ud615\\ubcc4\": \"\\uc548\\uba74\", \"variable\": \"\\ucda9\\uccad\\ubd81\\ub3c4\", \"value\": 87}, {\"\\uc720\\ud615\\ubcc4\": \"\\uc790\\ud3d0\\uc131\", \"variable\": \"\\ucda9\\uccad\\ubd81\\ub3c4\", \"value\": 657}, {\"\\uc720\\ud615\\ubcc4\": \"\\uc7a5\\ub8e8\\u318d\\uc694\\ub8e8\", \"variable\": \"\\ucda9\\uccad\\ubd81\\ub3c4\", \"value\": 574}, {\"\\uc720\\ud615\\ubcc4\": \"\\uc815\\uc2e0\", \"variable\": \"\\ucda9\\uccad\\ubd81\\ub3c4\", \"value\": 3698}, {\"\\uc720\\ud615\\ubcc4\": \"\\uc9c0\\uc801\", \"variable\": \"\\ucda9\\uccad\\ubd81\\ub3c4\", \"value\": 9886}, {\"\\uc720\\ud615\\ubcc4\": \"\\uc9c0\\uccb4\", \"variable\": \"\\ucda9\\uccad\\ubd81\\ub3c4\", \"value\": 46957}, {\"\\uc720\\ud615\\ubcc4\": \"\\uccad\\uac01\\u318d\\uc5b8\\uc5b4\", \"variable\": \"\\ucda9\\uccad\\ubd81\\ub3c4\", \"value\": 12436}, {\"\\uc720\\ud615\\ubcc4\": \"\\ud569\\uacc4\", \"variable\": \"\\ucda9\\uccad\\ubd81\\ub3c4\", \"value\": 95844}, {\"\\uc720\\ud615\\ubcc4\": \"\\ud638\\ud761\\uae30\", \"variable\": \"\\ucda9\\uccad\\ubd81\\ub3c4\", \"value\": 377}, {\"\\uc720\\ud615\\ubcc4\": \"\\uac04\", \"variable\": \"\\ucda9\\uccad\\ub0a8\\ub3c4\", \"value\": 438}, {\"\\uc720\\ud615\\ubcc4\": \"\\ub1cc\\ubcd1\\ubcc0\", \"variable\": \"\\ucda9\\uccad\\ub0a8\\ub3c4\", \"value\": 10965}, {\"\\uc720\\ud615\\ubcc4\": \"\\ub1cc\\uc804\\uc99d\", \"variable\": \"\\ucda9\\uccad\\ub0a8\\ub3c4\", \"value\": 268}, {\"\\uc720\\ud615\\ubcc4\": \"\\uc2dc\\uac01\", \"variable\": \"\\ucda9\\uccad\\ub0a8\\ub3c4\", \"value\": 12076}, {\"\\uc720\\ud615\\ubcc4\": \"\\uc2e0\\uc7a5\", \"variable\": \"\\ucda9\\uccad\\ub0a8\\ub3c4\", \"value\": 3150}, {\"\\uc720\\ud615\\ubcc4\": \"\\uc2ec\\uc7a5\", \"variable\": \"\\ucda9\\uccad\\ub0a8\\ub3c4\", \"value\": 217}, {\"\\uc720\\ud615\\ubcc4\": \"\\uc548\\uba74\", \"variable\": \"\\ucda9\\uccad\\ub0a8\\ub3c4\", \"value\": 126}, {\"\\uc720\\ud615\\ubcc4\": \"\\uc790\\ud3d0\\uc131\", \"variable\": \"\\ucda9\\uccad\\ub0a8\\ub3c4\", \"value\": 811}, {\"\\uc720\\ud615\\ubcc4\": \"\\uc7a5\\ub8e8\\u318d\\uc694\\ub8e8\", \"variable\": \"\\ucda9\\uccad\\ub0a8\\ub3c4\", \"value\": 750}, {\"\\uc720\\ud615\\ubcc4\": \"\\uc815\\uc2e0\", \"variable\": \"\\ucda9\\uccad\\ub0a8\\ub3c4\", \"value\": 5245}, {\"\\uc720\\ud615\\ubcc4\": \"\\uc9c0\\uc801\", \"variable\": \"\\ucda9\\uccad\\ub0a8\\ub3c4\", \"value\": 11349}, {\"\\uc720\\ud615\\ubcc4\": \"\\uc9c0\\uccb4\", \"variable\": \"\\ucda9\\uccad\\ub0a8\\ub3c4\", \"value\": 64668}, {\"\\uc720\\ud615\\ubcc4\": \"\\uccad\\uac01\\u318d\\uc5b8\\uc5b4\", \"variable\": \"\\ucda9\\uccad\\ub0a8\\ub3c4\", \"value\": 17856}, {\"\\uc720\\ud615\\ubcc4\": \"\\ud569\\uacc4\", \"variable\": \"\\ucda9\\uccad\\ub0a8\\ub3c4\", \"value\": 128503}, {\"\\uc720\\ud615\\ubcc4\": \"\\ud638\\ud761\\uae30\", \"variable\": \"\\ucda9\\uccad\\ub0a8\\ub3c4\", \"value\": 584}, {\"\\uc720\\ud615\\ubcc4\": \"\\uac04\", \"variable\": \"\\uc804\\ub77c\\ubd81\\ub3c4\", \"value\": 408}, {\"\\uc720\\ud615\\ubcc4\": \"\\ub1cc\\ubcd1\\ubcc0\", \"variable\": \"\\uc804\\ub77c\\ubd81\\ub3c4\", \"value\": 12274}, {\"\\uc720\\ud615\\ubcc4\": \"\\ub1cc\\uc804\\uc99d\", \"variable\": \"\\uc804\\ub77c\\ubd81\\ub3c4\", \"value\": 432}, {\"\\uc720\\ud615\\ubcc4\": \"\\uc2dc\\uac01\", \"variable\": \"\\uc804\\ub77c\\ubd81\\ub3c4\", \"value\": 11693}, {\"\\uc720\\ud615\\ubcc4\": \"\\uc2e0\\uc7a5\", \"variable\": \"\\uc804\\ub77c\\ubd81\\ub3c4\", \"value\": 2733}, {\"\\uc720\\ud615\\ubcc4\": \"\\uc2ec\\uc7a5\", \"variable\": \"\\uc804\\ub77c\\ubd81\\ub3c4\", \"value\": 164}, {\"\\uc720\\ud615\\ubcc4\": \"\\uc548\\uba74\", \"variable\": \"\\uc804\\ub77c\\ubd81\\ub3c4\", \"value\": 114}, {\"\\uc720\\ud615\\ubcc4\": \"\\uc790\\ud3d0\\uc131\", \"variable\": \"\\uc804\\ub77c\\ubd81\\ub3c4\", \"value\": 692}, {\"\\uc720\\ud615\\ubcc4\": \"\\uc7a5\\ub8e8\\u318d\\uc694\\ub8e8\", \"variable\": \"\\uc804\\ub77c\\ubd81\\ub3c4\", \"value\": 579}, {\"\\uc720\\ud615\\ubcc4\": \"\\uc815\\uc2e0\", \"variable\": \"\\uc804\\ub77c\\ubd81\\ub3c4\", \"value\": 5491}, {\"\\uc720\\ud615\\ubcc4\": \"\\uc9c0\\uc801\", \"variable\": \"\\uc804\\ub77c\\ubd81\\ub3c4\", \"value\": 11974}, {\"\\uc720\\ud615\\ubcc4\": \"\\uc9c0\\uccb4\", \"variable\": \"\\uc804\\ub77c\\ubd81\\ub3c4\", \"value\": 67516}, {\"\\uc720\\ud615\\ubcc4\": \"\\uccad\\uac01\\u318d\\uc5b8\\uc5b4\", \"variable\": \"\\uc804\\ub77c\\ubd81\\ub3c4\", \"value\": 16858}, {\"\\uc720\\ud615\\ubcc4\": \"\\ud569\\uacc4\", \"variable\": \"\\uc804\\ub77c\\ubd81\\ub3c4\", \"value\": 131303}, {\"\\uc720\\ud615\\ubcc4\": \"\\ud638\\ud761\\uae30\", \"variable\": \"\\uc804\\ub77c\\ubd81\\ub3c4\", \"value\": 375}, {\"\\uc720\\ud615\\ubcc4\": \"\\uac04\", \"variable\": \"\\uc804\\ub77c\\ub0a8\\ub3c4\", \"value\": 500}, {\"\\uc720\\ud615\\ubcc4\": \"\\ub1cc\\ubcd1\\ubcc0\", \"variable\": \"\\uc804\\ub77c\\ub0a8\\ub3c4\", \"value\": 11682}, {\"\\uc720\\ud615\\ubcc4\": \"\\ub1cc\\uc804\\uc99d\", \"variable\": \"\\uc804\\ub77c\\ub0a8\\ub3c4\", \"value\": 389}, {\"\\uc720\\ud615\\ubcc4\": \"\\uc2dc\\uac01\", \"variable\": \"\\uc804\\ub77c\\ub0a8\\ub3c4\", \"value\": 14198}, {\"\\uc720\\ud615\\ubcc4\": \"\\uc2e0\\uc7a5\", \"variable\": \"\\uc804\\ub77c\\ub0a8\\ub3c4\", \"value\": 3121}, {\"\\uc720\\ud615\\ubcc4\": \"\\uc2ec\\uc7a5\", \"variable\": \"\\uc804\\ub77c\\ub0a8\\ub3c4\", \"value\": 202}, {\"\\uc720\\ud615\\ubcc4\": \"\\uc548\\uba74\", \"variable\": \"\\uc804\\ub77c\\ub0a8\\ub3c4\", \"value\": 90}, {\"\\uc720\\ud615\\ubcc4\": \"\\uc790\\ud3d0\\uc131\", \"variable\": \"\\uc804\\ub77c\\ub0a8\\ub3c4\", \"value\": 649}, {\"\\uc720\\ud615\\ubcc4\": \"\\uc7a5\\ub8e8\\u318d\\uc694\\ub8e8\", \"variable\": \"\\uc804\\ub77c\\ub0a8\\ub3c4\", \"value\": 623}, {\"\\uc720\\ud615\\ubcc4\": \"\\uc815\\uc2e0\", \"variable\": \"\\uc804\\ub77c\\ub0a8\\ub3c4\", \"value\": 5723}, {\"\\uc720\\ud615\\ubcc4\": \"\\uc9c0\\uc801\", \"variable\": \"\\uc804\\ub77c\\ub0a8\\ub3c4\", \"value\": 11579}, {\"\\uc720\\ud615\\ubcc4\": \"\\uc9c0\\uccb4\", \"variable\": \"\\uc804\\ub77c\\ub0a8\\ub3c4\", \"value\": 73318}, {\"\\uc720\\ud615\\ubcc4\": \"\\uccad\\uac01\\u318d\\uc5b8\\uc5b4\", \"variable\": \"\\uc804\\ub77c\\ub0a8\\ub3c4\", \"value\": 19494}, {\"\\uc720\\ud615\\ubcc4\": \"\\ud569\\uacc4\", \"variable\": \"\\uc804\\ub77c\\ub0a8\\ub3c4\", \"value\": 142174}, {\"\\uc720\\ud615\\ubcc4\": \"\\ud638\\ud761\\uae30\", \"variable\": \"\\uc804\\ub77c\\ub0a8\\ub3c4\", \"value\": 606}, {\"\\uc720\\ud615\\ubcc4\": \"\\uac04\", \"variable\": \"\\uacbd\\uc0c1\\ubd81\\ub3c4\", \"value\": 737}, {\"\\uc720\\ud615\\ubcc4\": \"\\ub1cc\\ubcd1\\ubcc0\", \"variable\": \"\\uacbd\\uc0c1\\ubd81\\ub3c4\", \"value\": 16100}, {\"\\uc720\\ud615\\ubcc4\": \"\\ub1cc\\uc804\\uc99d\", \"variable\": \"\\uacbd\\uc0c1\\ubd81\\ub3c4\", \"value\": 350}, {\"\\uc720\\ud615\\ubcc4\": \"\\uc2dc\\uac01\", \"variable\": \"\\uacbd\\uc0c1\\ubd81\\ub3c4\", \"value\": 16396}, {\"\\uc720\\ud615\\ubcc4\": \"\\uc2e0\\uc7a5\", \"variable\": \"\\uacbd\\uc0c1\\ubd81\\ub3c4\", \"value\": 4346}, {\"\\uc720\\ud615\\ubcc4\": \"\\uc2ec\\uc7a5\", \"variable\": \"\\uacbd\\uc0c1\\ubd81\\ub3c4\", \"value\": 328}, {\"\\uc720\\ud615\\ubcc4\": \"\\uc548\\uba74\", \"variable\": \"\\uacbd\\uc0c1\\ubd81\\ub3c4\", \"value\": 200}, {\"\\uc720\\ud615\\ubcc4\": \"\\uc790\\ud3d0\\uc131\", \"variable\": \"\\uacbd\\uc0c1\\ubd81\\ub3c4\", \"value\": 1029}, {\"\\uc720\\ud615\\ubcc4\": \"\\uc7a5\\ub8e8\\u318d\\uc694\\ub8e8\", \"variable\": \"\\uacbd\\uc0c1\\ubd81\\ub3c4\", \"value\": 843}, {\"\\uc720\\ud615\\ubcc4\": \"\\uc815\\uc2e0\", \"variable\": \"\\uacbd\\uc0c1\\ubd81\\ub3c4\", \"value\": 7367}, {\"\\uc720\\ud615\\ubcc4\": \"\\uc9c0\\uc801\", \"variable\": \"\\uacbd\\uc0c1\\ubd81\\ub3c4\", \"value\": 15449}, {\"\\uc720\\ud615\\ubcc4\": \"\\uc9c0\\uccb4\", \"variable\": \"\\uacbd\\uc0c1\\ubd81\\ub3c4\", \"value\": 83226}, {\"\\uc720\\ud615\\ubcc4\": \"\\uccad\\uac01\\u318d\\uc5b8\\uc5b4\", \"variable\": \"\\uacbd\\uc0c1\\ubd81\\ub3c4\", \"value\": 25502}, {\"\\uc720\\ud615\\ubcc4\": \"\\ud569\\uacc4\", \"variable\": \"\\uacbd\\uc0c1\\ubd81\\ub3c4\", \"value\": 172533}, {\"\\uc720\\ud615\\ubcc4\": \"\\ud638\\ud761\\uae30\", \"variable\": \"\\uacbd\\uc0c1\\ubd81\\ub3c4\", \"value\": 660}, {\"\\uc720\\ud615\\ubcc4\": \"\\uac04\", \"variable\": \"\\uacbd\\uc0c1\\ub0a8\\ub3c4\", \"value\": 657}, {\"\\uc720\\ud615\\ubcc4\": \"\\ub1cc\\ubcd1\\ubcc0\", \"variable\": \"\\uacbd\\uc0c1\\ub0a8\\ub3c4\", \"value\": 17714}, {\"\\uc720\\ud615\\ubcc4\": \"\\ub1cc\\uc804\\uc99d\", \"variable\": \"\\uacbd\\uc0c1\\ub0a8\\ub3c4\", \"value\": 385}, {\"\\uc720\\ud615\\ubcc4\": \"\\uc2dc\\uac01\", \"variable\": \"\\uacbd\\uc0c1\\ub0a8\\ub3c4\", \"value\": 17067}, {\"\\uc720\\ud615\\ubcc4\": \"\\uc2e0\\uc7a5\", \"variable\": \"\\uacbd\\uc0c1\\ub0a8\\ub3c4\", \"value\": 5418}, {\"\\uc720\\ud615\\ubcc4\": \"\\uc2ec\\uc7a5\", \"variable\": \"\\uacbd\\uc0c1\\ub0a8\\ub3c4\", \"value\": 253}, {\"\\uc720\\ud615\\ubcc4\": \"\\uc548\\uba74\", \"variable\": \"\\uacbd\\uc0c1\\ub0a8\\ub3c4\", \"value\": 208}, {\"\\uc720\\ud615\\ubcc4\": \"\\uc790\\ud3d0\\uc131\", \"variable\": \"\\uacbd\\uc0c1\\ub0a8\\ub3c4\", \"value\": 1576}, {\"\\uc720\\ud615\\ubcc4\": \"\\uc7a5\\ub8e8\\u318d\\uc694\\ub8e8\", \"variable\": \"\\uacbd\\uc0c1\\ub0a8\\ub3c4\", \"value\": 955}, {\"\\uc720\\ud615\\ubcc4\": \"\\uc815\\uc2e0\", \"variable\": \"\\uacbd\\uc0c1\\ub0a8\\ub3c4\", \"value\": 7775}, {\"\\uc720\\ud615\\ubcc4\": \"\\uc9c0\\uc801\", \"variable\": \"\\uacbd\\uc0c1\\ub0a8\\ub3c4\", \"value\": 14628}, {\"\\uc720\\ud615\\ubcc4\": \"\\uc9c0\\uccb4\", \"variable\": \"\\uacbd\\uc0c1\\ub0a8\\ub3c4\", \"value\": 94245}, {\"\\uc720\\ud615\\ubcc4\": \"\\uccad\\uac01\\u318d\\uc5b8\\uc5b4\", \"variable\": \"\\uacbd\\uc0c1\\ub0a8\\ub3c4\", \"value\": 21842}, {\"\\uc720\\ud615\\ubcc4\": \"\\ud569\\uacc4\", \"variable\": \"\\uacbd\\uc0c1\\ub0a8\\ub3c4\", \"value\": 183510}, {\"\\uc720\\ud615\\ubcc4\": \"\\ud638\\ud761\\uae30\", \"variable\": \"\\uacbd\\uc0c1\\ub0a8\\ub3c4\", \"value\": 787}, {\"\\uc720\\ud615\\ubcc4\": \"\\uac04\", \"variable\": \"\\uc81c\\uc8fc\\ub3c4\", \"value\": 161}, {\"\\uc720\\ud615\\ubcc4\": \"\\ub1cc\\ubcd1\\ubcc0\", \"variable\": \"\\uc81c\\uc8fc\\ub3c4\", \"value\": 3528}, {\"\\uc720\\ud615\\ubcc4\": \"\\ub1cc\\uc804\\uc99d\", \"variable\": \"\\uc81c\\uc8fc\\ub3c4\", \"value\": 124}, {\"\\uc720\\ud615\\ubcc4\": \"\\uc2dc\\uac01\", \"variable\": \"\\uc81c\\uc8fc\\ub3c4\", \"value\": 4253}, {\"\\uc720\\ud615\\ubcc4\": \"\\uc2e0\\uc7a5\", \"variable\": \"\\uc81c\\uc8fc\\ub3c4\", \"value\": 1255}, {\"\\uc720\\ud615\\ubcc4\": \"\\uc2ec\\uc7a5\", \"variable\": \"\\uc81c\\uc8fc\\ub3c4\", \"value\": 77}, {\"\\uc720\\ud615\\ubcc4\": \"\\uc548\\uba74\", \"variable\": \"\\uc81c\\uc8fc\\ub3c4\", \"value\": 23}, {\"\\uc720\\ud615\\ubcc4\": \"\\uc790\\ud3d0\\uc131\", \"variable\": \"\\uc81c\\uc8fc\\ub3c4\", \"value\": 470}, {\"\\uc720\\ud615\\ubcc4\": \"\\uc7a5\\ub8e8\\u318d\\uc694\\ub8e8\", \"variable\": \"\\uc81c\\uc8fc\\ub3c4\", \"value\": 179}, {\"\\uc720\\ud615\\ubcc4\": \"\\uc815\\uc2e0\", \"variable\": \"\\uc81c\\uc8fc\\ub3c4\", \"value\": 1265}, {\"\\uc720\\ud615\\ubcc4\": \"\\uc9c0\\uc801\", \"variable\": \"\\uc81c\\uc8fc\\ub3c4\", \"value\": 3135}, {\"\\uc720\\ud615\\ubcc4\": \"\\uc9c0\\uccb4\", \"variable\": \"\\uc81c\\uc8fc\\ub3c4\", \"value\": 14746}, {\"\\uc720\\ud615\\ubcc4\": \"\\uccad\\uac01\\u318d\\uc5b8\\uc5b4\", \"variable\": \"\\uc81c\\uc8fc\\ub3c4\", \"value\": 5642}, {\"\\uc720\\ud615\\ubcc4\": \"\\ud569\\uacc4\", \"variable\": \"\\uc81c\\uc8fc\\ub3c4\", \"value\": 35104}, {\"\\uc720\\ud615\\ubcc4\": \"\\ud638\\ud761\\uae30\", \"variable\": \"\\uc81c\\uc8fc\\ub3c4\", \"value\": 246}]}};\n",
       "var opt = {};\n",
       "var selector = \"#274d59d9-92eb-4c0d-a5c6-1da8cbfc945f\";\n",
       "var type = \"vega-lite\";\n",
       "\n",
       "var output_area = this;\n",
       "\n",
       "require(['nbextensions/jupyter-vega3/index'], function(vega) {\n",
       "  vega.render(selector, spec, type, opt, output_area);\n",
       "}, function (err) {\n",
       "  if (err.requireType !== 'scripterror') {\n",
       "    throw(err);\n",
       "  }\n",
       "});\n"
      ]
     },
     "metadata": {
      "jupyter-vega3": "#274d59d9-92eb-4c0d-a5c6-1da8cbfc945f"
     },
     "output_type": "display_data"
    },
    {
     "data": {
      "image/png": "[encoded data removed]"
     },
     "metadata": {
      "jupyter-vega3": "#274d59d9-92eb-4c0d-a5c6-1da8cbfc945f"
     },
     "output_type": "display_data"
    }
   ],
   "source": [
    "graph3.vgplot.bar(width = 500, height=500,interactive=False)"
   ]
  },
  {
   "cell_type": "code",
   "execution_count": null,
   "metadata": {},
   "outputs": [],
   "source": []
  },
  {
   "cell_type": "code",
   "execution_count": 10,
   "metadata": {},
   "outputs": [],
   "source": [
    "popul = pd.read_csv('population.csv')"
   ]
  },
  {
   "cell_type": "code",
   "execution_count": 15,
   "metadata": {},
   "outputs": [],
   "source": [
    "import json"
   ]
  },
  {
   "cell_type": "code",
   "execution_count": 23,
   "metadata": {},
   "outputs": [],
   "source": [
    "jj = popul.to_dict()"
   ]
  },
  {
   "cell_type": "code",
   "execution_count": 28,
   "metadata": {},
   "outputs": [
    {
     "data": {
      "text/html": [
       "<div>\n",
       "<style scoped>\n",
       "    .dataframe tbody tr th:only-of-type {\n",
       "        vertical-align: middle;\n",
       "    }\n",
       "\n",
       "    .dataframe tbody tr th {\n",
       "        vertical-align: top;\n",
       "    }\n",
       "\n",
       "    .dataframe thead th {\n",
       "        text-align: right;\n",
       "    }\n",
       "</style>\n",
       "<table border=\"1\" class=\"dataframe\">\n",
       "  <thead>\n",
       "    <tr style=\"text-align: right;\">\n",
       "      <th></th>\n",
       "      <th>행정구역별</th>\n",
       "      <th>전체 (명)</th>\n",
       "    </tr>\n",
       "  </thead>\n",
       "  <tbody>\n",
       "    <tr>\n",
       "      <th>0</th>\n",
       "      <td>서울특별시</td>\n",
       "      <td>391753</td>\n",
       "    </tr>\n",
       "    <tr>\n",
       "      <th>1</th>\n",
       "      <td>종로구</td>\n",
       "      <td>6064</td>\n",
       "    </tr>\n",
       "    <tr>\n",
       "      <th>2</th>\n",
       "      <td>중구</td>\n",
       "      <td>5694</td>\n",
       "    </tr>\n",
       "    <tr>\n",
       "      <th>3</th>\n",
       "      <td>용산구</td>\n",
       "      <td>8116</td>\n",
       "    </tr>\n",
       "    <tr>\n",
       "      <th>4</th>\n",
       "      <td>성동구</td>\n",
       "      <td>11770</td>\n",
       "    </tr>\n",
       "    <tr>\n",
       "      <th>5</th>\n",
       "      <td>광진구</td>\n",
       "      <td>12514</td>\n",
       "    </tr>\n",
       "    <tr>\n",
       "      <th>6</th>\n",
       "      <td>동대문구</td>\n",
       "      <td>15893</td>\n",
       "    </tr>\n",
       "    <tr>\n",
       "      <th>7</th>\n",
       "      <td>중랑구</td>\n",
       "      <td>20034</td>\n",
       "    </tr>\n",
       "    <tr>\n",
       "      <th>8</th>\n",
       "      <td>성북구</td>\n",
       "      <td>17529</td>\n",
       "    </tr>\n",
       "    <tr>\n",
       "      <th>9</th>\n",
       "      <td>강북구</td>\n",
       "      <td>17377</td>\n",
       "    </tr>\n",
       "    <tr>\n",
       "      <th>10</th>\n",
       "      <td>도봉구</td>\n",
       "      <td>15196</td>\n",
       "    </tr>\n",
       "    <tr>\n",
       "      <th>11</th>\n",
       "      <td>노원구</td>\n",
       "      <td>27436</td>\n",
       "    </tr>\n",
       "    <tr>\n",
       "      <th>12</th>\n",
       "      <td>은평구</td>\n",
       "      <td>21301</td>\n",
       "    </tr>\n",
       "    <tr>\n",
       "      <th>13</th>\n",
       "      <td>서대문구</td>\n",
       "      <td>12644</td>\n",
       "    </tr>\n",
       "    <tr>\n",
       "      <th>14</th>\n",
       "      <td>마포구</td>\n",
       "      <td>13250</td>\n",
       "    </tr>\n",
       "    <tr>\n",
       "      <th>15</th>\n",
       "      <td>양천구</td>\n",
       "      <td>17232</td>\n",
       "    </tr>\n",
       "    <tr>\n",
       "      <th>16</th>\n",
       "      <td>강서구</td>\n",
       "      <td>28717</td>\n",
       "    </tr>\n",
       "    <tr>\n",
       "      <th>17</th>\n",
       "      <td>구로구</td>\n",
       "      <td>17289</td>\n",
       "    </tr>\n",
       "    <tr>\n",
       "      <th>18</th>\n",
       "      <td>금천구</td>\n",
       "      <td>11059</td>\n",
       "    </tr>\n",
       "    <tr>\n",
       "      <th>19</th>\n",
       "      <td>영등포구</td>\n",
       "      <td>14351</td>\n",
       "    </tr>\n",
       "    <tr>\n",
       "      <th>20</th>\n",
       "      <td>동작구</td>\n",
       "      <td>14590</td>\n",
       "    </tr>\n",
       "    <tr>\n",
       "      <th>21</th>\n",
       "      <td>관악구</td>\n",
       "      <td>20103</td>\n",
       "    </tr>\n",
       "    <tr>\n",
       "      <th>22</th>\n",
       "      <td>서초구</td>\n",
       "      <td>10774</td>\n",
       "    </tr>\n",
       "    <tr>\n",
       "      <th>23</th>\n",
       "      <td>강남구</td>\n",
       "      <td>15617</td>\n",
       "    </tr>\n",
       "    <tr>\n",
       "      <th>24</th>\n",
       "      <td>송파구</td>\n",
       "      <td>19790</td>\n",
       "    </tr>\n",
       "    <tr>\n",
       "      <th>25</th>\n",
       "      <td>강동구</td>\n",
       "      <td>17413</td>\n",
       "    </tr>\n",
       "  </tbody>\n",
       "</table>\n",
       "</div>"
      ],
      "text/plain": [
       "    행정구역별  전체 (명)\n",
       "0   서울특별시  391753\n",
       "1     종로구    6064\n",
       "2      중구    5694\n",
       "3     용산구    8116\n",
       "4     성동구   11770\n",
       "5     광진구   12514\n",
       "6    동대문구   15893\n",
       "7     중랑구   20034\n",
       "8     성북구   17529\n",
       "9     강북구   17377\n",
       "10    도봉구   15196\n",
       "11    노원구   27436\n",
       "12    은평구   21301\n",
       "13   서대문구   12644\n",
       "14    마포구   13250\n",
       "15    양천구   17232\n",
       "16    강서구   28717\n",
       "17    구로구   17289\n",
       "18    금천구   11059\n",
       "19   영등포구   14351\n",
       "20    동작구   14590\n",
       "21    관악구   20103\n",
       "22    서초구   10774\n",
       "23    강남구   15617\n",
       "24    송파구   19790\n",
       "25    강동구   17413"
      ]
     },
     "execution_count": 28,
     "metadata": {},
     "output_type": "execute_result"
    }
   ],
   "source": [
    "popul"
   ]
  },
  {
   "cell_type": "code",
   "execution_count": 31,
   "metadata": {},
   "outputs": [],
   "source": [
    "t_list = []\n",
    "p_list= []"
   ]
  },
  {
   "cell_type": "code",
   "execution_count": 32,
   "metadata": {},
   "outputs": [],
   "source": [
    "for i in popul.행정구역별:\n",
    "    t_list.append(i)"
   ]
  },
  {
   "cell_type": "code",
   "execution_count": 36,
   "metadata": {},
   "outputs": [],
   "source": [
    "t_list = t_list[1:]"
   ]
  },
  {
   "cell_type": "code",
   "execution_count": 39,
   "metadata": {},
   "outputs": [],
   "source": [
    "for i in popul['전체 (명)']:\n",
    "    p_list.append(i)"
   ]
  },
  {
   "cell_type": "code",
   "execution_count": 44,
   "metadata": {},
   "outputs": [],
   "source": [
    "p_list = p_list[1:]"
   ]
  },
  {
   "cell_type": "code",
   "execution_count": 45,
   "metadata": {},
   "outputs": [
    {
     "data": {
      "text/plain": [
       "['종로구',\n",
       " '중구',\n",
       " '용산구',\n",
       " '성동구',\n",
       " '광진구',\n",
       " '동대문구',\n",
       " '중랑구',\n",
       " '성북구',\n",
       " '강북구',\n",
       " '도봉구',\n",
       " '노원구',\n",
       " '은평구',\n",
       " '서대문구',\n",
       " '마포구',\n",
       " '양천구',\n",
       " '강서구',\n",
       " '구로구',\n",
       " '금천구',\n",
       " '영등포구',\n",
       " '동작구',\n",
       " '관악구',\n",
       " '서초구',\n",
       " '강남구',\n",
       " '송파구',\n",
       " '강동구']"
      ]
     },
     "execution_count": 45,
     "metadata": {},
     "output_type": "execute_result"
    }
   ],
   "source": [
    "t_list"
   ]
  },
  {
   "cell_type": "code",
   "execution_count": 46,
   "metadata": {},
   "outputs": [
    {
     "data": {
      "text/plain": [
       "[6064,\n",
       " 5694,\n",
       " 8116,\n",
       " 11770,\n",
       " 12514,\n",
       " 15893,\n",
       " 20034,\n",
       " 17529,\n",
       " 17377,\n",
       " 15196,\n",
       " 27436,\n",
       " 21301,\n",
       " 12644,\n",
       " 13250,\n",
       " 17232,\n",
       " 28717,\n",
       " 17289,\n",
       " 11059,\n",
       " 14351,\n",
       " 14590,\n",
       " 20103,\n",
       " 10774,\n",
       " 15617,\n",
       " 19790,\n",
       " 17413]"
      ]
     },
     "execution_count": 46,
     "metadata": {},
     "output_type": "execute_result"
    }
   ],
   "source": [
    "p_list"
   ]
  },
  {
   "cell_type": "code",
   "execution_count": 27,
   "metadata": {},
   "outputs": [
    {
     "data": {
      "text/plain": [
       "dict_keys(['행정구역별', '전체 (명)'])"
      ]
     },
     "execution_count": 27,
     "metadata": {},
     "output_type": "execute_result"
    }
   ],
   "source": [
    "jj.keys()"
   ]
  },
  {
   "cell_type": "code",
   "execution_count": 110,
   "metadata": {},
   "outputs": [],
   "source": [
    "popul =popul[1:]"
   ]
  },
  {
   "cell_type": "code",
   "execution_count": 111,
   "metadata": {
    "scrolled": true
   },
   "outputs": [],
   "source": [
    "graph1 = popul.groupby('행정구역별').sum()"
   ]
  },
  {
   "cell_type": "code",
   "execution_count": 112,
   "metadata": {},
   "outputs": [
    {
     "data": {
      "text/html": [
       "<div class=\"vega-embed\" id=\"ee931520-7ea2-4c9c-ba1c-d7a6a6bb5095\"></div>\n",
       "\n",
       "<style>\n",
       ".vega-embed .vega-actions > a {\n",
       "    transition: opacity 200ms ease-in;\n",
       "    opacity: 0.3;\n",
       "    margin-right: 0.6em;\n",
       "    color: #444;\n",
       "    text-decoration: none;\n",
       "}\n",
       "\n",
       ".vega-embed .vega-actions > a:hover {\n",
       "    color: #000;\n",
       "    text-decoration: underline;\n",
       "}\n",
       "\n",
       ".vega-embed:hover .vega-actions > a {\n",
       "    opacity: 1;\n",
       "    transition: 0s;\n",
       "}\n",
       "\n",
       ".vega-embed .error p {\n",
       "    color: firebrick;\n",
       "    font-size: 1.2em;\n",
       "}\n",
       "</style>\n"
      ]
     },
     "metadata": {
      "jupyter-vega3": "#ee931520-7ea2-4c9c-ba1c-d7a6a6bb5095"
     },
     "output_type": "display_data"
    },
    {
     "data": {
      "application/javascript": [
       "var spec = {\"mark\": \"bar\", \"encoding\": {\"x\": {\"field\": \"\\ud589\\uc815\\uad6c\\uc5ed\\ubcc4\", \"type\": \"nominal\"}, \"y\": {\"field\": \"value\", \"type\": \"quantitative\", \"stack\": null}, \"color\": {\"field\": \"variable\", \"type\": \"nominal\"}}, \"$schema\": \"https://vega.github.io/schema/vega-lite/v2.json\", \"width\": 500, \"height\": 500, \"data\": {\"values\": [{\"\\ud589\\uc815\\uad6c\\uc5ed\\ubcc4\": \"\\uac15\\ub0a8\\uad6c\", \"variable\": \"\\uc804\\uccb4 (\\uba85)\", \"value\": 15617}, {\"\\ud589\\uc815\\uad6c\\uc5ed\\ubcc4\": \"\\uac15\\ub3d9\\uad6c\", \"variable\": \"\\uc804\\uccb4 (\\uba85)\", \"value\": 17413}, {\"\\ud589\\uc815\\uad6c\\uc5ed\\ubcc4\": \"\\uac15\\ubd81\\uad6c\", \"variable\": \"\\uc804\\uccb4 (\\uba85)\", \"value\": 17377}, {\"\\ud589\\uc815\\uad6c\\uc5ed\\ubcc4\": \"\\uac15\\uc11c\\uad6c\", \"variable\": \"\\uc804\\uccb4 (\\uba85)\", \"value\": 28717}, {\"\\ud589\\uc815\\uad6c\\uc5ed\\ubcc4\": \"\\uad00\\uc545\\uad6c\", \"variable\": \"\\uc804\\uccb4 (\\uba85)\", \"value\": 20103}, {\"\\ud589\\uc815\\uad6c\\uc5ed\\ubcc4\": \"\\uad11\\uc9c4\\uad6c\", \"variable\": \"\\uc804\\uccb4 (\\uba85)\", \"value\": 12514}, {\"\\ud589\\uc815\\uad6c\\uc5ed\\ubcc4\": \"\\uad6c\\ub85c\\uad6c\", \"variable\": \"\\uc804\\uccb4 (\\uba85)\", \"value\": 17289}, {\"\\ud589\\uc815\\uad6c\\uc5ed\\ubcc4\": \"\\uae08\\ucc9c\\uad6c\", \"variable\": \"\\uc804\\uccb4 (\\uba85)\", \"value\": 11059}, {\"\\ud589\\uc815\\uad6c\\uc5ed\\ubcc4\": \"\\ub178\\uc6d0\\uad6c\", \"variable\": \"\\uc804\\uccb4 (\\uba85)\", \"value\": 27436}, {\"\\ud589\\uc815\\uad6c\\uc5ed\\ubcc4\": \"\\ub3c4\\ubd09\\uad6c\", \"variable\": \"\\uc804\\uccb4 (\\uba85)\", \"value\": 15196}, {\"\\ud589\\uc815\\uad6c\\uc5ed\\ubcc4\": \"\\ub3d9\\ub300\\ubb38\\uad6c\", \"variable\": \"\\uc804\\uccb4 (\\uba85)\", \"value\": 15893}, {\"\\ud589\\uc815\\uad6c\\uc5ed\\ubcc4\": \"\\ub3d9\\uc791\\uad6c\", \"variable\": \"\\uc804\\uccb4 (\\uba85)\", \"value\": 14590}, {\"\\ud589\\uc815\\uad6c\\uc5ed\\ubcc4\": \"\\ub9c8\\ud3ec\\uad6c\", \"variable\": \"\\uc804\\uccb4 (\\uba85)\", \"value\": 13250}, {\"\\ud589\\uc815\\uad6c\\uc5ed\\ubcc4\": \"\\uc11c\\ub300\\ubb38\\uad6c\", \"variable\": \"\\uc804\\uccb4 (\\uba85)\", \"value\": 12644}, {\"\\ud589\\uc815\\uad6c\\uc5ed\\ubcc4\": \"\\uc11c\\ucd08\\uad6c\", \"variable\": \"\\uc804\\uccb4 (\\uba85)\", \"value\": 10774}, {\"\\ud589\\uc815\\uad6c\\uc5ed\\ubcc4\": \"\\uc131\\ub3d9\\uad6c\", \"variable\": \"\\uc804\\uccb4 (\\uba85)\", \"value\": 11770}, {\"\\ud589\\uc815\\uad6c\\uc5ed\\ubcc4\": \"\\uc131\\ubd81\\uad6c\", \"variable\": \"\\uc804\\uccb4 (\\uba85)\", \"value\": 17529}, {\"\\ud589\\uc815\\uad6c\\uc5ed\\ubcc4\": \"\\uc1a1\\ud30c\\uad6c\", \"variable\": \"\\uc804\\uccb4 (\\uba85)\", \"value\": 19790}, {\"\\ud589\\uc815\\uad6c\\uc5ed\\ubcc4\": \"\\uc591\\ucc9c\\uad6c\", \"variable\": \"\\uc804\\uccb4 (\\uba85)\", \"value\": 17232}, {\"\\ud589\\uc815\\uad6c\\uc5ed\\ubcc4\": \"\\uc601\\ub4f1\\ud3ec\\uad6c\", \"variable\": \"\\uc804\\uccb4 (\\uba85)\", \"value\": 14351}, {\"\\ud589\\uc815\\uad6c\\uc5ed\\ubcc4\": \"\\uc6a9\\uc0b0\\uad6c\", \"variable\": \"\\uc804\\uccb4 (\\uba85)\", \"value\": 8116}, {\"\\ud589\\uc815\\uad6c\\uc5ed\\ubcc4\": \"\\uc740\\ud3c9\\uad6c\", \"variable\": \"\\uc804\\uccb4 (\\uba85)\", \"value\": 21301}, {\"\\ud589\\uc815\\uad6c\\uc5ed\\ubcc4\": \"\\uc885\\ub85c\\uad6c\", \"variable\": \"\\uc804\\uccb4 (\\uba85)\", \"value\": 6064}, {\"\\ud589\\uc815\\uad6c\\uc5ed\\ubcc4\": \"\\uc911\\uad6c\", \"variable\": \"\\uc804\\uccb4 (\\uba85)\", \"value\": 5694}, {\"\\ud589\\uc815\\uad6c\\uc5ed\\ubcc4\": \"\\uc911\\ub791\\uad6c\", \"variable\": \"\\uc804\\uccb4 (\\uba85)\", \"value\": 20034}]}};\n",
       "var opt = {};\n",
       "var selector = \"#ee931520-7ea2-4c9c-ba1c-d7a6a6bb5095\";\n",
       "var type = \"vega-lite\";\n",
       "\n",
       "var output_area = this;\n",
       "\n",
       "require(['nbextensions/jupyter-vega3/index'], function(vega) {\n",
       "  vega.render(selector, spec, type, opt, output_area);\n",
       "}, function (err) {\n",
       "  if (err.requireType !== 'scripterror') {\n",
       "    throw(err);\n",
       "  }\n",
       "});\n"
      ]
     },
     "metadata": {
      "jupyter-vega3": "#ee931520-7ea2-4c9c-ba1c-d7a6a6bb5095"
     },
     "output_type": "display_data"
    },
    {
     "data": {
      "image/png": "[encoded data removed]"
     },
     "metadata": {
      "jupyter-vega3": "#ee931520-7ea2-4c9c-ba1c-d7a6a6bb5095"
     },
     "output_type": "display_data"
    }
   ],
   "source": [
    "graph1.vgplot.bar(width = 500, height=500,interactive=False)"
   ]
  },
  {
   "cell_type": "code",
   "execution_count": null,
   "metadata": {},
   "outputs": [],
   "source": []
  }
 ],
 "metadata": {
  "kernelspec": {
   "display_name": "Python 3",
   "language": "python",
   "name": "python3"
  },
  "language_info": {
   "codemirror_mode": {
    "name": "ipython",
    "version": 3
   },
   "file_extension": ".py",
   "mimetype": "text/x-python",
   "name": "python",
   "nbconvert_exporter": "python",
   "pygments_lexer": "ipython3",
   "version": "3.6.5"
  }
 },
 "nbformat": 4,
 "nbformat_minor": 2
}
