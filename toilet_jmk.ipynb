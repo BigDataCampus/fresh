{
 "cells": [
  {
   "cell_type": "code",
   "execution_count": 50,
   "metadata": {},
   "outputs": [],
   "source": [
    "import pandas as pd\n",
    "import sqlite3 as sql"
   ]
  },
  {
   "cell_type": "code",
   "execution_count": 51,
   "metadata": {},
   "outputs": [],
   "source": [
    "df1 = pd.read_csv('toilets.csv', encoding='euc-kr')"
   ]
  },
  {
   "cell_type": "code",
   "execution_count": 52,
   "metadata": {},
   "outputs": [],
   "source": [
    "df1 = df[['화장실명','소재지지번주소', '위도', '경도', '구분']]"
   ]
  },
  {
   "cell_type": "code",
   "execution_count": 53,
   "metadata": {
    "scrolled": true
   },
   "outputs": [
    {
     "data": {
      "text/html": [
       "<div>\n",
       "<style scoped>\n",
       "    .dataframe tbody tr th:only-of-type {\n",
       "        vertical-align: middle;\n",
       "    }\n",
       "\n",
       "    .dataframe tbody tr th {\n",
       "        vertical-align: top;\n",
       "    }\n",
       "\n",
       "    .dataframe thead th {\n",
       "        text-align: right;\n",
       "    }\n",
       "</style>\n",
       "<table border=\"1\" class=\"dataframe\">\n",
       "  <thead>\n",
       "    <tr style=\"text-align: right;\">\n",
       "      <th></th>\n",
       "      <th>화장실명</th>\n",
       "      <th>소재지지번주소</th>\n",
       "      <th>위도</th>\n",
       "      <th>경도</th>\n",
       "      <th>구분</th>\n",
       "    </tr>\n",
       "  </thead>\n",
       "  <tbody>\n",
       "    <tr>\n",
       "      <th>0</th>\n",
       "      <td>남대문시장</td>\n",
       "      <td>서울특별시 중구 남창동 51-2</td>\n",
       "      <td>37.559433</td>\n",
       "      <td>126.976225</td>\n",
       "      <td>공중화장실</td>\n",
       "    </tr>\n",
       "    <tr>\n",
       "      <th>1</th>\n",
       "      <td>광희동</td>\n",
       "      <td>서울특별시 중구 광희동1가 202-1</td>\n",
       "      <td>37.564371</td>\n",
       "      <td>127.006306</td>\n",
       "      <td>공중화장실</td>\n",
       "    </tr>\n",
       "    <tr>\n",
       "      <th>2</th>\n",
       "      <td>신당 1호</td>\n",
       "      <td>서울특별시 중구 신당동 236-542</td>\n",
       "      <td>37.563819</td>\n",
       "      <td>127.013347</td>\n",
       "      <td>공중화장실</td>\n",
       "    </tr>\n",
       "    <tr>\n",
       "      <th>3</th>\n",
       "      <td>신당 2호</td>\n",
       "      <td>서울특별시 중구 신당동 298-74</td>\n",
       "      <td>37.561325</td>\n",
       "      <td>127.013778</td>\n",
       "      <td>공중화장실</td>\n",
       "    </tr>\n",
       "    <tr>\n",
       "      <th>4</th>\n",
       "      <td>청구역</td>\n",
       "      <td>서울특별시 중구 신당동 297-17</td>\n",
       "      <td>37.561317</td>\n",
       "      <td>127.013783</td>\n",
       "      <td>공중화장실</td>\n",
       "    </tr>\n",
       "  </tbody>\n",
       "</table>\n",
       "</div>"
      ],
      "text/plain": [
       "    화장실명               소재지지번주소         위도          경도     구분\n",
       "0  남대문시장     서울특별시 중구 남창동 51-2  37.559433  126.976225  공중화장실\n",
       "1    광희동  서울특별시 중구 광희동1가 202-1  37.564371  127.006306  공중화장실\n",
       "2  신당 1호  서울특별시 중구 신당동 236-542  37.563819  127.013347  공중화장실\n",
       "3  신당 2호   서울특별시 중구 신당동 298-74  37.561325  127.013778  공중화장실\n",
       "4    청구역   서울특별시 중구 신당동 297-17  37.561317  127.013783  공중화장실"
      ]
     },
     "execution_count": 53,
     "metadata": {},
     "output_type": "execute_result"
    }
   ],
   "source": [
    "df1.head()"
   ]
  },
  {
   "cell_type": "code",
   "execution_count": 74,
   "metadata": {},
   "outputs": [
    {
     "name": "stdout",
     "output_type": "stream",
     "text": [
      "<class 'pandas.core.frame.DataFrame'>\n",
      "RangeIndex: 25061 entries, 0 to 25060\n",
      "Data columns (total 5 columns):\n",
      "place_name       25061 non-null object\n",
      "place_address    20898 non-null object\n",
      "lat              23166 non-null float64\n",
      "lon              23166 non-null float64\n",
      "category         25061 non-null object\n",
      "dtypes: float64(2), object(3)\n",
      "memory usage: 979.0+ KB\n"
     ]
    }
   ],
   "source": [
    "df1.info()"
   ]
  },
  {
   "cell_type": "code",
   "execution_count": 54,
   "metadata": {},
   "outputs": [],
   "source": [
    "df1=df1.rename(columns = {'화장실명':'place_name', '소재지지번주소':'place_address', '위도':'lat', '경도':'lon', '구분':'category'})"
   ]
  },
  {
   "cell_type": "code",
   "execution_count": 55,
   "metadata": {},
   "outputs": [
    {
     "data": {
      "text/html": [
       "<div>\n",
       "<style scoped>\n",
       "    .dataframe tbody tr th:only-of-type {\n",
       "        vertical-align: middle;\n",
       "    }\n",
       "\n",
       "    .dataframe tbody tr th {\n",
       "        vertical-align: top;\n",
       "    }\n",
       "\n",
       "    .dataframe thead th {\n",
       "        text-align: right;\n",
       "    }\n",
       "</style>\n",
       "<table border=\"1\" class=\"dataframe\">\n",
       "  <thead>\n",
       "    <tr style=\"text-align: right;\">\n",
       "      <th></th>\n",
       "      <th>place_name</th>\n",
       "      <th>place_address</th>\n",
       "      <th>lat</th>\n",
       "      <th>lon</th>\n",
       "      <th>category</th>\n",
       "    </tr>\n",
       "  </thead>\n",
       "  <tbody>\n",
       "    <tr>\n",
       "      <th>0</th>\n",
       "      <td>남대문시장</td>\n",
       "      <td>서울특별시 중구 남창동 51-2</td>\n",
       "      <td>37.559433</td>\n",
       "      <td>126.976225</td>\n",
       "      <td>공중화장실</td>\n",
       "    </tr>\n",
       "    <tr>\n",
       "      <th>1</th>\n",
       "      <td>광희동</td>\n",
       "      <td>서울특별시 중구 광희동1가 202-1</td>\n",
       "      <td>37.564371</td>\n",
       "      <td>127.006306</td>\n",
       "      <td>공중화장실</td>\n",
       "    </tr>\n",
       "    <tr>\n",
       "      <th>2</th>\n",
       "      <td>신당 1호</td>\n",
       "      <td>서울특별시 중구 신당동 236-542</td>\n",
       "      <td>37.563819</td>\n",
       "      <td>127.013347</td>\n",
       "      <td>공중화장실</td>\n",
       "    </tr>\n",
       "    <tr>\n",
       "      <th>3</th>\n",
       "      <td>신당 2호</td>\n",
       "      <td>서울특별시 중구 신당동 298-74</td>\n",
       "      <td>37.561325</td>\n",
       "      <td>127.013778</td>\n",
       "      <td>공중화장실</td>\n",
       "    </tr>\n",
       "    <tr>\n",
       "      <th>4</th>\n",
       "      <td>청구역</td>\n",
       "      <td>서울특별시 중구 신당동 297-17</td>\n",
       "      <td>37.561317</td>\n",
       "      <td>127.013783</td>\n",
       "      <td>공중화장실</td>\n",
       "    </tr>\n",
       "  </tbody>\n",
       "</table>\n",
       "</div>"
      ],
      "text/plain": [
       "  place_name         place_address        lat         lon category\n",
       "0      남대문시장     서울특별시 중구 남창동 51-2  37.559433  126.976225    공중화장실\n",
       "1        광희동  서울특별시 중구 광희동1가 202-1  37.564371  127.006306    공중화장실\n",
       "2      신당 1호  서울특별시 중구 신당동 236-542  37.563819  127.013347    공중화장실\n",
       "3      신당 2호   서울특별시 중구 신당동 298-74  37.561325  127.013778    공중화장실\n",
       "4        청구역   서울특별시 중구 신당동 297-17  37.561317  127.013783    공중화장실"
      ]
     },
     "execution_count": 55,
     "metadata": {},
     "output_type": "execute_result"
    }
   ],
   "source": [
    "df1.head()"
   ]
  },
  {
   "cell_type": "code",
   "execution_count": 56,
   "metadata": {},
   "outputs": [],
   "source": [
    "# place_name 에 + 화장실, category 영어로 바꾸고 . 그리고 새로운 테이블은 남성소변기수,이런것들\n",
    "df1.place_name =df1.place_name.map(lambda x:x + ' 화장실')"
   ]
  },
  {
   "cell_type": "code",
   "execution_count": 57,
   "metadata": {},
   "outputs": [
    {
     "data": {
      "text/html": [
       "<div>\n",
       "<style scoped>\n",
       "    .dataframe tbody tr th:only-of-type {\n",
       "        vertical-align: middle;\n",
       "    }\n",
       "\n",
       "    .dataframe tbody tr th {\n",
       "        vertical-align: top;\n",
       "    }\n",
       "\n",
       "    .dataframe thead th {\n",
       "        text-align: right;\n",
       "    }\n",
       "</style>\n",
       "<table border=\"1\" class=\"dataframe\">\n",
       "  <thead>\n",
       "    <tr style=\"text-align: right;\">\n",
       "      <th></th>\n",
       "      <th>place_name</th>\n",
       "      <th>place_address</th>\n",
       "      <th>lat</th>\n",
       "      <th>lon</th>\n",
       "      <th>category</th>\n",
       "    </tr>\n",
       "  </thead>\n",
       "  <tbody>\n",
       "    <tr>\n",
       "      <th>0</th>\n",
       "      <td>남대문시장 화장실</td>\n",
       "      <td>서울특별시 중구 남창동 51-2</td>\n",
       "      <td>37.559433</td>\n",
       "      <td>126.976225</td>\n",
       "      <td>공중화장실</td>\n",
       "    </tr>\n",
       "    <tr>\n",
       "      <th>1</th>\n",
       "      <td>광희동 화장실</td>\n",
       "      <td>서울특별시 중구 광희동1가 202-1</td>\n",
       "      <td>37.564371</td>\n",
       "      <td>127.006306</td>\n",
       "      <td>공중화장실</td>\n",
       "    </tr>\n",
       "    <tr>\n",
       "      <th>2</th>\n",
       "      <td>신당 1호 화장실</td>\n",
       "      <td>서울특별시 중구 신당동 236-542</td>\n",
       "      <td>37.563819</td>\n",
       "      <td>127.013347</td>\n",
       "      <td>공중화장실</td>\n",
       "    </tr>\n",
       "    <tr>\n",
       "      <th>3</th>\n",
       "      <td>신당 2호 화장실</td>\n",
       "      <td>서울특별시 중구 신당동 298-74</td>\n",
       "      <td>37.561325</td>\n",
       "      <td>127.013778</td>\n",
       "      <td>공중화장실</td>\n",
       "    </tr>\n",
       "    <tr>\n",
       "      <th>4</th>\n",
       "      <td>청구역 화장실</td>\n",
       "      <td>서울특별시 중구 신당동 297-17</td>\n",
       "      <td>37.561317</td>\n",
       "      <td>127.013783</td>\n",
       "      <td>공중화장실</td>\n",
       "    </tr>\n",
       "  </tbody>\n",
       "</table>\n",
       "</div>"
      ],
      "text/plain": [
       "  place_name         place_address        lat         lon category\n",
       "0  남대문시장 화장실     서울특별시 중구 남창동 51-2  37.559433  126.976225    공중화장실\n",
       "1    광희동 화장실  서울특별시 중구 광희동1가 202-1  37.564371  127.006306    공중화장실\n",
       "2  신당 1호 화장실  서울특별시 중구 신당동 236-542  37.563819  127.013347    공중화장실\n",
       "3  신당 2호 화장실   서울특별시 중구 신당동 298-74  37.561325  127.013778    공중화장실\n",
       "4    청구역 화장실   서울특별시 중구 신당동 297-17  37.561317  127.013783    공중화장실"
      ]
     },
     "execution_count": 57,
     "metadata": {},
     "output_type": "execute_result"
    }
   ],
   "source": [
    "df1.head()"
   ]
  },
  {
   "cell_type": "code",
   "execution_count": 58,
   "metadata": {},
   "outputs": [
    {
     "data": {
      "text/plain": [
       "array(['간이화장실', '개방화장실', '이동화장실', '이동화장실무계 수계공원 입구', '공중', '개방'],\n",
       "      dtype=object)"
      ]
     },
     "execution_count": 58,
     "metadata": {},
     "output_type": "execute_result"
    }
   ],
   "source": [
    "df1[df1.category != '공중화장실'].category.unique()"
   ]
  },
  {
   "cell_type": "code",
   "execution_count": 59,
   "metadata": {},
   "outputs": [
    {
     "name": "stdout",
     "output_type": "stream",
     "text": [
      "<class 'pandas.core.frame.DataFrame'>\n",
      "RangeIndex: 25061 entries, 0 to 25060\n",
      "Data columns (total 5 columns):\n",
      "place_name       25061 non-null object\n",
      "place_address    20898 non-null object\n",
      "lat              23166 non-null float64\n",
      "lon              23166 non-null float64\n",
      "category         25061 non-null object\n",
      "dtypes: float64(2), object(3)\n",
      "memory usage: 979.0+ KB\n"
     ]
    }
   ],
   "source": [
    "df1.info()"
   ]
  },
  {
   "cell_type": "code",
   "execution_count": 63,
   "metadata": {},
   "outputs": [],
   "source": [
    "toilet_dict ={ '간이화장실':'toilet/small',\n",
    "              '개방화장실':'toilet/open',\n",
    "              '이동화장실':'toilet/moving',\n",
    "              '이동화장실무계 수계공원 입구' :'toilet/moving',\n",
    "              '공중':'toilet/open', \n",
    "              '개방':'toilet/open',\n",
    "              '공중화장실':'toilet/open'\n",
    "}"
   ]
  },
  {
   "cell_type": "code",
   "execution_count": 65,
   "metadata": {
    "scrolled": true
   },
   "outputs": [],
   "source": [
    "df1.category =  df1.category.map(lambda x : toilet_dict[x])"
   ]
  },
  {
   "cell_type": "code",
   "execution_count": 67,
   "metadata": {
    "scrolled": true
   },
   "outputs": [
    {
     "data": {
      "text/html": [
       "<div>\n",
       "<style scoped>\n",
       "    .dataframe tbody tr th:only-of-type {\n",
       "        vertical-align: middle;\n",
       "    }\n",
       "\n",
       "    .dataframe tbody tr th {\n",
       "        vertical-align: top;\n",
       "    }\n",
       "\n",
       "    .dataframe thead th {\n",
       "        text-align: right;\n",
       "    }\n",
       "</style>\n",
       "<table border=\"1\" class=\"dataframe\">\n",
       "  <thead>\n",
       "    <tr style=\"text-align: right;\">\n",
       "      <th></th>\n",
       "      <th>place_name</th>\n",
       "      <th>place_address</th>\n",
       "      <th>lat</th>\n",
       "      <th>lon</th>\n",
       "      <th>category</th>\n",
       "    </tr>\n",
       "  </thead>\n",
       "  <tbody>\n",
       "    <tr>\n",
       "      <th>2106</th>\n",
       "      <td>강원도개발공사 화장실</td>\n",
       "      <td>강원도 춘천시 중앙로1가9</td>\n",
       "      <td>37.884267</td>\n",
       "      <td>127.729750</td>\n",
       "      <td>toilet/open</td>\n",
       "    </tr>\n",
       "    <tr>\n",
       "      <th>20939</th>\n",
       "      <td>대구동인동우체국 화장실</td>\n",
       "      <td>대구광역시 중구 동인동2가 74-15</td>\n",
       "      <td>35.869681</td>\n",
       "      <td>128.603556</td>\n",
       "      <td>toilet/open</td>\n",
       "    </tr>\n",
       "    <tr>\n",
       "      <th>23621</th>\n",
       "      <td>뉴월드코아 화장실</td>\n",
       "      <td>경기도 고양시 일산서구 일산동 1084-4</td>\n",
       "      <td>37.677259</td>\n",
       "      <td>126.768101</td>\n",
       "      <td>toilet/open</td>\n",
       "    </tr>\n",
       "    <tr>\n",
       "      <th>5525</th>\n",
       "      <td>영양군립전문요양원 화장실</td>\n",
       "      <td>경상북도 영양군 영양읍 화천리 763</td>\n",
       "      <td>36.640025</td>\n",
       "      <td>129.174099</td>\n",
       "      <td>toilet/open</td>\n",
       "    </tr>\n",
       "    <tr>\n",
       "      <th>5024</th>\n",
       "      <td>원고개시장 화장실</td>\n",
       "      <td>대구광역시 서구 비산동  719-11</td>\n",
       "      <td>35.880524</td>\n",
       "      <td>128.568415</td>\n",
       "      <td>toilet/open</td>\n",
       "    </tr>\n",
       "    <tr>\n",
       "      <th>5879</th>\n",
       "      <td>가족문화센터 B동 화장실</td>\n",
       "      <td>울산광역시 울주군 삼동면 조일리 1533</td>\n",
       "      <td>35.531160</td>\n",
       "      <td>129.290883</td>\n",
       "      <td>toilet/open</td>\n",
       "    </tr>\n",
       "    <tr>\n",
       "      <th>11401</th>\n",
       "      <td>여주교육청 화장실</td>\n",
       "      <td>경기도 여주시 상동 201번지</td>\n",
       "      <td>37.297382</td>\n",
       "      <td>127.639634</td>\n",
       "      <td>toilet/open</td>\n",
       "    </tr>\n",
       "    <tr>\n",
       "      <th>11130</th>\n",
       "      <td>양지면주민자치센터 화장실</td>\n",
       "      <td>경기도 용인시 처인구 양지면 양지리 460-1번지</td>\n",
       "      <td>37.236662</td>\n",
       "      <td>127.285826</td>\n",
       "      <td>toilet/open</td>\n",
       "    </tr>\n",
       "    <tr>\n",
       "      <th>22499</th>\n",
       "      <td>도기문화2층 화장실</td>\n",
       "      <td>전라남도 영암군 군서면 서구림리 354</td>\n",
       "      <td>34.760688</td>\n",
       "      <td>126.620041</td>\n",
       "      <td>toilet/open</td>\n",
       "    </tr>\n",
       "    <tr>\n",
       "      <th>6141</th>\n",
       "      <td>호암동주민센터화장실 화장실</td>\n",
       "      <td>충청북도 충주시 호암동 133-2</td>\n",
       "      <td>NaN</td>\n",
       "      <td>NaN</td>\n",
       "      <td>toilet/open</td>\n",
       "    </tr>\n",
       "    <tr>\n",
       "      <th>18267</th>\n",
       "      <td>솔마루공원 화장실</td>\n",
       "      <td>NaN</td>\n",
       "      <td>36.303515</td>\n",
       "      <td>127.320278</td>\n",
       "      <td>toilet/open</td>\n",
       "    </tr>\n",
       "    <tr>\n",
       "      <th>12896</th>\n",
       "      <td>성심의원 화장실</td>\n",
       "      <td>경기도 가평군 가평읍 대곡리 189-3</td>\n",
       "      <td>37.824096</td>\n",
       "      <td>127.515485</td>\n",
       "      <td>toilet/open</td>\n",
       "    </tr>\n",
       "    <tr>\n",
       "      <th>6337</th>\n",
       "      <td>방곡보건진료소 화장실</td>\n",
       "      <td>충청북도 괴산군 장연면 방곡리 186-4</td>\n",
       "      <td>36.861651</td>\n",
       "      <td>127.930329</td>\n",
       "      <td>toilet/open</td>\n",
       "    </tr>\n",
       "    <tr>\n",
       "      <th>17560</th>\n",
       "      <td>아우라지 광장(주차장) 화장실</td>\n",
       "      <td>강원도 정선군 여량면 여량5리?</td>\n",
       "      <td>37.461197</td>\n",
       "      <td>128.752987</td>\n",
       "      <td>toilet/open</td>\n",
       "    </tr>\n",
       "    <tr>\n",
       "      <th>20357</th>\n",
       "      <td>세종중학교 화장실</td>\n",
       "      <td>경상남도 밀양시 가곡동 566번지 1호</td>\n",
       "      <td>35.473779</td>\n",
       "      <td>128.763712</td>\n",
       "      <td>toilet/open</td>\n",
       "    </tr>\n",
       "    <tr>\n",
       "      <th>20007</th>\n",
       "      <td>로 10-9 화장실</td>\n",
       "      <td>충청남도 보령시 미산면 늑전리 산 81-3 무궁화동산</td>\n",
       "      <td>36.135588</td>\n",
       "      <td>126.404085</td>\n",
       "      <td>toilet/small</td>\n",
       "    </tr>\n",
       "    <tr>\n",
       "      <th>17474</th>\n",
       "      <td>진성주유소 화장실</td>\n",
       "      <td>강원도 정선군 정선읍 애산리 581번지</td>\n",
       "      <td>37.372356</td>\n",
       "      <td>128.669830</td>\n",
       "      <td>toilet/open</td>\n",
       "    </tr>\n",
       "    <tr>\n",
       "      <th>5332</th>\n",
       "      <td>도원리 공중화장실 화장실</td>\n",
       "      <td>충청북도 보은군 내북면 도원리 138-4</td>\n",
       "      <td>36.596982</td>\n",
       "      <td>127.651342</td>\n",
       "      <td>toilet/small</td>\n",
       "    </tr>\n",
       "    <tr>\n",
       "      <th>22227</th>\n",
       "      <td>목예원 화장실</td>\n",
       "      <td>NaN</td>\n",
       "      <td>37.623999</td>\n",
       "      <td>127.077850</td>\n",
       "      <td>toilet/open</td>\n",
       "    </tr>\n",
       "    <tr>\n",
       "      <th>15528</th>\n",
       "      <td>용지동유원지 (초원가든 앞) 화장실</td>\n",
       "      <td>전라남도 구례군 간전면 금산리48번지</td>\n",
       "      <td>35.121182</td>\n",
       "      <td>127.545889</td>\n",
       "      <td>toilet/open</td>\n",
       "    </tr>\n",
       "  </tbody>\n",
       "</table>\n",
       "</div>"
      ],
      "text/plain": [
       "                place_name                  place_address        lat  \\\n",
       "2106           강원도개발공사 화장실                 강원도 춘천시 중앙로1가9  37.884267   \n",
       "20939         대구동인동우체국 화장실           대구광역시 중구 동인동2가 74-15  35.869681   \n",
       "23621            뉴월드코아 화장실        경기도 고양시 일산서구 일산동 1084-4  37.677259   \n",
       "5525         영양군립전문요양원 화장실           경상북도 영양군 영양읍 화천리 763  36.640025   \n",
       "5024             원고개시장 화장실           대구광역시 서구 비산동  719-11  35.880524   \n",
       "5879         가족문화센터 B동 화장실         울산광역시 울주군 삼동면 조일리 1533  35.531160   \n",
       "11401            여주교육청 화장실               경기도 여주시 상동 201번지  37.297382   \n",
       "11130        양지면주민자치센터 화장실    경기도 용인시 처인구 양지면 양지리 460-1번지  37.236662   \n",
       "22499           도기문화2층 화장실          전라남도 영암군 군서면 서구림리 354  34.760688   \n",
       "6141        호암동주민센터화장실 화장실             충청북도 충주시 호암동 133-2        NaN   \n",
       "18267            솔마루공원 화장실                            NaN  36.303515   \n",
       "12896             성심의원 화장실          경기도 가평군 가평읍 대곡리 189-3  37.824096   \n",
       "6337           방곡보건진료소 화장실         충청북도 괴산군 장연면 방곡리 186-4  36.861651   \n",
       "17560     아우라지 광장(주차장) 화장실              강원도 정선군 여량면 여량5리?  37.461197   \n",
       "20357            세종중학교 화장실          경상남도 밀양시 가곡동 566번지 1호  35.473779   \n",
       "20007           로 10-9 화장실  충청남도 보령시 미산면 늑전리 산 81-3 무궁화동산  36.135588   \n",
       "17474            진성주유소 화장실          강원도 정선군 정선읍 애산리 581번지  37.372356   \n",
       "5332         도원리 공중화장실 화장실         충청북도 보은군 내북면 도원리 138-4  36.596982   \n",
       "22227              목예원 화장실                            NaN  37.623999   \n",
       "15528  용지동유원지 (초원가든 앞) 화장실           전라남도 구례군 간전면 금산리48번지  35.121182   \n",
       "\n",
       "              lon      category  \n",
       "2106   127.729750   toilet/open  \n",
       "20939  128.603556   toilet/open  \n",
       "23621  126.768101   toilet/open  \n",
       "5525   129.174099   toilet/open  \n",
       "5024   128.568415   toilet/open  \n",
       "5879   129.290883   toilet/open  \n",
       "11401  127.639634   toilet/open  \n",
       "11130  127.285826   toilet/open  \n",
       "22499  126.620041   toilet/open  \n",
       "6141          NaN   toilet/open  \n",
       "18267  127.320278   toilet/open  \n",
       "12896  127.515485   toilet/open  \n",
       "6337   127.930329   toilet/open  \n",
       "17560  128.752987   toilet/open  \n",
       "20357  128.763712   toilet/open  \n",
       "20007  126.404085  toilet/small  \n",
       "17474  128.669830   toilet/open  \n",
       "5332   127.651342  toilet/small  \n",
       "22227  127.077850   toilet/open  \n",
       "15528  127.545889   toilet/open  "
      ]
     },
     "execution_count": 67,
     "metadata": {},
     "output_type": "execute_result"
    }
   ],
   "source": [
    "df1.sample(20)"
   ]
  },
  {
   "cell_type": "code",
   "execution_count": 95,
   "metadata": {},
   "outputs": [
    {
     "name": "stdout",
     "output_type": "stream",
     "text": [
      "<class 'pandas.core.frame.DataFrame'>\n",
      "RangeIndex: 25061 entries, 0 to 25060\n",
      "Data columns (total 5 columns):\n",
      "place_name       25061 non-null object\n",
      "place_address    20898 non-null object\n",
      "lat              23166 non-null float64\n",
      "lon              23166 non-null float64\n",
      "category         25061 non-null object\n",
      "dtypes: float64(2), object(3)\n",
      "memory usage: 979.0+ KB\n"
     ]
    }
   ],
   "source": [
    "df1.info()"
   ]
  },
  {
   "cell_type": "code",
   "execution_count": 102,
   "metadata": {
    "scrolled": false
   },
   "outputs": [
    {
     "data": {
      "text/html": [
       "<div>\n",
       "<style scoped>\n",
       "    .dataframe tbody tr th:only-of-type {\n",
       "        vertical-align: middle;\n",
       "    }\n",
       "\n",
       "    .dataframe tbody tr th {\n",
       "        vertical-align: top;\n",
       "    }\n",
       "\n",
       "    .dataframe thead th {\n",
       "        text-align: right;\n",
       "    }\n",
       "</style>\n",
       "<table border=\"1\" class=\"dataframe\">\n",
       "  <thead>\n",
       "    <tr style=\"text-align: right;\">\n",
       "      <th></th>\n",
       "      <th>place_name</th>\n",
       "      <th>place_address</th>\n",
       "      <th>lat</th>\n",
       "      <th>lon</th>\n",
       "      <th>category</th>\n",
       "    </tr>\n",
       "  </thead>\n",
       "  <tbody>\n",
       "    <tr>\n",
       "      <th>64</th>\n",
       "      <td>남양버스정류장 공중화장실 화장실</td>\n",
       "      <td>NaN</td>\n",
       "      <td>37.466553</td>\n",
       "      <td>130.837330</td>\n",
       "      <td>toilet/open</td>\n",
       "    </tr>\n",
       "    <tr>\n",
       "      <th>69</th>\n",
       "      <td>구암터널옆 공중화장실 화장실</td>\n",
       "      <td>NaN</td>\n",
       "      <td>37.468443</td>\n",
       "      <td>130.831172</td>\n",
       "      <td>toilet/open</td>\n",
       "    </tr>\n",
       "    <tr>\n",
       "      <th>72</th>\n",
       "      <td>태하어판장 공중화장실 화장실</td>\n",
       "      <td>NaN</td>\n",
       "      <td>37.510266</td>\n",
       "      <td>130.797979</td>\n",
       "      <td>toilet/open</td>\n",
       "    </tr>\n",
       "    <tr>\n",
       "      <th>75</th>\n",
       "      <td>북면사택뒤 공중화장실 화장실</td>\n",
       "      <td>NaN</td>\n",
       "      <td>37.544734</td>\n",
       "      <td>130.874542</td>\n",
       "      <td>toilet/open</td>\n",
       "    </tr>\n",
       "    <tr>\n",
       "      <th>84</th>\n",
       "      <td>선창 공중화장실 화장실</td>\n",
       "      <td>NaN</td>\n",
       "      <td>37.544844</td>\n",
       "      <td>130.908532</td>\n",
       "      <td>toilet/open</td>\n",
       "    </tr>\n",
       "  </tbody>\n",
       "</table>\n",
       "</div>"
      ],
      "text/plain": [
       "           place_name place_address        lat         lon     category\n",
       "64  남양버스정류장 공중화장실 화장실           NaN  37.466553  130.837330  toilet/open\n",
       "69    구암터널옆 공중화장실 화장실           NaN  37.468443  130.831172  toilet/open\n",
       "72    태하어판장 공중화장실 화장실           NaN  37.510266  130.797979  toilet/open\n",
       "75    북면사택뒤 공중화장실 화장실           NaN  37.544734  130.874542  toilet/open\n",
       "84       선창 공중화장실 화장실           NaN  37.544844  130.908532  toilet/open"
      ]
     },
     "execution_count": 102,
     "metadata": {},
     "output_type": "execute_result"
    }
   ],
   "source": [
    "df1[df1.place_address.isna()].head()"
   ]
  },
  {
   "cell_type": "code",
   "execution_count": 111,
   "metadata": {},
   "outputs": [],
   "source": [
    "df1.dropna(subset={'place_address'},inplace=True) # place_address 가 없는것 모두 제거"
   ]
  },
  {
   "cell_type": "code",
   "execution_count": 113,
   "metadata": {},
   "outputs": [
    {
     "data": {
      "text/html": [
       "<div>\n",
       "<style scoped>\n",
       "    .dataframe tbody tr th:only-of-type {\n",
       "        vertical-align: middle;\n",
       "    }\n",
       "\n",
       "    .dataframe tbody tr th {\n",
       "        vertical-align: top;\n",
       "    }\n",
       "\n",
       "    .dataframe thead th {\n",
       "        text-align: right;\n",
       "    }\n",
       "</style>\n",
       "<table border=\"1\" class=\"dataframe\">\n",
       "  <thead>\n",
       "    <tr style=\"text-align: right;\">\n",
       "      <th></th>\n",
       "      <th>place_name</th>\n",
       "      <th>place_address</th>\n",
       "      <th>lat</th>\n",
       "      <th>lon</th>\n",
       "      <th>category</th>\n",
       "    </tr>\n",
       "  </thead>\n",
       "  <tbody>\n",
       "  </tbody>\n",
       "</table>\n",
       "</div>"
      ],
      "text/plain": [
       "Empty DataFrame\n",
       "Columns: [place_name, place_address, lat, lon, category]\n",
       "Index: []"
      ]
     },
     "execution_count": 113,
     "metadata": {},
     "output_type": "execute_result"
    }
   ],
   "source": [
    "df1[df1.place_address.isna()]"
   ]
  },
  {
   "cell_type": "code",
   "execution_count": 114,
   "metadata": {
    "scrolled": true
   },
   "outputs": [
    {
     "name": "stdout",
     "output_type": "stream",
     "text": [
      "<class 'pandas.core.frame.DataFrame'>\n",
      "Int64Index: 20898 entries, 0 to 24994\n",
      "Data columns (total 5 columns):\n",
      "place_name       20898 non-null object\n",
      "place_address    20898 non-null object\n",
      "lat              19570 non-null float64\n",
      "lon              19570 non-null float64\n",
      "category         20898 non-null object\n",
      "dtypes: float64(2), object(3)\n",
      "memory usage: 979.6+ KB\n"
     ]
    }
   ],
   "source": [
    "df1.info()"
   ]
  },
  {
   "cell_type": "code",
   "execution_count": 94,
   "metadata": {
    "scrolled": true
   },
   "outputs": [
    {
     "data": {
      "text/plain": [
       "place_name          0\n",
       "place_address    4163\n",
       "lat              1895\n",
       "lon              1895\n",
       "category            0\n",
       "dtype: int64"
      ]
     },
     "execution_count": 94,
     "metadata": {},
     "output_type": "execute_result"
    }
   ],
   "source": [
    "df1.isna().sum() # na 갯수 파악."
   ]
  },
  {
   "cell_type": "code",
   "execution_count": 155,
   "metadata": {
    "scrolled": true
   },
   "outputs": [],
   "source": [
    "seoul = df1[df1['place_address'].str.contains('서울특별시')]"
   ]
  },
  {
   "cell_type": "code",
   "execution_count": 156,
   "metadata": {
    "scrolled": true
   },
   "outputs": [
    {
     "data": {
      "text/html": [
       "<div>\n",
       "<style scoped>\n",
       "    .dataframe tbody tr th:only-of-type {\n",
       "        vertical-align: middle;\n",
       "    }\n",
       "\n",
       "    .dataframe tbody tr th {\n",
       "        vertical-align: top;\n",
       "    }\n",
       "\n",
       "    .dataframe thead th {\n",
       "        text-align: right;\n",
       "    }\n",
       "</style>\n",
       "<table border=\"1\" class=\"dataframe\">\n",
       "  <thead>\n",
       "    <tr style=\"text-align: right;\">\n",
       "      <th></th>\n",
       "      <th>place_name</th>\n",
       "      <th>place_address</th>\n",
       "      <th>lat</th>\n",
       "      <th>lon</th>\n",
       "      <th>category</th>\n",
       "    </tr>\n",
       "  </thead>\n",
       "  <tbody>\n",
       "    <tr>\n",
       "      <th>0</th>\n",
       "      <td>남대문시장 화장실</td>\n",
       "      <td>서울특별시 중구 남창동 51-2</td>\n",
       "      <td>37.559433</td>\n",
       "      <td>126.976225</td>\n",
       "      <td>toilet/open</td>\n",
       "    </tr>\n",
       "    <tr>\n",
       "      <th>1</th>\n",
       "      <td>광희동 화장실</td>\n",
       "      <td>서울특별시 중구 광희동1가 202-1</td>\n",
       "      <td>37.564371</td>\n",
       "      <td>127.006306</td>\n",
       "      <td>toilet/open</td>\n",
       "    </tr>\n",
       "    <tr>\n",
       "      <th>2</th>\n",
       "      <td>신당 1호 화장실</td>\n",
       "      <td>서울특별시 중구 신당동 236-542</td>\n",
       "      <td>37.563819</td>\n",
       "      <td>127.013347</td>\n",
       "      <td>toilet/open</td>\n",
       "    </tr>\n",
       "    <tr>\n",
       "      <th>3</th>\n",
       "      <td>신당 2호 화장실</td>\n",
       "      <td>서울특별시 중구 신당동 298-74</td>\n",
       "      <td>37.561325</td>\n",
       "      <td>127.013778</td>\n",
       "      <td>toilet/open</td>\n",
       "    </tr>\n",
       "    <tr>\n",
       "      <th>4</th>\n",
       "      <td>청구역 화장실</td>\n",
       "      <td>서울특별시 중구 신당동 297-17</td>\n",
       "      <td>37.561317</td>\n",
       "      <td>127.013783</td>\n",
       "      <td>toilet/open</td>\n",
       "    </tr>\n",
       "  </tbody>\n",
       "</table>\n",
       "</div>"
      ],
      "text/plain": [
       "  place_name         place_address        lat         lon     category\n",
       "0  남대문시장 화장실     서울특별시 중구 남창동 51-2  37.559433  126.976225  toilet/open\n",
       "1    광희동 화장실  서울특별시 중구 광희동1가 202-1  37.564371  127.006306  toilet/open\n",
       "2  신당 1호 화장실  서울특별시 중구 신당동 236-542  37.563819  127.013347  toilet/open\n",
       "3  신당 2호 화장실   서울특별시 중구 신당동 298-74  37.561325  127.013778  toilet/open\n",
       "4    청구역 화장실   서울특별시 중구 신당동 297-17  37.561317  127.013783  toilet/open"
      ]
     },
     "execution_count": 156,
     "metadata": {},
     "output_type": "execute_result"
    }
   ],
   "source": [
    "seoul.head()"
   ]
  },
  {
   "cell_type": "code",
   "execution_count": 157,
   "metadata": {
    "scrolled": true
   },
   "outputs": [
    {
     "name": "stdout",
     "output_type": "stream",
     "text": [
      "<class 'pandas.core.frame.DataFrame'>\n",
      "Int64Index: 1195 entries, 0 to 24951\n",
      "Data columns (total 5 columns):\n",
      "place_name       1195 non-null object\n",
      "place_address    1195 non-null object\n",
      "lat              1188 non-null float64\n",
      "lon              1188 non-null float64\n",
      "category         1195 non-null object\n",
      "dtypes: float64(2), object(3)\n",
      "memory usage: 56.0+ KB\n"
     ]
    }
   ],
   "source": [
    "seoul.info()"
   ]
  },
  {
   "cell_type": "code",
   "execution_count": 158,
   "metadata": {
    "scrolled": true
   },
   "outputs": [
    {
     "data": {
      "text/plain": [
       "place_name       0\n",
       "place_address    0\n",
       "lat              7\n",
       "lon              7\n",
       "category         0\n",
       "dtype: int64"
      ]
     },
     "execution_count": 158,
     "metadata": {},
     "output_type": "execute_result"
    }
   ],
   "source": [
    "#lat lon, 7개 없는거 지우기\n",
    "seoul.isna().sum()"
   ]
  },
  {
   "cell_type": "code",
   "execution_count": 159,
   "metadata": {},
   "outputs": [
    {
     "data": {
      "text/html": [
       "<div>\n",
       "<style scoped>\n",
       "    .dataframe tbody tr th:only-of-type {\n",
       "        vertical-align: middle;\n",
       "    }\n",
       "\n",
       "    .dataframe tbody tr th {\n",
       "        vertical-align: top;\n",
       "    }\n",
       "\n",
       "    .dataframe thead th {\n",
       "        text-align: right;\n",
       "    }\n",
       "</style>\n",
       "<table border=\"1\" class=\"dataframe\">\n",
       "  <thead>\n",
       "    <tr style=\"text-align: right;\">\n",
       "      <th></th>\n",
       "      <th>place_name</th>\n",
       "      <th>place_address</th>\n",
       "      <th>lat</th>\n",
       "      <th>lon</th>\n",
       "      <th>category</th>\n",
       "    </tr>\n",
       "  </thead>\n",
       "  <tbody>\n",
       "    <tr>\n",
       "      <th>4634</th>\n",
       "      <td>고려빌딩 화장실</td>\n",
       "      <td>서울특별시 금천구 독산1동 288-1</td>\n",
       "      <td>NaN</td>\n",
       "      <td>NaN</td>\n",
       "      <td>toilet/open</td>\n",
       "    </tr>\n",
       "    <tr>\n",
       "      <th>4635</th>\n",
       "      <td>산호빌딩 화장실</td>\n",
       "      <td>서울특별시 금천구 가산동 43-6</td>\n",
       "      <td>NaN</td>\n",
       "      <td>NaN</td>\n",
       "      <td>toilet/open</td>\n",
       "    </tr>\n",
       "    <tr>\n",
       "      <th>4937</th>\n",
       "      <td>백로 화장실</td>\n",
       "      <td>서울특별시 동작구 상도3동 362-46</td>\n",
       "      <td>NaN</td>\n",
       "      <td>NaN</td>\n",
       "      <td>toilet/open</td>\n",
       "    </tr>\n",
       "    <tr>\n",
       "      <th>7552</th>\n",
       "      <td>신계동 화장실</td>\n",
       "      <td>서울특별시 용산구 신계동 29-3</td>\n",
       "      <td>NaN</td>\n",
       "      <td>NaN</td>\n",
       "      <td>toilet/open</td>\n",
       "    </tr>\n",
       "    <tr>\n",
       "      <th>22345</th>\n",
       "      <td>고덕천 SK주유소 뒤 화장실</td>\n",
       "      <td>서울특별시 강동구 둔촌동 산274</td>\n",
       "      <td>NaN</td>\n",
       "      <td>NaN</td>\n",
       "      <td>toilet/open</td>\n",
       "    </tr>\n",
       "    <tr>\n",
       "      <th>22365</th>\n",
       "      <td>일자산자연공원(도시농업공원) 화장실</td>\n",
       "      <td>서울특별시 강동구 둔촌동119</td>\n",
       "      <td>NaN</td>\n",
       "      <td>NaN</td>\n",
       "      <td>toilet/open</td>\n",
       "    </tr>\n",
       "    <tr>\n",
       "      <th>22440</th>\n",
       "      <td>일자산제1체육관 뒤 화장실</td>\n",
       "      <td>서울특별시 강동구 둔촌동 산274</td>\n",
       "      <td>NaN</td>\n",
       "      <td>NaN</td>\n",
       "      <td>toilet/open</td>\n",
       "    </tr>\n",
       "  </tbody>\n",
       "</table>\n",
       "</div>"
      ],
      "text/plain": [
       "                place_name          place_address  lat  lon     category\n",
       "4634              고려빌딩 화장실   서울특별시 금천구 독산1동 288-1  NaN  NaN  toilet/open\n",
       "4635              산호빌딩 화장실     서울특별시 금천구 가산동 43-6  NaN  NaN  toilet/open\n",
       "4937                백로 화장실  서울특별시 동작구 상도3동 362-46  NaN  NaN  toilet/open\n",
       "7552               신계동 화장실     서울특별시 용산구 신계동 29-3  NaN  NaN  toilet/open\n",
       "22345      고덕천 SK주유소 뒤 화장실     서울특별시 강동구 둔촌동 산274  NaN  NaN  toilet/open\n",
       "22365  일자산자연공원(도시농업공원) 화장실       서울특별시 강동구 둔촌동119  NaN  NaN  toilet/open\n",
       "22440       일자산제1체육관 뒤 화장실     서울특별시 강동구 둔촌동 산274  NaN  NaN  toilet/open"
      ]
     },
     "execution_count": 159,
     "metadata": {},
     "output_type": "execute_result"
    }
   ],
   "source": [
    "seoul[seoul.lat.isna()] #지워질 데이터"
   ]
  },
  {
   "cell_type": "code",
   "execution_count": 160,
   "metadata": {},
   "outputs": [
    {
     "data": {
      "text/html": [
       "<div>\n",
       "<style scoped>\n",
       "    .dataframe tbody tr th:only-of-type {\n",
       "        vertical-align: middle;\n",
       "    }\n",
       "\n",
       "    .dataframe tbody tr th {\n",
       "        vertical-align: top;\n",
       "    }\n",
       "\n",
       "    .dataframe thead th {\n",
       "        text-align: right;\n",
       "    }\n",
       "</style>\n",
       "<table border=\"1\" class=\"dataframe\">\n",
       "  <thead>\n",
       "    <tr style=\"text-align: right;\">\n",
       "      <th></th>\n",
       "      <th>place_name</th>\n",
       "      <th>place_address</th>\n",
       "      <th>lat</th>\n",
       "      <th>lon</th>\n",
       "      <th>category</th>\n",
       "    </tr>\n",
       "  </thead>\n",
       "  <tbody>\n",
       "    <tr>\n",
       "      <th>0</th>\n",
       "      <td>남대문시장 화장실</td>\n",
       "      <td>서울특별시 중구 남창동 51-2</td>\n",
       "      <td>37.559433</td>\n",
       "      <td>126.976225</td>\n",
       "      <td>toilet/open</td>\n",
       "    </tr>\n",
       "    <tr>\n",
       "      <th>1</th>\n",
       "      <td>광희동 화장실</td>\n",
       "      <td>서울특별시 중구 광희동1가 202-1</td>\n",
       "      <td>37.564371</td>\n",
       "      <td>127.006306</td>\n",
       "      <td>toilet/open</td>\n",
       "    </tr>\n",
       "    <tr>\n",
       "      <th>2</th>\n",
       "      <td>신당 1호 화장실</td>\n",
       "      <td>서울특별시 중구 신당동 236-542</td>\n",
       "      <td>37.563819</td>\n",
       "      <td>127.013347</td>\n",
       "      <td>toilet/open</td>\n",
       "    </tr>\n",
       "    <tr>\n",
       "      <th>3</th>\n",
       "      <td>신당 2호 화장실</td>\n",
       "      <td>서울특별시 중구 신당동 298-74</td>\n",
       "      <td>37.561325</td>\n",
       "      <td>127.013778</td>\n",
       "      <td>toilet/open</td>\n",
       "    </tr>\n",
       "    <tr>\n",
       "      <th>4</th>\n",
       "      <td>청구역 화장실</td>\n",
       "      <td>서울특별시 중구 신당동 297-17</td>\n",
       "      <td>37.561317</td>\n",
       "      <td>127.013783</td>\n",
       "      <td>toilet/open</td>\n",
       "    </tr>\n",
       "  </tbody>\n",
       "</table>\n",
       "</div>"
      ],
      "text/plain": [
       "  place_name         place_address        lat         lon     category\n",
       "0  남대문시장 화장실     서울특별시 중구 남창동 51-2  37.559433  126.976225  toilet/open\n",
       "1    광희동 화장실  서울특별시 중구 광희동1가 202-1  37.564371  127.006306  toilet/open\n",
       "2  신당 1호 화장실  서울특별시 중구 신당동 236-542  37.563819  127.013347  toilet/open\n",
       "3  신당 2호 화장실   서울특별시 중구 신당동 298-74  37.561325  127.013778  toilet/open\n",
       "4    청구역 화장실   서울특별시 중구 신당동 297-17  37.561317  127.013783  toilet/open"
      ]
     },
     "execution_count": 160,
     "metadata": {},
     "output_type": "execute_result"
    }
   ],
   "source": [
    "seoul.head()"
   ]
  },
  {
   "cell_type": "code",
   "execution_count": 143,
   "metadata": {
    "scrolled": false
   },
   "outputs": [
    {
     "name": "stderr",
     "output_type": "stream",
     "text": [
      "C:\\Users\\user\\Anaconda3\\lib\\site-packages\\ipykernel_launcher.py:1: SettingWithCopyWarning: \n",
      "A value is trying to be set on a copy of a slice from a DataFrame\n",
      "\n",
      "See the caveats in the documentation: http://pandas.pydata.org/pandas-docs/stable/indexing.html#indexing-view-versus-copy\n",
      "  \"\"\"Entry point for launching an IPython kernel.\n"
     ]
    }
   ],
   "source": [
    "#seoul.dropna(subset={'lat'},inplace=True) #이런 워닝은 무시할수 있게 패키지 로드해서 사용하면됨."
   ]
  },
  {
   "cell_type": "code",
   "execution_count": 161,
   "metadata": {},
   "outputs": [],
   "source": [
    "seoul2  = seoul.dropna()"
   ]
  },
  {
   "cell_type": "code",
   "execution_count": 162,
   "metadata": {
    "scrolled": true
   },
   "outputs": [
    {
     "name": "stdout",
     "output_type": "stream",
     "text": [
      "<class 'pandas.core.frame.DataFrame'>\n",
      "Int64Index: 1188 entries, 0 to 24951\n",
      "Data columns (total 5 columns):\n",
      "place_name       1188 non-null object\n",
      "place_address    1188 non-null object\n",
      "lat              1188 non-null float64\n",
      "lon              1188 non-null float64\n",
      "category         1188 non-null object\n",
      "dtypes: float64(2), object(3)\n",
      "memory usage: 55.7+ KB\n"
     ]
    }
   ],
   "source": [
    "seoul2.info()"
   ]
  },
  {
   "cell_type": "code",
   "execution_count": 163,
   "metadata": {},
   "outputs": [
    {
     "data": {
      "text/plain": [
       "place_name       0\n",
       "place_address    0\n",
       "lat              0\n",
       "lon              0\n",
       "category         0\n",
       "dtype: int64"
      ]
     },
     "execution_count": 163,
     "metadata": {},
     "output_type": "execute_result"
    }
   ],
   "source": [
    "seoul2.isna().sum() #중복이없는데이터 seoul2 최종"
   ]
  },
  {
   "cell_type": "code",
   "execution_count": 172,
   "metadata": {},
   "outputs": [
    {
     "name": "stdout",
     "output_type": "stream",
     "text": [
      "<class 'pandas.core.frame.DataFrame'>\n",
      "Int64Index: 1188 entries, 0 to 24951\n",
      "Data columns (total 5 columns):\n",
      "place_name       1188 non-null object\n",
      "place_address    1188 non-null object\n",
      "lat              1188 non-null float64\n",
      "lon              1188 non-null float64\n",
      "category         1188 non-null object\n",
      "dtypes: float64(2), object(3)\n",
      "memory usage: 55.7+ KB\n"
     ]
    }
   ],
   "source": [
    "seoul2.info()"
   ]
  },
  {
   "cell_type": "code",
   "execution_count": 179,
   "metadata": {
    "scrolled": true
   },
   "outputs": [
    {
     "data": {
      "text/html": [
       "<div>\n",
       "<style scoped>\n",
       "    .dataframe tbody tr th:only-of-type {\n",
       "        vertical-align: middle;\n",
       "    }\n",
       "\n",
       "    .dataframe tbody tr th {\n",
       "        vertical-align: top;\n",
       "    }\n",
       "\n",
       "    .dataframe thead th {\n",
       "        text-align: right;\n",
       "    }\n",
       "</style>\n",
       "<table border=\"1\" class=\"dataframe\">\n",
       "  <thead>\n",
       "    <tr style=\"text-align: right;\">\n",
       "      <th></th>\n",
       "      <th>place_name</th>\n",
       "      <th>place_address</th>\n",
       "      <th>lat</th>\n",
       "      <th>lon</th>\n",
       "      <th>category</th>\n",
       "    </tr>\n",
       "  </thead>\n",
       "  <tbody>\n",
       "  </tbody>\n",
       "</table>\n",
       "</div>"
      ],
      "text/plain": [
       "Empty DataFrame\n",
       "Columns: [place_name, place_address, lat, lon, category]\n",
       "Index: []"
      ]
     },
     "execution_count": 179,
     "metadata": {},
     "output_type": "execute_result"
    }
   ],
   "source": [
    "seoul2[seoul2.duplicated(subset=['lat','lon'],keep=False)].head()"
   ]
  },
  {
   "cell_type": "code",
   "execution_count": 176,
   "metadata": {},
   "outputs": [],
   "source": [
    "import warnings\n",
    "warnings.filterwarnings('ignore')"
   ]
  },
  {
   "cell_type": "code",
   "execution_count": 177,
   "metadata": {},
   "outputs": [],
   "source": [
    "seoul2.drop_duplicates(subset=['lat','lon'],inplace=True) # 이렇게 하려했으나 안되서."
   ]
  },
  {
   "cell_type": "code",
   "execution_count": 180,
   "metadata": {},
   "outputs": [
    {
     "name": "stdout",
     "output_type": "stream",
     "text": [
      "<class 'pandas.core.frame.DataFrame'>\n",
      "Int64Index: 1117 entries, 0 to 24946\n",
      "Data columns (total 5 columns):\n",
      "place_name       1117 non-null object\n",
      "place_address    1117 non-null object\n",
      "lat              1117 non-null float64\n",
      "lon              1117 non-null float64\n",
      "category         1117 non-null object\n",
      "dtypes: float64(2), object(3)\n",
      "memory usage: 52.4+ KB\n"
     ]
    }
   ],
   "source": [
    "seoul2.info()"
   ]
  },
  {
   "cell_type": "code",
   "execution_count": 183,
   "metadata": {},
   "outputs": [],
   "source": [
    "a = [i for i in range(10331,11448)]"
   ]
  },
  {
   "cell_type": "code",
   "execution_count": 184,
   "metadata": {},
   "outputs": [
    {
     "data": {
      "text/plain": [
       "1117"
      ]
     },
     "execution_count": 184,
     "metadata": {},
     "output_type": "execute_result"
    }
   ],
   "source": [
    "len(a)"
   ]
  },
  {
   "cell_type": "code",
   "execution_count": 185,
   "metadata": {},
   "outputs": [],
   "source": [
    "seoul2['place_id']=a"
   ]
  },
  {
   "cell_type": "code",
   "execution_count": 187,
   "metadata": {},
   "outputs": [
    {
     "data": {
      "text/html": [
       "<div>\n",
       "<style scoped>\n",
       "    .dataframe tbody tr th:only-of-type {\n",
       "        vertical-align: middle;\n",
       "    }\n",
       "\n",
       "    .dataframe tbody tr th {\n",
       "        vertical-align: top;\n",
       "    }\n",
       "\n",
       "    .dataframe thead th {\n",
       "        text-align: right;\n",
       "    }\n",
       "</style>\n",
       "<table border=\"1\" class=\"dataframe\">\n",
       "  <thead>\n",
       "    <tr style=\"text-align: right;\">\n",
       "      <th></th>\n",
       "      <th>place_name</th>\n",
       "      <th>place_address</th>\n",
       "      <th>lat</th>\n",
       "      <th>lon</th>\n",
       "      <th>category</th>\n",
       "      <th>place_id</th>\n",
       "    </tr>\n",
       "  </thead>\n",
       "  <tbody>\n",
       "    <tr>\n",
       "      <th>0</th>\n",
       "      <td>남대문시장 화장실</td>\n",
       "      <td>서울특별시 중구 남창동 51-2</td>\n",
       "      <td>37.559433</td>\n",
       "      <td>126.976225</td>\n",
       "      <td>toilet/open</td>\n",
       "      <td>10331</td>\n",
       "    </tr>\n",
       "    <tr>\n",
       "      <th>1</th>\n",
       "      <td>광희동 화장실</td>\n",
       "      <td>서울특별시 중구 광희동1가 202-1</td>\n",
       "      <td>37.564371</td>\n",
       "      <td>127.006306</td>\n",
       "      <td>toilet/open</td>\n",
       "      <td>10332</td>\n",
       "    </tr>\n",
       "    <tr>\n",
       "      <th>2</th>\n",
       "      <td>신당 1호 화장실</td>\n",
       "      <td>서울특별시 중구 신당동 236-542</td>\n",
       "      <td>37.563819</td>\n",
       "      <td>127.013347</td>\n",
       "      <td>toilet/open</td>\n",
       "      <td>10333</td>\n",
       "    </tr>\n",
       "    <tr>\n",
       "      <th>3</th>\n",
       "      <td>신당 2호 화장실</td>\n",
       "      <td>서울특별시 중구 신당동 298-74</td>\n",
       "      <td>37.561325</td>\n",
       "      <td>127.013778</td>\n",
       "      <td>toilet/open</td>\n",
       "      <td>10334</td>\n",
       "    </tr>\n",
       "    <tr>\n",
       "      <th>4</th>\n",
       "      <td>청구역 화장실</td>\n",
       "      <td>서울특별시 중구 신당동 297-17</td>\n",
       "      <td>37.561317</td>\n",
       "      <td>127.013783</td>\n",
       "      <td>toilet/open</td>\n",
       "      <td>10335</td>\n",
       "    </tr>\n",
       "  </tbody>\n",
       "</table>\n",
       "</div>"
      ],
      "text/plain": [
       "  place_name         place_address        lat         lon     category  \\\n",
       "0  남대문시장 화장실     서울특별시 중구 남창동 51-2  37.559433  126.976225  toilet/open   \n",
       "1    광희동 화장실  서울특별시 중구 광희동1가 202-1  37.564371  127.006306  toilet/open   \n",
       "2  신당 1호 화장실  서울특별시 중구 신당동 236-542  37.563819  127.013347  toilet/open   \n",
       "3  신당 2호 화장실   서울특별시 중구 신당동 298-74  37.561325  127.013778  toilet/open   \n",
       "4    청구역 화장실   서울특별시 중구 신당동 297-17  37.561317  127.013783  toilet/open   \n",
       "\n",
       "   place_id  \n",
       "0     10331  \n",
       "1     10332  \n",
       "2     10333  \n",
       "3     10334  \n",
       "4     10335  "
      ]
     },
     "execution_count": 187,
     "metadata": {},
     "output_type": "execute_result"
    }
   ],
   "source": [
    "seoul2.head()"
   ]
  },
  {
   "cell_type": "code",
   "execution_count": 188,
   "metadata": {},
   "outputs": [
    {
     "data": {
      "text/html": [
       "<div>\n",
       "<style scoped>\n",
       "    .dataframe tbody tr th:only-of-type {\n",
       "        vertical-align: middle;\n",
       "    }\n",
       "\n",
       "    .dataframe tbody tr th {\n",
       "        vertical-align: top;\n",
       "    }\n",
       "\n",
       "    .dataframe thead th {\n",
       "        text-align: right;\n",
       "    }\n",
       "</style>\n",
       "<table border=\"1\" class=\"dataframe\">\n",
       "  <thead>\n",
       "    <tr style=\"text-align: right;\">\n",
       "      <th></th>\n",
       "      <th>place_name</th>\n",
       "      <th>place_address</th>\n",
       "      <th>lat</th>\n",
       "      <th>lon</th>\n",
       "      <th>category</th>\n",
       "      <th>place_id</th>\n",
       "    </tr>\n",
       "  </thead>\n",
       "  <tbody>\n",
       "    <tr>\n",
       "      <th>24934</th>\n",
       "      <td>성수근린공원 화장실</td>\n",
       "      <td>서울특별시 성동구 성수동2가 302-25</td>\n",
       "      <td>37.566074</td>\n",
       "      <td>127.047049</td>\n",
       "      <td>toilet/open</td>\n",
       "      <td>11443</td>\n",
       "    </tr>\n",
       "    <tr>\n",
       "      <th>24941</th>\n",
       "      <td>독서당공원 화장실</td>\n",
       "      <td>서울특별시 성동구 금호동1가 산37-7</td>\n",
       "      <td>37.556445</td>\n",
       "      <td>127.019518</td>\n",
       "      <td>toilet/open</td>\n",
       "      <td>11444</td>\n",
       "    </tr>\n",
       "    <tr>\n",
       "      <th>24943</th>\n",
       "      <td>왕십리문화공원 화장실</td>\n",
       "      <td>서울특별시 성동구 도선동 35-2</td>\n",
       "      <td>37.553588</td>\n",
       "      <td>127.041916</td>\n",
       "      <td>toilet/open</td>\n",
       "      <td>11445</td>\n",
       "    </tr>\n",
       "    <tr>\n",
       "      <th>24945</th>\n",
       "      <td>한양대 앞 화장실</td>\n",
       "      <td>서울특별시 성동구 행당동 157-4</td>\n",
       "      <td>37.566104</td>\n",
       "      <td>127.045757</td>\n",
       "      <td>toilet/open</td>\n",
       "      <td>11446</td>\n",
       "    </tr>\n",
       "    <tr>\n",
       "      <th>24946</th>\n",
       "      <td>행당어린이공원 화장실</td>\n",
       "      <td>서울특별시 성동구 행당동 128-417</td>\n",
       "      <td>37.561760</td>\n",
       "      <td>127.035263</td>\n",
       "      <td>toilet/open</td>\n",
       "      <td>11447</td>\n",
       "    </tr>\n",
       "  </tbody>\n",
       "</table>\n",
       "</div>"
      ],
      "text/plain": [
       "        place_name           place_address        lat         lon  \\\n",
       "24934   성수근린공원 화장실  서울특별시 성동구 성수동2가 302-25  37.566074  127.047049   \n",
       "24941    독서당공원 화장실   서울특별시 성동구 금호동1가 산37-7  37.556445  127.019518   \n",
       "24943  왕십리문화공원 화장실      서울특별시 성동구 도선동 35-2  37.553588  127.041916   \n",
       "24945    한양대 앞 화장실     서울특별시 성동구 행당동 157-4  37.566104  127.045757   \n",
       "24946  행당어린이공원 화장실   서울특별시 성동구 행당동 128-417  37.561760  127.035263   \n",
       "\n",
       "          category  place_id  \n",
       "24934  toilet/open     11443  \n",
       "24941  toilet/open     11444  \n",
       "24943  toilet/open     11445  \n",
       "24945  toilet/open     11446  \n",
       "24946  toilet/open     11447  "
      ]
     },
     "execution_count": 188,
     "metadata": {},
     "output_type": "execute_result"
    }
   ],
   "source": [
    "seoul2.tail()"
   ]
  },
  {
   "cell_type": "code",
   "execution_count": 47,
   "metadata": {},
   "outputs": [
    {
     "data": {
      "text/html": [
       "<div>\n",
       "<style scoped>\n",
       "    .dataframe tbody tr th:only-of-type {\n",
       "        vertical-align: middle;\n",
       "    }\n",
       "\n",
       "    .dataframe tbody tr th {\n",
       "        vertical-align: top;\n",
       "    }\n",
       "\n",
       "    .dataframe thead th {\n",
       "        text-align: right;\n",
       "    }\n",
       "</style>\n",
       "<table border=\"1\" class=\"dataframe\">\n",
       "  <thead>\n",
       "    <tr style=\"text-align: right;\">\n",
       "      <th></th>\n",
       "      <th>count</th>\n",
       "      <th>unique</th>\n",
       "      <th>top</th>\n",
       "      <th>freq</th>\n",
       "    </tr>\n",
       "    <tr>\n",
       "      <th>구분</th>\n",
       "      <th></th>\n",
       "      <th></th>\n",
       "      <th></th>\n",
       "      <th></th>\n",
       "    </tr>\n",
       "  </thead>\n",
       "  <tbody>\n",
       "    <tr>\n",
       "      <th>간이화장실</th>\n",
       "      <td>1373</td>\n",
       "      <td>18</td>\n",
       "      <td>24시간</td>\n",
       "      <td>646</td>\n",
       "    </tr>\n",
       "    <tr>\n",
       "      <th>개방</th>\n",
       "      <td>51</td>\n",
       "      <td>22</td>\n",
       "      <td>24시간</td>\n",
       "      <td>27</td>\n",
       "    </tr>\n",
       "    <tr>\n",
       "      <th>개방화장실</th>\n",
       "      <td>6277</td>\n",
       "      <td>217</td>\n",
       "      <td>09:00~18:00</td>\n",
       "      <td>1886</td>\n",
       "    </tr>\n",
       "    <tr>\n",
       "      <th>공중</th>\n",
       "      <td>80</td>\n",
       "      <td>1</td>\n",
       "      <td>24시간</td>\n",
       "      <td>80</td>\n",
       "    </tr>\n",
       "    <tr>\n",
       "      <th>공중화장실</th>\n",
       "      <td>16758</td>\n",
       "      <td>189</td>\n",
       "      <td>연중무휴</td>\n",
       "      <td>4515</td>\n",
       "    </tr>\n",
       "    <tr>\n",
       "      <th>이동화장실</th>\n",
       "      <td>521</td>\n",
       "      <td>4</td>\n",
       "      <td>24시간</td>\n",
       "      <td>285</td>\n",
       "    </tr>\n",
       "    <tr>\n",
       "      <th>이동화장실무계 수계공원 입구</th>\n",
       "      <td>1</td>\n",
       "      <td>1</td>\n",
       "      <td>24시간</td>\n",
       "      <td>1</td>\n",
       "    </tr>\n",
       "  </tbody>\n",
       "</table>\n",
       "</div>"
      ],
      "text/plain": [
       "                 count unique          top  freq\n",
       "구분                                              \n",
       "간이화장실             1373     18         24시간   646\n",
       "개방                  51     22         24시간    27\n",
       "개방화장실             6277    217  09:00~18:00  1886\n",
       "공중                  80      1         24시간    80\n",
       "공중화장실            16758    189         연중무휴  4515\n",
       "이동화장실              521      4         24시간   285\n",
       "이동화장실무계 수계공원 입구      1      1         24시간     1"
      ]
     },
     "execution_count": 47,
     "metadata": {},
     "output_type": "execute_result"
    }
   ],
   "source": [
    "ss.describe()"
   ]
  },
  {
   "cell_type": "code",
   "execution_count": 189,
   "metadata": {},
   "outputs": [],
   "source": [
    "pd.DataFrame.to_csv(seoul2,'seoul_toilets.csv')"
   ]
  },
  {
   "cell_type": "code",
   "execution_count": null,
   "metadata": {},
   "outputs": [],
   "source": []
  }
 ],
 "metadata": {
  "kernelspec": {
   "display_name": "Python 3",
   "language": "python",
   "name": "python3"
  },
  "language_info": {
   "codemirror_mode": {
    "name": "ipython",
    "version": 3
   },
   "file_extension": ".py",
   "mimetype": "text/x-python",
   "name": "python",
   "nbconvert_exporter": "python",
   "pygments_lexer": "ipython3",
   "version": "3.6.5"
  }
 },
 "nbformat": 4,
 "nbformat_minor": 2
}
