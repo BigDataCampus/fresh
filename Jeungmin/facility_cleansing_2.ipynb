{
 "cells": [
  {
   "cell_type": "code",
   "execution_count": 1,
   "metadata": {},
   "outputs": [],
   "source": [
    "import pandas as pd"
   ]
  },
  {
   "cell_type": "code",
   "execution_count": 3,
   "metadata": {},
   "outputs": [],
   "source": [
    "facil =  pd.read_csv('facility_cleansed.csv')"
   ]
  },
  {
   "cell_type": "code",
   "execution_count": 4,
   "metadata": {},
   "outputs": [
    {
     "data": {
      "text/html": [
       "<div>\n",
       "<style scoped>\n",
       "    .dataframe tbody tr th:only-of-type {\n",
       "        vertical-align: middle;\n",
       "    }\n",
       "\n",
       "    .dataframe tbody tr th {\n",
       "        vertical-align: top;\n",
       "    }\n",
       "\n",
       "    .dataframe thead th {\n",
       "        text-align: right;\n",
       "    }\n",
       "</style>\n",
       "<table border=\"1\" class=\"dataframe\">\n",
       "  <thead>\n",
       "    <tr style=\"text-align: right;\">\n",
       "      <th></th>\n",
       "      <th>Unnamed: 0</th>\n",
       "      <th>category</th>\n",
       "      <th>place_name</th>\n",
       "      <th>place_address</th>\n",
       "      <th>lat</th>\n",
       "      <th>lon</th>\n",
       "      <th>place_id</th>\n",
       "    </tr>\n",
       "  </thead>\n",
       "  <tbody>\n",
       "    <tr>\n",
       "      <th>0</th>\n",
       "      <td>0</td>\n",
       "      <td>daycare</td>\n",
       "      <td>영락</td>\n",
       "      <td>중구 수표로 33 (저동2가 69)</td>\n",
       "      <td>37.563202</td>\n",
       "      <td>126.989182</td>\n",
       "      <td>40000</td>\n",
       "    </tr>\n",
       "    <tr>\n",
       "      <th>1</th>\n",
       "      <td>1</td>\n",
       "      <td>daycare</td>\n",
       "      <td>역삼주간보호센터</td>\n",
       "      <td>강남구 테헤란로8길 36 (역삼동 827-61) 강남문화원 2층</td>\n",
       "      <td>37.496507</td>\n",
       "      <td>127.032048</td>\n",
       "      <td>40001</td>\n",
       "    </tr>\n",
       "    <tr>\n",
       "      <th>2</th>\n",
       "      <td>2</td>\n",
       "      <td>wellfare</td>\n",
       "      <td>성민장애인복지관</td>\n",
       "      <td>노원구 노원로32길 30-3 (상계동 321-9)</td>\n",
       "      <td>37.655624</td>\n",
       "      <td>127.069340</td>\n",
       "      <td>40002</td>\n",
       "    </tr>\n",
       "    <tr>\n",
       "      <th>3</th>\n",
       "      <td>3</td>\n",
       "      <td>wellfare</td>\n",
       "      <td>강서뇌성마비복지관</td>\n",
       "      <td>강서구 방화대로45길 69 (방화동 452-5)</td>\n",
       "      <td>37.574198</td>\n",
       "      <td>126.812585</td>\n",
       "      <td>40003</td>\n",
       "    </tr>\n",
       "    <tr>\n",
       "      <th>4</th>\n",
       "      <td>4</td>\n",
       "      <td>daycare</td>\n",
       "      <td>모랫말꿈터</td>\n",
       "      <td>영등포구 도영로 37 (도림2동 205-24)</td>\n",
       "      <td>37.510186</td>\n",
       "      <td>126.897488</td>\n",
       "      <td>40004</td>\n",
       "    </tr>\n",
       "  </tbody>\n",
       "</table>\n",
       "</div>"
      ],
      "text/plain": [
       "   Unnamed: 0  category place_name                        place_address  \\\n",
       "0           0   daycare         영락                  중구 수표로 33 (저동2가 69)   \n",
       "1           1   daycare   역삼주간보호센터  강남구 테헤란로8길 36 (역삼동 827-61) 강남문화원 2층   \n",
       "2           2  wellfare   성민장애인복지관          노원구 노원로32길 30-3 (상계동 321-9)   \n",
       "3           3  wellfare  강서뇌성마비복지관           강서구 방화대로45길 69 (방화동 452-5)   \n",
       "4           4   daycare      모랫말꿈터            영등포구 도영로 37 (도림2동 205-24)   \n",
       "\n",
       "         lat         lon  place_id  \n",
       "0  37.563202  126.989182     40000  \n",
       "1  37.496507  127.032048     40001  \n",
       "2  37.655624  127.069340     40002  \n",
       "3  37.574198  126.812585     40003  \n",
       "4  37.510186  126.897488     40004  "
      ]
     },
     "execution_count": 4,
     "metadata": {},
     "output_type": "execute_result"
    }
   ],
   "source": [
    "facil.head()"
   ]
  },
  {
   "cell_type": "code",
   "execution_count": 8,
   "metadata": {},
   "outputs": [
    {
     "name": "stdout",
     "output_type": "stream",
     "text": [
      "<class 'pandas.core.frame.DataFrame'>\n",
      "RangeIndex: 323 entries, 0 to 322\n",
      "Data columns (total 7 columns):\n",
      "Unnamed: 0       323 non-null int64\n",
      "category         323 non-null object\n",
      "place_name       323 non-null object\n",
      "place_address    323 non-null object\n",
      "lat              323 non-null float64\n",
      "lon              323 non-null float64\n",
      "place_id         323 non-null int64\n",
      "dtypes: float64(2), int64(2), object(3)\n",
      "memory usage: 17.7+ KB\n"
     ]
    }
   ],
   "source": [
    "facil.info()"
   ]
  },
  {
   "cell_type": "code",
   "execution_count": 7,
   "metadata": {},
   "outputs": [
    {
     "data": {
      "text/plain": [
       "63"
      ]
     },
     "execution_count": 7,
     "metadata": {},
     "output_type": "execute_result"
    }
   ],
   "source": [
    "facil.duplicated(subset={'lat','lon'}).sum()"
   ]
  },
  {
   "cell_type": "code",
   "execution_count": 9,
   "metadata": {},
   "outputs": [],
   "source": [
    "facil.drop_duplicates(subset={'lat','lon'},inplace=True)"
   ]
  },
  {
   "cell_type": "code",
   "execution_count": 10,
   "metadata": {},
   "outputs": [
    {
     "name": "stdout",
     "output_type": "stream",
     "text": [
      "<class 'pandas.core.frame.DataFrame'>\n",
      "Int64Index: 260 entries, 0 to 322\n",
      "Data columns (total 7 columns):\n",
      "Unnamed: 0       260 non-null int64\n",
      "category         260 non-null object\n",
      "place_name       260 non-null object\n",
      "place_address    260 non-null object\n",
      "lat              260 non-null float64\n",
      "lon              260 non-null float64\n",
      "place_id         260 non-null int64\n",
      "dtypes: float64(2), int64(2), object(3)\n",
      "memory usage: 16.2+ KB\n"
     ]
    }
   ],
   "source": [
    "facil.info()"
   ]
  },
  {
   "cell_type": "code",
   "execution_count": 11,
   "metadata": {},
   "outputs": [],
   "source": [
    "facil.to_csv('facility_cleansed.csv')"
   ]
  },
  {
   "cell_type": "code",
   "execution_count": 12,
   "metadata": {},
   "outputs": [],
   "source": [
    "facil2 =  pd.read_csv('facility_cleansed.csv')"
   ]
  },
  {
   "cell_type": "code",
   "execution_count": 13,
   "metadata": {},
   "outputs": [
    {
     "name": "stdout",
     "output_type": "stream",
     "text": [
      "<class 'pandas.core.frame.DataFrame'>\n",
      "RangeIndex: 260 entries, 0 to 259\n",
      "Data columns (total 8 columns):\n",
      "Unnamed: 0       260 non-null int64\n",
      "Unnamed: 0.1     260 non-null int64\n",
      "category         260 non-null object\n",
      "place_name       260 non-null object\n",
      "place_address    260 non-null object\n",
      "lat              260 non-null float64\n",
      "lon              260 non-null float64\n",
      "place_id         260 non-null int64\n",
      "dtypes: float64(2), int64(3), object(3)\n",
      "memory usage: 16.3+ KB\n"
     ]
    }
   ],
   "source": [
    "facil2.info()"
   ]
  },
  {
   "cell_type": "code",
   "execution_count": null,
   "metadata": {},
   "outputs": [],
   "source": []
  }
 ],
 "metadata": {
  "kernelspec": {
   "display_name": "Python 3",
   "language": "python",
   "name": "python3"
  },
  "language_info": {
   "codemirror_mode": {
    "name": "ipython",
    "version": 3
   },
   "file_extension": ".py",
   "mimetype": "text/x-python",
   "name": "python",
   "nbconvert_exporter": "python",
   "pygments_lexer": "ipython3",
   "version": "3.6.5"
  }
 },
 "nbformat": 4,
 "nbformat_minor": 2
}
