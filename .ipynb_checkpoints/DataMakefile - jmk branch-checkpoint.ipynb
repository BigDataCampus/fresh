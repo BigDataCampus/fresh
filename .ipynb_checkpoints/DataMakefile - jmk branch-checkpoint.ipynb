{
 "cells": [
  {
   "cell_type": "code",
   "execution_count": 1,
   "metadata": {},
   "outputs": [],
   "source": [
    "import pandas as pd"
   ]
  },
  {
   "cell_type": "markdown",
   "metadata": {},
   "source": [
    "# YJ 데이터"
   ]
  },
  {
   "cell_type": "code",
   "execution_count": 2,
   "metadata": {},
   "outputs": [],
   "source": [
    "def total(total_place_csv,total_place2_csv ):\n",
    "    total_place = pd.read_csv(total_place_csv) # 주요시설\n",
    "    total_place2 = pd.read_csv(total_place2_csv) # 음식점 \n",
    "    total_place = total_place.append(total_place2)\n",
    "    total_place.drop('Unnamed: 0' , axis=1, inplace=True)\n",
    "    total_place.reset_index(inplace=True)\n",
    "    total_place.drop('index', axis=1 , inplace=True)\n",
    "    return total_place"
   ]
  },
  {
   "cell_type": "code",
   "execution_count": 3,
   "metadata": {},
   "outputs": [],
   "source": [
    "yj_total_place = pd.read_csv('yj_main_dish_place/total_place.csv')"
   ]
  },
  {
   "cell_type": "code",
   "execution_count": 4,
   "metadata": {},
   "outputs": [
    {
     "data": {
      "text/html": [
       "<div>\n",
       "<style scoped>\n",
       "    .dataframe tbody tr th:only-of-type {\n",
       "        vertical-align: middle;\n",
       "    }\n",
       "\n",
       "    .dataframe tbody tr th {\n",
       "        vertical-align: top;\n",
       "    }\n",
       "\n",
       "    .dataframe thead th {\n",
       "        text-align: right;\n",
       "    }\n",
       "</style>\n",
       "<table border=\"1\" class=\"dataframe\">\n",
       "  <thead>\n",
       "    <tr style=\"text-align: right;\">\n",
       "      <th></th>\n",
       "      <th>Unnamed: 0</th>\n",
       "      <th>place_name</th>\n",
       "      <th>place_address</th>\n",
       "      <th>lat</th>\n",
       "      <th>lon</th>\n",
       "      <th>category</th>\n",
       "      <th>place_id</th>\n",
       "    </tr>\n",
       "  </thead>\n",
       "  <tbody>\n",
       "    <tr>\n",
       "      <th>0</th>\n",
       "      <td>0</td>\n",
       "      <td>A아트홀(구.신연아트홀)</td>\n",
       "      <td>서울특별시 종로구 동숭동 1-37</td>\n",
       "      <td>37.583269</td>\n",
       "      <td>127.002443</td>\n",
       "      <td>movie/concerthall</td>\n",
       "      <td>10000</td>\n",
       "    </tr>\n",
       "    <tr>\n",
       "      <th>1</th>\n",
       "      <td>1</td>\n",
       "      <td>BBC씨어터</td>\n",
       "      <td>서울특별시 강남구 신사동  568-2</td>\n",
       "      <td>37.523930</td>\n",
       "      <td>127.025143</td>\n",
       "      <td>movie/concerthall</td>\n",
       "      <td>10001</td>\n",
       "    </tr>\n",
       "    <tr>\n",
       "      <th>2</th>\n",
       "      <td>2</td>\n",
       "      <td>BREAK OUT 전용극장</td>\n",
       "      <td>서울특별시 종로구 관철동 33-1</td>\n",
       "      <td>37.568835</td>\n",
       "      <td>126.988123</td>\n",
       "      <td>movie/concerthall</td>\n",
       "      <td>10002</td>\n",
       "    </tr>\n",
       "    <tr>\n",
       "      <th>3</th>\n",
       "      <td>3</td>\n",
       "      <td>BYRDS(버즈)</td>\n",
       "      <td>서울특별시 마포구 와우산로 51</td>\n",
       "      <td>37.549100</td>\n",
       "      <td>126.922860</td>\n",
       "      <td>movie/concerthall</td>\n",
       "      <td>10003</td>\n",
       "    </tr>\n",
       "    <tr>\n",
       "      <th>4</th>\n",
       "      <td>4</td>\n",
       "      <td>Between the Bars</td>\n",
       "      <td>서울특별시 마포구 어울마당로 114</td>\n",
       "      <td>37.554833</td>\n",
       "      <td>126.923213</td>\n",
       "      <td>movie/concerthall</td>\n",
       "      <td>10004</td>\n",
       "    </tr>\n",
       "  </tbody>\n",
       "</table>\n",
       "</div>"
      ],
      "text/plain": [
       "   Unnamed: 0        place_name         place_address        lat         lon  \\\n",
       "0           0     A아트홀(구.신연아트홀)    서울특별시 종로구 동숭동 1-37  37.583269  127.002443   \n",
       "1           1            BBC씨어터  서울특별시 강남구 신사동  568-2  37.523930  127.025143   \n",
       "2           2    BREAK OUT 전용극장    서울특별시 종로구 관철동 33-1  37.568835  126.988123   \n",
       "3           3         BYRDS(버즈)     서울특별시 마포구 와우산로 51  37.549100  126.922860   \n",
       "4           4  Between the Bars   서울특별시 마포구 어울마당로 114  37.554833  126.923213   \n",
       "\n",
       "            category  place_id  \n",
       "0  movie/concerthall     10000  \n",
       "1  movie/concerthall     10001  \n",
       "2  movie/concerthall     10002  \n",
       "3  movie/concerthall     10003  \n",
       "4  movie/concerthall     10004  "
      ]
     },
     "execution_count": 4,
     "metadata": {},
     "output_type": "execute_result"
    }
   ],
   "source": [
    "yj_total_place.head() # 영준 제 1 테이블"
   ]
  },
  {
   "cell_type": "code",
   "execution_count": 5,
   "metadata": {},
   "outputs": [],
   "source": [
    "yj_total_place_facility_available = pd.read_csv('yj_main_dish_place/total_place_facility_available.csv')"
   ]
  },
  {
   "cell_type": "code",
   "execution_count": 6,
   "metadata": {},
   "outputs": [
    {
     "name": "stdout",
     "output_type": "stream",
     "text": [
      "<class 'pandas.core.frame.DataFrame'>\n",
      "RangeIndex: 17604 entries, 0 to 17603\n",
      "Data columns (total 6 columns):\n",
      "Unnamed: 0                 17604 non-null int64\n",
      "facility_available_name    17604 non-null object\n",
      "facility_is_available      17604 non-null object\n",
      "place_name                 17604 non-null object\n",
      "place_id                   17604 non-null int64\n",
      "facility_id                17604 non-null int64\n",
      "dtypes: int64(3), object(3)\n",
      "memory usage: 825.3+ KB\n"
     ]
    }
   ],
   "source": [
    "yj_total_place_facility_available.info()"
   ]
  },
  {
   "cell_type": "code",
   "execution_count": 7,
   "metadata": {},
   "outputs": [],
   "source": [
    "yj_total_place_facility_detail_info = pd.read_csv('yj_main_dish_place/total_place_facility_detail_info.csv')"
   ]
  },
  {
   "cell_type": "code",
   "execution_count": 8,
   "metadata": {},
   "outputs": [
    {
     "data": {
      "text/html": [
       "<div>\n",
       "<style scoped>\n",
       "    .dataframe tbody tr th:only-of-type {\n",
       "        vertical-align: middle;\n",
       "    }\n",
       "\n",
       "    .dataframe tbody tr th {\n",
       "        vertical-align: top;\n",
       "    }\n",
       "\n",
       "    .dataframe thead th {\n",
       "        text-align: right;\n",
       "    }\n",
       "</style>\n",
       "<table border=\"1\" class=\"dataframe\">\n",
       "  <thead>\n",
       "    <tr style=\"text-align: right;\">\n",
       "      <th></th>\n",
       "      <th>Unnamed: 0</th>\n",
       "      <th>facility_available_name</th>\n",
       "      <th>facility_is_available</th>\n",
       "      <th>place_name</th>\n",
       "      <th>place_id</th>\n",
       "      <th>facility_id</th>\n",
       "    </tr>\n",
       "  </thead>\n",
       "  <tbody>\n",
       "    <tr>\n",
       "      <th>0</th>\n",
       "      <td>0</td>\n",
       "      <td>주출입구 접근로</td>\n",
       "      <td>이용불편</td>\n",
       "      <td>A아트홀(구.신연아트홀)</td>\n",
       "      <td>10000</td>\n",
       "      <td>100000</td>\n",
       "    </tr>\n",
       "    <tr>\n",
       "      <th>1</th>\n",
       "      <td>1</td>\n",
       "      <td>주출입구 높이차이 제거</td>\n",
       "      <td>이용가능</td>\n",
       "      <td>A아트홀(구.신연아트홀)</td>\n",
       "      <td>10000</td>\n",
       "      <td>100001</td>\n",
       "    </tr>\n",
       "    <tr>\n",
       "      <th>2</th>\n",
       "      <td>2</td>\n",
       "      <td>주출입구 접근로</td>\n",
       "      <td>이용가능</td>\n",
       "      <td>BBC씨어터</td>\n",
       "      <td>10001</td>\n",
       "      <td>100002</td>\n",
       "    </tr>\n",
       "    <tr>\n",
       "      <th>3</th>\n",
       "      <td>3</td>\n",
       "      <td>장애인 전용 주차구역</td>\n",
       "      <td>이용가능</td>\n",
       "      <td>BBC씨어터</td>\n",
       "      <td>10001</td>\n",
       "      <td>100003</td>\n",
       "    </tr>\n",
       "    <tr>\n",
       "      <th>4</th>\n",
       "      <td>4</td>\n",
       "      <td>주출입구 높이차이 제거</td>\n",
       "      <td>이용가능</td>\n",
       "      <td>BBC씨어터</td>\n",
       "      <td>10001</td>\n",
       "      <td>100004</td>\n",
       "    </tr>\n",
       "  </tbody>\n",
       "</table>\n",
       "</div>"
      ],
      "text/plain": [
       "   Unnamed: 0 facility_available_name facility_is_available     place_name  \\\n",
       "0           0                주출입구 접근로                  이용불편  A아트홀(구.신연아트홀)   \n",
       "1           1            주출입구 높이차이 제거                  이용가능  A아트홀(구.신연아트홀)   \n",
       "2           2                주출입구 접근로                  이용가능         BBC씨어터   \n",
       "3           3             장애인 전용 주차구역                  이용가능         BBC씨어터   \n",
       "4           4            주출입구 높이차이 제거                  이용가능         BBC씨어터   \n",
       "\n",
       "   place_id  facility_id  \n",
       "0     10000       100000  \n",
       "1     10000       100001  \n",
       "2     10001       100002  \n",
       "3     10001       100003  \n",
       "4     10001       100004  "
      ]
     },
     "execution_count": 8,
     "metadata": {},
     "output_type": "execute_result"
    }
   ],
   "source": [
    "yj_total_place_facility_available.head() # 영준 제 2 테이블"
   ]
  },
  {
   "cell_type": "code",
   "execution_count": 9,
   "metadata": {},
   "outputs": [
    {
     "data": {
      "text/html": [
       "<div>\n",
       "<style scoped>\n",
       "    .dataframe tbody tr th:only-of-type {\n",
       "        vertical-align: middle;\n",
       "    }\n",
       "\n",
       "    .dataframe tbody tr th {\n",
       "        vertical-align: top;\n",
       "    }\n",
       "\n",
       "    .dataframe thead th {\n",
       "        text-align: right;\n",
       "    }\n",
       "</style>\n",
       "<table border=\"1\" class=\"dataframe\">\n",
       "  <thead>\n",
       "    <tr style=\"text-align: right;\">\n",
       "      <th></th>\n",
       "      <th>Unnamed: 0</th>\n",
       "      <th>facility_detail_info</th>\n",
       "      <th>facility_available_name</th>\n",
       "      <th>facility_id</th>\n",
       "    </tr>\n",
       "  </thead>\n",
       "  <tbody>\n",
       "    <tr>\n",
       "      <th>0</th>\n",
       "      <td>0</td>\n",
       "      <td>평탄함</td>\n",
       "      <td>주출입구 접근로</td>\n",
       "      <td>100000</td>\n",
       "    </tr>\n",
       "    <tr>\n",
       "      <th>1</th>\n",
       "      <td>1</td>\n",
       "      <td>단차없음</td>\n",
       "      <td>주출입구 접근로</td>\n",
       "      <td>100000</td>\n",
       "    </tr>\n",
       "    <tr>\n",
       "      <th>2</th>\n",
       "      <td>2</td>\n",
       "      <td>기울기 1/18~1/12이하</td>\n",
       "      <td>주출입구 접근로</td>\n",
       "      <td>100000</td>\n",
       "    </tr>\n",
       "    <tr>\n",
       "      <th>3</th>\n",
       "      <td>3</td>\n",
       "      <td>보/차도 구분</td>\n",
       "      <td>주출입구 접근로</td>\n",
       "      <td>100000</td>\n",
       "    </tr>\n",
       "    <tr>\n",
       "      <th>4</th>\n",
       "      <td>4</td>\n",
       "      <td>상세정보 없음</td>\n",
       "      <td>주출입구 높이차이 제거</td>\n",
       "      <td>100001</td>\n",
       "    </tr>\n",
       "  </tbody>\n",
       "</table>\n",
       "</div>"
      ],
      "text/plain": [
       "   Unnamed: 0 facility_detail_info facility_available_name  facility_id\n",
       "0           0                  평탄함                주출입구 접근로       100000\n",
       "1           1                 단차없음                주출입구 접근로       100000\n",
       "2           2      기울기 1/18~1/12이하                주출입구 접근로       100000\n",
       "3           3              보/차도 구분                주출입구 접근로       100000\n",
       "4           4              상세정보 없음            주출입구 높이차이 제거       100001"
      ]
     },
     "execution_count": 9,
     "metadata": {},
     "output_type": "execute_result"
    }
   ],
   "source": [
    "yj_total_place_facility_detail_info.head() # 영준 제 3 테이블"
   ]
  },
  {
   "cell_type": "code",
   "execution_count": null,
   "metadata": {},
   "outputs": [],
   "source": []
  },
  {
   "cell_type": "markdown",
   "metadata": {},
   "source": [
    "# HJ 데이터"
   ]
  },
  {
   "cell_type": "code",
   "execution_count": 10,
   "metadata": {},
   "outputs": [],
   "source": [
    "hj_place = pd.read_csv('Hyejung/place.csv') # HJ1번테이블"
   ]
  },
  {
   "cell_type": "code",
   "execution_count": 11,
   "metadata": {},
   "outputs": [
    {
     "data": {
      "text/html": [
       "<div>\n",
       "<style scoped>\n",
       "    .dataframe tbody tr th:only-of-type {\n",
       "        vertical-align: middle;\n",
       "    }\n",
       "\n",
       "    .dataframe tbody tr th {\n",
       "        vertical-align: top;\n",
       "    }\n",
       "\n",
       "    .dataframe thead th {\n",
       "        text-align: right;\n",
       "    }\n",
       "</style>\n",
       "<table border=\"1\" class=\"dataframe\">\n",
       "  <thead>\n",
       "    <tr style=\"text-align: right;\">\n",
       "      <th></th>\n",
       "      <th>Unnamed: 0</th>\n",
       "      <th>place_id</th>\n",
       "      <th>lat</th>\n",
       "      <th>lon</th>\n",
       "      <th>place_name</th>\n",
       "      <th>category</th>\n",
       "      <th>place_address</th>\n",
       "      <th>evalInfo</th>\n",
       "    </tr>\n",
       "  </thead>\n",
       "  <tbody>\n",
       "    <tr>\n",
       "      <th>0</th>\n",
       "      <td>0</td>\n",
       "      <td>20000</td>\n",
       "      <td>37.562726</td>\n",
       "      <td>127.032570</td>\n",
       "      <td>(구)왕십리클리닉빌딩</td>\n",
       "      <td>bank</td>\n",
       "      <td>서울특별시 성동구 왕십리로 333</td>\n",
       "      <td>계단 또는 승강설비,대변기,장애인전용주차구역,주출입구 높이차이 제거,주출입구 접근로...</td>\n",
       "    </tr>\n",
       "    <tr>\n",
       "      <th>1</th>\n",
       "      <td>1</td>\n",
       "      <td>20001</td>\n",
       "      <td>37.573937</td>\n",
       "      <td>126.983187</td>\n",
       "      <td>(재)대한불교계종유지재단</td>\n",
       "      <td>shopping/mart</td>\n",
       "      <td>서울특별시 종로구 우정국로 56</td>\n",
       "      <td>주출입구 높이차이 제거,주출입구 접근로,출입구(문)</td>\n",
       "    </tr>\n",
       "    <tr>\n",
       "      <th>2</th>\n",
       "      <td>2</td>\n",
       "      <td>20002</td>\n",
       "      <td>37.485282</td>\n",
       "      <td>126.931355</td>\n",
       "      <td>(주)관전인베스트먼트</td>\n",
       "      <td>tourist hotel</td>\n",
       "      <td>서울특별시 관악구 신림로64길29 (신림동)</td>\n",
       "      <td>객실 및 침실,계단 또는 승강설비,대변기,복도,세면대,소변기,일반사항,장애인전용주차...</td>\n",
       "    </tr>\n",
       "    <tr>\n",
       "      <th>3</th>\n",
       "      <td>3</td>\n",
       "      <td>20003</td>\n",
       "      <td>37.490768</td>\n",
       "      <td>126.982048</td>\n",
       "      <td>(주)대광메디텍</td>\n",
       "      <td>shopping/mart</td>\n",
       "      <td>서울특별시 동작구 동작대로35길 5</td>\n",
       "      <td>주출입구 높이차이 제거,주출입구 접근로,출입구(문)</td>\n",
       "    </tr>\n",
       "    <tr>\n",
       "      <th>4</th>\n",
       "      <td>4</td>\n",
       "      <td>20004</td>\n",
       "      <td>37.544932</td>\n",
       "      <td>126.910696</td>\n",
       "      <td>(주)동아일보사</td>\n",
       "      <td>bank</td>\n",
       "      <td>서울특별시 마포구 토정로 1</td>\n",
       "      <td>계단 또는 승강설비,대변기,일반사항,장애인전용주차구역,주출입구 높이차이 제거,주출입...</td>\n",
       "    </tr>\n",
       "  </tbody>\n",
       "</table>\n",
       "</div>"
      ],
      "text/plain": [
       "   Unnamed: 0  place_id        lat         lon     place_name       category  \\\n",
       "0           0     20000  37.562726  127.032570    (구)왕십리클리닉빌딩           bank   \n",
       "1           1     20001  37.573937  126.983187  (재)대한불교계종유지재단  shopping/mart   \n",
       "2           2     20002  37.485282  126.931355    (주)관전인베스트먼트  tourist hotel   \n",
       "3           3     20003  37.490768  126.982048       (주)대광메디텍  shopping/mart   \n",
       "4           4     20004  37.544932  126.910696       (주)동아일보사           bank   \n",
       "\n",
       "              place_address                                           evalInfo  \n",
       "0        서울특별시 성동구 왕십리로 333  계단 또는 승강설비,대변기,장애인전용주차구역,주출입구 높이차이 제거,주출입구 접근로...  \n",
       "1         서울특별시 종로구 우정국로 56                       주출입구 높이차이 제거,주출입구 접근로,출입구(문)  \n",
       "2  서울특별시 관악구 신림로64길29 (신림동)  객실 및 침실,계단 또는 승강설비,대변기,복도,세면대,소변기,일반사항,장애인전용주차...  \n",
       "3       서울특별시 동작구 동작대로35길 5                       주출입구 높이차이 제거,주출입구 접근로,출입구(문)  \n",
       "4           서울특별시 마포구 토정로 1  계단 또는 승강설비,대변기,일반사항,장애인전용주차구역,주출입구 높이차이 제거,주출입...  "
      ]
     },
     "execution_count": 11,
     "metadata": {},
     "output_type": "execute_result"
    }
   ],
   "source": [
    "hj_place.head()"
   ]
  },
  {
   "cell_type": "code",
   "execution_count": 12,
   "metadata": {},
   "outputs": [],
   "source": [
    "hj_place_facility_available = pd.read_csv('Hyejung/facility_available.csv')  # HJ 2번테이블"
   ]
  },
  {
   "cell_type": "code",
   "execution_count": 13,
   "metadata": {},
   "outputs": [
    {
     "data": {
      "text/html": [
       "<div>\n",
       "<style scoped>\n",
       "    .dataframe tbody tr th:only-of-type {\n",
       "        vertical-align: middle;\n",
       "    }\n",
       "\n",
       "    .dataframe tbody tr th {\n",
       "        vertical-align: top;\n",
       "    }\n",
       "\n",
       "    .dataframe thead th {\n",
       "        text-align: right;\n",
       "    }\n",
       "</style>\n",
       "<table border=\"1\" class=\"dataframe\">\n",
       "  <thead>\n",
       "    <tr style=\"text-align: right;\">\n",
       "      <th></th>\n",
       "      <th>Unnamed: 0</th>\n",
       "      <th>facility_id</th>\n",
       "      <th>facillity_available_name</th>\n",
       "      <th>facility_is_available</th>\n",
       "      <th>place_name</th>\n",
       "      <th>place_id</th>\n",
       "    </tr>\n",
       "  </thead>\n",
       "  <tbody>\n",
       "    <tr>\n",
       "      <th>0</th>\n",
       "      <td>0</td>\n",
       "      <td>200000</td>\n",
       "      <td>계단 또는 승강설비</td>\n",
       "      <td>None</td>\n",
       "      <td>(구)왕십리클리닉빌딩</td>\n",
       "      <td>20000</td>\n",
       "    </tr>\n",
       "    <tr>\n",
       "      <th>1</th>\n",
       "      <td>1</td>\n",
       "      <td>200001</td>\n",
       "      <td>대변기</td>\n",
       "      <td>None</td>\n",
       "      <td>(구)왕십리클리닉빌딩</td>\n",
       "      <td>20000</td>\n",
       "    </tr>\n",
       "    <tr>\n",
       "      <th>2</th>\n",
       "      <td>2</td>\n",
       "      <td>200002</td>\n",
       "      <td>장애인전용주차구역</td>\n",
       "      <td>None</td>\n",
       "      <td>(구)왕십리클리닉빌딩</td>\n",
       "      <td>20000</td>\n",
       "    </tr>\n",
       "    <tr>\n",
       "      <th>3</th>\n",
       "      <td>3</td>\n",
       "      <td>200003</td>\n",
       "      <td>주출입구 높이차이 제거</td>\n",
       "      <td>None</td>\n",
       "      <td>(구)왕십리클리닉빌딩</td>\n",
       "      <td>20000</td>\n",
       "    </tr>\n",
       "    <tr>\n",
       "      <th>4</th>\n",
       "      <td>4</td>\n",
       "      <td>200004</td>\n",
       "      <td>주출입구 접근로</td>\n",
       "      <td>None</td>\n",
       "      <td>(구)왕십리클리닉빌딩</td>\n",
       "      <td>20000</td>\n",
       "    </tr>\n",
       "  </tbody>\n",
       "</table>\n",
       "</div>"
      ],
      "text/plain": [
       "   Unnamed: 0  facility_id facillity_available_name facility_is_available  \\\n",
       "0           0       200000               계단 또는 승강설비                  None   \n",
       "1           1       200001                      대변기                  None   \n",
       "2           2       200002                장애인전용주차구역                  None   \n",
       "3           3       200003             주출입구 높이차이 제거                  None   \n",
       "4           4       200004                 주출입구 접근로                  None   \n",
       "\n",
       "    place_name  place_id  \n",
       "0  (구)왕십리클리닉빌딩     20000  \n",
       "1  (구)왕십리클리닉빌딩     20000  \n",
       "2  (구)왕십리클리닉빌딩     20000  \n",
       "3  (구)왕십리클리닉빌딩     20000  \n",
       "4  (구)왕십리클리닉빌딩     20000  "
      ]
     },
     "execution_count": 13,
     "metadata": {},
     "output_type": "execute_result"
    }
   ],
   "source": [
    "hj_place_facility_available.head()"
   ]
  },
  {
   "cell_type": "code",
   "execution_count": 14,
   "metadata": {},
   "outputs": [
    {
     "name": "stdout",
     "output_type": "stream",
     "text": [
      "<class 'pandas.core.frame.DataFrame'>\n",
      "RangeIndex: 90403 entries, 0 to 90402\n",
      "Data columns (total 6 columns):\n",
      "Unnamed: 0                  90403 non-null int64\n",
      "facility_id                 90403 non-null int64\n",
      "facillity_available_name    90403 non-null object\n",
      "facility_is_available       90403 non-null object\n",
      "place_name                  90403 non-null object\n",
      "place_id                    90403 non-null int64\n",
      "dtypes: int64(3), object(3)\n",
      "memory usage: 4.1+ MB\n"
     ]
    }
   ],
   "source": [
    "hj_place_facility_available.info()"
   ]
  },
  {
   "cell_type": "code",
   "execution_count": 15,
   "metadata": {},
   "outputs": [
    {
     "name": "stdout",
     "output_type": "stream",
     "text": [
      "<class 'pandas.core.frame.DataFrame'>\n",
      "RangeIndex: 10389 entries, 0 to 10388\n",
      "Data columns (total 8 columns):\n",
      "Unnamed: 0       10389 non-null int64\n",
      "place_id         10389 non-null int64\n",
      "lat              10389 non-null float64\n",
      "lon              10389 non-null float64\n",
      "place_name       10389 non-null object\n",
      "category         10389 non-null object\n",
      "place_address    10389 non-null object\n",
      "evalInfo         10389 non-null object\n",
      "dtypes: float64(2), int64(2), object(4)\n",
      "memory usage: 649.4+ KB\n"
     ]
    }
   ],
   "source": [
    "hj_place.info()"
   ]
  },
  {
   "cell_type": "code",
   "execution_count": 16,
   "metadata": {},
   "outputs": [
    {
     "data": {
      "text/html": [
       "<div>\n",
       "<style scoped>\n",
       "    .dataframe tbody tr th:only-of-type {\n",
       "        vertical-align: middle;\n",
       "    }\n",
       "\n",
       "    .dataframe tbody tr th {\n",
       "        vertical-align: top;\n",
       "    }\n",
       "\n",
       "    .dataframe thead th {\n",
       "        text-align: right;\n",
       "    }\n",
       "</style>\n",
       "<table border=\"1\" class=\"dataframe\">\n",
       "  <thead>\n",
       "    <tr style=\"text-align: right;\">\n",
       "      <th></th>\n",
       "      <th>Unnamed: 0</th>\n",
       "      <th>place_id</th>\n",
       "      <th>lat</th>\n",
       "      <th>lon</th>\n",
       "      <th>place_name</th>\n",
       "      <th>category</th>\n",
       "      <th>place_address</th>\n",
       "      <th>evalInfo</th>\n",
       "    </tr>\n",
       "  </thead>\n",
       "  <tbody>\n",
       "    <tr>\n",
       "      <th>9810</th>\n",
       "      <td>9810</td>\n",
       "      <td>29810</td>\n",
       "      <td>37.434986</td>\n",
       "      <td>126.903433</td>\n",
       "      <td>한일모텍</td>\n",
       "      <td>shopping/mart</td>\n",
       "      <td>서울특별시 금천구 시흥대로 3-15</td>\n",
       "      <td>주출입구 높이차이 제거,주출입구 접근로,출입구(문)</td>\n",
       "    </tr>\n",
       "    <tr>\n",
       "      <th>5863</th>\n",
       "      <td>5863</td>\n",
       "      <td>25863</td>\n",
       "      <td>37.434986</td>\n",
       "      <td>126.903433</td>\n",
       "      <td>시티렉스(CT-LEX)</td>\n",
       "      <td>concert hall</td>\n",
       "      <td>서울특별시 금천구 시흥대로 3</td>\n",
       "      <td>객실 및 침실,경보 및 피난설비,계단 또는 승강설비,관람석 및 열람석,대변기,매표소...</td>\n",
       "    </tr>\n",
       "    <tr>\n",
       "      <th>10045</th>\n",
       "      <td>10045</td>\n",
       "      <td>30045</td>\n",
       "      <td>37.434986</td>\n",
       "      <td>126.903433</td>\n",
       "      <td>호산나교회</td>\n",
       "      <td>church</td>\n",
       "      <td>서울특별시 금천구 시흥대로13길 25</td>\n",
       "      <td>장애인전용주차구역,주출입구 높이차이 제거,주출입구 접근로,출입구(문)</td>\n",
       "    </tr>\n",
       "    <tr>\n",
       "      <th>3799</th>\n",
       "      <td>3799</td>\n",
       "      <td>23799</td>\n",
       "      <td>37.434986</td>\n",
       "      <td>126.903433</td>\n",
       "      <td>보벨르웨딩홀</td>\n",
       "      <td>meeting hall</td>\n",
       "      <td>서울특별시 금천구 시흥대로  13</td>\n",
       "      <td>계단 또는 승강설비,대변기,장애인전용주차구역,주출입구 높이차이 제거,주출입구 접근로...</td>\n",
       "    </tr>\n",
       "    <tr>\n",
       "      <th>4461</th>\n",
       "      <td>4461</td>\n",
       "      <td>24461</td>\n",
       "      <td>37.434986</td>\n",
       "      <td>126.903433</td>\n",
       "      <td>샤론어린이집</td>\n",
       "      <td>daycare center</td>\n",
       "      <td>서울특별시 금천구 시흥대로3길 48-3</td>\n",
       "      <td>계단 또는 승강설비,대변기,소변기,장애인전용주차구역,주출입구 높이차이 제거,주출입구...</td>\n",
       "    </tr>\n",
       "    <tr>\n",
       "      <th>6201</th>\n",
       "      <td>6201</td>\n",
       "      <td>26201</td>\n",
       "      <td>37.434986</td>\n",
       "      <td>126.903433</td>\n",
       "      <td>실버캐슬노인요양원</td>\n",
       "      <td>welfare/senior</td>\n",
       "      <td>서울특별시 금천구 시흥대로13길 14</td>\n",
       "      <td>계단 또는 승강설비,대변기,소변기,장애인전용주차구역,주출입구 높이차이 제거,주출입구...</td>\n",
       "    </tr>\n",
       "    <tr>\n",
       "      <th>1514</th>\n",
       "      <td>1514</td>\n",
       "      <td>21514</td>\n",
       "      <td>37.434986</td>\n",
       "      <td>126.903433</td>\n",
       "      <td>금천전화국</td>\n",
       "      <td>bank</td>\n",
       "      <td>서울특별시 금천구 시흥대로 13</td>\n",
       "      <td>계단 또는 승강설비,대변기,장애인전용주차구역,주출입구 높이차이 제거,주출입구 접근로...</td>\n",
       "    </tr>\n",
       "    <tr>\n",
       "      <th>2913</th>\n",
       "      <td>2913</td>\n",
       "      <td>22913</td>\n",
       "      <td>37.434986</td>\n",
       "      <td>126.903433</td>\n",
       "      <td>로뎀복지요양원</td>\n",
       "      <td>welfare/senior</td>\n",
       "      <td>서울특별시 금천구 시흥대로5길 24</td>\n",
       "      <td>계단 또는 승강설비,대변기,소변기,장애인전용주차구역,주출입구 높이차이 제거,주출입구...</td>\n",
       "    </tr>\n",
       "    <tr>\n",
       "      <th>7227</th>\n",
       "      <td>7227</td>\n",
       "      <td>27227</td>\n",
       "      <td>37.434986</td>\n",
       "      <td>126.903433</td>\n",
       "      <td>올슈퍼</td>\n",
       "      <td>shopping/mart</td>\n",
       "      <td>서울특별시 금천구 시흥대로3길  45</td>\n",
       "      <td>주출입구 높이차이 제거,주출입구 접근로,출입구(문)</td>\n",
       "    </tr>\n",
       "    <tr>\n",
       "      <th>4433</th>\n",
       "      <td>4433</td>\n",
       "      <td>24433</td>\n",
       "      <td>37.438549</td>\n",
       "      <td>126.902226</td>\n",
       "      <td>새움병원</td>\n",
       "      <td>hospital</td>\n",
       "      <td>서울특별시 금천구 시흥대로  44</td>\n",
       "      <td>객실 및 침실,경보 및 피난설비,계단 또는 승강설비,대변기,세면대,소변기,유도 및 ...</td>\n",
       "    </tr>\n",
       "    <tr>\n",
       "      <th>8014</th>\n",
       "      <td>8014</td>\n",
       "      <td>28014</td>\n",
       "      <td>37.438549</td>\n",
       "      <td>126.902226</td>\n",
       "      <td>자연유아원</td>\n",
       "      <td>daycare center</td>\n",
       "      <td>서울특별시 금천구 시흥대로44길 3</td>\n",
       "      <td>계단 또는 승강설비,대변기,소변기,장애인전용주차구역,주출입구 높이차이 제거,주출입구...</td>\n",
       "    </tr>\n",
       "    <tr>\n",
       "      <th>2451</th>\n",
       "      <td>2451</td>\n",
       "      <td>22451</td>\n",
       "      <td>37.447878</td>\n",
       "      <td>126.903696</td>\n",
       "      <td>독산본동다목적광장</td>\n",
       "      <td>public parking</td>\n",
       "      <td>서울특별시 금천구 시흥대로154길 56</td>\n",
       "      <td>장애인전용주차구역,주출입구 높이차이 제거,주출입구 접근로</td>\n",
       "    </tr>\n",
       "    <tr>\n",
       "      <th>1236</th>\n",
       "      <td>1236</td>\n",
       "      <td>21236</td>\n",
       "      <td>37.447878</td>\n",
       "      <td>126.903696</td>\n",
       "      <td>구립독산본동어린이집</td>\n",
       "      <td>daycare center</td>\n",
       "      <td>서울특별시 금천구 시흥대로154길 7</td>\n",
       "      <td>대변기,소변기,장애인전용주차구역,주출입구 높이차이 제거,주출입구 접근로,출입구(문)...</td>\n",
       "    </tr>\n",
       "    <tr>\n",
       "      <th>5086</th>\n",
       "      <td>5086</td>\n",
       "      <td>25086</td>\n",
       "      <td>37.448505</td>\n",
       "      <td>126.903705</td>\n",
       "      <td>섬김의집</td>\n",
       "      <td>daycare center</td>\n",
       "      <td>서울특별시 금천구 독산로4가길 31</td>\n",
       "      <td>계단 또는 승강설비,대변기,소변기,장애인전용주차구역,주출입구 높이차이 제거,주출입구...</td>\n",
       "    </tr>\n",
       "    <tr>\n",
       "      <th>1719</th>\n",
       "      <td>1719</td>\n",
       "      <td>21719</td>\n",
       "      <td>37.448505</td>\n",
       "      <td>126.903705</td>\n",
       "      <td>남문교회</td>\n",
       "      <td>daycare center</td>\n",
       "      <td>서울특별시 금천구 독산로4가길 2</td>\n",
       "      <td>대변기,소변기,장애인전용주차구역,주출입구 높이차이 제거,주출입구 접근로,출입구(문)...</td>\n",
       "    </tr>\n",
       "    <tr>\n",
       "      <th>10372</th>\n",
       "      <td>10372</td>\n",
       "      <td>30372</td>\n",
       "      <td>37.448736</td>\n",
       "      <td>126.904568</td>\n",
       "      <td>희원노인요양원</td>\n",
       "      <td>welfare/senior</td>\n",
       "      <td>서울특별시 금천구 독산로 14</td>\n",
       "      <td>계단 또는 승강설비,대변기,소변기,장애인전용주차구역,주출입구 높이차이 제거,주출입구...</td>\n",
       "    </tr>\n",
       "    <tr>\n",
       "      <th>8772</th>\n",
       "      <td>8772</td>\n",
       "      <td>28772</td>\n",
       "      <td>37.448736</td>\n",
       "      <td>126.904568</td>\n",
       "      <td>청다담마트</td>\n",
       "      <td>shopping/mart</td>\n",
       "      <td>서울특별시 금천구 독산로  14</td>\n",
       "      <td>주출입구 높이차이 제거,주출입구 접근로,출입구(문)</td>\n",
       "    </tr>\n",
       "    <tr>\n",
       "      <th>3689</th>\n",
       "      <td>3689</td>\n",
       "      <td>23689</td>\n",
       "      <td>37.448736</td>\n",
       "      <td>126.904568</td>\n",
       "      <td>백운매트로엔</td>\n",
       "      <td>bank</td>\n",
       "      <td>서울특별시 금천구 독산로 14</td>\n",
       "      <td>계단 또는 승강설비,대변기,장애인전용주차구역,주출입구 높이차이 제거,주출입구 접근로...</td>\n",
       "    </tr>\n",
       "    <tr>\n",
       "      <th>3400</th>\n",
       "      <td>3400</td>\n",
       "      <td>23400</td>\n",
       "      <td>37.448915</td>\n",
       "      <td>126.898723</td>\n",
       "      <td>문일중학교</td>\n",
       "      <td>junior high school</td>\n",
       "      <td>서울특별시 금천구 시흥대로47길 45</td>\n",
       "      <td>객실 및 침실,경보 및 피난설비,계단 또는 승강설비,대변기,소변기,유도 및 안내 설...</td>\n",
       "    </tr>\n",
       "    <tr>\n",
       "      <th>3399</th>\n",
       "      <td>3399</td>\n",
       "      <td>23399</td>\n",
       "      <td>37.448915</td>\n",
       "      <td>126.898723</td>\n",
       "      <td>문일고등학교</td>\n",
       "      <td>high school</td>\n",
       "      <td>서울특별시 금천구 시흥대로47길 45</td>\n",
       "      <td>객실 및 침실,경보 및 피난설비,계단 또는 승강설비,대변기,소변기,유도 및 안내 설...</td>\n",
       "    </tr>\n",
       "    <tr>\n",
       "      <th>2663</th>\n",
       "      <td>2663</td>\n",
       "      <td>22663</td>\n",
       "      <td>37.451628</td>\n",
       "      <td>126.910884</td>\n",
       "      <td>동일여자고등학교</td>\n",
       "      <td>high school</td>\n",
       "      <td>서울특별시 금천구 탑골로14길 45</td>\n",
       "      <td>객실 및 침실,경보 및 피난설비,계단 또는 승강설비,대변기,소변기,유도 및 안내 설...</td>\n",
       "    </tr>\n",
       "    <tr>\n",
       "      <th>2664</th>\n",
       "      <td>2664</td>\n",
       "      <td>22664</td>\n",
       "      <td>37.451628</td>\n",
       "      <td>126.910884</td>\n",
       "      <td>동일여자전산디자인고등학교</td>\n",
       "      <td>high school</td>\n",
       "      <td>서울특별시 금천구 탑골로14길 45</td>\n",
       "      <td>객실 및 침실,경보 및 피난설비,계단 또는 승강설비,대변기,소변기,유도 및 안내 설...</td>\n",
       "    </tr>\n",
       "    <tr>\n",
       "      <th>4077</th>\n",
       "      <td>4077</td>\n",
       "      <td>24077</td>\n",
       "      <td>37.452708</td>\n",
       "      <td>126.900648</td>\n",
       "      <td>산들파크빌5</td>\n",
       "      <td>bank</td>\n",
       "      <td>서울특별시 금천구 시흥대로57길  1-37</td>\n",
       "      <td>계단 또는 승강설비,대변기,장애인전용주차구역,주출입구 높이차이 제거,주출입구 접근로...</td>\n",
       "    </tr>\n",
       "    <tr>\n",
       "      <th>4076</th>\n",
       "      <td>4076</td>\n",
       "      <td>24076</td>\n",
       "      <td>37.452708</td>\n",
       "      <td>126.900648</td>\n",
       "      <td>산들파크빌3</td>\n",
       "      <td>bank</td>\n",
       "      <td>서울특별시 금천구 시흥대로57길  1-37</td>\n",
       "      <td>계단 또는 승강설비,대변기,장애인전용주차구역,주출입구 높이차이 제거,주출입구 접근로...</td>\n",
       "    </tr>\n",
       "    <tr>\n",
       "      <th>4079</th>\n",
       "      <td>4079</td>\n",
       "      <td>24079</td>\n",
       "      <td>37.452708</td>\n",
       "      <td>126.900648</td>\n",
       "      <td>산들파크빌7</td>\n",
       "      <td>bank</td>\n",
       "      <td>서울특별시 금천구 시흥대로57길 1-31</td>\n",
       "      <td>계단 또는 승강설비,대변기,장애인전용주차구역,주출입구 높이차이 제거,주출입구 접근로...</td>\n",
       "    </tr>\n",
       "    <tr>\n",
       "      <th>4074</th>\n",
       "      <td>4074</td>\n",
       "      <td>24074</td>\n",
       "      <td>37.452708</td>\n",
       "      <td>126.900648</td>\n",
       "      <td>산들파크빌1</td>\n",
       "      <td>bank</td>\n",
       "      <td>서울특별시 금천구 시흥대로57길  1-43</td>\n",
       "      <td>계단 또는 승강설비,대변기,장애인전용주차구역,주출입구 높이차이 제거,주출입구 접근로...</td>\n",
       "    </tr>\n",
       "    <tr>\n",
       "      <th>4075</th>\n",
       "      <td>4075</td>\n",
       "      <td>24075</td>\n",
       "      <td>37.452708</td>\n",
       "      <td>126.900648</td>\n",
       "      <td>산들파크빌2</td>\n",
       "      <td>bank</td>\n",
       "      <td>서울특별시 금천구 시흥대로57길  1-41</td>\n",
       "      <td>계단 또는 승강설비,대변기,장애인전용주차구역,주출입구 높이차이 제거,주출입구 접근로...</td>\n",
       "    </tr>\n",
       "    <tr>\n",
       "      <th>10118</th>\n",
       "      <td>10118</td>\n",
       "      <td>30118</td>\n",
       "      <td>37.455422</td>\n",
       "      <td>126.900689</td>\n",
       "      <td>홈플러스테스테스코㈜시흥점</td>\n",
       "      <td>shopping</td>\n",
       "      <td>서울특별시 금천구 시흥대로 241</td>\n",
       "      <td>계단 또는 승강설비,대변기,비치용품,장애인전용주차구역,주출입구 높이차이 제거,주출입...</td>\n",
       "    </tr>\n",
       "    <tr>\n",
       "      <th>1605</th>\n",
       "      <td>1605</td>\n",
       "      <td>21605</td>\n",
       "      <td>37.455422</td>\n",
       "      <td>126.900689</td>\n",
       "      <td>김홍일내과</td>\n",
       "      <td>hospital</td>\n",
       "      <td>서울특별시 금천구 시흥대로 242</td>\n",
       "      <td>객실 및 침실,경보 및 피난설비,계단 또는 승강설비,대변기,세면대,소변기,유도 및 ...</td>\n",
       "    </tr>\n",
       "    <tr>\n",
       "      <th>1508</th>\n",
       "      <td>1508</td>\n",
       "      <td>21508</td>\n",
       "      <td>37.457065</td>\n",
       "      <td>126.896035</td>\n",
       "      <td>금천구종합상사(보건소)</td>\n",
       "      <td>government office building</td>\n",
       "      <td>서울특별시 금천구 시흥대로73길 70</td>\n",
       "      <td>객실 및 침실,경보 및 피난설비,계단 또는 승강설비,대변기,매표소, 판매기, 음료대...</td>\n",
       "    </tr>\n",
       "    <tr>\n",
       "      <th>...</th>\n",
       "      <td>...</td>\n",
       "      <td>...</td>\n",
       "      <td>...</td>\n",
       "      <td>...</td>\n",
       "      <td>...</td>\n",
       "      <td>...</td>\n",
       "      <td>...</td>\n",
       "      <td>...</td>\n",
       "    </tr>\n",
       "    <tr>\n",
       "      <th>2407</th>\n",
       "      <td>2407</td>\n",
       "      <td>22407</td>\n",
       "      <td>37.657485</td>\n",
       "      <td>127.058854</td>\n",
       "      <td>도봉운전면허시험장</td>\n",
       "      <td>government office building</td>\n",
       "      <td>서울특별시 노원구 동일로 1449</td>\n",
       "      <td>객실 및 침실,경보 및 피난설비,계단 또는 승강설비,대변기,매표소, 판매기, 음료대...</td>\n",
       "    </tr>\n",
       "    <tr>\n",
       "      <th>4280</th>\n",
       "      <td>4280</td>\n",
       "      <td>24280</td>\n",
       "      <td>37.657951</td>\n",
       "      <td>127.076379</td>\n",
       "      <td>삿갓봉근린공원</td>\n",
       "      <td>city park</td>\n",
       "      <td>서울특별시 노원구 한글비석로 346</td>\n",
       "      <td>경보 및 피난설비,대변기,주출입구 접근로</td>\n",
       "    </tr>\n",
       "    <tr>\n",
       "      <th>1849</th>\n",
       "      <td>1849</td>\n",
       "      <td>21849</td>\n",
       "      <td>37.657951</td>\n",
       "      <td>127.076379</td>\n",
       "      <td>노원어린이도서관</td>\n",
       "      <td>library</td>\n",
       "      <td>서울특별시 노원구 한글비석로 346</td>\n",
       "      <td>계단 또는 승강설비,관람석 및 열람석,대변기,비치용품,세면대,소변기,일반사항,장애인...</td>\n",
       "    </tr>\n",
       "    <tr>\n",
       "      <th>8421</th>\n",
       "      <td>8421</td>\n",
       "      <td>28421</td>\n",
       "      <td>37.658778</td>\n",
       "      <td>127.078443</td>\n",
       "      <td>중계4동주민센터</td>\n",
       "      <td>community service center</td>\n",
       "      <td>서울특별시 노원구 덕릉로82길 54</td>\n",
       "      <td>경보 및 피난설비,계단 또는 승강설비,대변기,매표소, 판매기, 음료대,비치용품,일반...</td>\n",
       "    </tr>\n",
       "    <tr>\n",
       "      <th>3433</th>\n",
       "      <td>3433</td>\n",
       "      <td>23433</td>\n",
       "      <td>37.658778</td>\n",
       "      <td>127.078443</td>\n",
       "      <td>미래산업고등학교</td>\n",
       "      <td>high school</td>\n",
       "      <td>서울특별시 노원구 덕릉로82길 54</td>\n",
       "      <td>객실 및 침실,경보 및 피난설비,계단 또는 승강설비,대변기,소변기,유도 및 안내 설...</td>\n",
       "    </tr>\n",
       "    <tr>\n",
       "      <th>4289</th>\n",
       "      <td>4289</td>\n",
       "      <td>24289</td>\n",
       "      <td>37.658813</td>\n",
       "      <td>127.068519</td>\n",
       "      <td>상계2동주민센터</td>\n",
       "      <td>government office building</td>\n",
       "      <td>서울특별시 노원구 상계로23길 17</td>\n",
       "      <td>객실 및 침실,경보 및 피난설비,계단 또는 승강설비,대변기,매표소, 판매기, 음료대...</td>\n",
       "    </tr>\n",
       "    <tr>\n",
       "      <th>4291</th>\n",
       "      <td>4291</td>\n",
       "      <td>24291</td>\n",
       "      <td>37.658813</td>\n",
       "      <td>127.068519</td>\n",
       "      <td>상계2동치안센터</td>\n",
       "      <td>police station</td>\n",
       "      <td>서울특별시 노원구 상계로23길 17</td>\n",
       "      <td>경보 및 피난설비,계단 또는 승강설비,대변기,매표소, 판매기, 음료대,장애인전용주차...</td>\n",
       "    </tr>\n",
       "    <tr>\n",
       "      <th>1854</th>\n",
       "      <td>1854</td>\n",
       "      <td>21854</td>\n",
       "      <td>37.661100</td>\n",
       "      <td>127.065008</td>\n",
       "      <td>노원정보도서관</td>\n",
       "      <td>library</td>\n",
       "      <td>서울특별시 노원구 노원로34길 43</td>\n",
       "      <td>계단 또는 승강설비,관람석 및 열람석,대변기,비치용품,세면대,소변기,일반사항,장애인...</td>\n",
       "    </tr>\n",
       "    <tr>\n",
       "      <th>6531</th>\n",
       "      <td>6531</td>\n",
       "      <td>26531</td>\n",
       "      <td>37.661100</td>\n",
       "      <td>127.065008</td>\n",
       "      <td>양지유치원</td>\n",
       "      <td>kindergarten</td>\n",
       "      <td>서울특별시 노원구 노원로34길 45</td>\n",
       "      <td>계단 또는 승강설비,대변기,소변기,장애인전용주차구역,주출입구 높이차이 제거,주출입구...</td>\n",
       "    </tr>\n",
       "    <tr>\n",
       "      <th>8123</th>\n",
       "      <td>8123</td>\n",
       "      <td>28123</td>\n",
       "      <td>37.661289</td>\n",
       "      <td>127.080798</td>\n",
       "      <td>재현중학교</td>\n",
       "      <td>junior high school</td>\n",
       "      <td>서울특별시 노원구 덕릉로82길 64</td>\n",
       "      <td>객실 및 침실,경보 및 피난설비,계단 또는 승강설비,대변기,소변기,유도 및 안내 설...</td>\n",
       "    </tr>\n",
       "    <tr>\n",
       "      <th>8122</th>\n",
       "      <td>8122</td>\n",
       "      <td>28122</td>\n",
       "      <td>37.661289</td>\n",
       "      <td>127.080798</td>\n",
       "      <td>재현고등학교</td>\n",
       "      <td>high school</td>\n",
       "      <td>서울특별시 노원구 덕릉로82길 64</td>\n",
       "      <td>객실 및 침실,경보 및 피난설비,계단 또는 승강설비,대변기,소변기,유도 및 안내 설...</td>\n",
       "    </tr>\n",
       "    <tr>\n",
       "      <th>6658</th>\n",
       "      <td>6658</td>\n",
       "      <td>26658</td>\n",
       "      <td>37.661619</td>\n",
       "      <td>127.042523</td>\n",
       "      <td>에이치큐브병원</td>\n",
       "      <td>hospital</td>\n",
       "      <td>서울특별시 도봉구 도봉로   644</td>\n",
       "      <td>객실 및 침실,경보 및 피난설비,계단 또는 승강설비,대변기,세면대,소변기,유도 및 ...</td>\n",
       "    </tr>\n",
       "    <tr>\n",
       "      <th>5723</th>\n",
       "      <td>5723</td>\n",
       "      <td>25723</td>\n",
       "      <td>37.661619</td>\n",
       "      <td>127.042523</td>\n",
       "      <td>시그마팰리스(2,3층 의원)</td>\n",
       "      <td>hospital</td>\n",
       "      <td>서울특별시 도봉구 도봉로   641</td>\n",
       "      <td>계단 또는 승강설비,대변기,장애인전용주차구역,주출입구 높이차이 제거,주출입구 접근로...</td>\n",
       "    </tr>\n",
       "    <tr>\n",
       "      <th>2376</th>\n",
       "      <td>2376</td>\n",
       "      <td>22376</td>\n",
       "      <td>37.661749</td>\n",
       "      <td>127.050357</td>\n",
       "      <td>도깨비시장공영주차장</td>\n",
       "      <td>public parking</td>\n",
       "      <td>서울특별시 도봉구 방학로14길 51</td>\n",
       "      <td>장애인전용주차구역,주출입구 높이차이 제거,주출입구 접근로</td>\n",
       "    </tr>\n",
       "    <tr>\n",
       "      <th>9919</th>\n",
       "      <td>9919</td>\n",
       "      <td>29919</td>\n",
       "      <td>37.661749</td>\n",
       "      <td>127.050357</td>\n",
       "      <td>행복실버요양원</td>\n",
       "      <td>welfare/senior</td>\n",
       "      <td>서울특별시 도봉구 방학로 15</td>\n",
       "      <td>계단 또는 승강설비,대변기,소변기,일반사항,장애인전용주차구역,주출입구 높이차이 제거...</td>\n",
       "    </tr>\n",
       "    <tr>\n",
       "      <th>5458</th>\n",
       "      <td>5458</td>\n",
       "      <td>25458</td>\n",
       "      <td>37.662979</td>\n",
       "      <td>127.069366</td>\n",
       "      <td>솔로몬어린이집</td>\n",
       "      <td>daycare center</td>\n",
       "      <td>서울특별시 노원구 한글비석로 434</td>\n",
       "      <td>계단 또는 승강설비,대변기,소변기,장애인전용주차구역,주출입구 높이차이 제거,주출입구...</td>\n",
       "    </tr>\n",
       "    <tr>\n",
       "      <th>4295</th>\n",
       "      <td>4295</td>\n",
       "      <td>24295</td>\n",
       "      <td>37.662979</td>\n",
       "      <td>127.069366</td>\n",
       "      <td>상계5동주민센터</td>\n",
       "      <td>community service center</td>\n",
       "      <td>서울특별시 노원구 한글비석로 434</td>\n",
       "      <td>경보 및 피난설비,계단 또는 승강설비,대변기,매표소, 판매기, 음료대,비치용품,일반...</td>\n",
       "    </tr>\n",
       "    <tr>\n",
       "      <th>9520</th>\n",
       "      <td>9520</td>\n",
       "      <td>29520</td>\n",
       "      <td>37.664823</td>\n",
       "      <td>127.065442</td>\n",
       "      <td>학원</td>\n",
       "      <td>education/job</td>\n",
       "      <td>서울특별시 노원구 한글비석로 474</td>\n",
       "      <td>계단 또는 승강설비,대변기,소변기,장애인전용주차구역,주출입구 높이차이 제거,주출입구...</td>\n",
       "    </tr>\n",
       "    <tr>\n",
       "      <th>9517</th>\n",
       "      <td>9517</td>\n",
       "      <td>29517</td>\n",
       "      <td>37.664823</td>\n",
       "      <td>127.065442</td>\n",
       "      <td>학원</td>\n",
       "      <td>education/job</td>\n",
       "      <td>서울특별시 노원구 한글비석로 474</td>\n",
       "      <td>계단 또는 승강설비,대변기,복도,소변기,일반사항,장애인전용주차구역,주출입구 높이차이...</td>\n",
       "    </tr>\n",
       "    <tr>\n",
       "      <th>8836</th>\n",
       "      <td>8836</td>\n",
       "      <td>28836</td>\n",
       "      <td>37.665253</td>\n",
       "      <td>127.062532</td>\n",
       "      <td>청원고등학교</td>\n",
       "      <td>high school</td>\n",
       "      <td>서울특별시 노원구 한글비석로 506</td>\n",
       "      <td>객실 및 침실,경보 및 피난설비,계단 또는 승강설비,대변기,소변기,유도 및 안내 설...</td>\n",
       "    </tr>\n",
       "    <tr>\n",
       "      <th>8839</th>\n",
       "      <td>8839</td>\n",
       "      <td>28839</td>\n",
       "      <td>37.665253</td>\n",
       "      <td>127.062532</td>\n",
       "      <td>청원초등학교</td>\n",
       "      <td>elementary school</td>\n",
       "      <td>서울특별시 노원구 한글비석로 506</td>\n",
       "      <td>객실 및 침실,경보 및 피난설비,계단 또는 승강설비,대변기,소변기,유도 및 안내 설...</td>\n",
       "    </tr>\n",
       "    <tr>\n",
       "      <th>8838</th>\n",
       "      <td>8838</td>\n",
       "      <td>28838</td>\n",
       "      <td>37.665253</td>\n",
       "      <td>127.062532</td>\n",
       "      <td>청원중학교</td>\n",
       "      <td>junior high school</td>\n",
       "      <td>서울특별시 노원구 한글비석로 506</td>\n",
       "      <td>객실 및 침실,경보 및 피난설비,계단 또는 승강설비,대변기,소변기,유도 및 안내 설...</td>\n",
       "    </tr>\n",
       "    <tr>\n",
       "      <th>8837</th>\n",
       "      <td>8837</td>\n",
       "      <td>28837</td>\n",
       "      <td>37.665253</td>\n",
       "      <td>127.062532</td>\n",
       "      <td>청원여자고등학교</td>\n",
       "      <td>high school</td>\n",
       "      <td>서울특별시 노원구 한글비석로 506</td>\n",
       "      <td>객실 및 침실,경보 및 피난설비,계단 또는 승강설비,대변기,소변기,유도 및 안내 설...</td>\n",
       "    </tr>\n",
       "    <tr>\n",
       "      <th>4282</th>\n",
       "      <td>4282</td>\n",
       "      <td>24282</td>\n",
       "      <td>37.667150</td>\n",
       "      <td>127.053706</td>\n",
       "      <td>상경중학교(체육관)</td>\n",
       "      <td>gym</td>\n",
       "      <td>서울특별시 노원구 동일로227길 61</td>\n",
       "      <td>소변기,장애인전용주차구역,주출입구 높이차이 제거,주출입구 접근로,출입구(문)</td>\n",
       "    </tr>\n",
       "    <tr>\n",
       "      <th>4281</th>\n",
       "      <td>4281</td>\n",
       "      <td>24281</td>\n",
       "      <td>37.667150</td>\n",
       "      <td>127.053706</td>\n",
       "      <td>상경중학교</td>\n",
       "      <td>junior high school</td>\n",
       "      <td>서울특별시 노원구 동일로227길 61</td>\n",
       "      <td>객실 및 침실,경보 및 피난설비,계단 또는 승강설비,대변기,소변기,유도 및 안내 설...</td>\n",
       "    </tr>\n",
       "    <tr>\n",
       "      <th>1440</th>\n",
       "      <td>1440</td>\n",
       "      <td>21440</td>\n",
       "      <td>37.674626</td>\n",
       "      <td>127.058178</td>\n",
       "      <td>근린생활시설(봉평산골메밀촌)</td>\n",
       "      <td>restaurant</td>\n",
       "      <td>서울특별시 노원구 동일로242길 54</td>\n",
       "      <td>장애인전용주차구역,주출입구 높이차이 제거,주출입구 접근로,출입구(문)</td>\n",
       "    </tr>\n",
       "    <tr>\n",
       "      <th>1439</th>\n",
       "      <td>1439</td>\n",
       "      <td>21439</td>\n",
       "      <td>37.674626</td>\n",
       "      <td>127.058178</td>\n",
       "      <td>근린생활시설(벽창우생고기전문점)</td>\n",
       "      <td>restaurant</td>\n",
       "      <td>서울특별시 노원구 동일로242길 54</td>\n",
       "      <td>장애인전용주차구역,주출입구 높이차이 제거,주출입구 접근로,출입구(문)</td>\n",
       "    </tr>\n",
       "    <tr>\n",
       "      <th>6872</th>\n",
       "      <td>6872</td>\n",
       "      <td>26872</td>\n",
       "      <td>37.680483</td>\n",
       "      <td>127.056931</td>\n",
       "      <td>영기노인전문요양원</td>\n",
       "      <td>welfare/senior</td>\n",
       "      <td>서울특별시 노원구 동일로248길 30</td>\n",
       "      <td>계단 또는 승강설비,대변기,소변기,장애인전용주차구역,주출입구 높이차이 제거,주출입구...</td>\n",
       "    </tr>\n",
       "    <tr>\n",
       "      <th>2090</th>\n",
       "      <td>2090</td>\n",
       "      <td>22090</td>\n",
       "      <td>37.680483</td>\n",
       "      <td>127.056931</td>\n",
       "      <td>대린원, 홍파양로원,쉼터요양원</td>\n",
       "      <td>welfare/senior</td>\n",
       "      <td>서울특별시 노원구 동일로248길 34</td>\n",
       "      <td>계단 또는 승강설비,대변기,소변기,장애인전용주차구역,주출입구 높이차이 제거,주출입구...</td>\n",
       "    </tr>\n",
       "    <tr>\n",
       "      <th>6874</th>\n",
       "      <td>6874</td>\n",
       "      <td>26874</td>\n",
       "      <td>37.680483</td>\n",
       "      <td>127.056931</td>\n",
       "      <td>영기노인전문요양원(지하1층 지상5층 마동)</td>\n",
       "      <td>welfare/senior</td>\n",
       "      <td>서울특별시 노원구 동일로248길 34</td>\n",
       "      <td>계단 또는 승강설비,대변기,소변기,일반사항,장애인전용주차구역,주출입구 높이차이 제거...</td>\n",
       "    </tr>\n",
       "  </tbody>\n",
       "</table>\n",
       "<p>1483 rows × 8 columns</p>\n",
       "</div>"
      ],
      "text/plain": [
       "       Unnamed: 0  place_id        lat         lon               place_name  \\\n",
       "9810         9810     29810  37.434986  126.903433                     한일모텍   \n",
       "5863         5863     25863  37.434986  126.903433             시티렉스(CT-LEX)   \n",
       "10045       10045     30045  37.434986  126.903433                    호산나교회   \n",
       "3799         3799     23799  37.434986  126.903433                   보벨르웨딩홀   \n",
       "4461         4461     24461  37.434986  126.903433                   샤론어린이집   \n",
       "6201         6201     26201  37.434986  126.903433                실버캐슬노인요양원   \n",
       "1514         1514     21514  37.434986  126.903433                    금천전화국   \n",
       "2913         2913     22913  37.434986  126.903433                  로뎀복지요양원   \n",
       "7227         7227     27227  37.434986  126.903433                      올슈퍼   \n",
       "4433         4433     24433  37.438549  126.902226                     새움병원   \n",
       "8014         8014     28014  37.438549  126.902226                    자연유아원   \n",
       "2451         2451     22451  37.447878  126.903696                독산본동다목적광장   \n",
       "1236         1236     21236  37.447878  126.903696               구립독산본동어린이집   \n",
       "5086         5086     25086  37.448505  126.903705                     섬김의집   \n",
       "1719         1719     21719  37.448505  126.903705                     남문교회   \n",
       "10372       10372     30372  37.448736  126.904568                  희원노인요양원   \n",
       "8772         8772     28772  37.448736  126.904568                    청다담마트   \n",
       "3689         3689     23689  37.448736  126.904568                   백운매트로엔   \n",
       "3400         3400     23400  37.448915  126.898723                    문일중학교   \n",
       "3399         3399     23399  37.448915  126.898723                   문일고등학교   \n",
       "2663         2663     22663  37.451628  126.910884                 동일여자고등학교   \n",
       "2664         2664     22664  37.451628  126.910884            동일여자전산디자인고등학교   \n",
       "4077         4077     24077  37.452708  126.900648                   산들파크빌5   \n",
       "4076         4076     24076  37.452708  126.900648                   산들파크빌3   \n",
       "4079         4079     24079  37.452708  126.900648                   산들파크빌7   \n",
       "4074         4074     24074  37.452708  126.900648                   산들파크빌1   \n",
       "4075         4075     24075  37.452708  126.900648                   산들파크빌2   \n",
       "10118       10118     30118  37.455422  126.900689            홈플러스테스테스코㈜시흥점   \n",
       "1605         1605     21605  37.455422  126.900689                    김홍일내과   \n",
       "1508         1508     21508  37.457065  126.896035             금천구종합상사(보건소)   \n",
       "...           ...       ...        ...         ...                      ...   \n",
       "2407         2407     22407  37.657485  127.058854                도봉운전면허시험장   \n",
       "4280         4280     24280  37.657951  127.076379                  삿갓봉근린공원   \n",
       "1849         1849     21849  37.657951  127.076379                 노원어린이도서관   \n",
       "8421         8421     28421  37.658778  127.078443                 중계4동주민센터   \n",
       "3433         3433     23433  37.658778  127.078443                 미래산업고등학교   \n",
       "4289         4289     24289  37.658813  127.068519                 상계2동주민센터   \n",
       "4291         4291     24291  37.658813  127.068519                 상계2동치안센터   \n",
       "1854         1854     21854  37.661100  127.065008                  노원정보도서관   \n",
       "6531         6531     26531  37.661100  127.065008                    양지유치원   \n",
       "8123         8123     28123  37.661289  127.080798                    재현중학교   \n",
       "8122         8122     28122  37.661289  127.080798                   재현고등학교   \n",
       "6658         6658     26658  37.661619  127.042523                  에이치큐브병원   \n",
       "5723         5723     25723  37.661619  127.042523          시그마팰리스(2,3층 의원)   \n",
       "2376         2376     22376  37.661749  127.050357               도깨비시장공영주차장   \n",
       "9919         9919     29919  37.661749  127.050357                  행복실버요양원   \n",
       "5458         5458     25458  37.662979  127.069366                  솔로몬어린이집   \n",
       "4295         4295     24295  37.662979  127.069366                 상계5동주민센터   \n",
       "9520         9520     29520  37.664823  127.065442                       학원   \n",
       "9517         9517     29517  37.664823  127.065442                       학원   \n",
       "8836         8836     28836  37.665253  127.062532                   청원고등학교   \n",
       "8839         8839     28839  37.665253  127.062532                   청원초등학교   \n",
       "8838         8838     28838  37.665253  127.062532                    청원중학교   \n",
       "8837         8837     28837  37.665253  127.062532                 청원여자고등학교   \n",
       "4282         4282     24282  37.667150  127.053706               상경중학교(체육관)   \n",
       "4281         4281     24281  37.667150  127.053706                    상경중학교   \n",
       "1440         1440     21440  37.674626  127.058178          근린생활시설(봉평산골메밀촌)   \n",
       "1439         1439     21439  37.674626  127.058178        근린생활시설(벽창우생고기전문점)   \n",
       "6872         6872     26872  37.680483  127.056931                영기노인전문요양원   \n",
       "2090         2090     22090  37.680483  127.056931         대린원, 홍파양로원,쉼터요양원   \n",
       "6874         6874     26874  37.680483  127.056931  영기노인전문요양원(지하1층 지상5층 마동)   \n",
       "\n",
       "                         category            place_address  \\\n",
       "9810                shopping/mart      서울특별시 금천구 시흥대로 3-15   \n",
       "5863                 concert hall         서울특별시 금천구 시흥대로 3   \n",
       "10045                      church     서울특별시 금천구 시흥대로13길 25   \n",
       "3799                 meeting hall       서울특별시 금천구 시흥대로  13   \n",
       "4461               daycare center    서울특별시 금천구 시흥대로3길 48-3   \n",
       "6201               welfare/senior     서울특별시 금천구 시흥대로13길 14   \n",
       "1514                         bank        서울특별시 금천구 시흥대로 13   \n",
       "2913               welfare/senior      서울특별시 금천구 시흥대로5길 24   \n",
       "7227                shopping/mart     서울특별시 금천구 시흥대로3길  45   \n",
       "4433                     hospital       서울특별시 금천구 시흥대로  44   \n",
       "8014               daycare center      서울특별시 금천구 시흥대로44길 3   \n",
       "2451               public parking    서울특별시 금천구 시흥대로154길 56   \n",
       "1236               daycare center     서울특별시 금천구 시흥대로154길 7   \n",
       "5086               daycare center      서울특별시 금천구 독산로4가길 31   \n",
       "1719               daycare center       서울특별시 금천구 독산로4가길 2   \n",
       "10372              welfare/senior         서울특별시 금천구 독산로 14   \n",
       "8772                shopping/mart        서울특별시 금천구 독산로  14   \n",
       "3689                         bank         서울특별시 금천구 독산로 14   \n",
       "3400           junior high school     서울특별시 금천구 시흥대로47길 45   \n",
       "3399                  high school     서울특별시 금천구 시흥대로47길 45   \n",
       "2663                  high school      서울특별시 금천구 탑골로14길 45   \n",
       "2664                  high school      서울특별시 금천구 탑골로14길 45   \n",
       "4077                         bank  서울특별시 금천구 시흥대로57길  1-37   \n",
       "4076                         bank  서울특별시 금천구 시흥대로57길  1-37   \n",
       "4079                         bank   서울특별시 금천구 시흥대로57길 1-31   \n",
       "4074                         bank  서울특별시 금천구 시흥대로57길  1-43   \n",
       "4075                         bank  서울특별시 금천구 시흥대로57길  1-41   \n",
       "10118                    shopping       서울특별시 금천구 시흥대로 241   \n",
       "1605                     hospital       서울특별시 금천구 시흥대로 242   \n",
       "1508   government office building     서울특별시 금천구 시흥대로73길 70   \n",
       "...                           ...                      ...   \n",
       "2407   government office building       서울특별시 노원구 동일로 1449   \n",
       "4280                    city park      서울특별시 노원구 한글비석로 346   \n",
       "1849                      library      서울특별시 노원구 한글비석로 346   \n",
       "8421     community service center      서울특별시 노원구 덕릉로82길 54   \n",
       "3433                  high school      서울특별시 노원구 덕릉로82길 54   \n",
       "4289   government office building      서울특별시 노원구 상계로23길 17   \n",
       "4291               police station      서울특별시 노원구 상계로23길 17   \n",
       "1854                      library      서울특별시 노원구 노원로34길 43   \n",
       "6531                 kindergarten      서울특별시 노원구 노원로34길 45   \n",
       "8123           junior high school      서울특별시 노원구 덕릉로82길 64   \n",
       "8122                  high school      서울특별시 노원구 덕릉로82길 64   \n",
       "6658                     hospital      서울특별시 도봉구 도봉로   644   \n",
       "5723                     hospital      서울특별시 도봉구 도봉로   641   \n",
       "2376               public parking      서울특별시 도봉구 방학로14길 51   \n",
       "9919               welfare/senior         서울특별시 도봉구 방학로 15   \n",
       "5458               daycare center      서울특별시 노원구 한글비석로 434   \n",
       "4295     community service center      서울특별시 노원구 한글비석로 434   \n",
       "9520                education/job      서울특별시 노원구 한글비석로 474   \n",
       "9517                education/job      서울특별시 노원구 한글비석로 474   \n",
       "8836                  high school      서울특별시 노원구 한글비석로 506   \n",
       "8839            elementary school      서울특별시 노원구 한글비석로 506   \n",
       "8838           junior high school      서울특별시 노원구 한글비석로 506   \n",
       "8837                  high school      서울특별시 노원구 한글비석로 506   \n",
       "4282                          gym     서울특별시 노원구 동일로227길 61   \n",
       "4281           junior high school     서울특별시 노원구 동일로227길 61   \n",
       "1440                   restaurant     서울특별시 노원구 동일로242길 54   \n",
       "1439                   restaurant     서울특별시 노원구 동일로242길 54   \n",
       "6872               welfare/senior     서울특별시 노원구 동일로248길 30   \n",
       "2090               welfare/senior     서울특별시 노원구 동일로248길 34   \n",
       "6874               welfare/senior     서울특별시 노원구 동일로248길 34   \n",
       "\n",
       "                                                evalInfo  \n",
       "9810                        주출입구 높이차이 제거,주출입구 접근로,출입구(문)  \n",
       "5863   객실 및 침실,경보 및 피난설비,계단 또는 승강설비,관람석 및 열람석,대변기,매표소...  \n",
       "10045             장애인전용주차구역,주출입구 높이차이 제거,주출입구 접근로,출입구(문)  \n",
       "3799   계단 또는 승강설비,대변기,장애인전용주차구역,주출입구 높이차이 제거,주출입구 접근로...  \n",
       "4461   계단 또는 승강설비,대변기,소변기,장애인전용주차구역,주출입구 높이차이 제거,주출입구...  \n",
       "6201   계단 또는 승강설비,대변기,소변기,장애인전용주차구역,주출입구 높이차이 제거,주출입구...  \n",
       "1514   계단 또는 승강설비,대변기,장애인전용주차구역,주출입구 높이차이 제거,주출입구 접근로...  \n",
       "2913   계단 또는 승강설비,대변기,소변기,장애인전용주차구역,주출입구 높이차이 제거,주출입구...  \n",
       "7227                        주출입구 높이차이 제거,주출입구 접근로,출입구(문)  \n",
       "4433   객실 및 침실,경보 및 피난설비,계단 또는 승강설비,대변기,세면대,소변기,유도 및 ...  \n",
       "8014   계단 또는 승강설비,대변기,소변기,장애인전용주차구역,주출입구 높이차이 제거,주출입구...  \n",
       "2451                     장애인전용주차구역,주출입구 높이차이 제거,주출입구 접근로  \n",
       "1236   대변기,소변기,장애인전용주차구역,주출입구 높이차이 제거,주출입구 접근로,출입구(문)...  \n",
       "5086   계단 또는 승강설비,대변기,소변기,장애인전용주차구역,주출입구 높이차이 제거,주출입구...  \n",
       "1719   대변기,소변기,장애인전용주차구역,주출입구 높이차이 제거,주출입구 접근로,출입구(문)...  \n",
       "10372  계단 또는 승강설비,대변기,소변기,장애인전용주차구역,주출입구 높이차이 제거,주출입구...  \n",
       "8772                        주출입구 높이차이 제거,주출입구 접근로,출입구(문)  \n",
       "3689   계단 또는 승강설비,대변기,장애인전용주차구역,주출입구 높이차이 제거,주출입구 접근로...  \n",
       "3400   객실 및 침실,경보 및 피난설비,계단 또는 승강설비,대변기,소변기,유도 및 안내 설...  \n",
       "3399   객실 및 침실,경보 및 피난설비,계단 또는 승강설비,대변기,소변기,유도 및 안내 설...  \n",
       "2663   객실 및 침실,경보 및 피난설비,계단 또는 승강설비,대변기,소변기,유도 및 안내 설...  \n",
       "2664   객실 및 침실,경보 및 피난설비,계단 또는 승강설비,대변기,소변기,유도 및 안내 설...  \n",
       "4077   계단 또는 승강설비,대변기,장애인전용주차구역,주출입구 높이차이 제거,주출입구 접근로...  \n",
       "4076   계단 또는 승강설비,대변기,장애인전용주차구역,주출입구 높이차이 제거,주출입구 접근로...  \n",
       "4079   계단 또는 승강설비,대변기,장애인전용주차구역,주출입구 높이차이 제거,주출입구 접근로...  \n",
       "4074   계단 또는 승강설비,대변기,장애인전용주차구역,주출입구 높이차이 제거,주출입구 접근로...  \n",
       "4075   계단 또는 승강설비,대변기,장애인전용주차구역,주출입구 높이차이 제거,주출입구 접근로...  \n",
       "10118  계단 또는 승강설비,대변기,비치용품,장애인전용주차구역,주출입구 높이차이 제거,주출입...  \n",
       "1605   객실 및 침실,경보 및 피난설비,계단 또는 승강설비,대변기,세면대,소변기,유도 및 ...  \n",
       "1508   객실 및 침실,경보 및 피난설비,계단 또는 승강설비,대변기,매표소, 판매기, 음료대...  \n",
       "...                                                  ...  \n",
       "2407   객실 및 침실,경보 및 피난설비,계단 또는 승강설비,대변기,매표소, 판매기, 음료대...  \n",
       "4280                              경보 및 피난설비,대변기,주출입구 접근로  \n",
       "1849   계단 또는 승강설비,관람석 및 열람석,대변기,비치용품,세면대,소변기,일반사항,장애인...  \n",
       "8421   경보 및 피난설비,계단 또는 승강설비,대변기,매표소, 판매기, 음료대,비치용품,일반...  \n",
       "3433   객실 및 침실,경보 및 피난설비,계단 또는 승강설비,대변기,소변기,유도 및 안내 설...  \n",
       "4289   객실 및 침실,경보 및 피난설비,계단 또는 승강설비,대변기,매표소, 판매기, 음료대...  \n",
       "4291   경보 및 피난설비,계단 또는 승강설비,대변기,매표소, 판매기, 음료대,장애인전용주차...  \n",
       "1854   계단 또는 승강설비,관람석 및 열람석,대변기,비치용품,세면대,소변기,일반사항,장애인...  \n",
       "6531   계단 또는 승강설비,대변기,소변기,장애인전용주차구역,주출입구 높이차이 제거,주출입구...  \n",
       "8123   객실 및 침실,경보 및 피난설비,계단 또는 승강설비,대변기,소변기,유도 및 안내 설...  \n",
       "8122   객실 및 침실,경보 및 피난설비,계단 또는 승강설비,대변기,소변기,유도 및 안내 설...  \n",
       "6658   객실 및 침실,경보 및 피난설비,계단 또는 승강설비,대변기,세면대,소변기,유도 및 ...  \n",
       "5723   계단 또는 승강설비,대변기,장애인전용주차구역,주출입구 높이차이 제거,주출입구 접근로...  \n",
       "2376                     장애인전용주차구역,주출입구 높이차이 제거,주출입구 접근로  \n",
       "9919   계단 또는 승강설비,대변기,소변기,일반사항,장애인전용주차구역,주출입구 높이차이 제거...  \n",
       "5458   계단 또는 승강설비,대변기,소변기,장애인전용주차구역,주출입구 높이차이 제거,주출입구...  \n",
       "4295   경보 및 피난설비,계단 또는 승강설비,대변기,매표소, 판매기, 음료대,비치용품,일반...  \n",
       "9520   계단 또는 승강설비,대변기,소변기,장애인전용주차구역,주출입구 높이차이 제거,주출입구...  \n",
       "9517   계단 또는 승강설비,대변기,복도,소변기,일반사항,장애인전용주차구역,주출입구 높이차이...  \n",
       "8836   객실 및 침실,경보 및 피난설비,계단 또는 승강설비,대변기,소변기,유도 및 안내 설...  \n",
       "8839   객실 및 침실,경보 및 피난설비,계단 또는 승강설비,대변기,소변기,유도 및 안내 설...  \n",
       "8838   객실 및 침실,경보 및 피난설비,계단 또는 승강설비,대변기,소변기,유도 및 안내 설...  \n",
       "8837   객실 및 침실,경보 및 피난설비,계단 또는 승강설비,대변기,소변기,유도 및 안내 설...  \n",
       "4282          소변기,장애인전용주차구역,주출입구 높이차이 제거,주출입구 접근로,출입구(문)  \n",
       "4281   객실 및 침실,경보 및 피난설비,계단 또는 승강설비,대변기,소변기,유도 및 안내 설...  \n",
       "1440              장애인전용주차구역,주출입구 높이차이 제거,주출입구 접근로,출입구(문)  \n",
       "1439              장애인전용주차구역,주출입구 높이차이 제거,주출입구 접근로,출입구(문)  \n",
       "6872   계단 또는 승강설비,대변기,소변기,장애인전용주차구역,주출입구 높이차이 제거,주출입구...  \n",
       "2090   계단 또는 승강설비,대변기,소변기,장애인전용주차구역,주출입구 높이차이 제거,주출입구...  \n",
       "6874   계단 또는 승강설비,대변기,소변기,일반사항,장애인전용주차구역,주출입구 높이차이 제거...  \n",
       "\n",
       "[1483 rows x 8 columns]"
      ]
     },
     "execution_count": 16,
     "metadata": {},
     "output_type": "execute_result"
    }
   ],
   "source": [
    "hj_place[hj_place.duplicated(subset={'lat','lon'},keep=False)].sort_values('lat')"
   ]
  },
  {
   "cell_type": "code",
   "execution_count": 17,
   "metadata": {},
   "outputs": [
    {
     "data": {
      "text/html": [
       "<div>\n",
       "<style scoped>\n",
       "    .dataframe tbody tr th:only-of-type {\n",
       "        vertical-align: middle;\n",
       "    }\n",
       "\n",
       "    .dataframe tbody tr th {\n",
       "        vertical-align: top;\n",
       "    }\n",
       "\n",
       "    .dataframe thead th {\n",
       "        text-align: right;\n",
       "    }\n",
       "</style>\n",
       "<table border=\"1\" class=\"dataframe\">\n",
       "  <thead>\n",
       "    <tr style=\"text-align: right;\">\n",
       "      <th></th>\n",
       "      <th>Unnamed: 0</th>\n",
       "      <th>place_id</th>\n",
       "      <th>lat</th>\n",
       "      <th>lon</th>\n",
       "      <th>place_name</th>\n",
       "      <th>category</th>\n",
       "      <th>place_address</th>\n",
       "      <th>evalInfo</th>\n",
       "    </tr>\n",
       "  </thead>\n",
       "  <tbody>\n",
       "    <tr>\n",
       "      <th>0</th>\n",
       "      <td>0</td>\n",
       "      <td>20000</td>\n",
       "      <td>37.562726</td>\n",
       "      <td>127.032570</td>\n",
       "      <td>(구)왕십리클리닉빌딩</td>\n",
       "      <td>bank</td>\n",
       "      <td>서울특별시 성동구 왕십리로 333</td>\n",
       "      <td>계단 또는 승강설비,대변기,장애인전용주차구역,주출입구 높이차이 제거,주출입구 접근로...</td>\n",
       "    </tr>\n",
       "    <tr>\n",
       "      <th>1</th>\n",
       "      <td>1</td>\n",
       "      <td>20001</td>\n",
       "      <td>37.573937</td>\n",
       "      <td>126.983187</td>\n",
       "      <td>(재)대한불교계종유지재단</td>\n",
       "      <td>shopping/mart</td>\n",
       "      <td>서울특별시 종로구 우정국로 56</td>\n",
       "      <td>주출입구 높이차이 제거,주출입구 접근로,출입구(문)</td>\n",
       "    </tr>\n",
       "    <tr>\n",
       "      <th>2</th>\n",
       "      <td>2</td>\n",
       "      <td>20002</td>\n",
       "      <td>37.485282</td>\n",
       "      <td>126.931355</td>\n",
       "      <td>(주)관전인베스트먼트</td>\n",
       "      <td>tourist hotel</td>\n",
       "      <td>서울특별시 관악구 신림로64길29 (신림동)</td>\n",
       "      <td>객실 및 침실,계단 또는 승강설비,대변기,복도,세면대,소변기,일반사항,장애인전용주차...</td>\n",
       "    </tr>\n",
       "    <tr>\n",
       "      <th>3</th>\n",
       "      <td>3</td>\n",
       "      <td>20003</td>\n",
       "      <td>37.490768</td>\n",
       "      <td>126.982048</td>\n",
       "      <td>(주)대광메디텍</td>\n",
       "      <td>shopping/mart</td>\n",
       "      <td>서울특별시 동작구 동작대로35길 5</td>\n",
       "      <td>주출입구 높이차이 제거,주출입구 접근로,출입구(문)</td>\n",
       "    </tr>\n",
       "    <tr>\n",
       "      <th>4</th>\n",
       "      <td>4</td>\n",
       "      <td>20004</td>\n",
       "      <td>37.544932</td>\n",
       "      <td>126.910696</td>\n",
       "      <td>(주)동아일보사</td>\n",
       "      <td>bank</td>\n",
       "      <td>서울특별시 마포구 토정로 1</td>\n",
       "      <td>계단 또는 승강설비,대변기,일반사항,장애인전용주차구역,주출입구 높이차이 제거,주출입...</td>\n",
       "    </tr>\n",
       "  </tbody>\n",
       "</table>\n",
       "</div>"
      ],
      "text/plain": [
       "   Unnamed: 0  place_id        lat         lon     place_name       category  \\\n",
       "0           0     20000  37.562726  127.032570    (구)왕십리클리닉빌딩           bank   \n",
       "1           1     20001  37.573937  126.983187  (재)대한불교계종유지재단  shopping/mart   \n",
       "2           2     20002  37.485282  126.931355    (주)관전인베스트먼트  tourist hotel   \n",
       "3           3     20003  37.490768  126.982048       (주)대광메디텍  shopping/mart   \n",
       "4           4     20004  37.544932  126.910696       (주)동아일보사           bank   \n",
       "\n",
       "              place_address                                           evalInfo  \n",
       "0        서울특별시 성동구 왕십리로 333  계단 또는 승강설비,대변기,장애인전용주차구역,주출입구 높이차이 제거,주출입구 접근로...  \n",
       "1         서울특별시 종로구 우정국로 56                       주출입구 높이차이 제거,주출입구 접근로,출입구(문)  \n",
       "2  서울특별시 관악구 신림로64길29 (신림동)  객실 및 침실,계단 또는 승강설비,대변기,복도,세면대,소변기,일반사항,장애인전용주차...  \n",
       "3       서울특별시 동작구 동작대로35길 5                       주출입구 높이차이 제거,주출입구 접근로,출입구(문)  \n",
       "4           서울특별시 마포구 토정로 1  계단 또는 승강설비,대변기,일반사항,장애인전용주차구역,주출입구 높이차이 제거,주출입...  "
      ]
     },
     "execution_count": 17,
     "metadata": {},
     "output_type": "execute_result"
    }
   ],
   "source": [
    "hj_place.head()"
   ]
  },
  {
   "cell_type": "code",
   "execution_count": 18,
   "metadata": {},
   "outputs": [
    {
     "data": {
      "text/html": [
       "<div>\n",
       "<style scoped>\n",
       "    .dataframe tbody tr th:only-of-type {\n",
       "        vertical-align: middle;\n",
       "    }\n",
       "\n",
       "    .dataframe tbody tr th {\n",
       "        vertical-align: top;\n",
       "    }\n",
       "\n",
       "    .dataframe thead th {\n",
       "        text-align: right;\n",
       "    }\n",
       "</style>\n",
       "<table border=\"1\" class=\"dataframe\">\n",
       "  <thead>\n",
       "    <tr style=\"text-align: right;\">\n",
       "      <th></th>\n",
       "      <th>Unnamed: 0</th>\n",
       "      <th>place_id</th>\n",
       "      <th>lat</th>\n",
       "      <th>lon</th>\n",
       "      <th>place_name</th>\n",
       "      <th>category</th>\n",
       "      <th>place_address</th>\n",
       "      <th>evalInfo</th>\n",
       "    </tr>\n",
       "  </thead>\n",
       "  <tbody>\n",
       "    <tr>\n",
       "      <th>10384</th>\n",
       "      <td>10384</td>\n",
       "      <td>30384</td>\n",
       "      <td>37.504637</td>\n",
       "      <td>127.042199</td>\n",
       "      <td>힐 헤븐</td>\n",
       "      <td>hospital</td>\n",
       "      <td>서울특별시 강남구 언주로  514</td>\n",
       "      <td>계단 또는 승강설비,대변기,장애인전용주차구역,주출입구 높이차이 제거,주출입구 접근로...</td>\n",
       "    </tr>\n",
       "    <tr>\n",
       "      <th>10385</th>\n",
       "      <td>10385</td>\n",
       "      <td>30385</td>\n",
       "      <td>37.511869</td>\n",
       "      <td>127.017672</td>\n",
       "      <td>힘멜에듀센터</td>\n",
       "      <td>daycare center</td>\n",
       "      <td>서울특별시 서초구 신반포로43길  42</td>\n",
       "      <td>장애인전용주차구역,주출입구 높이차이 제거,주출입구 접근로,출입구(문)</td>\n",
       "    </tr>\n",
       "    <tr>\n",
       "      <th>10386</th>\n",
       "      <td>10386</td>\n",
       "      <td>30386</td>\n",
       "      <td>37.604771</td>\n",
       "      <td>126.923857</td>\n",
       "      <td>힘찬병원</td>\n",
       "      <td>hospital</td>\n",
       "      <td>서울특별시 은평구 서오릉로  45</td>\n",
       "      <td>객실 및 침실,경보 및 피난설비,계단 또는 승강설비,대변기,세면대,소변기,유도 및 ...</td>\n",
       "    </tr>\n",
       "    <tr>\n",
       "      <th>10387</th>\n",
       "      <td>10387</td>\n",
       "      <td>30387</td>\n",
       "      <td>37.559192</td>\n",
       "      <td>126.840671</td>\n",
       "      <td>힘찬병원</td>\n",
       "      <td>hospital</td>\n",
       "      <td>서울특별시 강서구 강서로56길  38</td>\n",
       "      <td>객실 및 침실,경보 및 피난설비,대변기,세면대,소변기,유도 및 안내 설비,일반사항,...</td>\n",
       "    </tr>\n",
       "    <tr>\n",
       "      <th>10388</th>\n",
       "      <td>10388</td>\n",
       "      <td>30388</td>\n",
       "      <td>37.463629</td>\n",
       "      <td>127.034580</td>\n",
       "      <td>伯林빌딩</td>\n",
       "      <td>bank</td>\n",
       "      <td>서울특별시 서초구 매헌로 31-3</td>\n",
       "      <td>계단 또는 승강설비,대변기,장애인전용주차구역,주출입구 높이차이 제거,주출입구 접근로...</td>\n",
       "    </tr>\n",
       "  </tbody>\n",
       "</table>\n",
       "</div>"
      ],
      "text/plain": [
       "       Unnamed: 0  place_id        lat         lon place_name        category  \\\n",
       "10384       10384     30384  37.504637  127.042199       힐 헤븐        hospital   \n",
       "10385       10385     30385  37.511869  127.017672     힘멜에듀센터  daycare center   \n",
       "10386       10386     30386  37.604771  126.923857       힘찬병원        hospital   \n",
       "10387       10387     30387  37.559192  126.840671       힘찬병원        hospital   \n",
       "10388       10388     30388  37.463629  127.034580       伯林빌딩            bank   \n",
       "\n",
       "               place_address  \\\n",
       "10384     서울특별시 강남구 언주로  514   \n",
       "10385  서울특별시 서초구 신반포로43길  42   \n",
       "10386     서울특별시 은평구 서오릉로  45   \n",
       "10387   서울특별시 강서구 강서로56길  38   \n",
       "10388     서울특별시 서초구 매헌로 31-3   \n",
       "\n",
       "                                                evalInfo  \n",
       "10384  계단 또는 승강설비,대변기,장애인전용주차구역,주출입구 높이차이 제거,주출입구 접근로...  \n",
       "10385             장애인전용주차구역,주출입구 높이차이 제거,주출입구 접근로,출입구(문)  \n",
       "10386  객실 및 침실,경보 및 피난설비,계단 또는 승강설비,대변기,세면대,소변기,유도 및 ...  \n",
       "10387  객실 및 침실,경보 및 피난설비,대변기,세면대,소변기,유도 및 안내 설비,일반사항,...  \n",
       "10388  계단 또는 승강설비,대변기,장애인전용주차구역,주출입구 높이차이 제거,주출입구 접근로...  "
      ]
     },
     "execution_count": 18,
     "metadata": {},
     "output_type": "execute_result"
    }
   ],
   "source": [
    "hj_place.tail()"
   ]
  },
  {
   "cell_type": "code",
   "execution_count": 19,
   "metadata": {},
   "outputs": [],
   "source": [
    "hj_place = hj_place.iloc[0:10000,:]"
   ]
  },
  {
   "cell_type": "code",
   "execution_count": 20,
   "metadata": {},
   "outputs": [
    {
     "data": {
      "text/html": [
       "<div>\n",
       "<style scoped>\n",
       "    .dataframe tbody tr th:only-of-type {\n",
       "        vertical-align: middle;\n",
       "    }\n",
       "\n",
       "    .dataframe tbody tr th {\n",
       "        vertical-align: top;\n",
       "    }\n",
       "\n",
       "    .dataframe thead th {\n",
       "        text-align: right;\n",
       "    }\n",
       "</style>\n",
       "<table border=\"1\" class=\"dataframe\">\n",
       "  <thead>\n",
       "    <tr style=\"text-align: right;\">\n",
       "      <th></th>\n",
       "      <th>Unnamed: 0</th>\n",
       "      <th>place_id</th>\n",
       "      <th>lat</th>\n",
       "      <th>lon</th>\n",
       "      <th>place_name</th>\n",
       "      <th>category</th>\n",
       "      <th>place_address</th>\n",
       "      <th>evalInfo</th>\n",
       "    </tr>\n",
       "  </thead>\n",
       "  <tbody>\n",
       "    <tr>\n",
       "      <th>9995</th>\n",
       "      <td>9995</td>\n",
       "      <td>29995</td>\n",
       "      <td>37.539234</td>\n",
       "      <td>127.129112</td>\n",
       "      <td>현대 프라자</td>\n",
       "      <td>shopping</td>\n",
       "      <td>서울특별시 강동구 진황도로 18</td>\n",
       "      <td>계단 또는 승강설비,대변기,비치용품,장애인전용주차구역,주출입구 높이차이 제거,주출입...</td>\n",
       "    </tr>\n",
       "    <tr>\n",
       "      <th>9996</th>\n",
       "      <td>9996</td>\n",
       "      <td>29996</td>\n",
       "      <td>37.520084</td>\n",
       "      <td>126.860301</td>\n",
       "      <td>현대프라자(의원)</td>\n",
       "      <td>hospital</td>\n",
       "      <td>서울특별시 양천구 중앙로32길 61</td>\n",
       "      <td>계단 또는 승강설비,대변기,일반사항,장애인전용주차구역,주출입구 높이차이 제거,주출입...</td>\n",
       "    </tr>\n",
       "    <tr>\n",
       "      <th>9997</th>\n",
       "      <td>9997</td>\n",
       "      <td>29997</td>\n",
       "      <td>37.500344</td>\n",
       "      <td>127.033999</td>\n",
       "      <td>현대 해상</td>\n",
       "      <td>bank</td>\n",
       "      <td>서울특별시 강남구 테헤란로 137</td>\n",
       "      <td>계단 또는 승강설비,대변기,일반사항,장애인전용주차구역,주출입구 높이차이 제거,주출입...</td>\n",
       "    </tr>\n",
       "    <tr>\n",
       "      <th>9998</th>\n",
       "      <td>9998</td>\n",
       "      <td>29998</td>\n",
       "      <td>37.527492</td>\n",
       "      <td>126.896576</td>\n",
       "      <td>현대해상강서사옥</td>\n",
       "      <td>bank</td>\n",
       "      <td>서울특별시 영등포구 당산로 141</td>\n",
       "      <td>계단 또는 승강설비,대변기,일반사항,장애인전용주차구역,주출입구 높이차이 제거,주출입...</td>\n",
       "    </tr>\n",
       "    <tr>\n",
       "      <th>9999</th>\n",
       "      <td>9999</td>\n",
       "      <td>29999</td>\n",
       "      <td>37.539072</td>\n",
       "      <td>127.125618</td>\n",
       "      <td>현대홈쇼핑</td>\n",
       "      <td>broadcasting station</td>\n",
       "      <td>서울특별시 강동구 올림픽로70길 34</td>\n",
       "      <td>계단 또는 승강설비,대변기,일반사항,장애인전용주차구역,주출입구 높이차이 제거,주출입...</td>\n",
       "    </tr>\n",
       "  </tbody>\n",
       "</table>\n",
       "</div>"
      ],
      "text/plain": [
       "      Unnamed: 0  place_id        lat         lon place_name  \\\n",
       "9995        9995     29995  37.539234  127.129112     현대 프라자   \n",
       "9996        9996     29996  37.520084  126.860301  현대프라자(의원)   \n",
       "9997        9997     29997  37.500344  127.033999      현대 해상   \n",
       "9998        9998     29998  37.527492  126.896576   현대해상강서사옥   \n",
       "9999        9999     29999  37.539072  127.125618      현대홈쇼핑   \n",
       "\n",
       "                  category         place_address  \\\n",
       "9995              shopping     서울특별시 강동구 진황도로 18   \n",
       "9996              hospital   서울특별시 양천구 중앙로32길 61   \n",
       "9997                  bank    서울특별시 강남구 테헤란로 137   \n",
       "9998                  bank    서울특별시 영등포구 당산로 141   \n",
       "9999  broadcasting station  서울특별시 강동구 올림픽로70길 34   \n",
       "\n",
       "                                               evalInfo  \n",
       "9995  계단 또는 승강설비,대변기,비치용품,장애인전용주차구역,주출입구 높이차이 제거,주출입...  \n",
       "9996  계단 또는 승강설비,대변기,일반사항,장애인전용주차구역,주출입구 높이차이 제거,주출입...  \n",
       "9997  계단 또는 승강설비,대변기,일반사항,장애인전용주차구역,주출입구 높이차이 제거,주출입...  \n",
       "9998  계단 또는 승강설비,대변기,일반사항,장애인전용주차구역,주출입구 높이차이 제거,주출입...  \n",
       "9999  계단 또는 승강설비,대변기,일반사항,장애인전용주차구역,주출입구 높이차이 제거,주출입...  "
      ]
     },
     "execution_count": 20,
     "metadata": {},
     "output_type": "execute_result"
    }
   ],
   "source": [
    "hj_place.tail()"
   ]
  },
  {
   "cell_type": "code",
   "execution_count": 21,
   "metadata": {},
   "outputs": [
    {
     "name": "stdout",
     "output_type": "stream",
     "text": [
      "<class 'pandas.core.frame.DataFrame'>\n",
      "RangeIndex: 10000 entries, 0 to 9999\n",
      "Data columns (total 8 columns):\n",
      "Unnamed: 0       10000 non-null int64\n",
      "place_id         10000 non-null int64\n",
      "lat              10000 non-null float64\n",
      "lon              10000 non-null float64\n",
      "place_name       10000 non-null object\n",
      "category         10000 non-null object\n",
      "place_address    10000 non-null object\n",
      "evalInfo         10000 non-null object\n",
      "dtypes: float64(2), int64(2), object(4)\n",
      "memory usage: 625.1+ KB\n"
     ]
    }
   ],
   "source": [
    "hj_place.info()"
   ]
  },
  {
   "cell_type": "markdown",
   "metadata": {},
   "source": [
    "# JM 데이터"
   ]
  },
  {
   "cell_type": "code",
   "execution_count": 22,
   "metadata": {},
   "outputs": [],
   "source": [
    "jm_seoul_toilets = pd.read_csv('Jeungmin/seoul_toilets.csv')"
   ]
  },
  {
   "cell_type": "code",
   "execution_count": 23,
   "metadata": {},
   "outputs": [],
   "source": [
    "jm_seoul_toilets_facility  = pd.read_csv('Jeungmin/seoul_toilets_facility.csv')"
   ]
  },
  {
   "cell_type": "code",
   "execution_count": 24,
   "metadata": {},
   "outputs": [
    {
     "data": {
      "text/html": [
       "<div>\n",
       "<style scoped>\n",
       "    .dataframe tbody tr th:only-of-type {\n",
       "        vertical-align: middle;\n",
       "    }\n",
       "\n",
       "    .dataframe tbody tr th {\n",
       "        vertical-align: top;\n",
       "    }\n",
       "\n",
       "    .dataframe thead th {\n",
       "        text-align: right;\n",
       "    }\n",
       "</style>\n",
       "<table border=\"1\" class=\"dataframe\">\n",
       "  <thead>\n",
       "    <tr style=\"text-align: right;\">\n",
       "      <th></th>\n",
       "      <th>Unnamed: 0</th>\n",
       "      <th>place_name</th>\n",
       "      <th>place_address</th>\n",
       "      <th>lat</th>\n",
       "      <th>lon</th>\n",
       "      <th>category</th>\n",
       "      <th>place_id</th>\n",
       "    </tr>\n",
       "  </thead>\n",
       "  <tbody>\n",
       "    <tr>\n",
       "      <th>883</th>\n",
       "      <td>22425</td>\n",
       "      <td>게네수변공원(관리소내) 화장실</td>\n",
       "      <td>서울특별시 강동구 강일동 446-2</td>\n",
       "      <td>37.562289</td>\n",
       "      <td>127.178703</td>\n",
       "      <td>toilet/open</td>\n",
       "      <td>30883</td>\n",
       "    </tr>\n",
       "    <tr>\n",
       "      <th>925</th>\n",
       "      <td>22472</td>\n",
       "      <td>강일임폐리얼 화장실</td>\n",
       "      <td>서울특별시 강일동 675-3</td>\n",
       "      <td>37.565380</td>\n",
       "      <td>127.174120</td>\n",
       "      <td>toilet/open</td>\n",
       "      <td>30925</td>\n",
       "    </tr>\n",
       "    <tr>\n",
       "      <th>926</th>\n",
       "      <td>22473</td>\n",
       "      <td>강일타워 화장실</td>\n",
       "      <td>서울특별시 강일동 675-7</td>\n",
       "      <td>37.565622</td>\n",
       "      <td>127.173817</td>\n",
       "      <td>toilet/open</td>\n",
       "      <td>30926</td>\n",
       "    </tr>\n",
       "  </tbody>\n",
       "</table>\n",
       "</div>"
      ],
      "text/plain": [
       "     Unnamed: 0        place_name        place_address        lat         lon  \\\n",
       "883       22425  게네수변공원(관리소내) 화장실  서울특별시 강동구 강일동 446-2  37.562289  127.178703   \n",
       "925       22472        강일임폐리얼 화장실      서울특별시 강일동 675-3  37.565380  127.174120   \n",
       "926       22473          강일타워 화장실      서울특별시 강일동 675-7  37.565622  127.173817   \n",
       "\n",
       "        category  place_id  \n",
       "883  toilet/open     30883  \n",
       "925  toilet/open     30925  \n",
       "926  toilet/open     30926  "
      ]
     },
     "execution_count": 24,
     "metadata": {},
     "output_type": "execute_result"
    }
   ],
   "source": [
    "jm_seoul_toilets[jm_seoul_toilets.place_address.str.contains('강일동')]"
   ]
  },
  {
   "cell_type": "code",
   "execution_count": 25,
   "metadata": {},
   "outputs": [
    {
     "data": {
      "text/html": [
       "<div>\n",
       "<style scoped>\n",
       "    .dataframe tbody tr th:only-of-type {\n",
       "        vertical-align: middle;\n",
       "    }\n",
       "\n",
       "    .dataframe tbody tr th {\n",
       "        vertical-align: top;\n",
       "    }\n",
       "\n",
       "    .dataframe thead th {\n",
       "        text-align: right;\n",
       "    }\n",
       "</style>\n",
       "<table border=\"1\" class=\"dataframe\">\n",
       "  <thead>\n",
       "    <tr style=\"text-align: right;\">\n",
       "      <th></th>\n",
       "      <th>Unnamed: 0</th>\n",
       "      <th>place_name</th>\n",
       "      <th>place_address</th>\n",
       "      <th>lat</th>\n",
       "      <th>lon</th>\n",
       "      <th>category</th>\n",
       "      <th>place_id</th>\n",
       "    </tr>\n",
       "  </thead>\n",
       "  <tbody>\n",
       "    <tr>\n",
       "      <th>872</th>\n",
       "      <td>22363</td>\n",
       "      <td>일자산자연공원(둔촌약수터입구) 화장실</td>\n",
       "      <td>서울특별시 둔촌동 산6</td>\n",
       "      <td>37.532868</td>\n",
       "      <td>127.145497</td>\n",
       "      <td>toilet/open</td>\n",
       "      <td>30872</td>\n",
       "    </tr>\n",
       "    <tr>\n",
       "      <th>873</th>\n",
       "      <td>22364</td>\n",
       "      <td>일자산자연공원(허브천무공원) 화장실</td>\n",
       "      <td>서울특별시 둔촌동 산94</td>\n",
       "      <td>37.537625</td>\n",
       "      <td>127.154309</td>\n",
       "      <td>toilet/open</td>\n",
       "      <td>30873</td>\n",
       "    </tr>\n",
       "    <tr>\n",
       "      <th>874</th>\n",
       "      <td>22366</td>\n",
       "      <td>일자산자연공원(잔디광장옆) 화장실</td>\n",
       "      <td>서울특별시 강동구 둔촌동 140</td>\n",
       "      <td>37.533019</td>\n",
       "      <td>127.151358</td>\n",
       "      <td>toilet/open</td>\n",
       "      <td>30874</td>\n",
       "    </tr>\n",
       "    <tr>\n",
       "      <th>897</th>\n",
       "      <td>22443</td>\n",
       "      <td>둔촌역재례시장 화장실</td>\n",
       "      <td>서울특별시 강동구 둔촌동 416-16</td>\n",
       "      <td>37.527989</td>\n",
       "      <td>127.135297</td>\n",
       "      <td>toilet/open</td>\n",
       "      <td>30897</td>\n",
       "    </tr>\n",
       "  </tbody>\n",
       "</table>\n",
       "</div>"
      ],
      "text/plain": [
       "     Unnamed: 0            place_name         place_address        lat  \\\n",
       "872       22363  일자산자연공원(둔촌약수터입구) 화장실          서울특별시 둔촌동 산6  37.532868   \n",
       "873       22364   일자산자연공원(허브천무공원) 화장실         서울특별시 둔촌동 산94  37.537625   \n",
       "874       22366    일자산자연공원(잔디광장옆) 화장실     서울특별시 강동구 둔촌동 140  37.533019   \n",
       "897       22443           둔촌역재례시장 화장실  서울특별시 강동구 둔촌동 416-16  37.527989   \n",
       "\n",
       "            lon     category  place_id  \n",
       "872  127.145497  toilet/open     30872  \n",
       "873  127.154309  toilet/open     30873  \n",
       "874  127.151358  toilet/open     30874  \n",
       "897  127.135297  toilet/open     30897  "
      ]
     },
     "execution_count": 25,
     "metadata": {},
     "output_type": "execute_result"
    }
   ],
   "source": [
    "jm_seoul_toilets[jm_seoul_toilets.place_address.str.contains('둔촌동')]"
   ]
  },
  {
   "cell_type": "code",
   "execution_count": 26,
   "metadata": {},
   "outputs": [],
   "source": [
    "jm_seoul_toilets.loc[872,['place_address']] = '서울특별시 강동구 둔촌동 산6'"
   ]
  },
  {
   "cell_type": "code",
   "execution_count": 27,
   "metadata": {},
   "outputs": [],
   "source": [
    "jm_seoul_toilets.loc[873,['place_address']] = '서울특별시 강동구 둔촌동 산94'"
   ]
  },
  {
   "cell_type": "code",
   "execution_count": 28,
   "metadata": {},
   "outputs": [],
   "source": [
    "jm_seoul_toilets.loc[925,['place_address']] = '서울특별시 강동구 강일동 675-3'"
   ]
  },
  {
   "cell_type": "code",
   "execution_count": 29,
   "metadata": {},
   "outputs": [],
   "source": [
    "jm_seoul_toilets.loc[926,['place_address']] = '서울특별시 강동구 강일동 675-7'"
   ]
  },
  {
   "cell_type": "code",
   "execution_count": 30,
   "metadata": {},
   "outputs": [
    {
     "data": {
      "text/html": [
       "<div>\n",
       "<style scoped>\n",
       "    .dataframe tbody tr th:only-of-type {\n",
       "        vertical-align: middle;\n",
       "    }\n",
       "\n",
       "    .dataframe tbody tr th {\n",
       "        vertical-align: top;\n",
       "    }\n",
       "\n",
       "    .dataframe thead th {\n",
       "        text-align: right;\n",
       "    }\n",
       "</style>\n",
       "<table border=\"1\" class=\"dataframe\">\n",
       "  <thead>\n",
       "    <tr style=\"text-align: right;\">\n",
       "      <th></th>\n",
       "      <th>Unnamed: 0</th>\n",
       "      <th>place_name</th>\n",
       "      <th>place_address</th>\n",
       "      <th>lat</th>\n",
       "      <th>lon</th>\n",
       "      <th>category</th>\n",
       "      <th>place_id</th>\n",
       "    </tr>\n",
       "  </thead>\n",
       "  <tbody>\n",
       "    <tr>\n",
       "      <th>872</th>\n",
       "      <td>22363</td>\n",
       "      <td>일자산자연공원(둔촌약수터입구) 화장실</td>\n",
       "      <td>서울특별시 강동구 둔촌동 산6</td>\n",
       "      <td>37.532868</td>\n",
       "      <td>127.145497</td>\n",
       "      <td>toilet/open</td>\n",
       "      <td>30872</td>\n",
       "    </tr>\n",
       "    <tr>\n",
       "      <th>873</th>\n",
       "      <td>22364</td>\n",
       "      <td>일자산자연공원(허브천무공원) 화장실</td>\n",
       "      <td>서울특별시 강동구 둔촌동 산94</td>\n",
       "      <td>37.537625</td>\n",
       "      <td>127.154309</td>\n",
       "      <td>toilet/open</td>\n",
       "      <td>30873</td>\n",
       "    </tr>\n",
       "    <tr>\n",
       "      <th>874</th>\n",
       "      <td>22366</td>\n",
       "      <td>일자산자연공원(잔디광장옆) 화장실</td>\n",
       "      <td>서울특별시 강동구 둔촌동 140</td>\n",
       "      <td>37.533019</td>\n",
       "      <td>127.151358</td>\n",
       "      <td>toilet/open</td>\n",
       "      <td>30874</td>\n",
       "    </tr>\n",
       "    <tr>\n",
       "      <th>897</th>\n",
       "      <td>22443</td>\n",
       "      <td>둔촌역재례시장 화장실</td>\n",
       "      <td>서울특별시 강동구 둔촌동 416-16</td>\n",
       "      <td>37.527989</td>\n",
       "      <td>127.135297</td>\n",
       "      <td>toilet/open</td>\n",
       "      <td>30897</td>\n",
       "    </tr>\n",
       "  </tbody>\n",
       "</table>\n",
       "</div>"
      ],
      "text/plain": [
       "     Unnamed: 0            place_name         place_address        lat  \\\n",
       "872       22363  일자산자연공원(둔촌약수터입구) 화장실      서울특별시 강동구 둔촌동 산6  37.532868   \n",
       "873       22364   일자산자연공원(허브천무공원) 화장실     서울특별시 강동구 둔촌동 산94  37.537625   \n",
       "874       22366    일자산자연공원(잔디광장옆) 화장실     서울특별시 강동구 둔촌동 140  37.533019   \n",
       "897       22443           둔촌역재례시장 화장실  서울특별시 강동구 둔촌동 416-16  37.527989   \n",
       "\n",
       "            lon     category  place_id  \n",
       "872  127.145497  toilet/open     30872  \n",
       "873  127.154309  toilet/open     30873  \n",
       "874  127.151358  toilet/open     30874  \n",
       "897  127.135297  toilet/open     30897  "
      ]
     },
     "execution_count": 30,
     "metadata": {},
     "output_type": "execute_result"
    }
   ],
   "source": [
    "jm_seoul_toilets[jm_seoul_toilets.place_address.str.contains('둔촌동')]"
   ]
  },
  {
   "cell_type": "code",
   "execution_count": 31,
   "metadata": {
    "scrolled": true
   },
   "outputs": [
    {
     "data": {
      "text/html": [
       "<div>\n",
       "<style scoped>\n",
       "    .dataframe tbody tr th:only-of-type {\n",
       "        vertical-align: middle;\n",
       "    }\n",
       "\n",
       "    .dataframe tbody tr th {\n",
       "        vertical-align: top;\n",
       "    }\n",
       "\n",
       "    .dataframe thead th {\n",
       "        text-align: right;\n",
       "    }\n",
       "</style>\n",
       "<table border=\"1\" class=\"dataframe\">\n",
       "  <thead>\n",
       "    <tr style=\"text-align: right;\">\n",
       "      <th></th>\n",
       "      <th>Unnamed: 0</th>\n",
       "      <th>place_name</th>\n",
       "      <th>place_address</th>\n",
       "      <th>lat</th>\n",
       "      <th>lon</th>\n",
       "      <th>category</th>\n",
       "      <th>place_id</th>\n",
       "    </tr>\n",
       "  </thead>\n",
       "  <tbody>\n",
       "    <tr>\n",
       "      <th>883</th>\n",
       "      <td>22425</td>\n",
       "      <td>게네수변공원(관리소내) 화장실</td>\n",
       "      <td>서울특별시 강동구 강일동 446-2</td>\n",
       "      <td>37.562289</td>\n",
       "      <td>127.178703</td>\n",
       "      <td>toilet/open</td>\n",
       "      <td>30883</td>\n",
       "    </tr>\n",
       "    <tr>\n",
       "      <th>925</th>\n",
       "      <td>22472</td>\n",
       "      <td>강일임폐리얼 화장실</td>\n",
       "      <td>서울특별시 강동구 강일동 675-3</td>\n",
       "      <td>37.565380</td>\n",
       "      <td>127.174120</td>\n",
       "      <td>toilet/open</td>\n",
       "      <td>30925</td>\n",
       "    </tr>\n",
       "    <tr>\n",
       "      <th>926</th>\n",
       "      <td>22473</td>\n",
       "      <td>강일타워 화장실</td>\n",
       "      <td>서울특별시 강동구 강일동 675-7</td>\n",
       "      <td>37.565622</td>\n",
       "      <td>127.173817</td>\n",
       "      <td>toilet/open</td>\n",
       "      <td>30926</td>\n",
       "    </tr>\n",
       "  </tbody>\n",
       "</table>\n",
       "</div>"
      ],
      "text/plain": [
       "     Unnamed: 0        place_name        place_address        lat         lon  \\\n",
       "883       22425  게네수변공원(관리소내) 화장실  서울특별시 강동구 강일동 446-2  37.562289  127.178703   \n",
       "925       22472        강일임폐리얼 화장실  서울특별시 강동구 강일동 675-3  37.565380  127.174120   \n",
       "926       22473          강일타워 화장실  서울특별시 강동구 강일동 675-7  37.565622  127.173817   \n",
       "\n",
       "        category  place_id  \n",
       "883  toilet/open     30883  \n",
       "925  toilet/open     30925  \n",
       "926  toilet/open     30926  "
      ]
     },
     "execution_count": 31,
     "metadata": {},
     "output_type": "execute_result"
    }
   ],
   "source": [
    "jm_seoul_toilets[jm_seoul_toilets.place_address.str.contains('강일동')]"
   ]
  },
  {
   "cell_type": "code",
   "execution_count": 32,
   "metadata": {},
   "outputs": [],
   "source": [
    "# 여기 까지 구추가함."
   ]
  },
  {
   "cell_type": "code",
   "execution_count": 33,
   "metadata": {},
   "outputs": [
    {
     "data": {
      "text/html": [
       "<div>\n",
       "<style scoped>\n",
       "    .dataframe tbody tr th:only-of-type {\n",
       "        vertical-align: middle;\n",
       "    }\n",
       "\n",
       "    .dataframe tbody tr th {\n",
       "        vertical-align: top;\n",
       "    }\n",
       "\n",
       "    .dataframe thead th {\n",
       "        text-align: right;\n",
       "    }\n",
       "</style>\n",
       "<table border=\"1\" class=\"dataframe\">\n",
       "  <thead>\n",
       "    <tr style=\"text-align: right;\">\n",
       "      <th></th>\n",
       "      <th>Unnamed: 0</th>\n",
       "      <th>place_name</th>\n",
       "      <th>place_address</th>\n",
       "      <th>lat</th>\n",
       "      <th>lon</th>\n",
       "      <th>category</th>\n",
       "      <th>place_id</th>\n",
       "    </tr>\n",
       "  </thead>\n",
       "  <tbody>\n",
       "    <tr>\n",
       "      <th>0</th>\n",
       "      <td>0</td>\n",
       "      <td>남대문시장 화장실</td>\n",
       "      <td>서울특별시 중구 남창동 51-2</td>\n",
       "      <td>37.559433</td>\n",
       "      <td>126.976225</td>\n",
       "      <td>toilet/open</td>\n",
       "      <td>30000</td>\n",
       "    </tr>\n",
       "    <tr>\n",
       "      <th>1</th>\n",
       "      <td>1</td>\n",
       "      <td>광희동 화장실</td>\n",
       "      <td>서울특별시 중구 광희동1가 202-1</td>\n",
       "      <td>37.564371</td>\n",
       "      <td>127.006306</td>\n",
       "      <td>toilet/open</td>\n",
       "      <td>30001</td>\n",
       "    </tr>\n",
       "    <tr>\n",
       "      <th>2</th>\n",
       "      <td>2</td>\n",
       "      <td>신당 1호 화장실</td>\n",
       "      <td>서울특별시 중구 신당동 236-542</td>\n",
       "      <td>37.563819</td>\n",
       "      <td>127.013347</td>\n",
       "      <td>toilet/open</td>\n",
       "      <td>30002</td>\n",
       "    </tr>\n",
       "    <tr>\n",
       "      <th>3</th>\n",
       "      <td>3</td>\n",
       "      <td>신당 2호 화장실</td>\n",
       "      <td>서울특별시 중구 신당동 298-74</td>\n",
       "      <td>37.561325</td>\n",
       "      <td>127.013778</td>\n",
       "      <td>toilet/open</td>\n",
       "      <td>30003</td>\n",
       "    </tr>\n",
       "    <tr>\n",
       "      <th>4</th>\n",
       "      <td>4</td>\n",
       "      <td>청구역 화장실</td>\n",
       "      <td>서울특별시 중구 신당동 297-17</td>\n",
       "      <td>37.561317</td>\n",
       "      <td>127.013783</td>\n",
       "      <td>toilet/open</td>\n",
       "      <td>30004</td>\n",
       "    </tr>\n",
       "  </tbody>\n",
       "</table>\n",
       "</div>"
      ],
      "text/plain": [
       "   Unnamed: 0 place_name         place_address        lat         lon  \\\n",
       "0           0  남대문시장 화장실     서울특별시 중구 남창동 51-2  37.559433  126.976225   \n",
       "1           1    광희동 화장실  서울특별시 중구 광희동1가 202-1  37.564371  127.006306   \n",
       "2           2  신당 1호 화장실  서울특별시 중구 신당동 236-542  37.563819  127.013347   \n",
       "3           3  신당 2호 화장실   서울특별시 중구 신당동 298-74  37.561325  127.013778   \n",
       "4           4    청구역 화장실   서울특별시 중구 신당동 297-17  37.561317  127.013783   \n",
       "\n",
       "      category  place_id  \n",
       "0  toilet/open     30000  \n",
       "1  toilet/open     30001  \n",
       "2  toilet/open     30002  \n",
       "3  toilet/open     30003  \n",
       "4  toilet/open     30004  "
      ]
     },
     "execution_count": 33,
     "metadata": {},
     "output_type": "execute_result"
    }
   ],
   "source": [
    "jm_seoul_toilets.head() # 정민 1 번테이블"
   ]
  },
  {
   "cell_type": "code",
   "execution_count": 34,
   "metadata": {},
   "outputs": [
    {
     "data": {
      "text/html": [
       "<div>\n",
       "<style scoped>\n",
       "    .dataframe tbody tr th:only-of-type {\n",
       "        vertical-align: middle;\n",
       "    }\n",
       "\n",
       "    .dataframe tbody tr th {\n",
       "        vertical-align: top;\n",
       "    }\n",
       "\n",
       "    .dataframe thead th {\n",
       "        text-align: right;\n",
       "    }\n",
       "</style>\n",
       "<table border=\"1\" class=\"dataframe\">\n",
       "  <thead>\n",
       "    <tr style=\"text-align: right;\">\n",
       "      <th></th>\n",
       "      <th>Unnamed: 0</th>\n",
       "      <th>facility_available_name</th>\n",
       "      <th>place_name</th>\n",
       "      <th>place_id</th>\n",
       "      <th>facility_id</th>\n",
       "    </tr>\n",
       "  </thead>\n",
       "  <tbody>\n",
       "    <tr>\n",
       "      <th>0</th>\n",
       "      <td>0</td>\n",
       "      <td>남성용-소변기</td>\n",
       "      <td>남대문시장 화장실</td>\n",
       "      <td>30000</td>\n",
       "      <td>300000</td>\n",
       "    </tr>\n",
       "    <tr>\n",
       "      <th>1</th>\n",
       "      <td>1</td>\n",
       "      <td>남성용-장애인용대변기</td>\n",
       "      <td>남대문시장 화장실</td>\n",
       "      <td>30000</td>\n",
       "      <td>300001</td>\n",
       "    </tr>\n",
       "    <tr>\n",
       "      <th>2</th>\n",
       "      <td>2</td>\n",
       "      <td>여성용-대변기</td>\n",
       "      <td>남대문시장 화장실</td>\n",
       "      <td>30000</td>\n",
       "      <td>300002</td>\n",
       "    </tr>\n",
       "    <tr>\n",
       "      <th>3</th>\n",
       "      <td>3</td>\n",
       "      <td>여성용-장애인용대변기</td>\n",
       "      <td>남대문시장 화장실</td>\n",
       "      <td>30000</td>\n",
       "      <td>300003</td>\n",
       "    </tr>\n",
       "    <tr>\n",
       "      <th>4</th>\n",
       "      <td>4</td>\n",
       "      <td>남성용-대변기</td>\n",
       "      <td>광희동 화장실</td>\n",
       "      <td>30001</td>\n",
       "      <td>300004</td>\n",
       "    </tr>\n",
       "  </tbody>\n",
       "</table>\n",
       "</div>"
      ],
      "text/plain": [
       "   Unnamed: 0 facility_available_name place_name  place_id  facility_id\n",
       "0           0                 남성용-소변기  남대문시장 화장실     30000       300000\n",
       "1           1             남성용-장애인용대변기  남대문시장 화장실     30000       300001\n",
       "2           2                 여성용-대변기  남대문시장 화장실     30000       300002\n",
       "3           3             여성용-장애인용대변기  남대문시장 화장실     30000       300003\n",
       "4           4                 남성용-대변기    광희동 화장실     30001       300004"
      ]
     },
     "execution_count": 34,
     "metadata": {},
     "output_type": "execute_result"
    }
   ],
   "source": [
    "jm_seoul_toilets_facility.head() #정민 2번테이블"
   ]
  },
  {
   "cell_type": "code",
   "execution_count": 35,
   "metadata": {},
   "outputs": [],
   "source": [
    "jm_facility = pd.read_csv('Jeungmin/facility_cleansed.csv')"
   ]
  },
  {
   "cell_type": "code",
   "execution_count": 36,
   "metadata": {
    "scrolled": true
   },
   "outputs": [
    {
     "data": {
      "text/html": [
       "<div>\n",
       "<style scoped>\n",
       "    .dataframe tbody tr th:only-of-type {\n",
       "        vertical-align: middle;\n",
       "    }\n",
       "\n",
       "    .dataframe tbody tr th {\n",
       "        vertical-align: top;\n",
       "    }\n",
       "\n",
       "    .dataframe thead th {\n",
       "        text-align: right;\n",
       "    }\n",
       "</style>\n",
       "<table border=\"1\" class=\"dataframe\">\n",
       "  <thead>\n",
       "    <tr style=\"text-align: right;\">\n",
       "      <th></th>\n",
       "      <th>Unnamed: 0</th>\n",
       "      <th>Unnamed: 0.1</th>\n",
       "      <th>category</th>\n",
       "      <th>place_name</th>\n",
       "      <th>place_address</th>\n",
       "      <th>lat</th>\n",
       "      <th>lon</th>\n",
       "      <th>place_id</th>\n",
       "    </tr>\n",
       "  </thead>\n",
       "  <tbody>\n",
       "    <tr>\n",
       "      <th>0</th>\n",
       "      <td>0</td>\n",
       "      <td>0</td>\n",
       "      <td>daycare</td>\n",
       "      <td>영락</td>\n",
       "      <td>중구 수표로 33 (저동2가 69)</td>\n",
       "      <td>37.563202</td>\n",
       "      <td>126.989182</td>\n",
       "      <td>40000</td>\n",
       "    </tr>\n",
       "    <tr>\n",
       "      <th>1</th>\n",
       "      <td>1</td>\n",
       "      <td>1</td>\n",
       "      <td>daycare</td>\n",
       "      <td>역삼주간보호센터</td>\n",
       "      <td>강남구 테헤란로8길 36 (역삼동 827-61) 강남문화원 2층</td>\n",
       "      <td>37.496507</td>\n",
       "      <td>127.032048</td>\n",
       "      <td>40001</td>\n",
       "    </tr>\n",
       "    <tr>\n",
       "      <th>2</th>\n",
       "      <td>2</td>\n",
       "      <td>2</td>\n",
       "      <td>wellfare</td>\n",
       "      <td>성민장애인복지관</td>\n",
       "      <td>노원구 노원로32길 30-3 (상계동 321-9)</td>\n",
       "      <td>37.655624</td>\n",
       "      <td>127.069340</td>\n",
       "      <td>40002</td>\n",
       "    </tr>\n",
       "    <tr>\n",
       "      <th>3</th>\n",
       "      <td>3</td>\n",
       "      <td>3</td>\n",
       "      <td>wellfare</td>\n",
       "      <td>강서뇌성마비복지관</td>\n",
       "      <td>강서구 방화대로45길 69 (방화동 452-5)</td>\n",
       "      <td>37.574198</td>\n",
       "      <td>126.812585</td>\n",
       "      <td>40003</td>\n",
       "    </tr>\n",
       "    <tr>\n",
       "      <th>4</th>\n",
       "      <td>4</td>\n",
       "      <td>4</td>\n",
       "      <td>daycare</td>\n",
       "      <td>모랫말꿈터</td>\n",
       "      <td>영등포구 도영로 37 (도림2동 205-24)</td>\n",
       "      <td>37.510186</td>\n",
       "      <td>126.897488</td>\n",
       "      <td>40004</td>\n",
       "    </tr>\n",
       "  </tbody>\n",
       "</table>\n",
       "</div>"
      ],
      "text/plain": [
       "   Unnamed: 0  Unnamed: 0.1  category place_name  \\\n",
       "0           0             0   daycare         영락   \n",
       "1           1             1   daycare   역삼주간보호센터   \n",
       "2           2             2  wellfare   성민장애인복지관   \n",
       "3           3             3  wellfare  강서뇌성마비복지관   \n",
       "4           4             4   daycare      모랫말꿈터   \n",
       "\n",
       "                         place_address        lat         lon  place_id  \n",
       "0                  중구 수표로 33 (저동2가 69)  37.563202  126.989182     40000  \n",
       "1  강남구 테헤란로8길 36 (역삼동 827-61) 강남문화원 2층  37.496507  127.032048     40001  \n",
       "2          노원구 노원로32길 30-3 (상계동 321-9)  37.655624  127.069340     40002  \n",
       "3           강서구 방화대로45길 69 (방화동 452-5)  37.574198  126.812585     40003  \n",
       "4            영등포구 도영로 37 (도림2동 205-24)  37.510186  126.897488     40004  "
      ]
     },
     "execution_count": 36,
     "metadata": {},
     "output_type": "execute_result"
    }
   ],
   "source": [
    "jm_facility.head()  # 정민 1번 테이블"
   ]
  },
  {
   "cell_type": "code",
   "execution_count": null,
   "metadata": {},
   "outputs": [],
   "source": []
  },
  {
   "cell_type": "markdown",
   "metadata": {},
   "source": [
    "# JT 데이터"
   ]
  },
  {
   "cell_type": "code",
   "execution_count": 158,
   "metadata": {},
   "outputs": [],
   "source": [
    "import pandas as pd"
   ]
  },
  {
   "cell_type": "code",
   "execution_count": 159,
   "metadata": {},
   "outputs": [],
   "source": [
    "jt_subway_place = pd.read_csv('jt_Subway/Place_subway_juntaek.csv')"
   ]
  },
  {
   "cell_type": "code",
   "execution_count": 160,
   "metadata": {},
   "outputs": [],
   "source": [
    "jt_subway_facility = pd.read_csv('jt_Subway/Facility_subway_juntaek.csv')"
   ]
  },
  {
   "cell_type": "code",
   "execution_count": 161,
   "metadata": {},
   "outputs": [
    {
     "data": {
      "text/html": [
       "<div>\n",
       "<style scoped>\n",
       "    .dataframe tbody tr th:only-of-type {\n",
       "        vertical-align: middle;\n",
       "    }\n",
       "\n",
       "    .dataframe tbody tr th {\n",
       "        vertical-align: top;\n",
       "    }\n",
       "\n",
       "    .dataframe thead th {\n",
       "        text-align: right;\n",
       "    }\n",
       "</style>\n",
       "<table border=\"1\" class=\"dataframe\">\n",
       "  <thead>\n",
       "    <tr style=\"text-align: right;\">\n",
       "      <th></th>\n",
       "      <th>Unnamed: 0</th>\n",
       "      <th>place_name</th>\n",
       "      <th>place_id</th>\n",
       "      <th>lat</th>\n",
       "      <th>lon</th>\n",
       "      <th>category</th>\n",
       "    </tr>\n",
       "  </thead>\n",
       "  <tbody>\n",
       "    <tr>\n",
       "      <th>0</th>\n",
       "      <td>0</td>\n",
       "      <td>가락시장</td>\n",
       "      <td>0</td>\n",
       "      <td>37.4923175</td>\n",
       "      <td>127.118104</td>\n",
       "      <td>subway</td>\n",
       "    </tr>\n",
       "    <tr>\n",
       "      <th>1</th>\n",
       "      <td>1</td>\n",
       "      <td>가산디지털단지</td>\n",
       "      <td>1</td>\n",
       "      <td>37.48089</td>\n",
       "      <td>126.8825735</td>\n",
       "      <td>subway</td>\n",
       "    </tr>\n",
       "    <tr>\n",
       "      <th>2</th>\n",
       "      <td>2</td>\n",
       "      <td>간석</td>\n",
       "      <td>2</td>\n",
       "      <td>37.464689</td>\n",
       "      <td>126.693408</td>\n",
       "      <td>subway</td>\n",
       "    </tr>\n",
       "    <tr>\n",
       "      <th>3</th>\n",
       "      <td>3</td>\n",
       "      <td>강남</td>\n",
       "      <td>3</td>\n",
       "      <td>37.49794199999999</td>\n",
       "      <td>127.027621</td>\n",
       "      <td>subway</td>\n",
       "    </tr>\n",
       "    <tr>\n",
       "      <th>4</th>\n",
       "      <td>4</td>\n",
       "      <td>강남구청</td>\n",
       "      <td>4</td>\n",
       "      <td>37.517473</td>\n",
       "      <td>127.0411685</td>\n",
       "      <td>subway</td>\n",
       "    </tr>\n",
       "  </tbody>\n",
       "</table>\n",
       "</div>"
      ],
      "text/plain": [
       "   Unnamed: 0 place_name  place_id                lat          lon category\n",
       "0           0       가락시장         0         37.4923175   127.118104   subway\n",
       "1           1    가산디지털단지         1           37.48089  126.8825735   subway\n",
       "2           2         간석         2          37.464689   126.693408   subway\n",
       "3           3         강남         3  37.49794199999999   127.027621   subway\n",
       "4           4       강남구청         4          37.517473  127.0411685   subway"
      ]
     },
     "execution_count": 161,
     "metadata": {},
     "output_type": "execute_result"
    }
   ],
   "source": [
    "jt_subway_place.head()"
   ]
  },
  {
   "cell_type": "code",
   "execution_count": 162,
   "metadata": {
    "scrolled": true
   },
   "outputs": [
    {
     "data": {
      "text/html": [
       "<div>\n",
       "<style scoped>\n",
       "    .dataframe tbody tr th:only-of-type {\n",
       "        vertical-align: middle;\n",
       "    }\n",
       "\n",
       "    .dataframe tbody tr th {\n",
       "        vertical-align: top;\n",
       "    }\n",
       "\n",
       "    .dataframe thead th {\n",
       "        text-align: right;\n",
       "    }\n",
       "</style>\n",
       "<table border=\"1\" class=\"dataframe\">\n",
       "  <thead>\n",
       "    <tr style=\"text-align: right;\">\n",
       "      <th></th>\n",
       "      <th>Unnamed: 0</th>\n",
       "      <th>place_name</th>\n",
       "      <th>place_id</th>\n",
       "      <th>lat</th>\n",
       "      <th>lon</th>\n",
       "      <th>category</th>\n",
       "    </tr>\n",
       "  </thead>\n",
       "  <tbody>\n",
       "    <tr>\n",
       "      <th>80</th>\n",
       "      <td>80</td>\n",
       "      <td>동대문</td>\n",
       "      <td>80</td>\n",
       "      <td>동대문</td>\n",
       "      <td>동대문</td>\n",
       "      <td>subway</td>\n",
       "    </tr>\n",
       "    <tr>\n",
       "      <th>131</th>\n",
       "      <td>131</td>\n",
       "      <td>봉화산</td>\n",
       "      <td>131</td>\n",
       "      <td>봉화산</td>\n",
       "      <td>봉화산</td>\n",
       "      <td>subway</td>\n",
       "    </tr>\n",
       "    <tr>\n",
       "      <th>165</th>\n",
       "      <td>165</td>\n",
       "      <td>성산</td>\n",
       "      <td>165</td>\n",
       "      <td>성산</td>\n",
       "      <td>성산</td>\n",
       "      <td>subway</td>\n",
       "    </tr>\n",
       "  </tbody>\n",
       "</table>\n",
       "</div>"
      ],
      "text/plain": [
       "     Unnamed: 0 place_name  place_id  lat  lon category\n",
       "80           80        동대문        80  동대문  동대문   subway\n",
       "131         131        봉화산       131  봉화산  봉화산   subway\n",
       "165         165         성산       165   성산   성산   subway"
      ]
     },
     "execution_count": 162,
     "metadata": {},
     "output_type": "execute_result"
    }
   ],
   "source": [
    "jt_subway_place[jt_subway_place.lat.str.contains('[ㄱ-ㅎ가-힣ㅏ-ㅢ]')]"
   ]
  },
  {
   "cell_type": "code",
   "execution_count": 168,
   "metadata": {},
   "outputs": [],
   "source": [
    "name_list=[]"
   ]
  },
  {
   "cell_type": "code",
   "execution_count": 169,
   "metadata": {},
   "outputs": [],
   "source": [
    "for name in jt_subway_place['place_name']:\n",
    "    name_list.append(name+'역')"
   ]
  },
  {
   "cell_type": "code",
   "execution_count": 176,
   "metadata": {},
   "outputs": [
    {
     "data": {
      "text/plain": [
       "324"
      ]
     },
     "execution_count": 176,
     "metadata": {},
     "output_type": "execute_result"
    }
   ],
   "source": [
    "len(name_list)"
   ]
  },
  {
   "cell_type": "code",
   "execution_count": 170,
   "metadata": {},
   "outputs": [
    {
     "data": {
      "text/plain": [
       "['가락시장역',\n",
       " '가산디지털단지역',\n",
       " '간석역',\n",
       " '강남역',\n",
       " '강남구청역',\n",
       " '강동역',\n",
       " '강동구청역',\n",
       " '강변역',\n",
       " '개농역',\n",
       " '개봉역',\n",
       " '개화산역',\n",
       " '거여역',\n",
       " '건대입구역',\n",
       " '경마공원역',\n",
       " '경복궁역',\n",
       " '고덕역',\n",
       " '고려대역',\n",
       " '고속터미널역',\n",
       " '고잔역',\n",
       " '공단역',\n",
       " '공덕역',\n",
       " '공릉역',\n",
       " '과천역',\n",
       " '관악역',\n",
       " '광나루역',\n",
       " '광명사거리역',\n",
       " '광화문역',\n",
       " '광흥창역',\n",
       " '교대역',\n",
       " '구로역',\n",
       " '구로디지털단지역',\n",
       " '구산역',\n",
       " '구의역',\n",
       " '구일역',\n",
       " '구파발역',\n",
       " '군자역',\n",
       " '군포역',\n",
       " '굽은다리역',\n",
       " '금정역',\n",
       " '금호역',\n",
       " '길동역',\n",
       " '길음역',\n",
       " '김포공항역',\n",
       " '까치산역',\n",
       " '낙성대역',\n",
       " '남구로역',\n",
       " '남부터미널역',\n",
       " '남성역',\n",
       " '남영역',\n",
       " '남태령역',\n",
       " '남한산성입구역',\n",
       " '내방역',\n",
       " '노량진역',\n",
       " '노원역',\n",
       " '녹번역',\n",
       " '녹사평역',\n",
       " '녹천역',\n",
       " '논현역',\n",
       " '단대오거리역',\n",
       " '답십리역',\n",
       " '당고개역',\n",
       " '당산역',\n",
       " '대곡역',\n",
       " '대공원역',\n",
       " '대림역',\n",
       " '대방역',\n",
       " '대야미역',\n",
       " '대청역',\n",
       " '대치역',\n",
       " '대화역',\n",
       " '대흥역',\n",
       " '도곡역',\n",
       " '도림천역',\n",
       " '도봉역',\n",
       " '도봉산역',\n",
       " '도원역',\n",
       " '독립문역',\n",
       " '독바위역',\n",
       " '독산역',\n",
       " '돌곶이역',\n",
       " '동대문역',\n",
       " '동대문역사문화공원역',\n",
       " '동대문운동장역',\n",
       " '동대입구역',\n",
       " '동묘앞역',\n",
       " '동암역',\n",
       " '동인천역',\n",
       " '동작역',\n",
       " '두정역',\n",
       " '둔촌동역',\n",
       " '뚝섬역',\n",
       " '뚝섬유원지역',\n",
       " '마곡역',\n",
       " '마두역',\n",
       " '마들역',\n",
       " '마장역',\n",
       " '마천역',\n",
       " '마포역',\n",
       " '마포구청역',\n",
       " '망원역',\n",
       " '망월산역',\n",
       " '매봉역',\n",
       " '먹골역',\n",
       " '면목역',\n",
       " '명동역',\n",
       " '명일역',\n",
       " '명학역',\n",
       " '모란역',\n",
       " '목동역',\n",
       " '몽촌토성역',\n",
       " '무악재역',\n",
       " '문래역',\n",
       " '문정역',\n",
       " '미아역',\n",
       " '미아삼거리역',\n",
       " '반월역',\n",
       " '반포역',\n",
       " '발산역',\n",
       " '방배역',\n",
       " '방이역',\n",
       " '방학역',\n",
       " '방화역',\n",
       " '백석역',\n",
       " '백운역',\n",
       " '버티고개역',\n",
       " '범계역',\n",
       " '병점역',\n",
       " '보라매역',\n",
       " '보문역',\n",
       " '복정역',\n",
       " '봉천역',\n",
       " '봉화산역',\n",
       " '부개역',\n",
       " '부천역',\n",
       " '부평역',\n",
       " '불광역',\n",
       " '사가정역',\n",
       " '사당역',\n",
       " '산본역',\n",
       " '산성역',\n",
       " '삼각지역',\n",
       " '삼성역',\n",
       " '삼송역',\n",
       " '상계역',\n",
       " '상도역',\n",
       " '상록수역',\n",
       " '상봉역',\n",
       " '상수역',\n",
       " '상왕십리역',\n",
       " '상월곡역',\n",
       " '상일동역',\n",
       " '새절역',\n",
       " '서대문역',\n",
       " '서울대입구역',\n",
       " '서울역역',\n",
       " '서정리역',\n",
       " '서초역',\n",
       " '석계역',\n",
       " '석수역',\n",
       " '석촌역',\n",
       " '선릉역',\n",
       " '선바위역',\n",
       " '성균관대역',\n",
       " '성내역',\n",
       " '성북역',\n",
       " '성산역',\n",
       " '성수역',\n",
       " '성신대입구역',\n",
       " '성환역',\n",
       " '세류역',\n",
       " '세마역',\n",
       " '소사역',\n",
       " '송내역',\n",
       " '송정역',\n",
       " '송탄역',\n",
       " '송파역',\n",
       " '수락산역',\n",
       " '수색역',\n",
       " '수서역',\n",
       " '수원역',\n",
       " '수유역',\n",
       " '수진역',\n",
       " '숙대입구역',\n",
       " '숭실대입구역',\n",
       " '시청역',\n",
       " '시흥역',\n",
       " '신금호역',\n",
       " '신길역',\n",
       " '신길온천역',\n",
       " '신답역',\n",
       " '신당역',\n",
       " '신대방역',\n",
       " '신대방삼거리역',\n",
       " '신도림역',\n",
       " '신림역',\n",
       " '신사역',\n",
       " '신설동역',\n",
       " '신용산역',\n",
       " '신이문역',\n",
       " '신정역',\n",
       " '신정네거리역',\n",
       " '신천역',\n",
       " '신촌역',\n",
       " '신풍역',\n",
       " '신흥역',\n",
       " '쌍문역',\n",
       " '아차산역',\n",
       " '아현역',\n",
       " '안국역',\n",
       " '안산역',\n",
       " '안암역',\n",
       " '안양역',\n",
       " '암사역',\n",
       " '압구정역',\n",
       " '애오개역',\n",
       " '약수역',\n",
       " '양재역',\n",
       " '양천구청역',\n",
       " '양평역',\n",
       " '어린이대공원역',\n",
       " '여의나루역',\n",
       " '여의도역',\n",
       " '역곡역',\n",
       " '역삼역',\n",
       " '역촌역',\n",
       " '연신내역',\n",
       " '영등포역',\n",
       " '영등포구청역',\n",
       " '영등포시장역',\n",
       " '오금역',\n",
       " '오류동역',\n",
       " '오목교역',\n",
       " '오산역',\n",
       " '오산대역',\n",
       " '오이도역',\n",
       " '옥수역',\n",
       " '온수역',\n",
       " '올림픽공원역',\n",
       " '왕십리역',\n",
       " '외대앞역',\n",
       " '용답역',\n",
       " '용두역',\n",
       " '용마산역',\n",
       " '용산역',\n",
       " '우장산역',\n",
       " '원당역',\n",
       " '월계역',\n",
       " '월곡역',\n",
       " '을지로3가역',\n",
       " '을지로4가역',\n",
       " '을지로입구역',\n",
       " '응암역',\n",
       " '의왕역',\n",
       " '의정부역',\n",
       " '의정부북부역',\n",
       " '이대역',\n",
       " '이촌역',\n",
       " '이태원역',\n",
       " '인덕원역',\n",
       " '인천역',\n",
       " '일원역',\n",
       " '잠실역',\n",
       " '잠원역',\n",
       " '장승배기역',\n",
       " '장암역',\n",
       " '장지역',\n",
       " '장한평역',\n",
       " '정발산역',\n",
       " '정부과천청사역',\n",
       " '정왕역',\n",
       " '제기동역',\n",
       " '제물포역',\n",
       " '종각역',\n",
       " '종로3가역',\n",
       " '종로5가역',\n",
       " '종합운동장역',\n",
       " '주안역',\n",
       " '주엽역',\n",
       " '중계역',\n",
       " '중곡역',\n",
       " '중동역',\n",
       " '중앙역',\n",
       " '중화역',\n",
       " '증산역',\n",
       " '지제역',\n",
       " '지축역',\n",
       " '직산역',\n",
       " '진위역',\n",
       " '창동역',\n",
       " '창신역',\n",
       " '천안역',\n",
       " '천왕역',\n",
       " '천호역',\n",
       " '철산역',\n",
       " '청구역',\n",
       " '청담역',\n",
       " '청량리역',\n",
       " '총신대입구역',\n",
       " '총신대입구(이수)역',\n",
       " '충무로역',\n",
       " '충정로역',\n",
       " '태릉입구역',\n",
       " '평촌역',\n",
       " '평택역',\n",
       " '하계역',\n",
       " '학동역',\n",
       " '학여울역',\n",
       " '한강진역',\n",
       " '한대앞역',\n",
       " '한성대입구역',\n",
       " '한양대역',\n",
       " '합정역',\n",
       " '행당역',\n",
       " '혜화역',\n",
       " '홍대입구역',\n",
       " '홍제역',\n",
       " '화곡역',\n",
       " '화랑대역',\n",
       " '화서역',\n",
       " '화정역',\n",
       " '회기역',\n",
       " '회룡역',\n",
       " '회현역',\n",
       " '효창공원앞역']"
      ]
     },
     "execution_count": 170,
     "metadata": {},
     "output_type": "execute_result"
    }
   ],
   "source": [
    "name_list"
   ]
  },
  {
   "cell_type": "code",
   "execution_count": 177,
   "metadata": {},
   "outputs": [],
   "source": [
    "import requests\n",
    "from bs4 import BeautifulSoup"
   ]
  },
  {
   "cell_type": "code",
   "execution_count": 178,
   "metadata": {},
   "outputs": [],
   "source": [
    "headers = {\n",
    "    \"user-agent\" : \"Mozilla/5.0 (Windows NT 10.0; Win64; x64) AppleWebKit/537.36 (KHTML, like Gecko) Chrome/67.0.3396.99 Safari/537.36\",\n",
    "    \"accept-encoding\": \"false\" \n",
    "}\n",
    "\n",
    "url = \"https://search.daum.net/search?nil_suggest=btn&nil_ch=&rtupcoll=&w=tot&m=&f=&lpp=&DA=SBC&sug=&sq=&o=&sugo=\""
   ]
  },
  {
   "cell_type": "code",
   "execution_count": 262,
   "metadata": {},
   "outputs": [],
   "source": [
    "sub_address_list = [ ]"
   ]
  },
  {
   "cell_type": "code",
   "execution_count": 263,
   "metadata": {},
   "outputs": [],
   "source": [
    "count = 0"
   ]
  },
  {
   "cell_type": "code",
   "execution_count": 264,
   "metadata": {
    "scrolled": true
   },
   "outputs": [
    {
     "name": "stdout",
     "output_type": "stream",
     "text": [
      "송파구\n",
      "1\n",
      "금천구\n",
      "2\n",
      "남동구\n",
      "3\n",
      "강남구\n",
      "4\n",
      "강남구\n",
      "5\n",
      "강동구\n",
      "6\n",
      "강동구\n",
      "7\n",
      "광진구\n",
      "8\n",
      "광진구\n",
      "9\n",
      "구로구\n",
      "10\n",
      "강서구\n",
      "11\n",
      "송파구\n",
      "12\n",
      "광진구\n",
      "13\n",
      "종로구\n",
      "15\n",
      "강동구\n",
      "16\n",
      "성북구\n",
      "17\n",
      "서초구\n",
      "18\n",
      "단원구\n",
      "19\n"
     ]
    },
    {
     "ename": "KeyboardInterrupt",
     "evalue": "",
     "output_type": "error",
     "traceback": [
      "\u001b[1;31m---------------------------------------------------------------------------\u001b[0m",
      "\u001b[1;31mKeyboardInterrupt\u001b[0m                         Traceback (most recent call last)",
      "\u001b[1;32m<ipython-input-264-c417f3b4ec88>\u001b[0m in \u001b[0;36m<module>\u001b[1;34m()\u001b[0m\n\u001b[0;32m      3\u001b[0m     \u001b[0mparams\u001b[0m \u001b[1;33m=\u001b[0m \u001b[1;33m{\u001b[0m\u001b[1;34m'q'\u001b[0m\u001b[1;33m:\u001b[0m\u001b[0msubway\u001b[0m\u001b[1;33m}\u001b[0m\u001b[1;33m\u001b[0m\u001b[0m\n\u001b[0;32m      4\u001b[0m     \u001b[0mhtml\u001b[0m \u001b[1;33m=\u001b[0m \u001b[0mrequests\u001b[0m\u001b[1;33m.\u001b[0m\u001b[0mget\u001b[0m\u001b[1;33m(\u001b[0m\u001b[0murl\u001b[0m\u001b[1;33m,\u001b[0m \u001b[0mparams\u001b[0m\u001b[1;33m=\u001b[0m\u001b[0mparams\u001b[0m\u001b[1;33m,\u001b[0m \u001b[0mheaders\u001b[0m\u001b[1;33m=\u001b[0m\u001b[0mheaders\u001b[0m\u001b[1;33m)\u001b[0m\u001b[1;33m\u001b[0m\u001b[0m\n\u001b[1;32m----> 5\u001b[1;33m     \u001b[0mdoc\u001b[0m \u001b[1;33m=\u001b[0m \u001b[0mBeautifulSoup\u001b[0m\u001b[1;33m(\u001b[0m\u001b[0mhtml\u001b[0m\u001b[1;33m.\u001b[0m\u001b[0mtext\u001b[0m\u001b[1;33m,\u001b[0m \u001b[1;34m\"lxml\"\u001b[0m\u001b[1;33m)\u001b[0m\u001b[1;33m\u001b[0m\u001b[0m\n\u001b[0m\u001b[0;32m      6\u001b[0m     \u001b[0mkk\u001b[0m \u001b[1;33m=\u001b[0m \u001b[0mdoc\u001b[0m\u001b[1;33m.\u001b[0m\u001b[0mselect\u001b[0m\u001b[1;33m(\u001b[0m\u001b[1;34m\"#subwayStationBody_0 dl.coll_dl\"\u001b[0m\u001b[1;33m)\u001b[0m\u001b[1;33m\u001b[0m\u001b[0m\n\u001b[0;32m      7\u001b[0m     \u001b[0mflag\u001b[0m\u001b[1;33m=\u001b[0m\u001b[1;36m0\u001b[0m\u001b[1;33m\u001b[0m\u001b[0m\n",
      "\u001b[1;32m~\\Anaconda3\\lib\\site-packages\\bs4\\__init__.py\u001b[0m in \u001b[0;36m__init__\u001b[1;34m(self, markup, features, builder, parse_only, from_encoding, exclude_encodings, **kwargs)\u001b[0m\n\u001b[0;32m    226\u001b[0m             \u001b[0mself\u001b[0m\u001b[1;33m.\u001b[0m\u001b[0mreset\u001b[0m\u001b[1;33m(\u001b[0m\u001b[1;33m)\u001b[0m\u001b[1;33m\u001b[0m\u001b[0m\n\u001b[0;32m    227\u001b[0m             \u001b[1;32mtry\u001b[0m\u001b[1;33m:\u001b[0m\u001b[1;33m\u001b[0m\u001b[0m\n\u001b[1;32m--> 228\u001b[1;33m                 \u001b[0mself\u001b[0m\u001b[1;33m.\u001b[0m\u001b[0m_feed\u001b[0m\u001b[1;33m(\u001b[0m\u001b[1;33m)\u001b[0m\u001b[1;33m\u001b[0m\u001b[0m\n\u001b[0m\u001b[0;32m    229\u001b[0m                 \u001b[1;32mbreak\u001b[0m\u001b[1;33m\u001b[0m\u001b[0m\n\u001b[0;32m    230\u001b[0m             \u001b[1;32mexcept\u001b[0m \u001b[0mParserRejectedMarkup\u001b[0m\u001b[1;33m:\u001b[0m\u001b[1;33m\u001b[0m\u001b[0m\n",
      "\u001b[1;32m~\\Anaconda3\\lib\\site-packages\\bs4\\__init__.py\u001b[0m in \u001b[0;36m_feed\u001b[1;34m(self)\u001b[0m\n\u001b[0;32m    287\u001b[0m         \u001b[0mself\u001b[0m\u001b[1;33m.\u001b[0m\u001b[0mbuilder\u001b[0m\u001b[1;33m.\u001b[0m\u001b[0mreset\u001b[0m\u001b[1;33m(\u001b[0m\u001b[1;33m)\u001b[0m\u001b[1;33m\u001b[0m\u001b[0m\n\u001b[0;32m    288\u001b[0m \u001b[1;33m\u001b[0m\u001b[0m\n\u001b[1;32m--> 289\u001b[1;33m         \u001b[0mself\u001b[0m\u001b[1;33m.\u001b[0m\u001b[0mbuilder\u001b[0m\u001b[1;33m.\u001b[0m\u001b[0mfeed\u001b[0m\u001b[1;33m(\u001b[0m\u001b[0mself\u001b[0m\u001b[1;33m.\u001b[0m\u001b[0mmarkup\u001b[0m\u001b[1;33m)\u001b[0m\u001b[1;33m\u001b[0m\u001b[0m\n\u001b[0m\u001b[0;32m    290\u001b[0m         \u001b[1;31m# Close out any unfinished strings and close all the open tags.\u001b[0m\u001b[1;33m\u001b[0m\u001b[1;33m\u001b[0m\u001b[0m\n\u001b[0;32m    291\u001b[0m         \u001b[0mself\u001b[0m\u001b[1;33m.\u001b[0m\u001b[0mendData\u001b[0m\u001b[1;33m(\u001b[0m\u001b[1;33m)\u001b[0m\u001b[1;33m\u001b[0m\u001b[0m\n",
      "\u001b[1;32m~\\Anaconda3\\lib\\site-packages\\bs4\\builder\\_lxml.py\u001b[0m in \u001b[0;36mfeed\u001b[1;34m(self, markup)\u001b[0m\n\u001b[0;32m    249\u001b[0m             \u001b[0mself\u001b[0m\u001b[1;33m.\u001b[0m\u001b[0mparser\u001b[0m \u001b[1;33m=\u001b[0m \u001b[0mself\u001b[0m\u001b[1;33m.\u001b[0m\u001b[0mparser_for\u001b[0m\u001b[1;33m(\u001b[0m\u001b[0mencoding\u001b[0m\u001b[1;33m)\u001b[0m\u001b[1;33m\u001b[0m\u001b[0m\n\u001b[0;32m    250\u001b[0m             \u001b[0mself\u001b[0m\u001b[1;33m.\u001b[0m\u001b[0mparser\u001b[0m\u001b[1;33m.\u001b[0m\u001b[0mfeed\u001b[0m\u001b[1;33m(\u001b[0m\u001b[0mmarkup\u001b[0m\u001b[1;33m)\u001b[0m\u001b[1;33m\u001b[0m\u001b[0m\n\u001b[1;32m--> 251\u001b[1;33m             \u001b[0mself\u001b[0m\u001b[1;33m.\u001b[0m\u001b[0mparser\u001b[0m\u001b[1;33m.\u001b[0m\u001b[0mclose\u001b[0m\u001b[1;33m(\u001b[0m\u001b[1;33m)\u001b[0m\u001b[1;33m\u001b[0m\u001b[0m\n\u001b[0m\u001b[0;32m    252\u001b[0m         \u001b[1;32mexcept\u001b[0m \u001b[1;33m(\u001b[0m\u001b[0mUnicodeDecodeError\u001b[0m\u001b[1;33m,\u001b[0m \u001b[0mLookupError\u001b[0m\u001b[1;33m,\u001b[0m \u001b[0metree\u001b[0m\u001b[1;33m.\u001b[0m\u001b[0mParserError\u001b[0m\u001b[1;33m)\u001b[0m \u001b[1;32mas\u001b[0m \u001b[0me\u001b[0m\u001b[1;33m:\u001b[0m\u001b[1;33m\u001b[0m\u001b[0m\n\u001b[0;32m    253\u001b[0m             \u001b[1;32mraise\u001b[0m \u001b[0mParserRejectedMarkup\u001b[0m\u001b[1;33m(\u001b[0m\u001b[0mstr\u001b[0m\u001b[1;33m(\u001b[0m\u001b[0me\u001b[0m\u001b[1;33m)\u001b[0m\u001b[1;33m)\u001b[0m\u001b[1;33m\u001b[0m\u001b[0m\n",
      "\u001b[1;32msrc/lxml/parser.pxi\u001b[0m in \u001b[0;36mlxml.etree._FeedParser.close\u001b[1;34m()\u001b[0m\n",
      "\u001b[1;32msrc/lxml/parser.pxi\u001b[0m in \u001b[0;36mlxml.etree._FeedParser.close\u001b[1;34m()\u001b[0m\n",
      "\u001b[1;32msrc/lxml/parsertarget.pxi\u001b[0m in \u001b[0;36mlxml.etree._TargetParserContext._handleParseResult\u001b[1;34m()\u001b[0m\n",
      "\u001b[1;32msrc/lxml/parsertarget.pxi\u001b[0m in \u001b[0;36mlxml.etree._TargetParserContext._handleParseResult\u001b[1;34m()\u001b[0m\n",
      "\u001b[1;32msrc/lxml/etree.pyx\u001b[0m in \u001b[0;36mlxml.etree._ExceptionContext._raise_if_stored\u001b[1;34m()\u001b[0m\n",
      "\u001b[1;32msrc/lxml/saxparser.pxi\u001b[0m in \u001b[0;36mlxml.etree._handleSaxTargetStartNoNs\u001b[1;34m()\u001b[0m\n",
      "\u001b[1;32msrc/lxml/saxparser.pxi\u001b[0m in \u001b[0;36mlxml.etree._callTargetSaxStart\u001b[1;34m()\u001b[0m\n",
      "\u001b[1;32msrc/lxml/parsertarget.pxi\u001b[0m in \u001b[0;36mlxml.etree._PythonSaxParserTarget._handleSaxStart\u001b[1;34m()\u001b[0m\n",
      "\u001b[1;32m~\\Anaconda3\\lib\\site-packages\\bs4\\builder\\_lxml.py\u001b[0m in \u001b[0;36mstart\u001b[1;34m(self, name, attrs, nsmap)\u001b[0m\n\u001b[0;32m    181\u001b[0m         \u001b[0mnamespace\u001b[0m\u001b[1;33m,\u001b[0m \u001b[0mname\u001b[0m \u001b[1;33m=\u001b[0m \u001b[0mself\u001b[0m\u001b[1;33m.\u001b[0m\u001b[0m_getNsTag\u001b[0m\u001b[1;33m(\u001b[0m\u001b[0mname\u001b[0m\u001b[1;33m)\u001b[0m\u001b[1;33m\u001b[0m\u001b[0m\n\u001b[0;32m    182\u001b[0m         \u001b[0mnsprefix\u001b[0m \u001b[1;33m=\u001b[0m \u001b[0mself\u001b[0m\u001b[1;33m.\u001b[0m\u001b[0m_prefix_for_namespace\u001b[0m\u001b[1;33m(\u001b[0m\u001b[0mnamespace\u001b[0m\u001b[1;33m)\u001b[0m\u001b[1;33m\u001b[0m\u001b[0m\n\u001b[1;32m--> 183\u001b[1;33m         \u001b[0mself\u001b[0m\u001b[1;33m.\u001b[0m\u001b[0msoup\u001b[0m\u001b[1;33m.\u001b[0m\u001b[0mhandle_starttag\u001b[0m\u001b[1;33m(\u001b[0m\u001b[0mname\u001b[0m\u001b[1;33m,\u001b[0m \u001b[0mnamespace\u001b[0m\u001b[1;33m,\u001b[0m \u001b[0mnsprefix\u001b[0m\u001b[1;33m,\u001b[0m \u001b[0mattrs\u001b[0m\u001b[1;33m)\u001b[0m\u001b[1;33m\u001b[0m\u001b[0m\n\u001b[0m\u001b[0;32m    184\u001b[0m \u001b[1;33m\u001b[0m\u001b[0m\n\u001b[0;32m    185\u001b[0m     \u001b[1;32mdef\u001b[0m \u001b[0m_prefix_for_namespace\u001b[0m\u001b[1;33m(\u001b[0m\u001b[0mself\u001b[0m\u001b[1;33m,\u001b[0m \u001b[0mnamespace\u001b[0m\u001b[1;33m)\u001b[0m\u001b[1;33m:\u001b[0m\u001b[1;33m\u001b[0m\u001b[0m\n",
      "\u001b[1;32m~\\Anaconda3\\lib\\site-packages\\bs4\\__init__.py\u001b[0m in \u001b[0;36mhandle_starttag\u001b[1;34m(self, name, namespace, nsprefix, attrs)\u001b[0m\n\u001b[0;32m    455\u001b[0m \u001b[1;33m\u001b[0m\u001b[0m\n\u001b[0;32m    456\u001b[0m         \u001b[1;31m# print \"Start tag %s: %s\" % (name, attrs)\u001b[0m\u001b[1;33m\u001b[0m\u001b[1;33m\u001b[0m\u001b[0m\n\u001b[1;32m--> 457\u001b[1;33m         \u001b[0mself\u001b[0m\u001b[1;33m.\u001b[0m\u001b[0mendData\u001b[0m\u001b[1;33m(\u001b[0m\u001b[1;33m)\u001b[0m\u001b[1;33m\u001b[0m\u001b[0m\n\u001b[0m\u001b[0;32m    458\u001b[0m \u001b[1;33m\u001b[0m\u001b[0m\n\u001b[0;32m    459\u001b[0m         if (self.parse_only and len(self.tagStack) <= 1\n",
      "\u001b[1;32m~\\Anaconda3\\lib\\site-packages\\bs4\\__init__.py\u001b[0m in \u001b[0;36mendData\u001b[1;34m(self, containerClass)\u001b[0m\n\u001b[0;32m    362\u001b[0m                 \u001b[1;32mreturn\u001b[0m\u001b[1;33m\u001b[0m\u001b[0m\n\u001b[0;32m    363\u001b[0m \u001b[1;33m\u001b[0m\u001b[0m\n\u001b[1;32m--> 364\u001b[1;33m             \u001b[0mo\u001b[0m \u001b[1;33m=\u001b[0m \u001b[0mcontainerClass\u001b[0m\u001b[1;33m(\u001b[0m\u001b[0mcurrent_data\u001b[0m\u001b[1;33m)\u001b[0m\u001b[1;33m\u001b[0m\u001b[0m\n\u001b[0m\u001b[0;32m    365\u001b[0m             \u001b[0mself\u001b[0m\u001b[1;33m.\u001b[0m\u001b[0mobject_was_parsed\u001b[0m\u001b[1;33m(\u001b[0m\u001b[0mo\u001b[0m\u001b[1;33m)\u001b[0m\u001b[1;33m\u001b[0m\u001b[0m\n\u001b[0;32m    366\u001b[0m \u001b[1;33m\u001b[0m\u001b[0m\n",
      "\u001b[1;32m~\\Anaconda3\\lib\\site-packages\\bs4\\element.py\u001b[0m in \u001b[0;36m__new__\u001b[1;34m(cls, value)\u001b[0m\n\u001b[0;32m    714\u001b[0m         \u001b[1;32melse\u001b[0m\u001b[1;33m:\u001b[0m\u001b[1;33m\u001b[0m\u001b[0m\n\u001b[0;32m    715\u001b[0m             \u001b[0mu\u001b[0m \u001b[1;33m=\u001b[0m \u001b[0mstr\u001b[0m\u001b[1;33m.\u001b[0m\u001b[0m__new__\u001b[0m\u001b[1;33m(\u001b[0m\u001b[0mcls\u001b[0m\u001b[1;33m,\u001b[0m \u001b[0mvalue\u001b[0m\u001b[1;33m,\u001b[0m \u001b[0mDEFAULT_OUTPUT_ENCODING\u001b[0m\u001b[1;33m)\u001b[0m\u001b[1;33m\u001b[0m\u001b[0m\n\u001b[1;32m--> 716\u001b[1;33m         \u001b[0mu\u001b[0m\u001b[1;33m.\u001b[0m\u001b[0msetup\u001b[0m\u001b[1;33m(\u001b[0m\u001b[1;33m)\u001b[0m\u001b[1;33m\u001b[0m\u001b[0m\n\u001b[0m\u001b[0;32m    717\u001b[0m         \u001b[1;32mreturn\u001b[0m \u001b[0mu\u001b[0m\u001b[1;33m\u001b[0m\u001b[0m\n\u001b[0;32m    718\u001b[0m \u001b[1;33m\u001b[0m\u001b[0m\n",
      "\u001b[1;31mKeyboardInterrupt\u001b[0m: "
     ]
    }
   ],
   "source": [
    "for subway in name_list:\n",
    "    count=count+1\n",
    "    params = {'q':subway}\n",
    "    html = requests.get(url, params=params, headers=headers) \n",
    "    doc = BeautifulSoup(html.text, \"lxml\")\n",
    "    kk = doc.select(\"#subwayStationBody_0 dl.coll_dl\")\n",
    "    flag=0\n",
    "    for i in kk:\n",
    "        if '주소' in i.text :\n",
    "            list_= i.text.split()\n",
    "    for i in list_:\n",
    "        if i.endswith('구'):\n",
    "            flag=1\n",
    "            print(i)\n",
    "            print(count)\n",
    "            sub_address_list.append(i)\n",
    "    if flag!=1:\n",
    "        sub_address_list.append(\"null\")"
   ]
  },
  {
   "cell_type": "code",
   "execution_count": null,
   "metadata": {},
   "outputs": [],
   "source": [
    "sub_address_list"
   ]
  },
  {
   "cell_type": "code",
   "execution_count": 150,
   "metadata": {
    "scrolled": true
   },
   "outputs": [],
   "source": [
    "html = requests.get(url, params=params, headers=headers) "
   ]
  },
  {
   "cell_type": "code",
   "execution_count": 152,
   "metadata": {
    "scrolled": true
   },
   "outputs": [],
   "source": [
    "doc = BeautifulSoup(html.text, \"lxml\")"
   ]
  },
  {
   "cell_type": "code",
   "execution_count": 154,
   "metadata": {},
   "outputs": [],
   "source": [
    "kk = doc.select(\"#subwayStationBody_0 dl.coll_dl\")"
   ]
  },
  {
   "cell_type": "code",
   "execution_count": 246,
   "metadata": {},
   "outputs": [
    {
     "name": "stdout",
     "output_type": "stream",
     "text": [
      "t\n",
      "t\n",
      "성북구\n",
      "t\n",
      "t\n"
     ]
    }
   ],
   "source": [
    "for i in kk:\n",
    "    flag = 0 \n",
    "    if '주소' in i.text :\n",
    "        list_= i.text.split()\n",
    "for i in list_:\n",
    "    if i.endswith('구'):\n",
    "        print(i)\n",
    "    else:\n",
    "        print('t')"
   ]
  },
  {
   "cell_type": "code",
   "execution_count": 238,
   "metadata": {},
   "outputs": [
    {
     "data": {
      "text/plain": [
       "['주소', '서울특별시', '성북구', '종암로', '1']"
      ]
     },
     "execution_count": 238,
     "metadata": {},
     "output_type": "execute_result"
    }
   ],
   "source": [
    "list_"
   ]
  },
  {
   "cell_type": "code",
   "execution_count": 240,
   "metadata": {},
   "outputs": [],
   "source": [
    "if i.find('구') in list_:\n",
    "    print('d')"
   ]
  },
  {
   "cell_type": "code",
   "execution_count": 200,
   "metadata": {},
   "outputs": [
    {
     "data": {
      "text/plain": [
       "1"
      ]
     },
     "execution_count": 200,
     "metadata": {},
     "output_type": "execute_result"
    }
   ],
   "source": [
    "fuck_flag"
   ]
  },
  {
   "cell_type": "code",
   "execution_count": 205,
   "metadata": {},
   "outputs": [
    {
     "name": "stdout",
     "output_type": "stream",
     "text": [
      "종로구\n"
     ]
    }
   ],
   "source": [
    "for i in kk:\n",
    "    flag = 0 \n",
    "    if '주소' in i.text :\n",
    "        list_= i.text.split()\n",
    "for i in list_:\n",
    "    if i.endswith('구'):\n",
    "        print(i)\n",
    "        flag = 1\n",
    "        if flag!=1:\n",
    "            print('shit')"
   ]
  },
  {
   "cell_type": "code",
   "execution_count": 70,
   "metadata": {},
   "outputs": [],
   "source": [
    "div = doc.find(\"div\", id=\"snb\")\n",
    "#ff  = div.get_text()\n"
   ]
  },
  {
   "cell_type": "code",
   "execution_count": 80,
   "metadata": {},
   "outputs": [
    {
     "data": {
      "text/plain": [
       "[<div id=\"snb\">\n",
       " <a class=\"weather nclicks(mtw.weather)\" href=\"#\" style=\"display:none\" target=\"_blank\">\n",
       " <h3 class=\"blind\">날씨</h3>\n",
       " <span class=\"spm_ws spm_ws1\" style=\"display:none;\" title=\"\"></span>\n",
       " <span class=\"degree\" style=\"display:none;\"><em></em><span class=\"degree_unit\">°</span>c</span>\n",
       " </a>\n",
       " <a class=\"content_curr nclicks(mtw.adrclose)\" href=\"#\" style=\"display:none\">\n",
       " <h1></h1>\n",
       " <span class=\"spm spm_smore\">현재주소 변경 레이어 열기</span>\n",
       " </a>\n",
       " <div class=\"ly_location\" style=\"display:none\">\n",
       " <h3 class=\"blind\">현재주소 변경 레이어</h3>\n",
       " <div class=\"scrl scrl_first\">\n",
       " <h4 class=\"blind\">시,도 선택</h4>\n",
       " <ul></ul>\n",
       " </div>\n",
       " <div class=\"scrl scrl_second\">\n",
       " <h4 class=\"blind\">군,구 선택</h4>\n",
       " <ul></ul>\n",
       " </div>\n",
       " <div class=\"scrl scrl_third\">\n",
       " <h4 class=\"blind\">지역선택</h4>\n",
       " <ul></ul>\n",
       " <p class=\"not_select\" style=\"display:block\"><span class=\"spm spm_snotsel\">선택된 시·군·구 지역이 없습니다.</span></p>\n",
       " </div>\n",
       " <div class=\"ly_location_act\">\n",
       " <a class=\"spm spm_scheck nclicks(mtw.adrok)\" href=\"#\">선택한 주소 적용하고 레이어 닫기</a>\n",
       " <a class=\"spm spm_scancel nclicks(mtw.adrcancel)\" href=\"#\">현재주소 변경 취소하고 레이어 닫기</a>\n",
       " </div>\n",
       " <div class=\"opac_line\"></div>\n",
       " </div>\n",
       " <div class=\"sel_subject\">\n",
       " <h3 class=\"blind\">주제별 지도 보기</h3>\n",
       " <ul>\n",
       " <li><a class=\"spm spm_s_traffic\" data-topic=\"traffic\" href=\"#\">교통상황</a></li>\n",
       " <li><a class=\"spm spm_s_cctv\" data-topic=\"cctv\" href=\"#\">CCTV</a></li>\n",
       " <li><a class=\"spm spm_s_bicycle\" data-topic=\"bicycle\" href=\"#\">자전거</a></li>\n",
       " <li>\n",
       " <a class=\"spm spm_s_weather\" data-topic=\"weather\" href=\"#\">날씨</a>\n",
       " <div class=\"ly_ssel ly_ssel_weather\" style=\"display:none;\">\n",
       " <ul>\n",
       " <li><input class=\"input_chk\" data-weather_type=\"wth\" id=\"mTop5ly21\" type=\"checkbox\"/><label class=\"lb_chk\" for=\"mTop5ly21\">기상정보</label></li>\n",
       " <li><input class=\"input_chk\" data-weather_type=\"wnd\" id=\"mTop5ly22\" type=\"checkbox\"/><label class=\"lb_chk\" for=\"mTop5ly22\">풍향풍속</label></li>\n",
       " <li><input class=\"input_chk\" data-weather_type=\"rdt\" id=\"mTop5ly23\" type=\"checkbox\"/><label class=\"lb_chk\" for=\"mTop5ly23\">방사선 수치</label></li>\n",
       " </ul>\n",
       " <span class=\"spm spm_arrow_up\"></span>\n",
       " <span class=\"opac_line\"></span>\n",
       " </div>\n",
       " </li>\n",
       " <li>\n",
       " <a class=\"spm spm_s_cadastral\" data-topic=\"cadastral\" href=\"#\">지적편집도</a>\n",
       " </li>\n",
       " </ul>\n",
       " </div>\n",
       " <div class=\"sel_satellite\">\n",
       " <h3 class=\"blind\">일반/위성 지도 선택</h3>\n",
       " <ul>\n",
       " <li>\n",
       " <a class=\"spm spm_s_default nclicks(mts.normal)\" data-map_type=\"vector\" href=\"#\">일반</a>\n",
       " <div class=\"ly_ssel ly_ssel_basic\" style=\"display:none\">\n",
       " <p><input class=\"input_chk\" data-map_type=\"terrain\" id=\"chk_basic\" type=\"checkbox\"/><label class=\"lb_chk\" for=\"chk_basic\">지형도</label></p>\n",
       " <span class=\"spm spm_arrow_up\"></span>\n",
       " <span class=\"opac_line\"></span>\n",
       " </div>\n",
       " </li>\n",
       " <li>\n",
       " <a class=\"spm spm_s_satellite nclicks(mts.satellite)\" data-map_type=\"satellite\" href=\"#\">위성</a>\n",
       " <div class=\"ly_ssel ly_ssel_satellite\" style=\"display:none\">\n",
       " <p><input class=\"input_chk\" data-map_type=\"hybrid\" id=\"chk_hybrid\" type=\"checkbox\"/><label class=\"lb_chk\" for=\"chk_hybrid\">겹쳐보기</label></p>\n",
       " <span class=\"spm spm_arrow_up\"></span>\n",
       " <span class=\"opac_line\"></span>\n",
       " </div>\n",
       " </li>\n",
       " </ul>\n",
       " </div>\n",
       " <!-- [D] : 브라우져창 사이즈 1486 이상일경우 snb_subway1486 추가 -->\n",
       " <div class=\"snb_subway\" style=\"display:none\">\n",
       " <h5 class=\"blind\">노선 선택</h5>\n",
       " <!-- [D] : 버튼 딤드시 a태그 span으로 변경하고 spm_swy_prev_dimmed 추가 -->\n",
       " <div class=\"snb_swy_prev\"><a class=\"spm spm_swy_prev\" href=\"#\">이전</a></div>\n",
       " <div class=\"snb_roll_wrap\">\n",
       " <!-- [D] : left값 편의시설버튼 보일때까지 -px 로 조절 -->\n",
       " <div class=\"snb_roll\" style=\"left:0px\">\n",
       " <ul></ul>\n",
       " </div>\n",
       " </div>\n",
       " <!-- [D] : 버튼 딤드시 a태그 span으로 변경하고 spm_swy_next_dimmed 추가 -->\n",
       " <div class=\"snb_swy_next\"><span class=\"spm spm_swy_next spm_swy_next_dimmed\">다음</span></div>\n",
       " </div>\n",
       " <div class=\"snb_swy_comfor\" style=\"display:none\">\n",
       " <a class=\"spm spm_color\" href=\"#\">색약</a>\n",
       " <a class=\"spm spm_comfor\" href=\"#\">편의시설</a>\n",
       " </div>\n",
       " <div class=\"snb_line\"></div>\n",
       " </div>]"
      ]
     },
     "execution_count": 80,
     "metadata": {},
     "output_type": "execute_result"
    }
   ],
   "source": [
    "doc.select(\"#snb\")"
   ]
  },
  {
   "cell_type": "code",
   "execution_count": 73,
   "metadata": {},
   "outputs": [
    {
     "data": {
      "text/plain": [
       "[<a class=\"weather nclicks(mtw.weather)\" href=\"#\" style=\"display:none\" target=\"_blank\">\n",
       " <h3 class=\"blind\">날씨</h3>\n",
       " <span class=\"spm_ws spm_ws1\" style=\"display:none;\" title=\"\"></span>\n",
       " <span class=\"degree\" style=\"display:none;\"><em></em><span class=\"degree_unit\">°</span>c</span>\n",
       " </a>,\n",
       " <a class=\"content_curr nclicks(mtw.adrclose)\" href=\"#\" style=\"display:none\">\n",
       " <h1></h1>\n",
       " <span class=\"spm spm_smore\">현재주소 변경 레이어 열기</span>\n",
       " </a>,\n",
       " <a class=\"spm spm_scheck nclicks(mtw.adrok)\" href=\"#\">선택한 주소 적용하고 레이어 닫기</a>,\n",
       " <a class=\"spm spm_scancel nclicks(mtw.adrcancel)\" href=\"#\">현재주소 변경 취소하고 레이어 닫기</a>,\n",
       " <a class=\"spm spm_s_traffic\" data-topic=\"traffic\" href=\"#\">교통상황</a>,\n",
       " <a class=\"spm spm_s_cctv\" data-topic=\"cctv\" href=\"#\">CCTV</a>,\n",
       " <a class=\"spm spm_s_bicycle\" data-topic=\"bicycle\" href=\"#\">자전거</a>,\n",
       " <a class=\"spm spm_s_weather\" data-topic=\"weather\" href=\"#\">날씨</a>,\n",
       " <a class=\"spm spm_s_cadastral\" data-topic=\"cadastral\" href=\"#\">지적편집도</a>,\n",
       " <a class=\"spm spm_s_default nclicks(mts.normal)\" data-map_type=\"vector\" href=\"#\">일반</a>,\n",
       " <a class=\"spm spm_s_satellite nclicks(mts.satellite)\" data-map_type=\"satellite\" href=\"#\">위성</a>,\n",
       " <a class=\"spm spm_swy_prev\" href=\"#\">이전</a>,\n",
       " <a class=\"spm spm_color\" href=\"#\">색약</a>,\n",
       " <a class=\"spm spm_comfor\" href=\"#\">편의시설</a>]"
      ]
     },
     "execution_count": 73,
     "metadata": {},
     "output_type": "execute_result"
    }
   ],
   "source": [
    "div.findAll('a')"
   ]
  },
  {
   "cell_type": "code",
   "execution_count": 67,
   "metadata": {},
   "outputs": [
    {
     "ename": "AttributeError",
     "evalue": "'NoneType' object has no attribute 'findAll'",
     "output_type": "error",
     "traceback": [
      "\u001b[1;31m---------------------------------------------------------------------------\u001b[0m",
      "\u001b[1;31mAttributeError\u001b[0m                            Traceback (most recent call last)",
      "\u001b[1;32m<ipython-input-67-94560fc8be97>\u001b[0m in \u001b[0;36m<module>\u001b[1;34m()\u001b[0m\n\u001b[1;32m----> 1\u001b[1;33m \u001b[0mk\u001b[0m \u001b[1;33m=\u001b[0m \u001b[0mli\u001b[0m\u001b[1;33m.\u001b[0m\u001b[0mfindAll\u001b[0m\u001b[1;33m(\u001b[0m\u001b[1;34m'span'\u001b[0m\u001b[1;33m)\u001b[0m\u001b[1;33m\u001b[0m\u001b[0m\n\u001b[0m",
      "\u001b[1;31mAttributeError\u001b[0m: 'NoneType' object has no attribute 'findAll'"
     ]
    }
   ],
   "source": [
    "k = li.findAll('span')"
   ]
  },
  {
   "cell_type": "code",
   "execution_count": 60,
   "metadata": {},
   "outputs": [
    {
     "data": {
      "text/plain": [
       "'성북구'"
      ]
     },
     "execution_count": 60,
     "metadata": {},
     "output_type": "execute_result"
    }
   ],
   "source": [
    "k[4].text.split(\" \")[1]"
   ]
  },
  {
   "cell_type": "code",
   "execution_count": 36,
   "metadata": {},
   "outputs": [],
   "source": [
    "k  =ff.split(\" \")"
   ]
  },
  {
   "cell_type": "code",
   "execution_count": 39,
   "metadata": {},
   "outputs": [
    {
     "data": {
      "text/plain": [
       "['',\n",
       " '',\n",
       " 'A',\n",
       " '',\n",
       " '',\n",
       " '안암역',\n",
       " '6호선',\n",
       " '',\n",
       " '',\n",
       " '',\n",
       " '보내기',\n",
       " '',\n",
       " '',\n",
       " '02-6311-6391서울',\n",
       " '성북구',\n",
       " '인촌로',\n",
       " '89',\n",
       " '열기서울',\n",
       " '성북구',\n",
       " '인촌로',\n",
       " '89지번서울',\n",
       " '성북구',\n",
       " '안암동5가',\n",
       " '146-1',\n",
       " '',\n",
       " '']"
      ]
     },
     "execution_count": 39,
     "metadata": {},
     "output_type": "execute_result"
    }
   ],
   "source": [
    "k"
   ]
  },
  {
   "cell_type": "code",
   "execution_count": null,
   "metadata": {},
   "outputs": [],
   "source": [
    "headers = {\n",
    "    \"user-agent\" : \"Mozilla/5.0 (Windows NT 10.0; Win64; x64) AppleWebKit/537.36 (KHTML, like Gecko) Chrome/67.0.3396.99 Safari/537.36\",\n",
    "    \"accept-encoding\": \"false\" \n",
    "}\n",
    "#인코딩을 니가하지말고 내가하겠다, 즉 순수 바이트만 달라. 라는옵션추가함."
   ]
  },
  {
   "cell_type": "code",
   "execution_count": 57,
   "metadata": {},
   "outputs": [],
   "source": [
    "def getUrl(url,params=None,select = \"a\", num_retries=2): # header 정보는 위에서 설정했으니까 필요가없을거같고.\n",
    "    html = requests.get(url, params=params, headers=headers) \n",
    "    \n",
    "    #responce 객체인 html 에 는 status_code 가 있다 . 에러 코드.\n",
    "    if 500<=html.status_code<600 and num_retries>0:\n",
    "        print(html.status_code,html.reason)\n",
    "        return getURl(url,params,num_retries-1)\n",
    "    \n",
    "    dom = BeautifulSoup(html.text,\"html.parser\")\n",
    "    links = dom.select(select)\n",
    "    return [link[\"href\"]for link in links if link.has_attr(\"href\") == True] # 링크에 href 속성이있으면  href 속성을 가지고 리스트를 만들어서 return\n"
   ]
  },
  {
   "cell_type": "code",
   "execution_count": null,
   "metadata": {},
   "outputs": [],
   "source": [
    "seed = \"http://www.ppomppu.co.kr/zboard/zboard.php?id=freeboard\"\n",
    "\n",
    "getUrl(seed,params)\n",
    "\n"
   ]
  },
  {
   "cell_type": "code",
   "execution_count": null,
   "metadata": {},
   "outputs": [],
   "source": []
  },
  {
   "cell_type": "code",
   "execution_count": 14,
   "metadata": {},
   "outputs": [],
   "source": [
    "jt_subway_place.lat.fillna(value=0,inplace=True)"
   ]
  },
  {
   "cell_type": "code",
   "execution_count": 36,
   "metadata": {},
   "outputs": [],
   "source": [
    "zero_ = list(0 for i in range(3))"
   ]
  },
  {
   "cell_type": "code",
   "execution_count": 38,
   "metadata": {},
   "outputs": [],
   "source": [
    "se= pd.Series(zero_)"
   ]
  },
  {
   "cell_type": "code",
   "execution_count": 40,
   "metadata": {},
   "outputs": [
    {
     "data": {
      "text/plain": [
       "0    0\n",
       "1    0\n",
       "2    0\n",
       "dtype: int64"
      ]
     },
     "execution_count": 40,
     "metadata": {},
     "output_type": "execute_result"
    }
   ],
   "source": [
    "se"
   ]
  },
  {
   "cell_type": "code",
   "execution_count": 46,
   "metadata": {},
   "outputs": [
    {
     "name": "stderr",
     "output_type": "stream",
     "text": [
      "C:\\Users\\user\\Anaconda3\\lib\\site-packages\\ipykernel_launcher.py:1: SettingWithCopyWarning: \n",
      "A value is trying to be set on a copy of a slice from a DataFrame.\n",
      "Try using .loc[row_indexer,col_indexer] = value instead\n",
      "\n",
      "See the caveats in the documentation: http://pandas.pydata.org/pandas-docs/stable/indexing.html#indexing-view-versus-copy\n",
      "  \"\"\"Entry point for launching an IPython kernel.\n"
     ]
    }
   ],
   "source": [
    "jt_subway_place[jt_subway_place.lat.str.contains('[ㄱ-ㅎ가-힣ㅏ-ㅢ]')]['lat'] = se"
   ]
  },
  {
   "cell_type": "code",
   "execution_count": 41,
   "metadata": {},
   "outputs": [],
   "source": [
    "jt_subway_place.drop([80],inplace=True)\n",
    "jt_subway_place.drop([131],inplace=True)\n",
    "jt_subway_place.drop([165],inplace=True)"
   ]
  },
  {
   "cell_type": "code",
   "execution_count": 42,
   "metadata": {},
   "outputs": [
    {
     "data": {
      "text/html": [
       "<div>\n",
       "<style scoped>\n",
       "    .dataframe tbody tr th:only-of-type {\n",
       "        vertical-align: middle;\n",
       "    }\n",
       "\n",
       "    .dataframe tbody tr th {\n",
       "        vertical-align: top;\n",
       "    }\n",
       "\n",
       "    .dataframe thead th {\n",
       "        text-align: right;\n",
       "    }\n",
       "</style>\n",
       "<table border=\"1\" class=\"dataframe\">\n",
       "  <thead>\n",
       "    <tr style=\"text-align: right;\">\n",
       "      <th></th>\n",
       "      <th>Unnamed: 0</th>\n",
       "      <th>place_name</th>\n",
       "      <th>place_id</th>\n",
       "      <th>lat</th>\n",
       "      <th>lon</th>\n",
       "      <th>category</th>\n",
       "    </tr>\n",
       "  </thead>\n",
       "  <tbody>\n",
       "  </tbody>\n",
       "</table>\n",
       "</div>"
      ],
      "text/plain": [
       "Empty DataFrame\n",
       "Columns: [Unnamed: 0, place_name, place_id, lat, lon, category]\n",
       "Index: []"
      ]
     },
     "execution_count": 42,
     "metadata": {},
     "output_type": "execute_result"
    }
   ],
   "source": [
    "jt_subway_place[jt_subway_place.lat.str.contains('[ㄱ-ㅎ가-힣ㅏ-ㅢ]')]"
   ]
  },
  {
   "cell_type": "code",
   "execution_count": null,
   "metadata": {},
   "outputs": [],
   "source": []
  },
  {
   "cell_type": "code",
   "execution_count": null,
   "metadata": {},
   "outputs": [],
   "source": []
  },
  {
   "cell_type": "code",
   "execution_count": 43,
   "metadata": {},
   "outputs": [
    {
     "name": "stdout",
     "output_type": "stream",
     "text": [
      "<class 'pandas.core.frame.DataFrame'>\n",
      "Int64Index: 321 entries, 0 to 323\n",
      "Data columns (total 6 columns):\n",
      "Unnamed: 0    321 non-null int64\n",
      "place_name    321 non-null object\n",
      "place_id      321 non-null int64\n",
      "lat           321 non-null object\n",
      "lon           321 non-null object\n",
      "category      321 non-null object\n",
      "dtypes: int64(2), object(4)\n",
      "memory usage: 17.6+ KB\n"
     ]
    }
   ],
   "source": [
    "jt_subway_place.info()"
   ]
  },
  {
   "cell_type": "code",
   "execution_count": 44,
   "metadata": {},
   "outputs": [],
   "source": [
    "jt_subway_place.lat =jt_subway_place.lat.astype('float64')\n",
    "jt_subway_place.lon =jt_subway_place.lon.astype('float64') # 타입"
   ]
  },
  {
   "cell_type": "code",
   "execution_count": 45,
   "metadata": {},
   "outputs": [
    {
     "name": "stdout",
     "output_type": "stream",
     "text": [
      "<class 'pandas.core.frame.DataFrame'>\n",
      "Int64Index: 321 entries, 0 to 323\n",
      "Data columns (total 6 columns):\n",
      "Unnamed: 0    321 non-null int64\n",
      "place_name    321 non-null object\n",
      "place_id      321 non-null int64\n",
      "lat           321 non-null float64\n",
      "lon           321 non-null float64\n",
      "category      321 non-null object\n",
      "dtypes: float64(2), int64(2), object(2)\n",
      "memory usage: 17.6+ KB\n"
     ]
    }
   ],
   "source": [
    "jt_subway_place.info()"
   ]
  },
  {
   "cell_type": "code",
   "execution_count": 46,
   "metadata": {},
   "outputs": [],
   "source": [
    "import numpy as np"
   ]
  },
  {
   "cell_type": "code",
   "execution_count": 47,
   "metadata": {},
   "outputs": [],
   "source": [
    "jt_subway_place['place_address']= np.nan"
   ]
  },
  {
   "cell_type": "code",
   "execution_count": 48,
   "metadata": {},
   "outputs": [
    {
     "data": {
      "text/html": [
       "<div>\n",
       "<style scoped>\n",
       "    .dataframe tbody tr th:only-of-type {\n",
       "        vertical-align: middle;\n",
       "    }\n",
       "\n",
       "    .dataframe tbody tr th {\n",
       "        vertical-align: top;\n",
       "    }\n",
       "\n",
       "    .dataframe thead th {\n",
       "        text-align: right;\n",
       "    }\n",
       "</style>\n",
       "<table border=\"1\" class=\"dataframe\">\n",
       "  <thead>\n",
       "    <tr style=\"text-align: right;\">\n",
       "      <th></th>\n",
       "      <th>Unnamed: 0</th>\n",
       "      <th>place_name</th>\n",
       "      <th>place_id</th>\n",
       "      <th>lat</th>\n",
       "      <th>lon</th>\n",
       "      <th>category</th>\n",
       "      <th>place_address</th>\n",
       "    </tr>\n",
       "  </thead>\n",
       "  <tbody>\n",
       "    <tr>\n",
       "      <th>0</th>\n",
       "      <td>0</td>\n",
       "      <td>가락시장</td>\n",
       "      <td>0</td>\n",
       "      <td>37.492317</td>\n",
       "      <td>127.118104</td>\n",
       "      <td>subway</td>\n",
       "      <td>NaN</td>\n",
       "    </tr>\n",
       "    <tr>\n",
       "      <th>1</th>\n",
       "      <td>1</td>\n",
       "      <td>가산디지털단지</td>\n",
       "      <td>1</td>\n",
       "      <td>37.480890</td>\n",
       "      <td>126.882574</td>\n",
       "      <td>subway</td>\n",
       "      <td>NaN</td>\n",
       "    </tr>\n",
       "    <tr>\n",
       "      <th>2</th>\n",
       "      <td>2</td>\n",
       "      <td>간석</td>\n",
       "      <td>2</td>\n",
       "      <td>37.464689</td>\n",
       "      <td>126.693408</td>\n",
       "      <td>subway</td>\n",
       "      <td>NaN</td>\n",
       "    </tr>\n",
       "    <tr>\n",
       "      <th>3</th>\n",
       "      <td>3</td>\n",
       "      <td>강남</td>\n",
       "      <td>3</td>\n",
       "      <td>37.497942</td>\n",
       "      <td>127.027621</td>\n",
       "      <td>subway</td>\n",
       "      <td>NaN</td>\n",
       "    </tr>\n",
       "    <tr>\n",
       "      <th>4</th>\n",
       "      <td>4</td>\n",
       "      <td>강남구청</td>\n",
       "      <td>4</td>\n",
       "      <td>37.517473</td>\n",
       "      <td>127.041168</td>\n",
       "      <td>subway</td>\n",
       "      <td>NaN</td>\n",
       "    </tr>\n",
       "  </tbody>\n",
       "</table>\n",
       "</div>"
      ],
      "text/plain": [
       "   Unnamed: 0 place_name  place_id        lat         lon category  \\\n",
       "0           0       가락시장         0  37.492317  127.118104   subway   \n",
       "1           1    가산디지털단지         1  37.480890  126.882574   subway   \n",
       "2           2         간석         2  37.464689  126.693408   subway   \n",
       "3           3         강남         3  37.497942  127.027621   subway   \n",
       "4           4       강남구청         4  37.517473  127.041168   subway   \n",
       "\n",
       "   place_address  \n",
       "0            NaN  \n",
       "1            NaN  \n",
       "2            NaN  \n",
       "3            NaN  \n",
       "4            NaN  "
      ]
     },
     "execution_count": 48,
     "metadata": {},
     "output_type": "execute_result"
    }
   ],
   "source": [
    "jt_subway_place.head()"
   ]
  },
  {
   "cell_type": "code",
   "execution_count": 49,
   "metadata": {},
   "outputs": [
    {
     "data": {
      "text/plain": [
       "Unnamed: 0         0\n",
       "place_name         0\n",
       "place_id           0\n",
       "lat                0\n",
       "lon                0\n",
       "category           0\n",
       "place_address    321\n",
       "dtype: int64"
      ]
     },
     "execution_count": 49,
     "metadata": {},
     "output_type": "execute_result"
    }
   ],
   "source": [
    "jt_subway_place.isna().sum()"
   ]
  },
  {
   "cell_type": "code",
   "execution_count": 50,
   "metadata": {},
   "outputs": [
    {
     "data": {
      "text/html": [
       "<div>\n",
       "<style scoped>\n",
       "    .dataframe tbody tr th:only-of-type {\n",
       "        vertical-align: middle;\n",
       "    }\n",
       "\n",
       "    .dataframe tbody tr th {\n",
       "        vertical-align: top;\n",
       "    }\n",
       "\n",
       "    .dataframe thead th {\n",
       "        text-align: right;\n",
       "    }\n",
       "</style>\n",
       "<table border=\"1\" class=\"dataframe\">\n",
       "  <thead>\n",
       "    <tr style=\"text-align: right;\">\n",
       "      <th></th>\n",
       "      <th>Unnamed: 0</th>\n",
       "      <th>place_name</th>\n",
       "      <th>place_id</th>\n",
       "      <th>facility_available_name</th>\n",
       "      <th>facility_id</th>\n",
       "      <th>facility_is_available</th>\n",
       "    </tr>\n",
       "  </thead>\n",
       "  <tbody>\n",
       "    <tr>\n",
       "      <th>0</th>\n",
       "      <td>0</td>\n",
       "      <td>가락시장</td>\n",
       "      <td>0</td>\n",
       "      <td>화장실</td>\n",
       "      <td>900000</td>\n",
       "      <td>이용가능</td>\n",
       "    </tr>\n",
       "    <tr>\n",
       "      <th>1</th>\n",
       "      <td>1</td>\n",
       "      <td>가락시장</td>\n",
       "      <td>0</td>\n",
       "      <td>엘리베이터</td>\n",
       "      <td>900001</td>\n",
       "      <td>이용가능</td>\n",
       "    </tr>\n",
       "    <tr>\n",
       "      <th>2</th>\n",
       "      <td>2</td>\n",
       "      <td>가락시장</td>\n",
       "      <td>0</td>\n",
       "      <td>휠체어리프트</td>\n",
       "      <td>900002</td>\n",
       "      <td>이용가능</td>\n",
       "    </tr>\n",
       "    <tr>\n",
       "      <th>3</th>\n",
       "      <td>3</td>\n",
       "      <td>가산디지털단지</td>\n",
       "      <td>1</td>\n",
       "      <td>에스켈레이터</td>\n",
       "      <td>900003</td>\n",
       "      <td>이용가능</td>\n",
       "    </tr>\n",
       "    <tr>\n",
       "      <th>4</th>\n",
       "      <td>4</td>\n",
       "      <td>가산디지털단지</td>\n",
       "      <td>1</td>\n",
       "      <td>화장실</td>\n",
       "      <td>900004</td>\n",
       "      <td>이용가능</td>\n",
       "    </tr>\n",
       "  </tbody>\n",
       "</table>\n",
       "</div>"
      ],
      "text/plain": [
       "   Unnamed: 0 place_name  place_id facility_available_name  facility_id  \\\n",
       "0           0       가락시장         0                     화장실       900000   \n",
       "1           1       가락시장         0                   엘리베이터       900001   \n",
       "2           2       가락시장         0                  휠체어리프트       900002   \n",
       "3           3    가산디지털단지         1                  에스켈레이터       900003   \n",
       "4           4    가산디지털단지         1                     화장실       900004   \n",
       "\n",
       "  facility_is_available  \n",
       "0                  이용가능  \n",
       "1                  이용가능  \n",
       "2                  이용가능  \n",
       "3                  이용가능  \n",
       "4                  이용가능  "
      ]
     },
     "execution_count": 50,
     "metadata": {},
     "output_type": "execute_result"
    }
   ],
   "source": [
    "jt_subway_facility.head()"
   ]
  },
  {
   "cell_type": "markdown",
   "metadata": {},
   "source": [
    "# PLACE 합  #1번 테이블"
   ]
  },
  {
   "cell_type": "code",
   "execution_count": 51,
   "metadata": {
    "scrolled": true
   },
   "outputs": [],
   "source": [
    "hj_place.drop('evalInfo',axis=1,inplace=True) # evalinfo Drop"
   ]
  },
  {
   "cell_type": "code",
   "execution_count": 52,
   "metadata": {
    "scrolled": true
   },
   "outputs": [
    {
     "name": "stdout",
     "output_type": "stream",
     "text": [
      "<class 'pandas.core.frame.DataFrame'>\n",
      "RangeIndex: 10000 entries, 0 to 9999\n",
      "Data columns (total 7 columns):\n",
      "Unnamed: 0       10000 non-null int64\n",
      "place_id         10000 non-null int64\n",
      "lat              10000 non-null float64\n",
      "lon              10000 non-null float64\n",
      "place_name       10000 non-null object\n",
      "category         10000 non-null object\n",
      "place_address    10000 non-null object\n",
      "dtypes: float64(2), int64(2), object(3)\n",
      "memory usage: 547.0+ KB\n"
     ]
    }
   ],
   "source": [
    "hj_place.info()"
   ]
  },
  {
   "cell_type": "code",
   "execution_count": 53,
   "metadata": {},
   "outputs": [
    {
     "name": "stdout",
     "output_type": "stream",
     "text": [
      "<class 'pandas.core.frame.DataFrame'>\n",
      "RangeIndex: 5270 entries, 0 to 5269\n",
      "Data columns (total 7 columns):\n",
      "Unnamed: 0       5270 non-null int64\n",
      "place_name       5270 non-null object\n",
      "place_address    5270 non-null object\n",
      "lat              5146 non-null float64\n",
      "lon              5146 non-null float64\n",
      "category         5270 non-null object\n",
      "place_id         5270 non-null int64\n",
      "dtypes: float64(2), int64(2), object(3)\n",
      "memory usage: 288.3+ KB\n"
     ]
    }
   ],
   "source": [
    "yj_total_place.info()"
   ]
  },
  {
   "cell_type": "code",
   "execution_count": 54,
   "metadata": {},
   "outputs": [],
   "source": [
    "yj_total_place.dropna(subset={'lat','lon'},inplace=True) # 왜그런지 모르겠지만 영준이 데이터에 위도경도 null 이있엇음."
   ]
  },
  {
   "cell_type": "code",
   "execution_count": 55,
   "metadata": {
    "scrolled": true
   },
   "outputs": [
    {
     "name": "stdout",
     "output_type": "stream",
     "text": [
      "<class 'pandas.core.frame.DataFrame'>\n",
      "Int64Index: 5146 entries, 0 to 5269\n",
      "Data columns (total 7 columns):\n",
      "Unnamed: 0       5146 non-null int64\n",
      "place_name       5146 non-null object\n",
      "place_address    5146 non-null object\n",
      "lat              5146 non-null float64\n",
      "lon              5146 non-null float64\n",
      "category         5146 non-null object\n",
      "place_id         5146 non-null int64\n",
      "dtypes: float64(2), int64(2), object(3)\n",
      "memory usage: 321.6+ KB\n"
     ]
    }
   ],
   "source": [
    "yj_total_place.info()"
   ]
  },
  {
   "cell_type": "code",
   "execution_count": 56,
   "metadata": {},
   "outputs": [],
   "source": [
    "zzang_place =  yj_total_place.append(hj_place,sort=False)"
   ]
  },
  {
   "cell_type": "code",
   "execution_count": 57,
   "metadata": {
    "scrolled": true
   },
   "outputs": [
    {
     "name": "stdout",
     "output_type": "stream",
     "text": [
      "<class 'pandas.core.frame.DataFrame'>\n",
      "Int64Index: 15146 entries, 0 to 9999\n",
      "Data columns (total 7 columns):\n",
      "Unnamed: 0       15146 non-null int64\n",
      "place_name       15146 non-null object\n",
      "place_address    15146 non-null object\n",
      "lat              15146 non-null float64\n",
      "lon              15146 non-null float64\n",
      "category         15146 non-null object\n",
      "place_id         15146 non-null int64\n",
      "dtypes: float64(2), int64(2), object(3)\n",
      "memory usage: 946.6+ KB\n"
     ]
    }
   ],
   "source": [
    "zzang_place.info()"
   ]
  },
  {
   "cell_type": "code",
   "execution_count": 58,
   "metadata": {},
   "outputs": [
    {
     "name": "stdout",
     "output_type": "stream",
     "text": [
      "<class 'pandas.core.frame.DataFrame'>\n",
      "RangeIndex: 1117 entries, 0 to 1116\n",
      "Data columns (total 7 columns):\n",
      "Unnamed: 0       1117 non-null int64\n",
      "place_name       1117 non-null object\n",
      "place_address    1117 non-null object\n",
      "lat              1117 non-null float64\n",
      "lon              1117 non-null float64\n",
      "category         1117 non-null object\n",
      "place_id         1117 non-null int64\n",
      "dtypes: float64(2), int64(2), object(3)\n",
      "memory usage: 61.2+ KB\n"
     ]
    }
   ],
   "source": [
    "jm_seoul_toilets.info()"
   ]
  },
  {
   "cell_type": "code",
   "execution_count": 59,
   "metadata": {},
   "outputs": [],
   "source": [
    "zzang_place = zzang_place.append(jm_seoul_toilets,sort=False)"
   ]
  },
  {
   "cell_type": "code",
   "execution_count": 60,
   "metadata": {},
   "outputs": [
    {
     "data": {
      "text/html": [
       "<div>\n",
       "<style scoped>\n",
       "    .dataframe tbody tr th:only-of-type {\n",
       "        vertical-align: middle;\n",
       "    }\n",
       "\n",
       "    .dataframe tbody tr th {\n",
       "        vertical-align: top;\n",
       "    }\n",
       "\n",
       "    .dataframe thead th {\n",
       "        text-align: right;\n",
       "    }\n",
       "</style>\n",
       "<table border=\"1\" class=\"dataframe\">\n",
       "  <thead>\n",
       "    <tr style=\"text-align: right;\">\n",
       "      <th></th>\n",
       "      <th>Unnamed: 0</th>\n",
       "      <th>place_name</th>\n",
       "      <th>place_address</th>\n",
       "      <th>lat</th>\n",
       "      <th>lon</th>\n",
       "      <th>category</th>\n",
       "      <th>place_id</th>\n",
       "    </tr>\n",
       "  </thead>\n",
       "  <tbody>\n",
       "    <tr>\n",
       "      <th>0</th>\n",
       "      <td>0</td>\n",
       "      <td>A아트홀(구.신연아트홀)</td>\n",
       "      <td>서울특별시 종로구 동숭동 1-37</td>\n",
       "      <td>37.583269</td>\n",
       "      <td>127.002443</td>\n",
       "      <td>movie/concerthall</td>\n",
       "      <td>10000</td>\n",
       "    </tr>\n",
       "    <tr>\n",
       "      <th>1</th>\n",
       "      <td>1</td>\n",
       "      <td>BBC씨어터</td>\n",
       "      <td>서울특별시 강남구 신사동  568-2</td>\n",
       "      <td>37.523930</td>\n",
       "      <td>127.025143</td>\n",
       "      <td>movie/concerthall</td>\n",
       "      <td>10001</td>\n",
       "    </tr>\n",
       "    <tr>\n",
       "      <th>2</th>\n",
       "      <td>2</td>\n",
       "      <td>BREAK OUT 전용극장</td>\n",
       "      <td>서울특별시 종로구 관철동 33-1</td>\n",
       "      <td>37.568835</td>\n",
       "      <td>126.988123</td>\n",
       "      <td>movie/concerthall</td>\n",
       "      <td>10002</td>\n",
       "    </tr>\n",
       "    <tr>\n",
       "      <th>3</th>\n",
       "      <td>3</td>\n",
       "      <td>BYRDS(버즈)</td>\n",
       "      <td>서울특별시 마포구 와우산로 51</td>\n",
       "      <td>37.549100</td>\n",
       "      <td>126.922860</td>\n",
       "      <td>movie/concerthall</td>\n",
       "      <td>10003</td>\n",
       "    </tr>\n",
       "    <tr>\n",
       "      <th>4</th>\n",
       "      <td>4</td>\n",
       "      <td>Between the Bars</td>\n",
       "      <td>서울특별시 마포구 어울마당로 114</td>\n",
       "      <td>37.554833</td>\n",
       "      <td>126.923213</td>\n",
       "      <td>movie/concerthall</td>\n",
       "      <td>10004</td>\n",
       "    </tr>\n",
       "  </tbody>\n",
       "</table>\n",
       "</div>"
      ],
      "text/plain": [
       "   Unnamed: 0        place_name         place_address        lat         lon  \\\n",
       "0           0     A아트홀(구.신연아트홀)    서울특별시 종로구 동숭동 1-37  37.583269  127.002443   \n",
       "1           1            BBC씨어터  서울특별시 강남구 신사동  568-2  37.523930  127.025143   \n",
       "2           2    BREAK OUT 전용극장    서울특별시 종로구 관철동 33-1  37.568835  126.988123   \n",
       "3           3         BYRDS(버즈)     서울특별시 마포구 와우산로 51  37.549100  126.922860   \n",
       "4           4  Between the Bars   서울특별시 마포구 어울마당로 114  37.554833  126.923213   \n",
       "\n",
       "            category  place_id  \n",
       "0  movie/concerthall     10000  \n",
       "1  movie/concerthall     10001  \n",
       "2  movie/concerthall     10002  \n",
       "3  movie/concerthall     10003  \n",
       "4  movie/concerthall     10004  "
      ]
     },
     "execution_count": 60,
     "metadata": {},
     "output_type": "execute_result"
    }
   ],
   "source": [
    "zzang_place.head()"
   ]
  },
  {
   "cell_type": "code",
   "execution_count": 61,
   "metadata": {},
   "outputs": [
    {
     "name": "stdout",
     "output_type": "stream",
     "text": [
      "<class 'pandas.core.frame.DataFrame'>\n",
      "Int64Index: 16263 entries, 0 to 1116\n",
      "Data columns (total 7 columns):\n",
      "Unnamed: 0       16263 non-null int64\n",
      "place_name       16263 non-null object\n",
      "place_address    16263 non-null object\n",
      "lat              16263 non-null float64\n",
      "lon              16263 non-null float64\n",
      "category         16263 non-null object\n",
      "place_id         16263 non-null int64\n",
      "dtypes: float64(2), int64(2), object(3)\n",
      "memory usage: 1016.4+ KB\n"
     ]
    }
   ],
   "source": [
    "zzang_place.info()"
   ]
  },
  {
   "cell_type": "code",
   "execution_count": 62,
   "metadata": {},
   "outputs": [
    {
     "data": {
      "text/html": [
       "<div>\n",
       "<style scoped>\n",
       "    .dataframe tbody tr th:only-of-type {\n",
       "        vertical-align: middle;\n",
       "    }\n",
       "\n",
       "    .dataframe tbody tr th {\n",
       "        vertical-align: top;\n",
       "    }\n",
       "\n",
       "    .dataframe thead th {\n",
       "        text-align: right;\n",
       "    }\n",
       "</style>\n",
       "<table border=\"1\" class=\"dataframe\">\n",
       "  <thead>\n",
       "    <tr style=\"text-align: right;\">\n",
       "      <th></th>\n",
       "      <th>Unnamed: 0</th>\n",
       "      <th>place_name</th>\n",
       "      <th>place_address</th>\n",
       "      <th>lat</th>\n",
       "      <th>lon</th>\n",
       "      <th>category</th>\n",
       "      <th>place_id</th>\n",
       "    </tr>\n",
       "  </thead>\n",
       "  <tbody>\n",
       "    <tr>\n",
       "      <th>1112</th>\n",
       "      <td>24934</td>\n",
       "      <td>성수근린공원 화장실</td>\n",
       "      <td>서울특별시 성동구 성수동2가 302-25</td>\n",
       "      <td>37.566074</td>\n",
       "      <td>127.047049</td>\n",
       "      <td>toilet/open</td>\n",
       "      <td>31112</td>\n",
       "    </tr>\n",
       "    <tr>\n",
       "      <th>1113</th>\n",
       "      <td>24941</td>\n",
       "      <td>독서당공원 화장실</td>\n",
       "      <td>서울특별시 성동구 금호동1가 산37-7</td>\n",
       "      <td>37.556445</td>\n",
       "      <td>127.019518</td>\n",
       "      <td>toilet/open</td>\n",
       "      <td>31113</td>\n",
       "    </tr>\n",
       "    <tr>\n",
       "      <th>1114</th>\n",
       "      <td>24943</td>\n",
       "      <td>왕십리문화공원 화장실</td>\n",
       "      <td>서울특별시 성동구 도선동 35-2</td>\n",
       "      <td>37.553588</td>\n",
       "      <td>127.041916</td>\n",
       "      <td>toilet/open</td>\n",
       "      <td>31114</td>\n",
       "    </tr>\n",
       "    <tr>\n",
       "      <th>1115</th>\n",
       "      <td>24945</td>\n",
       "      <td>한양대 앞 화장실</td>\n",
       "      <td>서울특별시 성동구 행당동 157-4</td>\n",
       "      <td>37.566104</td>\n",
       "      <td>127.045757</td>\n",
       "      <td>toilet/open</td>\n",
       "      <td>31115</td>\n",
       "    </tr>\n",
       "    <tr>\n",
       "      <th>1116</th>\n",
       "      <td>24946</td>\n",
       "      <td>행당어린이공원 화장실</td>\n",
       "      <td>서울특별시 성동구 행당동 128-417</td>\n",
       "      <td>37.561760</td>\n",
       "      <td>127.035263</td>\n",
       "      <td>toilet/open</td>\n",
       "      <td>31116</td>\n",
       "    </tr>\n",
       "  </tbody>\n",
       "</table>\n",
       "</div>"
      ],
      "text/plain": [
       "      Unnamed: 0   place_name           place_address        lat         lon  \\\n",
       "1112       24934   성수근린공원 화장실  서울특별시 성동구 성수동2가 302-25  37.566074  127.047049   \n",
       "1113       24941    독서당공원 화장실   서울특별시 성동구 금호동1가 산37-7  37.556445  127.019518   \n",
       "1114       24943  왕십리문화공원 화장실      서울특별시 성동구 도선동 35-2  37.553588  127.041916   \n",
       "1115       24945    한양대 앞 화장실     서울특별시 성동구 행당동 157-4  37.566104  127.045757   \n",
       "1116       24946  행당어린이공원 화장실   서울특별시 성동구 행당동 128-417  37.561760  127.035263   \n",
       "\n",
       "         category  place_id  \n",
       "1112  toilet/open     31112  \n",
       "1113  toilet/open     31113  \n",
       "1114  toilet/open     31114  \n",
       "1115  toilet/open     31115  \n",
       "1116  toilet/open     31116  "
      ]
     },
     "execution_count": 62,
     "metadata": {},
     "output_type": "execute_result"
    }
   ],
   "source": [
    "zzang_place.tail()"
   ]
  },
  {
   "cell_type": "code",
   "execution_count": 63,
   "metadata": {},
   "outputs": [
    {
     "name": "stdout",
     "output_type": "stream",
     "text": [
      "<class 'pandas.core.frame.DataFrame'>\n",
      "RangeIndex: 260 entries, 0 to 259\n",
      "Data columns (total 8 columns):\n",
      "Unnamed: 0       260 non-null int64\n",
      "Unnamed: 0.1     260 non-null int64\n",
      "category         260 non-null object\n",
      "place_name       260 non-null object\n",
      "place_address    260 non-null object\n",
      "lat              260 non-null float64\n",
      "lon              260 non-null float64\n",
      "place_id         260 non-null int64\n",
      "dtypes: float64(2), int64(3), object(3)\n",
      "memory usage: 16.3+ KB\n"
     ]
    }
   ],
   "source": [
    "jm_facility.info()"
   ]
  },
  {
   "cell_type": "code",
   "execution_count": 64,
   "metadata": {},
   "outputs": [],
   "source": [
    "zzang_place = zzang_place.append(jm_facility,sort=True)"
   ]
  },
  {
   "cell_type": "code",
   "execution_count": 65,
   "metadata": {
    "scrolled": true
   },
   "outputs": [
    {
     "name": "stdout",
     "output_type": "stream",
     "text": [
      "<class 'pandas.core.frame.DataFrame'>\n",
      "Int64Index: 16523 entries, 0 to 259\n",
      "Data columns (total 8 columns):\n",
      "Unnamed: 0       16523 non-null int64\n",
      "Unnamed: 0.1     260 non-null float64\n",
      "category         16523 non-null object\n",
      "lat              16523 non-null float64\n",
      "lon              16523 non-null float64\n",
      "place_address    16523 non-null object\n",
      "place_id         16523 non-null int64\n",
      "place_name       16523 non-null object\n",
      "dtypes: float64(3), int64(2), object(3)\n",
      "memory usage: 1.1+ MB\n"
     ]
    }
   ],
   "source": [
    "zzang_place.info()"
   ]
  },
  {
   "cell_type": "code",
   "execution_count": 66,
   "metadata": {},
   "outputs": [],
   "source": [
    "#지금까지, hj,jm,yj place  다넣음.\n",
    "# subway 추가 할것\n"
   ]
  },
  {
   "cell_type": "code",
   "execution_count": 67,
   "metadata": {
    "scrolled": true
   },
   "outputs": [
    {
     "name": "stdout",
     "output_type": "stream",
     "text": [
      "<class 'pandas.core.frame.DataFrame'>\n",
      "Int64Index: 321 entries, 0 to 323\n",
      "Data columns (total 7 columns):\n",
      "Unnamed: 0       321 non-null int64\n",
      "place_name       321 non-null object\n",
      "place_id         321 non-null int64\n",
      "lat              321 non-null float64\n",
      "lon              321 non-null float64\n",
      "category         321 non-null object\n",
      "place_address    0 non-null float64\n",
      "dtypes: float64(3), int64(2), object(2)\n",
      "memory usage: 20.1+ KB\n"
     ]
    }
   ],
   "source": [
    "jt_subway_place.info()"
   ]
  },
  {
   "cell_type": "code",
   "execution_count": 68,
   "metadata": {},
   "outputs": [],
   "source": [
    "zzang_place = zzang_place.append(jt_subway_place,sort=False)"
   ]
  },
  {
   "cell_type": "code",
   "execution_count": 69,
   "metadata": {
    "scrolled": true
   },
   "outputs": [
    {
     "name": "stdout",
     "output_type": "stream",
     "text": [
      "<class 'pandas.core.frame.DataFrame'>\n",
      "Int64Index: 16844 entries, 0 to 323\n",
      "Data columns (total 8 columns):\n",
      "Unnamed: 0       16844 non-null int64\n",
      "Unnamed: 0.1     260 non-null float64\n",
      "category         16844 non-null object\n",
      "lat              16844 non-null float64\n",
      "lon              16844 non-null float64\n",
      "place_address    16523 non-null object\n",
      "place_id         16844 non-null int64\n",
      "place_name       16844 non-null object\n",
      "dtypes: float64(3), int64(2), object(3)\n",
      "memory usage: 1.2+ MB\n"
     ]
    }
   ],
   "source": [
    "zzang_place.info() # subway 테이블에는 place_address 가 없다."
   ]
  },
  {
   "cell_type": "code",
   "execution_count": 70,
   "metadata": {},
   "outputs": [
    {
     "data": {
      "text/plain": [
       "Unnamed: 0           0\n",
       "Unnamed: 0.1     16584\n",
       "category             0\n",
       "lat                  0\n",
       "lon                  0\n",
       "place_address      321\n",
       "place_id             0\n",
       "place_name           0\n",
       "dtype: int64"
      ]
     },
     "execution_count": 70,
     "metadata": {},
     "output_type": "execute_result"
    }
   ],
   "source": [
    "zzang_place.isna().sum() # subway 테이블에는 place_address 가 없다."
   ]
  },
  {
   "cell_type": "code",
   "execution_count": 71,
   "metadata": {},
   "outputs": [
    {
     "data": {
      "text/html": [
       "<div>\n",
       "<style scoped>\n",
       "    .dataframe tbody tr th:only-of-type {\n",
       "        vertical-align: middle;\n",
       "    }\n",
       "\n",
       "    .dataframe tbody tr th {\n",
       "        vertical-align: top;\n",
       "    }\n",
       "\n",
       "    .dataframe thead th {\n",
       "        text-align: right;\n",
       "    }\n",
       "</style>\n",
       "<table border=\"1\" class=\"dataframe\">\n",
       "  <thead>\n",
       "    <tr style=\"text-align: right;\">\n",
       "      <th></th>\n",
       "      <th>Unnamed: 0</th>\n",
       "      <th>Unnamed: 0.1</th>\n",
       "      <th>category</th>\n",
       "      <th>lat</th>\n",
       "      <th>lon</th>\n",
       "      <th>place_address</th>\n",
       "      <th>place_id</th>\n",
       "      <th>place_name</th>\n",
       "    </tr>\n",
       "  </thead>\n",
       "  <tbody>\n",
       "    <tr>\n",
       "      <th>0</th>\n",
       "      <td>0</td>\n",
       "      <td>NaN</td>\n",
       "      <td>movie/concerthall</td>\n",
       "      <td>37.583269</td>\n",
       "      <td>127.002443</td>\n",
       "      <td>서울특별시 종로구 동숭동 1-37</td>\n",
       "      <td>10000</td>\n",
       "      <td>A아트홀(구.신연아트홀)</td>\n",
       "    </tr>\n",
       "    <tr>\n",
       "      <th>1</th>\n",
       "      <td>1</td>\n",
       "      <td>NaN</td>\n",
       "      <td>movie/concerthall</td>\n",
       "      <td>37.523930</td>\n",
       "      <td>127.025143</td>\n",
       "      <td>서울특별시 강남구 신사동  568-2</td>\n",
       "      <td>10001</td>\n",
       "      <td>BBC씨어터</td>\n",
       "    </tr>\n",
       "    <tr>\n",
       "      <th>2</th>\n",
       "      <td>2</td>\n",
       "      <td>NaN</td>\n",
       "      <td>movie/concerthall</td>\n",
       "      <td>37.568835</td>\n",
       "      <td>126.988123</td>\n",
       "      <td>서울특별시 종로구 관철동 33-1</td>\n",
       "      <td>10002</td>\n",
       "      <td>BREAK OUT 전용극장</td>\n",
       "    </tr>\n",
       "    <tr>\n",
       "      <th>3</th>\n",
       "      <td>3</td>\n",
       "      <td>NaN</td>\n",
       "      <td>movie/concerthall</td>\n",
       "      <td>37.549100</td>\n",
       "      <td>126.922860</td>\n",
       "      <td>서울특별시 마포구 와우산로 51</td>\n",
       "      <td>10003</td>\n",
       "      <td>BYRDS(버즈)</td>\n",
       "    </tr>\n",
       "    <tr>\n",
       "      <th>4</th>\n",
       "      <td>4</td>\n",
       "      <td>NaN</td>\n",
       "      <td>movie/concerthall</td>\n",
       "      <td>37.554833</td>\n",
       "      <td>126.923213</td>\n",
       "      <td>서울특별시 마포구 어울마당로 114</td>\n",
       "      <td>10004</td>\n",
       "      <td>Between the Bars</td>\n",
       "    </tr>\n",
       "  </tbody>\n",
       "</table>\n",
       "</div>"
      ],
      "text/plain": [
       "   Unnamed: 0  Unnamed: 0.1           category        lat         lon  \\\n",
       "0           0           NaN  movie/concerthall  37.583269  127.002443   \n",
       "1           1           NaN  movie/concerthall  37.523930  127.025143   \n",
       "2           2           NaN  movie/concerthall  37.568835  126.988123   \n",
       "3           3           NaN  movie/concerthall  37.549100  126.922860   \n",
       "4           4           NaN  movie/concerthall  37.554833  126.923213   \n",
       "\n",
       "          place_address  place_id        place_name  \n",
       "0    서울특별시 종로구 동숭동 1-37     10000     A아트홀(구.신연아트홀)  \n",
       "1  서울특별시 강남구 신사동  568-2     10001            BBC씨어터  \n",
       "2    서울특별시 종로구 관철동 33-1     10002    BREAK OUT 전용극장  \n",
       "3     서울특별시 마포구 와우산로 51     10003         BYRDS(버즈)  \n",
       "4   서울특별시 마포구 어울마당로 114     10004  Between the Bars  "
      ]
     },
     "execution_count": 71,
     "metadata": {},
     "output_type": "execute_result"
    }
   ],
   "source": [
    "zzang_place.head()"
   ]
  },
  {
   "cell_type": "code",
   "execution_count": 72,
   "metadata": {},
   "outputs": [],
   "source": [
    "zzang_place.reset_index(inplace=True)"
   ]
  },
  {
   "cell_type": "code",
   "execution_count": 73,
   "metadata": {},
   "outputs": [
    {
     "data": {
      "text/html": [
       "<div>\n",
       "<style scoped>\n",
       "    .dataframe tbody tr th:only-of-type {\n",
       "        vertical-align: middle;\n",
       "    }\n",
       "\n",
       "    .dataframe tbody tr th {\n",
       "        vertical-align: top;\n",
       "    }\n",
       "\n",
       "    .dataframe thead th {\n",
       "        text-align: right;\n",
       "    }\n",
       "</style>\n",
       "<table border=\"1\" class=\"dataframe\">\n",
       "  <thead>\n",
       "    <tr style=\"text-align: right;\">\n",
       "      <th></th>\n",
       "      <th>index</th>\n",
       "      <th>Unnamed: 0</th>\n",
       "      <th>Unnamed: 0.1</th>\n",
       "      <th>category</th>\n",
       "      <th>lat</th>\n",
       "      <th>lon</th>\n",
       "      <th>place_address</th>\n",
       "      <th>place_id</th>\n",
       "      <th>place_name</th>\n",
       "    </tr>\n",
       "  </thead>\n",
       "  <tbody>\n",
       "    <tr>\n",
       "      <th>0</th>\n",
       "      <td>0</td>\n",
       "      <td>0</td>\n",
       "      <td>NaN</td>\n",
       "      <td>movie/concerthall</td>\n",
       "      <td>37.583269</td>\n",
       "      <td>127.002443</td>\n",
       "      <td>서울특별시 종로구 동숭동 1-37</td>\n",
       "      <td>10000</td>\n",
       "      <td>A아트홀(구.신연아트홀)</td>\n",
       "    </tr>\n",
       "    <tr>\n",
       "      <th>1</th>\n",
       "      <td>1</td>\n",
       "      <td>1</td>\n",
       "      <td>NaN</td>\n",
       "      <td>movie/concerthall</td>\n",
       "      <td>37.523930</td>\n",
       "      <td>127.025143</td>\n",
       "      <td>서울특별시 강남구 신사동  568-2</td>\n",
       "      <td>10001</td>\n",
       "      <td>BBC씨어터</td>\n",
       "    </tr>\n",
       "    <tr>\n",
       "      <th>2</th>\n",
       "      <td>2</td>\n",
       "      <td>2</td>\n",
       "      <td>NaN</td>\n",
       "      <td>movie/concerthall</td>\n",
       "      <td>37.568835</td>\n",
       "      <td>126.988123</td>\n",
       "      <td>서울특별시 종로구 관철동 33-1</td>\n",
       "      <td>10002</td>\n",
       "      <td>BREAK OUT 전용극장</td>\n",
       "    </tr>\n",
       "    <tr>\n",
       "      <th>3</th>\n",
       "      <td>3</td>\n",
       "      <td>3</td>\n",
       "      <td>NaN</td>\n",
       "      <td>movie/concerthall</td>\n",
       "      <td>37.549100</td>\n",
       "      <td>126.922860</td>\n",
       "      <td>서울특별시 마포구 와우산로 51</td>\n",
       "      <td>10003</td>\n",
       "      <td>BYRDS(버즈)</td>\n",
       "    </tr>\n",
       "    <tr>\n",
       "      <th>4</th>\n",
       "      <td>4</td>\n",
       "      <td>4</td>\n",
       "      <td>NaN</td>\n",
       "      <td>movie/concerthall</td>\n",
       "      <td>37.554833</td>\n",
       "      <td>126.923213</td>\n",
       "      <td>서울특별시 마포구 어울마당로 114</td>\n",
       "      <td>10004</td>\n",
       "      <td>Between the Bars</td>\n",
       "    </tr>\n",
       "  </tbody>\n",
       "</table>\n",
       "</div>"
      ],
      "text/plain": [
       "   index  Unnamed: 0  Unnamed: 0.1           category        lat         lon  \\\n",
       "0      0           0           NaN  movie/concerthall  37.583269  127.002443   \n",
       "1      1           1           NaN  movie/concerthall  37.523930  127.025143   \n",
       "2      2           2           NaN  movie/concerthall  37.568835  126.988123   \n",
       "3      3           3           NaN  movie/concerthall  37.549100  126.922860   \n",
       "4      4           4           NaN  movie/concerthall  37.554833  126.923213   \n",
       "\n",
       "          place_address  place_id        place_name  \n",
       "0    서울특별시 종로구 동숭동 1-37     10000     A아트홀(구.신연아트홀)  \n",
       "1  서울특별시 강남구 신사동  568-2     10001            BBC씨어터  \n",
       "2    서울특별시 종로구 관철동 33-1     10002    BREAK OUT 전용극장  \n",
       "3     서울특별시 마포구 와우산로 51     10003         BYRDS(버즈)  \n",
       "4   서울특별시 마포구 어울마당로 114     10004  Between the Bars  "
      ]
     },
     "execution_count": 73,
     "metadata": {},
     "output_type": "execute_result"
    }
   ],
   "source": [
    "zzang_place.head()"
   ]
  },
  {
   "cell_type": "code",
   "execution_count": 74,
   "metadata": {},
   "outputs": [],
   "source": [
    "zzang_place.drop(columns={'Unnamed: 0','Unnamed: 0.1','index'},inplace=True)"
   ]
  },
  {
   "cell_type": "code",
   "execution_count": 75,
   "metadata": {},
   "outputs": [
    {
     "data": {
      "text/html": [
       "<div>\n",
       "<style scoped>\n",
       "    .dataframe tbody tr th:only-of-type {\n",
       "        vertical-align: middle;\n",
       "    }\n",
       "\n",
       "    .dataframe tbody tr th {\n",
       "        vertical-align: top;\n",
       "    }\n",
       "\n",
       "    .dataframe thead th {\n",
       "        text-align: right;\n",
       "    }\n",
       "</style>\n",
       "<table border=\"1\" class=\"dataframe\">\n",
       "  <thead>\n",
       "    <tr style=\"text-align: right;\">\n",
       "      <th></th>\n",
       "      <th>category</th>\n",
       "      <th>lat</th>\n",
       "      <th>lon</th>\n",
       "      <th>place_address</th>\n",
       "      <th>place_id</th>\n",
       "      <th>place_name</th>\n",
       "    </tr>\n",
       "  </thead>\n",
       "  <tbody>\n",
       "    <tr>\n",
       "      <th>16839</th>\n",
       "      <td>subway</td>\n",
       "      <td>37.634590</td>\n",
       "      <td>126.832645</td>\n",
       "      <td>NaN</td>\n",
       "      <td>319</td>\n",
       "      <td>화정</td>\n",
       "    </tr>\n",
       "    <tr>\n",
       "      <th>16840</th>\n",
       "      <td>subway</td>\n",
       "      <td>37.589756</td>\n",
       "      <td>127.057977</td>\n",
       "      <td>NaN</td>\n",
       "      <td>320</td>\n",
       "      <td>회기</td>\n",
       "    </tr>\n",
       "    <tr>\n",
       "      <th>16841</th>\n",
       "      <td>subway</td>\n",
       "      <td>37.724522</td>\n",
       "      <td>127.047203</td>\n",
       "      <td>NaN</td>\n",
       "      <td>321</td>\n",
       "      <td>회룡</td>\n",
       "    </tr>\n",
       "    <tr>\n",
       "      <th>16842</th>\n",
       "      <td>subway</td>\n",
       "      <td>37.559634</td>\n",
       "      <td>126.979716</td>\n",
       "      <td>NaN</td>\n",
       "      <td>322</td>\n",
       "      <td>회현</td>\n",
       "    </tr>\n",
       "    <tr>\n",
       "      <th>16843</th>\n",
       "      <td>subway</td>\n",
       "      <td>37.539289</td>\n",
       "      <td>126.961339</td>\n",
       "      <td>NaN</td>\n",
       "      <td>323</td>\n",
       "      <td>효창공원앞</td>\n",
       "    </tr>\n",
       "  </tbody>\n",
       "</table>\n",
       "</div>"
      ],
      "text/plain": [
       "      category        lat         lon place_address  place_id place_name\n",
       "16839   subway  37.634590  126.832645           NaN       319         화정\n",
       "16840   subway  37.589756  127.057977           NaN       320         회기\n",
       "16841   subway  37.724522  127.047203           NaN       321         회룡\n",
       "16842   subway  37.559634  126.979716           NaN       322         회현\n",
       "16843   subway  37.539289  126.961339           NaN       323      효창공원앞"
      ]
     },
     "execution_count": 75,
     "metadata": {},
     "output_type": "execute_result"
    }
   ],
   "source": [
    "zzang_place.tail()"
   ]
  },
  {
   "cell_type": "code",
   "execution_count": 76,
   "metadata": {
    "scrolled": true
   },
   "outputs": [
    {
     "name": "stdout",
     "output_type": "stream",
     "text": [
      "<class 'pandas.core.frame.DataFrame'>\n",
      "RangeIndex: 16844 entries, 0 to 16843\n",
      "Data columns (total 6 columns):\n",
      "category         16844 non-null object\n",
      "lat              16844 non-null float64\n",
      "lon              16844 non-null float64\n",
      "place_address    16523 non-null object\n",
      "place_id         16844 non-null int64\n",
      "place_name       16844 non-null object\n",
      "dtypes: float64(2), int64(1), object(3)\n",
      "memory usage: 789.6+ KB\n"
     ]
    }
   ],
   "source": [
    "zzang_place.info()"
   ]
  },
  {
   "cell_type": "code",
   "execution_count": 77,
   "metadata": {},
   "outputs": [],
   "source": [
    "zzang_place.to_csv('ZZANG/ZZANG_PLACE.csv')"
   ]
  },
  {
   "cell_type": "code",
   "execution_count": 78,
   "metadata": {},
   "outputs": [
    {
     "data": {
      "text/plain": [
       "array(['movie/concerthall', 'shopping/mart', 'publicparking',\n",
       "       'publictoilet', 'hospital', 'publicinstitution', 'bank',\n",
       "       'education/Childcare', 'beauty/hair', 'other', 'korean_food',\n",
       "       'western_food', 'chinese_food', 'japanese_food', 'other_food',\n",
       "       'tourist hotel', 'education/job', 'restaurant', 'shopping',\n",
       "       'apartment subsidiary facility', 'exhibition center', 'factory',\n",
       "       'broadcasting station', 'concert hall', 'movie', 'public parking',\n",
       "       'hotel', 'convenience store/bakery', 'stadium', 'university',\n",
       "       'telecommunication office', 'government office building', 'church',\n",
       "       'daycare center', 'massage parlor', 'general hospital',\n",
       "       'kindergarten', 'meeting hall', 'welfare/senior',\n",
       "       'elementary school', 'welfare/etc', 'community service center',\n",
       "       'high school', 'junior high school', 'police station',\n",
       "       'post office', 'city park', 'training facility/urban',\n",
       "       'toilet/public', 'welfare/disabled', 'gym', 'library',\n",
       "       'health center', 'outdoor theater', 'funeral hall',\n",
       "       'welfare/child', 'training facility/rural', 'driving academy',\n",
       "       'national health insurance corporation',\n",
       "       'national pension service', 'community child center',\n",
       "       'special-education school', 'nature park', 'shelter',\n",
       "       'public library', 'college', 'workers welfare service',\n",
       "       'disabled employment agency', 'toilet/open', 'toilet/small',\n",
       "       'daycare', 'wellfare', 'sports/rehab', 'signinterpret',\n",
       "       'hospital/rehab', 'subway'], dtype=object)"
      ]
     },
     "execution_count": 78,
     "metadata": {},
     "output_type": "execute_result"
    }
   ],
   "source": [
    "zzang_place.category.unique()"
   ]
  },
  {
   "cell_type": "code",
   "execution_count": 79,
   "metadata": {
    "scrolled": true
   },
   "outputs": [
    {
     "data": {
      "text/plain": [
       "<matplotlib.axes._subplots.AxesSubplot at 0x50d03f06d8>"
      ]
     },
     "execution_count": 79,
     "metadata": {},
     "output_type": "execute_result"
    }
   ],
   "source": [
    "zzang_place.groupby('category').sum().plot()"
   ]
  },
  {
   "cell_type": "code",
   "execution_count": 80,
   "metadata": {},
   "outputs": [],
   "source": [
    "# 구별로 , 시설"
   ]
  },
  {
   "cell_type": "code",
   "execution_count": null,
   "metadata": {},
   "outputs": [],
   "source": []
  },
  {
   "cell_type": "markdown",
   "metadata": {},
   "source": [
    "# FACILITY 합  #2번 테이블"
   ]
  },
  {
   "cell_type": "code",
   "execution_count": 81,
   "metadata": {
    "scrolled": true
   },
   "outputs": [
    {
     "name": "stdout",
     "output_type": "stream",
     "text": [
      "<class 'pandas.core.frame.DataFrame'>\n",
      "RangeIndex: 17604 entries, 0 to 17603\n",
      "Data columns (total 6 columns):\n",
      "Unnamed: 0                 17604 non-null int64\n",
      "facility_available_name    17604 non-null object\n",
      "facility_is_available      17604 non-null object\n",
      "place_name                 17604 non-null object\n",
      "place_id                   17604 non-null int64\n",
      "facility_id                17604 non-null int64\n",
      "dtypes: int64(3), object(3)\n",
      "memory usage: 825.3+ KB\n"
     ]
    }
   ],
   "source": [
    "yj_total_place_facility_available.info()"
   ]
  },
  {
   "cell_type": "code",
   "execution_count": 82,
   "metadata": {},
   "outputs": [
    {
     "data": {
      "text/plain": [
       "array(['주출입구 접근로', '주출입구 높이차이 제거', '장애인 전용 주차구역', '장애인용 승강기', '장애인용 관람석',\n",
       "       '장애인용 화장실'], dtype=object)"
      ]
     },
     "execution_count": 82,
     "metadata": {},
     "output_type": "execute_result"
    }
   ],
   "source": [
    "yj_total_place_facility_available.facility_available_name.unique()"
   ]
  },
  {
   "cell_type": "code",
   "execution_count": 83,
   "metadata": {},
   "outputs": [
    {
     "name": "stdout",
     "output_type": "stream",
     "text": [
      "<class 'pandas.core.frame.DataFrame'>\n",
      "RangeIndex: 90403 entries, 0 to 90402\n",
      "Data columns (total 6 columns):\n",
      "Unnamed: 0                  90403 non-null int64\n",
      "facility_id                 90403 non-null int64\n",
      "facillity_available_name    90403 non-null object\n",
      "facility_is_available       90403 non-null object\n",
      "place_name                  90403 non-null object\n",
      "place_id                    90403 non-null int64\n",
      "dtypes: int64(3), object(3)\n",
      "memory usage: 4.1+ MB\n"
     ]
    }
   ],
   "source": [
    "hj_place_facility_available.info()"
   ]
  },
  {
   "cell_type": "code",
   "execution_count": 84,
   "metadata": {},
   "outputs": [
    {
     "data": {
      "text/plain": [
       "array(['계단 또는 승강설비', '대변기', '장애인전용주차구역', '주출입구 높이차이 제거', '주출입구 접근로',\n",
       "       '출입구(문)', '해당시설 층수', '객실 및 침실', '복도', '세면대', '소변기', '일반사항', '비치용품',\n",
       "       '경보 및 피난설비', '유도 및 안내 설비', '점자블록', '관람석 및 열람석', '매표소', ' 판매기',\n",
       "       ' 음료대', '접수대 및 작업대', '샤워실 및 탈의실', '욕실', '없음'], dtype=object)"
      ]
     },
     "execution_count": 84,
     "metadata": {},
     "output_type": "execute_result"
    }
   ],
   "source": [
    "hj_place_facility_available.facillity_available_name.unique()"
   ]
  },
  {
   "cell_type": "code",
   "execution_count": 85,
   "metadata": {
    "scrolled": true
   },
   "outputs": [
    {
     "data": {
      "text/html": [
       "<div>\n",
       "<style scoped>\n",
       "    .dataframe tbody tr th:only-of-type {\n",
       "        vertical-align: middle;\n",
       "    }\n",
       "\n",
       "    .dataframe tbody tr th {\n",
       "        vertical-align: top;\n",
       "    }\n",
       "\n",
       "    .dataframe thead th {\n",
       "        text-align: right;\n",
       "    }\n",
       "</style>\n",
       "<table border=\"1\" class=\"dataframe\">\n",
       "  <thead>\n",
       "    <tr style=\"text-align: right;\">\n",
       "      <th></th>\n",
       "      <th>Unnamed: 0</th>\n",
       "      <th>facility_id</th>\n",
       "      <th>facillity_available_name</th>\n",
       "      <th>facility_is_available</th>\n",
       "      <th>place_name</th>\n",
       "      <th>place_id</th>\n",
       "    </tr>\n",
       "  </thead>\n",
       "  <tbody>\n",
       "    <tr>\n",
       "      <th>49336</th>\n",
       "      <td>49336</td>\n",
       "      <td>249336</td>\n",
       "      <td>없음</td>\n",
       "      <td>None</td>\n",
       "      <td>송순곤외 1인</td>\n",
       "      <td>25490</td>\n",
       "    </tr>\n",
       "  </tbody>\n",
       "</table>\n",
       "</div>"
      ],
      "text/plain": [
       "       Unnamed: 0  facility_id facillity_available_name facility_is_available  \\\n",
       "49336       49336       249336                       없음                  None   \n",
       "\n",
       "      place_name  place_id  \n",
       "49336    송순곤외 1인     25490  "
      ]
     },
     "execution_count": 85,
     "metadata": {},
     "output_type": "execute_result"
    }
   ],
   "source": [
    "hj_place_facility_available[hj_place_facility_available.facillity_available_name=='없음']"
   ]
  },
  {
   "cell_type": "code",
   "execution_count": 86,
   "metadata": {},
   "outputs": [
    {
     "data": {
      "text/plain": [
       "Unnamed: 0                    49336\n",
       "facility_id                  249336\n",
       "facillity_available_name         없음\n",
       "facility_is_available          None\n",
       "place_name                  송순곤외 1인\n",
       "place_id                      25490\n",
       "Name: 49336, dtype: object"
      ]
     },
     "execution_count": 86,
     "metadata": {},
     "output_type": "execute_result"
    }
   ],
   "source": [
    "hj_place_facility_available.iloc[49336]"
   ]
  },
  {
   "cell_type": "code",
   "execution_count": 87,
   "metadata": {},
   "outputs": [],
   "source": [
    "hj_place_facility_available.drop(index=49336, inplace =True)"
   ]
  },
  {
   "cell_type": "code",
   "execution_count": 88,
   "metadata": {},
   "outputs": [
    {
     "data": {
      "text/plain": [
       "Unnamed: 0                      49337\n",
       "facility_id                    249337\n",
       "facillity_available_name    장애인전용주차구역\n",
       "facility_is_available            None\n",
       "place_name                       송암교회\n",
       "place_id                        25491\n",
       "Name: 49337, dtype: object"
      ]
     },
     "execution_count": 88,
     "metadata": {},
     "output_type": "execute_result"
    }
   ],
   "source": [
    "hj_place_facility_available.iloc[49336]"
   ]
  },
  {
   "cell_type": "code",
   "execution_count": 89,
   "metadata": {},
   "outputs": [
    {
     "data": {
      "text/html": [
       "<div>\n",
       "<style scoped>\n",
       "    .dataframe tbody tr th:only-of-type {\n",
       "        vertical-align: middle;\n",
       "    }\n",
       "\n",
       "    .dataframe tbody tr th {\n",
       "        vertical-align: top;\n",
       "    }\n",
       "\n",
       "    .dataframe thead th {\n",
       "        text-align: right;\n",
       "    }\n",
       "</style>\n",
       "<table border=\"1\" class=\"dataframe\">\n",
       "  <thead>\n",
       "    <tr style=\"text-align: right;\">\n",
       "      <th></th>\n",
       "      <th>Unnamed: 0</th>\n",
       "      <th>facility_id</th>\n",
       "      <th>facillity_available_name</th>\n",
       "      <th>facility_is_available</th>\n",
       "      <th>place_name</th>\n",
       "      <th>place_id</th>\n",
       "    </tr>\n",
       "  </thead>\n",
       "  <tbody>\n",
       "  </tbody>\n",
       "</table>\n",
       "</div>"
      ],
      "text/plain": [
       "Empty DataFrame\n",
       "Columns: [Unnamed: 0, facility_id, facillity_available_name, facility_is_available, place_name, place_id]\n",
       "Index: []"
      ]
     },
     "execution_count": 89,
     "metadata": {},
     "output_type": "execute_result"
    }
   ],
   "source": [
    "hj_place_facility_available[hj_place_facility_available.facillity_available_name=='없음']"
   ]
  },
  {
   "cell_type": "code",
   "execution_count": 90,
   "metadata": {},
   "outputs": [],
   "source": [
    "hj_place_facility_available.reset_index(inplace=True)"
   ]
  },
  {
   "cell_type": "code",
   "execution_count": 91,
   "metadata": {
    "scrolled": true
   },
   "outputs": [
    {
     "data": {
      "text/html": [
       "<div>\n",
       "<style scoped>\n",
       "    .dataframe tbody tr th:only-of-type {\n",
       "        vertical-align: middle;\n",
       "    }\n",
       "\n",
       "    .dataframe tbody tr th {\n",
       "        vertical-align: top;\n",
       "    }\n",
       "\n",
       "    .dataframe thead th {\n",
       "        text-align: right;\n",
       "    }\n",
       "</style>\n",
       "<table border=\"1\" class=\"dataframe\">\n",
       "  <thead>\n",
       "    <tr style=\"text-align: right;\">\n",
       "      <th></th>\n",
       "      <th>index</th>\n",
       "      <th>Unnamed: 0</th>\n",
       "      <th>facility_id</th>\n",
       "      <th>facillity_available_name</th>\n",
       "      <th>facility_is_available</th>\n",
       "      <th>place_name</th>\n",
       "      <th>place_id</th>\n",
       "    </tr>\n",
       "  </thead>\n",
       "  <tbody>\n",
       "    <tr>\n",
       "      <th>0</th>\n",
       "      <td>0</td>\n",
       "      <td>0</td>\n",
       "      <td>200000</td>\n",
       "      <td>계단 또는 승강설비</td>\n",
       "      <td>None</td>\n",
       "      <td>(구)왕십리클리닉빌딩</td>\n",
       "      <td>20000</td>\n",
       "    </tr>\n",
       "    <tr>\n",
       "      <th>1</th>\n",
       "      <td>1</td>\n",
       "      <td>1</td>\n",
       "      <td>200001</td>\n",
       "      <td>대변기</td>\n",
       "      <td>None</td>\n",
       "      <td>(구)왕십리클리닉빌딩</td>\n",
       "      <td>20000</td>\n",
       "    </tr>\n",
       "    <tr>\n",
       "      <th>2</th>\n",
       "      <td>2</td>\n",
       "      <td>2</td>\n",
       "      <td>200002</td>\n",
       "      <td>장애인전용주차구역</td>\n",
       "      <td>None</td>\n",
       "      <td>(구)왕십리클리닉빌딩</td>\n",
       "      <td>20000</td>\n",
       "    </tr>\n",
       "    <tr>\n",
       "      <th>3</th>\n",
       "      <td>3</td>\n",
       "      <td>3</td>\n",
       "      <td>200003</td>\n",
       "      <td>주출입구 높이차이 제거</td>\n",
       "      <td>None</td>\n",
       "      <td>(구)왕십리클리닉빌딩</td>\n",
       "      <td>20000</td>\n",
       "    </tr>\n",
       "    <tr>\n",
       "      <th>4</th>\n",
       "      <td>4</td>\n",
       "      <td>4</td>\n",
       "      <td>200004</td>\n",
       "      <td>주출입구 접근로</td>\n",
       "      <td>None</td>\n",
       "      <td>(구)왕십리클리닉빌딩</td>\n",
       "      <td>20000</td>\n",
       "    </tr>\n",
       "  </tbody>\n",
       "</table>\n",
       "</div>"
      ],
      "text/plain": [
       "   index  Unnamed: 0  facility_id facillity_available_name  \\\n",
       "0      0           0       200000               계단 또는 승강설비   \n",
       "1      1           1       200001                      대변기   \n",
       "2      2           2       200002                장애인전용주차구역   \n",
       "3      3           3       200003             주출입구 높이차이 제거   \n",
       "4      4           4       200004                 주출입구 접근로   \n",
       "\n",
       "  facility_is_available   place_name  place_id  \n",
       "0                  None  (구)왕십리클리닉빌딩     20000  \n",
       "1                  None  (구)왕십리클리닉빌딩     20000  \n",
       "2                  None  (구)왕십리클리닉빌딩     20000  \n",
       "3                  None  (구)왕십리클리닉빌딩     20000  \n",
       "4                  None  (구)왕십리클리닉빌딩     20000  "
      ]
     },
     "execution_count": 91,
     "metadata": {},
     "output_type": "execute_result"
    }
   ],
   "source": [
    "hj_place_facility_available.head()"
   ]
  },
  {
   "cell_type": "code",
   "execution_count": 92,
   "metadata": {
    "scrolled": true
   },
   "outputs": [
    {
     "name": "stdout",
     "output_type": "stream",
     "text": [
      "<class 'pandas.core.frame.DataFrame'>\n",
      "RangeIndex: 90402 entries, 0 to 90401\n",
      "Data columns (total 7 columns):\n",
      "index                       90402 non-null int64\n",
      "Unnamed: 0                  90402 non-null int64\n",
      "facility_id                 90402 non-null int64\n",
      "facillity_available_name    90402 non-null object\n",
      "facility_is_available       90402 non-null object\n",
      "place_name                  90402 non-null object\n",
      "place_id                    90402 non-null int64\n",
      "dtypes: int64(4), object(3)\n",
      "memory usage: 4.8+ MB\n"
     ]
    }
   ],
   "source": [
    "hj_place_facility_available.info() # 1개가 빠졌으니까"
   ]
  },
  {
   "cell_type": "code",
   "execution_count": 93,
   "metadata": {},
   "outputs": [],
   "source": [
    "hj_place_facility_available.rename({'facillity_available_name':'facility_available_name'},axis=1,inplace=True)"
   ]
  },
  {
   "cell_type": "code",
   "execution_count": 94,
   "metadata": {},
   "outputs": [
    {
     "name": "stdout",
     "output_type": "stream",
     "text": [
      "<class 'pandas.core.frame.DataFrame'>\n",
      "RangeIndex: 90402 entries, 0 to 90401\n",
      "Data columns (total 7 columns):\n",
      "index                      90402 non-null int64\n",
      "Unnamed: 0                 90402 non-null int64\n",
      "facility_id                90402 non-null int64\n",
      "facility_available_name    90402 non-null object\n",
      "facility_is_available      90402 non-null object\n",
      "place_name                 90402 non-null object\n",
      "place_id                   90402 non-null int64\n",
      "dtypes: int64(4), object(3)\n",
      "memory usage: 4.8+ MB\n"
     ]
    }
   ],
   "source": [
    "hj_place_facility_available.info()"
   ]
  },
  {
   "cell_type": "code",
   "execution_count": 95,
   "metadata": {},
   "outputs": [
    {
     "name": "stdout",
     "output_type": "stream",
     "text": [
      "<class 'pandas.core.frame.DataFrame'>\n",
      "RangeIndex: 17604 entries, 0 to 17603\n",
      "Data columns (total 6 columns):\n",
      "Unnamed: 0                 17604 non-null int64\n",
      "facility_available_name    17604 non-null object\n",
      "facility_is_available      17604 non-null object\n",
      "place_name                 17604 non-null object\n",
      "place_id                   17604 non-null int64\n",
      "facility_id                17604 non-null int64\n",
      "dtypes: int64(3), object(3)\n",
      "memory usage: 825.3+ KB\n"
     ]
    }
   ],
   "source": [
    "yj_total_place_facility_available.info()"
   ]
  },
  {
   "cell_type": "code",
   "execution_count": 96,
   "metadata": {},
   "outputs": [],
   "source": [
    "zzang_facility = yj_total_place_facility_available.append(hj_place_facility_available,sort=False)"
   ]
  },
  {
   "cell_type": "code",
   "execution_count": 97,
   "metadata": {},
   "outputs": [
    {
     "name": "stdout",
     "output_type": "stream",
     "text": [
      "<class 'pandas.core.frame.DataFrame'>\n",
      "Int64Index: 108006 entries, 0 to 90401\n",
      "Data columns (total 7 columns):\n",
      "Unnamed: 0                 108006 non-null int64\n",
      "facility_available_name    108006 non-null object\n",
      "facility_is_available      108006 non-null object\n",
      "place_name                 108006 non-null object\n",
      "place_id                   108006 non-null int64\n",
      "facility_id                108006 non-null int64\n",
      "index                      90402 non-null float64\n",
      "dtypes: float64(1), int64(3), object(3)\n",
      "memory usage: 6.6+ MB\n"
     ]
    }
   ],
   "source": [
    "zzang_facility.info()"
   ]
  },
  {
   "cell_type": "code",
   "execution_count": 98,
   "metadata": {},
   "outputs": [
    {
     "data": {
      "text/plain": [
       "array(['화장실', '엘리베이터', '휠체어리프트', '에스켈레이터', '수평보행기', '계단핸드레일'],\n",
       "      dtype=object)"
      ]
     },
     "execution_count": 98,
     "metadata": {},
     "output_type": "execute_result"
    }
   ],
   "source": [
    "jt_subway_facility.facility_available_name.unique()"
   ]
  },
  {
   "cell_type": "code",
   "execution_count": 99,
   "metadata": {},
   "outputs": [],
   "source": [
    "#휠체어(절단장애,음료대,판매기,매표소) , 시각장애인(점자블록),청각장애인(수화),"
   ]
  },
  {
   "cell_type": "code",
   "execution_count": 100,
   "metadata": {},
   "outputs": [
    {
     "name": "stdout",
     "output_type": "stream",
     "text": [
      "<class 'pandas.core.frame.DataFrame'>\n",
      "RangeIndex: 4245 entries, 0 to 4244\n",
      "Data columns (total 5 columns):\n",
      "Unnamed: 0                 4245 non-null int64\n",
      "facility_available_name    4245 non-null object\n",
      "place_name                 4245 non-null object\n",
      "place_id                   4245 non-null int64\n",
      "facility_id                4245 non-null int64\n",
      "dtypes: int64(3), object(2)\n",
      "memory usage: 165.9+ KB\n"
     ]
    }
   ],
   "source": [
    "jm_seoul_toilets_facility.info()"
   ]
  },
  {
   "cell_type": "code",
   "execution_count": 101,
   "metadata": {},
   "outputs": [],
   "source": [
    "zzang_facility = zzang_facility.append(jm_seoul_toilets_facility,sort=False)"
   ]
  },
  {
   "cell_type": "code",
   "execution_count": 102,
   "metadata": {},
   "outputs": [
    {
     "name": "stdout",
     "output_type": "stream",
     "text": [
      "<class 'pandas.core.frame.DataFrame'>\n",
      "Int64Index: 112251 entries, 0 to 4244\n",
      "Data columns (total 7 columns):\n",
      "Unnamed: 0                 112251 non-null int64\n",
      "facility_available_name    112251 non-null object\n",
      "facility_is_available      108006 non-null object\n",
      "place_name                 112251 non-null object\n",
      "place_id                   112251 non-null int64\n",
      "facility_id                112251 non-null int64\n",
      "index                      90402 non-null float64\n",
      "dtypes: float64(1), int64(3), object(3)\n",
      "memory usage: 6.9+ MB\n"
     ]
    }
   ],
   "source": [
    "zzang_facility.info()"
   ]
  },
  {
   "cell_type": "code",
   "execution_count": 103,
   "metadata": {},
   "outputs": [
    {
     "name": "stdout",
     "output_type": "stream",
     "text": [
      "<class 'pandas.core.frame.DataFrame'>\n",
      "RangeIndex: 674 entries, 0 to 673\n",
      "Data columns (total 6 columns):\n",
      "Unnamed: 0                 674 non-null int64\n",
      "place_name                 674 non-null object\n",
      "place_id                   674 non-null int64\n",
      "facility_available_name    674 non-null object\n",
      "facility_id                674 non-null int64\n",
      "facility_is_available      674 non-null object\n",
      "dtypes: int64(3), object(3)\n",
      "memory usage: 31.7+ KB\n"
     ]
    }
   ],
   "source": [
    "jt_subway_facility.info()"
   ]
  },
  {
   "cell_type": "code",
   "execution_count": 104,
   "metadata": {},
   "outputs": [],
   "source": [
    "zzang_facility = zzang_facility.append(jt_subway_facility,sort=False)"
   ]
  },
  {
   "cell_type": "code",
   "execution_count": 105,
   "metadata": {},
   "outputs": [
    {
     "name": "stdout",
     "output_type": "stream",
     "text": [
      "<class 'pandas.core.frame.DataFrame'>\n",
      "Int64Index: 112925 entries, 0 to 673\n",
      "Data columns (total 7 columns):\n",
      "Unnamed: 0                 112925 non-null int64\n",
      "facility_available_name    112925 non-null object\n",
      "facility_is_available      108680 non-null object\n",
      "place_name                 112925 non-null object\n",
      "place_id                   112925 non-null int64\n",
      "facility_id                112925 non-null int64\n",
      "index                      90402 non-null float64\n",
      "dtypes: float64(1), int64(3), object(3)\n",
      "memory usage: 6.9+ MB\n"
     ]
    }
   ],
   "source": [
    "zzang_facility.info()"
   ]
  },
  {
   "cell_type": "code",
   "execution_count": 106,
   "metadata": {},
   "outputs": [],
   "source": [
    "zzang_facility.drop('index' , axis=1, inplace=True)"
   ]
  },
  {
   "cell_type": "code",
   "execution_count": 107,
   "metadata": {},
   "outputs": [
    {
     "name": "stdout",
     "output_type": "stream",
     "text": [
      "<class 'pandas.core.frame.DataFrame'>\n",
      "Int64Index: 112925 entries, 0 to 673\n",
      "Data columns (total 6 columns):\n",
      "Unnamed: 0                 112925 non-null int64\n",
      "facility_available_name    112925 non-null object\n",
      "facility_is_available      108680 non-null object\n",
      "place_name                 112925 non-null object\n",
      "place_id                   112925 non-null int64\n",
      "facility_id                112925 non-null int64\n",
      "dtypes: int64(3), object(3)\n",
      "memory usage: 6.0+ MB\n"
     ]
    }
   ],
   "source": [
    "zzang_facility.info() # is_available ( 화장실 데이터에는 없었으므로 na 처리됨 )"
   ]
  },
  {
   "cell_type": "code",
   "execution_count": 108,
   "metadata": {},
   "outputs": [],
   "source": [
    "zzang_facility.drop('Unnamed: 0' , axis=1, inplace=True)"
   ]
  },
  {
   "cell_type": "code",
   "execution_count": 109,
   "metadata": {},
   "outputs": [
    {
     "name": "stdout",
     "output_type": "stream",
     "text": [
      "<class 'pandas.core.frame.DataFrame'>\n",
      "Int64Index: 112925 entries, 0 to 673\n",
      "Data columns (total 5 columns):\n",
      "facility_available_name    112925 non-null object\n",
      "facility_is_available      108680 non-null object\n",
      "place_name                 112925 non-null object\n",
      "place_id                   112925 non-null int64\n",
      "facility_id                112925 non-null int64\n",
      "dtypes: int64(2), object(3)\n",
      "memory usage: 5.2+ MB\n"
     ]
    }
   ],
   "source": [
    "zzang_facility.info()"
   ]
  },
  {
   "cell_type": "code",
   "execution_count": 110,
   "metadata": {},
   "outputs": [],
   "source": [
    "zzang_facility.reset_index(inplace=True)"
   ]
  },
  {
   "cell_type": "code",
   "execution_count": 111,
   "metadata": {},
   "outputs": [
    {
     "data": {
      "text/html": [
       "<div>\n",
       "<style scoped>\n",
       "    .dataframe tbody tr th:only-of-type {\n",
       "        vertical-align: middle;\n",
       "    }\n",
       "\n",
       "    .dataframe tbody tr th {\n",
       "        vertical-align: top;\n",
       "    }\n",
       "\n",
       "    .dataframe thead th {\n",
       "        text-align: right;\n",
       "    }\n",
       "</style>\n",
       "<table border=\"1\" class=\"dataframe\">\n",
       "  <thead>\n",
       "    <tr style=\"text-align: right;\">\n",
       "      <th></th>\n",
       "      <th>index</th>\n",
       "      <th>facility_available_name</th>\n",
       "      <th>facility_is_available</th>\n",
       "      <th>place_name</th>\n",
       "      <th>place_id</th>\n",
       "      <th>facility_id</th>\n",
       "    </tr>\n",
       "  </thead>\n",
       "  <tbody>\n",
       "    <tr>\n",
       "      <th>0</th>\n",
       "      <td>0</td>\n",
       "      <td>주출입구 접근로</td>\n",
       "      <td>이용불편</td>\n",
       "      <td>A아트홀(구.신연아트홀)</td>\n",
       "      <td>10000</td>\n",
       "      <td>100000</td>\n",
       "    </tr>\n",
       "    <tr>\n",
       "      <th>1</th>\n",
       "      <td>1</td>\n",
       "      <td>주출입구 높이차이 제거</td>\n",
       "      <td>이용가능</td>\n",
       "      <td>A아트홀(구.신연아트홀)</td>\n",
       "      <td>10000</td>\n",
       "      <td>100001</td>\n",
       "    </tr>\n",
       "    <tr>\n",
       "      <th>2</th>\n",
       "      <td>2</td>\n",
       "      <td>주출입구 접근로</td>\n",
       "      <td>이용가능</td>\n",
       "      <td>BBC씨어터</td>\n",
       "      <td>10001</td>\n",
       "      <td>100002</td>\n",
       "    </tr>\n",
       "    <tr>\n",
       "      <th>3</th>\n",
       "      <td>3</td>\n",
       "      <td>장애인 전용 주차구역</td>\n",
       "      <td>이용가능</td>\n",
       "      <td>BBC씨어터</td>\n",
       "      <td>10001</td>\n",
       "      <td>100003</td>\n",
       "    </tr>\n",
       "    <tr>\n",
       "      <th>4</th>\n",
       "      <td>4</td>\n",
       "      <td>주출입구 높이차이 제거</td>\n",
       "      <td>이용가능</td>\n",
       "      <td>BBC씨어터</td>\n",
       "      <td>10001</td>\n",
       "      <td>100004</td>\n",
       "    </tr>\n",
       "  </tbody>\n",
       "</table>\n",
       "</div>"
      ],
      "text/plain": [
       "   index facility_available_name facility_is_available     place_name  \\\n",
       "0      0                주출입구 접근로                  이용불편  A아트홀(구.신연아트홀)   \n",
       "1      1            주출입구 높이차이 제거                  이용가능  A아트홀(구.신연아트홀)   \n",
       "2      2                주출입구 접근로                  이용가능         BBC씨어터   \n",
       "3      3             장애인 전용 주차구역                  이용가능         BBC씨어터   \n",
       "4      4            주출입구 높이차이 제거                  이용가능         BBC씨어터   \n",
       "\n",
       "   place_id  facility_id  \n",
       "0     10000       100000  \n",
       "1     10000       100001  \n",
       "2     10001       100002  \n",
       "3     10001       100003  \n",
       "4     10001       100004  "
      ]
     },
     "execution_count": 111,
     "metadata": {},
     "output_type": "execute_result"
    }
   ],
   "source": [
    "zzang_facility.head()"
   ]
  },
  {
   "cell_type": "code",
   "execution_count": 112,
   "metadata": {},
   "outputs": [],
   "source": [
    "zzang_facility.drop('index' , axis=1, inplace=True)"
   ]
  },
  {
   "cell_type": "code",
   "execution_count": 113,
   "metadata": {
    "scrolled": true
   },
   "outputs": [
    {
     "data": {
      "text/html": [
       "<div>\n",
       "<style scoped>\n",
       "    .dataframe tbody tr th:only-of-type {\n",
       "        vertical-align: middle;\n",
       "    }\n",
       "\n",
       "    .dataframe tbody tr th {\n",
       "        vertical-align: top;\n",
       "    }\n",
       "\n",
       "    .dataframe thead th {\n",
       "        text-align: right;\n",
       "    }\n",
       "</style>\n",
       "<table border=\"1\" class=\"dataframe\">\n",
       "  <thead>\n",
       "    <tr style=\"text-align: right;\">\n",
       "      <th></th>\n",
       "      <th>facility_available_name</th>\n",
       "      <th>facility_is_available</th>\n",
       "      <th>place_name</th>\n",
       "      <th>place_id</th>\n",
       "      <th>facility_id</th>\n",
       "    </tr>\n",
       "  </thead>\n",
       "  <tbody>\n",
       "    <tr>\n",
       "      <th>0</th>\n",
       "      <td>주출입구 접근로</td>\n",
       "      <td>이용불편</td>\n",
       "      <td>A아트홀(구.신연아트홀)</td>\n",
       "      <td>10000</td>\n",
       "      <td>100000</td>\n",
       "    </tr>\n",
       "    <tr>\n",
       "      <th>1</th>\n",
       "      <td>주출입구 높이차이 제거</td>\n",
       "      <td>이용가능</td>\n",
       "      <td>A아트홀(구.신연아트홀)</td>\n",
       "      <td>10000</td>\n",
       "      <td>100001</td>\n",
       "    </tr>\n",
       "    <tr>\n",
       "      <th>2</th>\n",
       "      <td>주출입구 접근로</td>\n",
       "      <td>이용가능</td>\n",
       "      <td>BBC씨어터</td>\n",
       "      <td>10001</td>\n",
       "      <td>100002</td>\n",
       "    </tr>\n",
       "    <tr>\n",
       "      <th>3</th>\n",
       "      <td>장애인 전용 주차구역</td>\n",
       "      <td>이용가능</td>\n",
       "      <td>BBC씨어터</td>\n",
       "      <td>10001</td>\n",
       "      <td>100003</td>\n",
       "    </tr>\n",
       "    <tr>\n",
       "      <th>4</th>\n",
       "      <td>주출입구 높이차이 제거</td>\n",
       "      <td>이용가능</td>\n",
       "      <td>BBC씨어터</td>\n",
       "      <td>10001</td>\n",
       "      <td>100004</td>\n",
       "    </tr>\n",
       "  </tbody>\n",
       "</table>\n",
       "</div>"
      ],
      "text/plain": [
       "  facility_available_name facility_is_available     place_name  place_id  \\\n",
       "0                주출입구 접근로                  이용불편  A아트홀(구.신연아트홀)     10000   \n",
       "1            주출입구 높이차이 제거                  이용가능  A아트홀(구.신연아트홀)     10000   \n",
       "2                주출입구 접근로                  이용가능         BBC씨어터     10001   \n",
       "3             장애인 전용 주차구역                  이용가능         BBC씨어터     10001   \n",
       "4            주출입구 높이차이 제거                  이용가능         BBC씨어터     10001   \n",
       "\n",
       "   facility_id  \n",
       "0       100000  \n",
       "1       100001  \n",
       "2       100002  \n",
       "3       100003  \n",
       "4       100004  "
      ]
     },
     "execution_count": 113,
     "metadata": {},
     "output_type": "execute_result"
    }
   ],
   "source": [
    "zzang_facility.head()"
   ]
  },
  {
   "cell_type": "code",
   "execution_count": 114,
   "metadata": {},
   "outputs": [
    {
     "data": {
      "text/html": [
       "<div>\n",
       "<style scoped>\n",
       "    .dataframe tbody tr th:only-of-type {\n",
       "        vertical-align: middle;\n",
       "    }\n",
       "\n",
       "    .dataframe tbody tr th {\n",
       "        vertical-align: top;\n",
       "    }\n",
       "\n",
       "    .dataframe thead th {\n",
       "        text-align: right;\n",
       "    }\n",
       "</style>\n",
       "<table border=\"1\" class=\"dataframe\">\n",
       "  <thead>\n",
       "    <tr style=\"text-align: right;\">\n",
       "      <th></th>\n",
       "      <th>facility_available_name</th>\n",
       "      <th>facility_is_available</th>\n",
       "      <th>place_name</th>\n",
       "      <th>place_id</th>\n",
       "      <th>facility_id</th>\n",
       "    </tr>\n",
       "  </thead>\n",
       "  <tbody>\n",
       "    <tr>\n",
       "      <th>112920</th>\n",
       "      <td>화장실</td>\n",
       "      <td>이용가능</td>\n",
       "      <td>회현</td>\n",
       "      <td>322</td>\n",
       "      <td>900669</td>\n",
       "    </tr>\n",
       "    <tr>\n",
       "      <th>112921</th>\n",
       "      <td>화장실</td>\n",
       "      <td>이용가능</td>\n",
       "      <td>효창공원앞</td>\n",
       "      <td>323</td>\n",
       "      <td>900670</td>\n",
       "    </tr>\n",
       "    <tr>\n",
       "      <th>112922</th>\n",
       "      <td>엘리베이터</td>\n",
       "      <td>이용가능</td>\n",
       "      <td>효창공원앞</td>\n",
       "      <td>323</td>\n",
       "      <td>900671</td>\n",
       "    </tr>\n",
       "    <tr>\n",
       "      <th>112923</th>\n",
       "      <td>에스켈레이터</td>\n",
       "      <td>이용가능</td>\n",
       "      <td>효창공원앞</td>\n",
       "      <td>323</td>\n",
       "      <td>900672</td>\n",
       "    </tr>\n",
       "    <tr>\n",
       "      <th>112924</th>\n",
       "      <td>휠체어리프트</td>\n",
       "      <td>이용가능</td>\n",
       "      <td>효창공원앞</td>\n",
       "      <td>323</td>\n",
       "      <td>900673</td>\n",
       "    </tr>\n",
       "  </tbody>\n",
       "</table>\n",
       "</div>"
      ],
      "text/plain": [
       "       facility_available_name facility_is_available place_name  place_id  \\\n",
       "112920                     화장실                  이용가능         회현       322   \n",
       "112921                     화장실                  이용가능      효창공원앞       323   \n",
       "112922                   엘리베이터                  이용가능      효창공원앞       323   \n",
       "112923                  에스켈레이터                  이용가능      효창공원앞       323   \n",
       "112924                  휠체어리프트                  이용가능      효창공원앞       323   \n",
       "\n",
       "        facility_id  \n",
       "112920       900669  \n",
       "112921       900670  \n",
       "112922       900671  \n",
       "112923       900672  \n",
       "112924       900673  "
      ]
     },
     "execution_count": 114,
     "metadata": {},
     "output_type": "execute_result"
    }
   ],
   "source": [
    "zzang_facility.tail()"
   ]
  },
  {
   "cell_type": "code",
   "execution_count": 115,
   "metadata": {},
   "outputs": [],
   "source": [
    "zzang_facility.to_csv('ZZANG/ZZANG_FACILITY.csv')"
   ]
  },
  {
   "cell_type": "markdown",
   "metadata": {},
   "source": [
    "# FACILITY 합  #3번 테이블 (YJ온리)"
   ]
  },
  {
   "cell_type": "code",
   "execution_count": 116,
   "metadata": {},
   "outputs": [
    {
     "name": "stdout",
     "output_type": "stream",
     "text": [
      "<class 'pandas.core.frame.DataFrame'>\n",
      "RangeIndex: 83653 entries, 0 to 83652\n",
      "Data columns (total 4 columns):\n",
      "Unnamed: 0                 83653 non-null int64\n",
      "facility_detail_info       83653 non-null object\n",
      "facility_available_name    83653 non-null object\n",
      "facility_id                83653 non-null int64\n",
      "dtypes: int64(2), object(2)\n",
      "memory usage: 2.6+ MB\n"
     ]
    }
   ],
   "source": [
    "yj_total_place_facility_detail_info.info()"
   ]
  },
  {
   "cell_type": "code",
   "execution_count": 117,
   "metadata": {},
   "outputs": [
    {
     "data": {
      "text/html": [
       "<div>\n",
       "<style scoped>\n",
       "    .dataframe tbody tr th:only-of-type {\n",
       "        vertical-align: middle;\n",
       "    }\n",
       "\n",
       "    .dataframe tbody tr th {\n",
       "        vertical-align: top;\n",
       "    }\n",
       "\n",
       "    .dataframe thead th {\n",
       "        text-align: right;\n",
       "    }\n",
       "</style>\n",
       "<table border=\"1\" class=\"dataframe\">\n",
       "  <thead>\n",
       "    <tr style=\"text-align: right;\">\n",
       "      <th></th>\n",
       "      <th>Unnamed: 0</th>\n",
       "      <th>facility_detail_info</th>\n",
       "      <th>facility_available_name</th>\n",
       "      <th>facility_id</th>\n",
       "    </tr>\n",
       "  </thead>\n",
       "  <tbody>\n",
       "    <tr>\n",
       "      <th>83648</th>\n",
       "      <td>83648</td>\n",
       "      <td>상세정보 없음</td>\n",
       "      <td>주출입구 접근로</td>\n",
       "      <td>117601</td>\n",
       "    </tr>\n",
       "    <tr>\n",
       "      <th>83649</th>\n",
       "      <td>83649</td>\n",
       "      <td>총주차대수8</td>\n",
       "      <td>장애인 전용 주차구역</td>\n",
       "      <td>117602</td>\n",
       "    </tr>\n",
       "    <tr>\n",
       "      <th>83650</th>\n",
       "      <td>83650</td>\n",
       "      <td>전용주차대수  1</td>\n",
       "      <td>장애인 전용 주차구역</td>\n",
       "      <td>117602</td>\n",
       "    </tr>\n",
       "    <tr>\n",
       "      <th>83651</th>\n",
       "      <td>83651</td>\n",
       "      <td>경사로 1/12초과 설치</td>\n",
       "      <td>주출입구 높이차이 제거</td>\n",
       "      <td>117603</td>\n",
       "    </tr>\n",
       "    <tr>\n",
       "      <th>83652</th>\n",
       "      <td>83652</td>\n",
       "      <td>유효폭 1.2m 이상</td>\n",
       "      <td>주출입구 높이차이 제거</td>\n",
       "      <td>117603</td>\n",
       "    </tr>\n",
       "  </tbody>\n",
       "</table>\n",
       "</div>"
      ],
      "text/plain": [
       "       Unnamed: 0 facility_detail_info facility_available_name  facility_id\n",
       "83648       83648              상세정보 없음                주출입구 접근로       117601\n",
       "83649       83649               총주차대수8             장애인 전용 주차구역       117602\n",
       "83650       83650            전용주차대수  1             장애인 전용 주차구역       117602\n",
       "83651       83651        경사로 1/12초과 설치            주출입구 높이차이 제거       117603\n",
       "83652       83652          유효폭 1.2m 이상            주출입구 높이차이 제거       117603"
      ]
     },
     "execution_count": 117,
     "metadata": {},
     "output_type": "execute_result"
    }
   ],
   "source": [
    "yj_total_place_facility_detail_info.tail()"
   ]
  },
  {
   "cell_type": "code",
   "execution_count": 118,
   "metadata": {},
   "outputs": [],
   "source": [
    "yj_total_place_facility_detail_info.drop('Unnamed: 0' , axis=1, inplace=True)"
   ]
  },
  {
   "cell_type": "code",
   "execution_count": 119,
   "metadata": {},
   "outputs": [
    {
     "data": {
      "text/html": [
       "<div>\n",
       "<style scoped>\n",
       "    .dataframe tbody tr th:only-of-type {\n",
       "        vertical-align: middle;\n",
       "    }\n",
       "\n",
       "    .dataframe tbody tr th {\n",
       "        vertical-align: top;\n",
       "    }\n",
       "\n",
       "    .dataframe thead th {\n",
       "        text-align: right;\n",
       "    }\n",
       "</style>\n",
       "<table border=\"1\" class=\"dataframe\">\n",
       "  <thead>\n",
       "    <tr style=\"text-align: right;\">\n",
       "      <th></th>\n",
       "      <th>facility_detail_info</th>\n",
       "      <th>facility_available_name</th>\n",
       "      <th>facility_id</th>\n",
       "    </tr>\n",
       "  </thead>\n",
       "  <tbody>\n",
       "    <tr>\n",
       "      <th>0</th>\n",
       "      <td>평탄함</td>\n",
       "      <td>주출입구 접근로</td>\n",
       "      <td>100000</td>\n",
       "    </tr>\n",
       "    <tr>\n",
       "      <th>1</th>\n",
       "      <td>단차없음</td>\n",
       "      <td>주출입구 접근로</td>\n",
       "      <td>100000</td>\n",
       "    </tr>\n",
       "    <tr>\n",
       "      <th>2</th>\n",
       "      <td>기울기 1/18~1/12이하</td>\n",
       "      <td>주출입구 접근로</td>\n",
       "      <td>100000</td>\n",
       "    </tr>\n",
       "    <tr>\n",
       "      <th>3</th>\n",
       "      <td>보/차도 구분</td>\n",
       "      <td>주출입구 접근로</td>\n",
       "      <td>100000</td>\n",
       "    </tr>\n",
       "    <tr>\n",
       "      <th>4</th>\n",
       "      <td>상세정보 없음</td>\n",
       "      <td>주출입구 높이차이 제거</td>\n",
       "      <td>100001</td>\n",
       "    </tr>\n",
       "  </tbody>\n",
       "</table>\n",
       "</div>"
      ],
      "text/plain": [
       "  facility_detail_info facility_available_name  facility_id\n",
       "0                  평탄함                주출입구 접근로       100000\n",
       "1                 단차없음                주출입구 접근로       100000\n",
       "2      기울기 1/18~1/12이하                주출입구 접근로       100000\n",
       "3              보/차도 구분                주출입구 접근로       100000\n",
       "4              상세정보 없음            주출입구 높이차이 제거       100001"
      ]
     },
     "execution_count": 119,
     "metadata": {},
     "output_type": "execute_result"
    }
   ],
   "source": [
    "yj_total_place_facility_detail_info.head()"
   ]
  },
  {
   "cell_type": "code",
   "execution_count": 120,
   "metadata": {},
   "outputs": [],
   "source": [
    "yj_total_place_facility_detail_info.to_csv('ZZANG/ZZANG_FACILITY_INFO_BUT_ONLY_YJS.csv')"
   ]
  },
  {
   "cell_type": "code",
   "execution_count": null,
   "metadata": {},
   "outputs": [],
   "source": []
  }
 ],
 "metadata": {
  "kernelspec": {
   "display_name": "Python 3",
   "language": "python",
   "name": "python3"
  },
  "language_info": {
   "codemirror_mode": {
    "name": "ipython",
    "version": 3
   },
   "file_extension": ".py",
   "mimetype": "text/x-python",
   "name": "python",
   "nbconvert_exporter": "python",
   "pygments_lexer": "ipython3",
   "version": "3.6.5"
  }
 },
 "nbformat": 4,
 "nbformat_minor": 2
}
